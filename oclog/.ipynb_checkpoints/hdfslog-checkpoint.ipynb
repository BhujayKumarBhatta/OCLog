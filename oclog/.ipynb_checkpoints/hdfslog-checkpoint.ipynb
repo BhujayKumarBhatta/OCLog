{
 "cells": [
  {
   "cell_type": "code",
   "execution_count": 3,
   "id": "5f4d99ce-e253-43ef-bdc1-7b6a1943098c",
   "metadata": {},
   "outputs": [],
   "source": [
    "import tensorflow as tf"
   ]
  },
  {
   "cell_type": "code",
   "execution_count": 5,
   "id": "d7a0037d-6380-4449-b37b-44c9a4ead199",
   "metadata": {},
   "outputs": [],
   "source": [
    "from batched_logdata import HDFSLogGen"
   ]
  },
  {
   "cell_type": "code",
   "execution_count": 6,
   "id": "492e41c4-72e4-487c-9658-29fb600e2da9",
   "metadata": {},
   "outputs": [],
   "source": [
    "hdfsdata = HDFSLogGen()       "
   ]
  },
  {
   "cell_type": "code",
   "execution_count": 7,
   "id": "7835996b-d27b-4b9f-96f3-2be19bcb0bd1",
   "metadata": {},
   "outputs": [
    {
     "name": "stdout",
     "output_type": "stream",
     "text": [
      "total number of lines in the log file: 11175629\n",
      "completed:  0\n",
      "ending blk sequencing: 0.0\n",
      "completed:  1000000\n",
      "ending blk sequencing: 2.265700578689575\n",
      "completed:  2000000\n",
      "ending blk sequencing: 3.96976375579834\n",
      "completed:  3000000\n",
      "ending blk sequencing: 6.127422332763672\n",
      "completed:  4000000\n",
      "ending blk sequencing: 8.223824501037598\n",
      "completed:  5000000\n",
      "ending blk sequencing: 10.021652221679688\n",
      "completed:  6000000\n",
      "ending blk sequencing: 11.779910564422607\n",
      "completed:  7000000\n",
      "ending blk sequencing: 13.94829797744751\n",
      "completed:  8000000\n",
      "ending blk sequencing: 15.754077196121216\n",
      "completed:  9000000\n",
      "ending blk sequencing: 17.98462700843811\n",
      "completed:  10000000\n",
      "ending blk sequencing: 19.776254653930664\n",
      "completed:  11000000\n",
      "ending blk sequencing: 22.092203855514526\n"
     ]
    }
   ],
   "source": [
    "logs = hdfsdata.get_sequence_byid_with_label()"
   ]
  },
  {
   "cell_type": "code",
   "execution_count": 8,
   "id": "1cb1e78b-4831-48da-9aea-0873804cb292",
   "metadata": {},
   "outputs": [],
   "source": [
    "seq = [v[0] for v in logs.values()]\n",
    "label = [v[1] for v in logs.values()]"
   ]
  },
  {
   "cell_type": "code",
   "execution_count": 13,
   "id": "10a6c1bb-1514-401e-a61c-872e880168c8",
   "metadata": {},
   "outputs": [
    {
     "name": "stdout",
     "output_type": "stream",
     "text": [
      "269\n",
      "22\n",
      "223\n",
      "22\n",
      "38\n"
     ]
    }
   ],
   "source": [
    "for s in seq[:5]:\n",
    "    print(len(s))"
   ]
  },
  {
   "cell_type": "code",
   "execution_count": 69,
   "id": "77ff5f45-043e-4d0a-98b9-f714f9ecd683",
   "metadata": {},
   "outputs": [
    {
     "name": "stdout",
     "output_type": "stream",
     "text": [
      "269\n",
      "22\n",
      "223\n"
     ]
    }
   ],
   "source": [
    "elems = seq[:3]\n",
    "for i in elems:\n",
    "    print(len(i))"
   ]
  },
  {
   "cell_type": "code",
   "execution_count": 73,
   "id": "792e7d6e-26f4-4515-bce1-ec604af4a3ee",
   "metadata": {},
   "outputs": [
    {
     "data": {
      "text/plain": [
       "['081109 203520 142 info dfs.datanode$dataxceiver: receiving block blk_7503483334202473044 src: /10.251.215.16:55695 dest: /10.251.215.16:50010',\n",
       " '081109 203520 145 info dfs.datanode$dataxceiver: receiving block blk_7503483334202473044 src: /10.250.19.102:34232 dest: /10.250.19.102:50010',\n",
       " '081109 203520 26 info dfs.fsnamesystem: block* namesystem.allocateblock: /mnt/hadoop/mapred/system/job_200811092030_0001/job.split. blk_7503483334202473044',\n",
       " '081109 203521 144 info dfs.datanode$dataxceiver: receiving block blk_7503483334202473044 src: /10.251.71.16:51590 dest: /10.251.71.16:50010',\n",
       " '081109 203521 145 info dfs.datanode$packetresponder: packetresponder 1 for block blk_7503483334202473044 terminating',\n",
       " '081109 203521 145 info dfs.datanode$packetresponder: received block blk_7503483334202473044 of size 233217 from /10.251.215.16',\n",
       " '081109 203521 146 info dfs.datanode$packetresponder: packetresponder 0 for block blk_7503483334202473044 terminating',\n",
       " '081109 203521 146 info dfs.datanode$packetresponder: received block blk_7503483334202473044 of size 233217 from /10.251.71.16',\n",
       " '081109 203521 148 info dfs.datanode$packetresponder: packetresponder 2 for block blk_7503483334202473044 terminating',\n",
       " '081109 203521 148 info dfs.datanode$packetresponder: received block blk_7503483334202473044 of size 233217 from /10.250.19.102',\n",
       " '081109 203521 27 info dfs.fsnamesystem: block* namesystem.addstoredblock: blockmap updated: 10.251.106.10:50010 is added to blk_7503483334202473044 size 233217',\n",
       " '081109 203521 33 info dfs.fsnamesystem: block* namesystem.addstoredblock: blockmap updated: 10.251.215.16:50010 is added to blk_7503483334202473044 size 233217',\n",
       " '081109 203521 35 info dfs.fsnamesystem: block* namesystem.addstoredblock: blockmap updated: 10.251.71.16:50010 is added to blk_7503483334202473044 size 233217',\n",
       " '081109 203525 150 info dfs.datanode$dataxceiver: 10.251.215.16:50010 served block blk_7503483334202473044 to /10.250.19.102',\n",
       " '081109 204003 13 info dfs.datablockscanner: verification succeeded for blk_7503483334202473044',\n",
       " '081109 204725 13 info dfs.datablockscanner: verification succeeded for blk_7503483334202473044',\n",
       " '081109 213809 32 info dfs.fsnamesystem: block* namesystem.delete: blk_7503483334202473044 is added to invalidset of 10.251.106.10:50010',\n",
       " '081109 213809 32 info dfs.fsnamesystem: block* namesystem.delete: blk_7503483334202473044 is added to invalidset of 10.251.215.16:50010',\n",
       " '081109 213809 32 info dfs.fsnamesystem: block* namesystem.delete: blk_7503483334202473044 is added to invalidset of 10.251.71.16:50010',\n",
       " '081109 213840 19 info dfs.fsdataset: deleting block blk_7503483334202473044 file /mnt/hadoop/dfs/data/current/blk_7503483334202473044',\n",
       " '081109 213840 19 info dfs.fsdataset: deleting block blk_7503483334202473044 file /mnt/hadoop/dfs/data/current/blk_7503483334202473044',\n",
       " '081109 213842 19 info dfs.fsdataset: deleting block blk_7503483334202473044 file /mnt/hadoop/dfs/data/current/blk_7503483334202473044']"
      ]
     },
     "execution_count": 73,
     "metadata": {},
     "output_type": "execute_result"
    }
   ],
   "source": [
    "seq[1]"
   ]
  },
  {
   "cell_type": "code",
   "execution_count": 76,
   "id": "37ca76f2-3b32-43ec-93c9-47ea047ee1fe",
   "metadata": {},
   "outputs": [],
   "source": [
    "tflogs = tf.data.Dataset.from_generator(lambda: elems, tf.string )"
   ]
  },
  {
   "cell_type": "code",
   "execution_count": 71,
   "id": "b8ac7459-abf0-44d2-98e9-ca1595409bcf",
   "metadata": {},
   "outputs": [
    {
     "data": {
      "text/plain": [
       "<FlatMapDataset shapes: (None,), types: tf.string>"
      ]
     },
     "execution_count": 71,
     "metadata": {},
     "output_type": "execute_result"
    }
   ],
   "source": [
    "tflogs"
   ]
  },
  {
   "cell_type": "code",
   "execution_count": 78,
   "id": "dd825eaa-584a-4186-bd72-866799b3105e",
   "metadata": {},
   "outputs": [
    {
     "name": "stdout",
     "output_type": "stream",
     "text": [
      "tf.Tensor(b'081109 203518 143 info dfs.datanode$dataxceiver: receiving block blk_-1608999687919862906 src: /10.250.19.102:54106 dest: /10.250.19.102:50010', shape=(), dtype=string)\n",
      "tf.Tensor(b'081109 203520 142 info dfs.datanode$dataxceiver: receiving block blk_7503483334202473044 src: /10.251.215.16:55695 dest: /10.251.215.16:50010', shape=(), dtype=string)\n",
      "tf.Tensor(b'081109 203521 145 info dfs.datanode$dataxceiver: receiving block blk_-3544583377289625738 src: /10.250.19.102:39325 dest: /10.250.19.102:50010', shape=(), dtype=string)\n"
     ]
    }
   ],
   "source": [
    "for i in tflogs:\n",
    "    print(i[0])"
   ]
  },
  {
   "cell_type": "code",
   "execution_count": 79,
   "id": "cdb55a6e-8a12-4a3c-80a6-d573309aecb8",
   "metadata": {},
   "outputs": [],
   "source": [
    "ragged_tensor_seq = tf.ragged.constant(seq[:2])"
   ]
  },
  {
   "cell_type": "code",
   "execution_count": 80,
   "id": "cf68be68-00b0-42a3-b0e7-8a56ee6b931e",
   "metadata": {},
   "outputs": [
    {
     "data": {
      "text/plain": [
       "TensorShape([2, None])"
      ]
     },
     "execution_count": 80,
     "metadata": {},
     "output_type": "execute_result"
    }
   ],
   "source": [
    "ragged_tensor_seq.shape"
   ]
  },
  {
   "cell_type": "code",
   "execution_count": 81,
   "id": "bb04a91b-d362-4d28-a229-bf38c22cc016",
   "metadata": {},
   "outputs": [],
   "source": [
    "tensor_label = tf.constant(label[:2])"
   ]
  },
  {
   "cell_type": "code",
   "execution_count": 82,
   "id": "23b9837e-2ae3-4d0a-b911-80ff4971f66e",
   "metadata": {},
   "outputs": [
    {
     "data": {
      "text/plain": [
       "TensorShape([2])"
      ]
     },
     "execution_count": 82,
     "metadata": {},
     "output_type": "execute_result"
    }
   ],
   "source": [
    "tensor_label.shape"
   ]
  },
  {
   "cell_type": "code",
   "execution_count": 93,
   "id": "0e0b7edf-e889-4013-b82a-28105f8ffe56",
   "metadata": {},
   "outputs": [],
   "source": [
    "d = tf.data.Dataset.from_tensor_slices(ragged_tensor_seq)"
   ]
  },
  {
   "cell_type": "code",
   "execution_count": 96,
   "id": "e3666a5c-64e1-43f2-a07e-ef8660bc1ef4",
   "metadata": {},
   "outputs": [
    {
     "name": "stdout",
     "output_type": "stream",
     "text": [
      "(269,)\n",
      "(22,)\n"
     ]
    }
   ],
   "source": [
    "d."
   ]
  }
 ],
 "metadata": {
  "kernelspec": {
   "display_name": "Python 3 (ipykernel)",
   "language": "python",
   "name": "python3"
  },
  "language_info": {
   "codemirror_mode": {
    "name": "ipython",
    "version": 3
   },
   "file_extension": ".py",
   "mimetype": "text/x-python",
   "name": "python",
   "nbconvert_exporter": "python",
   "pygments_lexer": "ipython3",
   "version": "3.8.12"
  }
 },
 "nbformat": 4,
 "nbformat_minor": 5
}
