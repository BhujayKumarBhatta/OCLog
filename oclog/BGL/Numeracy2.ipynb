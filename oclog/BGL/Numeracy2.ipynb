{
 "cells": [
  {
   "cell_type": "code",
   "execution_count": 2,
   "id": "19952738-aca2-46d8-8a18-4739f96bcaf4",
   "metadata": {},
   "outputs": [],
   "source": [
    "import os, sys\n",
    "cur_dir = os.getcwd()\n",
    "basename = os.path.basename(cur_dir)\n",
    "for _ in range(5):\n",
    "    if basename != 'OCLog':\n",
    "        cur_dir = os.path.dirname(cur_dir)\n",
    "        basename = os.path.basename(cur_dir)\n",
    "        #print(cur_dir, basename)\n",
    "    else:\n",
    "        if cur_dir not in sys.path:\n",
    "            sys.path.append(cur_dir)\n",
    "            #print(sys.path)"
   ]
  },
  {
   "cell_type": "code",
   "execution_count": 3,
   "id": "3122c38b-e8ac-4fbe-8f54-655c84f4d079",
   "metadata": {},
   "outputs": [],
   "source": [
    "import pandas as pd\n",
    "import numpy as np\n",
    "import matplotlib.pyplot as plt\n",
    "import seaborn as sns\n",
    "import tensorflow as tf\n",
    "from tqdm import trange, tqdm, tnrange\n",
    "from oclog.BGL.bgUKCNum import BGLog, get_embedding_layer\n",
    "from oclog.openset.boundary_loss import euclidean_metric, BoundaryLoss\n",
    "from oclog.openset.pretraining import LogLineEncoder, LogSeqEncoder, LogClassifier\n",
    "# from oclog.openset.openset import OpenSet\n",
    "from oclog.openset.opensetv6 import OpenSet\n",
    "from sklearn.metrics import confusion_matrix, f1_score, accuracy_score\n",
    "import sklearn.metrics as m\n",
    "import warnings"
   ]
  },
  {
   "cell_type": "code",
   "execution_count": 6,
   "id": "ab4b50b8-3523-470b-92b1-d2088f9554a6",
   "metadata": {},
   "outputs": [],
   "source": [
    "# #KERNSTOR 1118765464 2005.06.14 R02-M1-N7-C:J09-U01 2005-06-14-09.11.04.290239 R02-M1-N7-C:J09-U01 RAS KERNEL FATAL data storage interrupt\n",
    "# bglog = BGLog(padded_char_len=128, clean_part_1=False, clean_part_2=False, clean_time_1=False, clean_part_4=False, \n",
    "#             clean_time_2=False,clean_part_6=False, debug=True, pkl_file='bgl_ukc_num.pkl',\n",
    "#              tk_file='bgl_tk_num.pkl', save_padded_num_sequences=True, load_from_pkl=False)\n",
    "# train_test = bglog.get_tensor_train_val_test(ablation=500, designated_ukc_cls=5 )\n",
    "# train_data, val_data, test_data = train_test"
   ]
  },
  {
   "cell_type": "code",
   "execution_count": 5,
   "id": "5e12d767-f180-4498-8e74-784c1a8efccd",
   "metadata": {},
   "outputs": [],
   "source": [
    "# train_test = bglog.get_tensor_train_val_test(ablation=500, designated_ukc_cls=5 )\n",
    "# train_data, val_data, test_data = train_test"
   ]
  },
  {
   "cell_type": "code",
   "execution_count": 1,
   "id": "8f185438-6381-4953-a9b1-849e962a292e",
   "metadata": {},
   "outputs": [],
   "source": [
    "# bglog.cleaned_labelled_sequences"
   ]
  },
  {
   "cell_type": "code",
   "execution_count": 8,
   "id": "a68bd8b4-1dd1-4d15-aed8-a3904896061d",
   "metadata": {},
   "outputs": [
    {
     "name": "stdout",
     "output_type": "stream",
     "text": [
      "177\n"
     ]
    }
   ],
   "source": [
    "fstr='111795305820050604r25m0n0ij18u0120050604233058910314r25m0n0ij18u01rasappfatalcioderrorloadinghomestreitzsrcddcmd1111binddcmdbglvinvalidormissingprogramimagenosuchfileordirectory'\n",
    "print(len(fstr))"
   ]
  },
  {
   "cell_type": "code",
   "execution_count": 7,
   "id": "943a583a-9bcc-4900-91b3-5dce93b111f9",
   "metadata": {},
   "outputs": [],
   "source": [
    "# line_encoder = LogLineEncoder(bglog, chars_in_line=)\n",
    "# logSeqencer =  LogSeqEncoder(line_in_seq=32, dense_neurons=10)\n",
    "# ptmodel = LogClassifier(line_encoder=line_encoder, seq_encoder=logSeqencer, num_classes=5)\n",
    "# ptmodel.compile(optimizer='adam', loss='categorical_crossentropy',\n",
    "#               metrics=['accuracy', tf.keras.metrics.Precision(), tf.keras.metrics.Recall()])\n",
    "# hist = ptmodel.fit(train_data, validation_data=val_data, epochs=10)    "
   ]
  },
  {
   "cell_type": "code",
   "execution_count": 9,
   "id": "518f5f0a-6a7f-4e83-a0a0-c3cc073e041a",
   "metadata": {},
   "outputs": [
    {
     "name": "stdout",
     "output_type": "stream",
     "text": [
      "ablation set to : 2000\n",
      "log file path found:  True\n",
      "total number of lines in the log file: 4747963\n",
      "RAM usage:  39064728\n",
      "ending logs in memory: 0.9977490901947021\n",
      "alerts 4747963\n",
      "unique_alerts: {'0x00544eb8,', 'microseconds', 'FAILURE', 'Kill', 'single', 'FATAL', 'ERROR', 'INFO', 'WARNING', 'SEVERE'}\n",
      "length of list of sequence 148373\n",
      "elapsed time: 2.0715842247009277\n",
      "len of whole_text_for_training 4747936\n",
      "character vocabulary 50\n",
      "len of numseq:  148373\n",
      "                                                 seq label\n",
      "0  [[3, 3, 3, 15, 19, 11, 19, 8, 15, 2, 5, 2, 2, ...  INFO\n",
      "1  [[3, 3, 3, 15, 19, 11, 19, 8, 15, 8, 5, 2, 2, ...  INFO\n",
      "2  [[3, 3, 3, 15, 19, 11, 19, 8, 19, 2, 5, 2, 2, ...  INFO\n",
      "3  [[3, 3, 3, 15, 19, 11, 19, 8, 19, 14, 5, 2, 2,...  INFO\n",
      "4  [[3, 3, 3, 15, 19, 11, 19, 8, 22, 15, 5, 2, 2,...  INFO\n",
      "0    114115\n",
      "1     28439\n",
      "2      4049\n",
      "3       902\n",
      "4       628\n",
      "5       165\n",
      "6        75\n",
      "Name: label, dtype: int64\n",
      "completed padding sequences in 375.17990136146545 sec\n",
      "trying to save pickle in : C:\\Users\\Bhujay_ROG\\MyDev\\OCLog\\oclog\\BGL\\data\\bgl_ukc_200.pkl\n",
      "saved: C:\\Users\\Bhujay_ROG\\MyDev\\OCLog\\oclog\\BGL\\data\\bgl_ukc_200.pkl\n",
      "saved: C:\\Users\\Bhujay_ROG\\MyDev\\OCLog\\oclog\\BGL\\data\\bgl_tk_200.pkl\n",
      "train_0:, 1600, val_0:, 200, test_0:, 200, train_1:, 1600, val_1:, 200, test_1:, 200, train_2:, 1600, val_2:, 200, test_2:, 200, 902 data in class 3 not enough to split into train:1600 and validation:200, adding the entire data as ukc\n",
      "628 data in class 4 not enough to split into train:1600 and validation:200, adding the entire data as ukc\n",
      "class 5 is added as ukc\n",
      "ukc_5:, 165\n",
      "75 data in class 6 not enough to split into train:1600 and validation:200, adding the entire data as ukc\n",
      "train: 0    1600\n",
      "1    1600\n",
      "2    1600\n",
      "Name: label, dtype: int64\n",
      "val: 0    200\n",
      "1    200\n",
      "2    200\n",
      "Name: label, dtype: int64\n",
      "test: 0    200\n",
      "1    200\n",
      "2    200\n",
      "5    165\n",
      "Name: label, dtype: int64\n",
      "test df 0    200\n",
      "1    200\n",
      "2    200\n",
      "3    165\n",
      "Name: label, dtype: int64\n",
      "some example of labels:\n",
      "[[1. 0. 0.]\n",
      " [1. 0. 0.]]\n",
      "[[1. 0. 0. 0. 0. 0.]\n",
      " [1. 0. 0. 0. 0. 0.]]\n",
      "[[1. 0. 0.]\n",
      " [1. 0. 0.]]\n",
      "train_data <BatchDataset element_spec=(TensorSpec(shape=(32, 32, 200), dtype=tf.int32, name=None), TensorSpec(shape=(32, 3), dtype=tf.float32, name=None))>\n",
      "val_data <BatchDataset element_spec=(TensorSpec(shape=(32, 32, 200), dtype=tf.int32, name=None), TensorSpec(shape=(32, 3), dtype=tf.float32, name=None))>\n",
      "test_data <BatchDataset element_spec=(TensorSpec(shape=(32, 32, 200), dtype=tf.int32, name=None), TensorSpec(shape=(32, 6), dtype=tf.float32, name=None))>\n",
      "char in lines, train_data.element_spec[0].shape[2] 200\n",
      "num classes, train_data.element_spec[1].shape[1]:  3\n",
      "length of val_data: 18\n",
      "length of train_data - (num_seq_per_cls * num_class)// batch size: 150\n"
     ]
    }
   ],
   "source": [
    "#KERNSTOR 1118765464 2005.06.14 R02-M1-N7-C:J09-U01 2005-06-14-09.11.04.290239 R02-M1-N7-C:J09-U01 RAS KERNEL FATAL data storage interrupt\n",
    "padded_char_len=200\n",
    "bglog = BGLog(padded_char_len=padded_char_len, clean_part_1=False, clean_part_2=False, clean_time_1=False, clean_part_4=False, \n",
    "            clean_time_2=False,clean_part_6=False, debug=True, pkl_file='bgl_ukc_200.pkl',\n",
    "             tk_file='bgl_tk_200.pkl', save_padded_num_sequences=True, load_from_pkl=False)\n",
    "train_test = bglog.get_tensor_train_val_test(ablation=2000, designated_ukc_cls=5 )\n",
    "train_data, val_data, test_data = train_test"
   ]
  },
  {
   "cell_type": "code",
   "execution_count": 11,
   "id": "7151cfef-ffa2-49c1-a92a-aa9cda623370",
   "metadata": {},
   "outputs": [
    {
     "name": "stdout",
     "output_type": "stream",
     "text": [
      "vocab_size: 50\n",
      "Epoch 1/20\n",
      "150/150 [==============================] - 42s 273ms/step - loss: 0.1175 - accuracy: 0.9625 - precision_1: 0.9859 - recall_1: 0.9292 - val_loss: 6.4114e-04 - val_accuracy: 1.0000 - val_precision_1: 1.0000 - val_recall_1: 1.0000\n",
      "Epoch 2/20\n",
      "150/150 [==============================] - 41s 271ms/step - loss: 0.0022 - accuracy: 0.9994 - precision_1: 0.9996 - recall_1: 0.9992 - val_loss: 4.6000e-04 - val_accuracy: 1.0000 - val_precision_1: 1.0000 - val_recall_1: 1.0000\n",
      "Epoch 3/20\n",
      "150/150 [==============================] - 42s 277ms/step - loss: 6.8960e-04 - accuracy: 0.9998 - precision_1: 0.9998 - recall_1: 0.9998 - val_loss: 2.3158e-04 - val_accuracy: 1.0000 - val_precision_1: 1.0000 - val_recall_1: 1.0000\n",
      "Epoch 4/20\n",
      "150/150 [==============================] - 41s 273ms/step - loss: 9.1302e-05 - accuracy: 1.0000 - precision_1: 1.0000 - recall_1: 1.0000 - val_loss: 8.5155e-05 - val_accuracy: 1.0000 - val_precision_1: 1.0000 - val_recall_1: 1.0000\n",
      "Epoch 5/20\n",
      "150/150 [==============================] - 41s 271ms/step - loss: 3.4341e-05 - accuracy: 1.0000 - precision_1: 1.0000 - recall_1: 1.0000 - val_loss: 3.2400e-05 - val_accuracy: 1.0000 - val_precision_1: 1.0000 - val_recall_1: 1.0000\n",
      "Epoch 6/20\n",
      "150/150 [==============================] - 41s 273ms/step - loss: 1.6786e-05 - accuracy: 1.0000 - precision_1: 1.0000 - recall_1: 1.0000 - val_loss: 2.0611e-05 - val_accuracy: 1.0000 - val_precision_1: 1.0000 - val_recall_1: 1.0000\n",
      "Epoch 7/20\n",
      "150/150 [==============================] - 41s 272ms/step - loss: 1.1022e-05 - accuracy: 1.0000 - precision_1: 1.0000 - recall_1: 1.0000 - val_loss: 2.0835e-05 - val_accuracy: 1.0000 - val_precision_1: 1.0000 - val_recall_1: 1.0000\n",
      "Epoch 8/20\n",
      "150/150 [==============================] - 41s 271ms/step - loss: 9.4522e-06 - accuracy: 1.0000 - precision_1: 1.0000 - recall_1: 1.0000 - val_loss: 1.7189e-05 - val_accuracy: 1.0000 - val_precision_1: 1.0000 - val_recall_1: 1.0000\n",
      "Epoch 9/20\n",
      "150/150 [==============================] - 42s 277ms/step - loss: 7.8362e-06 - accuracy: 1.0000 - precision_1: 1.0000 - recall_1: 1.0000 - val_loss: 1.4990e-05 - val_accuracy: 1.0000 - val_precision_1: 1.0000 - val_recall_1: 1.0000\n",
      "Epoch 10/20\n",
      "150/150 [==============================] - 42s 277ms/step - loss: 6.7469e-06 - accuracy: 1.0000 - precision_1: 1.0000 - recall_1: 1.0000 - val_loss: 1.3441e-05 - val_accuracy: 1.0000 - val_precision_1: 1.0000 - val_recall_1: 1.0000\n",
      "Epoch 11/20\n",
      "150/150 [==============================] - 41s 276ms/step - loss: 5.6381e-06 - accuracy: 1.0000 - precision_1: 1.0000 - recall_1: 1.0000 - val_loss: 1.3733e-05 - val_accuracy: 1.0000 - val_precision_1: 1.0000 - val_recall_1: 1.0000\n",
      "Epoch 12/20\n",
      "150/150 [==============================] - 41s 272ms/step - loss: 4.8484e-06 - accuracy: 1.0000 - precision_1: 1.0000 - recall_1: 1.0000 - val_loss: 9.9883e-06 - val_accuracy: 1.0000 - val_precision_1: 1.0000 - val_recall_1: 1.0000\n",
      "Epoch 13/20\n",
      "150/150 [==============================] - 41s 274ms/step - loss: 4.1540e-06 - accuracy: 1.0000 - precision_1: 1.0000 - recall_1: 1.0000 - val_loss: 1.0872e-05 - val_accuracy: 1.0000 - val_precision_1: 1.0000 - val_recall_1: 1.0000\n",
      "Epoch 14/20\n",
      "150/150 [==============================] - 41s 274ms/step - loss: 3.7393e-06 - accuracy: 1.0000 - precision_1: 1.0000 - recall_1: 1.0000 - val_loss: 8.8310e-06 - val_accuracy: 1.0000 - val_precision_1: 1.0000 - val_recall_1: 1.0000\n",
      "Epoch 15/20\n",
      "150/150 [==============================] - 41s 272ms/step - loss: 3.2671e-06 - accuracy: 1.0000 - precision_1: 1.0000 - recall_1: 1.0000 - val_loss: 7.2020e-06 - val_accuracy: 1.0000 - val_precision_1: 1.0000 - val_recall_1: 1.0000\n",
      "Epoch 16/20\n",
      "150/150 [==============================] - 41s 272ms/step - loss: 2.8832e-06 - accuracy: 1.0000 - precision_1: 1.0000 - recall_1: 1.0000 - val_loss: 7.3760e-06 - val_accuracy: 1.0000 - val_precision_1: 1.0000 - val_recall_1: 1.0000\n",
      "Epoch 17/20\n",
      "150/150 [==============================] - 41s 272ms/step - loss: 2.5955e-06 - accuracy: 1.0000 - precision_1: 1.0000 - recall_1: 1.0000 - val_loss: 7.1395e-06 - val_accuracy: 1.0000 - val_precision_1: 1.0000 - val_recall_1: 1.0000\n",
      "Epoch 18/20\n",
      "150/150 [==============================] - 40s 267ms/step - loss: 2.2605e-06 - accuracy: 1.0000 - precision_1: 1.0000 - recall_1: 1.0000 - val_loss: 5.9544e-06 - val_accuracy: 1.0000 - val_precision_1: 1.0000 - val_recall_1: 1.0000\n",
      "Epoch 19/20\n",
      "150/150 [==============================] - 40s 264ms/step - loss: 2.0198e-06 - accuracy: 1.0000 - precision_1: 1.0000 - recall_1: 1.0000 - val_loss: 5.8932e-06 - val_accuracy: 1.0000 - val_precision_1: 1.0000 - val_recall_1: 1.0000\n",
      "Epoch 20/20\n",
      "150/150 [==============================] - 40s 264ms/step - loss: 1.8077e-06 - accuracy: 1.0000 - precision_1: 1.0000 - recall_1: 1.0000 - val_loss: 3.0305e-06 - val_accuracy: 1.0000 - val_precision_1: 1.0000 - val_recall_1: 1.0000\n"
     ]
    }
   ],
   "source": [
    "\n",
    "line_encoder = LogLineEncoder(bglog, chars_in_line=padded_char_len)\n",
    "logSeqencer =  LogSeqEncoder(line_in_seq=32, dense_neurons=12)\n",
    "ptmodel = LogClassifier(line_encoder=line_encoder, seq_encoder=logSeqencer, num_classes=3)\n",
    "ptmodel.compile(optimizer='adam', loss='categorical_crossentropy',\n",
    "              metrics=['accuracy', tf.keras.metrics.Precision(), tf.keras.metrics.Recall()])\n",
    "hist = ptmodel.fit(train_data, validation_data=val_data, epochs=20)"
   ]
  },
  {
   "cell_type": "code",
   "execution_count": 13,
   "id": "9fedb12f-66be-4bb3-9fc0-19de926e2716",
   "metadata": {},
   "outputs": [
    {
     "name": "stdout",
     "output_type": "stream",
     "text": [
      "train_data <BatchDataset element_spec=(TensorSpec(shape=(32, 32, 200), dtype=tf.int32, name=None), TensorSpec(shape=(32, 3), dtype=tf.float32, name=None))>\n",
      "val_data <BatchDataset element_spec=(TensorSpec(shape=(32, 32, 200), dtype=tf.int32, name=None), TensorSpec(shape=(32, 3), dtype=tf.float32, name=None))>\n",
      "test_data <BatchDataset element_spec=(TensorSpec(shape=(32, 32, 200), dtype=tf.int32, name=None), TensorSpec(shape=(32, 6), dtype=tf.float32, name=None))>\n",
      "char in lines, train_data.element_spec[0].shape[2] 200\n",
      "num classes, train_data.element_spec[1].shape[1]:  3\n",
      "length of val_data: 18\n",
      "length of train_data - (num_seq_per_cls * num_class)// batch size: 150\n",
      "vocab_size: 50\n",
      "Epoch 1/20\n",
      "150/150 [==============================] - 43s 280ms/step - loss: 0.1133 - accuracy: 0.9594 - precision_3: 0.9860 - recall_3: 0.9256 - val_loss: 0.0036 - val_accuracy: 1.0000 - val_precision_3: 1.0000 - val_recall_3: 0.9983\n",
      "Epoch 2/20\n",
      "150/150 [==============================] - 41s 275ms/step - loss: 7.7894e-04 - accuracy: 0.9998 - precision_3: 0.9998 - recall_3: 0.9998 - val_loss: 0.0010 - val_accuracy: 1.0000 - val_precision_3: 1.0000 - val_recall_3: 1.0000\n",
      "Epoch 3/20\n",
      "150/150 [==============================] - 42s 279ms/step - loss: 2.6002e-04 - accuracy: 1.0000 - precision_3: 1.0000 - recall_3: 1.0000 - val_loss: 2.5421e-04 - val_accuracy: 1.0000 - val_precision_3: 1.0000 - val_recall_3: 1.0000\n",
      "Epoch 4/20\n",
      "150/150 [==============================] - 41s 275ms/step - loss: 2.6187e-04 - accuracy: 1.0000 - precision_3: 1.0000 - recall_3: 1.0000 - val_loss: 7.1830e-05 - val_accuracy: 1.0000 - val_precision_3: 1.0000 - val_recall_3: 1.0000\n",
      "Epoch 5/20\n",
      "150/150 [==============================] - 42s 279ms/step - loss: 1.9484e-05 - accuracy: 1.0000 - precision_3: 1.0000 - recall_3: 1.0000 - val_loss: 8.3284e-05 - val_accuracy: 1.0000 - val_precision_3: 1.0000 - val_recall_3: 1.0000\n",
      "Epoch 6/20\n",
      "150/150 [==============================] - 43s 285ms/step - loss: 1.4872e-05 - accuracy: 1.0000 - precision_3: 1.0000 - recall_3: 1.0000 - val_loss: 7.2553e-05 - val_accuracy: 1.0000 - val_precision_3: 1.0000 - val_recall_3: 1.0000\n",
      "Epoch 7/20\n",
      "150/150 [==============================] - 43s 284ms/step - loss: 1.1544e-05 - accuracy: 1.0000 - precision_3: 1.0000 - recall_3: 1.0000 - val_loss: 5.9916e-05 - val_accuracy: 1.0000 - val_precision_3: 1.0000 - val_recall_3: 1.0000\n",
      "Epoch 8/20\n",
      "150/150 [==============================] - 42s 280ms/step - loss: 9.4763e-06 - accuracy: 1.0000 - precision_3: 1.0000 - recall_3: 1.0000 - val_loss: 5.4037e-05 - val_accuracy: 1.0000 - val_precision_3: 1.0000 - val_recall_3: 1.0000\n",
      "Epoch 9/20\n",
      "150/150 [==============================] - 42s 281ms/step - loss: 7.8545e-06 - accuracy: 1.0000 - precision_3: 1.0000 - recall_3: 1.0000 - val_loss: 4.0180e-05 - val_accuracy: 1.0000 - val_precision_3: 1.0000 - val_recall_3: 1.0000\n",
      "Epoch 10/20\n",
      "150/150 [==============================] - 43s 285ms/step - loss: 6.6566e-06 - accuracy: 1.0000 - precision_3: 1.0000 - recall_3: 1.0000 - val_loss: 2.6557e-05 - val_accuracy: 1.0000 - val_precision_3: 1.0000 - val_recall_3: 1.0000\n",
      "Epoch 11/20\n",
      "150/150 [==============================] - 43s 287ms/step - loss: 5.6717e-06 - accuracy: 1.0000 - precision_3: 1.0000 - recall_3: 1.0000 - val_loss: 2.8843e-05 - val_accuracy: 1.0000 - val_precision_3: 1.0000 - val_recall_3: 1.0000\n",
      "Epoch 12/20\n",
      "150/150 [==============================] - 42s 283ms/step - loss: 4.8221e-06 - accuracy: 1.0000 - precision_3: 1.0000 - recall_3: 1.0000 - val_loss: 3.4605e-05 - val_accuracy: 1.0000 - val_precision_3: 1.0000 - val_recall_3: 1.0000\n",
      "Epoch 13/20\n",
      "150/150 [==============================] - 42s 278ms/step - loss: 4.3233e-06 - accuracy: 1.0000 - precision_3: 1.0000 - recall_3: 1.0000 - val_loss: 2.5142e-05 - val_accuracy: 1.0000 - val_precision_3: 1.0000 - val_recall_3: 1.0000\n",
      "Epoch 14/20\n",
      "150/150 [==============================] - 42s 279ms/step - loss: 3.7064e-06 - accuracy: 1.0000 - precision_3: 1.0000 - recall_3: 1.0000 - val_loss: 2.4997e-05 - val_accuracy: 1.0000 - val_precision_3: 1.0000 - val_recall_3: 1.0000\n",
      "Epoch 15/20\n",
      "150/150 [==============================] - 43s 285ms/step - loss: 3.2491e-06 - accuracy: 1.0000 - precision_3: 1.0000 - recall_3: 1.0000 - val_loss: 2.2356e-05 - val_accuracy: 1.0000 - val_precision_3: 1.0000 - val_recall_3: 1.0000\n",
      "Epoch 16/20\n",
      "150/150 [==============================] - 42s 279ms/step - loss: 2.8934e-06 - accuracy: 1.0000 - precision_3: 1.0000 - recall_3: 1.0000 - val_loss: 2.0096e-05 - val_accuracy: 1.0000 - val_precision_3: 1.0000 - val_recall_3: 1.0000\n",
      "Epoch 17/20\n",
      "150/150 [==============================] - 42s 277ms/step - loss: 2.5385e-06 - accuracy: 1.0000 - precision_3: 1.0000 - recall_3: 1.0000 - val_loss: 1.7578e-05 - val_accuracy: 1.0000 - val_precision_3: 1.0000 - val_recall_3: 1.0000\n",
      "Epoch 18/20\n",
      "150/150 [==============================] - 43s 289ms/step - loss: 2.2649e-06 - accuracy: 1.0000 - precision_3: 1.0000 - recall_3: 1.0000 - val_loss: 1.6711e-05 - val_accuracy: 1.0000 - val_precision_3: 1.0000 - val_recall_3: 1.0000\n",
      "Epoch 19/20\n",
      "150/150 [==============================] - 43s 285ms/step - loss: 2.0249e-06 - accuracy: 1.0000 - precision_3: 1.0000 - recall_3: 1.0000 - val_loss: 1.5408e-05 - val_accuracy: 1.0000 - val_precision_3: 1.0000 - val_recall_3: 1.0000\n",
      "Epoch 20/20\n",
      "150/150 [==============================] - 43s 290ms/step - loss: 1.8048e-06 - accuracy: 1.0000 - precision_3: 1.0000 - recall_3: 1.0000 - val_loss: 9.3587e-06 - val_accuracy: 1.0000 - val_precision_3: 1.0000 - val_recall_3: 1.0000\n"
     ]
    }
   ],
   "source": [
    "train_test = bglog.get_tensor_train_val_test(ablation=1000, designated_ukc_cls=5 )\n",
    "train_data, val_data, test_data = train_test\n",
    "line_encoder = LogLineEncoder(bglog, chars_in_line=padded_char_len)\n",
    "logSeqencer =  LogSeqEncoder(line_in_seq=32, dense_neurons=12)\n",
    "ptmodel = LogClassifier(line_encoder=line_encoder, seq_encoder=logSeqencer, num_classes=3)\n",
    "ptmodel.compile(optimizer='adam', loss='categorical_crossentropy',\n",
    "              metrics=['accuracy', tf.keras.metrics.Precision(), tf.keras.metrics.Recall()])\n",
    "hist = ptmodel.fit(train_data, validation_data=val_data, epochs=20)"
   ]
  }
 ],
 "metadata": {
  "kernelspec": {
   "display_name": "Python 3 (ipykernel)",
   "language": "python",
   "name": "python3"
  },
  "language_info": {
   "codemirror_mode": {
    "name": "ipython",
    "version": 3
   },
   "file_extension": ".py",
   "mimetype": "text/x-python",
   "name": "python",
   "nbconvert_exporter": "python",
   "pygments_lexer": "ipython3",
   "version": "3.9.12"
  }
 },
 "nbformat": 4,
 "nbformat_minor": 5
}
