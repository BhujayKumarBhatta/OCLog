{
 "cells": [
  {
   "cell_type": "code",
   "execution_count": 4,
   "id": "ba8a5d28",
   "metadata": {},
   "outputs": [
    {
     "data": {
      "text/plain": [
       "68"
      ]
     },
     "execution_count": 4,
     "metadata": {},
     "output_type": "execute_result"
    }
   ],
   "source": [
    "out =  {'UNK': 1, ' ': 2, 'e': 3, 'n': 4, 'r': 5, 'i': 6, 'o': 7, 't': 8, 'a': 9, 'l': 10, 'c': 11, '0': 12, 's': 13, \n",
    "'f': 14, 'd': 15, 'g': 16, '.': 17, 'p': 18, 'm': 19, 'k': 20, '1': 21, 'u': 22, '4': 23, '2': 24, '6': 25, 'x': 26, '5': 27, '8': 28, \n",
    "'3': 29, 'b': 30, 'h': 31, ':': 32, '7': 33, '9': 34, 'y': 35, '-': 36, 'v': 37, 'w': 38, '_': 39, '*': 40, 'j': 41, 'z': 42, '+': 43, 'q': 44, \n",
    "'#': 45, '!': 46, '>': 47, '@': 48, '?': 49, '$': 50, \"'\": 51, '%': 52, '\\x0f': 53, 'ý': 54, 'ï': 55, 'ã': 56, '`': 57, 'ð': 58, '²': 59, 'ù': 60, '·': 61, \n",
    "'\\x00': 62, '&': 63, '|': 64, '\\x10': 65, '}': 66, 'ç': 67, '\\x98': 68}\n",
    "len(out.keys())"
   ]
  }
 ],
 "metadata": {
  "kernelspec": {
   "display_name": "Python 3 (ipykernel)",
   "language": "python",
   "name": "python3"
  },
  "language_info": {
   "codemirror_mode": {
    "name": "ipython",
    "version": 3
   },
   "file_extension": ".py",
   "mimetype": "text/x-python",
   "name": "python",
   "nbconvert_exporter": "python",
   "pygments_lexer": "ipython3",
   "version": "3.8.12"
  }
 },
 "nbformat": 4,
 "nbformat_minor": 5
}
