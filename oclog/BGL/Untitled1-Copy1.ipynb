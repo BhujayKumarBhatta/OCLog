{
 "cells": [
  {
   "cell_type": "code",
   "execution_count": 16,
   "id": "cf993b5b-0e9a-49df-a161-129bcd1de294",
   "metadata": {},
   "outputs": [
    {
     "name": "stdout",
     "output_type": "stream",
     "text": [
      "\n"
     ]
    }
   ],
   "source": [
    "# kwargs = {'logpath': 'disco'}\n",
    "kwargs = {'logpath': ''}\n",
    "# logpath = kwargs.get('logpath') if kwargs.get('logpath') is not None else 'C:\\ML_data\\Logs' \n",
    "# logpath = \"disco\" if kwargs.get('logpath') is not None else 'C:\\ML_data\\Logs' \n",
    "logpath = 'C:\\ML_data\\Logs' if kwargs.get('logpath') is None else  kwargs.get('logpath')\n",
    "print(logpath)"
   ]
  },
  {
   "cell_type": "code",
   "execution_count": 3,
   "id": "8f0a42d2-e202-469e-b283-637f4316931e",
   "metadata": {},
   "outputs": [
    {
     "name": "stdout",
     "output_type": "stream",
     "text": [
      "Adult\n"
     ]
    }
   ],
   "source": [
    "age = 20\n",
    "# One-liner if-else statement\n",
    "age_group = \"Minor\" if age < 18 else \"Adult\"\n",
    "print(age_group)"
   ]
  },
  {
   "cell_type": "code",
   "execution_count": 9,
   "id": "4b610233-e02b-4728-8631-fa6addd1e301",
   "metadata": {},
   "outputs": [],
   "source": [
    "age_group = kwargs.get('logpath') if age < 18 else \"Adult\""
   ]
  },
  {
   "cell_type": "code",
   "execution_count": 20,
   "id": "1ed3abf5-6a63-4a54-b77b-c69f9fc0c414",
   "metadata": {},
   "outputs": [
    {
     "name": "stdout",
     "output_type": "stream",
     "text": [
      "{'logpath': 'disco'}\n",
      "{'logpath': 'disco'}\n",
      "disco\n",
      "{}\n",
      "{}\n",
      "C:\\ML_data\\Logs\n"
     ]
    }
   ],
   "source": [
    "def f(**kwargs):\n",
    "    print(kwargs)\n",
    "    print(dict(kwargs))\n",
    "    logpath = 'C:\\ML_data\\Logs' if kwargs.get('logpath') is None else  kwargs.get('logpath')\n",
    "    print(logpath)\n",
    "f(logpath='disco')\n",
    "f()"
   ]
  },
  {
   "cell_type": "code",
   "execution_count": 21,
   "id": "e83d787a-f2f6-4acb-ad54-dc53cc4b47de",
   "metadata": {},
   "outputs": [
    {
     "ename": "Exception",
     "evalue": "",
     "output_type": "error",
     "traceback": [
      "\u001b[1;31m---------------------------------------------------------------------------\u001b[0m",
      "\u001b[1;31mException\u001b[0m                                 Traceback (most recent call last)",
      "Input \u001b[1;32mIn [21]\u001b[0m, in \u001b[0;36m<cell line: 1>\u001b[1;34m()\u001b[0m\n\u001b[1;32m----> 1\u001b[0m \u001b[38;5;28;01mraise\u001b[39;00m \u001b[38;5;167;01mException\u001b[39;00m\n",
      "\u001b[1;31mException\u001b[0m: "
     ]
    }
   ],
   "source": [
    "raise Exception"
   ]
  },
  {
   "cell_type": "code",
   "execution_count": 25,
   "id": "b2ee545b-5219-4dc1-a369-a5bf582486cd",
   "metadata": {},
   "outputs": [
    {
     "ename": "myerr",
     "evalue": "Salary is not in (5000, 15000) range",
     "output_type": "error",
     "traceback": [
      "\u001b[1;31m---------------------------------------------------------------------------\u001b[0m",
      "\u001b[1;31mmyerr\u001b[0m                                     Traceback (most recent call last)",
      "Input \u001b[1;32mIn [25]\u001b[0m, in \u001b[0;36m<cell line: 6>\u001b[1;34m()\u001b[0m\n\u001b[0;32m      5\u001b[0m         \u001b[38;5;28msuper\u001b[39m()\u001b[38;5;241m.\u001b[39m\u001b[38;5;21m__init__\u001b[39m(\u001b[38;5;28mself\u001b[39m\u001b[38;5;241m.\u001b[39mmessage)\n\u001b[0;32m      6\u001b[0m \u001b[38;5;28;01mif\u001b[39;00m \u001b[38;5;241m1\u001b[39m \u001b[38;5;241m==\u001b[39m \u001b[38;5;241m1\u001b[39m:\n\u001b[1;32m----> 7\u001b[0m     \u001b[38;5;28;01mraise\u001b[39;00m myerr()\n",
      "\u001b[1;31mmyerr\u001b[0m: Salary is not in (5000, 15000) range"
     ]
    }
   ],
   "source": [
    "class myerr(Exception):\n",
    "    def __init__(self, message=\"Salary is not in (5000, 15000) range\"):\n",
    "        # self.salary = salary\n",
    "        self.message = message\n",
    "        super().__init__(self.message)\n",
    "if 1 == 1:\n",
    "    raise myerr() "
   ]
  },
  {
   "cell_type": "code",
   "execution_count": null,
   "id": "11c9e750-b1f8-4e1b-9d3b-fdcc37972778",
   "metadata": {},
   "outputs": [],
   "source": []
  }
 ],
 "metadata": {
  "kernelspec": {
   "display_name": "Python 3 (ipykernel)",
   "language": "python",
   "name": "python3"
  },
  "language_info": {
   "codemirror_mode": {
    "name": "ipython",
    "version": 3
   },
   "file_extension": ".py",
   "mimetype": "text/x-python",
   "name": "python",
   "nbconvert_exporter": "python",
   "pygments_lexer": "ipython3",
   "version": "3.9.12"
  }
 },
 "nbformat": 4,
 "nbformat_minor": 5
}
