{
 "cells": [
  {
   "cell_type": "code",
   "execution_count": 1,
   "id": "5bc0bfe8",
   "metadata": {},
   "outputs": [],
   "source": [
    "from bglogUKC import BGLog"
   ]
  },
  {
   "cell_type": "code",
   "execution_count": 2,
   "id": "72b27ffb",
   "metadata": {},
   "outputs": [],
   "source": [
    "bglog = BGLog(debug=True, save_padded_num_sequences=True, load_from_pkl=False)"
   ]
  },
  {
   "cell_type": "code",
   "execution_count": 3,
   "id": "a2873d92",
   "metadata": {},
   "outputs": [
    {
     "data": {
      "text/plain": [
       "'C:\\\\Users\\\\Bhujay_ROG\\\\MyDev\\\\OCLog\\\\oclog\\\\BGL\\\\data\\\\bgltkukc.pkl'"
      ]
     },
     "execution_count": 3,
     "metadata": {},
     "output_type": "execute_result"
    }
   ],
   "source": [
    "bglog.tk_path"
   ]
  },
  {
   "cell_type": "code",
   "execution_count": 4,
   "id": "904ffcb3",
   "metadata": {},
   "outputs": [
    {
     "name": "stdout",
     "output_type": "stream",
     "text": [
      "log file path found:  True\n",
      "total number of lines in the log file: 4747963\n",
      "RAM usage:  39064728\n",
      "ending logs in memory: 0.8373110294342041\n",
      "alerts 4747963\n",
      "unique_alerts: {'SEVERE', '0x00544eb8,', 'Kill', 'ERROR', 'WARNING', 'INFO', 'FATAL', 'FAILURE', 'single', 'microseconds'}\n",
      "length of list of sequence 148373\n",
      "elapsed time: 2.265106439590454\n",
      "self.labelled_txt_sequence: (['- 1117838570 2005.06.03 R02-M1-N0-C:J12-U11 2005-06-03-15.42.50.363779 R02-M1-N0-C:J12-U11 RAS KERNEL INFO instruction cache parity error corrected\\n', '- 1117838570 2005.06.03 R02-M1-N0-C:J12-U11 2005-06-03-15.42.50.527847 R02-M1-N0-C:J12-U11 RAS KERNEL INFO instruction cache parity error corrected\\n', '- 1117838570 2005.06.03 R02-M1-N0-C:J12-U11 2005-06-03-15.42.50.675872 R02-M1-N0-C:J12-U11 RAS KERNEL INFO instruction cache parity error corrected\\n', '- 1117838570 2005.06.03 R02-M1-N0-C:J12-U11 2005-06-03-15.42.50.823719 R02-M1-N0-C:J12-U11 RAS KERNEL INFO instruction cache parity error corrected\\n', '- 1117838570 2005.06.03 R02-M1-N0-C:J12-U11 2005-06-03-15.42.50.982731 R02-M1-N0-C:J12-U11 RAS KERNEL INFO instruction cache parity error corrected\\n', '- 1117838571 2005.06.03 R02-M1-N0-C:J12-U11 2005-06-03-15.42.51.131467 R02-M1-N0-C:J12-U11 RAS KERNEL INFO instruction cache parity error corrected\\n', '- 1117838571 2005.06.03 R02-M1-N0-C:J12-U11 2005-06-03-15.42.51.293532 R02-M1-N0-C:J12-U11 RAS KERNEL INFO instruction cache parity error corrected\\n', '- 1117838571 2005.06.03 R02-M1-N0-C:J12-U11 2005-06-03-15.42.51.428563 R02-M1-N0-C:J12-U11 RAS KERNEL INFO instruction cache parity error corrected\\n', '- 1117838571 2005.06.03 R02-M1-N0-C:J12-U11 2005-06-03-15.42.51.601412 R02-M1-N0-C:J12-U11 RAS KERNEL INFO instruction cache parity error corrected\\n', '- 1117838571 2005.06.03 R02-M1-N0-C:J12-U11 2005-06-03-15.42.51.749199 R02-M1-N0-C:J12-U11 RAS KERNEL INFO instruction cache parity error corrected\\n', '- 1117838571 2005.06.03 R02-M1-N0-C:J12-U11 2005-06-03-15.42.51.885834 R02-M1-N0-C:J12-U11 RAS KERNEL INFO instruction cache parity error corrected\\n', '- 1117838572 2005.06.03 R02-M1-N0-C:J12-U11 2005-06-03-15.42.52.041388 R02-M1-N0-C:J12-U11 RAS KERNEL INFO instruction cache parity error corrected\\n', '- 1117838572 2005.06.03 R02-M1-N0-C:J12-U11 2005-06-03-15.42.52.199063 R02-M1-N0-C:J12-U11 RAS KERNEL INFO instruction cache parity error corrected\\n', '- 1117838572 2005.06.03 R02-M1-N0-C:J12-U11 2005-06-03-15.42.52.345821 R02-M1-N0-C:J12-U11 RAS KERNEL INFO instruction cache parity error corrected\\n', '- 1117838572 2005.06.03 R02-M1-N0-C:J12-U11 2005-06-03-15.42.52.493353 R02-M1-N0-C:J12-U11 RAS KERNEL INFO instruction cache parity error corrected\\n', '- 1117838572 2005.06.03 R02-M1-N0-C:J12-U11 2005-06-03-15.42.52.638135 R02-M1-N0-C:J12-U11 RAS KERNEL INFO instruction cache parity error corrected\\n', '- 1117838572 2005.06.03 R02-M1-N0-C:J12-U11 2005-06-03-15.42.52.807927 R02-M1-N0-C:J12-U11 RAS KERNEL INFO instruction cache parity error corrected\\n', '- 1117838572 2005.06.03 R02-M1-N0-C:J12-U11 2005-06-03-15.42.52.951717 R02-M1-N0-C:J12-U11 RAS KERNEL INFO instruction cache parity error corrected\\n', '- 1117838573 2005.06.03 R02-M1-N0-C:J12-U11 2005-06-03-15.42.53.125780 R02-M1-N0-C:J12-U11 RAS KERNEL INFO instruction cache parity error corrected\\n', '- 1117838573 2005.06.03 R02-M1-N0-C:J12-U11 2005-06-03-15.42.53.276129 R02-M1-N0-C:J12-U11 RAS KERNEL INFO instruction cache parity error corrected\\n', '- 1117838573 2005.06.03 R02-M1-N0-C:J12-U11 2005-06-03-15.42.53.414979 R02-M1-N0-C:J12-U11 RAS KERNEL INFO instruction cache parity error corrected\\n', '- 1117838573 2005.06.03 R02-M1-N0-C:J12-U11 2005-06-03-15.42.53.573391 R02-M1-N0-C:J12-U11 RAS KERNEL INFO instruction cache parity error corrected\\n', '- 1117838573 2005.06.03 R02-M1-N0-C:J12-U11 2005-06-03-15.42.53.722611 R02-M1-N0-C:J12-U11 RAS KERNEL INFO instruction cache parity error corrected\\n', '- 1117838573 2005.06.03 R02-M1-N0-C:J12-U11 2005-06-03-15.42.53.870042 R02-M1-N0-C:J12-U11 RAS KERNEL INFO instruction cache parity error corrected\\n', '- 1117838574 2005.06.03 R02-M1-N0-C:J12-U11 2005-06-03-15.42.54.019446 R02-M1-N0-C:J12-U11 RAS KERNEL INFO instruction cache parity error corrected\\n', '- 1117838574 2005.06.03 R02-M1-N0-C:J12-U11 2005-06-03-15.42.54.161937 R02-M1-N0-C:J12-U11 RAS KERNEL INFO instruction cache parity error corrected\\n', '- 1117838574 2005.06.03 R02-M1-N0-C:J12-U11 2005-06-03-15.42.54.309788 R02-M1-N0-C:J12-U11 RAS KERNEL INFO instruction cache parity error corrected\\n', '- 1117838574 2005.06.03 R02-M1-N0-C:J12-U11 2005-06-03-15.42.54.532078 R02-M1-N0-C:J12-U11 RAS KERNEL INFO instruction cache parity error corrected\\n', '- 1117838574 2005.06.03 R02-M1-N0-C:J12-U11 2005-06-03-15.42.54.672029 R02-M1-N0-C:J12-U11 RAS KERNEL INFO instruction cache parity error corrected\\n', '- 1117838574 2005.06.03 R02-M1-N0-C:J12-U11 2005-06-03-15.42.54.822857 R02-M1-N0-C:J12-U11 RAS KERNEL INFO instruction cache parity error corrected\\n', '- 1117838574 2005.06.03 R02-M1-N0-C:J12-U11 2005-06-03-15.42.54.958702 R02-M1-N0-C:J12-U11 RAS KERNEL INFO instruction cache parity error corrected\\n', '- 1117838575 2005.06.03 R02-M1-N0-C:J12-U11 2005-06-03-15.42.55.114809 R02-M1-N0-C:J12-U11 RAS KERNEL INFO instruction cache parity error corrected\\n'], 'INFO')\n",
      "len of whole_text_for_training 4747936\n",
      "character vocabulary 50\n",
      "148373\n",
      "                                                 seq label\n",
      "0  [[18, 2, 4, 3, 2, 9, 5, 3, 13, 6, 5, 3, 12, 7,...  INFO\n",
      "1  [[18, 2, 4, 3, 2, 9, 5, 3, 13, 6, 5, 3, 12, 7,...  INFO\n",
      "2  [[18, 2, 4, 3, 2, 9, 5, 3, 13, 6, 5, 3, 12, 7,...  INFO\n",
      "3  [[18, 2, 4, 3, 2, 9, 5, 3, 13, 6, 5, 3, 12, 7,...  INFO\n",
      "4  [[18, 2, 4, 3, 2, 9, 5, 3, 13, 6, 5, 3, 12, 7,...  INFO\n",
      "0    114115\n",
      "1     28439\n",
      "2      4049\n",
      "3       902\n",
      "4       628\n",
      "5       165\n",
      "6        75\n",
      "Name: label, dtype: int64\n",
      "completed padding sequences in 162.0474317073822 sec\n",
      "trying to save pickle in : C:\\Users\\Bhujay_ROG\\MyDev\\OCLog\\oclog\\BGL\\data\\bgl_ukc.pkl\n",
      "saved: C:\\Users\\Bhujay_ROG\\MyDev\\OCLog\\oclog\\BGL\\data\\bgl_ukc.pkl\n",
      "saved: C:\\Users\\Bhujay_ROG\\MyDev\\OCLog\\oclog\\BGL\\data\\bgltkukc.pkl\n",
      "ablation set to : 1000\n",
      "train_0:, 800\n",
      "val_0:, 100\n",
      "test_0:, 100\n",
      "ablation set to : 1000\n",
      "train_1:, 800\n",
      "val_1:, 100\n",
      "test_1:, 100\n",
      "ablation set to : 1000\n",
      "train_2:, 800\n",
      "val_2:, 100\n",
      "test_2:, 100\n",
      "ablation set to : 1000\n",
      "train_3:, 800\n",
      "val_3:, 100\n",
      "test_3:, 2\n",
      "ablation set to : 1000\n",
      "628 data in class 4 not enough to split into train:800 and validation:100\n",
      "ukc_4:, 100\n",
      "ablation set to : 1000\n",
      "165 data in class 5 not enough to split into train:800 and validation:100\n",
      "ukc_5:, 100\n",
      "ablation set to : 1000\n",
      "75 data in class 6 not enough to split into train:800 and validation:100\n",
      "ukc_6:, 75\n",
      "0    800\n",
      "1    800\n",
      "2    800\n",
      "3    800\n",
      "Name: label, dtype: int64\n",
      "0    100\n",
      "1    100\n",
      "2    100\n",
      "3    100\n",
      "Name: label, dtype: int64\n",
      "0    100\n",
      "1    100\n",
      "2    100\n",
      "4    100\n",
      "5    100\n",
      "6     75\n",
      "3      2\n",
      "Name: label, dtype: int64\n",
      "[[1. 0. 0. 0.]\n",
      " [1. 0. 0. 0.]]\n",
      "[[1. 0. 0. 0. 0. 0. 0.]\n",
      " [1. 0. 0. 0. 0. 0. 0.]]\n",
      "[[1. 0. 0. 0.]\n",
      " [1. 0. 0. 0.]]\n",
      "<BatchDataset element_spec=(TensorSpec(shape=(32, 32, 64), dtype=tf.int32, name=None), TensorSpec(shape=(32, 4), dtype=tf.float32, name=None))>\n",
      "<BatchDataset element_spec=(TensorSpec(shape=(32, 32, 64), dtype=tf.int32, name=None), TensorSpec(shape=(32, 4), dtype=tf.float32, name=None))>\n",
      "<BatchDataset element_spec=(TensorSpec(shape=(32, 32, 64), dtype=tf.int32, name=None), TensorSpec(shape=(32, 7), dtype=tf.float32, name=None))>\n",
      "64\n",
      "4\n"
     ]
    }
   ],
   "source": [
    "train_test = bglog.get_tensor_train_val_test(ablation=1000)"
   ]
  },
  {
   "cell_type": "code",
   "execution_count": 6,
   "id": "6c67e8a4-6eb0-4703-b625-bef66ce0926d",
   "metadata": {},
   "outputs": [
    {
     "data": {
      "text/plain": [
       "4    275\n",
       "0    100\n",
       "1    100\n",
       "2    100\n",
       "3      2\n",
       "Name: label, dtype: int64"
      ]
     },
     "execution_count": 6,
     "metadata": {},
     "output_type": "execute_result"
    }
   ],
   "source": [
    "bglog.test_df.label.value_counts()"
   ]
  },
  {
   "cell_type": "code",
   "execution_count": 29,
   "id": "740106dd-28fc-4d74-b858-e1b39ad826f0",
   "metadata": {},
   "outputs": [
    {
     "name": "stdout",
     "output_type": "stream",
     "text": [
      "3\n"
     ]
    }
   ],
   "source": [
    "import numpy as np\n",
    "unique_label_train = np.unique(bglog.train_df.label)\n",
    "max_label_num_train = max(unique_label_train)\n",
    "new_label = str(int(max_label_num_train)+1)\n",
    "print(max_label_num_train)\n",
    "bglog.test_df.loc[bglog.test_df.label > max_label_num_train, 'label' ]=new_label\n",
    "# np.where(bglog.test_df.label>max_label_num_train, new_label)\n",
    "# bglog.test_df[bglog.test_df.label>max_label_num_train].label = str(int(max_label_num_train)+1)\n",
    "# bglog.test_df.label.value_counts()"
   ]
  },
  {
   "cell_type": "code",
   "execution_count": 30,
   "id": "75f131c5-cec3-4acc-a7ff-8cb0750e7a31",
   "metadata": {},
   "outputs": [
    {
     "data": {
      "text/plain": [
       "4    275\n",
       "0    100\n",
       "1    100\n",
       "2    100\n",
       "3      2\n",
       "Name: label, dtype: int64"
      ]
     },
     "execution_count": 30,
     "metadata": {},
     "output_type": "execute_result"
    }
   ],
   "source": [
    "bglog.test_df.label.value_counts()"
   ]
  },
  {
   "cell_type": "code",
   "execution_count": 27,
   "id": "662e461e-bc4e-41db-92b9-a9c16c938e79",
   "metadata": {},
   "outputs": [
    {
     "data": {
      "text/plain": [
       "'4'"
      ]
     },
     "execution_count": 27,
     "metadata": {},
     "output_type": "execute_result"
    }
   ],
   "source": [
    "ndf"
   ]
  },
  {
   "cell_type": "code",
   "execution_count": 5,
   "id": "32c8cf32",
   "metadata": {},
   "outputs": [],
   "source": [
    "bglog_fm_mem = BGLog(debug=True, load_from_pkl=True)"
   ]
  },
  {
   "cell_type": "code",
   "execution_count": 6,
   "id": "d57fbad7",
   "metadata": {},
   "outputs": [
    {
     "name": "stdout",
     "output_type": "stream",
     "text": [
      "padded_num_seq_df loaded from data\\bgl_padded_num_seq_df.pkl\n",
      "trained tokenizer, tk, loaded from data\\bgltk.pkl\n",
      "ablation set to : 10\n",
      "train_0:, 8\n",
      "test_0:, 2\n",
      "ablation set to : 10\n",
      "train_1:, 8\n",
      "test_1:, 2\n",
      "ablation set to : 10\n",
      "train_2:, 8\n",
      "test_2:, 2\n",
      "ablation set to : 10\n",
      "train_3:, 8\n",
      "test_3:, 2\n",
      "ablation set to : 10\n",
      "train_4:, 8\n",
      "test_4:, 2\n",
      "ablation set to : 10\n",
      "train_5:, 8\n",
      "test_5:, 2\n",
      "ablation set to : 10\n",
      "train_6:, 8\n",
      "test_6:, 2\n",
      "0    8\n",
      "1    8\n",
      "2    8\n",
      "3    8\n",
      "4    8\n",
      "5    8\n",
      "6    8\n",
      "Name: label, dtype: int64\n",
      "[[1. 0. 0. 0. 0. 0. 0.]\n",
      " [1. 0. 0. 0. 0. 0. 0.]]\n",
      "[[1. 0. 0. 0. 0. 0. 0.]\n",
      " [1. 0. 0. 0. 0. 0. 0.]]\n",
      "[]\n",
      "<BatchDataset shapes: ((32, 32, 64), (32, 7)), types: (tf.int32, tf.float32)>\n",
      "<BatchDataset shapes: ((32, 32, 64), (32, 7)), types: (tf.int32, tf.float32)>\n",
      "64\n",
      "7\n",
      "length of tokenizer from mem 50\n"
     ]
    }
   ],
   "source": [
    "bglog_fm_mem.get_tensor_train_test(ablation=10)\n",
    "tk = bglog_fm_mem.tk\n",
    "print('length of tokenizer from mem', len(tk.word_index))"
   ]
  },
  {
   "cell_type": "code",
   "execution_count": 7,
   "id": "0ab2ba56",
   "metadata": {},
   "outputs": [
    {
     "data": {
      "text/plain": [
       "50"
      ]
     },
     "execution_count": 7,
     "metadata": {},
     "output_type": "execute_result"
    }
   ],
   "source": [
    "import pickle\n",
    "with open('data\\\\bgltk.pkl', 'rb') as f:\n",
    "    tk = pickle.load(f)\n",
    "len(tk.word_index)"
   ]
  },
  {
   "cell_type": "code",
   "execution_count": null,
   "id": "0eeae795",
   "metadata": {},
   "outputs": [],
   "source": []
  },
  {
   "cell_type": "code",
   "execution_count": null,
   "id": "e2de2e3a",
   "metadata": {},
   "outputs": [],
   "source": []
  }
 ],
 "metadata": {
  "kernelspec": {
   "display_name": "Python 3 (ipykernel)",
   "language": "python",
   "name": "python3"
  },
  "language_info": {
   "codemirror_mode": {
    "name": "ipython",
    "version": 3
   },
   "file_extension": ".py",
   "mimetype": "text/x-python",
   "name": "python",
   "nbconvert_exporter": "python",
   "pygments_lexer": "ipython3",
   "version": "3.9.12"
  }
 },
 "nbformat": 4,
 "nbformat_minor": 5
}
