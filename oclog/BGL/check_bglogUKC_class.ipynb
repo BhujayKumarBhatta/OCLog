{
 "cells": [
  {
   "cell_type": "code",
   "execution_count": 1,
   "id": "5bc0bfe8",
   "metadata": {},
   "outputs": [],
   "source": [
    "from bglogUKC import BGLog"
   ]
  },
  {
   "cell_type": "code",
   "execution_count": 2,
   "id": "72b27ffb",
   "metadata": {},
   "outputs": [],
   "source": [
    "bglog = BGLog(debug=True, save_padded_num_sequences=True, load_from_pkl=False)"
   ]
  },
  {
   "cell_type": "code",
   "execution_count": 3,
   "id": "a2873d92",
   "metadata": {},
   "outputs": [
    {
     "data": {
      "text/plain": [
       "'C:\\\\Users\\\\Bhujay_ROG\\\\MyDev\\\\OCLog\\\\oclog\\\\BGL\\\\data\\\\bgltkukc.pkl'"
      ]
     },
     "execution_count": 3,
     "metadata": {},
     "output_type": "execute_result"
    }
   ],
   "source": [
    "bglog.tk_path"
   ]
  },
  {
   "cell_type": "code",
   "execution_count": 4,
   "id": "904ffcb3",
   "metadata": {},
   "outputs": [
    {
     "name": "stdout",
     "output_type": "stream",
     "text": [
      "ablation set to : 1000\n",
      "log file path found:  True\n",
      "total number of lines in the log file: 4747963\n",
      "RAM usage:  39064728\n",
      "ending logs in memory: 0.8427133560180664\n",
      "alerts 4747963\n",
      "unique_alerts: {'ERROR', 'INFO', 'FATAL', 'SEVERE', 'Kill', 'microseconds', 'WARNING', 'FAILURE', 'single', '0x00544eb8,'}\n",
      "length of list of sequence 148373\n",
      "elapsed time: 2.2989091873168945\n",
      "len of whole_text_for_training 4747936\n",
      "character vocabulary 50\n",
      "148373\n",
      "                                                 seq label\n",
      "0  [[18, 2, 4, 3, 2, 9, 5, 3, 13, 6, 5, 3, 12, 7,...  INFO\n",
      "1  [[18, 2, 4, 3, 2, 9, 5, 3, 13, 6, 5, 3, 12, 7,...  INFO\n",
      "2  [[18, 2, 4, 3, 2, 9, 5, 3, 13, 6, 5, 3, 12, 7,...  INFO\n",
      "3  [[18, 2, 4, 3, 2, 9, 5, 3, 13, 6, 5, 3, 12, 7,...  INFO\n",
      "4  [[18, 2, 4, 3, 2, 9, 5, 3, 13, 6, 5, 3, 12, 7,...  INFO\n",
      "0    114115\n",
      "1     28439\n",
      "2      4049\n",
      "3       902\n",
      "4       628\n",
      "5       165\n",
      "6        75\n",
      "Name: label, dtype: int64\n",
      "completed padding sequences in 164.74631452560425 sec\n",
      "trying to save pickle in : C:\\Users\\Bhujay_ROG\\MyDev\\OCLog\\oclog\\BGL\\data\\bgl_ukc.pkl\n",
      "saved: C:\\Users\\Bhujay_ROG\\MyDev\\OCLog\\oclog\\BGL\\data\\bgl_ukc.pkl\n",
      "saved: C:\\Users\\Bhujay_ROG\\MyDev\\OCLog\\oclog\\BGL\\data\\bgltkukc.pkl\n",
      "train_0:, 800\n",
      "val_0:, 100\n",
      "test_0:, 100\n",
      "train_1:, 800\n",
      "val_1:, 100\n",
      "test_1:, 100\n",
      "train_2:, 800\n",
      "val_2:, 100\n",
      "test_2:, 100\n",
      "train_3:, 800\n",
      "val_3:, 100\n",
      "test_3:, 2\n",
      "class 4 is add as ukc\n",
      "ukc_4:, 100\n",
      "165 data in class 5 not enough to split into train:800 and validation:100, adding the entire data as ukc\n",
      "75 data in class 6 not enough to split into train:800 and validation:100, adding the entire data as ukc\n",
      "train: 0    800\n",
      "1    800\n",
      "2    800\n",
      "3    800\n",
      "Name: label, dtype: int64\n",
      "val: 0    100\n",
      "1    100\n",
      "2    100\n",
      "3    100\n",
      "Name: label, dtype: int64\n",
      "test: 0    100\n",
      "1    100\n",
      "2    100\n",
      "4    100\n",
      "3      2\n",
      "Name: label, dtype: int64\n",
      "[[1. 0. 0. 0.]\n",
      " [1. 0. 0. 0.]]\n",
      "some example of labels:\n",
      "[[1. 0. 0. 0. 0.]\n",
      " [1. 0. 0. 0. 0.]]\n",
      "[[1. 0. 0. 0.]\n",
      " [1. 0. 0. 0.]]\n",
      "<BatchDataset element_spec=(TensorSpec(shape=(32, 32, 64), dtype=tf.int32, name=None), TensorSpec(shape=(32, 4), dtype=tf.float32, name=None))>\n",
      "<BatchDataset element_spec=(TensorSpec(shape=(32, 32, 64), dtype=tf.int32, name=None), TensorSpec(shape=(32, 4), dtype=tf.float32, name=None))>\n",
      "<BatchDataset element_spec=(TensorSpec(shape=(32, 32, 64), dtype=tf.int32, name=None), TensorSpec(shape=(32, 5), dtype=tf.float32, name=None))>\n",
      "64\n",
      "4\n"
     ]
    }
   ],
   "source": [
    "train_test = bglog.get_tensor_train_val_test(ablation=1000, designated_ukc_cls=4)"
   ]
  },
  {
   "cell_type": "code",
   "execution_count": 13,
   "id": "32c8cf32",
   "metadata": {},
   "outputs": [],
   "source": [
    "bglog_fm_mem = BGLog(debug=True, load_from_pkl=True)"
   ]
  },
  {
   "cell_type": "code",
   "execution_count": 14,
   "id": "d57fbad7",
   "metadata": {},
   "outputs": [
    {
     "name": "stdout",
     "output_type": "stream",
     "text": [
      "ablation set to : 2000\n",
      "padded_num_seq_df loaded from C:\\Users\\Bhujay_ROG\\MyDev\\OCLog\\oclog\\BGL\\data\\bgl_ukc.pkl\n",
      "trained tokenizer, tk, loaded from C:\\Users\\Bhujay_ROG\\MyDev\\OCLog\\oclog\\BGL\\data\\bgltkukc.pkl\n",
      "train_0:, 1600\n",
      "val_0:, 200\n",
      "test_0:, 200\n",
      "train_1:, 1600\n",
      "val_1:, 200\n",
      "test_1:, 200\n",
      "train_2:, 1600\n",
      "val_2:, 200\n",
      "test_2:, 200\n",
      "902 data in class 3 not enough to split into train:1600 and validation:200, adding the entire data as ukc\n",
      "628 data in class 4 not enough to split into train:1600 and validation:200, adding the entire data as ukc\n",
      "class 5 is add as ukc\n",
      "ukc_5:, 165\n",
      "75 data in class 6 not enough to split into train:1600 and validation:200, adding the entire data as ukc\n",
      "train: 0    1600\n",
      "1    1600\n",
      "2    1600\n",
      "Name: label, dtype: int64\n",
      "val: 0    200\n",
      "1    200\n",
      "2    200\n",
      "Name: label, dtype: int64\n",
      "test: 0    200\n",
      "1    200\n",
      "2    200\n",
      "5    165\n",
      "Name: label, dtype: int64\n",
      "[[1. 0. 0.]\n",
      " [1. 0. 0.]]\n",
      "some example of labels:\n",
      "[[1. 0. 0. 0. 0. 0.]\n",
      " [1. 0. 0. 0. 0. 0.]]\n",
      "[[1. 0. 0.]\n",
      " [1. 0. 0.]]\n",
      "<BatchDataset element_spec=(TensorSpec(shape=(32, 32, 64), dtype=tf.int32, name=None), TensorSpec(shape=(32, 3), dtype=tf.float32, name=None))>\n",
      "<BatchDataset element_spec=(TensorSpec(shape=(32, 32, 64), dtype=tf.int32, name=None), TensorSpec(shape=(32, 3), dtype=tf.float32, name=None))>\n",
      "<BatchDataset element_spec=(TensorSpec(shape=(32, 32, 64), dtype=tf.int32, name=None), TensorSpec(shape=(32, 6), dtype=tf.float32, name=None))>\n",
      "64\n",
      "3\n",
      "length of tokenizer from mem 50\n"
     ]
    }
   ],
   "source": [
    "bglog_fm_mem.get_tensor_train_val_test(ablation=2000, designated_ukc_cls=5)\n",
    "tk = bglog_fm_mem.tk\n",
    "print('length of tokenizer from mem', len(tk.word_index))"
   ]
  },
  {
   "cell_type": "code",
   "execution_count": 9,
   "id": "0ab2ba56",
   "metadata": {},
   "outputs": [
    {
     "data": {
      "text/plain": [
       "50"
      ]
     },
     "execution_count": 9,
     "metadata": {},
     "output_type": "execute_result"
    }
   ],
   "source": [
    "import pickle\n",
    "with open('data\\\\bgltk.pkl', 'rb') as f:\n",
    "    tk = pickle.load(f)\n",
    "len(tk.word_index)"
   ]
  },
  {
   "cell_type": "code",
   "execution_count": 10,
   "id": "0eeae795",
   "metadata": {},
   "outputs": [
    {
     "name": "stdout",
     "output_type": "stream",
     "text": [
      "<BatchDataset element_spec=(TensorSpec(shape=(32, 32, 64), dtype=tf.int32, name=None), TensorSpec(shape=(32, 4), dtype=tf.float32, name=None))>\n",
      "<BatchDataset element_spec=(TensorSpec(shape=(32, 32, 64), dtype=tf.int32, name=None), TensorSpec(shape=(32, 4), dtype=tf.float32, name=None))>\n",
      "<BatchDataset element_spec=(TensorSpec(shape=(32, 32, 64), dtype=tf.int32, name=None), TensorSpec(shape=(32, 6), dtype=tf.float32, name=None))>\n",
      "64\n",
      "4\n"
     ]
    },
    {
     "data": {
      "text/plain": [
       "(<BatchDataset element_spec=(TensorSpec(shape=(32, 32, 64), dtype=tf.int32, name=None), TensorSpec(shape=(32, 4), dtype=tf.float32, name=None))>,\n",
       " <BatchDataset element_spec=(TensorSpec(shape=(32, 32, 64), dtype=tf.int32, name=None), TensorSpec(shape=(32, 4), dtype=tf.float32, name=None))>,\n",
       " <BatchDataset element_spec=(TensorSpec(shape=(32, 32, 64), dtype=tf.int32, name=None), TensorSpec(shape=(32, 6), dtype=tf.float32, name=None))>)"
      ]
     },
     "execution_count": 10,
     "metadata": {},
     "output_type": "execute_result"
    }
   ],
   "source": [
    "bglog_fm_mem.get_tensor_train_val_test(ablation=100, designated_ukc_cls=4)"
   ]
  },
  {
   "cell_type": "code",
   "execution_count": 11,
   "id": "e2de2e3a",
   "metadata": {},
   "outputs": [
    {
     "data": {
      "text/plain": [
       "0    100\n",
       "1    100\n",
       "2    100\n",
       "4    100\n",
       "3      2\n",
       "Name: label, dtype: int64"
      ]
     },
     "execution_count": 11,
     "metadata": {},
     "output_type": "execute_result"
    }
   ],
   "source": [
    "bglog_fm_mem.test_df.label.value_counts()"
   ]
  }
 ],
 "metadata": {
  "kernelspec": {
   "display_name": "Python 3 (ipykernel)",
   "language": "python",
   "name": "python3"
  },
  "language_info": {
   "codemirror_mode": {
    "name": "ipython",
    "version": 3
   },
   "file_extension": ".py",
   "mimetype": "text/x-python",
   "name": "python",
   "nbconvert_exporter": "python",
   "pygments_lexer": "ipython3",
   "version": "3.9.12"
  }
 },
 "nbformat": 4,
 "nbformat_minor": 5
}
