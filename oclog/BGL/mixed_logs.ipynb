{
 "cells": [
  {
   "cell_type": "code",
   "execution_count": 1,
   "id": "11c9e750-b1f8-4e1b-9d3b-fdcc37972778",
   "metadata": {},
   "outputs": [],
   "source": [
    "import os, sys\n",
    "cur_dir = os.getcwd()\n",
    "basename = os.path.basename(cur_dir)\n",
    "for _ in range(5):\n",
    "    if basename != 'OCLog':\n",
    "        cur_dir = os.path.dirname(cur_dir)\n",
    "        basename = os.path.basename(cur_dir)\n",
    "        #print(cur_dir, basename)\n",
    "    else:\n",
    "        if cur_dir not in sys.path:\n",
    "            sys.path.append(cur_dir)\n",
    "            #print(sys.path)\n",
    "sys.path.append('C:\\\\Users\\\\Bhujay_ROG\\\\MyDev\\\\OCLog\\\\oclog\\hdfs')\n",
    "##### appending the static path to aavoid the error \n",
    "# ModuleNotFoundError                       Traceback (most recent call last)\n",
    "# Input In [9], in <cell line: 3>()\n",
    "#       2 hdfs_obj_full_name_path = 'C:\\\\Users\\\\Bhujay_ROG\\\\MyDev\\\\OCLog\\\\oclog\\\\hdfs\\\\data\\\\hdfsobj_32_64_no_meta.pkl'\n",
    "#       3 with open(hdfs_obj_full_name_path, 'rb') as f:\n",
    "# ----> 4             hdfslogs = pickle.load(f)\n",
    "\n",
    "# ModuleNotFoundError: No module named 'hdflogv3'\n",
    "from oclog.BGL.mixed_log import MixedLog, get_embedding_layer\n",
    "from oclog.hdfs.hdflogv3 import HDFSLogv3\n",
    "import numpy as np\n",
    "import pandas as pd\n",
    "from oclog.openset.opensetv10 import OpenSet\n",
    "from tensorflow.keras.utils import to_categorical\n",
    "from sklearn import preprocessing"
   ]
  },
  {
   "cell_type": "code",
   "execution_count": 2,
   "id": "5b970a3c-f6ff-479d-9790-105eb59c69c6",
   "metadata": {},
   "outputs": [
    {
     "name": "stdout",
     "output_type": "stream",
     "text": [
      "ablation set to : 1000\n",
      "log file path found:  True\n",
      "total number of lines in the log file: 4747963\n",
      "RAM usage:  39064728\n",
      "ending logs in memory: 0.8407607078552246\n",
      "alerts 4747963\n",
      "unique_alerts: {'WARNING', '0x00544eb8,', 'single', 'Kill', 'SEVERE', 'microseconds', 'INFO', 'FAILURE', 'ERROR', 'FATAL'}\n",
      "length of list of sequence 148373\n",
      "elapsed time: 2.3060302734375\n",
      "len of whole_text_for_training 4747936\n",
      "character vocabulary 50\n",
      "len of numseq:  148373\n",
      "                                                 seq label\n",
      "0  [[18, 2, 4, 3, 2, 9, 5, 3, 13, 6, 5, 3, 12, 7,...  INFO\n",
      "1  [[18, 2, 4, 3, 2, 9, 5, 3, 13, 6, 5, 3, 12, 7,...  INFO\n",
      "2  [[18, 2, 4, 3, 2, 9, 5, 3, 13, 6, 5, 3, 12, 7,...  INFO\n",
      "3  [[18, 2, 4, 3, 2, 9, 5, 3, 13, 6, 5, 3, 12, 7,...  INFO\n",
      "4  [[18, 2, 4, 3, 2, 9, 5, 3, 13, 6, 5, 3, 12, 7,...  INFO\n",
      "INFO       114115\n",
      "FATAL       28439\n",
      "ERROR        4049\n",
      "WARNING       902\n",
      "SEVERE        628\n",
      "Kill          165\n",
      "FAILURE        75\n",
      "Name: label, dtype: int64\n",
      "completed padding sequences in 167.67467498779297 sec\n",
      "trying to save pickle in : C:\\Users\\Bhujay_ROG\\MyDev\\OCLog\\oclog\\BGL\\data\\bgl_ukc_32_64_no_meta.pkl\n",
      "saved: C:\\Users\\Bhujay_ROG\\MyDev\\OCLog\\oclog\\BGL\\data\\bgl_ukc_32_64_no_meta.pkl\n",
      "saved: C:\\Users\\Bhujay_ROG\\MyDev\\OCLog\\oclog\\BGL\\data\\bgl_ukc_32_64_no_meta_tk.pkl\n",
      "designated_ukc_cls: FAILURE not matched with current label: INFO\n",
      "train_INFO:, 800, val_INFO:, 100, test_INFO:, 100\n",
      "designated_ukc_cls: FAILURE not matched with current label: FATAL\n",
      "train_FATAL:, 800, val_FATAL:, 100, test_FATAL:, 100\n",
      "designated_ukc_cls: FAILURE not matched with current label: ERROR\n",
      "train_ERROR:, 800, val_ERROR:, 100, test_ERROR:, 100\n",
      "designated_ukc_cls: FAILURE not matched with current label: WARNING\n",
      "train_WARNING:, 800, val_WARNING:, 100, test_WARNING:, 2\n",
      "designated_ukc_cls: FAILURE not matched with current label: SEVERE\n",
      "628 data in class SEVERE not enough to split into train:800 and validation:100, adding the entire data in a temp bucket that can be used later as UKC through parameter designated_ukc_cls\n",
      "designated_ukc_cls: FAILURE not matched with current label: Kill\n",
      "165 data in class Kill not enough to split into train:800 and validation:100, adding the entire data in a temp bucket that can be used later as UKC through parameter designated_ukc_cls\n",
      "designated_ukc_cls: FAILURE matched with current label: FAILURE\n",
      "class FAILURE is added as ukc as per parameter designated_ukc_cls\n",
      "ukc_FAILURE:, 75\n",
      "total data in  temp ukc bucket: 75\n",
      "since the ukc_cnt value: 16000 is less than the temporary bucket: 75, adding all to ukc data\n",
      "train classes:\n",
      " INFO       800\n",
      "FATAL      800\n",
      "ERROR      800\n",
      "WARNING    800\n",
      "Name: label, dtype: int64\n",
      "val classes:\n",
      " INFO       100\n",
      "FATAL      100\n",
      "ERROR      100\n",
      "WARNING    100\n",
      "Name: label, dtype: int64\n",
      "test classes:\n",
      " INFO       100\n",
      "FATAL      100\n",
      "ERROR      100\n",
      "FAILURE     75\n",
      "WARNING      2\n",
      "Name: label, dtype: int64\n",
      "original train cls: ['ERROR', 'FATAL', 'INFO', 'WARNING']\n",
      "Note the classes and their respective numbers: [0 1 2 3]\n",
      "original val cls: ['ERROR', 'FATAL', 'INFO', 'WARNING']\n",
      "Note the classes and their respective numbers: [0 1 2 3]\n",
      "labels in y_test: ['ERROR' 'FAILURE' 'FATAL' 'INFO' 'WARNING'], 5 \n",
      "\n",
      "lbl_encoded_cls_test: [0 1 2 3 4]\n",
      "automatic identification of ukc label is: 4\n",
      "some example of labels:\n",
      "first two label in train:\n",
      " [[0. 0. 1. 0.]\n",
      " [0. 0. 1. 0.]]\n",
      "first two label in tests:\n",
      " [[0. 0. 0. 1. 0.]\n",
      " [0. 0. 0. 1. 0.]]\n",
      "80th and 82nd train label:\n",
      " [[0. 0. 1. 0.]\n",
      " [0. 0. 1. 0.]]\n",
      "INFO       114115\n",
      "FATAL       28439\n",
      "ERROR        4049\n",
      "WARNING       902\n",
      "SEVERE        628\n",
      "Kill          165\n",
      "FAILURE        75\n",
      "Name: label, dtype: int64\n",
      "train_data <BatchDataset element_spec=(TensorSpec(shape=(32, 32, 64), dtype=tf.int32, name=None), TensorSpec(shape=(32, 4), dtype=tf.float32, name=None))>\n",
      "val_data <BatchDataset element_spec=(TensorSpec(shape=(32, 32, 64), dtype=tf.int32, name=None), TensorSpec(shape=(32, 4), dtype=tf.float32, name=None))>\n",
      "test_data <BatchDataset element_spec=(TensorSpec(shape=(32, 32, 64), dtype=tf.int32, name=None), TensorSpec(shape=(32, 5), dtype=tf.float32, name=None))>\n",
      "char in lines, train_data.element_spec[0].shape[2] 64\n",
      "num classes, train_data.element_spec[1].shape[1]:  4\n",
      "length of val_data: 12\n",
      "length of train_data - (num_seq_per_cls * num_class)// batch size: 100\n"
     ]
    }
   ],
   "source": [
    "bglog = MixedLog(debug=True, \n",
    "                 padded_seq_len=32, \n",
    "                 padded_char_len=64, \n",
    "                 log_meta_status='no_meta',  \n",
    "                 save_padded_num_sequences=True, \n",
    "                 load_from_pkl=False)\n",
    "# train_test = bglog.get_tensor_train_val_test(ablation=1000, designated_ukc_cls=5 )\n",
    "train_test = bglog.get_tensor_train_val_test(ablation=1000 )\n",
    "train_data, val_data, test_data = train_test"
   ]
  },
  {
   "cell_type": "code",
   "execution_count": 3,
   "id": "be10b376-a899-4522-bd74-93d740636bcc",
   "metadata": {},
   "outputs": [
    {
     "name": "stdout",
     "output_type": "stream",
     "text": [
      "ablation set to : 1000\n",
      "padded_num_seq_df loaded from C:\\Users\\Bhujay_ROG\\MyDev\\OCLog\\oclog\\BGL\\data\\bgl_ukc_32_64_no_meta.pkl\n",
      "trained tokenizer, tk, loaded from C:\\Users\\Bhujay_ROG\\MyDev\\OCLog\\oclog\\BGL\\data\\bgl_ukc_32_64_no_meta_tk.pkl\n",
      "found existing hdfs saved object from C:\\Users\\Bhujay_ROG\\MyDev\\OCLog\\oclog\\hdfs\\data\\hdfsobj_32_64_no_meta.pkl\n",
      "INFO            114115\n",
      "FATAL            28439\n",
      "hdfs_anomaly     16838\n",
      "hdfs_normal      16838\n",
      "ERROR             4049\n",
      "WARNING            902\n",
      "SEVERE             628\n",
      "Kill               165\n",
      "FAILURE             75\n",
      "Name: label, dtype: int64\n",
      "designated_ukc_cls: FAILURE not matched with current label: INFO\n",
      "train_INFO:, 800, val_INFO:, 100, test_INFO:, 100\n",
      "designated_ukc_cls: FAILURE not matched with current label: hdfs_anomaly\n",
      "train_hdfs_anomaly:, 800, val_hdfs_anomaly:, 100, test_hdfs_anomaly:, 100\n",
      "designated_ukc_cls: FAILURE not matched with current label: hdfs_normal\n",
      "train_hdfs_normal:, 800, val_hdfs_normal:, 100, test_hdfs_normal:, 100\n",
      "designated_ukc_cls: FAILURE not matched with current label: FATAL\n",
      "train_FATAL:, 800, val_FATAL:, 100, test_FATAL:, 100\n",
      "designated_ukc_cls: FAILURE not matched with current label: ERROR\n",
      "train_ERROR:, 800, val_ERROR:, 100, test_ERROR:, 100\n",
      "designated_ukc_cls: FAILURE not matched with current label: WARNING\n",
      "train_WARNING:, 800, val_WARNING:, 100, test_WARNING:, 2\n",
      "designated_ukc_cls: FAILURE not matched with current label: SEVERE\n",
      "628 data in class SEVERE not enough to split into train:800 and validation:100, adding the entire data in a temp bucket that can be used later as UKC through parameter designated_ukc_cls\n",
      "designated_ukc_cls: FAILURE not matched with current label: Kill\n",
      "165 data in class Kill not enough to split into train:800 and validation:100, adding the entire data in a temp bucket that can be used later as UKC through parameter designated_ukc_cls\n",
      "designated_ukc_cls: FAILURE matched with current label: FAILURE\n",
      "class FAILURE is added as ukc as per parameter designated_ukc_cls\n",
      "ukc_FAILURE:, 75\n",
      "total data in  temp ukc bucket: 75\n",
      "since the ukc_cnt value: 500 is less than the temporary bucket: 75, adding all to ukc data\n",
      "train classes:\n",
      " INFO            800\n",
      "hdfs_anomaly    800\n",
      "hdfs_normal     800\n",
      "FATAL           800\n",
      "ERROR           800\n",
      "WARNING         800\n",
      "Name: label, dtype: int64\n",
      "val classes:\n",
      " INFO            100\n",
      "hdfs_anomaly    100\n",
      "hdfs_normal     100\n",
      "FATAL           100\n",
      "ERROR           100\n",
      "WARNING         100\n",
      "Name: label, dtype: int64\n",
      "test classes:\n",
      " INFO            100\n",
      "hdfs_anomaly    100\n",
      "hdfs_normal     100\n",
      "FATAL           100\n",
      "ERROR           100\n",
      "FAILURE          75\n",
      "WARNING           2\n",
      "Name: label, dtype: int64\n",
      "original train cls: ['ERROR', 'FATAL', 'INFO', 'WARNING', 'hdfs_anomaly', 'hdfs_normal']\n",
      "Note the classes and their respective numbers: [0 1 2 3 4 5]\n",
      "original val cls: ['ERROR', 'FATAL', 'INFO', 'WARNING', 'hdfs_anomaly', 'hdfs_normal']\n",
      "Note the classes and their respective numbers: [0 1 2 3 4 5]\n",
      "labels in y_test: ['ERROR' 'FAILURE' 'FATAL' 'INFO' 'WARNING' 'hdfs_anomaly' 'hdfs_normal'], 7 \n",
      "\n",
      "lbl_encoded_cls_test: [0 1 2 3 4 5 6]\n",
      "automatic identification of ukc label is: 6\n",
      "some example of labels:\n",
      "first two label in train:\n",
      " [[0. 0. 1. 0. 0. 0.]\n",
      " [0. 0. 1. 0. 0. 0.]]\n",
      "first two label in tests:\n",
      " [[0. 0. 0. 1. 0. 0. 0.]\n",
      " [0. 0. 0. 1. 0. 0. 0.]]\n",
      "80th and 82nd train label:\n",
      " [[0. 0. 1. 0. 0. 0.]\n",
      " [0. 0. 1. 0. 0. 0.]]\n",
      "INFO       114115\n",
      "FATAL       28439\n",
      "ERROR        4049\n",
      "WARNING       902\n",
      "SEVERE        628\n",
      "Kill          165\n",
      "FAILURE        75\n",
      "Name: label, dtype: int64\n",
      "train_data <BatchDataset element_spec=(TensorSpec(shape=(32, 32, 64), dtype=tf.int32, name=None), TensorSpec(shape=(32, 6), dtype=tf.float32, name=None))>\n",
      "val_data <BatchDataset element_spec=(TensorSpec(shape=(32, 32, 64), dtype=tf.int32, name=None), TensorSpec(shape=(32, 6), dtype=tf.float32, name=None))>\n",
      "test_data <BatchDataset element_spec=(TensorSpec(shape=(32, 32, 64), dtype=tf.int32, name=None), TensorSpec(shape=(32, 7), dtype=tf.float32, name=None))>\n",
      "char in lines, train_data.element_spec[0].shape[2] 64\n",
      "num classes, train_data.element_spec[1].shape[1]:  6\n",
      "length of val_data: 18\n",
      "length of train_data - (num_seq_per_cls * num_class)// batch size: 150\n"
     ]
    }
   ],
   "source": [
    "#### load the generated bglog and the hdfs log based on param setting the correct file shd be loaded\n",
    "mlog = MixedLog(debug=True,\n",
    "                mixed_logs=True,\n",
    "                load_from_pkl=True,\n",
    "                save_padded_num_sequences=False, \n",
    "                ablation=500, \n",
    "                 )\n",
    "train_test = mlog.get_tensor_train_val_test(ablation=1000)\n",
    "train_data, val_data, test_data = train_test"
   ]
  },
  {
   "cell_type": "code",
   "execution_count": null,
   "id": "0c49729e-730a-46ae-9fe2-adc2f2c5deb6",
   "metadata": {},
   "outputs": [],
   "source": []
  },
  {
   "cell_type": "code",
   "execution_count": 4,
   "id": "45c96010-9691-4209-ab1a-ddc21efcdf2c",
   "metadata": {},
   "outputs": [
    {
     "name": "stdout",
     "output_type": "stream",
     "text": [
      "got all the dataset\n",
      "vocab_size: 50\n",
      "got all the dataset\n",
      "2022-04-30 11:35:22.370409\n",
      "starting to create ptmodel automatically\n",
      "staring pre trining\n",
      "Epoch 1/5\n",
      "150/150 [==============================] - ETA: 0s - loss: 0.5793 - accuracy: 0.7865 - precision: 0.8997 - recall: 0.6894\n",
      "Epoch 1: val_accuracy improved from -inf to 0.96354, saving model to data\\ptmodel_2022-04-30_11_35_22.370409\\\n",
      "INFO:tensorflow:Assets written to: data\\ptmodel_2022-04-30_11_35_22.370409\\assets\n",
      "150/150 [==============================] - 17s 107ms/step - loss: 0.5793 - accuracy: 0.7865 - precision: 0.8997 - recall: 0.6894 - val_loss: 0.1672 - val_accuracy: 0.9635 - val_precision: 0.9685 - val_recall: 0.9601 - lr: 0.0010\n",
      "Epoch 2/5\n",
      "150/150 [==============================] - ETA: 0s - loss: 0.0823 - accuracy: 0.9719 - precision: 0.9719 - recall: 0.9719\n",
      "Epoch 2: val_accuracy improved from 0.96354 to 0.99306, saving model to data\\ptmodel_2022-04-30_11_35_22.370409\\\n",
      "INFO:tensorflow:Assets written to: data\\ptmodel_2022-04-30_11_35_22.370409\\assets\n",
      "150/150 [==============================] - 16s 105ms/step - loss: 0.0823 - accuracy: 0.9719 - precision: 0.9719 - recall: 0.9719 - val_loss: 0.0303 - val_accuracy: 0.9931 - val_precision: 0.9931 - val_recall: 0.9931 - lr: 0.0010\n",
      "Epoch 3/5\n",
      "150/150 [==============================] - ETA: 0s - loss: 0.0430 - accuracy: 0.9846 - precision: 0.9848 - recall: 0.9844\n",
      "Epoch 3: val_accuracy did not improve from 0.99306\n",
      "150/150 [==============================] - 15s 99ms/step - loss: 0.0430 - accuracy: 0.9846 - precision: 0.9848 - recall: 0.9844 - val_loss: 0.0585 - val_accuracy: 0.9844 - val_precision: 0.9844 - val_recall: 0.9844 - lr: 0.0010\n",
      "Epoch 4/5\n",
      "150/150 [==============================] - ETA: 0s - loss: 0.0316 - accuracy: 0.9879 - precision: 0.9879 - recall: 0.9877\n",
      "Epoch 4: val_accuracy improved from 0.99306 to 0.99826, saving model to data\\ptmodel_2022-04-30_11_35_22.370409\\\n",
      "INFO:tensorflow:Assets written to: data\\ptmodel_2022-04-30_11_35_22.370409\\assets\n",
      "150/150 [==============================] - 16s 104ms/step - loss: 0.0316 - accuracy: 0.9879 - precision: 0.9879 - recall: 0.9877 - val_loss: 0.0104 - val_accuracy: 0.9983 - val_precision: 0.9983 - val_recall: 0.9983 - lr: 0.0010\n",
      "Epoch 5/5\n",
      "150/150 [==============================] - ETA: 0s - loss: 0.0159 - accuracy: 0.9946 - precision: 0.9950 - recall: 0.9946\n",
      "Epoch 5: val_accuracy improved from 0.99826 to 1.00000, saving model to data\\ptmodel_2022-04-30_11_35_22.370409\\\n",
      "INFO:tensorflow:Assets written to: data\\ptmodel_2022-04-30_11_35_22.370409\\assets\n",
      "150/150 [==============================] - 16s 106ms/step - loss: 0.0159 - accuracy: 0.9946 - precision: 0.9950 - recall: 0.9946 - val_loss: 0.0021 - val_accuracy: 1.0000 - val_precision: 1.0000 - val_recall: 1.0000 - lr: 0.0010\n"
     ]
    },
    {
     "data": {
      "image/png": "[encoded data removed]",
      "text/plain": [
       "<Figure size 1440x432 with 2 Axes>"
      ]
     },
     "metadata": {
      "needs_background": "light"
     },
     "output_type": "display_data"
    },
    {
     "name": "stdout",
     "output_type": "stream",
     "text": [
      "run_id:  2022-04-30_11_36_41.662354_b46a7fb4c84b11ec9121ac8247733f47\n"
     ]
    },
    {
     "data": {
      "image/png": "[encoded data removed]",
      "text/plain": [
       "<Figure size 432x288 with 1 Axes>"
      ]
     },
     "metadata": {
      "needs_background": "light"
     },
     "output_type": "display_data"
    },
    {
     "name": "stdout",
     "output_type": "stream",
     "text": [
      "run_id:  2022-04-30_11_37_29.960309_d1342e94c84b11ec8594ac8247733f47\n"
     ]
    }
   ],
   "source": [
    "oset = OpenSet()\n",
    "res = oset.extract_features_and_centroids(bglog=mlog, train_data=train_data, val_data=val_data, test_data=test_data)"
   ]
  },
  {
   "cell_type": "code",
   "execution_count": null,
   "id": "58bb7d77-deee-49f8-8d83-f0b9e68619aa",
   "metadata": {},
   "outputs": [],
   "source": []
  },
  {
   "cell_type": "code",
   "execution_count": null,
   "id": "1a663efd-064a-4e11-89ce-b8f744d46eb6",
   "metadata": {},
   "outputs": [],
   "source": []
  },
  {
   "cell_type": "code",
   "execution_count": null,
   "id": "38e950c6-51ff-4324-a719-ce7702c33e9e",
   "metadata": {},
   "outputs": [],
   "source": []
  },
  {
   "cell_type": "code",
   "execution_count": null,
   "id": "2bbc31a9-432a-41d4-82f4-d0c1678249d8",
   "metadata": {},
   "outputs": [],
   "source": []
  },
  {
   "cell_type": "code",
   "execution_count": null,
   "id": "6ca18422-3227-42da-96ff-4fb4038c56fe",
   "metadata": {},
   "outputs": [],
   "source": []
  },
  {
   "cell_type": "code",
   "execution_count": null,
   "id": "897fce00-3250-4a64-90a1-37bb507d296c",
   "metadata": {},
   "outputs": [],
   "source": []
  },
  {
   "cell_type": "code",
   "execution_count": null,
   "id": "68515a4e-19c9-49a8-ae70-376c3e34b921",
   "metadata": {},
   "outputs": [],
   "source": []
  },
  {
   "cell_type": "code",
   "execution_count": null,
   "id": "c74b7b16-a467-4df0-95e5-1e422b71af11",
   "metadata": {},
   "outputs": [],
   "source": []
  },
  {
   "cell_type": "code",
   "execution_count": null,
   "id": "50fd54f2-cfbc-491c-b5dc-3b1600ba7894",
   "metadata": {},
   "outputs": [],
   "source": []
  },
  {
   "cell_type": "code",
   "execution_count": null,
   "id": "1b99c613-2dd7-4798-af4a-1489ec313a0f",
   "metadata": {},
   "outputs": [],
   "source": []
  },
  {
   "cell_type": "code",
   "execution_count": null,
   "id": "e564bf49-802d-4475-bd5f-34c7e653c1b8",
   "metadata": {},
   "outputs": [],
   "source": []
  },
  {
   "cell_type": "code",
   "execution_count": null,
   "id": "fe85b919-fa75-4613-b97b-d9d28936bcb8",
   "metadata": {},
   "outputs": [],
   "source": []
  },
  {
   "cell_type": "code",
   "execution_count": 5,
   "id": "3f2d0067-a305-40fa-b1f1-9855bfcd50d3",
   "metadata": {},
   "outputs": [],
   "source": [
    "# le = preprocessing.LabelEncoder()\n",
    "# lbl_encoded_cls = le.fit_transform([\"tokyo\", \"tokyo\", \"paris\", \"amsterdam\"])\n",
    "# print('original text cls:' , list(le.classes_))\n",
    "# cls_to_num_map = le.transform(le.classes_)\n",
    "# print('cls_to_num_map:',cls_to_num_map)\n",
    "# print('lbl_encoded_cls:', lbl_encoded_cls)\n",
    "# lbl_decoded_cls = list(le.inverse_transform(lbl_encoded_cls))\n",
    "# print('lbl_decoded_cls:', lbl_decoded_cls)\n",
    "# categorical_cls = to_categorical(lbl_encoded_cls)\n",
    "# print('categorical_cls:', categorical_cls)\n",
    "# for idx, lbl in enumerate(categorical_cls):\n",
    "#     categorical_to_labl_encode_item = np.argmax(categorical_cls[idx])\n",
    "#     print(f'categorical_to_labl_encode_{idx}_item: {categorical_to_labl_encode_item}')\n",
    "# # le.n_features_in_"
   ]
  },
  {
   "cell_type": "code",
   "execution_count": null,
   "id": "0243cc2d-0222-40cf-9c10-9bdc1c5239b4",
   "metadata": {},
   "outputs": [],
   "source": []
  },
  {
   "cell_type": "code",
   "execution_count": null,
   "id": "c0fc4c27-61bd-4cfe-92c8-36d0f24f09b7",
   "metadata": {},
   "outputs": [],
   "source": []
  },
  {
   "cell_type": "code",
   "execution_count": null,
   "id": "841f7f35-cce6-44cb-bc7e-b5348f36e603",
   "metadata": {},
   "outputs": [],
   "source": []
  },
  {
   "cell_type": "code",
   "execution_count": null,
   "id": "533f035f-a67c-4e46-b2b8-67ca0fbebb79",
   "metadata": {},
   "outputs": [],
   "source": []
  }
 ],
 "metadata": {
  "kernelspec": {
   "display_name": "Python 3 (ipykernel)",
   "language": "python",
   "name": "python3"
  },
  "language_info": {
   "codemirror_mode": {
    "name": "ipython",
    "version": 3
   },
   "file_extension": ".py",
   "mimetype": "text/x-python",
   "name": "python",
   "nbconvert_exporter": "python",
   "pygments_lexer": "ipython3",
   "version": "3.9.12"
  }
 },
 "nbformat": 4,
 "nbformat_minor": 5
}
