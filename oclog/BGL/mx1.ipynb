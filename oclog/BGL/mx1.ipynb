{
 "cells": [
  {
   "cell_type": "code",
   "execution_count": 1,
   "id": "11c9e750-b1f8-4e1b-9d3b-fdcc37972778",
   "metadata": {},
   "outputs": [],
   "source": [
    "import os, sys\n",
    "cur_dir = os.getcwd()\n",
    "basename = os.path.basename(cur_dir)\n",
    "for _ in range(5):\n",
    "    if basename != 'OCLog':\n",
    "        cur_dir = os.path.dirname(cur_dir)\n",
    "        basename = os.path.basename(cur_dir)\n",
    "        #print(cur_dir, basename)\n",
    "    else:\n",
    "        if cur_dir not in sys.path:\n",
    "            sys.path.append(cur_dir)\n",
    "            #print(sys.path)\n",
    "sys.path.append('C:\\\\Users\\\\Bhujay_ROG\\\\MyDev\\\\OCLog\\\\oclog\\hdfs')\n",
    "##### appending the static path to aavoid the error \n",
    "# ModuleNotFoundError                       Traceback (most recent call last)\n",
    "# Input In [9], in <cell line: 3>()\n",
    "#       2 hdfs_obj_full_name_path = 'C:\\\\Users\\\\Bhujay_ROG\\\\MyDev\\\\OCLog\\\\oclog\\\\hdfs\\\\data\\\\hdfsobj_32_64_no_meta.pkl'\n",
    "#       3 with open(hdfs_obj_full_name_path, 'rb') as f:\n",
    "# ----> 4             hdfslogs = pickle.load(f)\n",
    "\n",
    "# ModuleNotFoundError: No module named 'hdflogv3'\n",
    "from oclog.BGL.mxl import MixedLog, get_embedding_layer\n",
    "from oclog.hdfs.hdflogv3 import HDFSLogv3\n",
    "import numpy as np\n",
    "import pandas as pd\n",
    "from oclog.openset.opensetv10 import OpenSet\n",
    "from tensorflow.keras.utils import to_categorical\n",
    "from sklearn import preprocessing"
   ]
  },
  {
   "cell_type": "code",
   "execution_count": 2,
   "id": "6ca18422-3227-42da-96ff-4fb4038c56fe",
   "metadata": {},
   "outputs": [
    {
     "name": "stdout",
     "output_type": "stream",
     "text": [
      "saved file name will be:  bgl_ukc_32_176_time_ip\n",
      "############## you want to mix log from HDFS, let me try that ##################### \n",
      "#### I will change the existing label of BGL to accomodate hdfs label #####\n",
      "bgl log file path found:  True\n",
      "total number of lines in the bgl log file: 4747963\n",
      "RAM usage:  39064728\n",
      "ending logs in memory: 0.8340137004852295\n",
      "alerts 4747963\n",
      "unique_alerts: {'Kill', 'FATAL', 'INFO', '0x00544eb8,', 'single', 'FAILURE', 'microseconds', 'SEVERE', 'ERROR', 'WARNING'}\n",
      "length of list of sequence 148373\n",
      "elapsed time: 2.305490016937256\n",
      "len of whole_text_for_training 4747936\n",
      "character vocabulary 50\n",
      "len of numseq:  148373\n",
      "how the bgl padded_num_seq_df looks:\n",
      "                                                  seq label\n",
      "0  [[3, 3, 3, 15, 19, 11, 19, 8, 15, 2, 5, 2, 2, ...  INFO\n",
      "1  [[3, 3, 3, 15, 19, 11, 19, 8, 15, 8, 5, 2, 2, ...  INFO\n",
      "class label to number mapping for bgl: {'INFO': '0', 'FATAL': '1', 'ERROR': '2', 'WARNING': '3', 'SEVERE': '4', 'Kill': '5', 'FAILURE': '6'}\n",
      "count of each class in bgl padded_num_seq_df:\n",
      " {'0': 114115, '1': 28439, '2': 4049, '3': 902, '4': 628, '5': 165, '6': 75}\n",
      "completed padding sequences in 375.74377632141113 sec\n",
      "trying to save pickle in : C:\\Users\\Bhujay_ROG\\MyDev\\OCLog\\oclog\\BGL\\data\\bgl_ukc_32_176_time_ip.pkl\n",
      "saved: C:\\Users\\Bhujay_ROG\\MyDev\\OCLog\\oclog\\BGL\\data\\bgl_ukc_32_176_time_ip.pkl\n",
      "saved: C:\\Users\\Bhujay_ROG\\MyDev\\OCLog\\oclog\\BGL\\data\\bgl_ukc_32_176_time_ip_tk.pkl\n",
      "taking few selected classes from original bgl:  {'0': 114115, '1': 28439, '2': 4049, '3': 902, '4': 628}\n",
      "changed bgl classes:  {'0': 114115, '1': 28439, '4': 4049, '5': 902, '6': 628}\n",
      "found existing hdfs saved object from C:\\Users\\Bhujay_ROG\\MyDev\\OCLog\\oclog\\hdfs\\data\\hdfsobj_32_176_time_ip.pkl\n",
      "classes in hdfs df, lebeled_num_seq_df_epn: \n",
      " {'hdfs_anomaly': 16838, 'hdfs_normal': 16838}\n",
      "hdfs class map:  {'hdfs_anomaly': '2', 'hdfs_normal': '3'}\n",
      "changed hdfs classes:  {'2': 16838, '3': 16838}\n",
      "Merged the bgl and hdfs level as the mixed df:  {'0': 114115, '1': 28439, '2': 16838, '3': 16838, '4': 4049, '5': 902, '6': 628}\n"
     ]
    }
   ],
   "source": [
    "mlog = MixedLog(debug=True,\n",
    "                mixed_logs=True,\n",
    "                padded_seq_len=32, \n",
    "                padded_char_len=176, \n",
    "                log_meta_status='time_ip',                \n",
    "                save_padded_num_sequences=True,\n",
    "                load_from_pkl=False, )\n",
    "res = mlog.get_mix_log_df()                                 \n",
    "# train_test = mlog.get_tensor_train_val_test(ablation=1000, designated_ukc_cls )\n",
    "# train_data, val_data, test_data = train_test\n",
    "# oset = OpenSet()\n",
    "# res = oset.train(bglog=mlog, train_data=train_data, val_data=val_data, test_data=test_data, \n",
    "#                  pt_epochs=5, oc_epochs=5, ukc_label=4)"
   ]
  },
  {
   "cell_type": "code",
   "execution_count": 3,
   "id": "4d821efa-eea7-4c0a-9fc6-4d55f9656a3f",
   "metadata": {},
   "outputs": [
    {
     "name": "stdout",
     "output_type": "stream",
     "text": [
      "ablation set to : 1000\n",
      "parameter value for designated_ukc_cls within multiclass:  2\n",
      "############## you want to mix log from HDFS, let me try that ##################### \n",
      "#### I will change the existing label of BGL to accomodate hdfs label #####\n",
      "taking few selected classes from original bgl:  {'0': 114115, '1': 28439, '2': 4049, '3': 902, '4': 628}\n",
      "changed bgl classes:  {'0': 114115, '1': 28439, '4': 4049, '5': 902, '6': 628}\n",
      "found existing hdfs saved object from C:\\Users\\Bhujay_ROG\\MyDev\\OCLog\\oclog\\hdfs\\data\\hdfsobj_32_176_time_ip.pkl\n",
      "classes in hdfs df, lebeled_num_seq_df_epn: \n",
      " {'hdfs_anomaly': 16838, 'hdfs_normal': 16838}\n",
      "hdfs class map:  {'hdfs_anomaly': '2', 'hdfs_normal': '3'}\n",
      "changed hdfs classes:  {'2': 16838, '3': 16838}\n",
      "Merged the bgl and hdfs level as the mixed df:  {'0': 114115, '1': 28439, '2': 16838, '3': 16838, '4': 4049, '5': 902, '6': 628}\n",
      "class_0 not a desgnated ukc, hence adding in train, val and test\n",
      "train_0:, 800\n",
      "val_0:, 100\n",
      "test_0:, 100\n",
      "class_1 not a desgnated ukc, hence adding in train, val and test\n",
      "train_1:, 800\n",
      "val_1:, 100\n",
      "test_1:, 100\n",
      "class 2 is added as ukc\n",
      "ukc_2:, 100\n",
      "class_3 not a desgnated ukc, hence adding in train, val and test\n",
      "train_3:, 800\n",
      "val_3:, 100\n",
      "test_3:, 100\n",
      "class_4 not a desgnated ukc, hence adding in train, val and test\n",
      "train_4:, 800\n",
      "val_4:, 100\n",
      "test_4:, 100\n",
      "class_5 not a desgnated ukc, hence adding in train, val and test\n",
      "train_5:, 800\n",
      "val_5:, 100\n",
      "test_5:, 2\n",
      "class_6 not a desgnated ukc, hence adding in train, val and test\n",
      "628 data in class 6 not enough to split into train:800 and validation:100, adding the entire data as temp  ukc bucket from where later actual ukc can be taken\n",
      "ukc_6:, 100\n",
      "total data in  temp ukc bucket: 200\n",
      "you wanted 1000 ukc data but that much is not there.  adding 200 to ukc data\n",
      "ukc_to_add df :  {'2': 100, '6': 100}\n",
      "train classes: {'0': 800, '1': 800, '3': 800, '4': 800, '5': 800}\n",
      "val classes: {'0': 100, '1': 100, '3': 100, '4': 100, '5': 100}\n",
      "test classes: {'0': 100, '1': 100, '3': 100, '4': 100, '2': 100, '6': 100, '5': 2}\n",
      "test df 0    100\n",
      "1    100\n",
      "3    100\n",
      "4    100\n",
      "2    100\n",
      "6    100\n",
      "5      2\n",
      "Name: label, dtype: int64\n",
      "some example of labels:\n",
      "[[1. 0. 0. 0. 0. 0.]\n",
      " [1. 0. 0. 0. 0. 0.]]\n",
      "[[1. 0. 0. 0. 0. 0. 0.]\n",
      " [1. 0. 0. 0. 0. 0. 0.]]\n",
      "[[1. 0. 0. 0. 0. 0.]\n",
      " [1. 0. 0. 0. 0. 0.]]\n",
      "0    114115\n",
      "1     28439\n",
      "2      4049\n",
      "3       902\n",
      "4       628\n",
      "5       165\n",
      "6        75\n",
      "Name: label, dtype: int64\n",
      "train_data <BatchDataset element_spec=(TensorSpec(shape=(32, 32, 176), dtype=tf.int32, name=None), TensorSpec(shape=(32, 6), dtype=tf.float32, name=None))>\n",
      "val_data <BatchDataset element_spec=(TensorSpec(shape=(32, 32, 176), dtype=tf.int32, name=None), TensorSpec(shape=(32, 6), dtype=tf.float32, name=None))>\n",
      "test_data <BatchDataset element_spec=(TensorSpec(shape=(32, 32, 176), dtype=tf.int32, name=None), TensorSpec(shape=(32, 7), dtype=tf.float32, name=None))>\n",
      "char in lines, train_data.element_spec[0].shape[2] 176\n",
      "num classes, train_data.element_spec[1].shape[1]:  6\n",
      "length of val_data: 15\n",
      "length of train_data - (num_seq_per_cls * num_class)// batch size: 125\n"
     ]
    }
   ],
   "source": [
    "train_test = mlog.get_tensor_train_val_test(ablation=1000, designated_ukc_cls=2 )"
   ]
  },
  {
   "cell_type": "code",
   "execution_count": 7,
   "id": "5eb38c19-5b06-41bf-86f8-5e01ed32f2f7",
   "metadata": {},
   "outputs": [],
   "source": [
    "# mlog = MixedLog(debug=True,\n",
    "#                 mixed_logs=True,\n",
    "#                 padded_seq_len=32, \n",
    "#                 padded_char_len=176, \n",
    "#                 log_meta_status='time_ip',                \n",
    "#                 save_padded_num_sequences=False,\n",
    "#                 load_from_pkl=True,\n",
    "#                 desgnated_ukc_cls=3                 )\n",
    "# train_test = mlog.get_tensor_train_val_test(ablation=1000, designated_ukc_cls=6)\n",
    "train_data, val_data, test_data = train_test"
   ]
  },
  {
   "cell_type": "code",
   "execution_count": 5,
   "id": "bc599163-be37-4cea-ad5d-14805c5ccb2b",
   "metadata": {},
   "outputs": [
    {
     "data": {
      "text/plain": [
       "2"
      ]
     },
     "execution_count": 5,
     "metadata": {},
     "output_type": "execute_result"
    }
   ],
   "source": [
    "mlog.designated_ukc_cls"
   ]
  },
  {
   "cell_type": "code",
   "execution_count": null,
   "id": "e564bf49-802d-4475-bd5f-34c7e653c1b8",
   "metadata": {},
   "outputs": [
    {
     "name": "stdout",
     "output_type": "stream",
     "text": [
      "got all the dataset\n",
      "Check if I am assigning ukc_label: 2 correctly, this should match with the ukc_label for the test dataset\n",
      "unknown optimizer None. assigning default as adam with lr_rate=2\n",
      "got all the dataset\n",
      "got all the dataset\n",
      "vocab_size: 50\n",
      "got all the dataset\n",
      "2022-04-30 22:03:07.258367\n",
      "starting to create ptmodel automatically\n",
      "staring pre trining\n",
      "Epoch 1/5\n",
      "125/125 [==============================] - ETA: 0s - loss: 0.4965 - accuracy: 0.8108 - precision: 0.9038 - recall: 0.7235\n",
      "Epoch 1: val_accuracy improved from -inf to 0.82917, saving model to data\\ptmodel_2022-04-30_22_03_07.258367\\\n",
      "INFO:tensorflow:Assets written to: data\\ptmodel_2022-04-30_22_03_07.258367\\assets\n",
      "125/125 [==============================] - 34s 266ms/step - loss: 0.4965 - accuracy: 0.8108 - precision: 0.9038 - recall: 0.7235 - val_loss: 0.3375 - val_accuracy: 0.8292 - val_precision: 0.8292 - val_recall: 0.8292 - lr: 0.0010\n",
      "Epoch 2/5\n",
      "125/125 [==============================] - ETA: 0s - loss: 0.0383 - accuracy: 0.9880 - precision: 0.9882 - recall: 0.9880\n",
      "Epoch 2: val_accuracy improved from 0.82917 to 0.99792, saving model to data\\ptmodel_2022-04-30_22_03_07.258367\\\n",
      "INFO:tensorflow:Assets written to: data\\ptmodel_2022-04-30_22_03_07.258367\\assets\n",
      "125/125 [==============================] - 33s 261ms/step - loss: 0.0383 - accuracy: 0.9880 - precision: 0.9882 - recall: 0.9880 - val_loss: 0.0295 - val_accuracy: 0.9979 - val_precision: 1.0000 - val_recall: 0.9958 - lr: 0.0010\n",
      "Epoch 3/5\n",
      " 46/125 [==========>...................] - ETA: 19s - loss: 0.0151 - accuracy: 0.9932 - precision: 0.9932 - recall: 0.9932"
     ]
    }
   ],
   "source": [
    "oset = OpenSet()\n",
    "res = oset.train(bglog=mlog, train_data=train_data, val_data=val_data, test_data=test_data, \n",
    "                 pt_epochs=5, oc_epochs=5, ukc_label=2)"
   ]
  }
 ],
 "metadata": {
  "kernelspec": {
   "display_name": "Python 3 (ipykernel)",
   "language": "python",
   "name": "python3"
  },
  "language_info": {
   "codemirror_mode": {
    "name": "ipython",
    "version": 3
   },
   "file_extension": ".py",
   "mimetype": "text/x-python",
   "name": "python",
   "nbconvert_exporter": "python",
   "pygments_lexer": "ipython3",
   "version": "3.9.12"
  }
 },
 "nbformat": 4,
 "nbformat_minor": 5
}
