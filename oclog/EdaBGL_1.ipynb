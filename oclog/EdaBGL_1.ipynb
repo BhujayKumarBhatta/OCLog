{
 "cells": [
  {
   "cell_type": "code",
   "execution_count": 1,
   "id": "ed7ee1e2",
   "metadata": {},
   "outputs": [],
   "source": [
    "import os\n",
    "import sys\n",
    "import re\n",
    "import psutil\n",
    "import time\n",
    "import pickle \n",
    "import numpy as np\n",
    "import pandas as pd\n",
    "from collections import OrderedDict\n",
    "from itertools  import groupby\n",
    "\n",
    "from keras.preprocessing.text import Tokenizer\n",
    "from keras.preprocessing.sequence import pad_sequences\n",
    "\n",
    "from sklearn.utils import shuffle\n",
    "import random\n",
    "random.seed(123)"
   ]
  },
  {
   "cell_type": "code",
   "execution_count": 2,
   "id": "6e868ee2",
   "metadata": {},
   "outputs": [
    {
     "name": "stdout",
     "output_type": "stream",
     "text": [
      "['anomaly_label.csv', 'anomaly_labels.txt', 'BGL.log', 'BGL.tar.gz', 'bgl2', 'bgl2.gz', 'BGL_sample.txt', 'HDFS.log', 'HDFS.log.zip', 'HDFS_1.tar.gz', 'HDFS_anomaly_label.csv', 'my_observed_anomaly_Openstack.txt', 'NeuralLog.zip', 'OpenStack.tar.gz', 'openstack_abnormal.log', 'OpenStack_log_files.zip', 'Spark.tar.gz']\n",
      "True\n",
      "total loglines: 4747963\n"
     ]
    }
   ],
   "source": [
    "Logpath='C:\\ML_data\\Logs'\n",
    "labelpath='C:\\ML_data\\Logs'\n",
    "print(os.listdir(Logpath))\n",
    "logfilename='BGL.log'\n",
    "bglfile = os.path.join(Logpath, logfilename)\n",
    "print(os.path.exists(bglfile))\n",
    "with open(bglfile, 'r',  encoding='utf8') as f:\n",
    "    bglraw = f.readlines()\n",
    "print(f'total loglines: {len(bglraw)}')"
   ]
  },
  {
   "cell_type": "code",
   "execution_count": 3,
   "id": "10013f4f",
   "metadata": {},
   "outputs": [
    {
     "name": "stdout",
     "output_type": "stream",
     "text": [
      "KERNSTOR 1118765464 2005.06.14 R02-M1-N7-C:J09-U01 2005-06-14-09.11.04.290239 R02-M1-N7-C:J09-U01 RAS KERNEL FATAL data storage interrupt\n",
      "\n",
      "- 1121493805 2005.07.15 R36-M1-ND-C:J17-U11 2005-07-15-23.03.25.354001 R36-M1-ND-C:J17-U11 RAS KERNEL INFO generating core.60016\n",
      "\n",
      "- 1118772880 2005.06.14 R27-M0-N9-C:J03-U01 2005-06-14-11.14.40.067448 R27-M0-N9-C:J03-U01 RAS KERNEL FATAL lr:00004ed0 cr:28244842 xer:20000002 ctr:00086000\n",
      "\n",
      "- 1127243236 2005.09.20 NULL 2005-09-20-12.07.16.840600 NULL RAS MMCS ERROR idoproxydb hit ASSERT condition: ASSERT expression=0 Source file=idotransportmgr.cpp Source line=1043 Function=int IdoTransportMgr::SendPacket(IdoUdpMgr*, BglCtlPavTrace*)\n",
      "\n",
      "- 1121442094 2005.07.15 R01-M0-N2-C:J06-U01 2005-07-15-08.41.34.635525 R01-M0-N2-C:J06-U01 RAS KERNEL INFO generating core.1702\n",
      "\n",
      "- 1119481844 2005.06.22 R22-M1-N4-C:J14-U01 2005-06-22-16.10.44.449189 R22-M1-N4-C:J14-U01 RAS KERNEL INFO 3091200 double-hummer alignment exceptions\n",
      "\n",
      "KERNDTLB 1118550016 2005.06.11 R30-M0-N9-C:J16-U01 2005-06-11-21.20.16.903747 R30-M0-N9-C:J16-U01 RAS KERNEL FATAL data TLB error interrupt\n",
      "\n",
      "- 1125084445 2005.08.26 R61-M1-NF-C:J16-U11 2005-08-26-12.27.25.926426 R61-M1-NF-C:J16-U11 RAS KERNEL INFO 1524480 double-hummer alignment exceptions\n",
      "\n",
      "- 1133454884 2005.12.01 R37-M1-NE-C:J09-U11 2005-12-01-08.34.44.008191 R37-M1-NE-C:J09-U11 RAS KERNEL INFO 0 microseconds spent in the rbs signal handler during 0 calls. 0 microseconds was the maximum time for a single instance of a correctable ddr.\n",
      "\n",
      "- 1135650600 2005.12.26 R37-M1-NC-C:J02-U11 2005-12-26-18.30.00.412261 R37-M1-NC-C:J02-U11 RAS KERNEL INFO instruction cache parity error corrected\n",
      "\n",
      "- 1122470281 2005.07.27 R23-M1-N3-C:J05-U11 2005-07-27-06.18.01.384993 R23-M1-N3-C:J05-U11 RAS KERNEL FATAL 24:00000000 25:00000005 26:ffffffff 27:00000000\n",
      "\n",
      "- 1122579041 2005.07.28 R26-M1-NA-C:J06-U11 2005-07-28-12.30.41.599132 R26-M1-NA-C:J06-U11 RAS KERNEL INFO generating core.2846\n",
      "\n",
      "KERNSTOR 1118765341 2005.06.14 R03-M0-NF-C:J11-U01 2005-06-14-09.09.01.099972 R03-M0-NF-C:J11-U01 RAS KERNEL FATAL data storage interrupt\n",
      "\n",
      "- 1120262437 2005.07.01 R35-M0-N0-C:J12-U11 2005-07-01-17.00.37.928392 R35-M0-N0-C:J12-U11 RAS KERNEL INFO 1146800 double-hummer alignment exceptions\n",
      "\n",
      "- 1120092218 2005.06.29 R00-M0-N8-C:J16-U11 2005-06-29-17.43.38.669210 R00-M0-N8-C:J16-U11 RAS KERNEL INFO generating core.18451\n",
      "\n",
      "- 1122576991 2005.07.28 R27-M1-N6-C:J12-U11 2005-07-28-11.56.31.330861 R27-M1-N6-C:J12-U11 RAS KERNEL INFO generating core.4445\n",
      "\n",
      "APPSEV 1135602858 2005.12.26 R60-M0-N4-I:J18-U01 2005-12-26-05.14.18.615414 R60-M0-N4-I:J18-U01 RAS APP FATAL ciod: Error reading message prefix on CioStream socket to 172.16.96.116:37579, Link has been severed\n",
      "\n",
      "- 1122574289 2005.07.28 R31-M1-NA-C:J14-U01 2005-07-28-11.11.29.604332 R31-M1-NA-C:J14-U01 RAS KERNEL INFO generating core.10756\n",
      "\n",
      "- 1121256433 2005.07.13 R24-M1-N5-C:J14-U11 2005-07-13-05.07.13.703827 R24-M1-N5-C:J14-U11 RAS KERNEL INFO generating core.3512\n",
      "\n",
      "- 1120266834 2005.07.01 R36-M0-NB-C:J16-U11 2005-07-01-18.13.54.918334 R36-M0-NB-C:J16-U11 RAS KERNEL INFO 1146800 double-hummer alignment exceptions\n",
      "\n",
      "- 1117845799 2005.06.03 R22-M1-N4-C:J11-U11 2005-06-03-17.43.19.945039 R22-M1-N4-C:J11-U11 RAS KERNEL INFO generating core.253\n",
      "\n",
      "- 1130479269 2005.10.27 R33-M0-NF-C:J04-U11 2005-10-27-23.01.09.709450 R33-M0-NF-C:J04-U11 RAS KERNEL INFO critical input interrupt (unit=0x0b bit=0x06): warning for torus y+ wire\n",
      "\n",
      "- 1118772940 2005.06.14 R21-M0-N6-C:J08-U01 2005-06-14-11.15.40.871745 R21-M0-N6-C:J08-U01 RAS KERNEL FATAL machine check enable..............0\n",
      "\n",
      "- 1125084253 2005.08.26 R71-M0-NC-C:J03-U11 2005-08-26-12.24.13.385809 R71-M0-NC-C:J03-U11 RAS KERNEL INFO 773760 double-hummer alignment exceptions\n",
      "\n",
      "- 1118770395 2005.06.14 R25-M1-N2-C:J14-U11 2005-06-14-10.33.15.062842 R25-M1-N2-C:J14-U11 RAS KERNEL FATAL program interrupt: trap instruction.........0\n",
      "\n",
      "- 1117977644 2005.06.05 R37-M0-N2-C:J15-U11 2005-06-05-06.20.44.701046 R37-M0-N2-C:J15-U11 RAS KERNEL INFO generating core.3516\n",
      "\n",
      "- 1122166625 2005.07.23 R11-M0-N5-C:J04-U01 2005-07-23-17.57.05.263998 R11-M0-N5-C:J04-U01 RAS KERNEL INFO 5 floating point alignment exceptions\n",
      "\n",
      "- 1131059269 2005.11.03 R67-M1-NF-C:J16-U11 2005-11-03-15.07.49.232520 R67-M1-NF-C:J16-U11 RAS KERNEL INFO iar 00106228 dear 0244c1ec\n",
      "\n",
      "- 1119291054 2005.06.20 R12-M1-N6-C:J03-U01 2005-06-20-11.10.54.017555 R12-M1-N6-C:J03-U01 RAS KERNEL INFO generating core.1007\n",
      "\n",
      "KERNDTLB 1118557311 2005.06.11 R30-M0-N9-C:J16-U01 2005-06-11-23.21.51.901613 R30-M0-N9-C:J16-U01 RAS KERNEL FATAL data TLB error interrupt\n",
      "\n",
      "- 1118809970 2005.06.14 R02-M1-N0-C:J12-U11 2005-06-14-21.32.50.236484 R02-M1-N0-C:J12-U11 RAS KERNEL INFO instruction cache parity error corrected\n",
      "\n",
      "- 1120146175 2005.06.30 R02-M1-NC-C:J06-U11 2005-06-30-08.42.55.185847 R02-M1-NC-C:J06-U11 RAS KERNEL INFO generating core.28454\n",
      "\n",
      "- 1119803865 2005.06.26 R07-M0-NC-C:J10-U11 2005-06-26-09.37.45.048068 R07-M0-NC-C:J10-U11 RAS KERNEL INFO program interrupt: imprecise exception......0\n",
      "\n",
      "- 1118183450 2005.06.07 R36-M0-N5-C:J12-U11 2005-06-07-15.30.50.567342 R36-M0-N5-C:J12-U11 RAS KERNEL INFO generating core.681\n",
      "\n",
      "- 1121901457 2005.07.20 R16-M1-N4-C:J09-U01 2005-07-20-16.17.37.703273 R16-M1-N4-C:J09-U01 RAS KERNEL INFO 8 floating point alignment exceptions\n",
      "\n",
      "- 1129550914 2005.10.17 R02-M0-N4-C:J04-U11 2005-10-17-05.08.34.996533 R02-M0-N4-C:J04-U11 RAS KERNEL INFO data cache search parity error detected. attempting to correct\n",
      "\n",
      "- 1131139992 2005.11.04 R63-M0-NA-C:J08-U11 2005-11-04-13.33.12.321778 R63-M0-NA-C:J08-U11 RAS KERNEL INFO iar 001066c4 dear 0252525c\n",
      "\n",
      "- 1121366805 2005.07.14 R03-M0-N8-I:J18-U01 2005-07-14-11.46.45.508282 R03-M0-N8-I:J18-U01 RAS KERNEL INFO ciod: T coordinate 1 exceeds physical dimension 1 at line 2 of node map file /home/pakin1/sweep3d-2.2b/results/xyzt-8x8x16x2.map\n",
      "\n",
      "- 1131126647 2005.11.04 R62-M0-N6-C:J05-U11 2005-11-04-09.50.47.499620 R62-M0-N6-C:J05-U11 RAS KERNEL INFO iar 00106bd8 dear 0245cd8c\n",
      "\n",
      "KERNDTLB 1118548262 2005.06.11 R30-M0-N9-C:J16-U01 2005-06-11-20.51.02.181370 R30-M0-N9-C:J16-U01 RAS KERNEL FATAL data TLB error interrupt\n",
      "\n",
      "- 1122147313 2005.07.23 R05-M0-N2-C:J04-U11 2005-07-23-12.35.13.028824 R05-M0-N2-C:J04-U11 RAS KERNEL INFO 15 floating point alignment exceptions\n",
      "\n",
      "- 1122580591 2005.07.28 R33-M0-NE-C:J11-U01 2005-07-28-12.56.31.304007 R33-M0-NE-C:J11-U01 RAS KERNEL INFO generating core.5029\n",
      "\n",
      "- 1133448120 2005.12.01 R52-M1-ND-C:J02-U01 2005-12-01-06.42.00.795918 R52-M1-ND-C:J02-U01 RAS KERNEL INFO 0 microseconds spent in the rbs signal handler during 0 calls. 0 microseconds was the maximum time for a single instance of a correctable ddr.\n",
      "\n",
      "- 1131366838 2005.11.07 R63-M0-NC-I:J18-U01 2005-11-07-04.33.58.176482 R63-M0-NC-I:J18-U01 RAS APP FATAL ciod: Error loading /bgl/apps/followup/RAPTOR/pre-study/raptor.newcomp.r1: invalid or missing program image, Permission denied\n",
      "\n",
      "- 1120937459 2005.07.09 R36-M0-N2-C:J12-U01 2005-07-09-12.30.59.377779 R36-M0-N2-C:J12-U01 RAS KERNEL INFO generating core.4757\n",
      "\n",
      "- 1133448481 2005.12.01 R77-M0-N6-C:J09-U01 2005-12-01-06.48.01.927865 R77-M0-N6-C:J09-U01 RAS KERNEL INFO 10714 total interrupts. 0 critical input interrupts. 0 microseconds total spent on critical input interrupts, 0 microseconds max time in a critical input interrupt.\n",
      "\n",
      "- 1135682300 2005.12.27 R37-M1-NC-C:J02-U11 2005-12-27-03.18.20.074354 R37-M1-NC-C:J02-U11 RAS KERNEL INFO instruction cache parity error corrected\n",
      "\n",
      "- 1122166596 2005.07.23 R12-M1-N2-C:J03-U01 2005-07-23-17.56.36.020455 R12-M1-N2-C:J03-U01 RAS KERNEL INFO 5 floating point alignment exceptions\n",
      "\n",
      "- 1117989656 2005.06.05 R32-M0-N0-C:J15-U01 2005-06-05-09.40.56.894031 R32-M0-N0-C:J15-U01 RAS KERNEL INFO generating core.2036\n",
      "\n",
      "KERNMNTF 1125948903 2005.09.05 R43-M0-N8-I:J18-U01 2005-09-05-12.35.03.589098 R43-M0-N8-I:J18-U01 RAS KERNEL FATAL Lustre mount FAILED : bglio570 : point /p/gb1\n",
      "\n",
      "- 1133150713 2005.11.27 R12-M0-N8-I:J18-U11 2005-11-27-20.05.13.925334 R12-M0-N8-I:J18-U11 RAS KERNEL INFO ciod: Received signal 15, code=0, errno=0, address=0x000001f2\n",
      "\n",
      "- 1130078248 2005.10.23 R64-M0-N4-I:J18-U11 2005-10-23-07.37.28.864752 R64-M0-N4-I:J18-U11 RAS APP FATAL ciod: Error loading /home/spelce1/HPCC_IBM/Urgent/COP/64K/fft_only.rts: invalid or missing program image, Permission denied\n",
      "\n",
      "- 1133455056 2005.12.01 R53-M1-NF-C:J17-U01 2005-12-01-08.37.36.405673 R53-M1-NF-C:J17-U01 RAS KERNEL INFO 10672 total interrupts. 0 critical input interrupts. 0 microseconds total spent on critical input interrupts, 0 microseconds max time in a critical input interrupt.\n",
      "\n",
      "- 1131473382 2005.11.08 R62-M0-N8-C:J11-U11 2005-11-08-10.09.42.052240 R62-M0-N8-C:J11-U11 RAS KERNEL INFO iar 001061e8 dear 0247018c\n",
      "\n",
      "- 1133448042 2005.12.01 R54-M1-NB-C:J15-U11 2005-12-01-06.40.42.631940 R54-M1-NB-C:J15-U11 RAS KERNEL INFO 0 microseconds spent in the rbs signal handler during 0 calls. 0 microseconds was the maximum time for a single instance of a correctable ddr.\n",
      "\n",
      "APPSEV 1127988041 2005.09.29 R41-M1-NC-I:J18-U11 2005-09-29-03.00.41.874115 R41-M1-NC-I:J18-U11 RAS APP FATAL ciod: Error reading message prefix after LOGIN_MESSAGE on CioStream socket to 172.16.96.116:60090: Link has been severed\n",
      "\n",
      "- 1125083445 2005.08.26 R60-M1-N6-C:J14-U11 2005-08-26-12.10.45.280836 R60-M1-N6-C:J14-U11 RAS KERNEL INFO iar 003a929c dear 00efe8a8\n",
      "\n",
      "- 1132884795 2005.11.24 R72-M0-N8-I:J18-U11 2005-11-24-18.13.15.145447 R72-M0-N8-I:J18-U11 RAS KERNEL INFO ciod: Received signal 15, code=0, errno=0, address=0x000001f2\n",
      "\n",
      "KERNDTLB 1118541969 2005.06.11 R30-M0-N9-C:J16-U01 2005-06-11-19.06.09.824416 R30-M0-N9-C:J16-U01 RAS KERNEL FATAL data TLB error interrupt\n",
      "\n",
      "- 1120748266 2005.07.07 R06-M1-NC-C:J14-U01 2005-07-07-07.57.46.955323 R06-M1-NC-C:J14-U01 RAS KERNEL INFO generating core.3780\n",
      "\n",
      "- 1118772223 2005.06.14 R25-M0-NE-C:J16-U01 2005-06-14-11.03.43.822482 R25-M0-NE-C:J16-U01 RAS KERNEL FATAL wait state enable.................0\n",
      "\n",
      "- 1131473816 2005.11.08 R62-M0-N5-C:J14-U11 2005-11-08-10.16.56.127655 R62-M0-N5-C:J14-U11 RAS KERNEL INFO iar 001061e8 dear 0247018c\n",
      "\n",
      "- 1121313729 2005.07.13 R27-M1-N7-C:J03-U01 2005-07-13-21.02.09.912652 R27-M1-N7-C:J03-U01 RAS KERNEL INFO generating core.4971\n",
      "\n",
      "- 1120449717 2005.07.03 R20-M0-N9-C:J03-U01 2005-07-03-21.01.57.856728 R20-M0-N9-C:J03-U01 RAS KERNEL INFO generating core.32299\n",
      "\n",
      "- 1122576289 2005.07.28 R20-M1-NE-C:J10-U11 2005-07-28-11.44.49.076878 R20-M1-NE-C:J10-U11 RAS KERNEL INFO generating core.541\n",
      "\n",
      "- 1122576920 2005.07.28 R22-M1-NE-C:J06-U01 2005-07-28-11.55.20.816884 R22-M1-NE-C:J06-U01 RAS KERNEL INFO generating core.910\n",
      "\n",
      "- 1133968972 2005.12.07 R55-M0-N9-C:J06-U11 2005-12-07-07.22.52.803730 R55-M0-N9-C:J06-U11 RAS KERNEL INFO 1 torus receiver y+ input pipe error(s) (dcr 0x02ee) detected and corrected over 473 seconds\n",
      "\n",
      "- 1125224014 2005.08.28 R47-M0-N5-C:J03-U11 2005-08-28-03.13.34.577177 R47-M0-N5-C:J03-U11 RAS KERNEL INFO iar 0014a150 dear 00990f68\n",
      "\n",
      "- 1118770890 2005.06.14 R27-M1-N8-C:J07-U01 2005-06-14-10.41.30.531989 R27-M1-N8-C:J07-U01 RAS KERNEL FATAL external input interrupt enable...0\n",
      "\n",
      "- 1131061415 2005.11.03 R60-M1-N3-C:J14-U11 2005-11-03-15.43.35.575077 R60-M1-N3-C:J14-U11 RAS KERNEL INFO 2354412 floating point alignment exceptions\n",
      "\n",
      "- 1125222290 2005.08.28 R47-M1-N5-C:J02-U11 2005-08-28-02.44.50.433562 R47-M1-N5-C:J02-U11 RAS KERNEL INFO 37322392 double-hummer alignment exceptions\n",
      "\n",
      "- 1122576569 2005.07.28 R23-M0-N9-C:J06-U11 2005-07-28-11.49.29.751036 R23-M0-N9-C:J06-U11 RAS KERNEL INFO generating core.12186\n",
      "\n",
      "- 1118081747 2005.06.06 R02-M1-N0-C:J12-U11 2005-06-06-11.15.47.831394 R02-M1-N0-C:J12-U11 RAS KERNEL INFO instruction cache parity error corrected\n",
      "\n",
      "- 1120917333 2005.07.09 R14-M1-NB-C:J12-U11 2005-07-09-06.55.33.248723 R14-M1-NB-C:J12-U11 RAS KERNEL INFO generating core.9289\n",
      "\n",
      "KERNRTSP 1118773019 2005.06.14 R27-M1-NF-C:J17-U11 2005-06-14-11.16.59.843889 R27-M1-NF-C:J17-U11 RAS KERNEL FATAL rts panic! - stopping execution\n",
      "\n",
      "- 1124131899 2005.08.15 R67-M0-N8-I:J18-U11 2005-08-15-11.51.39.344410 R67-M0-N8-I:J18-U11 RAS KERNEL INFO ciod: Missing or invalid fields on line 1 of node map file /home/auselton/bgl/mapfiles/bgl.128mps.f64.map\n",
      "\n",
      "- 1117990889 2005.06.05 R37-M0-N1-C:J02-U11 2005-06-05-10.01.29.255182 R37-M0-N1-C:J02-U11 RAS KERNEL INFO generating core.4011\n",
      "\n",
      "- 1123110917 2005.08.03 NULL 2005-08-03-16.15.17.890766 NULL RAS MMCS ERROR idoproxydb hit ASSERT condition: ASSERT expression=0 Source file=idotransportmgr.cpp Source line=1043 Function=int IdoTransportMgr::SendPacket(IdoUdpMgr*, BglCtlPavTrace*)\n",
      "\n",
      "- 1120969299 2005.07.09 R36-M1-N6-C:J05-U01 2005-07-09-21.21.39.700304 R36-M1-N6-C:J05-U01 RAS KERNEL INFO generating core.29031\n",
      "\n",
      "- 1127243188 2005.09.20 NULL 2005-09-20-12.06.28.460529 NULL RAS MMCS ERROR idoproxydb hit ASSERT condition: ASSERT expression=0 Source file=idotransportmgr.cpp Source line=1043 Function=int IdoTransportMgr::SendPacket(IdoUdpMgr*, BglCtlPavTrace*)\n",
      "\n",
      "- 1133454585 2005.12.01 R15-M0-N1-C:J14-U01 2005-12-01-08.29.45.088581 R15-M0-N1-C:J14-U01 RAS KERNEL INFO 10748 total interrupts. 0 critical input interrupts. 0 microseconds total spent on critical input interrupts, 0 microseconds max time in a critical input interrupt.\n",
      "\n",
      "- 1132068119 2005.11.15 R06-M1-N6-C:J15-U01 2005-11-15-07.21.59.393987 R06-M1-N6-C:J15-U01 RAS KERNEL INFO 1 torus receiver y+ input pipe error(s) (dcr 0x02ee) detected and corrected over 16 seconds\n",
      "\n",
      "KERNSTOR 1118768016 2005.06.14 R05-M1-NA-C:J04-U11 2005-06-14-09.53.36.203856 R05-M1-NA-C:J04-U11 RAS KERNEL FATAL data storage interrupt\n",
      "\n",
      "- 1121784348 2005.07.19 R25-M1-N0-C:J12-U11 2005-07-19-07.45.48.316826 R25-M1-N0-C:J12-U11 RAS KERNEL INFO CE sym 21, at 0x05ded220, mask 0x20\n",
      "\n",
      "- 1131583055 2005.11.09 R63-M0-N0-C:J06-U11 2005-11-09-16.37.35.536842 R63-M0-N0-C:J06-U11 RAS KERNEL INFO\n",
      "\n",
      "- 1120974008 2005.07.09 R01-M1-ND-C:J08-U11 2005-07-09-22.40.08.060019 R01-M1-ND-C:J08-U11 RAS KERNEL INFO generating core.2314\n",
      "\n",
      "- 1133455483 2005.12.01 R47-M0-NB-C:J02-U01 2005-12-01-08.44.43.455255 R47-M0-NB-C:J02-U01 RAS KERNEL INFO 0 microseconds spent in the rbs signal handler during 0 calls. 0 microseconds was the maximum time for a single instance of a correctable ddr.\n",
      "\n",
      "- 1131408215 2005.11.07 R63-M0-N9-C:J13-U11 2005-11-07-16.03.35.188202 R63-M0-N9-C:J13-U11 RAS KERNEL INFO iar 00105ffc dear 0244c95c\n",
      "\n",
      "- 1120487364 2005.07.04 R30-M0-N3-C:J08-U11 2005-07-04-07.29.24.223875 R30-M0-N3-C:J08-U11 RAS KERNEL INFO generating core.2130\n",
      "\n",
      "- 1120240937 2005.07.01 R26-M0-N6 2005-07-01-11.02.17.360357 R26-M0-N6 NULL DISCOVERY SEVERE Can not get assembly information for node card\n",
      "\n",
      "- 1133454905 2005.12.01 R54-M0-NF-C:J11-U01 2005-12-01-08.35.05.418624 R54-M0-NF-C:J11-U01 RAS KERNEL INFO 0 microseconds spent in the rbs signal handler during 0 calls. 0 microseconds was the maximum time for a single instance of a correctable ddr.\n",
      "\n",
      "- 1131058196 2005.11.03 R64-M0-N1-C:J11-U01 2005-11-03-14.49.56.549357 R64-M0-N1-C:J11-U01 RAS KERNEL INFO iar 001061dc dear 0244c25c\n",
      "\n",
      "- 1125084390 2005.08.26 R66-M0-N7-C:J02-U01 2005-08-26-12.26.30.812421 R66-M0-N7-C:J02-U01 RAS KERNEL INFO iar 003a9260 dear 0129a0e8\n",
      "\n",
      "- 1131064662 2005.11.03 R26-M0-NE-C:J12-U01 2005-11-03-16.37.42.964098 R26-M0-NE-C:J12-U01 RAS KERNEL INFO 2354412 floating point alignment exceptions\n",
      "\n",
      "KERNDTLB 1118557614 2005.06.11 R30-M0-N9-C:J16-U01 2005-06-11-23.26.54.064012 R30-M0-N9-C:J16-U01 RAS KERNEL FATAL data TLB error interrupt\n",
      "\n",
      "- 1117985773 2005.06.05 R16-M1-NC-C:J11-U11 2005-06-05-08.36.13.364536 R16-M1-NC-C:J11-U11 RAS KERNEL INFO generating core.925\n",
      "\n",
      "- 1120092117 2005.06.29 R27-M0-NC-C:J06-U01 2005-06-29-17.41.57.831698 R27-M0-NC-C:J06-U01 RAS KERNEL INFO generating core.32009\n",
      "\n",
      "- 1131060833 2005.11.03 R67-M0-NF-C:J12-U01 2005-11-03-15.33.53.314063 R67-M0-NF-C:J12-U01 RAS KERNEL INFO\n",
      "\n",
      "- 1120928388 2005.07.09 R32-M1-N8-C:J03-U01 2005-07-09-09.59.48.183373 R32-M1-N8-C:J03-U01 RAS KERNEL INFO generating core.16295\n",
      "\n",
      "- 1118178695 2005.06.07 R25-M0-N2-C:J08-U01 2005-06-07-14.11.35.976522 R25-M0-N2-C:J08-U01 RAS KERNEL INFO generating core.6758\n",
      "\n"
     ]
    }
   ],
   "source": [
    "# check few lines randomly to understand the pattern\n",
    "random_indexs = random.sample(range(len(bglraw)), k=100)\n",
    "for i in  random_indexs:\n",
    "    print(bglraw[i])"
   ]
  },
  {
   "cell_type": "code",
   "execution_count": 4,
   "id": "8099d73b",
   "metadata": {},
   "outputs": [
    {
     "data": {
      "text/plain": [
       "'INFO'"
      ]
     },
     "execution_count": 4,
     "metadata": {},
     "output_type": "execute_result"
    }
   ],
   "source": [
    "l = bglraw[0].split()\n",
    "l[8]"
   ]
  },
  {
   "cell_type": "code",
   "execution_count": null,
   "id": "f9f75780",
   "metadata": {},
   "outputs": [],
   "source": [
    "# alert_list = re.findall(r's\\\\')"
   ]
  },
  {
   "cell_type": "code",
   "execution_count": null,
   "id": "ea93ce50",
   "metadata": {},
   "outputs": [],
   "source": [
    "# Documentation for this log suggests the label is amenable to the alert/severtiy information\n",
    "# alert/severtiy  appears in the following two patterns:\n",
    "# 1. after 'RAS KERNEL '  \n",
    "# 2. it is also the 9th word from the left if we split the sentence by white space "
   ]
  },
  {
   "cell_type": "code",
   "execution_count": 5,
   "id": "e637e4f0",
   "metadata": {},
   "outputs": [
    {
     "name": "stdout",
     "output_type": "stream",
     "text": [
      "4747963\n"
     ]
    }
   ],
   "source": [
    "# get all the alerts in the list. total number of alerts should match with the \n",
    "#  total number of loglines\n",
    "alerts =  [l.split()[8] for l in bglraw]\n",
    "print(len(alerts))"
   ]
  },
  {
   "cell_type": "code",
   "execution_count": 6,
   "id": "8fb80c3d",
   "metadata": {},
   "outputs": [
    {
     "name": "stdout",
     "output_type": "stream",
     "text": [
      "unique_alerts: {'ERROR', 'SEVERE', 'FATAL', '0x00544eb8,', 'WARNING', 'single', 'microseconds', 'FAILURE', 'Kill', 'INFO'}\n"
     ]
    }
   ],
   "source": [
    "unique_alerts = set(alerts)\n",
    "print(f'unique_alerts: {unique_alerts}')"
   ]
  },
  {
   "cell_type": "code",
   "execution_count": 7,
   "id": "077d5949",
   "metadata": {},
   "outputs": [],
   "source": [
    "negative_alerts = ['FATAL', 'SEVERE', 'WARNING', 'Kill', 'FAILURE', 'ERROR']"
   ]
  },
  {
   "cell_type": "code",
   "execution_count": 8,
   "id": "4c51a433",
   "metadata": {},
   "outputs": [
    {
     "name": "stdout",
     "output_type": "stream",
     "text": [
      "148373\n",
      "148374\n"
     ]
    }
   ],
   "source": [
    "sequence_len = 32\n",
    "print(len(bglraw) // sequence_len)\n",
    "print((len(bglraw) + sequence_len - 1) // sequence_len)"
   ]
  },
  {
   "cell_type": "code",
   "execution_count": 9,
   "id": "50678de9",
   "metadata": {},
   "outputs": [
    {
     "name": "stdout",
     "output_type": "stream",
     "text": [
      "2\n",
      "3\n",
      "range(0, 2)\n",
      "range(0, 3)\n",
      "[[1, 2, 3, 4], [5, 6, 7, 8]]\n",
      "[[1, 2, 3, 4], [5, 6, 7, 8], [9, 10]]\n"
     ]
    }
   ],
   "source": [
    "mylist = [1, 2, 3, 4, 5, 6, 7, 8, 9, 10]\n",
    "window = 4\n",
    "s1 = len(mylist)//window\n",
    "s2 = (len(mylist)+window-1)//window\n",
    "print(s1)\n",
    "print(s2)\n",
    "print(range(s1))\n",
    "print(range(s2))\n",
    "print([mylist[i*window:(i+1)*window] for i in range(s1)])\n",
    "print([mylist[i*window:(i+1)*window] for i in range(s2)])"
   ]
  },
  {
   "cell_type": "code",
   "execution_count": 10,
   "id": "6ebe7ad5",
   "metadata": {},
   "outputs": [
    {
     "name": "stdout",
     "output_type": "stream",
     "text": [
      "148373\n"
     ]
    }
   ],
   "source": [
    "sequences = [bglraw[i * sequence_len:(i + 1) * sequence_len] for i in range((len(bglraw)) // sequence_len )] \n",
    "print(len(sequences))"
   ]
  },
  {
   "cell_type": "code",
   "execution_count": 11,
   "id": "3dc0e8bb",
   "metadata": {},
   "outputs": [],
   "source": [
    "# sequences[0]"
   ]
  },
  {
   "cell_type": "code",
   "execution_count": 12,
   "id": "01217650",
   "metadata": {},
   "outputs": [],
   "source": [
    "txt = '- 1117838575 2005.06.03 R02-M1-N0-C:J12-U11 2005-06-03-15.42.55.114809 R02-M1-N0-C:J12-U11 RAS KERNEL INFO instruction cache parity error corrected\\n'"
   ]
  },
  {
   "cell_type": "code",
   "execution_count": 13,
   "id": "39d1cf29",
   "metadata": {},
   "outputs": [
    {
     "name": "stdout",
     "output_type": "stream",
     "text": [
      "true\n"
     ]
    }
   ],
   "source": [
    "if 'INFO' in txt: print('true')"
   ]
  },
  {
   "cell_type": "code",
   "execution_count": 14,
   "id": "7524d03c",
   "metadata": {},
   "outputs": [],
   "source": [
    "# labelled_seq = [(s, 'INFO') for s in seq for seq in sequences if 'INFO' in s]\n",
    "# labelled_seq"
   ]
  },
  {
   "cell_type": "code",
   "execution_count": 17,
   "id": "71e021cf",
   "metadata": {},
   "outputs": [
    {
     "name": "stdout",
     "output_type": "stream",
     "text": [
      "elapsed time: 3.322526216506958\n"
     ]
    }
   ],
   "source": [
    "import time\n",
    "stime = time.time()\n",
    "labelled_sequences = []\n",
    "for seq in sequences:    \n",
    "    label = 'INFO'\n",
    "    for s in seq:\n",
    "        if s.split()[8] in negative_alerts:\n",
    "            label = s.split()[8]\n",
    "    labelled_sequences.append((seq, label))          \n",
    "etime = time.time()\n",
    "print(f'elapsed time: {etime - stime}')"
   ]
  },
  {
   "cell_type": "code",
   "execution_count": 24,
   "id": "70367bcc",
   "metadata": {},
   "outputs": [
    {
     "data": {
      "text/html": [
       "<div>\n",
       "<style scoped>\n",
       "    .dataframe tbody tr th:only-of-type {\n",
       "        vertical-align: middle;\n",
       "    }\n",
       "\n",
       "    .dataframe tbody tr th {\n",
       "        vertical-align: top;\n",
       "    }\n",
       "\n",
       "    .dataframe thead th {\n",
       "        text-align: right;\n",
       "    }\n",
       "</style>\n",
       "<table border=\"1\" class=\"dataframe\">\n",
       "  <thead>\n",
       "    <tr style=\"text-align: right;\">\n",
       "      <th></th>\n",
       "      <th>sequence</th>\n",
       "      <th>label</th>\n",
       "    </tr>\n",
       "  </thead>\n",
       "  <tbody>\n",
       "    <tr>\n",
       "      <th>0</th>\n",
       "      <td>[- 1117838570 2005.06.03 R02-M1-N0-C:J12-U11 2...</td>\n",
       "      <td>INFO</td>\n",
       "    </tr>\n",
       "    <tr>\n",
       "      <th>1</th>\n",
       "      <td>[- 1117838575 2005.06.03 R02-M1-N0-C:J12-U11 2...</td>\n",
       "      <td>INFO</td>\n",
       "    </tr>\n",
       "    <tr>\n",
       "      <th>2</th>\n",
       "      <td>[- 1117838580 2005.06.03 R02-M1-N0-C:J12-U11 2...</td>\n",
       "      <td>INFO</td>\n",
       "    </tr>\n",
       "    <tr>\n",
       "      <th>3</th>\n",
       "      <td>[- 1117838584 2005.06.03 R02-M1-N0-C:J12-U11 2...</td>\n",
       "      <td>INFO</td>\n",
       "    </tr>\n",
       "    <tr>\n",
       "      <th>4</th>\n",
       "      <td>[- 1117838597 2005.06.03 R02-M1-N0-C:J12-U11 2...</td>\n",
       "      <td>INFO</td>\n",
       "    </tr>\n",
       "  </tbody>\n",
       "</table>\n",
       "</div>"
      ],
      "text/plain": [
       "                                            sequence label\n",
       "0  [- 1117838570 2005.06.03 R02-M1-N0-C:J12-U11 2...  INFO\n",
       "1  [- 1117838575 2005.06.03 R02-M1-N0-C:J12-U11 2...  INFO\n",
       "2  [- 1117838580 2005.06.03 R02-M1-N0-C:J12-U11 2...  INFO\n",
       "3  [- 1117838584 2005.06.03 R02-M1-N0-C:J12-U11 2...  INFO\n",
       "4  [- 1117838597 2005.06.03 R02-M1-N0-C:J12-U11 2...  INFO"
      ]
     },
     "execution_count": 24,
     "metadata": {},
     "output_type": "execute_result"
    }
   ],
   "source": [
    "df = pd.DataFrame(labelled_sequences, columns=['sequence', 'label'])\n",
    "df.head()"
   ]
  },
  {
   "cell_type": "code",
   "execution_count": 27,
   "id": "8de17b26",
   "metadata": {},
   "outputs": [
    {
     "data": {
      "text/html": [
       "<div>\n",
       "<style scoped>\n",
       "    .dataframe tbody tr th:only-of-type {\n",
       "        vertical-align: middle;\n",
       "    }\n",
       "\n",
       "    .dataframe tbody tr th {\n",
       "        vertical-align: top;\n",
       "    }\n",
       "\n",
       "    .dataframe thead th {\n",
       "        text-align: right;\n",
       "    }\n",
       "</style>\n",
       "<table border=\"1\" class=\"dataframe\">\n",
       "  <thead>\n",
       "    <tr style=\"text-align: right;\">\n",
       "      <th></th>\n",
       "      <th>sequence</th>\n",
       "      <th>label</th>\n",
       "    </tr>\n",
       "  </thead>\n",
       "  <tbody>\n",
       "    <tr>\n",
       "      <th>155</th>\n",
       "      <td>[- 1117840351 2005.06.03 R16-M1-N2-C:J17-U01 2...</td>\n",
       "      <td>FATAL</td>\n",
       "    </tr>\n",
       "    <tr>\n",
       "      <th>156</th>\n",
       "      <td>[- 1117840660 2005.06.03 R26-M0-N4-I:J18-U01 2...</td>\n",
       "      <td>FATAL</td>\n",
       "    </tr>\n",
       "    <tr>\n",
       "      <th>157</th>\n",
       "      <td>[- 1117840730 2005.06.03 R22-M0-N4-I:J18-U01 2...</td>\n",
       "      <td>FATAL</td>\n",
       "    </tr>\n",
       "    <tr>\n",
       "      <th>460</th>\n",
       "      <td>[- 1117865192 2005.06.03 R12-M1-N3-C:J11-U11 2...</td>\n",
       "      <td>FATAL</td>\n",
       "    </tr>\n",
       "    <tr>\n",
       "      <th>461</th>\n",
       "      <td>[APPREAD 1117869873 2005.06.04 R36-M1-NC-I:J18...</td>\n",
       "      <td>FATAL</td>\n",
       "    </tr>\n",
       "  </tbody>\n",
       "</table>\n",
       "</div>"
      ],
      "text/plain": [
       "                                              sequence  label\n",
       "155  [- 1117840351 2005.06.03 R16-M1-N2-C:J17-U01 2...  FATAL\n",
       "156  [- 1117840660 2005.06.03 R26-M0-N4-I:J18-U01 2...  FATAL\n",
       "157  [- 1117840730 2005.06.03 R22-M0-N4-I:J18-U01 2...  FATAL\n",
       "460  [- 1117865192 2005.06.03 R12-M1-N3-C:J11-U11 2...  FATAL\n",
       "461  [APPREAD 1117869873 2005.06.04 R36-M1-NC-I:J18...  FATAL"
      ]
     },
     "execution_count": 27,
     "metadata": {},
     "output_type": "execute_result"
    }
   ],
   "source": [
    "posdf = df[df.label !='INFO']\n",
    "posdf.head()"
   ]
  },
  {
   "cell_type": "code",
   "execution_count": 28,
   "id": "1b8eb780",
   "metadata": {},
   "outputs": [
    {
     "data": {
      "text/plain": [
       "INFO       114115\n",
       "FATAL       28439\n",
       "ERROR        4049\n",
       "WARNING       902\n",
       "SEVERE        628\n",
       "Kill          165\n",
       "FAILURE        75\n",
       "Name: label, dtype: int64"
      ]
     },
     "execution_count": 28,
     "metadata": {},
     "output_type": "execute_result"
    }
   ],
   "source": [
    "df.label.value_counts()"
   ]
  },
  {
   "cell_type": "code",
   "execution_count": 39,
   "id": "05b2a3a1",
   "metadata": {},
   "outputs": [
    {
     "data": {
      "text/plain": [
       "['- 1117840351 2005.06.03 R16-M1-N2-C:J17-U01 2005-06-03-16.12.31.760384 R16-M1-N2-C:J17-U01 RAS KERNEL INFO CE sym 2, at 0x1b85f480, mask 0x08\\n',\n",
       " '- 1117840352 2005.06.03 R16-M1-N2-C:J17-U01 2005-06-03-16.12.32.025800 R16-M1-N2-C:J17-U01 RAS KERNEL INFO CE sym 2, at 0x1b85f680, mask 0x02\\n',\n",
       " '- 1117840352 2005.06.03 R16-M1-N2-C:J17-U01 2005-06-03-16.12.32.239534 R16-M1-N2-C:J17-U01 RAS KERNEL INFO CE sym 2, at 0x1b85f8a0, mask 0x01\\n',\n",
       " '- 1117840352 2005.06.03 R16-M1-N2-C:J17-U01 2005-06-03-16.12.32.427686 R16-M1-N2-C:J17-U01 RAS KERNEL INFO CE sym 2, at 0x1b85fa80, mask 0x04\\n',\n",
       " '- 1117840352 2005.06.03 R16-M1-N2-C:J17-U01 2005-06-03-16.12.32.585331 R16-M1-N2-C:J17-U01 RAS KERNEL INFO CE sym 2, at 0x1b85fc80, mask 0x03\\n',\n",
       " '- 1117840352 2005.06.03 R16-M1-N2-C:J17-U01 2005-06-03-16.12.32.854857 R16-M1-N2-C:J17-U01 RAS KERNEL INFO CE sym 2, at 0x1b85fe80, mask 0x02\\n',\n",
       " '- 1117840353 2005.06.03 R16-M1-N2-C:J17-U01 2005-06-03-16.12.33.029069 R16-M1-N2-C:J17-U01 RAS KERNEL INFO CE sym 0, at 0x1b8580e0, mask 0xb0\\n',\n",
       " '- 1117840353 2005.06.03 R16-M1-N2-C:J17-U01 2005-06-03-16.12.33.224356 R16-M1-N2-C:J17-U01 RAS KERNEL INFO CE sym 0, at 0x1b858280, mask 0x60\\n',\n",
       " '- 1117840353 2005.06.03 R16-M1-N2-C:J17-U01 2005-06-03-16.12.33.408266 R16-M1-N2-C:J17-U01 RAS KERNEL INFO CE sym 0, at 0x1b8584e0, mask 0x80\\n',\n",
       " '- 1117840353 2005.06.03 R16-M1-N2-C:J17-U01 2005-06-03-16.12.33.578755 R16-M1-N2-C:J17-U01 RAS KERNEL INFO CE sym 0, at 0x1b858680, mask 0x20\\n',\n",
       " '- 1117840353 2005.06.03 R16-M1-N2-C:J17-U01 2005-06-03-16.12.33.806258 R16-M1-N2-C:J17-U01 RAS KERNEL INFO CE sym 0, at 0x1b858ca0, mask 0x60\\n',\n",
       " '- 1117840354 2005.06.03 R16-M1-N2-C:J17-U01 2005-06-03-16.12.34.026289 R16-M1-N2-C:J17-U01 RAS KERNEL INFO CE sym 0, at 0x1b858ec0, mask 0x50\\n',\n",
       " '- 1117840354 2005.06.03 R16-M1-N2-C:J17-U01 2005-06-03-16.12.34.184412 R16-M1-N2-C:J17-U01 RAS KERNEL INFO CE sym 0, at 0x1b859080, mask 0x20\\n',\n",
       " '- 1117840354 2005.06.03 R16-M1-N2-C:J17-U01 2005-06-03-16.12.34.384043 R16-M1-N2-C:J17-U01 RAS KERNEL INFO CE sym 2, at 0x1b85ea80, mask 0x02\\n',\n",
       " '- 1117840354 2005.06.03 R16-M1-N2-C:J17-U01 2005-06-03-16.12.34.557453 R16-M1-N2-C:J17-U01 RAS KERNEL INFO CE sym 2, at 0x1b85ecc0, mask 0x01\\n',\n",
       " '- 1117840354 2005.06.03 R16-M1-N2-C:J17-U01 2005-06-03-16.12.34.727476 R16-M1-N2-C:J17-U01 RAS KERNEL INFO CE sym 2, at 0x1b85f0e0, mask 0x02\\n',\n",
       " '- 1117840354 2005.06.03 R16-M1-N2-C:J17-U01 2005-06-03-16.12.34.898036 R16-M1-N2-C:J17-U01 RAS KERNEL INFO CE sym 2, at 0x1b85f2c0, mask 0x02\\n',\n",
       " '- 1117840355 2005.06.03 R16-M1-N2-C:J17-U01 2005-06-03-16.12.35.089658 R16-M1-N2-C:J17-U01 RAS KERNEL INFO CE sym 2, at 0x1b85f480, mask 0x08\\n',\n",
       " '- 1117840355 2005.06.03 R16-M1-N2-C:J17-U01 2005-06-03-16.12.35.342233 R16-M1-N2-C:J17-U01 RAS KERNEL INFO CE sym 2, at 0x1b85f680, mask 0x02\\n',\n",
       " '- 1117840355 2005.06.03 R16-M1-N2-C:J17-U01 2005-06-03-16.12.35.561572 R16-M1-N2-C:J17-U01 RAS KERNEL INFO CE sym 2, at 0x1b85fa80, mask 0x04\\n',\n",
       " '- 1117840355 2005.06.03 R16-M1-N2-C:J17-U01 2005-06-03-16.12.35.710226 R16-M1-N2-C:J17-U01 RAS KERNEL INFO CE sym 2, at 0x1b85fc80, mask 0x03\\n',\n",
       " '- 1117840355 2005.06.03 R16-M1-N2-C:J17-U01 2005-06-03-16.12.35.912433 R16-M1-N2-C:J17-U01 RAS KERNEL INFO CE sym 2, at 0x1b85fe80, mask 0x02\\n',\n",
       " '- 1117840356 2005.06.03 R16-M1-N2-C:J17-U01 2005-06-03-16.12.36.079052 R16-M1-N2-C:J17-U01 RAS KERNEL INFO total of 31 ddr error(s) detected and corrected\\n',\n",
       " '- 1117840586 2005.06.03 R22-M0-NB-C:J12-U01 2005-06-03-16.16.26.300513 R22-M0-NB-C:J12-U01 RAS KERNEL INFO generating core.257\\n',\n",
       " '- 1117840586 2005.06.03 R22-M0-N9-C:J12-U01 2005-06-03-16.16.26.320765 R22-M0-N9-C:J12-U01 RAS KERNEL INFO generating core.385\\n',\n",
       " '- 1117840586 2005.06.03 R22-M0-NF-C:J10-U01 2005-06-03-16.16.26.862154 R22-M0-NF-C:J10-U01 RAS KERNEL INFO generating core.65\\n',\n",
       " '- 1117840586 2005.06.03 R22-M0-NF-C:J12-U01 2005-06-03-16.16.26.880599 R22-M0-NF-C:J12-U01 RAS KERNEL INFO generating core.1\\n',\n",
       " '- 1117840660 2005.06.03 R26-M0-NC-I:J18-U11 2005-06-03-16.17.40.190183 R26-M0-NC-I:J18-U11 RAS APP FATAL ciod: Error loading /p/gb2/stella/RAPTOR/65641/raptor: invalid or missing program image, No such file or directory\\n',\n",
       " '- 1117840660 2005.06.03 R26-M0-NC-I:J18-U01 2005-06-03-16.17.40.232813 R26-M0-NC-I:J18-U01 RAS APP FATAL ciod: Error loading /p/gb2/stella/RAPTOR/65641/raptor: invalid or missing program image, No such file or directory\\n',\n",
       " '- 1117840660 2005.06.03 R26-M0-N8-I:J18-U11 2005-06-03-16.17.40.258467 R26-M0-N8-I:J18-U11 RAS APP FATAL ciod: Error loading /p/gb2/stella/RAPTOR/65641/raptor: invalid or missing program image, No such file or directory\\n',\n",
       " '- 1117840660 2005.06.03 R26-M0-N8-I:J18-U01 2005-06-03-16.17.40.284192 R26-M0-N8-I:J18-U01 RAS APP FATAL ciod: Error loading /p/gb2/stella/RAPTOR/65641/raptor: invalid or missing program image, No such file or directory\\n',\n",
       " '- 1117840660 2005.06.03 R26-M0-N4-I:J18-U11 2005-06-03-16.17.40.306656 R26-M0-N4-I:J18-U11 RAS APP FATAL ciod: Error loading /p/gb2/stella/RAPTOR/65641/raptor: invalid or missing program image, No such file or directory\\n']"
      ]
     },
     "execution_count": 39,
     "metadata": {},
     "output_type": "execute_result"
    }
   ],
   "source": [
    "fataldf = df[df.label=='FATAL']\n",
    "fataldf.sequence.values[0]"
   ]
  },
  {
   "cell_type": "code",
   "execution_count": 86,
   "id": "96b6dc13",
   "metadata": {},
   "outputs": [
    {
     "data": {
      "text/plain": [
       "['- 1118770823 2005.06.14 R25-M1-N2-C:J04-U01 2005-06-14-10.40.23.412061 R25-M1-N2-C:J04-U01 RAS KERNEL FATAL data store interrupt caused by dcbf.........0\\n',\n",
       " '- 1118770823 2005.06.14 R27-M0-N0-C:J07-U11 2005-06-14-10.40.23.429879 R27-M0-N0-C:J07-U11 RAS KERNEL FATAL critical input interrupt enable...0\\n',\n",
       " '- 1118770823 2005.06.14 R25-M1-N2-C:J06-U01 2005-06-14-10.40.23.434801 R25-M1-N2-C:J06-U01 RAS KERNEL FATAL data store interrupt caused by dcbf.........0\\n',\n",
       " '- 1118770823 2005.06.14 R27-M0-N0-C:J15-U01 2005-06-14-10.40.23.505022 R27-M0-N0-C:J15-U01 RAS KERNEL FATAL critical input interrupt enable...0\\n',\n",
       " '- 1118770823 2005.06.14 R25-M1-N2-C:J04-U11 2005-06-14-10.40.23.505216 R25-M1-N2-C:J04-U11 RAS KERNEL FATAL data store interrupt caused by dcbf.........0\\n',\n",
       " '- 1118770823 2005.06.14 R27-M0-N0-C:J17-U01 2005-06-14-10.40.23.528918 R27-M0-N0-C:J17-U01 RAS KERNEL FATAL critical input interrupt enable...0\\n',\n",
       " '- 1118770823 2005.06.14 R25-M1-N2-C:J02-U01 2005-06-14-10.40.23.529946 R25-M1-N2-C:J02-U01 RAS KERNEL FATAL data store interrupt caused by dcbf.........0\\n',\n",
       " '- 1118770823 2005.06.14 R27-M0-N0-C:J11-U01 2005-06-14-10.40.23.553128 R27-M0-N0-C:J11-U01 RAS KERNEL FATAL critical input interrupt enable...0\\n',\n",
       " '- 1118770823 2005.06.14 R25-M1-N2-C:J02-U11 2005-06-14-10.40.23.563475 R25-M1-N2-C:J02-U11 RAS KERNEL FATAL data store interrupt caused by dcbf.........0\\n',\n",
       " '- 1118770823 2005.06.14 R27-M0-N0-C:J07-U01 2005-06-14-10.40.23.575026 R27-M0-N0-C:J07-U01 RAS KERNEL FATAL critical input interrupt enable...0\\n',\n",
       " '- 1118770823 2005.06.14 R25-M1-N9-C:J09-U11 2005-06-14-10.40.23.590990 R25-M1-N9-C:J09-U11 RAS KERNEL FATAL data store interrupt caused by dcbf.........0\\n',\n",
       " '- 1118770823 2005.06.14 R27-M0-N0-C:J13-U01 2005-06-14-10.40.23.597328 R27-M0-N0-C:J13-U01 RAS KERNEL FATAL critical input interrupt enable...0\\n',\n",
       " '- 1118770823 2005.06.14 R25-M1-N9-C:J15-U11 2005-06-14-10.40.23.613595 R25-M1-N9-C:J15-U11 RAS KERNEL FATAL data store interrupt caused by dcbf.........0\\n',\n",
       " '- 1118770823 2005.06.14 R27-M0-N0-C:J09-U01 2005-06-14-10.40.23.620734 R27-M0-N0-C:J09-U01 RAS KERNEL FATAL critical input interrupt enable...0\\n',\n",
       " '- 1118770823 2005.06.14 R25-M1-N9-C:J11-U11 2005-06-14-10.40.23.635903 R25-M1-N9-C:J11-U11 RAS KERNEL FATAL data store interrupt caused by dcbf.........0\\n',\n",
       " '- 1118770823 2005.06.14 R27-M0-N0-C:J16-U11 2005-06-14-10.40.23.642278 R27-M0-N0-C:J16-U11 RAS KERNEL FATAL critical input interrupt enable...0\\n',\n",
       " '- 1118770823 2005.06.14 R25-M1-N9-C:J13-U11 2005-06-14-10.40.23.658382 R25-M1-N9-C:J13-U11 RAS KERNEL FATAL data store interrupt caused by dcbf.........0\\n',\n",
       " '- 1118770823 2005.06.14 R27-M0-N0-C:J08-U11 2005-06-14-10.40.23.663832 R27-M0-N0-C:J08-U11 RAS KERNEL FATAL critical input interrupt enable...0\\n',\n",
       " '- 1118770823 2005.06.14 R27-M0-N0-C:J14-U11 2005-06-14-10.40.23.687028 R27-M0-N0-C:J14-U11 RAS KERNEL FATAL critical input interrupt enable...0\\n',\n",
       " '- 1118770823 2005.06.14 R25-M1-N9-C:J17-U11 2005-06-14-10.40.23.692893 R25-M1-N9-C:J17-U11 RAS KERNEL FATAL data store interrupt caused by dcbf.........0\\n',\n",
       " '- 1118770823 2005.06.14 R27-M0-N0-C:J10-U11 2005-06-14-10.40.23.709362 R27-M0-N0-C:J10-U11 RAS KERNEL FATAL critical input interrupt enable...0\\n',\n",
       " '- 1118770823 2005.06.14 R25-M1-N9-C:J05-U01 2005-06-14-10.40.23.723472 R25-M1-N9-C:J05-U01 RAS KERNEL FATAL data store interrupt caused by dcbf.........0\\n',\n",
       " '- 1118770823 2005.06.14 R27-M0-N0-C:J06-U11 2005-06-14-10.40.23.731052 R27-M0-N0-C:J06-U11 RAS KERNEL FATAL critical input interrupt enable...0\\n',\n",
       " '- 1118770823 2005.06.14 R25-M1-N9-C:J03-U01 2005-06-14-10.40.23.746279 R25-M1-N9-C:J03-U01 RAS KERNEL FATAL data store interrupt caused by dcbf.........0\\n',\n",
       " '- 1118770823 2005.06.14 R27-M0-N0-C:J12-U11 2005-06-14-10.40.23.752730 R27-M0-N0-C:J12-U11 RAS KERNEL FATAL critical input interrupt enable...0\\n',\n",
       " '- 1118770823 2005.06.14 R27-M0-N0-C:J14-U01 2005-06-14-10.40.23.877417 R27-M0-N0-C:J14-U01 RAS KERNEL FATAL critical input interrupt enable...0\\n',\n",
       " '- 1118770823 2005.06.14 R25-M1-N9-C:J05-U11 2005-06-14-10.40.23.884685 R25-M1-N9-C:J05-U11 RAS KERNEL FATAL data store interrupt caused by dcbf.........0\\n',\n",
       " '- 1118770823 2005.06.14 R27-M0-N0-C:J16-U01 2005-06-14-10.40.23.903387 R27-M0-N0-C:J16-U01 RAS KERNEL FATAL critical input interrupt enable...0\\n',\n",
       " '- 1118770823 2005.06.14 R25-M1-N9-C:J03-U11 2005-06-14-10.40.23.908857 R25-M1-N9-C:J03-U11 RAS KERNEL FATAL data store interrupt caused by dcbf.........0\\n',\n",
       " '- 1118770823 2005.06.14 R27-M0-N0-C:J10-U01 2005-06-14-10.40.23.926163 R27-M0-N0-C:J10-U01 RAS KERNEL FATAL critical input interrupt enable...0\\n',\n",
       " '- 1118770823 2005.06.14 R25-M1-N9-C:J07-U11 2005-06-14-10.40.23.930786 R25-M1-N9-C:J07-U11 RAS KERNEL FATAL data store interrupt caused by dcbf.........0\\n',\n",
       " '- 1118770823 2005.06.14 R27-M0-N0-C:J12-U01 2005-06-14-10.40.23.948348 R27-M0-N0-C:J12-U01 RAS KERNEL FATAL critical input interrupt enable...0\\n']"
      ]
     },
     "execution_count": 86,
     "metadata": {},
     "output_type": "execute_result"
    }
   ],
   "source": [
    "# refresh the cell to randomly observer the nature of the fatal sequences\n",
    "fataldf.sequence.values[random.choice(range(len(fataldf.sequence.values)))]"
   ]
  },
  {
   "cell_type": "code",
   "execution_count": 89,
   "id": "6f9283f8",
   "metadata": {},
   "outputs": [],
   "source": [
    "manually_inspected = [\n",
    "'- 1127163126 2005.09.19 R13-M1-NC-I:J18-U11 2005-09-19-13.52.06.454320 R13-M1-NC-I:J18-U11 RAS APP FATAL ciod: LOGIN chdir(/home/yates/SWL_tests/BGL64k_SWL_tests_develop/MPI-VAL/MPITs_v050902/rundir) failed: No such file or directory\\n',\n",
    "\n",
    "'APPSEV 1128267264 2005.10.02 R44-M1-NC-I:J18-U01 2005-10-02-08.34.24.605295 R44-M1-NC-I:J18-U01 RAS APP FATAL ciod: Error reading message prefix after LOAD_MESSAGE on CioStream socket to 172.16.96.116:58852: Link has been severed\\n',\n",
    "'- 1125667837 2005.09.02 R75-M1-N4-I:J18-U11 2005-09-02-06.30.37.373188 R75-M1-N4-I:J18-U11 RAS APP FATAL ciod: LOGIN chdir(/bglscratch/bwallen/SWL/SYS-CALLS/testcases/kernel/syscalls/socket) failed: No such file or directory\\n',\n",
    "\n",
    "'KERNMNTF 1125690086 2005.09.02 R74-M1-NC-I:J18-U01 2005-09-02-12.41.26.373742 R74-M1-NC-I:J18-U01 RAS KERNEL FATAL Lustre mount FAILED : bglio976 : point /p/gb1\\n',\n",
    "\n",
    "'KERNDTLB 1118536077 2005.06.11 R30-M0-N9-C:J16-U01 2005-06-11-17.27.57.437325 R30-M0-N9-C:J16-U01 RAS KERNEL FATAL data TLB error interrupt\\n',\n",
    "'- 1123112513 2005.08.03 R46-M1-NB-C:J10-U01 2005-08-03-16.41.53.337151 R46-M1-NB-C:J10-U01 RAS KERNEL FATAL write buffer commit threshold............2\\n',\n",
    "\n",
    "'- 1118770143 2005.06.14 R27-M1-N7-C:J08-U01 2005-06-14-10.29.03.025649 R27-M1-N7-C:J08-U01 RAS KERNEL FATAL auxiliary processor.........................0\\n',]"
   ]
  },
  {
   "cell_type": "code",
   "execution_count": null,
   "id": "732e6b50",
   "metadata": {},
   "outputs": [],
   "source": [
    "# the message starts with '-', or 'APPSEV' or 'KERNMNTF' or 'KERNDTLB'\n",
    "# next timestamp\n",
    "# R13-M1-NC-I:J18-U11\n",
    "# 2005-09-19-13.52.06.454320 - another timestamp\n",
    "# R13-M1-NC-I:J18-U11\n",
    "# RAS\n",
    "# APP or KERNEL\n",
    "# Severtiy \n",
    "# actaul mesage\n",
    "# there is no relation between the severity/alert and the meta informations\n",
    "# the prominent relationship is visibile between severtiy and the message type\n",
    "# Hence we will remove the meta information except the severity and the message "
   ]
  },
  {
   "cell_type": "code",
   "execution_count": null,
   "id": "ac34dc3f",
   "metadata": {},
   "outputs": [],
   "source": [
    "# {'UNK': 1, ' ': 2, 'e': 3, 'n': 4, 'r': 5, 'i': 6, 'o': 7, 't': 8, 'a': 9, 'l': 10, 'c': 11, '0': 12, 's': 13, \n",
    "#'f': 14, 'd': 15, 'g': 16, '.': 17, 'p': 18, 'm': 19, 'k': 20, '1': 21, 'u': 22, '4': 23, '2': 24, '6': 25, 'x': 26, '5': 27, '8': 28, \n",
    "#'3': 29, 'b': 30, 'h': 31, ':': 32, '7': 33, '9': 34, 'y': 35, '-': 36, 'v': 37, 'w': 38, '_': 39, '*': 40, 'j': 41, 'z': 42, '+': 43, 'q': 44, \n",
    "#'#': 45, '!': 46, '>': 47, '@': 48, '?': 49, '$': 50, \"'\": 51, '%': 52, '\\x0f': 53, 'ý': 54, 'ï': 55, 'ã': 56, '`': 57, 'ð': 58, '²': 59, 'ù': 60, '·': 61, \n",
    "#'\\x00': 62, '&': 63, '|': 64, '\\x10': 65, '}': 66, 'ç': 67, '\\x98': 68}\n",
    "# print(tk.word_index)"
   ]
  },
  {
   "cell_type": "code",
   "execution_count": null,
   "id": "10ec5229",
   "metadata": {},
   "outputs": [],
   "source": [
    "# {'UNK': 1, 'e': 2, 'n': 3, 'r': 4, 'i': 5, 'o': 6, 't': 7, 'a': 8, 'l': 9, 'c': 10, '0': 11, 's': 12, 'f': 13, 'd': 14, 'g': 15, \n",
    "#  'p': 16, 'm': 17, 'k': 18, '1': 19, 'u': 20, '4': 21, '2': 22, '6': 23, 'x': 24, '5': 25, '8': 26, '3': 27, 'b': 28, 'h': 29, ':': 30, \n",
    "#  '7': 31, '9': 32, 'y': 33, 'v': 34, 'w': 35, '_': 36, '*': 37, 'j': 38, 'z': 39, '+': 40, 'q': 41, '#': 42, '!': 43, '>': 44, '@': 45, \n",
    "#  '?': 46, '$': 47, \"'\": 48, '%': 49, '\\x0f': 50, 'ý': 51, 'ï': 52, 'ð': 53, '²': 54, 'ù': 55, '·': 56, '\\x00': 57, '&': 58, '|': 59, '\\x10': 60, '}': 61, 'ç': 62, '\\x98': 63}"
   ]
  },
  {
   "cell_type": "code",
   "execution_count": null,
   "id": "357b27f9",
   "metadata": {},
   "outputs": [],
   "source": [
    "# {'UNK': 1, 'e': 2, 'n': 3, 'r': 4, 'i': 5, 'o': 6, 't': 7, 'a': 8, 'l': 9, 'c': 10, '0': 11, 's': 12, 'f': 13, 'd': 14, 'g': 15, 'p': 16,\n",
    "#'m': 17, 'k': 18, '1': 19, 'u': 20, '4': 21, '2': 22, '6': 23, 'x': 24, '5': 25, '8': 26, '3': 27, 'b': 28, 'h': 29, '7': 30, '9': 31, 'y': 32, 'v': 33, \n",
    "#'w': 34, 'j': 35, 'z': 36, '+': 37, 'q': 38, '!': 39, '>': 40, '?': 41, '$': 42, \"'\": 43, 'ý': 44, 'ð': 45, '²': 46, 'ù': 47, '·': 48, '|': 49, '}': 50, 'ç': 51}"
   ]
  },
  {
   "cell_type": "code",
   "execution_count": 223,
   "id": "e84dbe2b",
   "metadata": {},
   "outputs": [
    {
     "name": "stdout",
     "output_type": "stream",
     "text": [
      "- 1127163126 2005.09.19 R13-M1-NC-I:J18-U11 2005-09-19-13.52.06.454320 R13-M1-NC-I:J18-U11 RAS APP FATAL ciod: LOGIN chdir(/home/yates/SWL_tests/BGL64k_SWL_tests_develop/MPI-VAL/MPITs_v050902/rundir) failed: No such file or directory\n",
      "\n",
      "APPFATALciodLOGINchdirhomeyatesSWLtestsBGL64kSWLtestsdevelopMPIVALMPITsv050902rundirfailedNosuchfileordirectory\n",
      "\n",
      "\n",
      "APPSEV 1128267264 2005.10.02 R44-M1-NC-I:J18-U01 2005-10-02-08.34.24.605295 R44-M1-NC-I:J18-U01 RAS APP FATAL ciod: Error reading message prefix after LOAD_MESSAGE on CioStream socket to 172.16.96.116:58852: Link has been severed\n",
      "\n",
      "APPFATALciodErrorreadingmessageprefixafterLOADMESSAGEonCioStreamsocketto172169611658852Linkhasbeensevered\n",
      "\n",
      "\n",
      "- 1125667837 2005.09.02 R75-M1-N4-I:J18-U11 2005-09-02-06.30.37.373188 R75-M1-N4-I:J18-U11 RAS APP FATAL ciod: LOGIN chdir(/bglscratch/bwallen/SWL/SYS-CALLS/testcases/kernel/syscalls/socket) failed: No such file or directory\n",
      "\n",
      "APPFATALciodLOGINchdirbglscratchbwallenSWLSYSCALLStestcaseskernelsyscallssocketfailedNosuchfileordirectory\n",
      "\n",
      "\n",
      "KERNMNTF 1125690086 2005.09.02 R74-M1-NC-I:J18-U01 2005-09-02-12.41.26.373742 R74-M1-NC-I:J18-U01 RAS KERNEL FATAL Lustre mount FAILED : bglio976 : point /p/gb1\n",
      "\n",
      "KERNELFATALLustremountFAILEDbglio976pointpgb1\n",
      "\n",
      "\n",
      "KERNDTLB 1118536077 2005.06.11 R30-M0-N9-C:J16-U01 2005-06-11-17.27.57.437325 R30-M0-N9-C:J16-U01 RAS KERNEL FATAL data TLB error interrupt\n",
      "\n",
      "KERNELFATALdataTLBerrorinterrupt\n",
      "\n",
      "\n",
      "- 1123112513 2005.08.03 R46-M1-NB-C:J10-U01 2005-08-03-16.41.53.337151 R46-M1-NB-C:J10-U01 RAS KERNEL FATAL write buffer commit threshold............2\n",
      "\n",
      "KERNELFATALwritebuffercommitthreshold2\n",
      "\n",
      "\n",
      "- 1118770143 2005.06.14 R27-M1-N7-C:J08-U01 2005-06-14-10.29.03.025649 R27-M1-N7-C:J08-U01 RAS KERNEL FATAL auxiliary processor.........................0\n",
      "\n",
      "KERNELFATALauxiliaryprocessor0\n",
      "\n",
      "\n"
     ]
    }
   ],
   "source": [
    "part_1 = '^-\\s|^\\w+\\s'\n",
    "part_2 = '\\d{10}\\s'\n",
    "time_1 = '\\d{4}\\.\\d{2}\\.\\d{2}\\s'\n",
    "part_4 = '\\w\\d{2}-\\w\\d-\\w{2}-\\w:\\w\\d{2}-\\w\\d{2}\\s'\n",
    "time_2 = '\\d{4}-\\d{2}-\\d{2}-\\d{2}\\.\\d{2}\\.\\d{2}\\.\\d{6}\\s'\n",
    "part_6 = 'RAS'\n",
    "part_7 = '[\\n]'\n",
    "signs_n_punctuations = '\\]|\\[|\\)|\\(|\\=|\\,|\\;|\\/|\\{|\\}[$]|[@]|[#]|[%]|[_]|[*]|[&]|[ï]|[ã]|[`]|[ð]|[-]|[\\x0f]|[\\x00]|[\\x10]|[\\x98]|[ç]|[:]|\\''\n",
    "white_space = '\\s'\n",
    "multiple_dots = '\\.+?'\n",
    "pat =f'{part_1}|{part_2}|{time_1}|{part_4}|{time_2}|{part_6}\\s|{part_7}|{signs_n_punctuations}|{white_space}|{multiple_dots}'\n",
    "\n",
    "    \n",
    "# pat =f'{part_1}|{part_2}|{time_1}|{part_4}|{time_2}|{part_6}\\s|{part_7}'\n",
    "\n",
    "for txt_line in manually_inspected:\n",
    "    s = re.sub(pat, '', txt_line)\n",
    "    print(txt_line)\n",
    "    print(s)\n",
    "    print()\n",
    "    print()"
   ]
  },
  {
   "cell_type": "code",
   "execution_count": 224,
   "id": "6e6a3fbc",
   "metadata": {},
   "outputs": [],
   "source": [
    "def clean_bgl(txt_line, clean_part_1=True, clean_part_2=True, clean_time_1=True, clean_part_4=True, clean_time_2=True, clean_part_6=True):\n",
    "    part_1 = ''\n",
    "    part_2 = ''\n",
    "    time_1 = ''\n",
    "    part_4 = ''\n",
    "    time_2 = ''\n",
    "    part_6 = ''\n",
    "    if clean_part_1:\n",
    "        part_1 = '^-\\s|^\\w+\\s'\n",
    "    if clean_part_2:\n",
    "        part_2 = '\\d{10}\\s'\n",
    "    if clean_time_1:\n",
    "        time_1 = '\\d{4}\\.\\d{2}\\.\\d{2}\\s'\n",
    "    if clean_part_4:\n",
    "        part_4 = '\\w\\d{2}-\\w\\d-\\w{2}-\\w:\\w\\d{2}-\\w\\d{2}\\s'\n",
    "    if clean_time_2:\n",
    "        time_2 = '\\d{4}-\\d{2}-\\d{2}-\\d{2}\\.\\d{2}\\.\\d{2}\\.\\d{6}\\s'\n",
    "    if clean_part_6:\n",
    "        part_6 = 'RAS'\n",
    "    part_7 = '[\\n]'\n",
    "    signs_n_punctuations = '\\]|\\[|\\)|\\(|\\=|\\,|\\;|\\/|\\{|\\}[$]|[@]|[#]|[%]|[_]|[*]|[&]|[ï]|[ã]|[`]|[ð]|[-]|[\\x0f]|[\\x00]|[\\x10]|[\\x98]|[ç]|[:]|\\''\n",
    "#     signs_n_punctuations = '\\]|\\[|\\)|\\(|\\=|\\,|\\;|\\/|\\{|\\}\\$\\@\\#\\%\\_\\*\\&\\|ï|ã|`|ð|\\-'\n",
    "#     signs_n_punctuations = '\\]|\\[|\\)|\\(|\\=|\\,|\\;|\\/|\\{|\\}[$]|[@]|[#]|[%]|[_]|[*]|[&]|[ï]|[ã]|`|ð|[-]|[\\x0f]|[\\x00]|[\\x10]|[\\x98]|[ç]|[:]'\n",
    "    white_space = '\\s'\n",
    "    multiple_dots = '\\.+?'\n",
    "    pat =f'{part_1}|{part_2}|{time_1}|{part_4}|{time_2}|{part_6}\\s|{part_7}|{signs_n_punctuations}|{white_space}|{multiple_dots}'\n",
    "#     signs_n_punctuations = '\\]|\\[|\\)|\\(|\\=|\\,|\\;|\\/'\n",
    "#     pat =f'{part_1}|{part_2}|{time_1}|{part_4}|{time_2}|{part_6}\\s|{part_7}|{signs_n_punctuations}'\n",
    "    s = re.sub(pat, '', txt_line)\n",
    "    return s"
   ]
  },
  {
   "cell_type": "code",
   "execution_count": 160,
   "id": "15f5ea4d",
   "metadata": {},
   "outputs": [],
   "source": [
    "# cleaned_sequences = [[clean_bgl(line)] for sequence, label in labelled_sequences for line in sequence ]"
   ]
  },
  {
   "cell_type": "code",
   "execution_count": 225,
   "id": "65d12358",
   "metadata": {},
   "outputs": [
    {
     "data": {
      "text/plain": [
       "(['kernelinfoinstructioncacheparityerrorcorrected',\n",
       "  'kernelinfoinstructioncacheparityerrorcorrected',\n",
       "  'kernelinfoinstructioncacheparityerrorcorrected',\n",
       "  'kernelinfoinstructioncacheparityerrorcorrected',\n",
       "  'kernelinfoinstructioncacheparityerrorcorrected',\n",
       "  'kernelinfoinstructioncacheparityerrorcorrected',\n",
       "  'kernelinfoinstructioncacheparityerrorcorrected',\n",
       "  'kernelinfoinstructioncacheparityerrorcorrected',\n",
       "  'kernelinfoinstructioncacheparityerrorcorrected',\n",
       "  'kernelinfoinstructioncacheparityerrorcorrected',\n",
       "  'kernelinfoinstructioncacheparityerrorcorrected',\n",
       "  'kernelinfoinstructioncacheparityerrorcorrected',\n",
       "  'kernelinfoinstructioncacheparityerrorcorrected',\n",
       "  'kernelinfoinstructioncacheparityerrorcorrected',\n",
       "  'kernelinfoinstructioncacheparityerrorcorrected',\n",
       "  'kernelinfoinstructioncacheparityerrorcorrected',\n",
       "  'kernelinfoinstructioncacheparityerrorcorrected',\n",
       "  'kernelinfoinstructioncacheparityerrorcorrected',\n",
       "  'kernelinfoinstructioncacheparityerrorcorrected',\n",
       "  'kernelinfoinstructioncacheparityerrorcorrected',\n",
       "  'kernelinfoinstructioncacheparityerrorcorrected',\n",
       "  'kernelinfoinstructioncacheparityerrorcorrected',\n",
       "  'kernelinfoinstructioncacheparityerrorcorrected',\n",
       "  'kernelinfoinstructioncacheparityerrorcorrected',\n",
       "  'kernelinfoinstructioncacheparityerrorcorrected',\n",
       "  'kernelinfoinstructioncacheparityerrorcorrected',\n",
       "  'kernelinfoinstructioncacheparityerrorcorrected',\n",
       "  'kernelinfoinstructioncacheparityerrorcorrected',\n",
       "  'kernelinfoinstructioncacheparityerrorcorrected',\n",
       "  'kernelinfoinstructioncacheparityerrorcorrected',\n",
       "  'kernelinfoinstructioncacheparityerrorcorrected',\n",
       "  'kernelinfoinstructioncacheparityerrorcorrected'],\n",
       " 'INFO')"
      ]
     },
     "execution_count": 225,
     "metadata": {},
     "output_type": "execute_result"
    }
   ],
   "source": [
    "cleaned_labelled_sequences = []\n",
    "for sequence, label in labelled_sequences:\n",
    "    cleaned_seq = []\n",
    "    for line in sequence:\n",
    "        cleaned_line = clean_bgl(line)\n",
    "        cleaned_line = cleaned_line.lower()\n",
    "        cleaned_seq.append(cleaned_line)\n",
    "    cleaned_labelled_sequences.append((cleaned_seq, label)) \n",
    "cleaned_labelled_sequences[0]"
   ]
  },
  {
   "cell_type": "code",
   "execution_count": null,
   "id": "f45072b5",
   "metadata": {},
   "outputs": [],
   "source": []
  },
  {
   "cell_type": "code",
   "execution_count": 185,
   "id": "402c462d",
   "metadata": {},
   "outputs": [],
   "source": [
    "# whole_text_for_training = []\n",
    "# for sequence, _ in cleaned_labelled_sequences:\n",
    "#     for line in sequence:\n",
    "#         whole_text_for_training.append(s)"
   ]
  },
  {
   "cell_type": "code",
   "execution_count": 226,
   "id": "54e7f134",
   "metadata": {},
   "outputs": [
    {
     "data": {
      "text/plain": [
       "4747936"
      ]
     },
     "execution_count": 226,
     "metadata": {},
     "output_type": "execute_result"
    }
   ],
   "source": [
    "whole_text_for_training = [line for sequence, _ in cleaned_labelled_sequences for line in sequence]\n",
    "len(whole_text_for_training)"
   ]
  },
  {
   "cell_type": "code",
   "execution_count": null,
   "id": "8142d4c4",
   "metadata": {},
   "outputs": [],
   "source": []
  },
  {
   "cell_type": "code",
   "execution_count": 227,
   "id": "de507eee",
   "metadata": {},
   "outputs": [
    {
     "name": "stdout",
     "output_type": "stream",
     "text": [
      "50\n",
      "{'UNK': 1, 'e': 2, 'n': 3, 'r': 4, 'i': 5, 'o': 6, 't': 7, 'a': 8, 'l': 9, 'c': 10, '0': 11, 's': 12, 'f': 13, 'd': 14, 'g': 15, 'p': 16, 'm': 17, 'k': 18, '1': 19, 'u': 20, '4': 21, '2': 22, '6': 23, 'x': 24, '5': 25, '8': 26, '3': 27, 'b': 28, 'h': 29, '7': 30, '9': 31, 'y': 32, 'v': 33, 'w': 34, 'j': 35, 'z': 36, '+': 37, 'q': 38, '!': 39, '>': 40, '?': 41, '$': 42, 'ý': 43, 'ð': 44, '²': 45, 'ù': 46, '·': 47, '|': 48, '}': 49, 'ç': 50}\n"
     ]
    }
   ],
   "source": [
    "tk = Tokenizer(num_words=None, char_level=True, oov_token='UNK')\n",
    "tk.fit_on_texts(whole_text_for_training)\n",
    "print(len(tk.word_index))\n",
    "print(tk.word_index)"
   ]
  },
  {
   "cell_type": "code",
   "execution_count": 236,
   "id": "2005e79f",
   "metadata": {},
   "outputs": [],
   "source": [
    "padded_char_len=64\n",
    "padding_style='post'\n",
    "truncating='pre'\n",
    "line = cleaned_labelled_sequences[0][0][0]\n",
    "txt_2_num = tk.texts_to_sequences([line])\n",
    "padded_txt_to_num = pad_sequences(txt_2_num, maxlen=padded_char_len, \n",
    "                                              padding=padding_style, truncating=truncating)"
   ]
  },
  {
   "cell_type": "code",
   "execution_count": 237,
   "id": "d4391e04",
   "metadata": {},
   "outputs": [
    {
     "name": "stdout",
     "output_type": "stream",
     "text": [
      "kernelinfoinstructioncacheparityerrorcorrected\n",
      "[[18, 2, 4, 3, 2, 9, 5, 3, 13, 6, 5, 3, 12, 7, 4, 20, 10, 7, 5, 6, 3, 10, 8, 10, 29, 2, 16, 8, 4, 5, 7, 32, 2, 4, 4, 6, 4, 10, 6, 4, 4, 2, 10, 7, 2, 14]]\n",
      "['k e r n e l i n f o i n s t r u c t i o n c a c h e p a r i t y e r r o r c o r r e c t e d']\n",
      "[[18  2  4  3  2  9  5  3 13  6  5  3 12  7  4 20 10  7  5  6  3 10  8 10\n",
      "  29  2 16  8  4  5  7 32  2  4  4  6  4 10  6  4  4  2 10  7  2 14  0  0\n",
      "   0  0  0  0  0  0  0  0  0  0  0  0  0  0  0  0]]\n",
      "['k e r n e l i n f o i n s t r u c t i o n c a c h e p a r i t y e r r o r c o r r e c t e d UNK UNK UNK UNK UNK UNK UNK UNK UNK UNK UNK UNK UNK UNK UNK UNK UNK UNK']\n"
     ]
    }
   ],
   "source": [
    "print(line)\n",
    "print(txt_2_num)\n",
    "num_to_text = tk.sequences_to_texts(txt_2_num)\n",
    "print(num_to_text)\n",
    "print(padded_txt_to_num)\n",
    "print(tk.sequences_to_texts(padded_txt_to_num))"
   ]
  },
  {
   "cell_type": "code",
   "execution_count": null,
   "id": "297e057e",
   "metadata": {},
   "outputs": [],
   "source": []
  },
  {
   "cell_type": "code",
   "execution_count": null,
   "id": "03d9b916",
   "metadata": {},
   "outputs": [],
   "source": []
  },
  {
   "cell_type": "code",
   "execution_count": null,
   "id": "47336608",
   "metadata": {},
   "outputs": [],
   "source": []
  },
  {
   "cell_type": "code",
   "execution_count": null,
   "id": "b45546b9",
   "metadata": {},
   "outputs": [],
   "source": []
  },
  {
   "cell_type": "code",
   "execution_count": null,
   "id": "0eb0c026",
   "metadata": {},
   "outputs": [],
   "source": []
  },
  {
   "cell_type": "code",
   "execution_count": null,
   "id": "50156f89",
   "metadata": {},
   "outputs": [],
   "source": []
  },
  {
   "cell_type": "code",
   "execution_count": null,
   "id": "ca91bcf7",
   "metadata": {},
   "outputs": [],
   "source": []
  },
  {
   "cell_type": "code",
   "execution_count": null,
   "id": "713054ed",
   "metadata": {},
   "outputs": [],
   "source": []
  },
  {
   "cell_type": "code",
   "execution_count": null,
   "id": "8521c08c",
   "metadata": {},
   "outputs": [],
   "source": []
  },
  {
   "cell_type": "code",
   "execution_count": null,
   "id": "9011a732",
   "metadata": {},
   "outputs": [],
   "source": []
  },
  {
   "cell_type": "code",
   "execution_count": null,
   "id": "221d8780",
   "metadata": {},
   "outputs": [],
   "source": []
  },
  {
   "cell_type": "code",
   "execution_count": null,
   "id": "8d10b81a",
   "metadata": {},
   "outputs": [],
   "source": []
  },
  {
   "cell_type": "code",
   "execution_count": null,
   "id": "2dc032ee",
   "metadata": {},
   "outputs": [],
   "source": []
  },
  {
   "cell_type": "code",
   "execution_count": null,
   "id": "0e770543",
   "metadata": {},
   "outputs": [],
   "source": [
    "y"
   ]
  },
  {
   "cell_type": "code",
   "execution_count": null,
   "id": "dce66f3d",
   "metadata": {},
   "outputs": [],
   "source": []
  }
 ],
 "metadata": {
  "kernelspec": {
   "display_name": "Python 3 (ipykernel)",
   "language": "python",
   "name": "python3"
  },
  "language_info": {
   "codemirror_mode": {
    "name": "ipython",
    "version": 3
   },
   "file_extension": ".py",
   "mimetype": "text/x-python",
   "name": "python",
   "nbconvert_exporter": "python",
   "pygments_lexer": "ipython3",
   "version": "3.8.12"
  }
 },
 "nbformat": 4,
 "nbformat_minor": 5
}
