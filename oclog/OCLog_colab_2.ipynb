{
  "nbformat": 4,
  "nbformat_minor": 0,
  "metadata": {
    "colab": {
      "name": "COCLog_colab_2.ipynb",
      "provenance": [],
      "collapsed_sections": [],
      "machine_shape": "hm"
    },
    "kernelspec": {
      "name": "python3",
      "display_name": "Python 3"
    },
    "language_info": {
      "name": "python"
    },
    "accelerator": "GPU"
  },
  "cells": [
    {
      "cell_type": "code",
      "source": [
        ""
      ],
      "metadata": {
        "id": "U8F4bAv_CTpE"
      },
      "execution_count": null,
      "outputs": []
    },
    {
      "cell_type": "code",
      "execution_count": 3,
      "metadata": {
        "colab": {
          "base_uri": "https://localhost:8080/"
        },
        "id": "_0q6XbMJBtt0",
        "outputId": "74981964-d25e-4105-a968-c72760beaf7e"
      },
      "outputs": [
        {
          "output_type": "stream",
          "name": "stdout",
          "text": [
            "Mounted at /content/gdrive\n",
            "['padded_4000_train_test.pkl', 'tk.pkl']\n",
            "True\n",
            "True\n"
          ]
        }
      ],
      "source": [
        "from google.colab import drive\n",
        "drive.mount('/content/gdrive')\n",
        "gpath = '/content/gdrive/My Drive/MLdata/'\n",
        "import os\n",
        "os.path.exists(gpath)\n",
        "# os.chdir(gpath)\n",
        "#############End of colab code ###################\n",
        "# Import the environment\n",
        "print(os.listdir(gpath))\n",
        "dpath = os.path.join(gpath, 'padded_4000_train_test.pkl')\n",
        "print(os.path.exists(dpath))\n",
        "tkpath = os.path.join(gpath, 'tk.pkl')\n",
        "print(os.path.exists(tkpath))"
      ]
    },
    {
      "cell_type": "code",
      "source": [
        ""
      ],
      "metadata": {
        "id": "eaRawh-xCvU5"
      },
      "execution_count": null,
      "outputs": []
    },
    {
      "cell_type": "code",
      "source": [
        "def test_model(ablation=1000, B=32, epochs=3, filters=64, kernel_size=3, dense_neurons=2048, \n",
        "              conv1d_set1=1, conv1d_set2=1, maxpool_1=False):\n",
        "    \n",
        "    import tensorflow as tf\n",
        "    import numpy as np\n",
        "    tf.random.set_seed(123)\n",
        "    import pickle\n",
        "    with open(dpath, 'rb') as f:\n",
        "      padded_4000_train_test = pickle.load(f)    \n",
        "    x_train, y_train, x_test, y_test = padded_4000_train_test\n",
        "    train_data = tf.data.Dataset.from_tensor_slices((x_train, y_train))\n",
        "    train_data = train_data.shuffle(buffer_size=y_train.shape[0]).batch(B, drop_remainder=True)\n",
        "    print(train_data)\n",
        "    \n",
        "    test_data = tf.data.Dataset.from_tensor_slices((x_test, y_test))\n",
        "    test_data = test_data.shuffle(buffer_size=y_test.shape[0]).batch(B, drop_remainder=True)\n",
        "    print(test_data)\n",
        "    \n",
        "    \n",
        "    # tk = hdfslogs.tk  \n",
        "    with open(tkpath, 'rb') as f:\n",
        "      tk = pickle.load(f)  \n",
        "    vocab_size = len(tk.word_index)\n",
        "    vocab_size = len(tk.word_index)\n",
        "    print(f'vocab_size: {vocab_size}')\n",
        "    char_onehot = vocab_size\n",
        "    \n",
        "    embedding_weights = []\n",
        "    embedding_weights.append(np.zeros(vocab_size))\n",
        "    for char, i in tk.word_index.items(): # from 1 to 51\n",
        "        onehot = np.zeros(vocab_size)\n",
        "        onehot[i-1] = 1\n",
        "        embedding_weights.append(onehot)\n",
        "    embedding_weights = np.array(embedding_weights)\n",
        "    \n",
        "    input_size = [x_train.shape[1], x_train.shape[2]]\n",
        "    embedding_size = vocab_size\n",
        "\n",
        "    embedding_layer = tf.keras.layers.Embedding(vocab_size+1,\n",
        "                                                embedding_size,\n",
        "                                                input_length=input_size,\n",
        "                                                weights = [embedding_weights])\n",
        "    \n",
        "    \n",
        "    \n",
        "    \n",
        "    inputs = tf.keras.layers.Input(batch_shape=(B, x_train.shape[1], x_train.shape[2]), dtype='float64' )\n",
        "    x = tf.keras.layers.Embedding(input_dim=vocab_size+1,\n",
        "                                    output_dim=embedding_size,\n",
        "                                    input_length=x_train.shape[2],\n",
        "                                    weights = [embedding_weights],\n",
        "                                    )(inputs)\n",
        "    for _ in range(conv1d_set1):\n",
        "        x = tf.keras.layers.Conv1D(filters=filters, kernel_size=kernel_size, padding='same')(x)\n",
        "    if maxpool_1:\n",
        "        x = tf.keras.layers.MaxPooling2D(pool_size=(1, x_train.shape[2]))(x)\n",
        "        x = tf.reshape(x, (B, x_train.shape[1], filters))        \n",
        "        for _ in range(conv1d_set2):\n",
        "            x = tf.keras.layers.Conv1D(filters=filters, kernel_size=kernel_size, padding='same')(x)\n",
        "        x = tf.keras.layers.MaxPooling1D(pool_size=(x_train.shape[1]) )(x)\n",
        "        x = tf.reshape(x, (B, filters))\n",
        "    if not maxpool_1:\n",
        "        x = tf.keras.layers.Flatten()(x)       \n",
        "    x = tf.keras.layers.Dense(dense_neurons)(x)\n",
        "    outputs = tf.keras.layers.Dense(1, activation='sigmoid')(x)\n",
        "    model = tf.keras.Model(inputs=inputs, outputs=outputs)\n",
        "    print(model.summary())\n",
        "    model.compile(optimizer='adam', \n",
        "                  loss=tf.keras.losses.BinaryCrossentropy(from_logits=True),\n",
        "              metrics=['accuracy', tf.keras.metrics.Precision(), tf.keras.metrics.Recall()])\n",
        "    hist = model.fit(train_data, validation_data=test_data, epochs=epochs) \n",
        "    return model, hist"
      ],
      "metadata": {
        "id": "Z5xWjcVxDhIX"
      },
      "execution_count": 8,
      "outputs": []
    },
    {
      "cell_type": "code",
      "source": [
        "test_model(B=250, kernel_size=3, epochs=16, dense_neurons=2048, conv1d_set1=3,conv1d_set2=3, maxpool_1=True )"
      ],
      "metadata": {
        "colab": {
          "base_uri": "https://localhost:8080/"
        },
        "id": "QxvTEyegD5yw",
        "outputId": "59048910-f390-49c2-ce9a-0c4936d07502"
      },
      "execution_count": 9,
      "outputs": [
        {
          "output_type": "stream",
          "name": "stdout",
          "text": [
            "<BatchDataset shapes: ((250, 64, 256), (250,)), types: (tf.int32, tf.int64)>\n",
            "<BatchDataset shapes: ((250, 64, 256), (250,)), types: (tf.int32, tf.int64)>\n",
            "vocab_size: 42\n",
            "Model: \"model_2\"\n",
            "_________________________________________________________________\n",
            " Layer (type)                Output Shape              Param #   \n",
            "=================================================================\n",
            " input_3 (InputLayer)        [(250, 64, 256)]          0         \n",
            "                                                                 \n",
            " embedding_5 (Embedding)     (250, 64, 256, 42)        1806      \n",
            "                                                                 \n",
            " conv1d_12 (Conv1D)          (250, 64, 256, 64)        8128      \n",
            "                                                                 \n",
            " conv1d_13 (Conv1D)          (250, 64, 256, 64)        12352     \n",
            "                                                                 \n",
            " conv1d_14 (Conv1D)          (250, 64, 256, 64)        12352     \n",
            "                                                                 \n",
            " max_pooling2d_2 (MaxPooling  (250, 64, 1, 64)         0         \n",
            " 2D)                                                             \n",
            "                                                                 \n",
            " tf.reshape_4 (TFOpLambda)   (250, 64, 64)             0         \n",
            "                                                                 \n",
            " conv1d_15 (Conv1D)          (250, 64, 64)             12352     \n",
            "                                                                 \n",
            " conv1d_16 (Conv1D)          (250, 64, 64)             12352     \n",
            "                                                                 \n",
            " conv1d_17 (Conv1D)          (250, 64, 64)             12352     \n",
            "                                                                 \n",
            " max_pooling1d_2 (MaxPooling  (250, 1, 64)             0         \n",
            " 1D)                                                             \n",
            "                                                                 \n",
            " tf.reshape_5 (TFOpLambda)   (250, 64)                 0         \n",
            "                                                                 \n",
            " dense_4 (Dense)             (250, 2048)               133120    \n",
            "                                                                 \n",
            " dense_5 (Dense)             (250, 1)                  2049      \n",
            "                                                                 \n",
            "=================================================================\n",
            "Total params: 206,863\n",
            "Trainable params: 206,863\n",
            "Non-trainable params: 0\n",
            "_________________________________________________________________\n",
            "None\n",
            "Epoch 1/16\n"
          ]
        },
        {
          "output_type": "stream",
          "name": "stderr",
          "text": [
            "/usr/local/lib/python3.7/dist-packages/tensorflow/python/util/dispatch.py:1096: UserWarning: \"`binary_crossentropy` received `from_logits=True`, but the `output` argument was produced by a sigmoid or softmax activation and thus does not represent logits. Was this intended?\"\n",
            "  return dispatch_target(*args, **kwargs)\n"
          ]
        },
        {
          "output_type": "stream",
          "name": "stdout",
          "text": [
            "32/32 [==============================] - 28s 551ms/step - loss: 0.4336 - accuracy: 0.7859 - precision_1: 0.8498 - recall: 0.6945 - val_loss: 0.3015 - val_accuracy: 0.9128 - val_precision_1: 0.8534 - val_recall: 0.9967\n",
            "Epoch 2/16\n",
            "32/32 [==============================] - 17s 527ms/step - loss: 0.0612 - accuracy: 0.9805 - precision_1: 0.9868 - recall: 0.9740 - val_loss: 0.0165 - val_accuracy: 0.9971 - val_precision_1: 0.9948 - val_recall: 0.9995\n",
            "Epoch 3/16\n",
            "32/32 [==============================] - 17s 533ms/step - loss: 0.0095 - accuracy: 0.9979 - precision_1: 0.9975 - recall: 0.9983 - val_loss: 0.0076 - val_accuracy: 0.9980 - val_precision_1: 0.9960 - val_recall: 1.0000\n",
            "Epoch 4/16\n",
            "32/32 [==============================] - 17s 528ms/step - loss: 0.0033 - accuracy: 0.9991 - precision_1: 0.9983 - recall: 1.0000 - val_loss: 0.0061 - val_accuracy: 0.9985 - val_precision_1: 0.9970 - val_recall: 1.0000\n",
            "Epoch 5/16\n",
            "32/32 [==============================] - 17s 531ms/step - loss: 0.0021 - accuracy: 0.9995 - precision_1: 0.9993 - recall: 0.9998 - val_loss: 0.0042 - val_accuracy: 0.9989 - val_precision_1: 0.9978 - val_recall: 1.0000\n",
            "Epoch 6/16\n",
            "32/32 [==============================] - 17s 531ms/step - loss: 0.0018 - accuracy: 0.9996 - precision_1: 0.9997 - recall: 0.9995 - val_loss: 0.0073 - val_accuracy: 0.9984 - val_precision_1: 0.9968 - val_recall: 1.0000\n",
            "Epoch 7/16\n",
            "32/32 [==============================] - 17s 524ms/step - loss: 0.0015 - accuracy: 0.9999 - precision_1: 0.9998 - recall: 1.0000 - val_loss: 0.0057 - val_accuracy: 0.9986 - val_precision_1: 0.9973 - val_recall: 1.0000\n",
            "Epoch 8/16\n",
            "32/32 [==============================] - 17s 531ms/step - loss: 7.3486e-04 - accuracy: 0.9998 - precision_1: 0.9998 - recall: 0.9998 - val_loss: 0.0043 - val_accuracy: 0.9991 - val_precision_1: 0.9983 - val_recall: 1.0000\n",
            "Epoch 9/16\n",
            "32/32 [==============================] - 17s 531ms/step - loss: 6.6347e-04 - accuracy: 0.9999 - precision_1: 1.0000 - recall: 0.9998 - val_loss: 0.0037 - val_accuracy: 0.9992 - val_precision_1: 0.9985 - val_recall: 1.0000\n",
            "Epoch 10/16\n",
            "32/32 [==============================] - 17s 532ms/step - loss: 4.3263e-04 - accuracy: 0.9999 - precision_1: 0.9998 - recall: 1.0000 - val_loss: 0.0056 - val_accuracy: 0.9992 - val_precision_1: 0.9985 - val_recall: 1.0000\n",
            "Epoch 11/16\n",
            "32/32 [==============================] - 17s 526ms/step - loss: 3.4366e-04 - accuracy: 0.9999 - precision_1: 0.9998 - recall: 1.0000 - val_loss: 0.0058 - val_accuracy: 0.9991 - val_precision_1: 0.9983 - val_recall: 1.0000\n",
            "Epoch 12/16\n",
            "32/32 [==============================] - 17s 526ms/step - loss: 3.3868e-04 - accuracy: 0.9999 - precision_1: 0.9998 - recall: 1.0000 - val_loss: 0.0065 - val_accuracy: 0.9990 - val_precision_1: 0.9980 - val_recall: 1.0000\n",
            "Epoch 13/16\n",
            "32/32 [==============================] - 17s 531ms/step - loss: 4.7752e-04 - accuracy: 0.9998 - precision_1: 0.9998 - recall: 0.9998 - val_loss: 0.0044 - val_accuracy: 0.9992 - val_precision_1: 0.9985 - val_recall: 1.0000\n",
            "Epoch 14/16\n",
            "32/32 [==============================] - 17s 539ms/step - loss: 1.7612e-04 - accuracy: 1.0000 - precision_1: 1.0000 - recall: 1.0000 - val_loss: 0.0054 - val_accuracy: 0.9991 - val_precision_1: 0.9983 - val_recall: 1.0000\n",
            "Epoch 15/16\n",
            "32/32 [==============================] - 17s 521ms/step - loss: 9.8470e-05 - accuracy: 1.0000 - precision_1: 1.0000 - recall: 1.0000 - val_loss: 0.0057 - val_accuracy: 0.9991 - val_precision_1: 0.9983 - val_recall: 1.0000\n",
            "Epoch 16/16\n",
            "32/32 [==============================] - 17s 528ms/step - loss: 1.5989e-04 - accuracy: 1.0000 - precision_1: 1.0000 - recall: 1.0000 - val_loss: 0.0057 - val_accuracy: 0.9992 - val_precision_1: 0.9985 - val_recall: 1.0000\n"
          ]
        },
        {
          "output_type": "execute_result",
          "data": {
            "text/plain": [
              "(<keras.engine.functional.Functional at 0x7f0eeecbbe90>,\n",
              " <keras.callbacks.History at 0x7f0eeed27650>)"
            ]
          },
          "metadata": {},
          "execution_count": 9
        }
      ]
    },
    {
      "cell_type": "code",
      "source": [
        ""
      ],
      "metadata": {
        "id": "xVC-uLYlUMDv"
      },
      "execution_count": null,
      "outputs": []
    }
  ]
}