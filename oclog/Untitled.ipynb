{
 "cells": [
  {
   "cell_type": "code",
   "execution_count": 2,
   "id": "4ac03869-4c3a-4935-adeb-31b0f1438b03",
   "metadata": {},
   "outputs": [],
   "source": [
    "import tensorflow as tf\n",
    "import numpy as np"
   ]
  },
  {
   "cell_type": "code",
   "execution_count": 3,
   "id": "56583b35-35c7-4407-9f53-84555095a19b",
   "metadata": {},
   "outputs": [],
   "source": [
    "txt = ['First']"
   ]
  },
  {
   "cell_type": "code",
   "execution_count": 4,
   "id": "b93f9f1e-d9b8-4f83-b0d1-7f186ade882f",
   "metadata": {},
   "outputs": [],
   "source": [
    "from char_hdfs import HDFSLog"
   ]
  },
  {
   "cell_type": "code",
   "execution_count": 5,
   "id": "2dadbdac-76e8-441a-b7b3-56ff087a3cbd",
   "metadata": {},
   "outputs": [],
   "source": [
    "hdfs = HDFSLog()"
   ]
  },
  {
   "cell_type": "code",
   "execution_count": 6,
   "id": "d623d059-1dda-4d71-b4ac-d7395a80097b",
   "metadata": {},
   "outputs": [
    {
     "name": "stdout",
     "output_type": "stream",
     "text": [
      "total number of lines in the log file: 11175629\n"
     ]
    }
   ],
   "source": [
    "logs = hdfs.get_log_lines()"
   ]
  },
  {
   "cell_type": "code",
   "execution_count": 8,
   "id": "ded7b352-b7e1-411e-9d58-059addea5334",
   "metadata": {},
   "outputs": [],
   "source": [
    "tk = tf.keras.preprocessing.text.Tokenizer(char_level=True)"
   ]
  },
  {
   "cell_type": "code",
   "execution_count": 9,
   "id": "49634bc5-3866-4a1e-b595-d5f1dd64bfd1",
   "metadata": {},
   "outputs": [],
   "source": [
    "tk.fit_on_texts(logs)"
   ]
  },
  {
   "cell_type": "code",
   "execution_count": 17,
   "id": "1935c392-cb5e-4ec6-b17f-7f8bfe06fa1d",
   "metadata": {},
   "outputs": [
    {
     "data": {
      "text/plain": [
       "['__class__',\n",
       " '__delattr__',\n",
       " '__dict__',\n",
       " '__dir__',\n",
       " '__doc__',\n",
       " '__eq__',\n",
       " '__format__',\n",
       " '__ge__',\n",
       " '__getattribute__',\n",
       " '__gt__',\n",
       " '__hash__',\n",
       " '__init__',\n",
       " '__init_subclass__',\n",
       " '__le__',\n",
       " '__lt__',\n",
       " '__module__',\n",
       " '__ne__',\n",
       " '__new__',\n",
       " '__reduce__',\n",
       " '__reduce_ex__',\n",
       " '__repr__',\n",
       " '__setattr__',\n",
       " '__sizeof__',\n",
       " '__str__',\n",
       " '__subclasshook__',\n",
       " '__weakref__',\n",
       " '_keras_api_names',\n",
       " '_keras_api_names_v1',\n",
       " 'char_level',\n",
       " 'document_count',\n",
       " 'filters',\n",
       " 'fit_on_sequences',\n",
       " 'fit_on_texts',\n",
       " 'get_config',\n",
       " 'index_docs',\n",
       " 'index_word',\n",
       " 'lower',\n",
       " 'num_words',\n",
       " 'oov_token',\n",
       " 'sequences_to_matrix',\n",
       " 'sequences_to_texts',\n",
       " 'sequences_to_texts_generator',\n",
       " 'split',\n",
       " 'texts_to_matrix',\n",
       " 'texts_to_sequences',\n",
       " 'texts_to_sequences_generator',\n",
       " 'to_json',\n",
       " 'word_counts',\n",
       " 'word_docs',\n",
       " 'word_index']"
      ]
     },
     "execution_count": 17,
     "metadata": {},
     "output_type": "execute_result"
    }
   ],
   "source": [
    "dir(tk)"
   ]
  },
  {
   "cell_type": "code",
   "execution_count": 18,
   "id": "a79c065c-3136-43ff-9379-8dad346ca5cd",
   "metadata": {},
   "outputs": [
    {
     "data": {
      "text/plain": [
       "11175629"
      ]
     },
     "execution_count": 18,
     "metadata": {},
     "output_type": "execute_result"
    }
   ],
   "source": [
    "tk.document_count"
   ]
  },
  {
   "cell_type": "code",
   "execution_count": 13,
   "id": "5824dbb9-84e1-4076-96d2-03e1b9b4e631",
   "metadata": {},
   "outputs": [
    {
     "data": {
      "text/plain": [
       "50"
      ]
     },
     "execution_count": 13,
     "metadata": {},
     "output_type": "execute_result"
    }
   ],
   "source": [
    "len(tk.word_index)"
   ]
  },
  {
   "cell_type": "code",
   "execution_count": 20,
   "id": "9e9878a1-b8a6-4bc0-acf6-d2dd4cd71cb0",
   "metadata": {},
   "outputs": [
    {
     "name": "stdout",
     "output_type": "stream",
     "text": [
      "[[21, 19, 23, 7, 12]]\n"
     ]
    }
   ],
   "source": [
    "s = tk.texts_to_sequences(['First'])\n",
    "print(s)"
   ]
  },
  {
   "cell_type": "code",
   "execution_count": 22,
   "id": "67abfb26-bee7-408a-8ea5-26999c6a6ffc",
   "metadata": {},
   "outputs": [
    {
     "data": {
      "text/plain": [
       "['f i r s t']"
      ]
     },
     "execution_count": 22,
     "metadata": {},
     "output_type": "execute_result"
    }
   ],
   "source": [
    "tk.sequences_to_texts(s)"
   ]
  },
  {
   "cell_type": "code",
   "execution_count": 71,
   "id": "d744f267-a917-4f01-88a1-7a33949d5434",
   "metadata": {},
   "outputs": [],
   "source": [
    "ids = tk.texts_to_sequences(logs) "
   ]
  },
  {
   "cell_type": "code",
   "execution_count": 72,
   "id": "c1273fd8-f18f-4d24-b437-6a3359232f9f",
   "metadata": {},
   "outputs": [
    {
     "data": {
      "text/plain": [
       "11175629"
      ]
     },
     "execution_count": 72,
     "metadata": {},
     "output_type": "execute_result"
    }
   ],
   "source": [
    "len(ids)"
   ]
  },
  {
   "cell_type": "code",
   "execution_count": 73,
   "id": "61b42fe1-31f0-4635-ac71-569a83138c2f",
   "metadata": {},
   "outputs": [
    {
     "name": "stdout",
     "output_type": "stream",
     "text": [
      "081109 203518 143 info dfs.datanode$dataxceiver: receiving block blk_-1608999687919862906 src: /10.250.19.102:54106 dest: /10.250.19.102:50010\n"
     ]
    }
   ],
   "source": [
    "print(logs[0])"
   ]
  },
  {
   "cell_type": "code",
   "execution_count": 74,
   "id": "af4fa8c2-9144-40e8-ac6c-2233be80655f",
   "metadata": {},
   "outputs": [
    {
     "name": "stdout",
     "output_type": "stream",
     "text": [
      "[3, 11, 2, 2, 3, 20, 1, 6, 3, 15, 9, 2, 11, 1, 2, 14, 15, 1, 19, 16, 21, 8, 1, 5, 21, 7, 13, 5, 10, 12, 10, 16, 8, 5, 4, 35, 5, 10, 12, 10, 40, 25, 4, 19, 32, 4, 23, 27, 1, 23, 4, 25, 4, 19, 32, 19, 16, 36, 1, 26, 22, 8, 25, 24, 1, 26, 22, 24, 31, 34, 2, 17, 3, 11, 20, 20, 20, 17, 11, 18, 20, 2, 20, 11, 17, 6, 20, 3, 17, 1, 7, 23, 25, 27, 1, 29, 2, 3, 13, 6, 9, 3, 13, 2, 20, 13, 2, 3, 6, 27, 9, 14, 2, 3, 17, 1, 5, 4, 7, 12, 27, 1, 29, 2, 3, 13, 6, 9, 3, 13, 2, 20, 13, 2, 3, 6, 27, 9, 3, 3, 2, 3]\n"
     ]
    }
   ],
   "source": [
    "print(ids[0])"
   ]
  },
  {
   "cell_type": "code",
   "execution_count": 75,
   "id": "4d588190-7357-416c-9918-49683cdab2af",
   "metadata": {},
   "outputs": [
    {
     "name": "stdout",
     "output_type": "stream",
     "text": [
      "['0 8 1 1 0 9   2 0 3 5 1 8   1 4 3   i n f o   d f s . d a t a n o d e $ d a t a x c e i v e r :   r e c e i v i n g   b l o c k   b l k _ - 1 6 0 8 9 9 9 6 8 7 9 1 9 8 6 2 9 0 6   s r c :   / 1 0 . 2 5 0 . 1 9 . 1 0 2 : 5 4 1 0 6   d e s t :   / 1 0 . 2 5 0 . 1 9 . 1 0 2 : 5 0 0 1 0']\n"
     ]
    }
   ],
   "source": [
    "print(tk.sequences_to_texts([ids[0]]))"
   ]
  },
  {
   "cell_type": "code",
   "execution_count": null,
   "id": "f86b174e-509b-4368-90ac-a75c30239a61",
   "metadata": {},
   "outputs": [],
   "source": []
  },
  {
   "cell_type": "code",
   "execution_count": null,
   "id": "d6efc2b0-ba91-4029-954e-24add37dee45",
   "metadata": {},
   "outputs": [],
   "source": []
  },
  {
   "cell_type": "code",
   "execution_count": null,
   "id": "0a216e57-c252-46b4-ab37-156430aebb06",
   "metadata": {},
   "outputs": [],
   "source": []
  },
  {
   "cell_type": "code",
   "execution_count": null,
   "id": "6a68bc1b-b60d-4883-aa6a-064ed66264c5",
   "metadata": {},
   "outputs": [],
   "source": []
  },
  {
   "cell_type": "code",
   "execution_count": 7,
   "id": "033e51e9-00aa-4f26-9e59-96d4f22f324f",
   "metadata": {},
   "outputs": [
    {
     "name": "stdout",
     "output_type": "stream",
     "text": [
      "(3, 2, 2, 3)\n",
      "(3,)\n"
     ]
    }
   ],
   "source": [
    "c1 = [0, 0, 1]\n",
    "c2 = [0, 1, 0]\n",
    "c3 = [1, 0, 0]\n",
    "l1 = [c1, c2]\n",
    "l2 = [c2, c3]\n",
    "l3 = [c1, c3]\n",
    "s1 = [l1, l2]\n",
    "s2 = [l2, l3]\n",
    "s3 = [l1, l3]\n",
    "x = np.array([s1, s2, s3])\n",
    "print(x.shape)\n",
    "y = [1, 0, 0]\n",
    "y = np.array(y)\n",
    "print(y.shape)"
   ]
  },
  {
   "cell_type": "code",
   "execution_count": 95,
   "id": "47d140db-cb04-4656-b872-bd212fb9b3bc",
   "metadata": {},
   "outputs": [
    {
     "name": "stdout",
     "output_type": "stream",
     "text": [
      "Model: \"sequential_4\"\n",
      "_________________________________________________________________\n",
      "Layer (type)                 Output Shape              Param #   \n",
      "=================================================================\n",
      "conv1d_4 (Conv1D)            (None, 2, 1, 3)           21        \n",
      "_________________________________________________________________\n",
      "dense_4 (Dense)              (None, 2, 1, 1)           4         \n",
      "=================================================================\n",
      "Total params: 25\n",
      "Trainable params: 25\n",
      "Non-trainable params: 0\n",
      "_________________________________________________________________\n"
     ]
    }
   ],
   "source": [
    "model = tf.keras.models.Sequential([\n",
    "    tf.keras.layers.Conv1D(3, 2, input_shape=[2, 2, 3]),\n",
    "    tf.keras.layers.Dense(1)\n",
    "                           \n",
    "                           ])\n",
    "model.summary()"
   ]
  },
  {
   "cell_type": "code",
   "execution_count": 100,
   "id": "50d9f7f4-9758-47c9-a470-8f2caa4f24c6",
   "metadata": {},
   "outputs": [],
   "source": [
    "model.compile(\n",
    "    loss=tf.keras.losses.BinaryCrossentropy(),\n",
    "    optimizer='adam',\n",
    "    metrics=['accuracy'])"
   ]
  },
  {
   "cell_type": "code",
   "execution_count": 102,
   "id": "14fa0125-24a4-4489-8ee1-7b077dd2408c",
   "metadata": {},
   "outputs": [
    {
     "name": "stdout",
     "output_type": "stream",
     "text": [
      "Epoch 1/2\n",
      "1/1 [==============================] - 0s 0s/step - loss: 4.5854 - accuracy: 0.4444\n",
      "Epoch 2/2\n",
      "1/1 [==============================] - 0s 1ms/step - loss: 4.4717 - accuracy: 0.4444\n"
     ]
    },
    {
     "data": {
      "text/plain": [
       "<tensorflow.python.keras.callbacks.History at 0x236487b79d0>"
      ]
     },
     "execution_count": 102,
     "metadata": {},
     "output_type": "execute_result"
    }
   ],
   "source": [
    "model.fit(x, y, epochs=2)"
   ]
  },
  {
   "cell_type": "code",
   "execution_count": 9,
   "id": "e08ca02d-184e-4e8f-84b0-3ff05f04e7a2",
   "metadata": {},
   "outputs": [
    {
     "data": {
      "text/plain": [
       "<BatchDataset shapes: ((None, 2, 2, 3), (None,)), types: (tf.int32, tf.int32)>"
      ]
     },
     "execution_count": 9,
     "metadata": {},
     "output_type": "execute_result"
    }
   ],
   "source": [
    "tfd = tf.data.Dataset.from_tensor_slices((x, y))\n",
    "tfd = tfd.batch(3)\n",
    "tfd"
   ]
  },
  {
   "cell_type": "code",
   "execution_count": 107,
   "id": "96c129ac-6591-4f6a-b01c-41719f142b25",
   "metadata": {},
   "outputs": [
    {
     "name": "stdout",
     "output_type": "stream",
     "text": [
      "Epoch 1/2\n",
      "1/1 [==============================] - 0s 989us/step - loss: 4.4105 - accuracy: 0.4444\n",
      "Epoch 2/2\n",
      "1/1 [==============================] - 0s 998us/step - loss: 4.3698 - accuracy: 0.4444\n"
     ]
    },
    {
     "data": {
      "text/plain": [
       "<tensorflow.python.keras.callbacks.History at 0x2322e3faa60>"
      ]
     },
     "execution_count": 107,
     "metadata": {},
     "output_type": "execute_result"
    }
   ],
   "source": [
    "model.fit(tfd, epochs=2)"
   ]
  },
  {
   "cell_type": "code",
   "execution_count": 19,
   "id": "4ffff7fb-6d5e-42ea-ba69-818ac24770da",
   "metadata": {},
   "outputs": [
    {
     "data": {
      "text/plain": [
       "<TensorSliceDataset shapes: ((2, 2, 3), ()), types: (tf.int32, tf.int32)>"
      ]
     },
     "execution_count": 19,
     "metadata": {},
     "output_type": "execute_result"
    }
   ],
   "source": [
    "tfd = tf.data.Dataset.from_tensor_slices((x, y))\n",
    "tfd"
   ]
  },
  {
   "cell_type": "code",
   "execution_count": 23,
   "id": "315c2f22-20ac-4c7b-a2a0-0077658c4503",
   "metadata": {},
   "outputs": [
    {
     "name": "stdout",
     "output_type": "stream",
     "text": [
      "<RangeDataset shapes: (), types: tf.int64>\n"
     ]
    }
   ],
   "source": [
    "dataset = tf.data.Dataset.range(5)\n",
    "print(dataset)\n",
    "dataset = dataset.map(lambda x: x**2)"
   ]
  },
  {
   "cell_type": "code",
   "execution_count": 28,
   "id": "98c53875-c051-4ab8-abfa-34414ed203c0",
   "metadata": {},
   "outputs": [
    {
     "data": {
      "text/plain": [
       "<MapDataset shapes: ((2, 6), ()), types: (tf.int32, tf.int32)>"
      ]
     },
     "execution_count": 28,
     "metadata": {},
     "output_type": "execute_result"
    }
   ],
   "source": [
    "tfd_flat = tfd.map(lambda x, y: (tf.reshape(x, (2, 6)), y))\n",
    "tfd_flat"
   ]
  },
  {
   "cell_type": "code",
   "execution_count": 29,
   "id": "09ea435c-7b99-459b-823f-71fe617f5bd5",
   "metadata": {},
   "outputs": [
    {
     "name": "stdout",
     "output_type": "stream",
     "text": [
      "(<tf.Tensor: shape=(2, 6), dtype=int32, numpy=\n",
      "array([[0, 0, 1, 0, 1, 0],\n",
      "       [0, 1, 0, 1, 0, 0]])>, <tf.Tensor: shape=(), dtype=int32, numpy=1>)\n",
      "(<tf.Tensor: shape=(2, 6), dtype=int32, numpy=\n",
      "array([[0, 1, 0, 1, 0, 0],\n",
      "       [0, 0, 1, 1, 0, 0]])>, <tf.Tensor: shape=(), dtype=int32, numpy=0>)\n",
      "(<tf.Tensor: shape=(2, 6), dtype=int32, numpy=\n",
      "array([[0, 0, 1, 0, 1, 0],\n",
      "       [0, 0, 1, 1, 0, 0]])>, <tf.Tensor: shape=(), dtype=int32, numpy=0>)\n"
     ]
    }
   ],
   "source": [
    "for x in tfd_flat:\n",
    "    print(x)"
   ]
  },
  {
   "cell_type": "code",
   "execution_count": 30,
   "id": "c0ca09f2-35f4-4162-a719-32384dd02f10",
   "metadata": {},
   "outputs": [
    {
     "name": "stdout",
     "output_type": "stream",
     "text": [
      "(<tf.Tensor: shape=(2, 2, 3), dtype=int32, numpy=\n",
      "array([[[0, 0, 1],\n",
      "        [0, 1, 0]],\n",
      "\n",
      "       [[0, 1, 0],\n",
      "        [1, 0, 0]]])>, <tf.Tensor: shape=(), dtype=int32, numpy=1>)\n",
      "(<tf.Tensor: shape=(2, 2, 3), dtype=int32, numpy=\n",
      "array([[[0, 1, 0],\n",
      "        [1, 0, 0]],\n",
      "\n",
      "       [[0, 0, 1],\n",
      "        [1, 0, 0]]])>, <tf.Tensor: shape=(), dtype=int32, numpy=0>)\n",
      "(<tf.Tensor: shape=(2, 2, 3), dtype=int32, numpy=\n",
      "array([[[0, 0, 1],\n",
      "        [0, 1, 0]],\n",
      "\n",
      "       [[0, 0, 1],\n",
      "        [1, 0, 0]]])>, <tf.Tensor: shape=(), dtype=int32, numpy=0>)\n"
     ]
    }
   ],
   "source": [
    "for x in tfd:\n",
    "    print(x)"
   ]
  }
 ],
 "metadata": {
  "kernelspec": {
   "display_name": "Python 3 (ipykernel)",
   "language": "python",
   "name": "python3"
  },
  "language_info": {
   "codemirror_mode": {
    "name": "ipython",
    "version": 3
   },
   "file_extension": ".py",
   "mimetype": "text/x-python",
   "name": "python",
   "nbconvert_exporter": "python",
   "pygments_lexer": "ipython3",
   "version": "3.8.12"
  }
 },
 "nbformat": 4,
 "nbformat_minor": 5
}
