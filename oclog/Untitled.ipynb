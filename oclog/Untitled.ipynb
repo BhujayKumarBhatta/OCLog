{
 "cells": [
  {
   "cell_type": "code",
   "execution_count": 10,
   "id": "2382a0a2",
   "metadata": {},
   "outputs": [
    {
     "name": "stdout",
     "output_type": "stream",
     "text": [
      "__file__\n"
     ]
    }
   ],
   "source": [
    "print('__file__')"
   ]
  },
  {
   "cell_type": "code",
   "execution_count": 13,
   "id": "679aa428",
   "metadata": {},
   "outputs": [
    {
     "data": {
      "text/plain": [
       "'C:\\\\Users\\\\Bhujay_ROG\\\\MyDev\\\\OCLog\\\\oclog'"
      ]
     },
     "execution_count": 13,
     "metadata": {},
     "output_type": "execute_result"
    }
   ],
   "source": [
    "import os, sys\n",
    "os.path.abspath(os.getcwd())\n",
    "# sys.path.insert\n",
    "# from oclog.BGL.bglog import BGLogb"
   ]
  },
  {
   "cell_type": "code",
   "execution_count": 12,
   "id": "2bc58954",
   "metadata": {},
   "outputs": [
    {
     "data": {
      "text/plain": [
       "'C:\\\\Users\\\\Bhujay_ROG\\\\MyDev\\\\OCLog'"
      ]
     },
     "execution_count": 12,
     "metadata": {},
     "output_type": "execute_result"
    }
   ],
   "source": [
    "os.path.abspath(os.pardir)"
   ]
  },
  {
   "cell_type": "code",
   "execution_count": 14,
   "id": "2dd129fa",
   "metadata": {},
   "outputs": [
    {
     "name": "stdout",
     "output_type": "stream",
     "text": [
      "__file__\n"
     ]
    }
   ],
   "source": [
    "print(\"__file__\")"
   ]
  }
 ],
 "metadata": {
  "kernelspec": {
   "display_name": "Python 3 (ipykernel)",
   "language": "python",
   "name": "python3"
  },
  "language_info": {
   "codemirror_mode": {
    "name": "ipython",
    "version": 3
   },
   "file_extension": ".py",
   "mimetype": "text/x-python",
   "name": "python",
   "nbconvert_exporter": "python",
   "pygments_lexer": "ipython3",
   "version": "3.8.12"
  }
 },
 "nbformat": 4,
 "nbformat_minor": 5
}
