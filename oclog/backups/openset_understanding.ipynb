{
 "cells": [
  {
   "cell_type": "code",
   "execution_count": 1,
   "id": "3b910fc1",
   "metadata": {},
   "outputs": [],
   "source": [
    "from bglog import BGLog, get_embedding_layer\n",
    "import numpy as np\n",
    "import tensorflow as tf\n",
    "tf.random.set_seed(123)\n",
    "from pretraining import LogLineEncoder, LogSeqEncoder, LogClassifier\n",
    "from boundary_loss import euclidean_metric, BoundaryLoss"
   ]
  },
  {
   "cell_type": "code",
   "execution_count": 2,
   "id": "2520d27a",
   "metadata": {},
   "outputs": [],
   "source": [
    "bglog = BGLog(save_padded_num_sequences=False, load_from_pkl=True)"
   ]
  },
  {
   "cell_type": "code",
   "execution_count": 3,
   "id": "63d8589b",
   "metadata": {},
   "outputs": [
    {
     "name": "stdout",
     "output_type": "stream",
     "text": [
      "padded_num_seq_df loaded from data\\bgl_padded_num_seq_df.pkl\n",
      "trained tokenizer, tk, loaded from data\\bgltk.pkl\n",
      "train_0:, 800\n",
      "test_0:, 200\n",
      "train_1:, 800\n",
      "test_1:, 200\n",
      "train_2:, 800\n",
      "test_2:, 200\n",
      "train_3:, 800\n",
      "test_3:, 102\n",
      "4 class does not have 800 records, it has only 628 records\n",
      "test_4:, 0\n",
      "5 class does not have 800 records, it has only 165 records\n",
      "5 class does not have 200 records, it has only 165 records\n",
      "6 class does not have 800 records, it has only 75 records\n",
      "6 class does not have 200 records, it has only 75 records\n",
      "[[1. 0. 0. 0.]\n",
      " [1. 0. 0. 0.]]\n",
      "<BatchDataset shapes: ((32, 32, 64), (32, 4)), types: (tf.int32, tf.float32)>\n",
      "<BatchDataset shapes: ((32, 32, 64), (32, 4)), types: (tf.int32, tf.float32)>\n"
     ]
    }
   ],
   "source": [
    "train_test = bglog.get_tensor_train_test(ablation=1000)\n",
    "train_data, test_data = train_test"
   ]
  },
  {
   "cell_type": "code",
   "execution_count": 4,
   "id": "34afa117",
   "metadata": {},
   "outputs": [
    {
     "name": "stdout",
     "output_type": "stream",
     "text": [
      "vocab_size: 50\n",
      "sample_x_train.shape: (32, 32, 64)\n",
      "loglineEmbedding.shape: (32, 32, 64)\n"
     ]
    }
   ],
   "source": [
    "line_encoder =   LogLineEncoder(bglog, chars_in_line=64)\n",
    "# the model doesn't have a state unless it is called at least once\n",
    "# in order to initialize the model we need a sample data \n",
    "sample_train_data = next(iter(train_data))\n",
    "sample_x_train = sample_train_data[0]\n",
    "print('sample_x_train.shape:', sample_x_train.shape)\n",
    "# now we will initialize the model with the sample data\n",
    "loglineEmbedding = line_encoder(sample_x_train)\n",
    "print('loglineEmbedding.shape:', loglineEmbedding.shape)\n",
    "# Now the model have a state and can be inspected        \n",
    "# line_encoder.summary()"
   ]
  },
  {
   "cell_type": "code",
   "execution_count": 5,
   "id": "afc7ae46",
   "metadata": {},
   "outputs": [
    {
     "name": "stdout",
     "output_type": "stream",
     "text": [
      "logSeqEmbedding.shape: (32, 16)\n"
     ]
    }
   ],
   "source": [
    "logSeqencer =   LogSeqEncoder(line_in_seq=32)\n",
    "# the model doesn't have a state unless it is called at least once\n",
    "logSeqEmbedding = logSeqencer(loglineEmbedding)\n",
    "print('logSeqEmbedding.shape:', logSeqEmbedding.shape)\n",
    "# Now the model have a state and can be inspected        \n",
    "# logSeqencer.summary()"
   ]
  },
  {
   "cell_type": "code",
   "execution_count": 6,
   "id": "ca8fb994",
   "metadata": {},
   "outputs": [],
   "source": [
    "log_classifier = LogClassifier(line_encoder=line_encoder, seq_encoder=logSeqencer, num_classes=4)\n",
    "# log_classifier(sample_x_train)  "
   ]
  },
  {
   "cell_type": "code",
   "execution_count": 7,
   "id": "cd31b732",
   "metadata": {},
   "outputs": [],
   "source": [
    "# log_classifier.summary()"
   ]
  },
  {
   "cell_type": "code",
   "execution_count": 8,
   "id": "8f3be2b4",
   "metadata": {},
   "outputs": [
    {
     "name": "stdout",
     "output_type": "stream",
     "text": [
      "WARNING:tensorflow:AutoGraph could not transform <bound method LogLineEncoder.call of <pretraining.LogLineEncoder object at 0x000002A6830A6F40>> and will run it as-is.\n",
      "Please report this to the TensorFlow team. When filing the bug, set the verbosity to 10 (on Linux, `export AUTOGRAPH_VERBOSITY=10`) and attach the full output.\n",
      "Cause: module 'gast' has no attribute 'Index'\n",
      "To silence this warning, decorate the function with @tf.autograph.experimental.do_not_convert\n",
      "WARNING: AutoGraph could not transform <bound method LogLineEncoder.call of <pretraining.LogLineEncoder object at 0x000002A6830A6F40>> and will run it as-is.\n",
      "Please report this to the TensorFlow team. When filing the bug, set the verbosity to 10 (on Linux, `export AUTOGRAPH_VERBOSITY=10`) and attach the full output.\n",
      "Cause: module 'gast' has no attribute 'Index'\n",
      "To silence this warning, decorate the function with @tf.autograph.experimental.do_not_convert\n",
      "WARNING:tensorflow:AutoGraph could not transform <bound method LogSeqEncoder.call of <pretraining.LogSeqEncoder object at 0x000002A6830A6580>> and will run it as-is.\n",
      "Please report this to the TensorFlow team. When filing the bug, set the verbosity to 10 (on Linux, `export AUTOGRAPH_VERBOSITY=10`) and attach the full output.\n",
      "Cause: module 'gast' has no attribute 'Index'\n",
      "To silence this warning, decorate the function with @tf.autograph.experimental.do_not_convert\n",
      "WARNING: AutoGraph could not transform <bound method LogSeqEncoder.call of <pretraining.LogSeqEncoder object at 0x000002A6830A6580>> and will run it as-is.\n",
      "Please report this to the TensorFlow team. When filing the bug, set the verbosity to 10 (on Linux, `export AUTOGRAPH_VERBOSITY=10`) and attach the full output.\n",
      "Cause: module 'gast' has no attribute 'Index'\n",
      "To silence this warning, decorate the function with @tf.autograph.experimental.do_not_convert\n",
      "WARNING:tensorflow:Gradients do not exist for variables ['log_seq_encoder/conv1d_3/kernel:0', 'log_seq_encoder/conv1d_3/bias:0', 'log_seq_encoder/conv1d_4/kernel:0', 'log_seq_encoder/conv1d_4/bias:0'] when minimizing the loss.\n",
      "WARNING:tensorflow:Gradients do not exist for variables ['log_seq_encoder/conv1d_3/kernel:0', 'log_seq_encoder/conv1d_3/bias:0', 'log_seq_encoder/conv1d_4/kernel:0', 'log_seq_encoder/conv1d_4/bias:0'] when minimizing the loss.\n",
      "WARNING:tensorflow:Gradients do not exist for variables ['log_seq_encoder/conv1d_3/kernel:0', 'log_seq_encoder/conv1d_3/bias:0', 'log_seq_encoder/conv1d_4/kernel:0', 'log_seq_encoder/conv1d_4/bias:0'] when minimizing the loss.\n",
      "WARNING:tensorflow:Gradients do not exist for variables ['log_seq_encoder/conv1d_3/kernel:0', 'log_seq_encoder/conv1d_3/bias:0', 'log_seq_encoder/conv1d_4/kernel:0', 'log_seq_encoder/conv1d_4/bias:0'] when minimizing the loss.\n",
      "100/100 [==============================] - 8s 82ms/step - loss: 0.3961 - accuracy: 0.8656 - precision: 0.9614 - recall: 0.7619 - val_loss: 0.0231 - val_accuracy: 0.9985 - val_precision: 0.9985 - val_recall: 0.9940\n"
     ]
    }
   ],
   "source": [
    "log_classifier.compile(optimizer='adam', \n",
    "                  loss='categorical_crossentropy',\n",
    "              metrics=['accuracy', tf.keras.metrics.Precision(), tf.keras.metrics.Recall()])\n",
    "hist = log_classifier.fit(train_data, validation_data=test_data, epochs=1) "
   ]
  },
  {
   "cell_type": "code",
   "execution_count": 9,
   "id": "533a5bb9",
   "metadata": {},
   "outputs": [],
   "source": [
    "# log_classifier(sample_x_train)   "
   ]
  },
  {
   "cell_type": "code",
   "execution_count": null,
   "id": "9ad562bf",
   "metadata": {},
   "outputs": [],
   "source": []
  },
  {
   "cell_type": "code",
   "execution_count": null,
   "id": "8b488d39",
   "metadata": {},
   "outputs": [],
   "source": []
  },
  {
   "cell_type": "code",
   "execution_count": 35,
   "id": "7c6c0280",
   "metadata": {},
   "outputs": [],
   "source": [
    "class OpenSet:\n",
    "    ''' \n",
    "    self.num_labels = number of classes\n",
    "    self.embedding_size = number of neurons in the logits layers of the pretrained model'''\n",
    "    def __init__(self, num_labels, pretrained_model, embedding_size,\n",
    "                lr_boundary):\n",
    "#         super().__init__():\n",
    "        self.model = pretrained_model        \n",
    "        self.centroids = None\n",
    "        self.num_labels = num_labels\n",
    "        self.embedding_size = embedding_size\n",
    "        self.delta = None\n",
    "        self.lr_boundary = lr_boundary\n",
    "        self.delta_points = []\n",
    "        \n",
    "    \n",
    "    def train(self, data_train, epochs=1):\n",
    "        criterion_boundary = BoundaryLoss(num_labels=self.num_labels)\n",
    "        # delta is getting calculated inside the  BoundaryLoss class as well\n",
    "        # however that calculated delta is used for calculating the loss \n",
    "        # that delta is not updating the criterion_boundary.delta which is \n",
    "        # a randomly initialized parameter. \n",
    "        # Hence the following softplus is on randomly initialized trainable parameters\n",
    "        # and not softplus on softplus\n",
    "        self.delta = tf.nn.softplus(criterion_boundary.delta)\n",
    "        self.centroids = self.centroids_cal(data_train)        \n",
    "        optimizer = tf.keras.optimizers.Adam(learning_rate=self.lr_boundary) # does it take criterion_boundary.parameters() ??\n",
    "        wait = 0\n",
    "        best_delta, best_centroids = None, None\n",
    "        \n",
    "        for epoch in range(epochs):\n",
    "            tr_loss = 0\n",
    "            nb_tr_examples, nb_tr_steps = 0, 0\n",
    "            for batch in data_train:\n",
    "                logseq_batch, label_batch = batch\n",
    "                ## (32, 32, 64), (32, 4)\n",
    "                batch_loss, t_loss = self.train_step(criterion_boundary, \n",
    "                                                     logseq_batch, label_batch, optimizer)\n",
    "                tr_loss += t_loss\n",
    "                nb_tr_steps += 1\n",
    "                \n",
    "            self.delta_points.append(self.delta)\n",
    "            loss = tr_loss / nb_tr_steps\n",
    "            print('train_loss:', loss)  \n",
    "                    \n",
    "#     @tf.function                \n",
    "    def train_step(self, criterion_boundary, logseq_batch, label_batch, optimizer):\n",
    "#         print('within train_step')\n",
    "        tr_loss = 0\n",
    "        with tf.GradientTape() as tape:                \n",
    "            features_batch = self.model(logseq_batch, extract_feature=True)\n",
    "            loss, self.delta = criterion_boundary(features_batch, \n",
    "                                                  self.centroids, \n",
    "                                                  label_batch)\n",
    "        tr_loss += loss\n",
    "        gradients = tape.gradient(loss, [self.delta])\n",
    "\n",
    "        optimizer.apply_gradients(zip(gradients, [self.delta]))\n",
    "        return loss, tr_loss                    \n",
    "        \n",
    "        \n",
    "        \n",
    "    def centroids_cal(self, data):\n",
    "        centroids = tf.zeros((self.num_labels, self.embedding_size))\n",
    "        total_labels = tf.zeros(self.num_labels)\n",
    "        for batch in data:\n",
    "            logseq_batch, label_batch = batch\n",
    "            ## (32, 32, 64), (32, 4)\n",
    "            features = self.model(logseq_batch, extract_feature=True)\n",
    "            ## (32, 16) features - 32 sequence of line each haaving 64 characrers\n",
    "            ## produces a feaure vector of dimension 16. \n",
    "            for i in range(len(label_batch)): # (32, 4) --> here length is 32\n",
    "                label = label_batch[i] # label looks like [0 0 0 1]\n",
    "                numeric_label = np.argmax(label) # index position of the label = 3 , so it is actually class =3\n",
    "                ##total_labels = [0 0 0 0] each col representing a class \n",
    "                ## count the number for each class\n",
    "                total_labels_lst = tf.unstack(total_labels)\n",
    "                total_labels_lst[numeric_label] += 1 \n",
    "                total_labels = tf.stack(total_labels_lst)\n",
    "                centroids_lst = tf.unstack(centroids)\n",
    "                centroids_lst[numeric_label] += features[i]\n",
    "                centroids = tf.stack(centroids_lst)\n",
    "                # each row index in the centroid array is a class\n",
    "                # we add first identify the feature belonging to which class by the numeric_label\n",
    "                # Then add all the features belonging to the class in the corresponding row of the centroid arr\n",
    "        ### shape of centroids is (4, 16) whereas shape of total_labels is (1, 4)\n",
    "        ### reshape the total_labels as 4,1 ==> [[0], [0], [0], [0]]==> 4 rows \n",
    "        ## so that we can divide the centroids array by the total_labels\n",
    "        total_label_reshaped = tf.reshape(total_labels, (self.num_labels, 1))\n",
    "        centroids /= total_label_reshaped\n",
    "        return centroids  \n",
    "        \n",
    "        "
   ]
  },
  {
   "cell_type": "code",
   "execution_count": 11,
   "id": "02737e57",
   "metadata": {},
   "outputs": [],
   "source": [
    "# loss, self.delta = criterion_boundary(features_batch,\n",
    "# logits =  euclidean_metric(features, centroids)\n",
    "# NotImplementedError: Cannot convert a symbolic Tensor (log_classifier/log_seq_encoder/dense/Relu:0) to a numpy array. This error may indicate that you're trying to pass a Tensor to a NumPy call, which is not supported \n",
    "# it looks like the numpy arrays to be converted to tensor"
   ]
  },
  {
   "cell_type": "code",
   "execution_count": 36,
   "id": "fa25d2a3",
   "metadata": {},
   "outputs": [],
   "source": [
    "oset = OpenSet(4, log_classifier, 16, 0.05)"
   ]
  },
  {
   "cell_type": "code",
   "execution_count": null,
   "id": "dc520736",
   "metadata": {},
   "outputs": [],
   "source": []
  },
  {
   "cell_type": "code",
   "execution_count": 14,
   "id": "cd089998",
   "metadata": {},
   "outputs": [],
   "source": [
    "# optimizer.apply_gradients(zip(gradients, self.delta))\n",
    "# TypeError: 'IndexedSlices' object is not iterable"
   ]
  },
  {
   "cell_type": "code",
   "execution_count": 15,
   "id": "88a69f0e",
   "metadata": {},
   "outputs": [],
   "source": [
    "t_batch = next(iter(train_data))\n",
    "t_batch_x, t_batch_y = t_batch\n",
    "t_batch_x.shape\n",
    "centroids = oset.centroids_cal(train_data)\n",
    "features_batch = log_classifier(t_batch_x, extract_feature=True)\n"
   ]
  },
  {
   "cell_type": "code",
   "execution_count": 16,
   "id": "3a9fa4d1",
   "metadata": {},
   "outputs": [],
   "source": [
    "criterion_boundary = BoundaryLoss(num_labels=4)\n",
    "loss, delta = criterion_boundary(features_batch, centroids, t_batch_y)"
   ]
  },
  {
   "cell_type": "code",
   "execution_count": 17,
   "id": "1c778338",
   "metadata": {},
   "outputs": [
    {
     "data": {
      "text/plain": [
       "<tf.Tensor: shape=(32,), dtype=float32, numpy=\n",
       "array([1.6548097, 1.6548097, 1.6548097, 1.6548097, 1.6931441, 1.6931441,\n",
       "       1.6548097, 1.6362237, 1.6362237, 1.6548097, 1.6548097, 1.6931441,\n",
       "       1.6754997, 1.6754997, 1.6362237, 1.6931441, 1.6362237, 1.6362237,\n",
       "       1.6931441, 1.6548097, 1.6754997, 1.6754997, 1.6931441, 1.6754997,\n",
       "       1.6548097, 1.6548097, 1.6548097, 1.6548097, 1.6754997, 1.6548097,\n",
       "       1.6754997, 1.6362237], dtype=float32)>"
      ]
     },
     "execution_count": 17,
     "metadata": {},
     "output_type": "execute_result"
    }
   ],
   "source": [
    "loss"
   ]
  },
  {
   "cell_type": "code",
   "execution_count": 18,
   "id": "3b9be8b4",
   "metadata": {},
   "outputs": [
    {
     "data": {
      "text/plain": [
       "<tf.Variable 'boundary_loss/Variable:0' shape=(4, 1) dtype=float32, numpy=\n",
       "array([[0.6644433],\n",
       "       [0.6851332],\n",
       "       [0.7037192],\n",
       "       [0.6467987]], dtype=float32)>"
      ]
     },
     "execution_count": 18,
     "metadata": {},
     "output_type": "execute_result"
    }
   ],
   "source": [
    "delta"
   ]
  },
  {
   "cell_type": "code",
   "execution_count": 19,
   "id": "b415365f",
   "metadata": {},
   "outputs": [],
   "source": [
    "tr_loss=0\n",
    "optimizer = tf.keras.optimizers.Adam(learning_rate=0.05)\n",
    "with tf.GradientTape() as tape:                \n",
    "    features_batch = log_classifier(t_batch_x, extract_feature=True)\n",
    "    loss, delta = criterion_boundary(features_batch, centroids, t_batch_y)\n",
    "tr_loss += loss\n",
    "gradients = tape.gradient(loss, [delta])\n"
   ]
  },
  {
   "cell_type": "code",
   "execution_count": 20,
   "id": "57775387",
   "metadata": {},
   "outputs": [
    {
     "data": {
      "text/plain": [
       "<tf.Variable 'Variable:0' shape=(4, 1) dtype=float32, numpy=\n",
       "array([[0.6644433],\n",
       "       [0.6851332],\n",
       "       [0.7037192],\n",
       "       [0.6467987]], dtype=float32)>"
      ]
     },
     "execution_count": 20,
     "metadata": {},
     "output_type": "execute_result"
    }
   ],
   "source": [
    "delta = tf.Variable(delta)\n",
    "delta"
   ]
  },
  {
   "cell_type": "code",
   "execution_count": 21,
   "id": "17d1b101",
   "metadata": {},
   "outputs": [
    {
     "data": {
      "text/plain": [
       "[<tensorflow.python.framework.indexed_slices.IndexedSlices at 0x2a6b58a7910>]"
      ]
     },
     "execution_count": 21,
     "metadata": {},
     "output_type": "execute_result"
    }
   ],
   "source": [
    "gradients"
   ]
  },
  {
   "cell_type": "code",
   "execution_count": 22,
   "id": "736c7dfe",
   "metadata": {},
   "outputs": [],
   "source": [
    "# optimizer.minimize(loss, delta)"
   ]
  },
  {
   "cell_type": "code",
   "execution_count": 23,
   "id": "bd3b1bfa",
   "metadata": {},
   "outputs": [],
   "source": [
    "# optimizer.apply_gradients(zip(gradients, delta))\n",
    "#### AttributeError: 'tensorflow.python.framework.ops.EagerTensor' object has no attribute '_in_graph_mode'"
   ]
  },
  {
   "cell_type": "code",
   "execution_count": 26,
   "id": "aaf14f79",
   "metadata": {},
   "outputs": [],
   "source": [
    "# @tf.function\n",
    "def check_gradient(t_batch_x, t_batch_y, centroids):\n",
    "    tr_loss=0\n",
    "    optimizer = tf.keras.optimizers.Adam(learning_rate=0.05)\n",
    "    with tf.GradientTape() as tape:                \n",
    "        features_batch = log_classifier(t_batch_x, extract_feature=True)\n",
    "        loss, delta = criterion_boundary(features_batch, centroids, t_batch_y)\n",
    "    tr_loss += loss\n",
    "    gradients = tape.gradient(loss, [delta])    \n",
    "    optimizer.apply_gradients(zip(gradients, [delta]))\n",
    "#     optimizer.minimize(gradients, var_list=[delta])\n",
    "    return loss, tr_loss"
   ]
  },
  {
   "cell_type": "code",
   "execution_count": 27,
   "id": "5c29ae2e",
   "metadata": {},
   "outputs": [
    {
     "data": {
      "text/plain": [
       "(<tf.Tensor: shape=(32,), dtype=float32, numpy=\n",
       " array([1.6548097, 1.6548097, 1.6548097, 1.6548097, 1.6931441, 1.6931441,\n",
       "        1.6548097, 1.6362237, 1.6362237, 1.6548097, 1.6548097, 1.6931441,\n",
       "        1.6754997, 1.6754997, 1.6362237, 1.6931441, 1.6362237, 1.6362237,\n",
       "        1.6931441, 1.6548097, 1.6754997, 1.6754997, 1.6931441, 1.6754997,\n",
       "        1.6548097, 1.6548097, 1.6548097, 1.6548097, 1.6754997, 1.6548097,\n",
       "        1.6754997, 1.6362237], dtype=float32)>,\n",
       " <tf.Tensor: shape=(32,), dtype=float32, numpy=\n",
       " array([1.6548097, 1.6548097, 1.6548097, 1.6548097, 1.6931441, 1.6931441,\n",
       "        1.6548097, 1.6362237, 1.6362237, 1.6548097, 1.6548097, 1.6931441,\n",
       "        1.6754997, 1.6754997, 1.6362237, 1.6931441, 1.6362237, 1.6362237,\n",
       "        1.6931441, 1.6548097, 1.6754997, 1.6754997, 1.6931441, 1.6754997,\n",
       "        1.6548097, 1.6548097, 1.6548097, 1.6548097, 1.6754997, 1.6548097,\n",
       "        1.6754997, 1.6362237], dtype=float32)>)"
      ]
     },
     "execution_count": 27,
     "metadata": {},
     "output_type": "execute_result"
    }
   ],
   "source": [
    "check_gradient(t_batch_x, t_batch_y, centroids)\n",
    "###AttributeError: 'Tensor' object has no attribute '_in_graph_mode'"
   ]
  },
  {
   "cell_type": "code",
   "execution_count": 37,
   "id": "23772f6d",
   "metadata": {},
   "outputs": [
    {
     "name": "stdout",
     "output_type": "stream",
     "text": [
      "train_loss tf.Tensor(\n",
      "[1.7957284 1.7940664 1.7944596 1.7933617 1.7945043 1.792864  1.7947391\n",
      " 1.7926098 1.7953235 1.7940972 1.7948108 1.7937409 1.7959877 1.7926953\n",
      " 1.7934608 1.7940593 1.795232  1.7926925 1.7925882 1.7935345 1.7931397\n",
      " 1.7928509 1.7927395 1.790691  1.7934983 1.7929994 1.7948874 1.7970688\n",
      " 1.793662  1.7941579 1.7943541 1.7943187], shape=(32,), dtype=float32)\n"
     ]
    }
   ],
   "source": [
    "oset.train(train_data)"
   ]
  },
  {
   "cell_type": "code",
   "execution_count": 38,
   "id": "303e2d4f",
   "metadata": {},
   "outputs": [
    {
     "data": {
      "text/plain": [
       "[<tf.Variable 'boundary_loss_3/Variable:0' shape=(4, 1) dtype=float32, numpy=\n",
       " array([[0.7289697 ],\n",
       "        [0.74553466],\n",
       "        [0.76566625],\n",
       "        [0.73381543]], dtype=float32)>]"
      ]
     },
     "execution_count": 38,
     "metadata": {},
     "output_type": "execute_result"
    }
   ],
   "source": [
    "oset.delta_points"
   ]
  },
  {
   "cell_type": "code",
   "execution_count": null,
   "id": "308e1e5c",
   "metadata": {},
   "outputs": [],
   "source": []
  },
  {
   "cell_type": "code",
   "execution_count": null,
   "id": "0b08a422",
   "metadata": {},
   "outputs": [],
   "source": []
  },
  {
   "cell_type": "code",
   "execution_count": null,
   "id": "df9883e1",
   "metadata": {},
   "outputs": [],
   "source": []
  },
  {
   "cell_type": "code",
   "execution_count": null,
   "id": "9aaa7445",
   "metadata": {},
   "outputs": [],
   "source": []
  },
  {
   "cell_type": "markdown",
   "id": "4fae9823",
   "metadata": {},
   "source": [
    "---------------------------------------------------------------------------\n",
    "NotImplementedError                       Traceback (most recent call last)\n",
    "C:\\Users\\BHUJAY~1\\AppData\\Local\\Temp/ipykernel_24404/2131960519.py in <module>\n",
    "----> 1 oset.train(train_data)\n",
    "\n",
    "C:\\Users\\BHUJAY~1\\AppData\\Local\\Temp/ipykernel_24404/3835535165.py in train(self, data_train, epochs)\n",
    "     35                 logseq_batch, label_batch = batch\n",
    "     36                 ## (32, 32, 64), (32, 4)\n",
    "---> 37                 batch_loss, t_loss = self.train_step(criterion_boundary, \n",
    "     38                                                      logseq_batch, label_batch)\n",
    "     39                 tr_loss += t_loss\n",
    "\n",
    "~\\anaconda3\\envs\\env3\\lib\\site-packages\\tensorflow\\python\\eager\\def_function.py in __call__(self, *args, **kwds)\n",
    "    778       else:\n",
    "    779         compiler = \"nonXla\"\n",
    "--> 780         result = self._call(*args, **kwds)\n",
    "    781 \n",
    "    782       new_tracing_count = self._get_tracing_count()\n",
    "\n",
    "~\\anaconda3\\envs\\env3\\lib\\site-packages\\tensorflow\\python\\eager\\def_function.py in _call(self, *args, **kwds)\n",
    "    821       # This is the first call of __call__, so we have to initialize.\n",
    "    822       initializers = []\n",
    "--> 823       self._initialize(args, kwds, add_initializers_to=initializers)\n",
    "    824     finally:\n",
    "    825       # At this point we know that the initialization is complete (or less\n",
    "\n",
    "~\\anaconda3\\envs\\env3\\lib\\site-packages\\tensorflow\\python\\eager\\def_function.py in _initialize(self, args, kwds, add_initializers_to)\n",
    "    694     self._graph_deleter = FunctionDeleter(self._lifted_initializer_graph)\n",
    "    695     self._concrete_stateful_fn = (\n",
    "--> 696         self._stateful_fn._get_concrete_function_internal_garbage_collected(  # pylint: disable=protected-access\n",
    "    697             *args, **kwds))\n",
    "    698 \n",
    "\n",
    "~\\anaconda3\\envs\\env3\\lib\\site-packages\\tensorflow\\python\\eager\\function.py in _get_concrete_function_internal_garbage_collected(self, *args, **kwargs)\n",
    "   2853       args, kwargs = None, None\n",
    "   2854     with self._lock:\n",
    "-> 2855       graph_function, _, _ = self._maybe_define_function(args, kwargs)\n",
    "   2856     return graph_function\n",
    "   2857 \n",
    "\n",
    "~\\anaconda3\\envs\\env3\\lib\\site-packages\\tensorflow\\python\\eager\\function.py in _maybe_define_function(self, args, kwargs)\n",
    "   3211 \n",
    "   3212       self._function_cache.missed.add(call_context_key)\n",
    "-> 3213       graph_function = self._create_graph_function(args, kwargs)\n",
    "   3214       self._function_cache.primary[cache_key] = graph_function\n",
    "   3215       return graph_function, args, kwargs\n",
    "\n",
    "~\\anaconda3\\envs\\env3\\lib\\site-packages\\tensorflow\\python\\eager\\function.py in _create_graph_function(self, args, kwargs, override_flat_arg_shapes)\n",
    "   3063     arg_names = base_arg_names + missing_arg_names\n",
    "   3064     graph_function = ConcreteFunction(\n",
    "-> 3065         func_graph_module.func_graph_from_py_func(\n",
    "   3066             self._name,\n",
    "   3067             self._python_function,\n",
    "\n",
    "~\\anaconda3\\envs\\env3\\lib\\site-packages\\tensorflow\\python\\framework\\func_graph.py in func_graph_from_py_func(name, python_func, args, kwargs, signature, func_graph, autograph, autograph_options, add_control_dependencies, arg_names, op_return_value, collections, capture_by_value, override_flat_arg_shapes)\n",
    "    984         _, original_func = tf_decorator.unwrap(python_func)\n",
    "    985 \n",
    "--> 986       func_outputs = python_func(*func_args, **func_kwargs)\n",
    "    987 \n",
    "    988       # invariant: `func_outputs` contains only Tensors, CompositeTensors,\n",
    "\n",
    "~\\anaconda3\\envs\\env3\\lib\\site-packages\\tensorflow\\python\\eager\\def_function.py in wrapped_fn(*args, **kwds)\n",
    "    598         # __wrapped__ allows AutoGraph to swap in a converted function. We give\n",
    "    599         # the function a weak reference to itself to avoid a reference cycle.\n",
    "--> 600         return weak_wrapped_fn().__wrapped__(*args, **kwds)\n",
    "    601     weak_wrapped_fn = weakref.ref(wrapped_fn)\n",
    "    602 \n",
    "\n",
    "~\\anaconda3\\envs\\env3\\lib\\site-packages\\tensorflow\\python\\eager\\function.py in bound_method_wrapper(*args, **kwargs)\n",
    "   3733     # However, the replacer is still responsible for attaching self properly.\n",
    "   3734     # TODO(mdan): Is it possible to do it here instead?\n",
    "-> 3735     return wrapped_fn(*args, **kwargs)\n",
    "   3736   weak_bound_method_wrapper = weakref.ref(bound_method_wrapper)\n",
    "   3737 \n",
    "\n",
    "~\\anaconda3\\envs\\env3\\lib\\site-packages\\tensorflow\\python\\framework\\func_graph.py in wrapper(*args, **kwargs)\n",
    "    971           except Exception as e:  # pylint:disable=broad-except\n",
    "    972             if hasattr(e, \"ag_error_metadata\"):\n",
    "--> 973               raise e.ag_error_metadata.to_exception(e)\n",
    "    974             else:\n",
    "    975               raise\n",
    "\n",
    "NotImplementedError: in user code:\n",
    "\n",
    "    C:\\Users\\BHUJAY~1\\AppData\\Local\\Temp/ipykernel_24404/3835535165.py:50 train_step  *\n",
    "        loss, self.delta = criterion_boundary(features_batch,\n",
    "    C:\\Users\\Bhujay_ROG\\anaconda3\\envs\\env3\\lib\\site-packages\\tensorflow\\python\\keras\\engine\\base_layer.py:985 __call__  **\n",
    "        outputs = call_fn(inputs, *args, **kwargs)\n",
    "    C:\\Users\\Bhujay_ROG\\MyDev\\OCLog\\oclog\\boundary_loss.py:34 call  **\n",
    "        logits =  euclidean_metric(features, centroids)\n",
    "    C:\\Users\\Bhujay_ROG\\MyDev\\OCLog\\oclog\\boundary_loss.py:12 euclidean_metric\n",
    "        a = np.expand_dims(a, 1)\n",
    "    <__array_function__ internals>:5 expand_dims\n",
    "        \n",
    "    C:\\Users\\Bhujay_ROG\\anaconda3\\envs\\env3\\lib\\site-packages\\numpy\\lib\\shape_base.py:591 expand_dims\n",
    "        a = asanyarray(a)\n",
    "    C:\\Users\\Bhujay_ROG\\anaconda3\\envs\\env3\\lib\\site-packages\\numpy\\core\\_asarray.py:136 asanyarray\n",
    "        return array(a, dtype, copy=False, order=order, subok=True)\n",
    "    C:\\Users\\Bhujay_ROG\\anaconda3\\envs\\env3\\lib\\site-packages\\tensorflow\\python\\framework\\ops.py:845 __array__\n",
    "        raise NotImplementedError(\n",
    "\n",
    "    NotImplementedError: Cannot convert a symbolic Tensor (log_classifier/log_seq_encoder/dense/Relu:0) to a numpy array. This error may indicate that you're trying to pass a Tensor to a NumPy call, which is not supported"
   ]
  },
  {
   "cell_type": "code",
   "execution_count": null,
   "id": "8f9d5b9e",
   "metadata": {},
   "outputs": [],
   "source": [
    "opt = tf.keras.optimizers.Adam(learning_rate=0.1)\n",
    "var1 = tf.Variable(10.0)\n",
    "loss = lambda: (var1 ** 2)/2.0       # d(loss)/d(var1) == var1\n",
    "step_count = opt.minimize(loss, [var1]).numpy()\n",
    "# The first step is `-learning_rate*sign(grad)`\n",
    "var1.numpy()\n"
   ]
  },
  {
   "cell_type": "code",
   "execution_count": null,
   "id": "cca12f1e",
   "metadata": {},
   "outputs": [],
   "source": []
  }
 ],
 "metadata": {
  "kernelspec": {
   "display_name": "Python 3 (ipykernel)",
   "language": "python",
   "name": "python3"
  },
  "language_info": {
   "codemirror_mode": {
    "name": "ipython",
    "version": 3
   },
   "file_extension": ".py",
   "mimetype": "text/x-python",
   "name": "python",
   "nbconvert_exporter": "python",
   "pygments_lexer": "ipython3",
   "version": "3.8.12"
  }
 },
 "nbformat": 4,
 "nbformat_minor": 5
}
