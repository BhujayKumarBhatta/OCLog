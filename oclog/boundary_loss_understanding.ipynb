{
 "cells": [
  {
   "cell_type": "code",
   "execution_count": 1,
   "id": "799f99a9",
   "metadata": {},
   "outputs": [],
   "source": [
    "from bglog import BGLog, get_embedding_layer\n",
    "import numpy as np\n",
    "import tensorflow as tf\n",
    "tf.random.set_seed(123)"
   ]
  },
  {
   "cell_type": "code",
   "execution_count": 2,
   "id": "70b1904c",
   "metadata": {},
   "outputs": [],
   "source": [
    "bglog = BGLog(save_padded_num_sequences=False, load_from_pkl=True)"
   ]
  },
  {
   "cell_type": "code",
   "execution_count": 3,
   "id": "5bdf6281",
   "metadata": {},
   "outputs": [
    {
     "name": "stdout",
     "output_type": "stream",
     "text": [
      "padded_num_seq_df loaded from data\\bgl_padded_num_seq_df.pkl\n",
      "trained tokenizer, tk, loaded from data\\bgltk.pkl\n",
      "train_0:, 800\n",
      "test_0:, 200\n",
      "train_1:, 800\n",
      "test_1:, 200\n",
      "train_2:, 800\n",
      "test_2:, 200\n",
      "train_3:, 800\n",
      "test_3:, 102\n",
      "4 class does not have 800 records, it has only 628 records\n",
      "test_4:, 0\n",
      "5 class does not have 800 records, it has only 165 records\n",
      "5 class does not have 200 records, it has only 165 records\n",
      "6 class does not have 800 records, it has only 75 records\n",
      "6 class does not have 200 records, it has only 75 records\n",
      "[[1. 0. 0. 0.]\n",
      " [1. 0. 0. 0.]]\n",
      "<BatchDataset shapes: ((32, 32, 64), (32, 4)), types: (tf.int32, tf.float32)>\n",
      "<BatchDataset shapes: ((32, 32, 64), (32, 4)), types: (tf.int32, tf.float32)>\n"
     ]
    }
   ],
   "source": [
    "train_test = bglog.get_tensor_train_test(ablation=1000)\n",
    "train_data, test_data = train_test"
   ]
  },
  {
   "cell_type": "code",
   "execution_count": 4,
   "id": "6441ac80",
   "metadata": {},
   "outputs": [],
   "source": [
    "def model(conv1d_set1 = 3, conv1d_set2 = 3, dense_neurons=2048, filters=64,\n",
    "            kernel_size=3,maxpool_1=True,epochs=25, dense_activation='relu'):\n",
    "    embedding_weights, vocab_size, char_onehot = get_embedding_layer(bglog)\n",
    "    B = train_data.element_spec[0].shape[0]\n",
    "#     inputs = tf.keras.layers.Input(batch_shape=(B, train_data.element_spec[0].shape[1], train_data.element_spec[0].shape[2]), dtype='float64' )\n",
    "    inputs = tf.keras.layers.Input(shape=(train_data.element_spec[0].shape[1], train_data.element_spec[0].shape[2]), dtype='float64' )\n",
    "    x = tf.keras.layers.Embedding(input_dim=vocab_size+1,\n",
    "                                    output_dim=vocab_size,\n",
    "                                    input_length=train_data.element_spec[0].shape[2],\n",
    "                                    weights = [embedding_weights],\n",
    "                                    )(inputs)\n",
    "    for _ in range(conv1d_set1):\n",
    "        x = tf.keras.layers.Conv1D(filters=filters, kernel_size=kernel_size, padding='same')(x)\n",
    "    if maxpool_1:\n",
    "        x = tf.keras.layers.MaxPooling2D(pool_size=(1, train_data.element_spec[0].shape[2]))(x)\n",
    "        x = tf.reshape(x, (B, train_data.element_spec[0].shape[1], filters))        \n",
    "        for _ in range(conv1d_set2):\n",
    "            x = tf.keras.layers.Conv1D(filters=filters, kernel_size=kernel_size, padding='same')(x)\n",
    "        x = tf.keras.layers.MaxPooling1D(pool_size=(train_data.element_spec[0].shape[1]) )(x)\n",
    "        x = tf.reshape(x, (B, filters))\n",
    "    if not maxpool_1:\n",
    "        x = tf.keras.layers.Flatten()(x)\n",
    "    if dense_activation is None:\n",
    "        x = tf.keras.layers.Dense(dense_neurons)(x)\n",
    "    else:\n",
    "        x = tf.keras.layers.Dense(dense_neurons, activation=dense_activation)(x)\n",
    "    outputs = tf.keras.layers.Dense(train_data.element_spec[1].shape[1], activation='softmax')(x)\n",
    "    model = tf.keras.Model(inputs=inputs, outputs=outputs)\n",
    "    print(model.summary())\n",
    "    model.compile(optimizer='adam', \n",
    "                  loss='categorical_crossentropy',\n",
    "              metrics=['accuracy', tf.keras.metrics.Precision(), tf.keras.metrics.Recall()])\n",
    "    hist = model.fit(train_data, validation_data=test_data, epochs=epochs) \n",
    "    return model, hist"
   ]
  },
  {
   "cell_type": "code",
   "execution_count": 5,
   "id": "03090e81",
   "metadata": {},
   "outputs": [],
   "source": [
    "# we  feed  xi  to  a dense layer h to get the log-sequence representation zi∈RD:\n",
    "#     zi= h(xi) =σ(Whxi+bh) ............................(2)\n",
    "# in our case zi can be obtained from the dense layer before the softmax\n",
    "# Lets see how to ger it from the train mode"
   ]
  },
  {
   "cell_type": "code",
   "execution_count": 8,
   "id": "0cc85a70",
   "metadata": {},
   "outputs": [],
   "source": [
    "# we pre-train the model with labeled known intent samples. \n",
    "# In order to better reflect the effectiveness of the learned decision boundary, \n",
    "# we learn the feature representation zi with the simple softmax loss Ls to perform classification:\n",
    "\n",
    "# trained_model, hist = model(epochs=6,)"
   ]
  },
  {
   "cell_type": "code",
   "execution_count": 7,
   "id": "20221e43",
   "metadata": {},
   "outputs": [],
   "source": [
    "# trained_model, hist = model(epochs=6, dense_neurons=64)"
   ]
  },
  {
   "cell_type": "code",
   "execution_count": 8,
   "id": "9e4d8a3b",
   "metadata": {},
   "outputs": [],
   "source": [
    "# Learn the decision boundary of each class constraining the known labels within a ball area\n",
    "# how to get zi and how to know that zi belongs to which yi ?\n",
    "# from there we will have to calculate the Ck , centroid for the class k"
   ]
  },
  {
   "cell_type": "code",
   "execution_count": 6,
   "id": "5896a16f",
   "metadata": {},
   "outputs": [],
   "source": [
    "# trained_model.layers"
   ]
  },
  {
   "cell_type": "code",
   "execution_count": 10,
   "id": "31722bba",
   "metadata": {},
   "outputs": [],
   "source": [
    "# dense_6 = trained_model.get_layer(index=(len(trained_model.layers)-1))\n",
    "# print(dense_6)"
   ]
  },
  {
   "cell_type": "code",
   "execution_count": 11,
   "id": "9b263c13",
   "metadata": {},
   "outputs": [],
   "source": [
    "#This is the log sequence embedding from the last layer\n",
    "# we can treat this as the features from the logs\n",
    "# dense_6.output"
   ]
  },
  {
   "cell_type": "code",
   "execution_count": 12,
   "id": "7d83baa1",
   "metadata": {},
   "outputs": [],
   "source": [
    "# Then, we use the pre-trained model to extract intent features for \n",
    "# learning the decision boundary"
   ]
  },
  {
   "cell_type": "code",
   "execution_count": 12,
   "id": "e97c01fe",
   "metadata": {},
   "outputs": [
    {
     "name": "stdout",
     "output_type": "stream",
     "text": [
      "vocab_size: 50\n",
      "sample_x_train.shape: (32, 32, 64)\n",
      "loglineEmbedding.shape: (32, 32, 64)\n",
      "Model: \"log_line_encoder\"\n",
      "_________________________________________________________________\n",
      "Layer (type)                 Output Shape              Param #   \n",
      "=================================================================\n",
      "embedding_1 (Embedding)      multiple                  2550      \n",
      "_________________________________________________________________\n",
      "conv1d_6 (Conv1D)            multiple                  9664      \n",
      "_________________________________________________________________\n",
      "conv1d_7 (Conv1D)            multiple                  12352     \n",
      "_________________________________________________________________\n",
      "conv1d_8 (Conv1D)            multiple                  12352     \n",
      "_________________________________________________________________\n",
      "max_pooling2d_1 (MaxPooling2 multiple                  0         \n",
      "=================================================================\n",
      "Total params: 36,918\n",
      "Trainable params: 36,918\n",
      "Non-trainable params: 0\n",
      "_________________________________________________________________\n"
     ]
    }
   ],
   "source": [
    "class LogLineEncoder(tf.keras.Model):\n",
    "    def __init__(self, num_of_conv1d=3,  \n",
    "                 filters=64,\n",
    "                 kernel_size=3, ):\n",
    "        super().__init__()            \n",
    "        self.num_of_conv1d = num_of_conv1d       \n",
    "        self.filters = filters\n",
    "        self.kernel_size = kernel_size           \n",
    "        self.embedding_weights, self.vocab_size, self.char_onehot = get_embedding_layer(bglog)       \n",
    "        \n",
    "        self.embedding = tf.keras.layers.Embedding(input_dim=self.vocab_size+1,\n",
    "                                    output_dim=self.vocab_size,\n",
    "                                    input_length=train_data.element_spec[0].shape[2],\n",
    "                                    weights = [self.embedding_weights],\n",
    "                                    )\n",
    "        self.conv1d_layers = [tf.keras.layers.Conv1D(filters=filters, \n",
    "                                                kernel_size=kernel_size, \n",
    "                                                padding='same')  \n",
    "                       for _ in range(self.num_of_conv1d)]\n",
    "        self.maxpool2d = tf.keras.layers.MaxPooling2D(\n",
    "            pool_size=(1, train_data.element_spec[0].shape[2]))\n",
    "                  \n",
    "        \n",
    "    def call(self, inputs):\n",
    "        x = self.embedding(inputs)\n",
    "        for conv1d_layer in self.conv1d_layers:\n",
    "            x = conv1d_layer(x)\n",
    "        x = self.maxpool2d(x)\n",
    "        x = tf.reshape(x, (inputs.shape[0], inputs.shape[1], self.filters))\n",
    "        return x\n",
    "    \n",
    "    \n",
    "\n",
    "# \n",
    "line_encoder =   LogLineEncoder()\n",
    "# the model doesn't have a state unless it is called at least once\n",
    "# in order to initialize the model we need a sample data \n",
    "sample_train_data = next(iter(train_data))\n",
    "sample_x_train = sample_train_data[0]\n",
    "print('sample_x_train.shape:', sample_x_train.shape)\n",
    "# now we will initialize the model with the sample data\n",
    "loglineEmbedding = line_encoder(sample_x_train)\n",
    "print('loglineEmbedding.shape:', loglineEmbedding.shape)\n",
    "# Now the model have a state and can be inspected        \n",
    "line_encoder.summary()"
   ]
  },
  {
   "cell_type": "markdown",
   "id": "b60de267",
   "metadata": {},
   "source": [
    "LOG SEQUENCE EMBEDDING TAKES LOGLINE EMBEDDING AS INPUT"
   ]
  },
  {
   "cell_type": "code",
   "execution_count": 13,
   "id": "c1b2e665",
   "metadata": {},
   "outputs": [
    {
     "name": "stdout",
     "output_type": "stream",
     "text": [
      "logSeqEmbedding.shape: (32, 16)\n",
      "Model: \"log_seq_encoder\"\n",
      "_________________________________________________________________\n",
      "Layer (type)                 Output Shape              Param #   \n",
      "=================================================================\n",
      "conv1d_9 (Conv1D)            multiple                  12352     \n",
      "_________________________________________________________________\n",
      "conv1d_10 (Conv1D)           multiple                  12352     \n",
      "_________________________________________________________________\n",
      "conv1d_11 (Conv1D)           multiple                  12352     \n",
      "_________________________________________________________________\n",
      "max_pooling1d_1 (MaxPooling1 multiple                  0         \n",
      "_________________________________________________________________\n",
      "dense_2 (Dense)              multiple                  1040      \n",
      "=================================================================\n",
      "Total params: 38,096\n",
      "Trainable params: 38,096\n",
      "Non-trainable params: 0\n",
      "_________________________________________________________________\n"
     ]
    }
   ],
   "source": [
    "class LogSeqEncoder(tf.keras.Model):\n",
    "    \n",
    "    def __init__(self, num_of_conv1d=3,  filters=64,\n",
    "                 kernel_size=3, maxpool_1=True,\n",
    "                 dense_neurons=16, dense_activation='relu',):\n",
    "        super().__init__()\n",
    "        self.num_of_conv1d = num_of_conv1d\n",
    "        self.dense_neurons = dense_neurons\n",
    "        self.filters = filters\n",
    "        self.kernel_size = kernel_size\n",
    "        self.maxpool_1 = maxpool_1\n",
    "        self.dense_activation = dense_activation\n",
    "        self.conv1d_layers = [tf.keras.layers.Conv1D(filters=filters, \n",
    "                                                kernel_size=kernel_size, \n",
    "                                                padding='same')  \n",
    "                       for _ in range(self.num_of_conv1d)]\n",
    "        self.maxpool1d = tf.keras.layers.MaxPooling1D(pool_size=(train_data.element_spec[0].shape[1]) )\n",
    "        \n",
    "        self.Dense = tf.keras.layers.Dense(self.dense_neurons, \n",
    "                                           activation=self.dense_activation)\n",
    "       \n",
    "        \n",
    "    def call(self, inputs):       \n",
    "        for conv1d_layer in self.conv1d_layers:\n",
    "            x = conv1d_layer(inputs)\n",
    "        x = self.maxpool1d(x)        \n",
    "        x = tf.reshape(x, (inputs.shape[0], self.filters))\n",
    "        x = self.Dense(x)\n",
    "        return x\n",
    "    \n",
    "    \n",
    "\n",
    "logSeqencer =   LogSeqEncoder()\n",
    "# the model doesn't have a state unless it is called at least once\n",
    "logSeqEmbedding = logSeqencer(loglineEmbedding)\n",
    "print('logSeqEmbedding.shape:', logSeqEmbedding.shape)\n",
    "# Now the model have a state and can be inspected        \n",
    "logSeqencer.summary()"
   ]
  },
  {
   "cell_type": "code",
   "execution_count": 15,
   "id": "39b1533c",
   "metadata": {},
   "outputs": [],
   "source": [
    "# sample_x_train"
   ]
  },
  {
   "cell_type": "code",
   "execution_count": 14,
   "id": "abd914d0",
   "metadata": {},
   "outputs": [
    {
     "name": "stdout",
     "output_type": "stream",
     "text": [
      "vocab_size: 50\n"
     ]
    },
    {
     "data": {
      "text/plain": [
       "<tf.Tensor: shape=(32, 4), dtype=float32, numpy=\n",
       "array([[0.33716607, 0.24919626, 0.05442087, 0.35921675],\n",
       "       [0.2766537 , 0.29489642, 0.08262176, 0.34582812],\n",
       "       [0.3199095 , 0.25782165, 0.05833273, 0.36393607],\n",
       "       [0.28731778, 0.28267062, 0.07286509, 0.35714644],\n",
       "       [0.3355232 , 0.24599618, 0.0549023 , 0.36357826],\n",
       "       [0.31767663, 0.2631231 , 0.07114722, 0.34805304],\n",
       "       [0.31268576, 0.2628748 , 0.08044287, 0.3439965 ],\n",
       "       [0.32523376, 0.26528654, 0.06874856, 0.3407311 ],\n",
       "       [0.32288972, 0.25911242, 0.06923639, 0.34876144],\n",
       "       [0.30879265, 0.2646237 , 0.06299507, 0.36358863],\n",
       "       [0.3413578 , 0.25154853, 0.06545333, 0.34164026],\n",
       "       [0.33662525, 0.26084292, 0.06374656, 0.33878526],\n",
       "       [0.3221508 , 0.2550465 , 0.05469545, 0.36810726],\n",
       "       [0.30857155, 0.27156097, 0.06484332, 0.35502425],\n",
       "       [0.30648598, 0.27784422, 0.08734404, 0.32832575],\n",
       "       [0.30743182, 0.25875893, 0.09034371, 0.34346563],\n",
       "       [0.32990924, 0.25099352, 0.06788948, 0.3512078 ],\n",
       "       [0.32924804, 0.2547691 , 0.06924473, 0.34673813],\n",
       "       [0.30178955, 0.2711131 , 0.06461635, 0.36248097],\n",
       "       [0.29833138, 0.27422357, 0.06663013, 0.3608149 ],\n",
       "       [0.3405719 , 0.24284215, 0.06629531, 0.35029063],\n",
       "       [0.3052972 , 0.28324383, 0.06717753, 0.34428146],\n",
       "       [0.3278849 , 0.25925228, 0.05874489, 0.35411796],\n",
       "       [0.29601848, 0.28837162, 0.06648075, 0.34912917],\n",
       "       [0.31257042, 0.2553845 , 0.05847927, 0.37356582],\n",
       "       [0.28226915, 0.2891281 , 0.07777119, 0.35083154],\n",
       "       [0.31978577, 0.25564104, 0.07070187, 0.35387135],\n",
       "       [0.31115502, 0.26075006, 0.06468017, 0.3634147 ],\n",
       "       [0.29432878, 0.27543297, 0.06571831, 0.36451992],\n",
       "       [0.30648598, 0.27784422, 0.08734404, 0.32832575],\n",
       "       [0.30626255, 0.2866199 , 0.07096674, 0.33615083],\n",
       "       [0.29513922, 0.29603502, 0.0738233 , 0.33500254]], dtype=float32)>"
      ]
     },
     "execution_count": 14,
     "metadata": {},
     "output_type": "execute_result"
    }
   ],
   "source": [
    "class LogClassifier(tf.keras.Model):\n",
    "    \n",
    "    def __init__(self,  **kwargs):\n",
    "        super().__init__(**kwargs)\n",
    "        self.log_line_encoder = LogLineEncoder()\n",
    "        self.log_seq_encoder = LogSeqEncoder()\n",
    "        self.classifier = tf.keras.layers.Dense(\n",
    "            train_data.element_spec[1].shape[1], activation='softmax')\n",
    "#         self.extract_feature = extract_feature\n",
    "    \n",
    "    def call(self, inputs, extract_feature=False,):\n",
    "#         x_data, y_data = inputs\n",
    "        x = self.log_line_encoder(inputs)\n",
    "        seq_embedding = self.log_seq_encoder(x)\n",
    "        \n",
    "        if  extract_feature:\n",
    "            output = seq_embedding\n",
    "        else:\n",
    "            output = self.classifier(seq_embedding)\n",
    "        return output\n",
    "    \n",
    "log_classifier = LogClassifier()\n",
    "log_classifier(sample_x_train)        "
   ]
  },
  {
   "cell_type": "code",
   "execution_count": 17,
   "id": "97a64f50",
   "metadata": {},
   "outputs": [],
   "source": [
    "# the classifier assigned low probability to all the classes since it is untrained\n",
    "# TODO: the mode should accept a single sequence. At present it is accepting only a batch"
   ]
  },
  {
   "cell_type": "code",
   "execution_count": 15,
   "id": "44a67837",
   "metadata": {},
   "outputs": [
    {
     "name": "stdout",
     "output_type": "stream",
     "text": [
      "Model: \"log_classifier\"\n",
      "_________________________________________________________________\n",
      "Layer (type)                 Output Shape              Param #   \n",
      "=================================================================\n",
      "log_line_encoder_1 (LogLineE multiple                  36918     \n",
      "_________________________________________________________________\n",
      "log_seq_encoder_1 (LogSeqEnc multiple                  38096     \n",
      "_________________________________________________________________\n",
      "dense_4 (Dense)              multiple                  68        \n",
      "=================================================================\n",
      "Total params: 75,082\n",
      "Trainable params: 75,082\n",
      "Non-trainable params: 0\n",
      "_________________________________________________________________\n"
     ]
    }
   ],
   "source": [
    "log_classifier.summary()"
   ]
  },
  {
   "cell_type": "code",
   "execution_count": 16,
   "id": "9ffe9550",
   "metadata": {},
   "outputs": [
    {
     "name": "stdout",
     "output_type": "stream",
     "text": [
      "WARNING:tensorflow:AutoGraph could not transform <bound method LogLineEncoder.call of <__main__.LogLineEncoder object at 0x000001DD7F8B0700>> and will run it as-is.\n",
      "Please report this to the TensorFlow team. When filing the bug, set the verbosity to 10 (on Linux, `export AUTOGRAPH_VERBOSITY=10`) and attach the full output.\n",
      "Cause: module 'gast' has no attribute 'Index'\n",
      "To silence this warning, decorate the function with @tf.autograph.experimental.do_not_convert\n",
      "WARNING: AutoGraph could not transform <bound method LogLineEncoder.call of <__main__.LogLineEncoder object at 0x000001DD7F8B0700>> and will run it as-is.\n",
      "Please report this to the TensorFlow team. When filing the bug, set the verbosity to 10 (on Linux, `export AUTOGRAPH_VERBOSITY=10`) and attach the full output.\n",
      "Cause: module 'gast' has no attribute 'Index'\n",
      "To silence this warning, decorate the function with @tf.autograph.experimental.do_not_convert\n",
      "WARNING:tensorflow:AutoGraph could not transform <bound method LogSeqEncoder.call of <__main__.LogSeqEncoder object at 0x000001DD4BA1B610>> and will run it as-is.\n",
      "Please report this to the TensorFlow team. When filing the bug, set the verbosity to 10 (on Linux, `export AUTOGRAPH_VERBOSITY=10`) and attach the full output.\n",
      "Cause: module 'gast' has no attribute 'Index'\n",
      "To silence this warning, decorate the function with @tf.autograph.experimental.do_not_convert\n",
      "WARNING: AutoGraph could not transform <bound method LogSeqEncoder.call of <__main__.LogSeqEncoder object at 0x000001DD4BA1B610>> and will run it as-is.\n",
      "Please report this to the TensorFlow team. When filing the bug, set the verbosity to 10 (on Linux, `export AUTOGRAPH_VERBOSITY=10`) and attach the full output.\n",
      "Cause: module 'gast' has no attribute 'Index'\n",
      "To silence this warning, decorate the function with @tf.autograph.experimental.do_not_convert\n",
      "WARNING:tensorflow:Gradients do not exist for variables ['log_classifier/log_seq_encoder_1/conv1d_15/kernel:0', 'log_classifier/log_seq_encoder_1/conv1d_15/bias:0', 'log_classifier/log_seq_encoder_1/conv1d_16/kernel:0', 'log_classifier/log_seq_encoder_1/conv1d_16/bias:0'] when minimizing the loss.\n",
      "WARNING:tensorflow:Gradients do not exist for variables ['log_classifier/log_seq_encoder_1/conv1d_15/kernel:0', 'log_classifier/log_seq_encoder_1/conv1d_15/bias:0', 'log_classifier/log_seq_encoder_1/conv1d_16/kernel:0', 'log_classifier/log_seq_encoder_1/conv1d_16/bias:0'] when minimizing the loss.\n",
      "WARNING:tensorflow:Gradients do not exist for variables ['log_classifier/log_seq_encoder_1/conv1d_15/kernel:0', 'log_classifier/log_seq_encoder_1/conv1d_15/bias:0', 'log_classifier/log_seq_encoder_1/conv1d_16/kernel:0', 'log_classifier/log_seq_encoder_1/conv1d_16/bias:0'] when minimizing the loss.\n",
      "WARNING:tensorflow:Gradients do not exist for variables ['log_classifier/log_seq_encoder_1/conv1d_15/kernel:0', 'log_classifier/log_seq_encoder_1/conv1d_15/bias:0', 'log_classifier/log_seq_encoder_1/conv1d_16/kernel:0', 'log_classifier/log_seq_encoder_1/conv1d_16/bias:0'] when minimizing the loss.\n",
      "100/100 [==============================] - 9s 89ms/step - loss: 0.4524 - accuracy: 0.8037 - precision_1: 0.9761 - recall_1: 0.7019 - val_loss: 0.0175 - val_accuracy: 0.9970 - val_precision_1: 0.9970 - val_recall_1: 0.9955\n"
     ]
    }
   ],
   "source": [
    "# This is to check that the model's built in  complile and fit is working well\n",
    "log_classifier.compile(optimizer='adam', \n",
    "                  loss='categorical_crossentropy',\n",
    "              metrics=['accuracy', tf.keras.metrics.Precision(), tf.keras.metrics.Recall()])\n",
    "hist = log_classifier.fit(train_data, validation_data=test_data, epochs=1) "
   ]
  },
  {
   "cell_type": "code",
   "execution_count": 17,
   "id": "dc37ef20",
   "metadata": {},
   "outputs": [
    {
     "data": {
      "text/plain": [
       "<tf.Tensor: shape=(32, 4), dtype=float32, numpy=\n",
       "array([[9.66351145e-05, 7.65195466e-04, 1.66367379e-03, 9.97474492e-01],\n",
       "       [9.95750427e-01, 1.40356628e-04, 1.36533954e-05, 4.09561070e-03],\n",
       "       [4.77931986e-04, 1.08113000e-02, 6.67734802e-01, 3.20975959e-01],\n",
       "       [2.47823641e-06, 2.55597918e-03, 9.96359289e-01, 1.08222221e-03],\n",
       "       [5.38666609e-05, 7.22623023e-04, 1.18066545e-03, 9.98042822e-01],\n",
       "       [9.97909129e-01, 3.12602438e-04, 7.11705434e-06, 1.77105644e-03],\n",
       "       [9.97776687e-01, 3.22203268e-04, 7.48476623e-06, 1.89362431e-03],\n",
       "       [9.97942388e-01, 3.10492615e-04, 6.96395318e-06, 1.74007216e-03],\n",
       "       [2.20142087e-04, 9.93577302e-01, 3.21398443e-03, 2.98853219e-03],\n",
       "       [5.19183013e-05, 4.60706447e-04, 4.09301720e-04, 9.99078035e-01],\n",
       "       [4.43612407e-05, 9.89452481e-01, 4.11756523e-03, 6.38550986e-03],\n",
       "       [2.59489661e-05, 8.04625452e-03, 9.89914417e-01, 2.01345026e-03],\n",
       "       [3.01148463e-03, 8.14558007e-03, 1.03721686e-01, 8.85121226e-01],\n",
       "       [2.67906085e-04, 1.52621721e-03, 7.31982989e-03, 9.90885973e-01],\n",
       "       [3.70503149e-05, 1.70133710e-02, 9.80574071e-01, 2.37551960e-03],\n",
       "       [2.19454164e-12, 9.95162308e-01, 4.75403946e-03, 8.36613908e-05],\n",
       "       [1.49828556e-04, 9.94447947e-01, 3.01104924e-03, 2.39108549e-03],\n",
       "       [1.95423258e-04, 9.93973434e-01, 3.06964223e-03, 2.76154536e-03],\n",
       "       [4.24799437e-05, 5.42903319e-04, 5.98200073e-04, 9.98816490e-01],\n",
       "       [3.99742385e-05, 4.86460223e-04, 5.82023698e-04, 9.98891532e-01],\n",
       "       [3.12743614e-05, 6.13751775e-03, 9.78454769e-01, 1.53764766e-02],\n",
       "       [1.92734096e-05, 6.39378699e-03, 9.92537558e-01, 1.04942231e-03],\n",
       "       [4.73477092e-04, 1.24762421e-02, 4.84255433e-01, 5.02794862e-01],\n",
       "       [2.72681564e-03, 4.91087837e-03, 1.28444647e-02, 9.79517817e-01],\n",
       "       [6.65574116e-05, 1.16446696e-03, 3.25599499e-03, 9.95512903e-01],\n",
       "       [3.31135851e-07, 9.69025433e-01, 2.42815409e-02, 6.69274060e-03],\n",
       "       [1.93449800e-04, 9.93792593e-01, 3.29605816e-03, 2.71786866e-03],\n",
       "       [8.37952085e-03, 7.82950874e-03, 8.38997290e-02, 8.99891257e-01],\n",
       "       [5.17690069e-06, 2.59663421e-03, 9.95403171e-01, 1.99499400e-03],\n",
       "       [3.70503149e-05, 1.70133710e-02, 9.80574071e-01, 2.37551960e-03],\n",
       "       [9.97900963e-01, 3.10931136e-05, 4.47981529e-06, 2.06340943e-03],\n",
       "       [9.97603476e-01, 4.07267544e-05, 5.27301472e-06, 2.35069497e-03]],\n",
       "      dtype=float32)>"
      ]
     },
     "execution_count": 17,
     "metadata": {},
     "output_type": "execute_result"
    }
   ],
   "source": [
    "# now after the training the predeicitoin will show higher probability to the \n",
    "# a class and lesser probability to other classes\n",
    "log_classifier(sample_x_train)      "
   ]
  },
  {
   "cell_type": "code",
   "execution_count": 18,
   "id": "ed9402d4",
   "metadata": {},
   "outputs": [
    {
     "name": "stdout",
     "output_type": "stream",
     "text": [
      "features.shape: (32, 16)\n"
     ]
    },
    {
     "data": {
      "text/plain": [
       "<tf.Tensor: shape=(3, 16), dtype=float32, numpy=\n",
       "array([[ 1.9089504 ,  0.        ,  0.        ,  0.        , 16.485287  ,\n",
       "         1.401845  ,  0.        ,  0.5729957 ,  3.2841873 ,  5.3220925 ,\n",
       "         0.        ,  0.        ,  0.        ,  0.        , 11.831296  ,\n",
       "         0.        ],\n",
       "       [ 3.7322652 ,  0.        ,  1.0973142 ,  0.        ,  7.661072  ,\n",
       "         0.        ,  2.5758548 ,  0.5659268 ,  4.8668857 ,  1.4417913 ,\n",
       "         0.        ,  4.580169  ,  0.        ,  0.        , 15.364222  ,\n",
       "         0.        ],\n",
       "       [ 0.28400064,  0.        ,  0.        ,  0.        , 15.390482  ,\n",
       "         3.2594252 ,  1.3286173 ,  0.        ,  0.7812477 ,  3.0938601 ,\n",
       "         0.        ,  0.        ,  0.        ,  0.        , 13.000235  ,\n",
       "         0.        ]], dtype=float32)>"
      ]
     },
     "execution_count": 18,
     "metadata": {},
     "output_type": "execute_result"
    }
   ],
   "source": [
    "features = log_classifier(sample_x_train, extract_feature=True ) \n",
    "print('features.shape:', features.shape)\n",
    "features[:3]"
   ]
  },
  {
   "cell_type": "code",
   "execution_count": 19,
   "id": "7e854612",
   "metadata": {},
   "outputs": [
    {
     "data": {
      "text/plain": [
       "array([[0., 0.],\n",
       "       [0., 0.]])"
      ]
     },
     "execution_count": 19,
     "metadata": {},
     "output_type": "execute_result"
    }
   ],
   "source": [
    "np.zeros((2, 2))"
   ]
  },
  {
   "cell_type": "code",
   "execution_count": 20,
   "id": "9e96a0c2",
   "metadata": {},
   "outputs": [
    {
     "name": "stdout",
     "output_type": "stream",
     "text": [
      "tf.Tensor(\n",
      "[[[18  2  4 ...  0  0  0]\n",
      "  [18  2  4 ...  0  0  0]\n",
      "  [18  2  4 ...  0  0  0]\n",
      "  ...\n",
      "  [18  2  4 ...  0  0  0]\n",
      "  [18  2  4 ...  0  0  0]\n",
      "  [18  2  4 ...  0  0  0]]\n",
      "\n",
      " [[10  5 14 ... 23  2 26]\n",
      "  [10  5 14 ...  2 14 19]\n",
      "  [10  5 14 ...  2  2 11]\n",
      "  ...\n",
      "  [19 22 17 ...  8  4 14]\n",
      "  [12  3  6 ... 12  6 18]\n",
      "  [ 4 19 22 ...  9  0  0]]\n",
      "\n",
      " [[13  6 20 ... 11 11 11]\n",
      "  [13  6 20 ... 11 11 11]\n",
      "  [13  6 20 ... 11 11 11]\n",
      "  ...\n",
      "  [ 7 17  8 ... 11 11 11]\n",
      "  [13  6 20 ... 11 11 11]\n",
      "  [13  6 20 ... 11 11 11]]\n",
      "\n",
      " ...\n",
      "\n",
      " [[13 13 13 ... 11 11 25]\n",
      "  [13 13 13 ... 11 11 25]\n",
      "  [13 13 13 ... 11 11 25]\n",
      "  ...\n",
      "  [13 13 22 ... 11 11 25]\n",
      "  [13 13 22 ... 11 11 25]\n",
      "  [13 22 31 ... 11 11 25]]\n",
      "\n",
      " [[12  3  6 ... 12  6 18]\n",
      "  [27 19 17 ...  8  4 14]\n",
      "  [12  3  6 ... 12  6 18]\n",
      "  ...\n",
      "  [ 4 25 22 ...  9  0  0]\n",
      "  [ 4 25 22 ...  9  0  0]\n",
      "  [ 4 25 22 ...  9  0  0]]\n",
      "\n",
      " [[18  2  4 ...  0  0  0]\n",
      "  [18  2  4 ...  0  0  0]\n",
      "  [18  2  4 ...  0  0  0]\n",
      "  ...\n",
      "  [18  2  4 ...  0  0  0]\n",
      "  [18  2  4 ...  0  0  0]\n",
      "  [18  2  4 ...  0  0  0]]], shape=(32, 32, 64), dtype=int32)\n",
      "tf.Tensor(\n",
      "[[1. 0. 0. 0.]\n",
      " [0. 0. 0. 1.]\n",
      " [0. 0. 1. 0.]\n",
      " [0. 1. 0. 0.]\n",
      " [1. 0. 0. 0.]\n",
      " [0. 1. 0. 0.]\n",
      " [1. 0. 0. 0.]\n",
      " [0. 0. 1. 0.]\n",
      " [0. 1. 0. 0.]\n",
      " [1. 0. 0. 0.]\n",
      " [0. 1. 0. 0.]\n",
      " [0. 0. 1. 0.]\n",
      " [1. 0. 0. 0.]\n",
      " [0. 1. 0. 0.]\n",
      " [1. 0. 0. 0.]\n",
      " [1. 0. 0. 0.]\n",
      " [1. 0. 0. 0.]\n",
      " [0. 1. 0. 0.]\n",
      " [0. 0. 1. 0.]\n",
      " [0. 0. 1. 0.]\n",
      " [0. 0. 0. 1.]\n",
      " [1. 0. 0. 0.]\n",
      " [0. 0. 0. 1.]\n",
      " [0. 0. 0. 1.]\n",
      " [1. 0. 0. 0.]\n",
      " [0. 1. 0. 0.]\n",
      " [0. 1. 0. 0.]\n",
      " [0. 0. 0. 1.]\n",
      " [1. 0. 0. 0.]\n",
      " [0. 0. 0. 1.]\n",
      " [0. 0. 0. 1.]\n",
      " [0. 1. 0. 0.]], shape=(32, 4), dtype=float32)\n"
     ]
    }
   ],
   "source": [
    "for batch in train_data:\n",
    "    x_train, y_train = batch\n",
    "    print(x_train)\n",
    "    print(y_train)\n",
    "    break"
   ]
  },
  {
   "cell_type": "code",
   "execution_count": 21,
   "id": "c1512775",
   "metadata": {},
   "outputs": [
    {
     "name": "stdout",
     "output_type": "stream",
     "text": [
      "centriods initialized: [[0. 0. 0. 0. 0. 0. 0. 0. 0. 0. 0. 0. 0. 0. 0. 0.]\n",
      " [0. 0. 0. 0. 0. 0. 0. 0. 0. 0. 0. 0. 0. 0. 0. 0.]\n",
      " [0. 0. 0. 0. 0. 0. 0. 0. 0. 0. 0. 0. 0. 0. 0. 0.]\n",
      " [0. 0. 0. 0. 0. 0. 0. 0. 0. 0. 0. 0. 0. 0. 0. 0.]]\n",
      "total_labels initialized: [0. 0. 0. 0.]\n",
      "centroids: [[4.36867584e+00 0.00000000e+00 1.49958603e+00 0.00000000e+00\n",
      "  7.73302673e+00 8.73040199e-03 3.24169861e+00 8.64841537e-01\n",
      "  4.71216797e+00 1.55114075e+00 0.00000000e+00 5.48450867e+00\n",
      "  0.00000000e+00 0.00000000e+00 1.59659253e+01 0.00000000e+00]\n",
      " [1.51976456e+00 0.00000000e+00 5.45572205e+00 0.00000000e+00\n",
      "  1.21205481e+01 2.54362701e+00 7.52497864e+00 3.48013092e+00\n",
      "  2.38178558e+00 4.23300873e+00 0.00000000e+00 4.49523010e+00\n",
      "  0.00000000e+00 0.00000000e+00 1.11317432e+01 0.00000000e+00]\n",
      " [5.36162710e-02 0.00000000e+00 4.23543930e-02 1.88338216e-04\n",
      "  1.38310803e+01 3.65831970e+00 4.67911285e+00 2.11007148e-03\n",
      "  1.42525558e-01 1.79507309e+00 0.00000000e+00 7.71791339e-03\n",
      "  0.00000000e+00 0.00000000e+00 1.24588135e+01 0.00000000e+00]\n",
      " [1.61560287e+00 0.00000000e+00 1.32249947e-01 0.00000000e+00\n",
      "  1.52904382e+01 1.29996536e+00 3.24553642e-01 8.34430923e-01\n",
      "  2.84516449e+00 4.98930176e+00 0.00000000e+00 1.68677635e-01\n",
      "  0.00000000e+00 0.00000000e+00 1.14310950e+01 0.00000000e+00]]\n",
      "total_labels: [[800.]\n",
      " [800.]\n",
      " [800.]\n",
      " [800.]]\n"
     ]
    }
   ],
   "source": [
    "centroids = np.zeros((train_data.element_spec[1].shape[1],   16))\n",
    "print('centriods initialized:', centroids)\n",
    "total_labels = np.zeros(train_data.element_spec[1].shape[1]) # it was 4\n",
    "# total_labels[2] += 1\n",
    "# total_labels[2] += 1\n",
    "print('total_labels initialized:', total_labels)\n",
    "for batch in train_data: # Remember <BatchDataset shapes: ((32, 32, 64), (32, 4)), types: (tf.int32, tf.float32)>\n",
    "    logseq_batch, label_batch = batch\n",
    "    # (32, 32, 64), (32, 4)\n",
    "    features = log_classifier(logseq_batch, extract_feature=True )\n",
    "    # (32, 16) features - 32 sequence of line each haaving 64 characrers\n",
    "    # produces a feaure vector of dimension 16. \n",
    "    for i in range(len(label_batch)): # (32, 4) --> here length is 32\n",
    "        label = label_batch[i] # label looks like [0 0 0 1]\n",
    "        numeric_label = np.argmax(label) # index position of the label = 3 , so it is actually class =3\n",
    "        ##total_labels = [0 0 0 0] each col representing a class \n",
    "        ## count the number for each class\n",
    "        total_labels[numeric_label] += 1 \n",
    "        centroids[numeric_label] += features[i] \n",
    "        # each row index in the centroid array is a class\n",
    "        # we add first identify the feature belonging to which class by the numeric_label\n",
    "        # Then add all the features belonging to the class in the corresponding row of the centroid array\n",
    "\n",
    "### shape of centroids is (4, 16) whereas shape of total_labels is (1, 4)\n",
    "### reshape the total_labels as 4,1 ==> [[0], [0], [0], [0]]==> 4 rows \n",
    "## so that we can divide the centroids array by the total_labels\n",
    "total_label_reshaped = np.reshape(total_labels, (train_data.element_spec[1].shape[1], 1))\n",
    "centroids /= total_label_reshaped\n",
    "print('centroids:',centroids)\n",
    "print('total_labels:',total_label_reshaped)"
   ]
  },
  {
   "cell_type": "code",
   "execution_count": 22,
   "id": "75e55100",
   "metadata": {},
   "outputs": [
    {
     "name": "stdout",
     "output_type": "stream",
     "text": [
      "n2 is 3 rows and each row has a vector of 4 cols:\n",
      " [[ 0  1  2  3]\n",
      " [ 4  5  6  7]\n",
      " [ 8  9 10 11]]\n",
      "n3, is one single row:\n",
      "  [2 2 2]\n",
      "one single row is now converted to three rows, n4:\n",
      " [[2]\n",
      " [2]\n",
      " [2]]\n",
      "now division between n2: (3, 4) and n4: (3, 1) is possible\n"
     ]
    },
    {
     "data": {
      "text/plain": [
       "array([[0. , 0.5, 1. , 1.5],\n",
       "       [2. , 2.5, 3. , 3.5],\n",
       "       [4. , 4.5, 5. , 5.5]])"
      ]
     },
     "execution_count": 22,
     "metadata": {},
     "output_type": "execute_result"
    }
   ],
   "source": [
    "# to understand the np divide operation\n",
    "n1 = np.arange(12)\n",
    "n2 = n1.reshape((3, 4))\n",
    "print('n2 is 3 rows and each row has a vector of 4 cols:\\n', n2)\n",
    "n3 = np.array([2, 2, 2])\n",
    "print('n3, is one single row:\\n ', n3)\n",
    "n4 = np.reshape(n3, (3, 1))\n",
    "print('one single row is now converted to three rows, n4:\\n', n4)\n",
    "print(f'now division between n2: {n2.shape} and n4: {n4.shape} is possible')\n",
    "n2/n4"
   ]
  },
  {
   "cell_type": "code",
   "execution_count": 23,
   "id": "340a0431",
   "metadata": {},
   "outputs": [
    {
     "name": "stdout",
     "output_type": "stream",
     "text": [
      "sample_x_train[0] tf.Tensor(\n",
      "[[ 4 30 25 ...  9  0  0]\n",
      " [30 25 17 ...  8  4 14]\n",
      " [12  3  6 ... 12  6 18]\n",
      " ...\n",
      " [30 25 17 ...  8  4 14]\n",
      " [12  3  6 ... 12  6 18]\n",
      " [ 4 30 25 ...  9  0  0]], shape=(32, 64), dtype=int32)\n",
      "sample_y_train[0] tf.Tensor([0. 0. 0. 1.], shape=(4,), dtype=float32)\n",
      "feature for the same: tf.Tensor(\n",
      "[ 2.4612103  0.         5.0018992  0.        10.821334   2.3988593\n",
      "  7.61987    2.8431468  3.0025308  3.2754917  0.         7.239499\n",
      "  0.         0.        13.771821   0.       ], shape=(16,), dtype=float32)\n",
      "centroid for the class 3 : [ 1.61560287  0.          0.13224995  0.         15.29043823  1.29996536\n",
      "  0.32455364  0.83443092  2.84516449  4.98930176  0.          0.16867764\n",
      "  0.          0.         11.43109497  0.        ]\n"
     ]
    }
   ],
   "source": [
    "#take zi and a ck \n",
    "# from sample_x_train the first sample belongs to class 3\n",
    "print('sample_x_train[0]', sample_x_train[0])\n",
    "sample_y_train = sample_train_data[1]\n",
    "print('sample_y_train[0]', sample_y_train[0])\n",
    "print('feature for the same:', features[0])\n",
    "print('centroid for the class 3 :', centroids[3])"
   ]
  },
  {
   "cell_type": "code",
   "execution_count": 24,
   "id": "7138990e",
   "metadata": {},
   "outputs": [
    {
     "name": "stdout",
     "output_type": "stream",
     "text": [
      "eucladian distance: 161.30301\n"
     ]
    }
   ],
   "source": [
    "# eucladian distance \n",
    "#first sample belonging to class 3 = z_0_3, dimension of it is same as the dense neuron=16\n",
    "z_0_3= features[0] # [16], earlier [2048]\n",
    "C_3 = centroids[3] # [16], earlier [2048]\n",
    "ED = np.sum(np.square(z_0_3 - C_3 ))\n",
    "print('eucladian distance:', ED)\n",
    "# InvalidArgumentError: Incompatible shapes: [32,64] vs. [2048] [Op:Sub]"
   ]
  },
  {
   "cell_type": "code",
   "execution_count": 25,
   "id": "ac4dfd76",
   "metadata": {},
   "outputs": [
    {
     "name": "stdout",
     "output_type": "stream",
     "text": [
      "one feature with dimension 5 , f1:\n",
      " [20 21 22 23 24]\n",
      "centroid, ctd with 4 class :\n",
      " [[ 0  1  2  3  4]\n",
      " [ 5  6  7  8  9]\n",
      " [10 11 12 13 14]\n",
      " [15 16 17 18 19]]\n",
      "\n",
      "sub_result, for each feature we have 4 rows after substraction:\n",
      " [[20 20 20 20 20]\n",
      " [15 15 15 15 15]\n",
      " [10 10 10 10 10]\n",
      " [ 5  5  5  5  5]]\n",
      "the 4 rows of the result are the distance of the feature from the centroid of each class\n",
      "distance of f1 from centroid of class_0: [20 20 20 20 20]\n",
      "distance of f1 from centroid of class_1: [15 15 15 15 15]\n",
      "distance of f1 from centroid of class_2: [10 10 10 10 10]\n",
      "distance of f1 from centroid of class_3: [5 5 5 5 5]\n"
     ]
    }
   ],
   "source": [
    "# lets f1 is one feature from a batch of 32\n",
    "# instead of 16, lets say the dimension of f1 is 5\n",
    "f1 = np.arange(20, 25)\n",
    "# a1 = np.reshape(a1, (4, 3) )\n",
    "print('one feature with dimension 5 , f1:\\n', f1)\n",
    "### lets say ctd is the centroids with 4 class , each row is a class \n",
    "ctd = np.arange(20)\n",
    "ctd = np.reshape(ctd, (4, 5))\n",
    "print('centroid, ctd with 4 class :\\n', ctd)\n",
    "sub_result = f1 - ctd\n",
    "print()\n",
    "print('sub_result, for each feature we have 4 rows after substraction:\\n', sub_result)\n",
    "print('the 4 rows of the result are the distance of the feature from the centroid of each class')\n",
    "for i, row in enumerate(sub_result):\n",
    "    print(f'distance of f1 from centroid of class_{i}: {row}')"
   ]
  },
  {
   "cell_type": "code",
   "execution_count": 26,
   "id": "23ef053a",
   "metadata": {},
   "outputs": [
    {
     "name": "stdout",
     "output_type": "stream",
     "text": [
      "squared_substraction:\n",
      " [[400 400 400 400 400]\n",
      " [225 225 225 225 225]\n",
      " [100 100 100 100 100]\n",
      " [ 25  25  25  25  25]]\n",
      "sum_squared_substraction:\n",
      " [2000 1125  500  125]\n"
     ]
    }
   ],
   "source": [
    "# to get the eucladian distance, calculate squared substraction\n",
    "squared_substraction = np.square(sub_result)\n",
    "print('squared_substraction:\\n', squared_substraction)\n",
    "#### eucladian distance of f1 from each class represented by a vector of 5 dimension\n",
    "### those 5 values from the vector is summed up tp get a scalar value \n",
    "sum_squared_substraction = np.sum(np.square(sub_result), axis=1)\n",
    "print('sum_squared_substraction:\\n', sum_squared_substraction )"
   ]
  },
  {
   "cell_type": "code",
   "execution_count": 27,
   "id": "0f6701c2",
   "metadata": {},
   "outputs": [
    {
     "name": "stdout",
     "output_type": "stream",
     "text": [
      "features.shape (32, 16)\n",
      "centroids.shape (4, 16)\n",
      "np.expand_dims(features, axis=1) : (32, 1, 16)\n",
      "np.expand_dims(centroids, axis=0): (1, 4, 16)\n",
      "sub_z_C , for each feature 4 results: (32, 4, 16)\n",
      "squred_sum (32, 4)\n",
      "Eucaldian distance of first feature from the 4 classes:\n",
      " [ 68.02738834  19.01913043 122.15186871 161.30300406]\n"
     ]
    }
   ],
   "source": [
    "### the abobe example is for a single feature , how to do this for all the features\n",
    "# can we substract centroids array from the entire feature array? \n",
    "# we can not substract different shaped arrays , see the error\n",
    "print('features.shape', features.shape) # ## features.shape (32, 16)\n",
    "print('centroids.shape', centroids.shape)  ##centroids.shape (4, 16)\n",
    "# features - centroids # InvalidArgumentError: Incompatible shapes: [32,16] vs. [4,16] [Op:Sub]\n",
    "#### substraction is elementwise substraction. so we both the array have to equal shape\n",
    "z = np.expand_dims(features, axis=1) ## (32, 1, 16)\n",
    "C =  np.expand_dims(centroids, axis=0) ### (1, 4, 16)\n",
    "print('np.expand_dims(features, axis=1) :', z.shape)\n",
    "print('np.expand_dims(centroids, axis=0):', C.shape)\n",
    "# print('first dimenstion of C:',C[0])\n",
    "# Now we can substract\n",
    "sub_z_C = z - C\n",
    "print('sub_z_C , for each feature 4 results:', sub_z_C.shape)\n",
    "squred_sum = np.sum(np.square(z- C), axis=2)\n",
    "print('squred_sum', squred_sum.shape)\n",
    "print('Eucaldian distance of first feature from the 4 classes:\\n',squred_sum[0])"
   ]
  },
  {
   "cell_type": "code",
   "execution_count": 84,
   "id": "09dd9db1",
   "metadata": {},
   "outputs": [
    {
     "name": "stdout",
     "output_type": "stream",
     "text": [
      "0th element from the last bath retrieved from data iteration previously:\n",
      " tf.Tensor(\n",
      "[15.753412   0.         2.146326   7.680573   0.         0.8314893\n",
      "  0.         0.         2.2132406  0.         0.         0.\n",
      "  4.68841    5.858222   0.         0.       ], shape=(16,), dtype=float32)\n",
      "label for the feature_0:\n",
      " tf.Tensor([1. 0. 0. 0.], shape=(4,), dtype=float32)\n"
     ]
    }
   ],
   "source": [
    "# from the data iteration done beforem we will have the last features and the last label_batch\n",
    "## lets see what is the label for the 0th element in that batch\n",
    "print('0th element from the last bath retrieved from data iteration previously:\\n', features[0])\n",
    "print('label for the feature_0:\\n', label_batch[0])"
   ]
  },
  {
   "cell_type": "code",
   "execution_count": null,
   "id": "072faed7",
   "metadata": {},
   "outputs": [],
   "source": [
    "# Here eucladian distance of the first feature is least from the class_0 "
   ]
  },
  {
   "cell_type": "code",
   "execution_count": 28,
   "id": "31a997da",
   "metadata": {},
   "outputs": [
    {
     "name": "stdout",
     "output_type": "stream",
     "text": [
      "ED_logits (32, 4)\n",
      "ED_logits_sample [ -68.02738834  -19.01913043 -122.15186871 -161.30300406]\n"
     ]
    }
   ],
   "source": [
    "# make the dimensions same for substraction\n",
    "def euclidean_metric(a, b):\n",
    "    a = np.expand_dims(a, 1)\n",
    "    b = np.expand_dims(b, 0)\n",
    "#     logits = -((a - b)**2).sum(dim=2)\n",
    "    logits = np.sum(-np.square(a - b), axis=2)\n",
    "    return logits  \n",
    "\n",
    "ED_logits = euclidean_metric(features, centroids)\n",
    "print('ED_logits', ED_logits.shape)\n",
    "print('ED_logits_sample', ED_logits[0])"
   ]
  },
  {
   "cell_type": "code",
   "execution_count": null,
   "id": "d1ff1f19",
   "metadata": {},
   "outputs": [],
   "source": [
    "### we got the same result only in negative sign \n",
    "# these four eucladian values can be taken as softmax \n",
    "# to convert it as probability amonghst the four\n",
    "# Then the max value ( that is why -ve sign will help)\n",
    "# will represent the class with highest probability"
   ]
  },
  {
   "cell_type": "code",
   "execution_count": 29,
   "id": "713cfb0e",
   "metadata": {},
   "outputs": [
    {
     "name": "stdout",
     "output_type": "stream",
     "text": [
      "tf.Tensor(\n",
      "[[0 1 2 3 4]\n",
      " [5 6 7 8 9]], shape=(2, 5), dtype=int32)\n"
     ]
    },
    {
     "data": {
      "text/plain": [
       "<tf.Tensor: shape=(2,), dtype=int64, numpy=array([4, 4], dtype=int64)>"
      ]
     },
     "execution_count": 29,
     "metadata": {},
     "output_type": "execute_result"
    }
   ],
   "source": [
    "t = tf.range(10)\n",
    "t = tf.reshape(t, (2, 5))\n",
    "print(t)\n",
    "tf.argmax(t, axis=1)"
   ]
  },
  {
   "cell_type": "code",
   "execution_count": 30,
   "id": "ae2a9fc3",
   "metadata": {},
   "outputs": [
    {
     "data": {
      "text/plain": [
       "<tf.Tensor: shape=(2,), dtype=int32, numpy=array([4, 9])>"
      ]
     },
     "execution_count": 30,
     "metadata": {},
     "output_type": "execute_result"
    }
   ],
   "source": [
    "# can we get the max value instead of the index\n",
    "tf.reduce_max(t, 1)"
   ]
  },
  {
   "cell_type": "code",
   "execution_count": 31,
   "id": "6784c975",
   "metadata": {},
   "outputs": [
    {
     "name": "stdout",
     "output_type": "stream",
     "text": [
      "smax.shape: (32, 4)\n",
      "smax_sample: [5.19976862e-22 1.00000000e+00 1.62188800e-45 1.61027042e-62]\n",
      "class_idx_having_minimum_distance: 1\n",
      "smax_sample: [2.94122501e-22 1.00000000e+00 1.39221385e-45 5.15989714e-63]\n",
      "class_idx_having_minimum_distance: 1\n",
      "smax_sample: [1.00000000e+00 5.87663615e-49 5.58072923e-67 4.12563722e-70]\n",
      "class_idx_having_minimum_distance: 0\n",
      "smax_sample: [1.59162343e-55 2.89366148e-38 1.00000000e+00 1.45290469e-25]\n",
      "class_idx_having_minimum_distance: 2\n",
      "smax_sample: [1.60505512e-55 6.58368840e-38 1.00000000e+00 1.05650620e-25]\n",
      "class_idx_having_minimum_distance: 2\n"
     ]
    }
   ],
   "source": [
    "# smax = tf.nn.softmax(ED_logits, axis=1)\n",
    "smax = tf.nn.softmax(ED_logits, )\n",
    "print('smax.shape:', smax.shape)\n",
    "class_idx_having_minimum_distance = tf.math.argmax(smax, axis=1)\n",
    "for i in range(5):    \n",
    "    print('smax_sample:', smax[i].numpy())\n",
    "    print('class_idx_having_minimum_distance:', class_idx_having_minimum_distance[i].numpy())"
   ]
  },
  {
   "cell_type": "code",
   "execution_count": 32,
   "id": "c5ab0222",
   "metadata": {},
   "outputs": [
    {
     "name": "stdout",
     "output_type": "stream",
     "text": [
      "label for the feature_0:\n",
      " tf.Tensor([0. 1. 0. 0.], shape=(4,), dtype=float32)\n",
      "label_indexs.shape (32,)\n",
      "sample label_indexes [1 1 0 2 2]\n",
      "centroids.shape: (4, 16)\n",
      "c.shape: (32, 16)\n",
      "[ 1.51976456  0.          5.45572205  0.         12.1205481   2.54362701\n",
      "  7.52497864  3.48013092  2.38178558  4.23300873  0.          4.4952301\n",
      "  0.          0.         11.13174316  0.        ]\n"
     ]
    }
   ],
   "source": [
    "print('label for the feature_0:\\n', label_batch[0])\n",
    "label_indexs = np.argmax(label_batch, axis=1)\n",
    "print('label_indexs.shape', label_indexs.shape)\n",
    "print('sample label_indexes',label_indexs[:5])\n",
    "print('centroids.shape:', centroids.shape)\n",
    "c = centroids[label_indexs]\n",
    "print('c.shape:', c.shape)\n",
    "print(c[0])"
   ]
  },
  {
   "cell_type": "code",
   "execution_count": 34,
   "id": "744faa09",
   "metadata": {},
   "outputs": [
    {
     "name": "stdout",
     "output_type": "stream",
     "text": [
      "a:\n",
      " [[ 0  1  2]\n",
      " [ 3  4  5]\n",
      " [ 6  7  8]\n",
      " [ 9 10 11]]\n",
      "a[0]:\n",
      " [0 1 2]\n",
      "\n",
      "b.shape:\n",
      " (16,)\n",
      "b:\n",
      " [0 1 2 3 0 1 2 3 0 1 2 3 0 1 2 3]\n",
      "\n",
      "[[ 0  1  2]\n",
      " [ 3  4  5]\n",
      " [ 6  7  8]\n",
      " [ 9 10 11]\n",
      " [ 0  1  2]\n",
      " [ 3  4  5]\n",
      " [ 6  7  8]\n",
      " [ 9 10 11]\n",
      " [ 0  1  2]\n",
      " [ 3  4  5]\n",
      " [ 6  7  8]\n",
      " [ 9 10 11]\n",
      " [ 0  1  2]\n",
      " [ 3  4  5]\n",
      " [ 6  7  8]\n",
      " [ 9 10 11]]\n"
     ]
    }
   ],
   "source": [
    "### To understand this lets take simple example\n",
    "a = np.arange(12).reshape((4, 3))\n",
    "print('a:\\n',a)\n",
    "# print(a.shape)\n",
    "print('a[0]:\\n',a[0])\n",
    "print()\n",
    "# we create a index whose dimension is higher than a \n",
    "b = np.tile([0, 1, 2, 3], (4))\n",
    "print('b.shape:\\n',b.shape)\n",
    "# b = 16 but a is having 4 rows\n",
    "print('b:\\n',b)\n",
    "#Notice that each element of b is wihin 0-3 , matching with the max row of a.\n",
    "# the slicing can be done now as:\n",
    "print()\n",
    "print(a[b])"
   ]
  },
  {
   "cell_type": "code",
   "execution_count": 40,
   "id": "34dada04",
   "metadata": {},
   "outputs": [
    {
     "name": "stdout",
     "output_type": "stream",
     "text": [
      "(32, 16)\n",
      "euc_dis (32,)\n",
      "distance: [ 0.9414457   0.         -0.4538226   0.         -1.2992144  -0.14476776\n",
      "  0.09489155 -0.6369841   0.6207452  -0.95751715  0.          2.744269\n",
      "  0.          0.          2.6400776   0.        ]\n",
      " eucladian distance:4.3610920906066895\n",
      "\n",
      "distance: [ 0.95464337  0.         -0.46437836  0.         -1.3628635  -0.07521749\n",
      "  0.15102768 -0.6206374   0.6384938  -0.9985051   0.          2.7094555\n",
      "  0.          0.          2.5778418   0.        ]\n",
      " eucladian distance:4.3346452713012695\n",
      "\n",
      "distance: [ 0.5001459   0.          0.37751663  0.         -0.14249086 -0.0087304\n",
      "  0.49801683  0.31941146 -0.04034901 -0.08043516  0.          0.66762257\n",
      "  0.          0.          0.27619553  0.        ]\n",
      " eucladian distance:1.1371854543685913\n",
      "\n",
      "distance: [ 4.93305624e-02  0.00000000e+00 -4.23543938e-02 -1.88338221e-04\n",
      " -1.24718475e+00  2.07755566e-01  1.19767666e-01 -2.11007148e-03\n",
      "  1.24307394e-01 -8.01553786e-01  0.00000000e+00 -7.71791348e-03\n",
      "  0.00000000e+00  0.00000000e+00 -5.66422462e-01  0.00000000e+00]\n",
      " eucladian distance:1.6112242937088013\n",
      "\n",
      "distance: [-5.3616270e-02  0.0000000e+00 -4.2354394e-02 -1.8833822e-04\n",
      " -1.3002834e+00  1.4910650e-01  1.8910837e-01 -2.1100715e-03\n",
      "  1.5413153e-01 -7.6149642e-01  0.0000000e+00 -7.7179135e-03\n",
      "  0.0000000e+00  0.0000000e+00 -5.9957314e-01  0.0000000e+00]\n",
      " eucladian distance:1.6482067108154297\n",
      "\n"
     ]
    }
   ],
   "source": [
    "# remeber c = centroids[label_indexs]\n",
    "# only the centroid of the class corresponding to the feature\n",
    "# earlier we had to expand dimension becuase centroid contained all the \n",
    "# four classes\n",
    "dis = features - c \n",
    "print(dis.shape)\n",
    "euc_dis = tf.norm(features - c, ord='euclidean', axis=1,)\n",
    "print('euc_dis', euc_dis.shape)\n",
    "for d, ed in zip(dis[:5], euc_dis[:5]):\n",
    "    print(f'distance: {d.numpy()}\\n eucladian distance:{ed.numpy()}\\n')"
   ]
  },
  {
   "cell_type": "code",
   "execution_count": 72,
   "id": "60cfc67f",
   "metadata": {},
   "outputs": [
    {
     "name": "stdout",
     "output_type": "stream",
     "text": [
      "d <tf.Variable 'Variable:0' shape=(4, 1) dtype=float32, numpy=\n",
      "array([[-0.04433195],\n",
      "       [-0.00878643],\n",
      "       [ 0.00852845],\n",
      "       [ 0.00794264]], dtype=float32)>\n"
     ]
    }
   ],
   "source": [
    "# # torch.randn, Returns a tensor filled with random numbers from a normal distribution with mean 0 and variance 1 (also called the standard normal distribution).\n",
    "# w_init = tf.random.normal([4],0, 1, tf.float32)\n",
    "# print('w_init Outputs random values from a normal distribution.', w_init)\n",
    "# w_init = tf.random.normal((4),0, 1, tf.float32)\n",
    "\n",
    "### shape (4, 1 ) for delta  = 4 rows for the four classes\n",
    "w_init = tf.random_normal_initializer()\n",
    "w_init(shape=(4, 1), dtype='float32')\n",
    "\n",
    "d = tf.Variable(\n",
    "    initial_value=w_init(shape=(4, 1), dtype='float32'),\n",
    "    trainable=True,\n",
    ")\n",
    "print('d', d)\n",
    "\n",
    "# w_init = tf.random_normal_initializer()\n",
    "# self.w = tf.Variable(\n",
    "#     initial_value=w_init(shape=(input_shape[-1], self.units),\n",
    "#                          dtype='float32'),\n",
    "#     trainable=True)"
   ]
  },
  {
   "cell_type": "code",
   "execution_count": 82,
   "id": "e74f0432",
   "metadata": {},
   "outputs": [
    {
     "name": "stdout",
     "output_type": "stream",
     "text": [
      "neg_mask tf.Tensor(\n",
      "[False False False False False False False False False False False False\n",
      " False False False False False False False False False False False False\n",
      " False False False False False False False False], shape=(32,), dtype=bool)\n",
      "neg_mask tf.Tensor([0 0 0 0 0 0 0 0 0 0 0 0 0 0 0 0 0 0 0 0 0 0 0 0 0 0 0 0 0 0 0 0], shape=(32,), dtype=int32)\n"
     ]
    }
   ],
   "source": [
    "neg_mask = euc_dis < 1\n",
    "print('neg_mask', neg_mask)\n",
    "neg_mask = tf.dtypes.cast(neg_mask, tf.int32)\n",
    "print('neg_mask', neg_mask)"
   ]
  },
  {
   "cell_type": "code",
   "execution_count": 79,
   "id": "cd0c74fd",
   "metadata": {},
   "outputs": [],
   "source": [
    "neg_loss = (d - euc_dis) \n",
    "# neg_loss = neg_loss * neg_mask\n",
    "# InvalidArgumentError: cannot compute Mul as input #1(zero-based) was expected to be a float tensor but is a bool tensor [Op:Mul]"
   ]
  },
  {
   "cell_type": "code",
   "execution_count": 83,
   "id": "8a906448",
   "metadata": {},
   "outputs": [],
   "source": [
    "class BoundaryLoss(tf.keras.layers.Layer):\n",
    "    def __init__(self, num_labels=train_data.element_spec[1].shape[1], \n",
    "                feat_dim = 16):\n",
    "        super().__init__()\n",
    "        self.num_labels = num_labels\n",
    "        self.feat_dim = feat_dim\n",
    "        # initializing the delta boundary (4,1 shape is for 4 classes 4 number of scaler value)\n",
    "        w_init = tf.random_normal_initializer()\n",
    "        self.delta = tf.Variable(\n",
    "                            initial_value=w_init(shape=(4, 1), dtype='float32'),\n",
    "                            trainable=True,\n",
    "                        )\n",
    "        \n",
    "    def call(self, features, centroids, labels):\n",
    "        logits =  euclidean_metric(features, centroids)  \n",
    "        ######### Why softmax before softplus#########\n",
    "        smax = tf.nn.softmax(logits, )\n",
    "        # this is equivallent to predicting the feature belong to which class\n",
    "        preds = tf.math.argmax(smax, axis=1)\n",
    "        # This is equivallent to obtaining the max probabiliy of a feature belonging to a calss\n",
    "        probs = tf.reduce_max(smax, 1)        \n",
    "        ############################\n",
    "        # delta =  log(1 + e ^ delta_k) , delta_k =self.delta = parameters for the boundary\n",
    "        delta = tf.nn.softplus(self.delta)  \n",
    "        label_indexs = np.argmax(label_batch, axis=1)\n",
    "        # centroids are having only 4 rows , whereas labels are rows equivallent to batch\n",
    "        # pick-up the centroid for each class \n",
    "        # label_index from the data set will have all the classes, 32 for a batch\n",
    "        # for each class cetroid[class_index] will give the centroid of the calss\n",
    "        # it is basically : [centroids[class_idx] for class_idx in label_indexes]\n",
    "        c = centroids[label_indexs]\n",
    "        # similarly get the delta for each class, \n",
    "        # although delta is now randomly intialized \n",
    "        # delta parameters will be learned through the training\n",
    "        d = delta[label_indexs]\n",
    "        x = features\n",
    "        # x-c = vector of (32, 16) dimension , euc_dis  = scalar value\n",
    "        euc_dis = tf.norm(x - c, ord='euclidean', axis=1)        \n",
    "        ##If axis is None (the default), the input is considered a vector and a \n",
    "        ## single vector norm is computed over the entire set of values in the tensor, \n",
    "        ## i.e. norm(tensor, ord=ord) is equivalent to norm(reshape(tensor, [-1]), ord=ord). \n",
    "        ##If axis is a Python integer, the input is considered a batch of vectors, and axis determines the axis in tensor over which to compute vector norms.\n",
    "        pos_mask = tf.dtypes.cast(euc_dis > d, tf.int32)\n",
    "        neg_mask = tf.dtypes.cast(euc_dis < d, tf.int32)\n",
    "        # euc_dis > d should be ==>1 and euc_dis <= d should be ==>0\n",
    "        # but the expression here will it retrun True , False or 1 and 0. \n",
    "        pos_loss = (euc_dis - d) * pos_mask\n",
    "        neg_loss = (d - euc_dis) * neg_mask\n",
    "        loss = pos_loss.mean() + neg_loss.mean()\n",
    "        \n",
    "        return loss, delta"
   ]
  },
  {
   "cell_type": "markdown",
   "id": "082ef072",
   "metadata": {},
   "source": [
    "## Boundary Loss looks good - every line we have tested and found a logic "
   ]
  },
  {
   "cell_type": "code",
   "execution_count": null,
   "id": "ae5cda39",
   "metadata": {},
   "outputs": [],
   "source": []
  },
  {
   "cell_type": "code",
   "execution_count": null,
   "id": "4800e5b1",
   "metadata": {},
   "outputs": [],
   "source": [
    "# understand this , a= features(batch_size, 2048) , b = centroids (4, 2048)\n",
    "def euclidean_metric_torch(a, b):\n",
    "    n = a.shape[0]\n",
    "    m = b.shape[0]\n",
    "    a = a.unsqueeze(1).expand(n, m, -1)\n",
    "    b = b.unsqueeze(0).expand(n, m, -1)\n",
    "    logits = -((a - b)**2).sum(dim=2)\n",
    "    return logits"
   ]
  },
  {
   "cell_type": "code",
   "execution_count": 81,
   "id": "1741fbe4",
   "metadata": {},
   "outputs": [
    {
     "name": "stdout",
     "output_type": "stream",
     "text": [
      "a: [[0 1 2]\n",
      " [3 4 5]]\n",
      "a.shape (2, 3)\n",
      "b [ 8  9 10 11 12 13 14 15]\n",
      "b [[ 8  9]\n",
      " [10 11]\n",
      " [12 13]\n",
      " [14 15]]\n",
      "b.shape: (4, 2)\n",
      "tfa tf.Tensor(\n",
      "[[0 1 2]\n",
      " [3 4 5]], shape=(2, 3), dtype=int32)\n",
      "tfb tf.Tensor(\n",
      "[[ 8  9]\n",
      " [10 11]\n",
      " [12 13]\n",
      " [14 15]], shape=(4, 2), dtype=int32)\n"
     ]
    }
   ],
   "source": [
    "import numpy as np\n",
    "import tensorflow as tf\n",
    "a = np.arange(6)\n",
    "a = a.reshape((2, -1))\n",
    "print('a:', a)\n",
    "print('a.shape', a.shape)\n",
    "b = np.arange(8, 16)\n",
    "print('b',b)\n",
    "b = np.reshape(b, (4, -1))\n",
    "print('b',b)\n",
    "print('b.shape:',b.shape)\n",
    "tfa = tf.constant(a)\n",
    "tfb = tf.constant(b)\n",
    "print('tfa',tfa)\n",
    "print('tfb',tfb)\n",
    "# n = tfa.shape[0]\n",
    "# m = b.shape[0]\n"
   ]
  },
  {
   "cell_type": "code",
   "execution_count": 78,
   "id": "34020715",
   "metadata": {},
   "outputs": [
    {
     "name": "stdout",
     "output_type": "stream",
     "text": [
      "tf.expand_dims(tfa, 0) : tf.Tensor(\n",
      "[[[0 1 2]\n",
      "  [3 4 5]]], shape=(1, 2, 3), dtype=int32)\n",
      "\n",
      "tf.expand_dims(tfa, 1) : tf.Tensor(\n",
      "[[[0 1 2]]\n",
      "\n",
      " [[3 4 5]]], shape=(2, 1, 3), dtype=int32)\n",
      "\n",
      "tf.expand_dims(tfa, 1) : tf.Tensor(\n",
      "[[[0]\n",
      "  [1]\n",
      "  [2]]\n",
      "\n",
      " [[3]\n",
      "  [4]\n",
      "  [5]]], shape=(2, 3, 1), dtype=int32)\n"
     ]
    }
   ],
   "source": [
    "print('tf.expand_dims(tfa, 0) :',tf.expand_dims(tfa, 0))\n",
    "print()\n",
    "print('tf.expand_dims(tfa, 1) :',tf.expand_dims(tfa, 1))\n",
    "print()\n",
    "print('tf.expand_dims(tfa, 1) :',tf.expand_dims(tfa, -1))"
   ]
  },
  {
   "cell_type": "code",
   "execution_count": 82,
   "id": "a10bf065",
   "metadata": {},
   "outputs": [
    {
     "name": "stdout",
     "output_type": "stream",
     "text": [
      "tf.shape(tfa): [2 1 3]\n",
      "tf.shape(tfb): [1 4 2]\n"
     ]
    }
   ],
   "source": [
    "tfa = tf.expand_dims(tfa, 1)\n",
    "print(f'tf.shape(tfa): {tf.shape(tfa)}')\n",
    "tfb = tf.expand_dims(tfb, 0)\n",
    "print(f'tf.shape(tfb): {tf.shape(tfb)}')"
   ]
  },
  {
   "cell_type": "code",
   "execution_count": 86,
   "id": "b91ae684",
   "metadata": {},
   "outputs": [
    {
     "name": "stdout",
     "output_type": "stream",
     "text": [
      "tfa_broadcast tf.Tensor(\n",
      "[[[0 1 2]\n",
      "  [0 1 2]\n",
      "  [0 1 2]\n",
      "  [0 1 2]]\n",
      "\n",
      " [[3 4 5]\n",
      "  [3 4 5]\n",
      "  [3 4 5]\n",
      "  [3 4 5]]], shape=(2, 4, 3), dtype=int32)\n"
     ]
    }
   ],
   "source": [
    "n = a.shape[0]\n",
    "m = b.shape[0]\n",
    "tfa_broadcast = tf.broadcast_to(tfa, [2, 4, 3])\n",
    "tf.shape(tfa_broadcast)\n",
    "print('tfa_broadcast',tfa_broadcast)"
   ]
  },
  {
   "cell_type": "code",
   "execution_count": null,
   "id": "fc8bcf41",
   "metadata": {},
   "outputs": [],
   "source": [
    "# 6\n",
    "\n",
    "# The equivalent function for pytorch expand is tensorflow tf.broadcast_to\n",
    "\n",
    "# Docs: https://www.tensorflow.org/api_docs/python/tf/broadcast_to\n",
    "\n",
    "# Share\n",
    "# Follow\n",
    "# edited Oct 23, 2021 at 18:22\n",
    "\n",
    "# M.Innat\n",
    "# 12.2k66 gold badges3434 silver badges6767 bronze badges\n",
    "# answered Jan 4, 2019 at 9:12\n",
    "\n",
    "# funkyyyyyy\n",
    "# 6111 silver badge22 bronze badges\n",
    "# Add a comment\n",
    "\n",
    "# 0\n",
    "\n",
    "# Tensorflow automatically broadcasts, so in general you don't need to do any of this. Suppose you have a y' of shape 6x2x3 and your x is of shape 2x3, then you can already do y'*x or y'+x will already behave as if you had expanded it. But if for some other reason you really need to do it, then the command in tensorflow is tile:\n",
    "\n",
    "# y = tf.tile(tf.reshape(x, (1,2,3)), multiples=(6,1,1))\n",
    "# Docs: https://www.tensorflow.org/api_docs/python/tf/tile"
   ]
  },
  {
   "cell_type": "code",
   "execution_count": null,
   "id": "7072444b",
   "metadata": {},
   "outputs": [],
   "source": [
    "def euclidean_metric(a, b):\n",
    "    n = a.shape[0]\n",
    "    m = b.shape[0]\n",
    "    a = tf.expand_dims(a, 1)\n",
    "    b = tf.expand_dims(b, 0)\n",
    "    logits = -((a - b)**2).sum(dim=2)\n",
    "    return logits  "
   ]
  },
  {
   "cell_type": "code",
   "execution_count": null,
   "id": "5b686628",
   "metadata": {},
   "outputs": [],
   "source": []
  },
  {
   "cell_type": "code",
   "execution_count": null,
   "id": "1feac0d3",
   "metadata": {},
   "outputs": [],
   "source": []
  },
  {
   "cell_type": "code",
   "execution_count": null,
   "id": "2e1c6ac4",
   "metadata": {},
   "outputs": [],
   "source": []
  },
  {
   "cell_type": "code",
   "execution_count": null,
   "id": "47470b5e",
   "metadata": {},
   "outputs": [],
   "source": []
  },
  {
   "cell_type": "code",
   "execution_count": null,
   "id": "e67f961b",
   "metadata": {},
   "outputs": [],
   "source": []
  },
  {
   "cell_type": "code",
   "execution_count": 87,
   "id": "c5e0806b",
   "metadata": {},
   "outputs": [],
   "source": [
    "class OpenSet:\n",
    "    def __init__(self, data, pretrained_model):\n",
    "        \n",
    "        self.model = pretrained_model\n",
    "        self.best_eval_score = 0\n",
    "        self.delta = None\n",
    "        self.delta_points = []\n",
    "        self.centroids = None\n",
    "        self.test_results = None\n",
    "        self.predictions = None\n",
    "        self.true_labels = None\n",
    "        \n",
    "    def centroids_cal(self):\n",
    "        centriods = np.zeros(train_data.element_spec[1].shape[1], embedding_size)\n",
    "        total_labels = np.empty(0, dtype=longdouble)\n",
    "        \n"
   ]
  },
  {
   "cell_type": "code",
   "execution_count": null,
   "id": "c1302978",
   "metadata": {
    "jupyter": {
     "source_hidden": true
    }
   },
   "outputs": [],
   "source": []
  },
  {
   "cell_type": "code",
   "execution_count": null,
   "id": "e29ddc07",
   "metadata": {},
   "outputs": [],
   "source": [
    "# Customizing the training step to get centroid for each class\n",
    "class OpenSet:\n",
    "    def __init__(self, data, pretrained_model=log_classifier):\n",
    "#         super().__init__():\n",
    "        self.model = pretrained_model        \n",
    "        self.centroids = None\n",
    "        self.num_labels = train_data.element_spec[1].shape[1]\n",
    "        \n",
    "    def centroids_cal(self):\n",
    "        centriods = np.zeros(self.num_labels, embedding_size)\n",
    "        total_labels = np.empty(0, dtype=longdouble)\n",
    "        for batch in data:\n",
    "            logseq_batch, label_batch = batch\n",
    "            features = self.model(logseq_batch, extract_feature=True ) \n",
    "            "
   ]
  },
  {
   "cell_type": "code",
   "execution_count": null,
   "id": "cdf0bbac",
   "metadata": {},
   "outputs": [],
   "source": []
  },
  {
   "cell_type": "code",
   "execution_count": null,
   "id": "93b3a693",
   "metadata": {},
   "outputs": [],
   "source": []
  },
  {
   "cell_type": "code",
   "execution_count": null,
   "id": "f1a0df75",
   "metadata": {},
   "outputs": [],
   "source": []
  },
  {
   "cell_type": "code",
   "execution_count": null,
   "id": "2503be60",
   "metadata": {},
   "outputs": [],
   "source": [
    "# In context of deep learning the logits layer means the layer that feeds in to softmax (or other such normalization). The output of the softmax are the probabilities for the classification task and its input is logits layer. The logits layer typically produces values from -infinity to +infinity and the softmax layer transforms it to values from 0 to 1.\n",
    "\n",
    "# Historical Context\n",
    "\n",
    "# Where does this term comes from? In 1930s and 40s, several people were trying to adapt linear regression to the problem of predicting probabilities. However linear regression produces output from -infinity to +infinity while for probabilities our desired output is 0 to 1. One way to do this is by somehow mapping the probabilities 0 to 1 to -infinity to +infinity and then use linear regression as usual. One such mapping is cumulative normal distribution that was used by Chester Ittner Bliss in 1934 and he called this \"probit\" model, short for \"probability unit\". However this function is computationally expensive while lacking some of the desirable properties for multi-class classification. In 1944 Joseph Berkson used the function log(p/(1-p)) to do this mapping and called it logit, short for \"logistic unit\". The term logistic regression derived from this as well.\n",
    "\n",
    "# The Confusion\n",
    "\n",
    "# Unfortunately the term logits is abused in deep learning. From pure mathematical perspective logit is a function that performs above mapping. In deep learning people started calling the layer \"logits layer\" that feeds in to logit function. Then people started calling the output values of this layer \"logit\" creating the confusion with logit the function."
   ]
  }
 ],
 "metadata": {
  "kernelspec": {
   "display_name": "Python 3 (ipykernel)",
   "language": "python",
   "name": "python3"
  },
  "language_info": {
   "codemirror_mode": {
    "name": "ipython",
    "version": 3
   },
   "file_extension": ".py",
   "mimetype": "text/x-python",
   "name": "python",
   "nbconvert_exporter": "python",
   "pygments_lexer": "ipython3",
   "version": "3.8.12"
  }
 },
 "nbformat": 4,
 "nbformat_minor": 5
}
