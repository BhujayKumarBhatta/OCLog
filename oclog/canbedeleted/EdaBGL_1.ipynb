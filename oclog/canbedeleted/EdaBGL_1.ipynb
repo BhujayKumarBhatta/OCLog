{
 "cells": [
  {
   "cell_type": "code",
   "execution_count": 144,
   "id": "52586b7f",
   "metadata": {},
   "outputs": [],
   "source": [
    "import os\n",
    "import sys\n",
    "import re\n",
    "import psutil\n",
    "import time\n",
    "import pickle \n",
    "import numpy as np\n",
    "import pandas as pd\n",
    "from collections import OrderedDict\n",
    "from itertools  import groupby\n",
    "\n",
    "from keras.preprocessing.text import Tokenizer\n",
    "from keras.preprocessing.sequence import pad_sequences\n",
    "from keras.utils import to_categorical\n",
    "\n",
    "from sklearn.utils import shuffle\n",
    "import random\n",
    "random.seed(123)"
   ]
  },
  {
   "cell_type": "code",
   "execution_count": 2,
   "id": "e3af3cbf",
   "metadata": {},
   "outputs": [
    {
     "name": "stdout",
     "output_type": "stream",
     "text": [
      "['anomaly_label.csv', 'anomaly_labels.txt', 'BGL.log', 'BGL.tar.gz', 'bgl2', 'bgl2.gz', 'BGL_sample.txt', 'HDFS.log', 'HDFS.log.zip', 'HDFS_1.tar.gz', 'HDFS_anomaly_label.csv', 'my_observed_anomaly_Openstack.txt', 'NeuralLog.zip', 'OpenStack.tar.gz', 'openstack_abnormal.log', 'OpenStack_log_files.zip', 'Spark.tar.gz']\n",
      "True\n",
      "total loglines: 4747963\n"
     ]
    }
   ],
   "source": [
    "Logpath='C:\\ML_data\\Logs'\n",
    "labelpath='C:\\ML_data\\Logs'\n",
    "print(os.listdir(Logpath))\n",
    "logfilename='BGL.log'\n",
    "bglfile = os.path.join(Logpath, logfilename)\n",
    "print(os.path.exists(bglfile))\n",
    "with open(bglfile, 'r',  encoding='utf8') as f:\n",
    "    bglraw = f.readlines()\n",
    "print(f'total loglines: {len(bglraw)}')"
   ]
  },
  {
   "cell_type": "code",
   "execution_count": 3,
   "id": "49e84021",
   "metadata": {},
   "outputs": [
    {
     "name": "stdout",
     "output_type": "stream",
     "text": [
      "KERNSTOR 1118765464 2005.06.14 R02-M1-N7-C:J09-U01 2005-06-14-09.11.04.290239 R02-M1-N7-C:J09-U01 RAS KERNEL FATAL data storage interrupt\n",
      "\n",
      "- 1121493805 2005.07.15 R36-M1-ND-C:J17-U11 2005-07-15-23.03.25.354001 R36-M1-ND-C:J17-U11 RAS KERNEL INFO generating core.60016\n",
      "\n",
      "- 1118772880 2005.06.14 R27-M0-N9-C:J03-U01 2005-06-14-11.14.40.067448 R27-M0-N9-C:J03-U01 RAS KERNEL FATAL lr:00004ed0 cr:28244842 xer:20000002 ctr:00086000\n",
      "\n",
      "- 1127243236 2005.09.20 NULL 2005-09-20-12.07.16.840600 NULL RAS MMCS ERROR idoproxydb hit ASSERT condition: ASSERT expression=0 Source file=idotransportmgr.cpp Source line=1043 Function=int IdoTransportMgr::SendPacket(IdoUdpMgr*, BglCtlPavTrace*)\n",
      "\n",
      "- 1121442094 2005.07.15 R01-M0-N2-C:J06-U01 2005-07-15-08.41.34.635525 R01-M0-N2-C:J06-U01 RAS KERNEL INFO generating core.1702\n",
      "\n",
      "- 1119481844 2005.06.22 R22-M1-N4-C:J14-U01 2005-06-22-16.10.44.449189 R22-M1-N4-C:J14-U01 RAS KERNEL INFO 3091200 double-hummer alignment exceptions\n",
      "\n",
      "KERNDTLB 1118550016 2005.06.11 R30-M0-N9-C:J16-U01 2005-06-11-21.20.16.903747 R30-M0-N9-C:J16-U01 RAS KERNEL FATAL data TLB error interrupt\n",
      "\n",
      "- 1125084445 2005.08.26 R61-M1-NF-C:J16-U11 2005-08-26-12.27.25.926426 R61-M1-NF-C:J16-U11 RAS KERNEL INFO 1524480 double-hummer alignment exceptions\n",
      "\n",
      "- 1133454884 2005.12.01 R37-M1-NE-C:J09-U11 2005-12-01-08.34.44.008191 R37-M1-NE-C:J09-U11 RAS KERNEL INFO 0 microseconds spent in the rbs signal handler during 0 calls. 0 microseconds was the maximum time for a single instance of a correctable ddr.\n",
      "\n",
      "- 1135650600 2005.12.26 R37-M1-NC-C:J02-U11 2005-12-26-18.30.00.412261 R37-M1-NC-C:J02-U11 RAS KERNEL INFO instruction cache parity error corrected\n",
      "\n",
      "- 1122470281 2005.07.27 R23-M1-N3-C:J05-U11 2005-07-27-06.18.01.384993 R23-M1-N3-C:J05-U11 RAS KERNEL FATAL 24:00000000 25:00000005 26:ffffffff 27:00000000\n",
      "\n",
      "- 1122579041 2005.07.28 R26-M1-NA-C:J06-U11 2005-07-28-12.30.41.599132 R26-M1-NA-C:J06-U11 RAS KERNEL INFO generating core.2846\n",
      "\n",
      "KERNSTOR 1118765341 2005.06.14 R03-M0-NF-C:J11-U01 2005-06-14-09.09.01.099972 R03-M0-NF-C:J11-U01 RAS KERNEL FATAL data storage interrupt\n",
      "\n",
      "- 1120262437 2005.07.01 R35-M0-N0-C:J12-U11 2005-07-01-17.00.37.928392 R35-M0-N0-C:J12-U11 RAS KERNEL INFO 1146800 double-hummer alignment exceptions\n",
      "\n",
      "- 1120092218 2005.06.29 R00-M0-N8-C:J16-U11 2005-06-29-17.43.38.669210 R00-M0-N8-C:J16-U11 RAS KERNEL INFO generating core.18451\n",
      "\n",
      "- 1122576991 2005.07.28 R27-M1-N6-C:J12-U11 2005-07-28-11.56.31.330861 R27-M1-N6-C:J12-U11 RAS KERNEL INFO generating core.4445\n",
      "\n",
      "APPSEV 1135602858 2005.12.26 R60-M0-N4-I:J18-U01 2005-12-26-05.14.18.615414 R60-M0-N4-I:J18-U01 RAS APP FATAL ciod: Error reading message prefix on CioStream socket to 172.16.96.116:37579, Link has been severed\n",
      "\n",
      "- 1122574289 2005.07.28 R31-M1-NA-C:J14-U01 2005-07-28-11.11.29.604332 R31-M1-NA-C:J14-U01 RAS KERNEL INFO generating core.10756\n",
      "\n",
      "- 1121256433 2005.07.13 R24-M1-N5-C:J14-U11 2005-07-13-05.07.13.703827 R24-M1-N5-C:J14-U11 RAS KERNEL INFO generating core.3512\n",
      "\n",
      "- 1120266834 2005.07.01 R36-M0-NB-C:J16-U11 2005-07-01-18.13.54.918334 R36-M0-NB-C:J16-U11 RAS KERNEL INFO 1146800 double-hummer alignment exceptions\n",
      "\n",
      "- 1117845799 2005.06.03 R22-M1-N4-C:J11-U11 2005-06-03-17.43.19.945039 R22-M1-N4-C:J11-U11 RAS KERNEL INFO generating core.253\n",
      "\n",
      "- 1130479269 2005.10.27 R33-M0-NF-C:J04-U11 2005-10-27-23.01.09.709450 R33-M0-NF-C:J04-U11 RAS KERNEL INFO critical input interrupt (unit=0x0b bit=0x06): warning for torus y+ wire\n",
      "\n",
      "- 1118772940 2005.06.14 R21-M0-N6-C:J08-U01 2005-06-14-11.15.40.871745 R21-M0-N6-C:J08-U01 RAS KERNEL FATAL machine check enable..............0\n",
      "\n",
      "- 1125084253 2005.08.26 R71-M0-NC-C:J03-U11 2005-08-26-12.24.13.385809 R71-M0-NC-C:J03-U11 RAS KERNEL INFO 773760 double-hummer alignment exceptions\n",
      "\n",
      "- 1118770395 2005.06.14 R25-M1-N2-C:J14-U11 2005-06-14-10.33.15.062842 R25-M1-N2-C:J14-U11 RAS KERNEL FATAL program interrupt: trap instruction.........0\n",
      "\n",
      "- 1117977644 2005.06.05 R37-M0-N2-C:J15-U11 2005-06-05-06.20.44.701046 R37-M0-N2-C:J15-U11 RAS KERNEL INFO generating core.3516\n",
      "\n",
      "- 1122166625 2005.07.23 R11-M0-N5-C:J04-U01 2005-07-23-17.57.05.263998 R11-M0-N5-C:J04-U01 RAS KERNEL INFO 5 floating point alignment exceptions\n",
      "\n",
      "- 1131059269 2005.11.03 R67-M1-NF-C:J16-U11 2005-11-03-15.07.49.232520 R67-M1-NF-C:J16-U11 RAS KERNEL INFO iar 00106228 dear 0244c1ec\n",
      "\n",
      "- 1119291054 2005.06.20 R12-M1-N6-C:J03-U01 2005-06-20-11.10.54.017555 R12-M1-N6-C:J03-U01 RAS KERNEL INFO generating core.1007\n",
      "\n",
      "KERNDTLB 1118557311 2005.06.11 R30-M0-N9-C:J16-U01 2005-06-11-23.21.51.901613 R30-M0-N9-C:J16-U01 RAS KERNEL FATAL data TLB error interrupt\n",
      "\n",
      "- 1118809970 2005.06.14 R02-M1-N0-C:J12-U11 2005-06-14-21.32.50.236484 R02-M1-N0-C:J12-U11 RAS KERNEL INFO instruction cache parity error corrected\n",
      "\n",
      "- 1120146175 2005.06.30 R02-M1-NC-C:J06-U11 2005-06-30-08.42.55.185847 R02-M1-NC-C:J06-U11 RAS KERNEL INFO generating core.28454\n",
      "\n",
      "- 1119803865 2005.06.26 R07-M0-NC-C:J10-U11 2005-06-26-09.37.45.048068 R07-M0-NC-C:J10-U11 RAS KERNEL INFO program interrupt: imprecise exception......0\n",
      "\n",
      "- 1118183450 2005.06.07 R36-M0-N5-C:J12-U11 2005-06-07-15.30.50.567342 R36-M0-N5-C:J12-U11 RAS KERNEL INFO generating core.681\n",
      "\n",
      "- 1121901457 2005.07.20 R16-M1-N4-C:J09-U01 2005-07-20-16.17.37.703273 R16-M1-N4-C:J09-U01 RAS KERNEL INFO 8 floating point alignment exceptions\n",
      "\n",
      "- 1129550914 2005.10.17 R02-M0-N4-C:J04-U11 2005-10-17-05.08.34.996533 R02-M0-N4-C:J04-U11 RAS KERNEL INFO data cache search parity error detected. attempting to correct\n",
      "\n",
      "- 1131139992 2005.11.04 R63-M0-NA-C:J08-U11 2005-11-04-13.33.12.321778 R63-M0-NA-C:J08-U11 RAS KERNEL INFO iar 001066c4 dear 0252525c\n",
      "\n",
      "- 1121366805 2005.07.14 R03-M0-N8-I:J18-U01 2005-07-14-11.46.45.508282 R03-M0-N8-I:J18-U01 RAS KERNEL INFO ciod: T coordinate 1 exceeds physical dimension 1 at line 2 of node map file /home/pakin1/sweep3d-2.2b/results/xyzt-8x8x16x2.map\n",
      "\n",
      "- 1131126647 2005.11.04 R62-M0-N6-C:J05-U11 2005-11-04-09.50.47.499620 R62-M0-N6-C:J05-U11 RAS KERNEL INFO iar 00106bd8 dear 0245cd8c\n",
      "\n",
      "KERNDTLB 1118548262 2005.06.11 R30-M0-N9-C:J16-U01 2005-06-11-20.51.02.181370 R30-M0-N9-C:J16-U01 RAS KERNEL FATAL data TLB error interrupt\n",
      "\n",
      "- 1122147313 2005.07.23 R05-M0-N2-C:J04-U11 2005-07-23-12.35.13.028824 R05-M0-N2-C:J04-U11 RAS KERNEL INFO 15 floating point alignment exceptions\n",
      "\n",
      "- 1122580591 2005.07.28 R33-M0-NE-C:J11-U01 2005-07-28-12.56.31.304007 R33-M0-NE-C:J11-U01 RAS KERNEL INFO generating core.5029\n",
      "\n",
      "- 1133448120 2005.12.01 R52-M1-ND-C:J02-U01 2005-12-01-06.42.00.795918 R52-M1-ND-C:J02-U01 RAS KERNEL INFO 0 microseconds spent in the rbs signal handler during 0 calls. 0 microseconds was the maximum time for a single instance of a correctable ddr.\n",
      "\n",
      "- 1131366838 2005.11.07 R63-M0-NC-I:J18-U01 2005-11-07-04.33.58.176482 R63-M0-NC-I:J18-U01 RAS APP FATAL ciod: Error loading /bgl/apps/followup/RAPTOR/pre-study/raptor.newcomp.r1: invalid or missing program image, Permission denied\n",
      "\n",
      "- 1120937459 2005.07.09 R36-M0-N2-C:J12-U01 2005-07-09-12.30.59.377779 R36-M0-N2-C:J12-U01 RAS KERNEL INFO generating core.4757\n",
      "\n",
      "- 1133448481 2005.12.01 R77-M0-N6-C:J09-U01 2005-12-01-06.48.01.927865 R77-M0-N6-C:J09-U01 RAS KERNEL INFO 10714 total interrupts. 0 critical input interrupts. 0 microseconds total spent on critical input interrupts, 0 microseconds max time in a critical input interrupt.\n",
      "\n",
      "- 1135682300 2005.12.27 R37-M1-NC-C:J02-U11 2005-12-27-03.18.20.074354 R37-M1-NC-C:J02-U11 RAS KERNEL INFO instruction cache parity error corrected\n",
      "\n",
      "- 1122166596 2005.07.23 R12-M1-N2-C:J03-U01 2005-07-23-17.56.36.020455 R12-M1-N2-C:J03-U01 RAS KERNEL INFO 5 floating point alignment exceptions\n",
      "\n",
      "- 1117989656 2005.06.05 R32-M0-N0-C:J15-U01 2005-06-05-09.40.56.894031 R32-M0-N0-C:J15-U01 RAS KERNEL INFO generating core.2036\n",
      "\n",
      "KERNMNTF 1125948903 2005.09.05 R43-M0-N8-I:J18-U01 2005-09-05-12.35.03.589098 R43-M0-N8-I:J18-U01 RAS KERNEL FATAL Lustre mount FAILED : bglio570 : point /p/gb1\n",
      "\n",
      "- 1133150713 2005.11.27 R12-M0-N8-I:J18-U11 2005-11-27-20.05.13.925334 R12-M0-N8-I:J18-U11 RAS KERNEL INFO ciod: Received signal 15, code=0, errno=0, address=0x000001f2\n",
      "\n",
      "- 1130078248 2005.10.23 R64-M0-N4-I:J18-U11 2005-10-23-07.37.28.864752 R64-M0-N4-I:J18-U11 RAS APP FATAL ciod: Error loading /home/spelce1/HPCC_IBM/Urgent/COP/64K/fft_only.rts: invalid or missing program image, Permission denied\n",
      "\n",
      "- 1133455056 2005.12.01 R53-M1-NF-C:J17-U01 2005-12-01-08.37.36.405673 R53-M1-NF-C:J17-U01 RAS KERNEL INFO 10672 total interrupts. 0 critical input interrupts. 0 microseconds total spent on critical input interrupts, 0 microseconds max time in a critical input interrupt.\n",
      "\n",
      "- 1131473382 2005.11.08 R62-M0-N8-C:J11-U11 2005-11-08-10.09.42.052240 R62-M0-N8-C:J11-U11 RAS KERNEL INFO iar 001061e8 dear 0247018c\n",
      "\n",
      "- 1133448042 2005.12.01 R54-M1-NB-C:J15-U11 2005-12-01-06.40.42.631940 R54-M1-NB-C:J15-U11 RAS KERNEL INFO 0 microseconds spent in the rbs signal handler during 0 calls. 0 microseconds was the maximum time for a single instance of a correctable ddr.\n",
      "\n",
      "APPSEV 1127988041 2005.09.29 R41-M1-NC-I:J18-U11 2005-09-29-03.00.41.874115 R41-M1-NC-I:J18-U11 RAS APP FATAL ciod: Error reading message prefix after LOGIN_MESSAGE on CioStream socket to 172.16.96.116:60090: Link has been severed\n",
      "\n",
      "- 1125083445 2005.08.26 R60-M1-N6-C:J14-U11 2005-08-26-12.10.45.280836 R60-M1-N6-C:J14-U11 RAS KERNEL INFO iar 003a929c dear 00efe8a8\n",
      "\n",
      "- 1132884795 2005.11.24 R72-M0-N8-I:J18-U11 2005-11-24-18.13.15.145447 R72-M0-N8-I:J18-U11 RAS KERNEL INFO ciod: Received signal 15, code=0, errno=0, address=0x000001f2\n",
      "\n",
      "KERNDTLB 1118541969 2005.06.11 R30-M0-N9-C:J16-U01 2005-06-11-19.06.09.824416 R30-M0-N9-C:J16-U01 RAS KERNEL FATAL data TLB error interrupt\n",
      "\n",
      "- 1120748266 2005.07.07 R06-M1-NC-C:J14-U01 2005-07-07-07.57.46.955323 R06-M1-NC-C:J14-U01 RAS KERNEL INFO generating core.3780\n",
      "\n",
      "- 1118772223 2005.06.14 R25-M0-NE-C:J16-U01 2005-06-14-11.03.43.822482 R25-M0-NE-C:J16-U01 RAS KERNEL FATAL wait state enable.................0\n",
      "\n",
      "- 1131473816 2005.11.08 R62-M0-N5-C:J14-U11 2005-11-08-10.16.56.127655 R62-M0-N5-C:J14-U11 RAS KERNEL INFO iar 001061e8 dear 0247018c\n",
      "\n",
      "- 1121313729 2005.07.13 R27-M1-N7-C:J03-U01 2005-07-13-21.02.09.912652 R27-M1-N7-C:J03-U01 RAS KERNEL INFO generating core.4971\n",
      "\n",
      "- 1120449717 2005.07.03 R20-M0-N9-C:J03-U01 2005-07-03-21.01.57.856728 R20-M0-N9-C:J03-U01 RAS KERNEL INFO generating core.32299\n",
      "\n",
      "- 1122576289 2005.07.28 R20-M1-NE-C:J10-U11 2005-07-28-11.44.49.076878 R20-M1-NE-C:J10-U11 RAS KERNEL INFO generating core.541\n",
      "\n",
      "- 1122576920 2005.07.28 R22-M1-NE-C:J06-U01 2005-07-28-11.55.20.816884 R22-M1-NE-C:J06-U01 RAS KERNEL INFO generating core.910\n",
      "\n",
      "- 1133968972 2005.12.07 R55-M0-N9-C:J06-U11 2005-12-07-07.22.52.803730 R55-M0-N9-C:J06-U11 RAS KERNEL INFO 1 torus receiver y+ input pipe error(s) (dcr 0x02ee) detected and corrected over 473 seconds\n",
      "\n",
      "- 1125224014 2005.08.28 R47-M0-N5-C:J03-U11 2005-08-28-03.13.34.577177 R47-M0-N5-C:J03-U11 RAS KERNEL INFO iar 0014a150 dear 00990f68\n",
      "\n",
      "- 1118770890 2005.06.14 R27-M1-N8-C:J07-U01 2005-06-14-10.41.30.531989 R27-M1-N8-C:J07-U01 RAS KERNEL FATAL external input interrupt enable...0\n",
      "\n",
      "- 1131061415 2005.11.03 R60-M1-N3-C:J14-U11 2005-11-03-15.43.35.575077 R60-M1-N3-C:J14-U11 RAS KERNEL INFO 2354412 floating point alignment exceptions\n",
      "\n",
      "- 1125222290 2005.08.28 R47-M1-N5-C:J02-U11 2005-08-28-02.44.50.433562 R47-M1-N5-C:J02-U11 RAS KERNEL INFO 37322392 double-hummer alignment exceptions\n",
      "\n",
      "- 1122576569 2005.07.28 R23-M0-N9-C:J06-U11 2005-07-28-11.49.29.751036 R23-M0-N9-C:J06-U11 RAS KERNEL INFO generating core.12186\n",
      "\n",
      "- 1118081747 2005.06.06 R02-M1-N0-C:J12-U11 2005-06-06-11.15.47.831394 R02-M1-N0-C:J12-U11 RAS KERNEL INFO instruction cache parity error corrected\n",
      "\n",
      "- 1120917333 2005.07.09 R14-M1-NB-C:J12-U11 2005-07-09-06.55.33.248723 R14-M1-NB-C:J12-U11 RAS KERNEL INFO generating core.9289\n",
      "\n",
      "KERNRTSP 1118773019 2005.06.14 R27-M1-NF-C:J17-U11 2005-06-14-11.16.59.843889 R27-M1-NF-C:J17-U11 RAS KERNEL FATAL rts panic! - stopping execution\n",
      "\n",
      "- 1124131899 2005.08.15 R67-M0-N8-I:J18-U11 2005-08-15-11.51.39.344410 R67-M0-N8-I:J18-U11 RAS KERNEL INFO ciod: Missing or invalid fields on line 1 of node map file /home/auselton/bgl/mapfiles/bgl.128mps.f64.map\n",
      "\n",
      "- 1117990889 2005.06.05 R37-M0-N1-C:J02-U11 2005-06-05-10.01.29.255182 R37-M0-N1-C:J02-U11 RAS KERNEL INFO generating core.4011\n",
      "\n",
      "- 1123110917 2005.08.03 NULL 2005-08-03-16.15.17.890766 NULL RAS MMCS ERROR idoproxydb hit ASSERT condition: ASSERT expression=0 Source file=idotransportmgr.cpp Source line=1043 Function=int IdoTransportMgr::SendPacket(IdoUdpMgr*, BglCtlPavTrace*)\n",
      "\n",
      "- 1120969299 2005.07.09 R36-M1-N6-C:J05-U01 2005-07-09-21.21.39.700304 R36-M1-N6-C:J05-U01 RAS KERNEL INFO generating core.29031\n",
      "\n",
      "- 1127243188 2005.09.20 NULL 2005-09-20-12.06.28.460529 NULL RAS MMCS ERROR idoproxydb hit ASSERT condition: ASSERT expression=0 Source file=idotransportmgr.cpp Source line=1043 Function=int IdoTransportMgr::SendPacket(IdoUdpMgr*, BglCtlPavTrace*)\n",
      "\n",
      "- 1133454585 2005.12.01 R15-M0-N1-C:J14-U01 2005-12-01-08.29.45.088581 R15-M0-N1-C:J14-U01 RAS KERNEL INFO 10748 total interrupts. 0 critical input interrupts. 0 microseconds total spent on critical input interrupts, 0 microseconds max time in a critical input interrupt.\n",
      "\n",
      "- 1132068119 2005.11.15 R06-M1-N6-C:J15-U01 2005-11-15-07.21.59.393987 R06-M1-N6-C:J15-U01 RAS KERNEL INFO 1 torus receiver y+ input pipe error(s) (dcr 0x02ee) detected and corrected over 16 seconds\n",
      "\n",
      "KERNSTOR 1118768016 2005.06.14 R05-M1-NA-C:J04-U11 2005-06-14-09.53.36.203856 R05-M1-NA-C:J04-U11 RAS KERNEL FATAL data storage interrupt\n",
      "\n",
      "- 1121784348 2005.07.19 R25-M1-N0-C:J12-U11 2005-07-19-07.45.48.316826 R25-M1-N0-C:J12-U11 RAS KERNEL INFO CE sym 21, at 0x05ded220, mask 0x20\n",
      "\n",
      "- 1131583055 2005.11.09 R63-M0-N0-C:J06-U11 2005-11-09-16.37.35.536842 R63-M0-N0-C:J06-U11 RAS KERNEL INFO\n",
      "\n",
      "- 1120974008 2005.07.09 R01-M1-ND-C:J08-U11 2005-07-09-22.40.08.060019 R01-M1-ND-C:J08-U11 RAS KERNEL INFO generating core.2314\n",
      "\n",
      "- 1133455483 2005.12.01 R47-M0-NB-C:J02-U01 2005-12-01-08.44.43.455255 R47-M0-NB-C:J02-U01 RAS KERNEL INFO 0 microseconds spent in the rbs signal handler during 0 calls. 0 microseconds was the maximum time for a single instance of a correctable ddr.\n",
      "\n",
      "- 1131408215 2005.11.07 R63-M0-N9-C:J13-U11 2005-11-07-16.03.35.188202 R63-M0-N9-C:J13-U11 RAS KERNEL INFO iar 00105ffc dear 0244c95c\n",
      "\n",
      "- 1120487364 2005.07.04 R30-M0-N3-C:J08-U11 2005-07-04-07.29.24.223875 R30-M0-N3-C:J08-U11 RAS KERNEL INFO generating core.2130\n",
      "\n",
      "- 1120240937 2005.07.01 R26-M0-N6 2005-07-01-11.02.17.360357 R26-M0-N6 NULL DISCOVERY SEVERE Can not get assembly information for node card\n",
      "\n",
      "- 1133454905 2005.12.01 R54-M0-NF-C:J11-U01 2005-12-01-08.35.05.418624 R54-M0-NF-C:J11-U01 RAS KERNEL INFO 0 microseconds spent in the rbs signal handler during 0 calls. 0 microseconds was the maximum time for a single instance of a correctable ddr.\n",
      "\n",
      "- 1131058196 2005.11.03 R64-M0-N1-C:J11-U01 2005-11-03-14.49.56.549357 R64-M0-N1-C:J11-U01 RAS KERNEL INFO iar 001061dc dear 0244c25c\n",
      "\n",
      "- 1125084390 2005.08.26 R66-M0-N7-C:J02-U01 2005-08-26-12.26.30.812421 R66-M0-N7-C:J02-U01 RAS KERNEL INFO iar 003a9260 dear 0129a0e8\n",
      "\n",
      "- 1131064662 2005.11.03 R26-M0-NE-C:J12-U01 2005-11-03-16.37.42.964098 R26-M0-NE-C:J12-U01 RAS KERNEL INFO 2354412 floating point alignment exceptions\n",
      "\n",
      "KERNDTLB 1118557614 2005.06.11 R30-M0-N9-C:J16-U01 2005-06-11-23.26.54.064012 R30-M0-N9-C:J16-U01 RAS KERNEL FATAL data TLB error interrupt\n",
      "\n",
      "- 1117985773 2005.06.05 R16-M1-NC-C:J11-U11 2005-06-05-08.36.13.364536 R16-M1-NC-C:J11-U11 RAS KERNEL INFO generating core.925\n",
      "\n",
      "- 1120092117 2005.06.29 R27-M0-NC-C:J06-U01 2005-06-29-17.41.57.831698 R27-M0-NC-C:J06-U01 RAS KERNEL INFO generating core.32009\n",
      "\n",
      "- 1131060833 2005.11.03 R67-M0-NF-C:J12-U01 2005-11-03-15.33.53.314063 R67-M0-NF-C:J12-U01 RAS KERNEL INFO\n",
      "\n",
      "- 1120928388 2005.07.09 R32-M1-N8-C:J03-U01 2005-07-09-09.59.48.183373 R32-M1-N8-C:J03-U01 RAS KERNEL INFO generating core.16295\n",
      "\n",
      "- 1118178695 2005.06.07 R25-M0-N2-C:J08-U01 2005-06-07-14.11.35.976522 R25-M0-N2-C:J08-U01 RAS KERNEL INFO generating core.6758\n",
      "\n"
     ]
    }
   ],
   "source": [
    "# check few lines randomly to understand the pattern\n",
    "random_indexs = random.sample(range(len(bglraw)), k=100)\n",
    "for i in  random_indexs:\n",
    "    print(bglraw[i])"
   ]
  },
  {
   "cell_type": "code",
   "execution_count": 4,
   "id": "c86add7b",
   "metadata": {},
   "outputs": [
    {
     "data": {
      "text/plain": [
       "'INFO'"
      ]
     },
     "execution_count": 4,
     "metadata": {},
     "output_type": "execute_result"
    }
   ],
   "source": [
    "l = bglraw[0].split()\n",
    "l[8]"
   ]
  },
  {
   "cell_type": "code",
   "execution_count": 5,
   "id": "a875da77",
   "metadata": {},
   "outputs": [],
   "source": [
    "# alert_list = re.findall(r's\\\\')"
   ]
  },
  {
   "cell_type": "code",
   "execution_count": 6,
   "id": "a594e7e6",
   "metadata": {},
   "outputs": [],
   "source": [
    "# Documentation for this log suggests the label is amenable to the alert/severtiy information\n",
    "# alert/severtiy  appears in the following two patterns:\n",
    "# 1. after 'RAS KERNEL '  \n",
    "# 2. it is also the 9th word from the left if we split the sentence by white space "
   ]
  },
  {
   "cell_type": "code",
   "execution_count": 7,
   "id": "b295b9a0",
   "metadata": {},
   "outputs": [
    {
     "name": "stdout",
     "output_type": "stream",
     "text": [
      "4747963\n"
     ]
    }
   ],
   "source": [
    "# get all the alerts in the list. total number of alerts should match with the \n",
    "#  total number of loglines\n",
    "alerts =  [l.split()[8] for l in bglraw]\n",
    "print(len(alerts))"
   ]
  },
  {
   "cell_type": "code",
   "execution_count": 8,
   "id": "9533620f",
   "metadata": {},
   "outputs": [
    {
     "name": "stdout",
     "output_type": "stream",
     "text": [
      "unique_alerts: {'Kill', 'microseconds', 'INFO', 'FATAL', '0x00544eb8,', 'ERROR', 'SEVERE', 'FAILURE', 'single', 'WARNING'}\n"
     ]
    }
   ],
   "source": [
    "unique_alerts = set(alerts)\n",
    "print(f'unique_alerts: {unique_alerts}')"
   ]
  },
  {
   "cell_type": "code",
   "execution_count": 9,
   "id": "54df0414",
   "metadata": {},
   "outputs": [],
   "source": [
    "negative_alerts = ['FATAL', 'SEVERE', 'WARNING', 'Kill', 'FAILURE', 'ERROR']"
   ]
  },
  {
   "cell_type": "code",
   "execution_count": 10,
   "id": "f7da1b5d",
   "metadata": {},
   "outputs": [
    {
     "name": "stdout",
     "output_type": "stream",
     "text": [
      "148373\n",
      "148374\n"
     ]
    }
   ],
   "source": [
    "sequence_len = 32\n",
    "print(len(bglraw) // sequence_len)\n",
    "print((len(bglraw) + sequence_len - 1) // sequence_len)"
   ]
  },
  {
   "cell_type": "code",
   "execution_count": 11,
   "id": "2c3eab8a",
   "metadata": {},
   "outputs": [
    {
     "name": "stdout",
     "output_type": "stream",
     "text": [
      "2\n",
      "3\n",
      "range(0, 2)\n",
      "range(0, 3)\n",
      "[[1, 2, 3, 4], [5, 6, 7, 8]]\n",
      "[[1, 2, 3, 4], [5, 6, 7, 8], [9, 10]]\n"
     ]
    }
   ],
   "source": [
    "mylist = [1, 2, 3, 4, 5, 6, 7, 8, 9, 10]\n",
    "window = 4\n",
    "s1 = len(mylist)//window\n",
    "s2 = (len(mylist)+window-1)//window\n",
    "print(s1)\n",
    "print(s2)\n",
    "print(range(s1))\n",
    "print(range(s2))\n",
    "print([mylist[i*window:(i+1)*window] for i in range(s1)])\n",
    "print([mylist[i*window:(i+1)*window] for i in range(s2)])"
   ]
  },
  {
   "cell_type": "code",
   "execution_count": 12,
   "id": "c58c8609",
   "metadata": {},
   "outputs": [
    {
     "name": "stdout",
     "output_type": "stream",
     "text": [
      "148373\n"
     ]
    }
   ],
   "source": [
    "sequences = [bglraw[i * sequence_len:(i + 1) * sequence_len] for i in range((len(bglraw)) // sequence_len )] \n",
    "print(len(sequences))"
   ]
  },
  {
   "cell_type": "code",
   "execution_count": 13,
   "id": "ca679965",
   "metadata": {},
   "outputs": [],
   "source": [
    "# sequences[0]"
   ]
  },
  {
   "cell_type": "code",
   "execution_count": 14,
   "id": "adccb92f",
   "metadata": {},
   "outputs": [],
   "source": [
    "txt = '- 1117838575 2005.06.03 R02-M1-N0-C:J12-U11 2005-06-03-15.42.55.114809 R02-M1-N0-C:J12-U11 RAS KERNEL INFO instruction cache parity error corrected\\n'"
   ]
  },
  {
   "cell_type": "code",
   "execution_count": 15,
   "id": "18575d30",
   "metadata": {},
   "outputs": [
    {
     "name": "stdout",
     "output_type": "stream",
     "text": [
      "true\n"
     ]
    }
   ],
   "source": [
    "if 'INFO' in txt: print('true')"
   ]
  },
  {
   "cell_type": "code",
   "execution_count": 16,
   "id": "a3aaa81c",
   "metadata": {},
   "outputs": [],
   "source": [
    "# labelled_seq = [(s, 'INFO') for s in seq for seq in sequences if 'INFO' in s]\n",
    "# labelled_seq"
   ]
  },
  {
   "cell_type": "code",
   "execution_count": 17,
   "id": "9da2e584",
   "metadata": {},
   "outputs": [
    {
     "name": "stdout",
     "output_type": "stream",
     "text": [
      "elapsed time: 3.3191516399383545\n"
     ]
    }
   ],
   "source": [
    "import time\n",
    "stime = time.time()\n",
    "labelled_sequences = []\n",
    "for seq in sequences:    \n",
    "    label = 'INFO'\n",
    "    for s in seq:\n",
    "        if s.split()[8] in negative_alerts:\n",
    "            label = s.split()[8]\n",
    "    labelled_sequences.append((seq, label))          \n",
    "etime = time.time()\n",
    "print(f'elapsed time: {etime - stime}')"
   ]
  },
  {
   "cell_type": "code",
   "execution_count": 18,
   "id": "3569220d",
   "metadata": {},
   "outputs": [
    {
     "data": {
      "text/html": [
       "<div>\n",
       "<style scoped>\n",
       "    .dataframe tbody tr th:only-of-type {\n",
       "        vertical-align: middle;\n",
       "    }\n",
       "\n",
       "    .dataframe tbody tr th {\n",
       "        vertical-align: top;\n",
       "    }\n",
       "\n",
       "    .dataframe thead th {\n",
       "        text-align: right;\n",
       "    }\n",
       "</style>\n",
       "<table border=\"1\" class=\"dataframe\">\n",
       "  <thead>\n",
       "    <tr style=\"text-align: right;\">\n",
       "      <th></th>\n",
       "      <th>sequence</th>\n",
       "      <th>label</th>\n",
       "    </tr>\n",
       "  </thead>\n",
       "  <tbody>\n",
       "    <tr>\n",
       "      <th>0</th>\n",
       "      <td>[- 1117838570 2005.06.03 R02-M1-N0-C:J12-U11 2...</td>\n",
       "      <td>INFO</td>\n",
       "    </tr>\n",
       "    <tr>\n",
       "      <th>1</th>\n",
       "      <td>[- 1117838575 2005.06.03 R02-M1-N0-C:J12-U11 2...</td>\n",
       "      <td>INFO</td>\n",
       "    </tr>\n",
       "    <tr>\n",
       "      <th>2</th>\n",
       "      <td>[- 1117838580 2005.06.03 R02-M1-N0-C:J12-U11 2...</td>\n",
       "      <td>INFO</td>\n",
       "    </tr>\n",
       "    <tr>\n",
       "      <th>3</th>\n",
       "      <td>[- 1117838584 2005.06.03 R02-M1-N0-C:J12-U11 2...</td>\n",
       "      <td>INFO</td>\n",
       "    </tr>\n",
       "    <tr>\n",
       "      <th>4</th>\n",
       "      <td>[- 1117838597 2005.06.03 R02-M1-N0-C:J12-U11 2...</td>\n",
       "      <td>INFO</td>\n",
       "    </tr>\n",
       "  </tbody>\n",
       "</table>\n",
       "</div>"
      ],
      "text/plain": [
       "                                            sequence label\n",
       "0  [- 1117838570 2005.06.03 R02-M1-N0-C:J12-U11 2...  INFO\n",
       "1  [- 1117838575 2005.06.03 R02-M1-N0-C:J12-U11 2...  INFO\n",
       "2  [- 1117838580 2005.06.03 R02-M1-N0-C:J12-U11 2...  INFO\n",
       "3  [- 1117838584 2005.06.03 R02-M1-N0-C:J12-U11 2...  INFO\n",
       "4  [- 1117838597 2005.06.03 R02-M1-N0-C:J12-U11 2...  INFO"
      ]
     },
     "execution_count": 18,
     "metadata": {},
     "output_type": "execute_result"
    }
   ],
   "source": [
    "df = pd.DataFrame(labelled_sequences, columns=['sequence', 'label'])\n",
    "df.head()"
   ]
  },
  {
   "cell_type": "code",
   "execution_count": 19,
   "id": "fb2da090",
   "metadata": {},
   "outputs": [
    {
     "data": {
      "text/html": [
       "<div>\n",
       "<style scoped>\n",
       "    .dataframe tbody tr th:only-of-type {\n",
       "        vertical-align: middle;\n",
       "    }\n",
       "\n",
       "    .dataframe tbody tr th {\n",
       "        vertical-align: top;\n",
       "    }\n",
       "\n",
       "    .dataframe thead th {\n",
       "        text-align: right;\n",
       "    }\n",
       "</style>\n",
       "<table border=\"1\" class=\"dataframe\">\n",
       "  <thead>\n",
       "    <tr style=\"text-align: right;\">\n",
       "      <th></th>\n",
       "      <th>sequence</th>\n",
       "      <th>label</th>\n",
       "    </tr>\n",
       "  </thead>\n",
       "  <tbody>\n",
       "    <tr>\n",
       "      <th>155</th>\n",
       "      <td>[- 1117840351 2005.06.03 R16-M1-N2-C:J17-U01 2...</td>\n",
       "      <td>FATAL</td>\n",
       "    </tr>\n",
       "    <tr>\n",
       "      <th>156</th>\n",
       "      <td>[- 1117840660 2005.06.03 R26-M0-N4-I:J18-U01 2...</td>\n",
       "      <td>FATAL</td>\n",
       "    </tr>\n",
       "    <tr>\n",
       "      <th>157</th>\n",
       "      <td>[- 1117840730 2005.06.03 R22-M0-N4-I:J18-U01 2...</td>\n",
       "      <td>FATAL</td>\n",
       "    </tr>\n",
       "    <tr>\n",
       "      <th>460</th>\n",
       "      <td>[- 1117865192 2005.06.03 R12-M1-N3-C:J11-U11 2...</td>\n",
       "      <td>FATAL</td>\n",
       "    </tr>\n",
       "    <tr>\n",
       "      <th>461</th>\n",
       "      <td>[APPREAD 1117869873 2005.06.04 R36-M1-NC-I:J18...</td>\n",
       "      <td>FATAL</td>\n",
       "    </tr>\n",
       "  </tbody>\n",
       "</table>\n",
       "</div>"
      ],
      "text/plain": [
       "                                              sequence  label\n",
       "155  [- 1117840351 2005.06.03 R16-M1-N2-C:J17-U01 2...  FATAL\n",
       "156  [- 1117840660 2005.06.03 R26-M0-N4-I:J18-U01 2...  FATAL\n",
       "157  [- 1117840730 2005.06.03 R22-M0-N4-I:J18-U01 2...  FATAL\n",
       "460  [- 1117865192 2005.06.03 R12-M1-N3-C:J11-U11 2...  FATAL\n",
       "461  [APPREAD 1117869873 2005.06.04 R36-M1-NC-I:J18...  FATAL"
      ]
     },
     "execution_count": 19,
     "metadata": {},
     "output_type": "execute_result"
    }
   ],
   "source": [
    "posdf = df[df.label !='INFO']\n",
    "posdf.head()"
   ]
  },
  {
   "cell_type": "code",
   "execution_count": 20,
   "id": "8f8b3695",
   "metadata": {},
   "outputs": [
    {
     "data": {
      "text/plain": [
       "INFO       114115\n",
       "FATAL       28439\n",
       "ERROR        4049\n",
       "WARNING       902\n",
       "SEVERE        628\n",
       "Kill          165\n",
       "FAILURE        75\n",
       "Name: label, dtype: int64"
      ]
     },
     "execution_count": 20,
     "metadata": {},
     "output_type": "execute_result"
    }
   ],
   "source": [
    "df.label.value_counts()"
   ]
  },
  {
   "cell_type": "code",
   "execution_count": 21,
   "id": "24a2a83d",
   "metadata": {},
   "outputs": [
    {
     "data": {
      "text/plain": [
       "['- 1117840351 2005.06.03 R16-M1-N2-C:J17-U01 2005-06-03-16.12.31.760384 R16-M1-N2-C:J17-U01 RAS KERNEL INFO CE sym 2, at 0x1b85f480, mask 0x08\\n',\n",
       " '- 1117840352 2005.06.03 R16-M1-N2-C:J17-U01 2005-06-03-16.12.32.025800 R16-M1-N2-C:J17-U01 RAS KERNEL INFO CE sym 2, at 0x1b85f680, mask 0x02\\n',\n",
       " '- 1117840352 2005.06.03 R16-M1-N2-C:J17-U01 2005-06-03-16.12.32.239534 R16-M1-N2-C:J17-U01 RAS KERNEL INFO CE sym 2, at 0x1b85f8a0, mask 0x01\\n',\n",
       " '- 1117840352 2005.06.03 R16-M1-N2-C:J17-U01 2005-06-03-16.12.32.427686 R16-M1-N2-C:J17-U01 RAS KERNEL INFO CE sym 2, at 0x1b85fa80, mask 0x04\\n',\n",
       " '- 1117840352 2005.06.03 R16-M1-N2-C:J17-U01 2005-06-03-16.12.32.585331 R16-M1-N2-C:J17-U01 RAS KERNEL INFO CE sym 2, at 0x1b85fc80, mask 0x03\\n',\n",
       " '- 1117840352 2005.06.03 R16-M1-N2-C:J17-U01 2005-06-03-16.12.32.854857 R16-M1-N2-C:J17-U01 RAS KERNEL INFO CE sym 2, at 0x1b85fe80, mask 0x02\\n',\n",
       " '- 1117840353 2005.06.03 R16-M1-N2-C:J17-U01 2005-06-03-16.12.33.029069 R16-M1-N2-C:J17-U01 RAS KERNEL INFO CE sym 0, at 0x1b8580e0, mask 0xb0\\n',\n",
       " '- 1117840353 2005.06.03 R16-M1-N2-C:J17-U01 2005-06-03-16.12.33.224356 R16-M1-N2-C:J17-U01 RAS KERNEL INFO CE sym 0, at 0x1b858280, mask 0x60\\n',\n",
       " '- 1117840353 2005.06.03 R16-M1-N2-C:J17-U01 2005-06-03-16.12.33.408266 R16-M1-N2-C:J17-U01 RAS KERNEL INFO CE sym 0, at 0x1b8584e0, mask 0x80\\n',\n",
       " '- 1117840353 2005.06.03 R16-M1-N2-C:J17-U01 2005-06-03-16.12.33.578755 R16-M1-N2-C:J17-U01 RAS KERNEL INFO CE sym 0, at 0x1b858680, mask 0x20\\n',\n",
       " '- 1117840353 2005.06.03 R16-M1-N2-C:J17-U01 2005-06-03-16.12.33.806258 R16-M1-N2-C:J17-U01 RAS KERNEL INFO CE sym 0, at 0x1b858ca0, mask 0x60\\n',\n",
       " '- 1117840354 2005.06.03 R16-M1-N2-C:J17-U01 2005-06-03-16.12.34.026289 R16-M1-N2-C:J17-U01 RAS KERNEL INFO CE sym 0, at 0x1b858ec0, mask 0x50\\n',\n",
       " '- 1117840354 2005.06.03 R16-M1-N2-C:J17-U01 2005-06-03-16.12.34.184412 R16-M1-N2-C:J17-U01 RAS KERNEL INFO CE sym 0, at 0x1b859080, mask 0x20\\n',\n",
       " '- 1117840354 2005.06.03 R16-M1-N2-C:J17-U01 2005-06-03-16.12.34.384043 R16-M1-N2-C:J17-U01 RAS KERNEL INFO CE sym 2, at 0x1b85ea80, mask 0x02\\n',\n",
       " '- 1117840354 2005.06.03 R16-M1-N2-C:J17-U01 2005-06-03-16.12.34.557453 R16-M1-N2-C:J17-U01 RAS KERNEL INFO CE sym 2, at 0x1b85ecc0, mask 0x01\\n',\n",
       " '- 1117840354 2005.06.03 R16-M1-N2-C:J17-U01 2005-06-03-16.12.34.727476 R16-M1-N2-C:J17-U01 RAS KERNEL INFO CE sym 2, at 0x1b85f0e0, mask 0x02\\n',\n",
       " '- 1117840354 2005.06.03 R16-M1-N2-C:J17-U01 2005-06-03-16.12.34.898036 R16-M1-N2-C:J17-U01 RAS KERNEL INFO CE sym 2, at 0x1b85f2c0, mask 0x02\\n',\n",
       " '- 1117840355 2005.06.03 R16-M1-N2-C:J17-U01 2005-06-03-16.12.35.089658 R16-M1-N2-C:J17-U01 RAS KERNEL INFO CE sym 2, at 0x1b85f480, mask 0x08\\n',\n",
       " '- 1117840355 2005.06.03 R16-M1-N2-C:J17-U01 2005-06-03-16.12.35.342233 R16-M1-N2-C:J17-U01 RAS KERNEL INFO CE sym 2, at 0x1b85f680, mask 0x02\\n',\n",
       " '- 1117840355 2005.06.03 R16-M1-N2-C:J17-U01 2005-06-03-16.12.35.561572 R16-M1-N2-C:J17-U01 RAS KERNEL INFO CE sym 2, at 0x1b85fa80, mask 0x04\\n',\n",
       " '- 1117840355 2005.06.03 R16-M1-N2-C:J17-U01 2005-06-03-16.12.35.710226 R16-M1-N2-C:J17-U01 RAS KERNEL INFO CE sym 2, at 0x1b85fc80, mask 0x03\\n',\n",
       " '- 1117840355 2005.06.03 R16-M1-N2-C:J17-U01 2005-06-03-16.12.35.912433 R16-M1-N2-C:J17-U01 RAS KERNEL INFO CE sym 2, at 0x1b85fe80, mask 0x02\\n',\n",
       " '- 1117840356 2005.06.03 R16-M1-N2-C:J17-U01 2005-06-03-16.12.36.079052 R16-M1-N2-C:J17-U01 RAS KERNEL INFO total of 31 ddr error(s) detected and corrected\\n',\n",
       " '- 1117840586 2005.06.03 R22-M0-NB-C:J12-U01 2005-06-03-16.16.26.300513 R22-M0-NB-C:J12-U01 RAS KERNEL INFO generating core.257\\n',\n",
       " '- 1117840586 2005.06.03 R22-M0-N9-C:J12-U01 2005-06-03-16.16.26.320765 R22-M0-N9-C:J12-U01 RAS KERNEL INFO generating core.385\\n',\n",
       " '- 1117840586 2005.06.03 R22-M0-NF-C:J10-U01 2005-06-03-16.16.26.862154 R22-M0-NF-C:J10-U01 RAS KERNEL INFO generating core.65\\n',\n",
       " '- 1117840586 2005.06.03 R22-M0-NF-C:J12-U01 2005-06-03-16.16.26.880599 R22-M0-NF-C:J12-U01 RAS KERNEL INFO generating core.1\\n',\n",
       " '- 1117840660 2005.06.03 R26-M0-NC-I:J18-U11 2005-06-03-16.17.40.190183 R26-M0-NC-I:J18-U11 RAS APP FATAL ciod: Error loading /p/gb2/stella/RAPTOR/65641/raptor: invalid or missing program image, No such file or directory\\n',\n",
       " '- 1117840660 2005.06.03 R26-M0-NC-I:J18-U01 2005-06-03-16.17.40.232813 R26-M0-NC-I:J18-U01 RAS APP FATAL ciod: Error loading /p/gb2/stella/RAPTOR/65641/raptor: invalid or missing program image, No such file or directory\\n',\n",
       " '- 1117840660 2005.06.03 R26-M0-N8-I:J18-U11 2005-06-03-16.17.40.258467 R26-M0-N8-I:J18-U11 RAS APP FATAL ciod: Error loading /p/gb2/stella/RAPTOR/65641/raptor: invalid or missing program image, No such file or directory\\n',\n",
       " '- 1117840660 2005.06.03 R26-M0-N8-I:J18-U01 2005-06-03-16.17.40.284192 R26-M0-N8-I:J18-U01 RAS APP FATAL ciod: Error loading /p/gb2/stella/RAPTOR/65641/raptor: invalid or missing program image, No such file or directory\\n',\n",
       " '- 1117840660 2005.06.03 R26-M0-N4-I:J18-U11 2005-06-03-16.17.40.306656 R26-M0-N4-I:J18-U11 RAS APP FATAL ciod: Error loading /p/gb2/stella/RAPTOR/65641/raptor: invalid or missing program image, No such file or directory\\n']"
      ]
     },
     "execution_count": 21,
     "metadata": {},
     "output_type": "execute_result"
    }
   ],
   "source": [
    "fataldf = df[df.label=='FATAL']\n",
    "fataldf.sequence.values[0]"
   ]
  },
  {
   "cell_type": "code",
   "execution_count": 22,
   "id": "a86849f3",
   "metadata": {},
   "outputs": [
    {
     "data": {
      "text/plain": [
       "['KERNSTOR 1118767800 2005.06.14 R00-M1-N1-C:J07-U11 2005-06-14-09.50.00.377103 R00-M1-N1-C:J07-U11 RAS KERNEL FATAL data storage interrupt\\n',\n",
       " 'KERNSTOR 1118767800 2005.06.14 R00-M1-N1-C:J15-U01 2005-06-14-09.50.00.415246 R00-M1-N1-C:J15-U01 RAS KERNEL FATAL data storage interrupt\\n',\n",
       " 'KERNSTOR 1118767800 2005.06.14 R00-M1-N1-C:J17-U01 2005-06-14-09.50.00.442039 R00-M1-N1-C:J17-U01 RAS KERNEL FATAL data storage interrupt\\n',\n",
       " 'KERNSTOR 1118767800 2005.06.14 R00-M1-N1-C:J11-U01 2005-06-14-09.50.00.469806 R00-M1-N1-C:J11-U01 RAS KERNEL FATAL data storage interrupt\\n',\n",
       " 'KERNSTOR 1118767800 2005.06.14 R00-M1-N1-C:J07-U01 2005-06-14-09.50.00.497117 R00-M1-N1-C:J07-U01 RAS KERNEL FATAL data storage interrupt\\n',\n",
       " 'KERNSTOR 1118767800 2005.06.14 R00-M1-N1-C:J13-U01 2005-06-14-09.50.00.524050 R00-M1-N1-C:J13-U01 RAS KERNEL FATAL data storage interrupt\\n',\n",
       " 'KERNSTOR 1118767800 2005.06.14 R00-M1-N1-C:J09-U01 2005-06-14-09.50.00.551700 R00-M1-N1-C:J09-U01 RAS KERNEL FATAL data storage interrupt\\n',\n",
       " 'KERNSTOR 1118767800 2005.06.14 R00-M1-N1-C:J16-U11 2005-06-14-09.50.00.578517 R00-M1-N1-C:J16-U11 RAS KERNEL FATAL data storage interrupt\\n',\n",
       " 'KERNSTOR 1118767800 2005.06.14 R00-M1-N1-C:J08-U11 2005-06-14-09.50.00.606160 R00-M1-N1-C:J08-U11 RAS KERNEL FATAL data storage interrupt\\n',\n",
       " 'KERNSTOR 1118767800 2005.06.14 R00-M1-N1-C:J14-U11 2005-06-14-09.50.00.632635 R00-M1-N1-C:J14-U11 RAS KERNEL FATAL data storage interrupt\\n',\n",
       " 'KERNSTOR 1118767800 2005.06.14 R00-M1-N1-C:J10-U11 2005-06-14-09.50.00.659164 R00-M1-N1-C:J10-U11 RAS KERNEL FATAL data storage interrupt\\n',\n",
       " 'KERNSTOR 1118767800 2005.06.14 R00-M1-N1-C:J06-U11 2005-06-14-09.50.00.692027 R00-M1-N1-C:J06-U11 RAS KERNEL FATAL data storage interrupt\\n',\n",
       " 'KERNSTOR 1118767800 2005.06.14 R00-M1-N1-C:J12-U11 2005-06-14-09.50.00.773273 R00-M1-N1-C:J12-U11 RAS KERNEL FATAL data storage interrupt\\n',\n",
       " 'KERNSTOR 1118767800 2005.06.14 R00-M1-N1-C:J14-U01 2005-06-14-09.50.00.801313 R00-M1-N1-C:J14-U01 RAS KERNEL FATAL data storage interrupt\\n',\n",
       " 'KERNSTOR 1118767800 2005.06.14 R00-M1-N1-C:J16-U01 2005-06-14-09.50.00.827969 R00-M1-N1-C:J16-U01 RAS KERNEL FATAL data storage interrupt\\n',\n",
       " 'KERNSTOR 1118767800 2005.06.14 R00-M1-N1-C:J10-U01 2005-06-14-09.50.00.854798 R00-M1-N1-C:J10-U01 RAS KERNEL FATAL data storage interrupt\\n',\n",
       " 'KERNSTOR 1118767800 2005.06.14 R00-M1-N1-C:J12-U01 2005-06-14-09.50.00.882556 R00-M1-N1-C:J12-U01 RAS KERNEL FATAL data storage interrupt\\n',\n",
       " 'KERNSTOR 1118767800 2005.06.14 R00-M1-N1-C:J08-U01 2005-06-14-09.50.00.926154 R00-M1-N1-C:J08-U01 RAS KERNEL FATAL data storage interrupt\\n',\n",
       " 'KERNSTOR 1118767800 2005.06.14 R00-M1-N1-C:J04-U01 2005-06-14-09.50.00.954566 R00-M1-N1-C:J04-U01 RAS KERNEL FATAL data storage interrupt\\n',\n",
       " 'KERNSTOR 1118767800 2005.06.14 R00-M1-N1-C:J06-U01 2005-06-14-09.50.00.983785 R00-M1-N1-C:J06-U01 RAS KERNEL FATAL data storage interrupt\\n',\n",
       " 'KERNSTOR 1118767801 2005.06.14 R00-M1-N1-C:J04-U11 2005-06-14-09.50.01.011054 R00-M1-N1-C:J04-U11 RAS KERNEL FATAL data storage interrupt\\n',\n",
       " 'KERNSTOR 1118767801 2005.06.14 R00-M1-N1-C:J02-U01 2005-06-14-09.50.01.046501 R00-M1-N1-C:J02-U01 RAS KERNEL FATAL data storage interrupt\\n',\n",
       " 'KERNSTOR 1118767801 2005.06.14 R00-M1-N1-C:J02-U11 2005-06-14-09.50.01.077484 R00-M1-N1-C:J02-U11 RAS KERNEL FATAL data storage interrupt\\n',\n",
       " 'KERNSTOR 1118767801 2005.06.14 R04-M1-N3-C:J09-U11 2005-06-14-09.50.01.106568 R04-M1-N3-C:J09-U11 RAS KERNEL FATAL data storage interrupt\\n',\n",
       " 'KERNSTOR 1118767801 2005.06.14 R04-M1-N3-C:J15-U11 2005-06-14-09.50.01.137084 R04-M1-N3-C:J15-U11 RAS KERNEL FATAL data storage interrupt\\n',\n",
       " 'KERNSTOR 1118767801 2005.06.14 R04-M1-N3-C:J11-U11 2005-06-14-09.50.01.164700 R04-M1-N3-C:J11-U11 RAS KERNEL FATAL data storage interrupt\\n',\n",
       " 'KERNSTOR 1118767801 2005.06.14 R04-M1-N3-C:J13-U11 2005-06-14-09.50.01.192285 R04-M1-N3-C:J13-U11 RAS KERNEL FATAL data storage interrupt\\n',\n",
       " 'KERNSTOR 1118767801 2005.06.14 R04-M1-N3-C:J17-U11 2005-06-14-09.50.01.226153 R04-M1-N3-C:J17-U11 RAS KERNEL FATAL data storage interrupt\\n',\n",
       " 'KERNSTOR 1118767801 2005.06.14 R04-M1-N3-C:J05-U01 2005-06-14-09.50.01.293251 R04-M1-N3-C:J05-U01 RAS KERNEL FATAL data storage interrupt\\n',\n",
       " 'KERNSTOR 1118767801 2005.06.14 R04-M1-N3-C:J03-U01 2005-06-14-09.50.01.322867 R04-M1-N3-C:J03-U01 RAS KERNEL FATAL data storage interrupt\\n',\n",
       " 'KERNSTOR 1118767801 2005.06.14 R04-M1-N3-C:J05-U11 2005-06-14-09.50.01.351026 R04-M1-N3-C:J05-U11 RAS KERNEL FATAL data storage interrupt\\n',\n",
       " 'KERNSTOR 1118767801 2005.06.14 R04-M1-N3-C:J03-U11 2005-06-14-09.50.01.378653 R04-M1-N3-C:J03-U11 RAS KERNEL FATAL data storage interrupt\\n']"
      ]
     },
     "execution_count": 22,
     "metadata": {},
     "output_type": "execute_result"
    }
   ],
   "source": [
    "# refresh the cell to randomly observer the nature of the fatal sequences\n",
    "fataldf.sequence.values[random.choice(range(len(fataldf.sequence.values)))]"
   ]
  },
  {
   "cell_type": "code",
   "execution_count": 23,
   "id": "39b42265",
   "metadata": {},
   "outputs": [],
   "source": [
    "manually_inspected = [\n",
    "'- 1127163126 2005.09.19 R13-M1-NC-I:J18-U11 2005-09-19-13.52.06.454320 R13-M1-NC-I:J18-U11 RAS APP FATAL ciod: LOGIN chdir(/home/yates/SWL_tests/BGL64k_SWL_tests_develop/MPI-VAL/MPITs_v050902/rundir) failed: No such file or directory\\n',\n",
    "\n",
    "'APPSEV 1128267264 2005.10.02 R44-M1-NC-I:J18-U01 2005-10-02-08.34.24.605295 R44-M1-NC-I:J18-U01 RAS APP FATAL ciod: Error reading message prefix after LOAD_MESSAGE on CioStream socket to 172.16.96.116:58852: Link has been severed\\n',\n",
    "'- 1125667837 2005.09.02 R75-M1-N4-I:J18-U11 2005-09-02-06.30.37.373188 R75-M1-N4-I:J18-U11 RAS APP FATAL ciod: LOGIN chdir(/bglscratch/bwallen/SWL/SYS-CALLS/testcases/kernel/syscalls/socket) failed: No such file or directory\\n',\n",
    "\n",
    "'KERNMNTF 1125690086 2005.09.02 R74-M1-NC-I:J18-U01 2005-09-02-12.41.26.373742 R74-M1-NC-I:J18-U01 RAS KERNEL FATAL Lustre mount FAILED : bglio976 : point /p/gb1\\n',\n",
    "\n",
    "'KERNDTLB 1118536077 2005.06.11 R30-M0-N9-C:J16-U01 2005-06-11-17.27.57.437325 R30-M0-N9-C:J16-U01 RAS KERNEL FATAL data TLB error interrupt\\n',\n",
    "'- 1123112513 2005.08.03 R46-M1-NB-C:J10-U01 2005-08-03-16.41.53.337151 R46-M1-NB-C:J10-U01 RAS KERNEL FATAL write buffer commit threshold............2\\n',\n",
    "\n",
    "'- 1118770143 2005.06.14 R27-M1-N7-C:J08-U01 2005-06-14-10.29.03.025649 R27-M1-N7-C:J08-U01 RAS KERNEL FATAL auxiliary processor.........................0\\n',]"
   ]
  },
  {
   "cell_type": "code",
   "execution_count": 24,
   "id": "1690513c",
   "metadata": {},
   "outputs": [],
   "source": [
    "# the message starts with '-', or 'APPSEV' or 'KERNMNTF' or 'KERNDTLB'\n",
    "# next timestamp\n",
    "# R13-M1-NC-I:J18-U11\n",
    "# 2005-09-19-13.52.06.454320 - another timestamp\n",
    "# R13-M1-NC-I:J18-U11\n",
    "# RAS\n",
    "# APP or KERNEL\n",
    "# Severtiy \n",
    "# actaul mesage\n",
    "# there is no relation between the severity/alert and the meta informations\n",
    "# the prominent relationship is visibile between severtiy and the message type\n",
    "# Hence we will remove the meta information except the severity and the message "
   ]
  },
  {
   "cell_type": "code",
   "execution_count": 25,
   "id": "83573702",
   "metadata": {},
   "outputs": [],
   "source": [
    "# {'UNK': 1, ' ': 2, 'e': 3, 'n': 4, 'r': 5, 'i': 6, 'o': 7, 't': 8, 'a': 9, 'l': 10, 'c': 11, '0': 12, 's': 13, \n",
    "#'f': 14, 'd': 15, 'g': 16, '.': 17, 'p': 18, 'm': 19, 'k': 20, '1': 21, 'u': 22, '4': 23, '2': 24, '6': 25, 'x': 26, '5': 27, '8': 28, \n",
    "#'3': 29, 'b': 30, 'h': 31, ':': 32, '7': 33, '9': 34, 'y': 35, '-': 36, 'v': 37, 'w': 38, '_': 39, '*': 40, 'j': 41, 'z': 42, '+': 43, 'q': 44, \n",
    "#'#': 45, '!': 46, '>': 47, '@': 48, '?': 49, '$': 50, \"'\": 51, '%': 52, '\\x0f': 53, 'ý': 54, 'ï': 55, 'ã': 56, '`': 57, 'ð': 58, '²': 59, 'ù': 60, '·': 61, \n",
    "#'\\x00': 62, '&': 63, '|': 64, '\\x10': 65, '}': 66, 'ç': 67, '\\x98': 68}\n",
    "# print(tk.word_index)"
   ]
  },
  {
   "cell_type": "code",
   "execution_count": 26,
   "id": "d1f7add5",
   "metadata": {},
   "outputs": [],
   "source": [
    "# {'UNK': 1, 'e': 2, 'n': 3, 'r': 4, 'i': 5, 'o': 6, 't': 7, 'a': 8, 'l': 9, 'c': 10, '0': 11, 's': 12, 'f': 13, 'd': 14, 'g': 15, \n",
    "#  'p': 16, 'm': 17, 'k': 18, '1': 19, 'u': 20, '4': 21, '2': 22, '6': 23, 'x': 24, '5': 25, '8': 26, '3': 27, 'b': 28, 'h': 29, ':': 30, \n",
    "#  '7': 31, '9': 32, 'y': 33, 'v': 34, 'w': 35, '_': 36, '*': 37, 'j': 38, 'z': 39, '+': 40, 'q': 41, '#': 42, '!': 43, '>': 44, '@': 45, \n",
    "#  '?': 46, '$': 47, \"'\": 48, '%': 49, '\\x0f': 50, 'ý': 51, 'ï': 52, 'ð': 53, '²': 54, 'ù': 55, '·': 56, '\\x00': 57, '&': 58, '|': 59, '\\x10': 60, '}': 61, 'ç': 62, '\\x98': 63}"
   ]
  },
  {
   "cell_type": "code",
   "execution_count": 27,
   "id": "f24e502f",
   "metadata": {},
   "outputs": [],
   "source": [
    "# {'UNK': 1, 'e': 2, 'n': 3, 'r': 4, 'i': 5, 'o': 6, 't': 7, 'a': 8, 'l': 9, 'c': 10, '0': 11, 's': 12, 'f': 13, 'd': 14, 'g': 15, 'p': 16,\n",
    "#'m': 17, 'k': 18, '1': 19, 'u': 20, '4': 21, '2': 22, '6': 23, 'x': 24, '5': 25, '8': 26, '3': 27, 'b': 28, 'h': 29, '7': 30, '9': 31, 'y': 32, 'v': 33, \n",
    "#'w': 34, 'j': 35, 'z': 36, '+': 37, 'q': 38, '!': 39, '>': 40, '?': 41, '$': 42, \"'\": 43, 'ý': 44, 'ð': 45, '²': 46, 'ù': 47, '·': 48, '|': 49, '}': 50, 'ç': 51}"
   ]
  },
  {
   "cell_type": "code",
   "execution_count": 28,
   "id": "c257c434",
   "metadata": {},
   "outputs": [
    {
     "name": "stdout",
     "output_type": "stream",
     "text": [
      "- 1127163126 2005.09.19 R13-M1-NC-I:J18-U11 2005-09-19-13.52.06.454320 R13-M1-NC-I:J18-U11 RAS APP FATAL ciod: LOGIN chdir(/home/yates/SWL_tests/BGL64k_SWL_tests_develop/MPI-VAL/MPITs_v050902/rundir) failed: No such file or directory\n",
      "\n",
      "APPFATALciodLOGINchdirhomeyatesSWLtestsBGL64kSWLtestsdevelopMPIVALMPITsv050902rundirfailedNosuchfileordirectory\n",
      "\n",
      "\n",
      "APPSEV 1128267264 2005.10.02 R44-M1-NC-I:J18-U01 2005-10-02-08.34.24.605295 R44-M1-NC-I:J18-U01 RAS APP FATAL ciod: Error reading message prefix after LOAD_MESSAGE on CioStream socket to 172.16.96.116:58852: Link has been severed\n",
      "\n",
      "APPFATALciodErrorreadingmessageprefixafterLOADMESSAGEonCioStreamsocketto172169611658852Linkhasbeensevered\n",
      "\n",
      "\n",
      "- 1125667837 2005.09.02 R75-M1-N4-I:J18-U11 2005-09-02-06.30.37.373188 R75-M1-N4-I:J18-U11 RAS APP FATAL ciod: LOGIN chdir(/bglscratch/bwallen/SWL/SYS-CALLS/testcases/kernel/syscalls/socket) failed: No such file or directory\n",
      "\n",
      "APPFATALciodLOGINchdirbglscratchbwallenSWLSYSCALLStestcaseskernelsyscallssocketfailedNosuchfileordirectory\n",
      "\n",
      "\n",
      "KERNMNTF 1125690086 2005.09.02 R74-M1-NC-I:J18-U01 2005-09-02-12.41.26.373742 R74-M1-NC-I:J18-U01 RAS KERNEL FATAL Lustre mount FAILED : bglio976 : point /p/gb1\n",
      "\n",
      "KERNELFATALLustremountFAILEDbglio976pointpgb1\n",
      "\n",
      "\n",
      "KERNDTLB 1118536077 2005.06.11 R30-M0-N9-C:J16-U01 2005-06-11-17.27.57.437325 R30-M0-N9-C:J16-U01 RAS KERNEL FATAL data TLB error interrupt\n",
      "\n",
      "KERNELFATALdataTLBerrorinterrupt\n",
      "\n",
      "\n",
      "- 1123112513 2005.08.03 R46-M1-NB-C:J10-U01 2005-08-03-16.41.53.337151 R46-M1-NB-C:J10-U01 RAS KERNEL FATAL write buffer commit threshold............2\n",
      "\n",
      "KERNELFATALwritebuffercommitthreshold2\n",
      "\n",
      "\n",
      "- 1118770143 2005.06.14 R27-M1-N7-C:J08-U01 2005-06-14-10.29.03.025649 R27-M1-N7-C:J08-U01 RAS KERNEL FATAL auxiliary processor.........................0\n",
      "\n",
      "KERNELFATALauxiliaryprocessor0\n",
      "\n",
      "\n"
     ]
    }
   ],
   "source": [
    "part_1 = '^-\\s|^\\w+\\s'\n",
    "part_2 = '\\d{10}\\s'\n",
    "time_1 = '\\d{4}\\.\\d{2}\\.\\d{2}\\s'\n",
    "part_4 = '\\w\\d{2}-\\w\\d-\\w{2}-\\w:\\w\\d{2}-\\w\\d{2}\\s'\n",
    "time_2 = '\\d{4}-\\d{2}-\\d{2}-\\d{2}\\.\\d{2}\\.\\d{2}\\.\\d{6}\\s'\n",
    "part_6 = 'RAS'\n",
    "part_7 = '[\\n]'\n",
    "signs_n_punctuations = '\\]|\\[|\\)|\\(|\\=|\\,|\\;|\\/|\\{|\\}[$]|[@]|[#]|[%]|[_]|[*]|[&]|[ï]|[ã]|[`]|[ð]|[-]|[\\x0f]|[\\x00]|[\\x10]|[\\x98]|[ç]|[:]|\\''\n",
    "white_space = '\\s'\n",
    "multiple_dots = '\\.+?'\n",
    "pat =f'{part_1}|{part_2}|{time_1}|{part_4}|{time_2}|{part_6}\\s|{part_7}|{signs_n_punctuations}|{white_space}|{multiple_dots}'\n",
    "\n",
    "    \n",
    "# pat =f'{part_1}|{part_2}|{time_1}|{part_4}|{time_2}|{part_6}\\s|{part_7}'\n",
    "\n",
    "for txt_line in manually_inspected:\n",
    "    s = re.sub(pat, '', txt_line)\n",
    "    print(txt_line)\n",
    "    print(s)\n",
    "    print()\n",
    "    print()"
   ]
  },
  {
   "cell_type": "code",
   "execution_count": 29,
   "id": "48fe41fd",
   "metadata": {},
   "outputs": [],
   "source": [
    "def clean_bgl(txt_line, clean_part_1=True, clean_part_2=True, clean_time_1=True, clean_part_4=True, clean_time_2=True, clean_part_6=True):\n",
    "    part_1 = ''\n",
    "    part_2 = ''\n",
    "    time_1 = ''\n",
    "    part_4 = ''\n",
    "    time_2 = ''\n",
    "    part_6 = ''\n",
    "    if clean_part_1:\n",
    "        part_1 = '^-\\s|^\\w+\\s'\n",
    "    if clean_part_2:\n",
    "        part_2 = '\\d{10}\\s'\n",
    "    if clean_time_1:\n",
    "        time_1 = '\\d{4}\\.\\d{2}\\.\\d{2}\\s'\n",
    "    if clean_part_4:\n",
    "        part_4 = '\\w\\d{2}-\\w\\d-\\w{2}-\\w:\\w\\d{2}-\\w\\d{2}\\s'\n",
    "    if clean_time_2:\n",
    "        time_2 = '\\d{4}-\\d{2}-\\d{2}-\\d{2}\\.\\d{2}\\.\\d{2}\\.\\d{6}\\s'\n",
    "    if clean_part_6:\n",
    "        part_6 = 'RAS'\n",
    "    part_7 = '[\\n]'\n",
    "    signs_n_punctuations = '\\]|\\[|\\)|\\(|\\=|\\,|\\;|\\/|\\{|\\}[$]|[@]|[#]|[%]|[_]|[*]|[&]|[ï]|[ã]|[`]|[ð]|[-]|[\\x0f]|[\\x00]|[\\x10]|[\\x98]|[ç]|[:]|\\''\n",
    "#     signs_n_punctuations = '\\]|\\[|\\)|\\(|\\=|\\,|\\;|\\/|\\{|\\}\\$\\@\\#\\%\\_\\*\\&\\|ï|ã|`|ð|\\-'\n",
    "#     signs_n_punctuations = '\\]|\\[|\\)|\\(|\\=|\\,|\\;|\\/|\\{|\\}[$]|[@]|[#]|[%]|[_]|[*]|[&]|[ï]|[ã]|`|ð|[-]|[\\x0f]|[\\x00]|[\\x10]|[\\x98]|[ç]|[:]'\n",
    "    white_space = '\\s'\n",
    "    multiple_dots = '\\.+?'\n",
    "    pat =f'{part_1}|{part_2}|{time_1}|{part_4}|{time_2}|{part_6}\\s|{part_7}|{signs_n_punctuations}|{white_space}|{multiple_dots}'\n",
    "#     signs_n_punctuations = '\\]|\\[|\\)|\\(|\\=|\\,|\\;|\\/'\n",
    "#     pat =f'{part_1}|{part_2}|{time_1}|{part_4}|{time_2}|{part_6}\\s|{part_7}|{signs_n_punctuations}'\n",
    "    s = re.sub(pat, '', txt_line)\n",
    "    return s"
   ]
  },
  {
   "cell_type": "code",
   "execution_count": 30,
   "id": "cf45c0ca",
   "metadata": {},
   "outputs": [],
   "source": [
    "# cleaned_sequences = [[clean_bgl(line)] for sequence, label in labelled_sequences for line in sequence ]"
   ]
  },
  {
   "cell_type": "code",
   "execution_count": 31,
   "id": "33e63577",
   "metadata": {},
   "outputs": [
    {
     "data": {
      "text/plain": [
       "(['kernelinfoinstructioncacheparityerrorcorrected',\n",
       "  'kernelinfoinstructioncacheparityerrorcorrected',\n",
       "  'kernelinfoinstructioncacheparityerrorcorrected',\n",
       "  'kernelinfoinstructioncacheparityerrorcorrected',\n",
       "  'kernelinfoinstructioncacheparityerrorcorrected',\n",
       "  'kernelinfoinstructioncacheparityerrorcorrected',\n",
       "  'kernelinfoinstructioncacheparityerrorcorrected',\n",
       "  'kernelinfoinstructioncacheparityerrorcorrected',\n",
       "  'kernelinfoinstructioncacheparityerrorcorrected',\n",
       "  'kernelinfoinstructioncacheparityerrorcorrected',\n",
       "  'kernelinfoinstructioncacheparityerrorcorrected',\n",
       "  'kernelinfoinstructioncacheparityerrorcorrected',\n",
       "  'kernelinfoinstructioncacheparityerrorcorrected',\n",
       "  'kernelinfoinstructioncacheparityerrorcorrected',\n",
       "  'kernelinfoinstructioncacheparityerrorcorrected',\n",
       "  'kernelinfoinstructioncacheparityerrorcorrected',\n",
       "  'kernelinfoinstructioncacheparityerrorcorrected',\n",
       "  'kernelinfoinstructioncacheparityerrorcorrected',\n",
       "  'kernelinfoinstructioncacheparityerrorcorrected',\n",
       "  'kernelinfoinstructioncacheparityerrorcorrected',\n",
       "  'kernelinfoinstructioncacheparityerrorcorrected',\n",
       "  'kernelinfoinstructioncacheparityerrorcorrected',\n",
       "  'kernelinfoinstructioncacheparityerrorcorrected',\n",
       "  'kernelinfoinstructioncacheparityerrorcorrected',\n",
       "  'kernelinfoinstructioncacheparityerrorcorrected',\n",
       "  'kernelinfoinstructioncacheparityerrorcorrected',\n",
       "  'kernelinfoinstructioncacheparityerrorcorrected',\n",
       "  'kernelinfoinstructioncacheparityerrorcorrected',\n",
       "  'kernelinfoinstructioncacheparityerrorcorrected',\n",
       "  'kernelinfoinstructioncacheparityerrorcorrected',\n",
       "  'kernelinfoinstructioncacheparityerrorcorrected',\n",
       "  'kernelinfoinstructioncacheparityerrorcorrected'],\n",
       " 'INFO')"
      ]
     },
     "execution_count": 31,
     "metadata": {},
     "output_type": "execute_result"
    }
   ],
   "source": [
    "cleaned_labelled_sequences = []\n",
    "for sequence, label in labelled_sequences:\n",
    "    cleaned_seq = []\n",
    "    for line in sequence:\n",
    "        cleaned_line = clean_bgl(line)\n",
    "        cleaned_line = cleaned_line.lower()\n",
    "        cleaned_seq.append(cleaned_line)\n",
    "    cleaned_labelled_sequences.append((cleaned_seq, label)) \n",
    "cleaned_labelled_sequences[0]"
   ]
  },
  {
   "cell_type": "code",
   "execution_count": null,
   "id": "6569c2c5",
   "metadata": {},
   "outputs": [],
   "source": []
  },
  {
   "cell_type": "code",
   "execution_count": 32,
   "id": "56e571c9",
   "metadata": {},
   "outputs": [],
   "source": [
    "# whole_text_for_training = []\n",
    "# for sequence, _ in cleaned_labelled_sequences:\n",
    "#     for line in sequence:\n",
    "#         whole_text_for_training.append(s)"
   ]
  },
  {
   "cell_type": "code",
   "execution_count": 33,
   "id": "76155c42",
   "metadata": {},
   "outputs": [
    {
     "data": {
      "text/plain": [
       "4747936"
      ]
     },
     "execution_count": 33,
     "metadata": {},
     "output_type": "execute_result"
    }
   ],
   "source": [
    "whole_text_for_training = [line for sequence, _ in cleaned_labelled_sequences for line in sequence]\n",
    "len(whole_text_for_training)"
   ]
  },
  {
   "cell_type": "code",
   "execution_count": null,
   "id": "8b20c1ba",
   "metadata": {},
   "outputs": [],
   "source": []
  },
  {
   "cell_type": "code",
   "execution_count": 34,
   "id": "a0271934",
   "metadata": {},
   "outputs": [
    {
     "name": "stdout",
     "output_type": "stream",
     "text": [
      "50\n",
      "{'UNK': 1, 'e': 2, 'n': 3, 'r': 4, 'i': 5, 'o': 6, 't': 7, 'a': 8, 'l': 9, 'c': 10, '0': 11, 's': 12, 'f': 13, 'd': 14, 'g': 15, 'p': 16, 'm': 17, 'k': 18, '1': 19, 'u': 20, '4': 21, '2': 22, '6': 23, 'x': 24, '5': 25, '8': 26, '3': 27, 'b': 28, 'h': 29, '7': 30, '9': 31, 'y': 32, 'v': 33, 'w': 34, 'j': 35, 'z': 36, '+': 37, 'q': 38, '!': 39, '>': 40, '?': 41, '$': 42, 'ý': 43, 'ð': 44, '²': 45, 'ù': 46, '·': 47, '|': 48, '}': 49, 'ç': 50}\n"
     ]
    }
   ],
   "source": [
    "tk = Tokenizer(num_words=None, char_level=True, oov_token='UNK')\n",
    "tk.fit_on_texts(whole_text_for_training)\n",
    "print(len(tk.word_index))\n",
    "print(tk.word_index)"
   ]
  },
  {
   "cell_type": "code",
   "execution_count": 35,
   "id": "c4e4e765",
   "metadata": {},
   "outputs": [],
   "source": [
    "padded_char_len=64\n",
    "padding_style='post'\n",
    "truncating='pre'\n",
    "line = cleaned_labelled_sequences[0][0][0]\n",
    "txt_2_num = tk.texts_to_sequences([line])\n",
    "padded_txt_to_num = pad_sequences(txt_2_num, maxlen=padded_char_len, \n",
    "                                              padding=padding_style, truncating=truncating)"
   ]
  },
  {
   "cell_type": "code",
   "execution_count": 36,
   "id": "47a41f01",
   "metadata": {},
   "outputs": [
    {
     "name": "stdout",
     "output_type": "stream",
     "text": [
      "kernelinfoinstructioncacheparityerrorcorrected\n",
      "[[18, 2, 4, 3, 2, 9, 5, 3, 13, 6, 5, 3, 12, 7, 4, 20, 10, 7, 5, 6, 3, 10, 8, 10, 29, 2, 16, 8, 4, 5, 7, 32, 2, 4, 4, 6, 4, 10, 6, 4, 4, 2, 10, 7, 2, 14]]\n",
      "['k e r n e l i n f o i n s t r u c t i o n c a c h e p a r i t y e r r o r c o r r e c t e d']\n",
      "[[18  2  4  3  2  9  5  3 13  6  5  3 12  7  4 20 10  7  5  6  3 10  8 10\n",
      "  29  2 16  8  4  5  7 32  2  4  4  6  4 10  6  4  4  2 10  7  2 14  0  0\n",
      "   0  0  0  0  0  0  0  0  0  0  0  0  0  0  0  0]]\n",
      "['k e r n e l i n f o i n s t r u c t i o n c a c h e p a r i t y e r r o r c o r r e c t e d UNK UNK UNK UNK UNK UNK UNK UNK UNK UNK UNK UNK UNK UNK UNK UNK UNK UNK']\n"
     ]
    }
   ],
   "source": [
    "print(line)\n",
    "print(txt_2_num)\n",
    "num_to_text = tk.sequences_to_texts(txt_2_num)\n",
    "print(num_to_text)\n",
    "print(padded_txt_to_num)\n",
    "print(tk.sequences_to_texts(padded_txt_to_num))"
   ]
  },
  {
   "cell_type": "code",
   "execution_count": 37,
   "id": "dbf83d28",
   "metadata": {},
   "outputs": [],
   "source": [
    "# cleaned_labelled_sequences[0]"
   ]
  },
  {
   "cell_type": "code",
   "execution_count": 38,
   "id": "f2590048",
   "metadata": {},
   "outputs": [
    {
     "data": {
      "text/plain": [
       "([array([18,  2,  4,  3,  2,  9,  5,  3, 13,  6,  5,  3, 12,  7,  4, 20, 10,\n",
       "          7,  5,  6,  3, 10,  8, 10, 29,  2, 16,  8,  4,  5,  7, 32,  2,  4,\n",
       "          4,  6,  4, 10,  6,  4,  4,  2, 10,  7,  2, 14,  0,  0,  0,  0,  0,\n",
       "          0,  0,  0,  0,  0,  0,  0,  0,  0,  0,  0,  0,  0]),\n",
       "  array([18,  2,  4,  3,  2,  9,  5,  3, 13,  6,  5,  3, 12,  7,  4, 20, 10,\n",
       "          7,  5,  6,  3, 10,  8, 10, 29,  2, 16,  8,  4,  5,  7, 32,  2,  4,\n",
       "          4,  6,  4, 10,  6,  4,  4,  2, 10,  7,  2, 14,  0,  0,  0,  0,  0,\n",
       "          0,  0,  0,  0,  0,  0,  0,  0,  0,  0,  0,  0,  0]),\n",
       "  array([18,  2,  4,  3,  2,  9,  5,  3, 13,  6,  5,  3, 12,  7,  4, 20, 10,\n",
       "          7,  5,  6,  3, 10,  8, 10, 29,  2, 16,  8,  4,  5,  7, 32,  2,  4,\n",
       "          4,  6,  4, 10,  6,  4,  4,  2, 10,  7,  2, 14,  0,  0,  0,  0,  0,\n",
       "          0,  0,  0,  0,  0,  0,  0,  0,  0,  0,  0,  0,  0]),\n",
       "  array([18,  2,  4,  3,  2,  9,  5,  3, 13,  6,  5,  3, 12,  7,  4, 20, 10,\n",
       "          7,  5,  6,  3, 10,  8, 10, 29,  2, 16,  8,  4,  5,  7, 32,  2,  4,\n",
       "          4,  6,  4, 10,  6,  4,  4,  2, 10,  7,  2, 14,  0,  0,  0,  0,  0,\n",
       "          0,  0,  0,  0,  0,  0,  0,  0,  0,  0,  0,  0,  0]),\n",
       "  array([18,  2,  4,  3,  2,  9,  5,  3, 13,  6,  5,  3, 12,  7,  4, 20, 10,\n",
       "          7,  5,  6,  3, 10,  8, 10, 29,  2, 16,  8,  4,  5,  7, 32,  2,  4,\n",
       "          4,  6,  4, 10,  6,  4,  4,  2, 10,  7,  2, 14,  0,  0,  0,  0,  0,\n",
       "          0,  0,  0,  0,  0,  0,  0,  0,  0,  0,  0,  0,  0]),\n",
       "  array([18,  2,  4,  3,  2,  9,  5,  3, 13,  6,  5,  3, 12,  7,  4, 20, 10,\n",
       "          7,  5,  6,  3, 10,  8, 10, 29,  2, 16,  8,  4,  5,  7, 32,  2,  4,\n",
       "          4,  6,  4, 10,  6,  4,  4,  2, 10,  7,  2, 14,  0,  0,  0,  0,  0,\n",
       "          0,  0,  0,  0,  0,  0,  0,  0,  0,  0,  0,  0,  0]),\n",
       "  array([18,  2,  4,  3,  2,  9,  5,  3, 13,  6,  5,  3, 12,  7,  4, 20, 10,\n",
       "          7,  5,  6,  3, 10,  8, 10, 29,  2, 16,  8,  4,  5,  7, 32,  2,  4,\n",
       "          4,  6,  4, 10,  6,  4,  4,  2, 10,  7,  2, 14,  0,  0,  0,  0,  0,\n",
       "          0,  0,  0,  0,  0,  0,  0,  0,  0,  0,  0,  0,  0]),\n",
       "  array([18,  2,  4,  3,  2,  9,  5,  3, 13,  6,  5,  3, 12,  7,  4, 20, 10,\n",
       "          7,  5,  6,  3, 10,  8, 10, 29,  2, 16,  8,  4,  5,  7, 32,  2,  4,\n",
       "          4,  6,  4, 10,  6,  4,  4,  2, 10,  7,  2, 14,  0,  0,  0,  0,  0,\n",
       "          0,  0,  0,  0,  0,  0,  0,  0,  0,  0,  0,  0,  0]),\n",
       "  array([18,  2,  4,  3,  2,  9,  5,  3, 13,  6,  5,  3, 12,  7,  4, 20, 10,\n",
       "          7,  5,  6,  3, 10,  8, 10, 29,  2, 16,  8,  4,  5,  7, 32,  2,  4,\n",
       "          4,  6,  4, 10,  6,  4,  4,  2, 10,  7,  2, 14,  0,  0,  0,  0,  0,\n",
       "          0,  0,  0,  0,  0,  0,  0,  0,  0,  0,  0,  0,  0]),\n",
       "  array([18,  2,  4,  3,  2,  9,  5,  3, 13,  6,  5,  3, 12,  7,  4, 20, 10,\n",
       "          7,  5,  6,  3, 10,  8, 10, 29,  2, 16,  8,  4,  5,  7, 32,  2,  4,\n",
       "          4,  6,  4, 10,  6,  4,  4,  2, 10,  7,  2, 14,  0,  0,  0,  0,  0,\n",
       "          0,  0,  0,  0,  0,  0,  0,  0,  0,  0,  0,  0,  0]),\n",
       "  array([18,  2,  4,  3,  2,  9,  5,  3, 13,  6,  5,  3, 12,  7,  4, 20, 10,\n",
       "          7,  5,  6,  3, 10,  8, 10, 29,  2, 16,  8,  4,  5,  7, 32,  2,  4,\n",
       "          4,  6,  4, 10,  6,  4,  4,  2, 10,  7,  2, 14,  0,  0,  0,  0,  0,\n",
       "          0,  0,  0,  0,  0,  0,  0,  0,  0,  0,  0,  0,  0]),\n",
       "  array([18,  2,  4,  3,  2,  9,  5,  3, 13,  6,  5,  3, 12,  7,  4, 20, 10,\n",
       "          7,  5,  6,  3, 10,  8, 10, 29,  2, 16,  8,  4,  5,  7, 32,  2,  4,\n",
       "          4,  6,  4, 10,  6,  4,  4,  2, 10,  7,  2, 14,  0,  0,  0,  0,  0,\n",
       "          0,  0,  0,  0,  0,  0,  0,  0,  0,  0,  0,  0,  0]),\n",
       "  array([18,  2,  4,  3,  2,  9,  5,  3, 13,  6,  5,  3, 12,  7,  4, 20, 10,\n",
       "          7,  5,  6,  3, 10,  8, 10, 29,  2, 16,  8,  4,  5,  7, 32,  2,  4,\n",
       "          4,  6,  4, 10,  6,  4,  4,  2, 10,  7,  2, 14,  0,  0,  0,  0,  0,\n",
       "          0,  0,  0,  0,  0,  0,  0,  0,  0,  0,  0,  0,  0]),\n",
       "  array([18,  2,  4,  3,  2,  9,  5,  3, 13,  6,  5,  3, 12,  7,  4, 20, 10,\n",
       "          7,  5,  6,  3, 10,  8, 10, 29,  2, 16,  8,  4,  5,  7, 32,  2,  4,\n",
       "          4,  6,  4, 10,  6,  4,  4,  2, 10,  7,  2, 14,  0,  0,  0,  0,  0,\n",
       "          0,  0,  0,  0,  0,  0,  0,  0,  0,  0,  0,  0,  0]),\n",
       "  array([18,  2,  4,  3,  2,  9,  5,  3, 13,  6,  5,  3, 12,  7,  4, 20, 10,\n",
       "          7,  5,  6,  3, 10,  8, 10, 29,  2, 16,  8,  4,  5,  7, 32,  2,  4,\n",
       "          4,  6,  4, 10,  6,  4,  4,  2, 10,  7,  2, 14,  0,  0,  0,  0,  0,\n",
       "          0,  0,  0,  0,  0,  0,  0,  0,  0,  0,  0,  0,  0]),\n",
       "  array([18,  2,  4,  3,  2,  9,  5,  3, 13,  6,  5,  3, 12,  7,  4, 20, 10,\n",
       "          7,  5,  6,  3, 10,  8, 10, 29,  2, 16,  8,  4,  5,  7, 32,  2,  4,\n",
       "          4,  6,  4, 10,  6,  4,  4,  2, 10,  7,  2, 14,  0,  0,  0,  0,  0,\n",
       "          0,  0,  0,  0,  0,  0,  0,  0,  0,  0,  0,  0,  0]),\n",
       "  array([18,  2,  4,  3,  2,  9,  5,  3, 13,  6,  5,  3, 12,  7,  4, 20, 10,\n",
       "          7,  5,  6,  3, 10,  8, 10, 29,  2, 16,  8,  4,  5,  7, 32,  2,  4,\n",
       "          4,  6,  4, 10,  6,  4,  4,  2, 10,  7,  2, 14,  0,  0,  0,  0,  0,\n",
       "          0,  0,  0,  0,  0,  0,  0,  0,  0,  0,  0,  0,  0]),\n",
       "  array([18,  2,  4,  3,  2,  9,  5,  3, 13,  6,  5,  3, 12,  7,  4, 20, 10,\n",
       "          7,  5,  6,  3, 10,  8, 10, 29,  2, 16,  8,  4,  5,  7, 32,  2,  4,\n",
       "          4,  6,  4, 10,  6,  4,  4,  2, 10,  7,  2, 14,  0,  0,  0,  0,  0,\n",
       "          0,  0,  0,  0,  0,  0,  0,  0,  0,  0,  0,  0,  0]),\n",
       "  array([18,  2,  4,  3,  2,  9,  5,  3, 13,  6,  5,  3, 12,  7,  4, 20, 10,\n",
       "          7,  5,  6,  3, 10,  8, 10, 29,  2, 16,  8,  4,  5,  7, 32,  2,  4,\n",
       "          4,  6,  4, 10,  6,  4,  4,  2, 10,  7,  2, 14,  0,  0,  0,  0,  0,\n",
       "          0,  0,  0,  0,  0,  0,  0,  0,  0,  0,  0,  0,  0]),\n",
       "  array([18,  2,  4,  3,  2,  9,  5,  3, 13,  6,  5,  3, 12,  7,  4, 20, 10,\n",
       "          7,  5,  6,  3, 10,  8, 10, 29,  2, 16,  8,  4,  5,  7, 32,  2,  4,\n",
       "          4,  6,  4, 10,  6,  4,  4,  2, 10,  7,  2, 14,  0,  0,  0,  0,  0,\n",
       "          0,  0,  0,  0,  0,  0,  0,  0,  0,  0,  0,  0,  0]),\n",
       "  array([18,  2,  4,  3,  2,  9,  5,  3, 13,  6,  5,  3, 12,  7,  4, 20, 10,\n",
       "          7,  5,  6,  3, 10,  8, 10, 29,  2, 16,  8,  4,  5,  7, 32,  2,  4,\n",
       "          4,  6,  4, 10,  6,  4,  4,  2, 10,  7,  2, 14,  0,  0,  0,  0,  0,\n",
       "          0,  0,  0,  0,  0,  0,  0,  0,  0,  0,  0,  0,  0]),\n",
       "  array([18,  2,  4,  3,  2,  9,  5,  3, 13,  6,  5,  3, 12,  7,  4, 20, 10,\n",
       "          7,  5,  6,  3, 10,  8, 10, 29,  2, 16,  8,  4,  5,  7, 32,  2,  4,\n",
       "          4,  6,  4, 10,  6,  4,  4,  2, 10,  7,  2, 14,  0,  0,  0,  0,  0,\n",
       "          0,  0,  0,  0,  0,  0,  0,  0,  0,  0,  0,  0,  0]),\n",
       "  array([18,  2,  4,  3,  2,  9,  5,  3, 13,  6,  5,  3, 12,  7,  4, 20, 10,\n",
       "          7,  5,  6,  3, 10,  8, 10, 29,  2, 16,  8,  4,  5,  7, 32,  2,  4,\n",
       "          4,  6,  4, 10,  6,  4,  4,  2, 10,  7,  2, 14,  0,  0,  0,  0,  0,\n",
       "          0,  0,  0,  0,  0,  0,  0,  0,  0,  0,  0,  0,  0]),\n",
       "  array([18,  2,  4,  3,  2,  9,  5,  3, 13,  6,  5,  3, 12,  7,  4, 20, 10,\n",
       "          7,  5,  6,  3, 10,  8, 10, 29,  2, 16,  8,  4,  5,  7, 32,  2,  4,\n",
       "          4,  6,  4, 10,  6,  4,  4,  2, 10,  7,  2, 14,  0,  0,  0,  0,  0,\n",
       "          0,  0,  0,  0,  0,  0,  0,  0,  0,  0,  0,  0,  0]),\n",
       "  array([18,  2,  4,  3,  2,  9,  5,  3, 13,  6,  5,  3, 12,  7,  4, 20, 10,\n",
       "          7,  5,  6,  3, 10,  8, 10, 29,  2, 16,  8,  4,  5,  7, 32,  2,  4,\n",
       "          4,  6,  4, 10,  6,  4,  4,  2, 10,  7,  2, 14,  0,  0,  0,  0,  0,\n",
       "          0,  0,  0,  0,  0,  0,  0,  0,  0,  0,  0,  0,  0]),\n",
       "  array([18,  2,  4,  3,  2,  9,  5,  3, 13,  6,  5,  3, 12,  7,  4, 20, 10,\n",
       "          7,  5,  6,  3, 10,  8, 10, 29,  2, 16,  8,  4,  5,  7, 32,  2,  4,\n",
       "          4,  6,  4, 10,  6,  4,  4,  2, 10,  7,  2, 14,  0,  0,  0,  0,  0,\n",
       "          0,  0,  0,  0,  0,  0,  0,  0,  0,  0,  0,  0,  0]),\n",
       "  array([18,  2,  4,  3,  2,  9,  5,  3, 13,  6,  5,  3, 12,  7,  4, 20, 10,\n",
       "          7,  5,  6,  3, 10,  8, 10, 29,  2, 16,  8,  4,  5,  7, 32,  2,  4,\n",
       "          4,  6,  4, 10,  6,  4,  4,  2, 10,  7,  2, 14,  0,  0,  0,  0,  0,\n",
       "          0,  0,  0,  0,  0,  0,  0,  0,  0,  0,  0,  0,  0]),\n",
       "  array([18,  2,  4,  3,  2,  9,  5,  3, 13,  6,  5,  3, 12,  7,  4, 20, 10,\n",
       "          7,  5,  6,  3, 10,  8, 10, 29,  2, 16,  8,  4,  5,  7, 32,  2,  4,\n",
       "          4,  6,  4, 10,  6,  4,  4,  2, 10,  7,  2, 14,  0,  0,  0,  0,  0,\n",
       "          0,  0,  0,  0,  0,  0,  0,  0,  0,  0,  0,  0,  0]),\n",
       "  array([18,  2,  4,  3,  2,  9,  5,  3, 13,  6,  5,  3, 12,  7,  4, 20, 10,\n",
       "          7,  5,  6,  3, 10,  8, 10, 29,  2, 16,  8,  4,  5,  7, 32,  2,  4,\n",
       "          4,  6,  4, 10,  6,  4,  4,  2, 10,  7,  2, 14,  0,  0,  0,  0,  0,\n",
       "          0,  0,  0,  0,  0,  0,  0,  0,  0,  0,  0,  0,  0]),\n",
       "  array([18,  2,  4,  3,  2,  9,  5,  3, 13,  6,  5,  3, 12,  7,  4, 20, 10,\n",
       "          7,  5,  6,  3, 10,  8, 10, 29,  2, 16,  8,  4,  5,  7, 32,  2,  4,\n",
       "          4,  6,  4, 10,  6,  4,  4,  2, 10,  7,  2, 14,  0,  0,  0,  0,  0,\n",
       "          0,  0,  0,  0,  0,  0,  0,  0,  0,  0,  0,  0,  0]),\n",
       "  array([18,  2,  4,  3,  2,  9,  5,  3, 13,  6,  5,  3, 12,  7,  4, 20, 10,\n",
       "          7,  5,  6,  3, 10,  8, 10, 29,  2, 16,  8,  4,  5,  7, 32,  2,  4,\n",
       "          4,  6,  4, 10,  6,  4,  4,  2, 10,  7,  2, 14,  0,  0,  0,  0,  0,\n",
       "          0,  0,  0,  0,  0,  0,  0,  0,  0,  0,  0,  0,  0]),\n",
       "  array([18,  2,  4,  3,  2,  9,  5,  3, 13,  6,  5,  3, 12,  7,  4, 20, 10,\n",
       "          7,  5,  6,  3, 10,  8, 10, 29,  2, 16,  8,  4,  5,  7, 32,  2,  4,\n",
       "          4,  6,  4, 10,  6,  4,  4,  2, 10,  7,  2, 14,  0,  0,  0,  0,  0,\n",
       "          0,  0,  0,  0,  0,  0,  0,  0,  0,  0,  0,  0,  0])],\n",
       " 'INFO')"
      ]
     },
     "execution_count": 38,
     "metadata": {},
     "output_type": "execute_result"
    }
   ],
   "source": [
    "num_sequences = []\n",
    "for seq, label in cleaned_labelled_sequences:\n",
    "    num_seq = []\n",
    "    for sline in seq:\n",
    "        try:        \n",
    "            num_line = tk.texts_to_sequences([sline])\n",
    "            padded_num_line = pad_sequences(num_line, maxlen=padded_char_len, \n",
    "                                                  padding=padding_style, truncating=truncating)\n",
    "            num_seq.append(padded_num_line[0])\n",
    "        except Exception as e:\n",
    "            print(e)\n",
    "            print('line:', sline)   \n",
    "            break\n",
    "    num_sequences.append((num_seq, label)) \n",
    "num_sequences[0]\n"
   ]
  },
  {
   "cell_type": "code",
   "execution_count": 45,
   "id": "cdcb8279",
   "metadata": {},
   "outputs": [
    {
     "data": {
      "text/plain": [
       "'INFO'"
      ]
     },
     "execution_count": 45,
     "metadata": {},
     "output_type": "execute_result"
    }
   ],
   "source": [
    "num_sequences[0][1]"
   ]
  },
  {
   "cell_type": "code",
   "execution_count": 46,
   "id": "35054b1e",
   "metadata": {},
   "outputs": [
    {
     "name": "stdout",
     "output_type": "stream",
     "text": [
      "['k e r n e l i n f o i n s t r u c t i o n c a c h e p a r i t y e r r o r c o r r e c t e d UNK UNK UNK UNK UNK UNK UNK UNK UNK UNK UNK UNK UNK UNK UNK UNK UNK UNK', 'k e r n e l i n f o i n s t r u c t i o n c a c h e p a r i t y e r r o r c o r r e c t e d UNK UNK UNK UNK UNK UNK UNK UNK UNK UNK UNK UNK UNK UNK UNK UNK UNK UNK', 'k e r n e l i n f o i n s t r u c t i o n c a c h e p a r i t y e r r o r c o r r e c t e d UNK UNK UNK UNK UNK UNK UNK UNK UNK UNK UNK UNK UNK UNK UNK UNK UNK UNK', 'k e r n e l i n f o i n s t r u c t i o n c a c h e p a r i t y e r r o r c o r r e c t e d UNK UNK UNK UNK UNK UNK UNK UNK UNK UNK UNK UNK UNK UNK UNK UNK UNK UNK', 'k e r n e l i n f o i n s t r u c t i o n c a c h e p a r i t y e r r o r c o r r e c t e d UNK UNK UNK UNK UNK UNK UNK UNK UNK UNK UNK UNK UNK UNK UNK UNK UNK UNK', 'k e r n e l i n f o i n s t r u c t i o n c a c h e p a r i t y e r r o r c o r r e c t e d UNK UNK UNK UNK UNK UNK UNK UNK UNK UNK UNK UNK UNK UNK UNK UNK UNK UNK', 'k e r n e l i n f o i n s t r u c t i o n c a c h e p a r i t y e r r o r c o r r e c t e d UNK UNK UNK UNK UNK UNK UNK UNK UNK UNK UNK UNK UNK UNK UNK UNK UNK UNK', 'k e r n e l i n f o i n s t r u c t i o n c a c h e p a r i t y e r r o r c o r r e c t e d UNK UNK UNK UNK UNK UNK UNK UNK UNK UNK UNK UNK UNK UNK UNK UNK UNK UNK', 'k e r n e l i n f o i n s t r u c t i o n c a c h e p a r i t y e r r o r c o r r e c t e d UNK UNK UNK UNK UNK UNK UNK UNK UNK UNK UNK UNK UNK UNK UNK UNK UNK UNK', 'k e r n e l i n f o i n s t r u c t i o n c a c h e p a r i t y e r r o r c o r r e c t e d UNK UNK UNK UNK UNK UNK UNK UNK UNK UNK UNK UNK UNK UNK UNK UNK UNK UNK', 'k e r n e l i n f o i n s t r u c t i o n c a c h e p a r i t y e r r o r c o r r e c t e d UNK UNK UNK UNK UNK UNK UNK UNK UNK UNK UNK UNK UNK UNK UNK UNK UNK UNK', 'k e r n e l i n f o i n s t r u c t i o n c a c h e p a r i t y e r r o r c o r r e c t e d UNK UNK UNK UNK UNK UNK UNK UNK UNK UNK UNK UNK UNK UNK UNK UNK UNK UNK', 'k e r n e l i n f o i n s t r u c t i o n c a c h e p a r i t y e r r o r c o r r e c t e d UNK UNK UNK UNK UNK UNK UNK UNK UNK UNK UNK UNK UNK UNK UNK UNK UNK UNK', 'k e r n e l i n f o i n s t r u c t i o n c a c h e p a r i t y e r r o r c o r r e c t e d UNK UNK UNK UNK UNK UNK UNK UNK UNK UNK UNK UNK UNK UNK UNK UNK UNK UNK', 'k e r n e l i n f o i n s t r u c t i o n c a c h e p a r i t y e r r o r c o r r e c t e d UNK UNK UNK UNK UNK UNK UNK UNK UNK UNK UNK UNK UNK UNK UNK UNK UNK UNK', 'k e r n e l i n f o i n s t r u c t i o n c a c h e p a r i t y e r r o r c o r r e c t e d UNK UNK UNK UNK UNK UNK UNK UNK UNK UNK UNK UNK UNK UNK UNK UNK UNK UNK', 'k e r n e l i n f o i n s t r u c t i o n c a c h e p a r i t y e r r o r c o r r e c t e d UNK UNK UNK UNK UNK UNK UNK UNK UNK UNK UNK UNK UNK UNK UNK UNK UNK UNK', 'k e r n e l i n f o i n s t r u c t i o n c a c h e p a r i t y e r r o r c o r r e c t e d UNK UNK UNK UNK UNK UNK UNK UNK UNK UNK UNK UNK UNK UNK UNK UNK UNK UNK', 'k e r n e l i n f o i n s t r u c t i o n c a c h e p a r i t y e r r o r c o r r e c t e d UNK UNK UNK UNK UNK UNK UNK UNK UNK UNK UNK UNK UNK UNK UNK UNK UNK UNK', 'k e r n e l i n f o i n s t r u c t i o n c a c h e p a r i t y e r r o r c o r r e c t e d UNK UNK UNK UNK UNK UNK UNK UNK UNK UNK UNK UNK UNK UNK UNK UNK UNK UNK', 'k e r n e l i n f o i n s t r u c t i o n c a c h e p a r i t y e r r o r c o r r e c t e d UNK UNK UNK UNK UNK UNK UNK UNK UNK UNK UNK UNK UNK UNK UNK UNK UNK UNK', 'k e r n e l i n f o i n s t r u c t i o n c a c h e p a r i t y e r r o r c o r r e c t e d UNK UNK UNK UNK UNK UNK UNK UNK UNK UNK UNK UNK UNK UNK UNK UNK UNK UNK', 'k e r n e l i n f o i n s t r u c t i o n c a c h e p a r i t y e r r o r c o r r e c t e d UNK UNK UNK UNK UNK UNK UNK UNK UNK UNK UNK UNK UNK UNK UNK UNK UNK UNK', 'k e r n e l i n f o i n s t r u c t i o n c a c h e p a r i t y e r r o r c o r r e c t e d UNK UNK UNK UNK UNK UNK UNK UNK UNK UNK UNK UNK UNK UNK UNK UNK UNK UNK', 'k e r n e l i n f o i n s t r u c t i o n c a c h e p a r i t y e r r o r c o r r e c t e d UNK UNK UNK UNK UNK UNK UNK UNK UNK UNK UNK UNK UNK UNK UNK UNK UNK UNK', 'k e r n e l i n f o i n s t r u c t i o n c a c h e p a r i t y e r r o r c o r r e c t e d UNK UNK UNK UNK UNK UNK UNK UNK UNK UNK UNK UNK UNK UNK UNK UNK UNK UNK', 'k e r n e l i n f o i n s t r u c t i o n c a c h e p a r i t y e r r o r c o r r e c t e d UNK UNK UNK UNK UNK UNK UNK UNK UNK UNK UNK UNK UNK UNK UNK UNK UNK UNK', 'k e r n e l i n f o i n s t r u c t i o n c a c h e p a r i t y e r r o r c o r r e c t e d UNK UNK UNK UNK UNK UNK UNK UNK UNK UNK UNK UNK UNK UNK UNK UNK UNK UNK', 'k e r n e l i n f o i n s t r u c t i o n c a c h e p a r i t y e r r o r c o r r e c t e d UNK UNK UNK UNK UNK UNK UNK UNK UNK UNK UNK UNK UNK UNK UNK UNK UNK UNK', 'k e r n e l i n f o i n s t r u c t i o n c a c h e p a r i t y e r r o r c o r r e c t e d UNK UNK UNK UNK UNK UNK UNK UNK UNK UNK UNK UNK UNK UNK UNK UNK UNK UNK', 'k e r n e l i n f o i n s t r u c t i o n c a c h e p a r i t y e r r o r c o r r e c t e d UNK UNK UNK UNK UNK UNK UNK UNK UNK UNK UNK UNK UNK UNK UNK UNK UNK UNK', 'k e r n e l i n f o i n s t r u c t i o n c a c h e p a r i t y e r r o r c o r r e c t e d UNK UNK UNK UNK UNK UNK UNK UNK UNK UNK UNK UNK UNK UNK UNK UNK UNK UNK']\n"
     ]
    }
   ],
   "source": [
    "print(tk.sequences_to_texts(num_sequences[0][0]))"
   ]
  },
  {
   "cell_type": "code",
   "execution_count": 47,
   "id": "02b04924",
   "metadata": {},
   "outputs": [
    {
     "name": "stdout",
     "output_type": "stream",
     "text": [
      "148373\n"
     ]
    }
   ],
   "source": [
    "print(len(num_sequences))"
   ]
  },
  {
   "cell_type": "code",
   "execution_count": 67,
   "id": "61bf15d2",
   "metadata": {},
   "outputs": [
    {
     "data": {
      "text/html": [
       "<div>\n",
       "<style scoped>\n",
       "    .dataframe tbody tr th:only-of-type {\n",
       "        vertical-align: middle;\n",
       "    }\n",
       "\n",
       "    .dataframe tbody tr th {\n",
       "        vertical-align: top;\n",
       "    }\n",
       "\n",
       "    .dataframe thead th {\n",
       "        text-align: right;\n",
       "    }\n",
       "</style>\n",
       "<table border=\"1\" class=\"dataframe\">\n",
       "  <thead>\n",
       "    <tr style=\"text-align: right;\">\n",
       "      <th></th>\n",
       "      <th>seq</th>\n",
       "      <th>label</th>\n",
       "    </tr>\n",
       "  </thead>\n",
       "  <tbody>\n",
       "    <tr>\n",
       "      <th>0</th>\n",
       "      <td>[[18, 2, 4, 3, 2, 9, 5, 3, 13, 6, 5, 3, 12, 7,...</td>\n",
       "      <td>INFO</td>\n",
       "    </tr>\n",
       "    <tr>\n",
       "      <th>1</th>\n",
       "      <td>[[18, 2, 4, 3, 2, 9, 5, 3, 13, 6, 5, 3, 12, 7,...</td>\n",
       "      <td>INFO</td>\n",
       "    </tr>\n",
       "    <tr>\n",
       "      <th>2</th>\n",
       "      <td>[[18, 2, 4, 3, 2, 9, 5, 3, 13, 6, 5, 3, 12, 7,...</td>\n",
       "      <td>INFO</td>\n",
       "    </tr>\n",
       "    <tr>\n",
       "      <th>3</th>\n",
       "      <td>[[18, 2, 4, 3, 2, 9, 5, 3, 13, 6, 5, 3, 12, 7,...</td>\n",
       "      <td>INFO</td>\n",
       "    </tr>\n",
       "    <tr>\n",
       "      <th>4</th>\n",
       "      <td>[[18, 2, 4, 3, 2, 9, 5, 3, 13, 6, 5, 3, 12, 7,...</td>\n",
       "      <td>INFO</td>\n",
       "    </tr>\n",
       "  </tbody>\n",
       "</table>\n",
       "</div>"
      ],
      "text/plain": [
       "                                                 seq label\n",
       "0  [[18, 2, 4, 3, 2, 9, 5, 3, 13, 6, 5, 3, 12, 7,...  INFO\n",
       "1  [[18, 2, 4, 3, 2, 9, 5, 3, 13, 6, 5, 3, 12, 7,...  INFO\n",
       "2  [[18, 2, 4, 3, 2, 9, 5, 3, 13, 6, 5, 3, 12, 7,...  INFO\n",
       "3  [[18, 2, 4, 3, 2, 9, 5, 3, 13, 6, 5, 3, 12, 7,...  INFO\n",
       "4  [[18, 2, 4, 3, 2, 9, 5, 3, 13, 6, 5, 3, 12, 7,...  INFO"
      ]
     },
     "execution_count": 67,
     "metadata": {},
     "output_type": "execute_result"
    }
   ],
   "source": [
    "numdf = pd.DataFrame(num_sequences, columns=['seq', 'label'])\n",
    "numdf.head()"
   ]
  },
  {
   "cell_type": "code",
   "execution_count": null,
   "id": "ee7b8b0c",
   "metadata": {},
   "outputs": [],
   "source": []
  },
  {
   "cell_type": "code",
   "execution_count": 68,
   "id": "ee7f7b1f",
   "metadata": {},
   "outputs": [
    {
     "data": {
      "text/plain": [
       "INFO       114115\n",
       "FATAL       28439\n",
       "ERROR        4049\n",
       "WARNING       902\n",
       "SEVERE        628\n",
       "Kill          165\n",
       "FAILURE        75\n",
       "Name: label, dtype: int64"
      ]
     },
     "execution_count": 68,
     "metadata": {},
     "output_type": "execute_result"
    }
   ],
   "source": [
    "numdf.label.value_counts()"
   ]
  },
  {
   "cell_type": "code",
   "execution_count": 155,
   "id": "a693ad06",
   "metadata": {},
   "outputs": [],
   "source": [
    "# numdf[\"label\"].replace({\"INFO\": \"NORMALBGL\", \"FATAL\": \"FATALBGL\", \"ERROR\": \"ERRORBGL\", \n",
    "#                      \"WARNING\": \"WARNINGBGL\", \"SEVERE\": \"SEVEREBGL\", \"Kill\": \"KillBGL\",\n",
    "#                     \"FAILURE\": \"FAILUREBGL\"}, inplace=True)\n",
    "numdf[\"label\"].replace({\"INFO\": \"0\", \"FATAL\": \"1\", \"ERROR\": \"2\", \n",
    "                     \"WARNING\": \"3\", \"SEVERE\": \"4\", \"Kill\": \"5\",\n",
    "                    \"FAILURE\": \"6\"}, inplace=True)\n",
    "numdf[\"label\"].replace({\"NORMALBGL\": \"0\", \"FATALBGL\": \"1\", \"ERRORBGL\": \"2\", \n",
    "                     \"WARNINGBGL\": \"3\", \"SEVEREBGL\": \"4\", \"KillBGL\": \"5\",\n",
    "                    \"FAILUREBGL\": \"6\"}, inplace=True)"
   ]
  },
  {
   "cell_type": "code",
   "execution_count": 156,
   "id": "498f9521",
   "metadata": {},
   "outputs": [
    {
     "data": {
      "text/plain": [
       "0    114115\n",
       "1     28439\n",
       "2      4049\n",
       "3       902\n",
       "4       628\n",
       "5       165\n",
       "6        75\n",
       "Name: label, dtype: int64"
      ]
     },
     "execution_count": 156,
     "metadata": {},
     "output_type": "execute_result"
    }
   ],
   "source": [
    "numdf.label.value_counts()"
   ]
  },
  {
   "cell_type": "code",
   "execution_count": 157,
   "id": "69b89f97",
   "metadata": {},
   "outputs": [
    {
     "data": {
      "text/html": [
       "<div>\n",
       "<style scoped>\n",
       "    .dataframe tbody tr th:only-of-type {\n",
       "        vertical-align: middle;\n",
       "    }\n",
       "\n",
       "    .dataframe tbody tr th {\n",
       "        vertical-align: top;\n",
       "    }\n",
       "\n",
       "    .dataframe thead th {\n",
       "        text-align: right;\n",
       "    }\n",
       "</style>\n",
       "<table border=\"1\" class=\"dataframe\">\n",
       "  <thead>\n",
       "    <tr style=\"text-align: right;\">\n",
       "      <th></th>\n",
       "      <th>seq</th>\n",
       "      <th>label</th>\n",
       "    </tr>\n",
       "  </thead>\n",
       "  <tbody>\n",
       "    <tr>\n",
       "      <th>0</th>\n",
       "      <td>[[18, 2, 4, 3, 2, 9, 5, 3, 13, 6, 5, 3, 12, 7,...</td>\n",
       "      <td>0</td>\n",
       "    </tr>\n",
       "    <tr>\n",
       "      <th>1</th>\n",
       "      <td>[[18, 2, 4, 3, 2, 9, 5, 3, 13, 6, 5, 3, 12, 7,...</td>\n",
       "      <td>0</td>\n",
       "    </tr>\n",
       "    <tr>\n",
       "      <th>2</th>\n",
       "      <td>[[18, 2, 4, 3, 2, 9, 5, 3, 13, 6, 5, 3, 12, 7,...</td>\n",
       "      <td>0</td>\n",
       "    </tr>\n",
       "    <tr>\n",
       "      <th>3</th>\n",
       "      <td>[[18, 2, 4, 3, 2, 9, 5, 3, 13, 6, 5, 3, 12, 7,...</td>\n",
       "      <td>0</td>\n",
       "    </tr>\n",
       "    <tr>\n",
       "      <th>4</th>\n",
       "      <td>[[18, 2, 4, 3, 2, 9, 5, 3, 13, 6, 5, 3, 12, 7,...</td>\n",
       "      <td>0</td>\n",
       "    </tr>\n",
       "  </tbody>\n",
       "</table>\n",
       "</div>"
      ],
      "text/plain": [
       "                                                 seq label\n",
       "0  [[18, 2, 4, 3, 2, 9, 5, 3, 13, 6, 5, 3, 12, 7,...     0\n",
       "1  [[18, 2, 4, 3, 2, 9, 5, 3, 13, 6, 5, 3, 12, 7,...     0\n",
       "2  [[18, 2, 4, 3, 2, 9, 5, 3, 13, 6, 5, 3, 12, 7,...     0\n",
       "3  [[18, 2, 4, 3, 2, 9, 5, 3, 13, 6, 5, 3, 12, 7,...     0\n",
       "4  [[18, 2, 4, 3, 2, 9, 5, 3, 13, 6, 5, 3, 12, 7,...     0"
      ]
     },
     "execution_count": 157,
     "metadata": {},
     "output_type": "execute_result"
    }
   ],
   "source": [
    "numdf.head()"
   ]
  },
  {
   "cell_type": "code",
   "execution_count": 158,
   "id": "43288125",
   "metadata": {},
   "outputs": [
    {
     "name": "stdout",
     "output_type": "stream",
     "text": [
      "train_0:, 3200\n",
      "test_0:, 800\n",
      "train_1:, 3200\n",
      "test_1:, 800\n",
      "train_2:, 3200\n",
      "test_2:, 800\n",
      "train_3:, 722\n",
      "test_3:, 180\n",
      "train_4:, 502\n",
      "test_4:, 126\n",
      "train_5:, 132\n",
      "test_5:, 33\n",
      "train_6:, 60\n",
      "test_6:, 15\n"
     ]
    }
   ],
   "source": [
    "def train_test_split_class(bgldf, ablation = 4000, train_test_ratio = 0.8, label='NORMALBGL'):\n",
    "    train_data=None\n",
    "    test_data=None\n",
    "    train_cnt = round(ablation * train_test_ratio)\n",
    "    test_cnt = round(ablation * (1 - train_test_ratio))\n",
    "\n",
    "    if train_cnt <= bgldf[bgldf.label==label].count()[0] :\n",
    "      train_data = bgldf[bgldf.label==label][0:train_cnt]\n",
    "    else:\n",
    "        print(f'{label} class does not have {train_cnt} records, it has only {bgldf[bgldf.label==label].count()[0]} records')\n",
    "    if test_cnt <= bgldf[bgldf.label==label].count()[0] :\n",
    "      test_data = bgldf[bgldf.label==label][train_cnt:ablation]\n",
    "    else:\n",
    "        print(f'{label} class does not have {test_cnt} records, it has only {bgldf[bgldf.label==label].count()[0]} records')\n",
    "    if train_data is not None:\n",
    "        print(f'train_{label}:, {train_data.count()[0]}')\n",
    "    if test_data is not None:\n",
    "        print(f'test_{label}:, {test_data.count()[0]}')\n",
    "    return train_data, test_data\n",
    "\n",
    "train_normal, test_normal = train_test_split_class(numdf, ablation = 4000, train_test_ratio = 0.8, label='0')\n",
    "train_fatal, test_fatal = train_test_split_class(numdf, ablation = 4000, train_test_ratio = 0.8, label='1')\n",
    "train_error, test_error = train_test_split_class(numdf, ablation = 4000, train_test_ratio = 0.8, label='2')\n",
    "train_warning, test_warning = train_test_split_class(numdf, ablation = 902, train_test_ratio = 0.8, label='3')\n",
    "train_severe, test_severe = train_test_split_class(numdf, ablation = 628, train_test_ratio = 0.8, label='4')\n",
    "train_kill, test_kill = train_test_split_class(numdf, ablation = 165, train_test_ratio = 0.8, label='5')\n",
    "train_failure, test_failure = train_test_split_class(numdf, ablation = 75, train_test_ratio = 0.8, label='6')"
   ]
  },
  {
   "cell_type": "code",
   "execution_count": 159,
   "id": "41c15076",
   "metadata": {},
   "outputs": [
    {
     "data": {
      "text/html": [
       "<div>\n",
       "<style scoped>\n",
       "    .dataframe tbody tr th:only-of-type {\n",
       "        vertical-align: middle;\n",
       "    }\n",
       "\n",
       "    .dataframe tbody tr th {\n",
       "        vertical-align: top;\n",
       "    }\n",
       "\n",
       "    .dataframe thead th {\n",
       "        text-align: right;\n",
       "    }\n",
       "</style>\n",
       "<table border=\"1\" class=\"dataframe\">\n",
       "  <thead>\n",
       "    <tr style=\"text-align: right;\">\n",
       "      <th></th>\n",
       "      <th>seq</th>\n",
       "      <th>label</th>\n",
       "    </tr>\n",
       "  </thead>\n",
       "  <tbody>\n",
       "    <tr>\n",
       "      <th>0</th>\n",
       "      <td>[[18, 2, 4, 3, 2, 9, 5, 3, 13, 6, 5, 3, 12, 7,...</td>\n",
       "      <td>0</td>\n",
       "    </tr>\n",
       "    <tr>\n",
       "      <th>1</th>\n",
       "      <td>[[18, 2, 4, 3, 2, 9, 5, 3, 13, 6, 5, 3, 12, 7,...</td>\n",
       "      <td>0</td>\n",
       "    </tr>\n",
       "    <tr>\n",
       "      <th>2</th>\n",
       "      <td>[[18, 2, 4, 3, 2, 9, 5, 3, 13, 6, 5, 3, 12, 7,...</td>\n",
       "      <td>0</td>\n",
       "    </tr>\n",
       "    <tr>\n",
       "      <th>3</th>\n",
       "      <td>[[18, 2, 4, 3, 2, 9, 5, 3, 13, 6, 5, 3, 12, 7,...</td>\n",
       "      <td>0</td>\n",
       "    </tr>\n",
       "    <tr>\n",
       "      <th>4</th>\n",
       "      <td>[[18, 2, 4, 3, 2, 9, 5, 3, 13, 6, 5, 3, 12, 7,...</td>\n",
       "      <td>0</td>\n",
       "    </tr>\n",
       "    <tr>\n",
       "      <th>...</th>\n",
       "      <td>...</td>\n",
       "      <td>...</td>\n",
       "    </tr>\n",
       "    <tr>\n",
       "      <th>107529</th>\n",
       "      <td>[[2, 19, 11, 21, 27, 13, 20, 3, 10, 7, 5, 6, 3...</td>\n",
       "      <td>2</td>\n",
       "    </tr>\n",
       "    <tr>\n",
       "      <th>107530</th>\n",
       "      <td>[[2, 19, 11, 21, 27, 13, 20, 3, 10, 7, 5, 6, 3...</td>\n",
       "      <td>2</td>\n",
       "    </tr>\n",
       "    <tr>\n",
       "      <th>107531</th>\n",
       "      <td>[[2, 19, 11, 21, 27, 13, 20, 3, 10, 7, 5, 6, 3...</td>\n",
       "      <td>2</td>\n",
       "    </tr>\n",
       "    <tr>\n",
       "      <th>107532</th>\n",
       "      <td>[[2, 19, 11, 21, 27, 13, 20, 3, 10, 7, 5, 6, 3...</td>\n",
       "      <td>2</td>\n",
       "    </tr>\n",
       "    <tr>\n",
       "      <th>107533</th>\n",
       "      <td>[[3, 20, 9, 9, 3, 20, 9, 9, 17, 17, 10, 12, 2,...</td>\n",
       "      <td>2</td>\n",
       "    </tr>\n",
       "  </tbody>\n",
       "</table>\n",
       "<p>6400 rows × 2 columns</p>\n",
       "</div>"
      ],
      "text/plain": [
       "                                                      seq label\n",
       "0       [[18, 2, 4, 3, 2, 9, 5, 3, 13, 6, 5, 3, 12, 7,...     0\n",
       "1       [[18, 2, 4, 3, 2, 9, 5, 3, 13, 6, 5, 3, 12, 7,...     0\n",
       "2       [[18, 2, 4, 3, 2, 9, 5, 3, 13, 6, 5, 3, 12, 7,...     0\n",
       "3       [[18, 2, 4, 3, 2, 9, 5, 3, 13, 6, 5, 3, 12, 7,...     0\n",
       "4       [[18, 2, 4, 3, 2, 9, 5, 3, 13, 6, 5, 3, 12, 7,...     0\n",
       "...                                                   ...   ...\n",
       "107529  [[2, 19, 11, 21, 27, 13, 20, 3, 10, 7, 5, 6, 3...     2\n",
       "107530  [[2, 19, 11, 21, 27, 13, 20, 3, 10, 7, 5, 6, 3...     2\n",
       "107531  [[2, 19, 11, 21, 27, 13, 20, 3, 10, 7, 5, 6, 3...     2\n",
       "107532  [[2, 19, 11, 21, 27, 13, 20, 3, 10, 7, 5, 6, 3...     2\n",
       "107533  [[3, 20, 9, 9, 3, 20, 9, 9, 17, 17, 10, 12, 2,...     2\n",
       "\n",
       "[6400 rows x 2 columns]"
      ]
     },
     "execution_count": 159,
     "metadata": {},
     "output_type": "execute_result"
    }
   ],
   "source": [
    "pd.concat([train_normal,train_error] )"
   ]
  },
  {
   "cell_type": "code",
   "execution_count": 162,
   "id": "a91242a0",
   "metadata": {},
   "outputs": [],
   "source": [
    "# classes = ['NORMALBGL', 'FATALBGL', 'ERRORBGL', 'WARNINGBGL','SEVEREBGL', 'KillBGL', 'FAILUREBGL', ] \n",
    "classes = ['0', '1', '2', '3','4', '5', '6', ] \n",
    "def train_test_multi_class(bgldf, ablation=4000, train_test_ratio=0.8, classes=classes):\n",
    "    train_data = []\n",
    "    test_data = []\n",
    "    for class_name in classes:\n",
    "            trdata, tsdata = train_test_split_class(bgldf, ablation=ablation, \n",
    "                                                    train_test_ratio=train_test_ratio, \n",
    "                                                    label=class_name)\n",
    "            if trdata is not None: train_data.append(trdata)\n",
    "            if tsdata is not None: test_data.append(tsdata)\n",
    "    \n",
    "    train_df = pd.concat(train_data)\n",
    "    test_df = pd.concat(test_data)\n",
    "    return train_df, test_df    "
   ]
  },
  {
   "cell_type": "code",
   "execution_count": 226,
   "id": "77db3d76",
   "metadata": {},
   "outputs": [
    {
     "name": "stdout",
     "output_type": "stream",
     "text": [
      "train_0:, 80\n",
      "test_0:, 20\n",
      "train_1:, 80\n",
      "test_1:, 20\n",
      "train_2:, 80\n",
      "test_2:, 20\n",
      "train_3:, 80\n",
      "test_3:, 20\n",
      "train_4:, 80\n",
      "test_4:, 20\n",
      "train_5:, 80\n",
      "test_5:, 20\n",
      "6 class does not have 80 records, it has only 75 records\n",
      "test_6:, 0\n"
     ]
    },
    {
     "data": {
      "text/plain": [
       "0    80\n",
       "1    80\n",
       "2    80\n",
       "3    80\n",
       "4    80\n",
       "5    80\n",
       "Name: label, dtype: int64"
      ]
     },
     "execution_count": 226,
     "metadata": {},
     "output_type": "execute_result"
    }
   ],
   "source": [
    "train_df, test_df = train_test_multi_class(numdf, ablation=100)\n",
    "train_df.label.value_counts()"
   ]
  },
  {
   "cell_type": "code",
   "execution_count": 227,
   "id": "fc1ddbe6",
   "metadata": {},
   "outputs": [
    {
     "name": "stdout",
     "output_type": "stream",
     "text": [
      "[[1. 0. 0. 0. 0. 0.]\n",
      " [1. 0. 0. 0. 0. 0.]]\n",
      "[[1. 0. 0. 0. 0. 0.]\n",
      " [1. 0. 0. 0. 0. 0.]]\n"
     ]
    }
   ],
   "source": [
    "x_train = list(train_df.seq.values)\n",
    "y_train = list(train_df.label.values)\n",
    "y_train = to_categorical(y_train)\n",
    "print(y_train[:2])\n",
    "x_test = list(test_df.seq.values)\n",
    "y_test = list(test_df.label.values)\n",
    "y_test = to_categorical(y_test)\n",
    "print(y_test[:2])"
   ]
  },
  {
   "cell_type": "code",
   "execution_count": 224,
   "id": "3a4c6733",
   "metadata": {},
   "outputs": [
    {
     "name": "stdout",
     "output_type": "stream",
     "text": [
      "[[1. 0. 0. 0.]\n",
      " [1. 0. 0. 0.]]\n"
     ]
    }
   ],
   "source": [
    "print(y_train[80:82])"
   ]
  },
  {
   "cell_type": "code",
   "execution_count": 225,
   "id": "f4efc932",
   "metadata": {},
   "outputs": [
    {
     "name": "stdout",
     "output_type": "stream",
     "text": [
      "vocab_size: 50\n"
     ]
    }
   ],
   "source": [
    "vocab_size = len(tk.word_index)\n",
    "vocab_size = len(tk.word_index)\n",
    "print(f'vocab_size: {vocab_size}')\n",
    "char_onehot = vocab_size"
   ]
  },
  {
   "cell_type": "code",
   "execution_count": 189,
   "id": "4e2d39af",
   "metadata": {},
   "outputs": [],
   "source": [
    "# x_train = list(x_train)"
   ]
  },
  {
   "cell_type": "code",
   "execution_count": 192,
   "id": "ef702cfa",
   "metadata": {},
   "outputs": [
    {
     "name": "stdout",
     "output_type": "stream",
     "text": [
      "<BatchDataset shapes: ((32, 32, 64), (32, 6)), types: (tf.int32, tf.float32)>\n",
      "<BatchDataset shapes: ((32, 32, 64), (32, 6)), types: (tf.int32, tf.float32)>\n"
     ]
    }
   ],
   "source": [
    "import tensorflow as tf\n",
    "B=32\n",
    "# train_data = tf.data.Dataset.from_tensor_slices(x_train)\n",
    "train_data = tf.data.Dataset.from_tensor_slices((x_train, y_train))\n",
    "train_data = train_data.shuffle(buffer_size=y_train.shape[0]).batch(B, drop_remainder=True)\n",
    "print(train_data)\n",
    "    \n",
    "test_data = tf.data.Dataset.from_tensor_slices((x_test, y_test))\n",
    "test_data = test_data.shuffle(buffer_size=y_test.shape[0]).batch(B, drop_remainder=True)\n",
    "print(test_data)"
   ]
  },
  {
   "cell_type": "code",
   "execution_count": 204,
   "id": "1133f32c",
   "metadata": {},
   "outputs": [
    {
     "data": {
      "text/plain": [
       "64"
      ]
     },
     "execution_count": 204,
     "metadata": {},
     "output_type": "execute_result"
    }
   ],
   "source": [
    "train_data.element_spec[0].shape[2]"
   ]
  },
  {
   "cell_type": "code",
   "execution_count": 215,
   "id": "17d7dcf2",
   "metadata": {},
   "outputs": [
    {
     "data": {
      "text/plain": [
       "6"
      ]
     },
     "execution_count": 215,
     "metadata": {},
     "output_type": "execute_result"
    }
   ],
   "source": [
    "train_data.element_spec[1].shape[1]"
   ]
  },
  {
   "cell_type": "code",
   "execution_count": 206,
   "id": "34bde494",
   "metadata": {},
   "outputs": [],
   "source": [
    "embedding_weights = []\n",
    "embedding_weights.append(np.zeros(vocab_size))\n",
    "for char, i in tk.word_index.items(): # from 1 to 51\n",
    "    onehot = np.zeros(vocab_size)\n",
    "    onehot[i-1] = 1\n",
    "    embedding_weights.append(onehot)\n",
    "embedding_weights = np.array(embedding_weights)\n",
    "    \n",
    "input_size =[ train_data.element_spec[0].shape[1], train_data.element_spec[0].shape[2]]\n",
    "embedding_size = vocab_size\n",
    "\n",
    "embedding_layer = tf.keras.layers.Embedding(vocab_size+1,\n",
    "                                                embedding_size,\n",
    "                                                input_length=input_size,\n",
    "                                                weights = [embedding_weights])"
   ]
  },
  {
   "cell_type": "code",
   "execution_count": null,
   "id": "27918410",
   "metadata": {},
   "outputs": [],
   "source": [
    "# ValueError: Shape mismatch: The shape of labels (received (192,)) \n",
    "#         should equal the shape of logits except for the last dimension (received (32, 6))."
   ]
  },
  {
   "cell_type": "code",
   "execution_count": 221,
   "id": "acdb971c",
   "metadata": {},
   "outputs": [
    {
     "name": "stdout",
     "output_type": "stream",
     "text": [
      "Model: \"functional_17\"\n",
      "_________________________________________________________________\n",
      "Layer (type)                 Output Shape              Param #   \n",
      "=================================================================\n",
      "input_13 (InputLayer)        [(32, 32, 64)]            0         \n",
      "_________________________________________________________________\n",
      "embedding_12 (Embedding)     (32, 32, 64, 50)          2550      \n",
      "_________________________________________________________________\n",
      "conv1d_54 (Conv1D)           (32, 32, 64, 64)          9664      \n",
      "_________________________________________________________________\n",
      "conv1d_55 (Conv1D)           (32, 32, 64, 64)          12352     \n",
      "_________________________________________________________________\n",
      "conv1d_56 (Conv1D)           (32, 32, 64, 64)          12352     \n",
      "_________________________________________________________________\n",
      "max_pooling2d_9 (MaxPooling2 (32, 32, 1, 64)           0         \n",
      "_________________________________________________________________\n",
      "tf_op_layer_Reshape_16 (Tens [(32, 32, 64)]            0         \n",
      "_________________________________________________________________\n",
      "conv1d_57 (Conv1D)           (32, 32, 64)              12352     \n",
      "_________________________________________________________________\n",
      "conv1d_58 (Conv1D)           (32, 32, 64)              12352     \n",
      "_________________________________________________________________\n",
      "conv1d_59 (Conv1D)           (32, 32, 64)              12352     \n",
      "_________________________________________________________________\n",
      "max_pooling1d_8 (MaxPooling1 (32, 1, 64)               0         \n",
      "_________________________________________________________________\n",
      "tf_op_layer_Reshape_17 (Tens [(32, 64)]                0         \n",
      "_________________________________________________________________\n",
      "dense_16 (Dense)             (32, 2048)                133120    \n",
      "_________________________________________________________________\n",
      "dense_17 (Dense)             (32, 6)                   12294     \n",
      "=================================================================\n",
      "Total params: 219,388\n",
      "Trainable params: 219,388\n",
      "Non-trainable params: 0\n",
      "_________________________________________________________________\n",
      "None\n",
      "Epoch 1/25\n",
      "15/15 [==============================] - 2s 122ms/step - loss: 1.1640 - accuracy: 0.5375 - precision_6: 0.8480 - recall_6: 0.3021 - val_loss: 1.1037 - val_accuracy: 0.5938 - val_precision_6: 0.5733 - val_recall_6: 0.4479\n",
      "Epoch 2/25\n",
      "15/15 [==============================] - 1s 80ms/step - loss: 0.3203 - accuracy: 0.8938 - precision_6: 0.9026 - recall_6: 0.8687 - val_loss: 0.8257 - val_accuracy: 0.7188 - val_precision_6: 0.7059 - val_recall_6: 0.6250\n",
      "Epoch 3/25\n",
      "15/15 [==============================] - 1s 78ms/step - loss: 0.1859 - accuracy: 0.9333 - precision_6: 0.9448 - recall_6: 0.9271 - val_loss: 0.6541 - val_accuracy: 0.6354 - val_precision_6: 0.6354 - val_recall_6: 0.6354\n",
      "Epoch 4/25\n",
      "15/15 [==============================] - 1s 76ms/step - loss: 0.0917 - accuracy: 0.9688 - precision_6: 0.9706 - recall_6: 0.9625 - val_loss: 0.5674 - val_accuracy: 0.8125 - val_precision_6: 0.8211 - val_recall_6: 0.8125\n",
      "Epoch 5/25\n",
      "15/15 [==============================] - 1s 94ms/step - loss: 0.0310 - accuracy: 0.9875 - precision_6: 0.9875 - recall_6: 0.9875 - val_loss: 0.8329 - val_accuracy: 0.6979 - val_precision_6: 0.6979 - val_recall_6: 0.6979\n",
      "Epoch 6/25\n",
      "15/15 [==============================] - 1s 80ms/step - loss: 0.0131 - accuracy: 0.9979 - precision_6: 0.9979 - recall_6: 0.9958 - val_loss: 0.5796 - val_accuracy: 0.8750 - val_precision_6: 0.8750 - val_recall_6: 0.8750\n",
      "Epoch 7/25\n",
      "15/15 [==============================] - 1s 87ms/step - loss: 0.0103 - accuracy: 0.9979 - precision_6: 0.9979 - recall_6: 0.9979 - val_loss: 0.6402 - val_accuracy: 0.8438 - val_precision_6: 0.8438 - val_recall_6: 0.8438\n",
      "Epoch 8/25\n",
      "15/15 [==============================] - 1s 90ms/step - loss: 0.0138 - accuracy: 0.9937 - precision_6: 0.9937 - recall_6: 0.9937 - val_loss: 1.1250 - val_accuracy: 0.8229 - val_precision_6: 0.8229 - val_recall_6: 0.8229\n",
      "Epoch 9/25\n",
      "15/15 [==============================] - 1s 88ms/step - loss: 0.0182 - accuracy: 0.9917 - precision_6: 0.9917 - recall_6: 0.9917 - val_loss: 2.0227 - val_accuracy: 0.6354 - val_precision_6: 0.6354 - val_recall_6: 0.6354\n",
      "Epoch 10/25\n",
      "15/15 [==============================] - 1s 80ms/step - loss: 0.0510 - accuracy: 0.9917 - precision_6: 0.9917 - recall_6: 0.9917 - val_loss: 1.2649 - val_accuracy: 0.8125 - val_precision_6: 0.8125 - val_recall_6: 0.8125\n",
      "Epoch 11/25\n",
      "15/15 [==============================] - 1s 89ms/step - loss: 0.0282 - accuracy: 0.9917 - precision_6: 0.9917 - recall_6: 0.9917 - val_loss: 1.2443 - val_accuracy: 0.8125 - val_precision_6: 0.8125 - val_recall_6: 0.8125\n",
      "Epoch 12/25\n",
      "15/15 [==============================] - 1s 92ms/step - loss: 0.0146 - accuracy: 0.9937 - precision_6: 0.9937 - recall_6: 0.9937 - val_loss: 1.2619 - val_accuracy: 0.8333 - val_precision_6: 0.8333 - val_recall_6: 0.8333\n",
      "Epoch 13/25\n",
      "15/15 [==============================] - 1s 83ms/step - loss: 0.0055 - accuracy: 1.0000 - precision_6: 1.0000 - recall_6: 1.0000 - val_loss: 1.2088 - val_accuracy: 0.8333 - val_precision_6: 0.8333 - val_recall_6: 0.8333\n",
      "Epoch 14/25\n",
      "15/15 [==============================] - 1s 81ms/step - loss: 0.0054 - accuracy: 0.9979 - precision_6: 0.9979 - recall_6: 0.9979 - val_loss: 1.0955 - val_accuracy: 0.8333 - val_precision_6: 0.8421 - val_recall_6: 0.8333\n",
      "Epoch 15/25\n",
      "15/15 [==============================] - 1s 100ms/step - loss: 0.0091 - accuracy: 0.9979 - precision_6: 0.9979 - recall_6: 0.9979 - val_loss: 0.9948 - val_accuracy: 0.8542 - val_precision_6: 0.8542 - val_recall_6: 0.8542\n",
      "Epoch 16/25\n",
      "15/15 [==============================] - 1s 89ms/step - loss: 0.0010 - accuracy: 1.0000 - precision_6: 1.0000 - recall_6: 1.0000 - val_loss: 1.1714 - val_accuracy: 0.8333 - val_precision_6: 0.8333 - val_recall_6: 0.8333\n",
      "Epoch 17/25\n",
      "15/15 [==============================] - 1s 81ms/step - loss: 6.1601e-04 - accuracy: 1.0000 - precision_6: 1.0000 - recall_6: 1.0000 - val_loss: 1.4819 - val_accuracy: 0.8125 - val_precision_6: 0.8125 - val_recall_6: 0.8125\n",
      "Epoch 18/25\n",
      "15/15 [==============================] - 1s 81ms/step - loss: 2.9027e-04 - accuracy: 1.0000 - precision_6: 1.0000 - recall_6: 1.0000 - val_loss: 0.9970 - val_accuracy: 0.8854 - val_precision_6: 0.8854 - val_recall_6: 0.8854\n",
      "Epoch 19/25\n",
      "15/15 [==============================] - 1s 94ms/step - loss: 2.2064e-04 - accuracy: 1.0000 - precision_6: 1.0000 - recall_6: 1.0000 - val_loss: 1.3194 - val_accuracy: 0.8333 - val_precision_6: 0.8333 - val_recall_6: 0.8333\n",
      "Epoch 20/25\n",
      "15/15 [==============================] - 1s 92ms/step - loss: 1.9292e-04 - accuracy: 1.0000 - precision_6: 1.0000 - recall_6: 1.0000 - val_loss: 1.1821 - val_accuracy: 0.8542 - val_precision_6: 0.8542 - val_recall_6: 0.8542\n",
      "Epoch 21/25\n",
      "15/15 [==============================] - 1s 87ms/step - loss: 1.7077e-04 - accuracy: 1.0000 - precision_6: 1.0000 - recall_6: 1.0000 - val_loss: 1.3263 - val_accuracy: 0.8438 - val_precision_6: 0.8438 - val_recall_6: 0.8438\n",
      "Epoch 22/25\n",
      "15/15 [==============================] - 1s 82ms/step - loss: 1.5466e-04 - accuracy: 1.0000 - precision_6: 1.0000 - recall_6: 1.0000 - val_loss: 1.4985 - val_accuracy: 0.8333 - val_precision_6: 0.8333 - val_recall_6: 0.8333\n",
      "Epoch 23/25\n",
      "15/15 [==============================] - 1s 93ms/step - loss: 1.4276e-04 - accuracy: 1.0000 - precision_6: 1.0000 - recall_6: 1.0000 - val_loss: 1.3235 - val_accuracy: 0.8438 - val_precision_6: 0.8438 - val_recall_6: 0.8438\n",
      "Epoch 24/25\n",
      "15/15 [==============================] - 1s 87ms/step - loss: 1.3112e-04 - accuracy: 1.0000 - precision_6: 1.0000 - recall_6: 1.0000 - val_loss: 1.1678 - val_accuracy: 0.8750 - val_precision_6: 0.8750 - val_recall_6: 0.8750\n",
      "Epoch 25/25\n",
      "15/15 [==============================] - 1s 87ms/step - loss: 1.2232e-04 - accuracy: 1.0000 - precision_6: 1.0000 - recall_6: 1.0000 - val_loss: 1.2835 - val_accuracy: 0.8542 - val_precision_6: 0.8542 - val_recall_6: 0.8542\n"
     ]
    }
   ],
   "source": [
    "conv1d_set1 = 3\n",
    "conv1d_set2 = 3\n",
    "dense_neurons=2048\n",
    "filters=64\n",
    "kernel_size=3\n",
    "maxpool_1=True\n",
    "epochs=25\n",
    "\n",
    "inputs = tf.keras.layers.Input(batch_shape=(B, train_data.element_spec[0].shape[1], train_data.element_spec[0].shape[2]), dtype='float64' )\n",
    "x = tf.keras.layers.Embedding(input_dim=vocab_size+1,\n",
    "                                output_dim=embedding_size,\n",
    "                                input_length=train_data.element_spec[0].shape[2],\n",
    "                                weights = [embedding_weights],\n",
    "                                )(inputs)\n",
    "for _ in range(conv1d_set1):\n",
    "    x = tf.keras.layers.Conv1D(filters=filters, kernel_size=kernel_size, padding='same')(x)\n",
    "if maxpool_1:\n",
    "    x = tf.keras.layers.MaxPooling2D(pool_size=(1, train_data.element_spec[0].shape[2]))(x)\n",
    "    x = tf.reshape(x, (B, train_data.element_spec[0].shape[1], filters))        \n",
    "    for _ in range(conv1d_set2):\n",
    "        x = tf.keras.layers.Conv1D(filters=filters, kernel_size=kernel_size, padding='same')(x)\n",
    "    x = tf.keras.layers.MaxPooling1D(pool_size=(train_data.element_spec[0].shape[1]) )(x)\n",
    "    x = tf.reshape(x, (B, filters))\n",
    "if not maxpool_1:\n",
    "    x = tf.keras.layers.Flatten()(x)       \n",
    "x = tf.keras.layers.Dense(dense_neurons)(x)\n",
    "outputs = tf.keras.layers.Dense(train_data.element_spec[1].shape[1], activation='softmax')(x)\n",
    "model = tf.keras.Model(inputs=inputs, outputs=outputs)\n",
    "print(model.summary())\n",
    "model.compile(optimizer='adam', \n",
    "              loss='categorical_crossentropy',\n",
    "          metrics=['accuracy', tf.keras.metrics.Precision(), tf.keras.metrics.Recall()])\n",
    "hist = model.fit(train_data, validation_data=test_data, epochs=epochs) "
   ]
  },
  {
   "cell_type": "code",
   "execution_count": null,
   "id": "af67b769",
   "metadata": {},
   "outputs": [],
   "source": []
  },
  {
   "cell_type": "code",
   "execution_count": null,
   "id": "7203ae08",
   "metadata": {},
   "outputs": [],
   "source": []
  },
  {
   "cell_type": "code",
   "execution_count": null,
   "id": "6cc822ae",
   "metadata": {},
   "outputs": [],
   "source": []
  },
  {
   "cell_type": "code",
   "execution_count": 228,
   "id": "8005b058",
   "metadata": {},
   "outputs": [
    {
     "name": "stdout",
     "output_type": "stream",
     "text": [
      "train_0:, 800\n",
      "test_0:, 200\n",
      "train_1:, 800\n",
      "test_1:, 200\n",
      "train_2:, 800\n",
      "test_2:, 200\n",
      "train_3:, 800\n",
      "test_3:, 102\n",
      "4 class does not have 800 records, it has only 628 records\n",
      "test_4:, 0\n",
      "5 class does not have 800 records, it has only 165 records\n",
      "5 class does not have 200 records, it has only 165 records\n",
      "6 class does not have 800 records, it has only 75 records\n",
      "6 class does not have 200 records, it has only 75 records\n"
     ]
    },
    {
     "data": {
      "text/plain": [
       "0    800\n",
       "1    800\n",
       "2    800\n",
       "3    800\n",
       "Name: label, dtype: int64"
      ]
     },
     "execution_count": 228,
     "metadata": {},
     "output_type": "execute_result"
    }
   ],
   "source": [
    "train_df, test_df = train_test_multi_class(numdf, ablation=1000)\n",
    "train_df.label.value_counts()"
   ]
  },
  {
   "cell_type": "code",
   "execution_count": 229,
   "id": "5ef3d81f",
   "metadata": {},
   "outputs": [
    {
     "name": "stdout",
     "output_type": "stream",
     "text": [
      "[[1. 0. 0. 0.]\n",
      " [1. 0. 0. 0.]]\n",
      "[[1. 0. 0. 0.]\n",
      " [1. 0. 0. 0.]]\n"
     ]
    }
   ],
   "source": [
    "x_train = list(train_df.seq.values)\n",
    "y_train = list(train_df.label.values)\n",
    "y_train = to_categorical(y_train)\n",
    "print(y_train[:2])\n",
    "x_test = list(test_df.seq.values)\n",
    "y_test = list(test_df.label.values)\n",
    "y_test = to_categorical(y_test)\n",
    "print(y_test[:2])"
   ]
  },
  {
   "cell_type": "code",
   "execution_count": 230,
   "id": "9ce12615",
   "metadata": {},
   "outputs": [
    {
     "name": "stdout",
     "output_type": "stream",
     "text": [
      "<BatchDataset shapes: ((32, 32, 64), (32, 4)), types: (tf.int32, tf.float32)>\n",
      "<BatchDataset shapes: ((32, 32, 64), (32, 4)), types: (tf.int32, tf.float32)>\n"
     ]
    }
   ],
   "source": [
    "B=32\n",
    "# train_data = tf.data.Dataset.from_tensor_slices(x_train)\n",
    "train_data = tf.data.Dataset.from_tensor_slices((x_train, y_train))\n",
    "train_data = train_data.shuffle(buffer_size=y_train.shape[0]).batch(B, drop_remainder=True)\n",
    "print(train_data)\n",
    "    \n",
    "test_data = tf.data.Dataset.from_tensor_slices((x_test, y_test))\n",
    "test_data = test_data.shuffle(buffer_size=y_test.shape[0]).batch(B, drop_remainder=True)\n",
    "print(test_data)"
   ]
  },
  {
   "cell_type": "code",
   "execution_count": 231,
   "id": "4e6f19ee",
   "metadata": {},
   "outputs": [],
   "source": [
    "embedding_weights = []\n",
    "embedding_weights.append(np.zeros(vocab_size))\n",
    "for char, i in tk.word_index.items(): # from 1 to 51\n",
    "    onehot = np.zeros(vocab_size)\n",
    "    onehot[i-1] = 1\n",
    "    embedding_weights.append(onehot)\n",
    "embedding_weights = np.array(embedding_weights)\n",
    "    \n",
    "input_size =[ train_data.element_spec[0].shape[1], train_data.element_spec[0].shape[2]]\n",
    "embedding_size = vocab_size\n",
    "\n",
    "embedding_layer = tf.keras.layers.Embedding(vocab_size+1,\n",
    "                                                embedding_size,\n",
    "                                                input_length=input_size,\n",
    "                                                weights = [embedding_weights])"
   ]
  },
  {
   "cell_type": "code",
   "execution_count": 232,
   "id": "f3ebc8e1",
   "metadata": {},
   "outputs": [
    {
     "name": "stdout",
     "output_type": "stream",
     "text": [
      "Model: \"functional_19\"\n",
      "_________________________________________________________________\n",
      "Layer (type)                 Output Shape              Param #   \n",
      "=================================================================\n",
      "input_14 (InputLayer)        [(32, 32, 64)]            0         \n",
      "_________________________________________________________________\n",
      "embedding_14 (Embedding)     (32, 32, 64, 50)          2550      \n",
      "_________________________________________________________________\n",
      "conv1d_60 (Conv1D)           (32, 32, 64, 64)          9664      \n",
      "_________________________________________________________________\n",
      "conv1d_61 (Conv1D)           (32, 32, 64, 64)          12352     \n",
      "_________________________________________________________________\n",
      "conv1d_62 (Conv1D)           (32, 32, 64, 64)          12352     \n",
      "_________________________________________________________________\n",
      "max_pooling2d_10 (MaxPooling (32, 32, 1, 64)           0         \n",
      "_________________________________________________________________\n",
      "tf_op_layer_Reshape_18 (Tens [(32, 32, 64)]            0         \n",
      "_________________________________________________________________\n",
      "conv1d_63 (Conv1D)           (32, 32, 64)              12352     \n",
      "_________________________________________________________________\n",
      "conv1d_64 (Conv1D)           (32, 32, 64)              12352     \n",
      "_________________________________________________________________\n",
      "conv1d_65 (Conv1D)           (32, 32, 64)              12352     \n",
      "_________________________________________________________________\n",
      "max_pooling1d_9 (MaxPooling1 (32, 1, 64)               0         \n",
      "_________________________________________________________________\n",
      "tf_op_layer_Reshape_19 (Tens [(32, 64)]                0         \n",
      "_________________________________________________________________\n",
      "dense_18 (Dense)             (32, 2048)                133120    \n",
      "_________________________________________________________________\n",
      "dense_19 (Dense)             (32, 4)                   8196      \n",
      "=================================================================\n",
      "Total params: 215,290\n",
      "Trainable params: 215,290\n",
      "Non-trainable params: 0\n",
      "_________________________________________________________________\n",
      "None\n",
      "Epoch 1/25\n",
      "100/100 [==============================] - 9s 92ms/step - loss: 0.2435 - accuracy: 0.8975 - precision_7: 0.9381 - recall_7: 0.8616 - val_loss: 0.0139 - val_accuracy: 0.9940 - val_precision_7: 0.9940 - val_recall_7: 0.9940\n",
      "Epoch 2/25\n",
      "100/100 [==============================] - 9s 88ms/step - loss: 0.0484 - accuracy: 0.9803 - precision_7: 0.9809 - recall_7: 0.9800 - val_loss: 0.0095 - val_accuracy: 0.9955 - val_precision_7: 0.9970 - val_recall_7: 0.9940\n",
      "Epoch 3/25\n",
      "100/100 [==============================] - 8s 83ms/step - loss: 0.0221 - accuracy: 0.9925 - precision_7: 0.9928 - recall_7: 0.9925 - val_loss: 0.0176 - val_accuracy: 0.9940 - val_precision_7: 0.9940 - val_recall_7: 0.9926\n",
      "Epoch 4/25\n",
      "100/100 [==============================] - 10s 98ms/step - loss: 0.0133 - accuracy: 0.9962 - precision_7: 0.9962 - recall_7: 0.9962 - val_loss: 0.0023 - val_accuracy: 1.0000 - val_precision_7: 1.0000 - val_recall_7: 1.0000\n",
      "Epoch 5/25\n",
      "100/100 [==============================] - 9s 89ms/step - loss: 0.0349 - accuracy: 0.9903 - precision_7: 0.9909 - recall_7: 0.9903 - val_loss: 0.0012 - val_accuracy: 1.0000 - val_precision_7: 1.0000 - val_recall_7: 1.0000\n",
      "Epoch 6/25\n",
      "100/100 [==============================] - 9s 90ms/step - loss: 0.0517 - accuracy: 0.9828 - precision_7: 0.9831 - recall_7: 0.9825 - val_loss: 0.0062 - val_accuracy: 0.9985 - val_precision_7: 0.9985 - val_recall_7: 0.9970\n",
      "Epoch 7/25\n",
      "100/100 [==============================] - 9s 90ms/step - loss: 0.0248 - accuracy: 0.9922 - precision_7: 0.9922 - recall_7: 0.9919 - val_loss: 0.0112 - val_accuracy: 0.9955 - val_precision_7: 0.9955 - val_recall_7: 0.9955\n",
      "Epoch 8/25\n",
      "100/100 [==============================] - 9s 88ms/step - loss: 0.0063 - accuracy: 0.9981 - precision_7: 0.9981 - recall_7: 0.9981 - val_loss: 0.0010 - val_accuracy: 1.0000 - val_precision_7: 1.0000 - val_recall_7: 1.0000\n",
      "Epoch 9/25\n",
      "100/100 [==============================] - 9s 86ms/step - loss: 0.0036 - accuracy: 0.9994 - precision_7: 0.9994 - recall_7: 0.9994 - val_loss: 0.0143 - val_accuracy: 0.9926 - val_precision_7: 0.9926 - val_recall_7: 0.9926\n",
      "Epoch 10/25\n",
      "100/100 [==============================] - 10s 97ms/step - loss: 0.0026 - accuracy: 0.9991 - precision_7: 0.9991 - recall_7: 0.9991 - val_loss: 0.0101 - val_accuracy: 0.9940 - val_precision_7: 0.9970 - val_recall_7: 0.9940\n",
      "Epoch 11/25\n",
      "100/100 [==============================] - 9s 87ms/step - loss: 0.0085 - accuracy: 0.9975 - precision_7: 0.9975 - recall_7: 0.9975 - val_loss: 0.0101 - val_accuracy: 0.9985 - val_precision_7: 0.9985 - val_recall_7: 0.9985\n",
      "Epoch 12/25\n",
      "100/100 [==============================] - 9s 91ms/step - loss: 0.0230 - accuracy: 0.9922 - precision_7: 0.9922 - recall_7: 0.9922 - val_loss: 0.0096 - val_accuracy: 0.9955 - val_precision_7: 0.9955 - val_recall_7: 0.9955\n",
      "Epoch 13/25\n",
      "100/100 [==============================] - 9s 91ms/step - loss: 0.0182 - accuracy: 0.9934 - precision_7: 0.9934 - recall_7: 0.9934 - val_loss: 0.0070 - val_accuracy: 0.9985 - val_precision_7: 0.9985 - val_recall_7: 0.9985\n",
      "Epoch 14/25\n",
      "100/100 [==============================] - 9s 86ms/step - loss: 0.0354 - accuracy: 0.9900 - precision_7: 0.9903 - recall_7: 0.9900 - val_loss: 0.0333 - val_accuracy: 0.9926 - val_precision_7: 0.9926 - val_recall_7: 0.9926\n",
      "Epoch 15/25\n",
      "100/100 [==============================] - 9s 92ms/step - loss: 0.1130 - accuracy: 0.9797 - precision_7: 0.9800 - recall_7: 0.9797 - val_loss: 0.0172 - val_accuracy: 0.9985 - val_precision_7: 0.9985 - val_recall_7: 0.9985\n",
      "Epoch 16/25\n",
      "100/100 [==============================] - 9s 93ms/step - loss: 0.0205 - accuracy: 0.9941 - precision_7: 0.9941 - recall_7: 0.9941 - val_loss: 0.0121 - val_accuracy: 0.9955 - val_precision_7: 0.9955 - val_recall_7: 0.9955\n",
      "Epoch 17/25\n",
      "100/100 [==============================] - 10s 99ms/step - loss: 0.0070 - accuracy: 0.9978 - precision_7: 0.9978 - recall_7: 0.9978 - val_loss: 0.0055 - val_accuracy: 0.9970 - val_precision_7: 0.9970 - val_recall_7: 0.9970\n",
      "Epoch 18/25\n",
      "100/100 [==============================] - 10s 101ms/step - loss: 0.0031 - accuracy: 0.9997 - precision_7: 0.9997 - recall_7: 0.9997 - val_loss: 0.0011 - val_accuracy: 1.0000 - val_precision_7: 1.0000 - val_recall_7: 1.0000\n",
      "Epoch 19/25\n",
      "100/100 [==============================] - 10s 103ms/step - loss: 9.7040e-05 - accuracy: 1.0000 - precision_7: 1.0000 - recall_7: 1.0000 - val_loss: 0.0018 - val_accuracy: 0.9985 - val_precision_7: 0.9985 - val_recall_7: 0.9985\n",
      "Epoch 20/25\n",
      "100/100 [==============================] - 9s 86ms/step - loss: 6.1153e-05 - accuracy: 1.0000 - precision_7: 1.0000 - recall_7: 1.0000 - val_loss: 0.0012 - val_accuracy: 1.0000 - val_precision_7: 1.0000 - val_recall_7: 1.0000\n",
      "Epoch 21/25\n",
      "100/100 [==============================] - 10s 103ms/step - loss: 3.9359e-05 - accuracy: 1.0000 - precision_7: 1.0000 - recall_7: 1.0000 - val_loss: 0.0014 - val_accuracy: 1.0000 - val_precision_7: 1.0000 - val_recall_7: 1.0000\n",
      "Epoch 22/25\n",
      "100/100 [==============================] - 9s 89ms/step - loss: 3.1950e-05 - accuracy: 1.0000 - precision_7: 1.0000 - recall_7: 1.0000 - val_loss: 0.0012 - val_accuracy: 1.0000 - val_precision_7: 1.0000 - val_recall_7: 1.0000\n",
      "Epoch 23/25\n",
      "100/100 [==============================] - 11s 110ms/step - loss: 2.5622e-05 - accuracy: 1.0000 - precision_7: 1.0000 - recall_7: 1.0000 - val_loss: 0.0012 - val_accuracy: 1.0000 - val_precision_7: 1.0000 - val_recall_7: 1.0000\n",
      "Epoch 24/25\n",
      "100/100 [==============================] - 10s 98ms/step - loss: 2.1791e-05 - accuracy: 1.0000 - precision_7: 1.0000 - recall_7: 1.0000 - val_loss: 0.0011 - val_accuracy: 1.0000 - val_precision_7: 1.0000 - val_recall_7: 1.0000\n",
      "Epoch 25/25\n",
      "100/100 [==============================] - 9s 94ms/step - loss: 1.8831e-05 - accuracy: 1.0000 - precision_7: 1.0000 - recall_7: 1.0000 - val_loss: 0.0011 - val_accuracy: 1.0000 - val_precision_7: 1.0000 - val_recall_7: 1.0000\n"
     ]
    }
   ],
   "source": [
    "conv1d_set1 = 3\n",
    "conv1d_set2 = 3\n",
    "dense_neurons=2048\n",
    "filters=64\n",
    "kernel_size=3\n",
    "maxpool_1=True\n",
    "epochs=25\n",
    "\n",
    "inputs = tf.keras.layers.Input(batch_shape=(B, train_data.element_spec[0].shape[1], train_data.element_spec[0].shape[2]), dtype='float64' )\n",
    "x = tf.keras.layers.Embedding(input_dim=vocab_size+1,\n",
    "                                output_dim=embedding_size,\n",
    "                                input_length=train_data.element_spec[0].shape[2],\n",
    "                                weights = [embedding_weights],\n",
    "                                )(inputs)\n",
    "for _ in range(conv1d_set1):\n",
    "    x = tf.keras.layers.Conv1D(filters=filters, kernel_size=kernel_size, padding='same')(x)\n",
    "if maxpool_1:\n",
    "    x = tf.keras.layers.MaxPooling2D(pool_size=(1, train_data.element_spec[0].shape[2]))(x)\n",
    "    x = tf.reshape(x, (B, train_data.element_spec[0].shape[1], filters))        \n",
    "    for _ in range(conv1d_set2):\n",
    "        x = tf.keras.layers.Conv1D(filters=filters, kernel_size=kernel_size, padding='same')(x)\n",
    "    x = tf.keras.layers.MaxPooling1D(pool_size=(train_data.element_spec[0].shape[1]) )(x)\n",
    "    x = tf.reshape(x, (B, filters))\n",
    "if not maxpool_1:\n",
    "    x = tf.keras.layers.Flatten()(x)       \n",
    "x = tf.keras.layers.Dense(dense_neurons)(x)\n",
    "outputs = tf.keras.layers.Dense(train_data.element_spec[1].shape[1], activation='softmax')(x)\n",
    "model = tf.keras.Model(inputs=inputs, outputs=outputs)\n",
    "print(model.summary())\n",
    "model.compile(optimizer='adam', \n",
    "              loss='categorical_crossentropy',\n",
    "          metrics=['accuracy', tf.keras.metrics.Precision(), tf.keras.metrics.Recall()])\n",
    "hist = model.fit(train_data, validation_data=test_data, epochs=epochs) "
   ]
  }
 ],
 "metadata": {
  "kernelspec": {
   "display_name": "Python 3 (ipykernel)",
   "language": "python",
   "name": "python3"
  },
  "language_info": {
   "codemirror_mode": {
    "name": "ipython",
    "version": 3
   },
   "file_extension": ".py",
   "mimetype": "text/x-python",
   "name": "python",
   "nbconvert_exporter": "python",
   "pygments_lexer": "ipython3",
   "version": "3.8.12"
  }
 },
 "nbformat": 4,
 "nbformat_minor": 5
}
