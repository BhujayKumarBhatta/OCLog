{
 "cells": [
  {
   "cell_type": "code",
   "execution_count": 1,
   "id": "9237abb1",
   "metadata": {},
   "outputs": [],
   "source": [
    "from bglog import BGLog"
   ]
  },
  {
   "cell_type": "code",
   "execution_count": 2,
   "id": "0ace3d56",
   "metadata": {},
   "outputs": [],
   "source": [
    "bglog = BGLog(debug=True, save_padded_num_sequences=False, load_from_pkl=True)"
   ]
  },
  {
   "cell_type": "code",
   "execution_count": 3,
   "id": "87f46596",
   "metadata": {},
   "outputs": [
    {
     "name": "stdout",
     "output_type": "stream",
     "text": [
      "padded_num_seq_df loaded from data\\bgl_padded_num_seq_df.pkl\n",
      "ablation set to : 1000\n",
      "train_0:, 800\n",
      "test_0:, 200\n",
      "ablation set to : 1000\n",
      "train_1:, 800\n",
      "test_1:, 200\n",
      "ablation set to : 1000\n",
      "train_2:, 800\n",
      "test_2:, 200\n",
      "ablation set to : 1000\n",
      "train_3:, 800\n",
      "test_3:, 102\n",
      "ablation set to : 1000\n",
      "4 class does not have 800 records, it has only 628 records\n",
      "test_4:, 0\n",
      "ablation set to : 1000\n",
      "5 class does not have 800 records, it has only 165 records\n",
      "5 class does not have 200 records, it has only 165 records\n",
      "ablation set to : 1000\n",
      "6 class does not have 800 records, it has only 75 records\n",
      "6 class does not have 200 records, it has only 75 records\n",
      "0    800\n",
      "1    800\n",
      "2    800\n",
      "3    800\n",
      "Name: label, dtype: int64\n",
      "[[1. 0. 0. 0.]\n",
      " [1. 0. 0. 0.]]\n",
      "[[1. 0. 0. 0.]\n",
      " [1. 0. 0. 0.]]\n",
      "[[1. 0. 0. 0.]\n",
      " [1. 0. 0. 0.]]\n",
      "<BatchDataset shapes: ((32, 32, 64), (32, 4)), types: (tf.int32, tf.float32)>\n",
      "<BatchDataset shapes: ((32, 32, 64), (32, 4)), types: (tf.int32, tf.float32)>\n",
      "64\n",
      "4\n"
     ]
    }
   ],
   "source": [
    "train_test = bglog.get_tensor_train_test(ablation=1000)"
   ]
  },
  {
   "cell_type": "code",
   "execution_count": null,
   "id": "3772f968",
   "metadata": {},
   "outputs": [],
   "source": []
  },
  {
   "cell_type": "code",
   "execution_count": null,
   "id": "0ca52761",
   "metadata": {},
   "outputs": [],
   "source": []
  },
  {
   "cell_type": "code",
   "execution_count": null,
   "id": "e891ee7c",
   "metadata": {},
   "outputs": [],
   "source": []
  },
  {
   "cell_type": "code",
   "execution_count": null,
   "id": "45b0794f",
   "metadata": {},
   "outputs": [],
   "source": []
  },
  {
   "cell_type": "code",
   "execution_count": null,
   "id": "187f1d77",
   "metadata": {},
   "outputs": [],
   "source": []
  }
 ],
 "metadata": {
  "kernelspec": {
   "display_name": "Python 3 (ipykernel)",
   "language": "python",
   "name": "python3"
  },
  "language_info": {
   "codemirror_mode": {
    "name": "ipython",
    "version": 3
   },
   "file_extension": ".py",
   "mimetype": "text/x-python",
   "name": "python",
   "nbconvert_exporter": "python",
   "pygments_lexer": "ipython3",
   "version": "3.8.12"
  }
 },
 "nbformat": 4,
 "nbformat_minor": 5
}
