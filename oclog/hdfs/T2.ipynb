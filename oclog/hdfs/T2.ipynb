{
 "cells": [
  {
   "cell_type": "code",
   "execution_count": 1,
   "id": "56818695",
   "metadata": {},
   "outputs": [],
   "source": [
    "import random\n",
    "# from hdflogv2 import HDFSLogv2\n",
    "from hdflogv3 import HDFSLogv3\n",
    "import tensorflow as tf\n",
    "import numpy as np\n",
    "import pandas as pd\n",
    "from keras.preprocessing.sequence import pad_sequences\n",
    "import pickle\n",
    "from keras.preprocessing.sequence import pad_sequences"
   ]
  },
  {
   "cell_type": "code",
   "execution_count": 2,
   "id": "0dc750d1",
   "metadata": {},
   "outputs": [],
   "source": [
    "\n",
    "hlog_meta_176_32 = HDFSLogv3(train_ratio=0.8, padded_char_len=176, padded_seq_len=32,\n",
    "                hdfs_rm_time_stamp=False, hdfs_rm_ip_address=False, debug=True )"
   ]
  },
  {
   "cell_type": "code",
   "execution_count": 3,
   "id": "96f26d41-3d98-4539-9061-2d3a8a661f68",
   "metadata": {},
   "outputs": [],
   "source": [
    "# %%time\n",
    "# labelled_num_seq_df = hlog_meta_176_32.get_labelled_num_seq_df()"
   ]
  },
  {
   "cell_type": "code",
   "execution_count": null,
   "id": "c544fa1b-270d-4c4e-b629-6fa36dfeeca9",
   "metadata": {},
   "outputs": [
    {
     "name": "stdout",
     "output_type": "stream",
     "text": [
      "total number of lines in the log file: 11175629\n",
      "RAM usage:  100232088\n",
      "loaded logs in memory in time: 4.870429992675781\n"
     ]
    }
   ],
   "source": [
    "%%time\n",
    "res = hlog_meta_176_32.get_tensor_train_val_test()"
   ]
  }
 ],
 "metadata": {
  "kernelspec": {
   "display_name": "Python 3 (ipykernel)",
   "language": "python",
   "name": "python3"
  },
  "language_info": {
   "codemirror_mode": {
    "name": "ipython",
    "version": 3
   },
   "file_extension": ".py",
   "mimetype": "text/x-python",
   "name": "python",
   "nbconvert_exporter": "python",
   "pygments_lexer": "ipython3",
   "version": "3.9.12"
  }
 },
 "nbformat": 4,
 "nbformat_minor": 5
}
