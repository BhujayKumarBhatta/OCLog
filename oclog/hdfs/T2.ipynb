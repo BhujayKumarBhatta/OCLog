{
 "cells": [
  {
   "cell_type": "code",
   "execution_count": 1,
   "id": "56818695",
   "metadata": {},
   "outputs": [],
   "source": [
    "import random\n",
    "# from hdflogv2 import HDFSLogv2\n",
    "from hdflogv3 import HDFSLogv3\n",
    "import tensorflow as tf\n",
    "import numpy as np\n",
    "import pandas as pd\n",
    "from keras.preprocessing.sequence import pad_sequences\n",
    "import pickle\n",
    "from keras.preprocessing.sequence import pad_sequences"
   ]
  },
  {
   "cell_type": "code",
   "execution_count": 2,
   "id": "0dc750d1",
   "metadata": {},
   "outputs": [],
   "source": [
    "\n",
    "hlog_meta_176_32 = HDFSLogv3(train_ratio=0.8, padded_char_len=176, padded_seq_len=32,\n",
    "                hdfs_rm_time_stamp=False, hdfs_rm_ip_address=False, debug=True )"
   ]
  },
  {
   "cell_type": "code",
   "execution_count": 3,
   "id": "96f26d41-3d98-4539-9061-2d3a8a661f68",
   "metadata": {},
   "outputs": [
    {
     "name": "stdout",
     "output_type": "stream",
     "text": [
      "total number of lines in the log file: 11175629\n",
      "RAM usage:  100232088\n",
      "ending logs in memory: 4.938360214233398\n",
      "loaded cleaned logs with blk_id  in memory: 206.28968930244446\n",
      "RAM usage:  100232088\n",
      "loaded cleaned logs without blkid in memory: 0.5526354312896729\n",
      "RAM usage:  100232088\n",
      "starting training the tokenizer:\n",
      "ending tokenizer training: 327.1431031227112\n",
      "RAM usage:  48\n",
      "vocabulary size: 42\n",
      "starting text to number conversion\n",
      "completed:  0\n",
      "time : 0.0\n",
      "completed:  1000000\n",
      "time : 17.007117986679077\n",
      "completed:  2000000\n",
      "time : 33.574119567871094\n",
      "completed:  3000000\n",
      "time : 50.18071413040161\n",
      "completed:  4000000\n",
      "time : 67.24189925193787\n",
      "completed:  5000000\n",
      "time : 83.79925966262817\n",
      "completed:  6000000\n",
      "time : 100.64925503730774\n",
      "completed:  7000000\n",
      "time : 117.7235643863678\n",
      "completed:  8000000\n",
      "time : 134.6217701435089\n",
      "completed:  9000000\n",
      "time : 151.61578941345215\n",
      "completed:  10000000\n",
      "time : 168.4396996498108\n",
      "completed:  11000000\n",
      "time : 185.56494426727295\n",
      "ending text to number conversion: 188.46091151237488\n",
      "RAM usage:  100232088\n",
      "ending num_sequence_by_blkid conversion: 530.600668668747\n",
      "RAM usage:  20971608\n",
      "ending labelled_num_seq_df conversion: 543.0252442359924\n",
      "RAM usage:  163553055\n",
      "CPU times: total: 9min 3s\n",
      "Wall time: 9min 3s\n"
     ]
    }
   ],
   "source": [
    "%%time\n",
    "labelled_num_seq_df = hlog_meta_176_32.get_labelled_num_seq_df()"
   ]
  },
  {
   "cell_type": "code",
   "execution_count": 4,
   "id": "c544fa1b-270d-4c4e-b629-6fa36dfeeca9",
   "metadata": {},
   "outputs": [
    {
     "data": {
      "text/html": [
       "<div>\n",
       "<style scoped>\n",
       "    .dataframe tbody tr th:only-of-type {\n",
       "        vertical-align: middle;\n",
       "    }\n",
       "\n",
       "    .dataframe tbody tr th {\n",
       "        vertical-align: top;\n",
       "    }\n",
       "\n",
       "    .dataframe thead th {\n",
       "        text-align: right;\n",
       "    }\n",
       "</style>\n",
       "<table border=\"1\" class=\"dataframe\">\n",
       "  <thead>\n",
       "    <tr style=\"text-align: right;\">\n",
       "      <th></th>\n",
       "      <th>BlockId</th>\n",
       "      <th>label</th>\n",
       "      <th>seq</th>\n",
       "    </tr>\n",
       "  </thead>\n",
       "  <tbody>\n",
       "    <tr>\n",
       "      <th>0</th>\n",
       "      <td>blk_-1000002529962039464</td>\n",
       "      <td>hdfs_normal</td>\n",
       "      <td>[[3, 14, 2, 2, 2, 2, 3, 28, 20, 20, 11, 6, 6, ...</td>\n",
       "    </tr>\n",
       "    <tr>\n",
       "      <th>1</th>\n",
       "      <td>blk_-100000266894974466</td>\n",
       "      <td>hdfs_normal</td>\n",
       "      <td>[[3, 14, 2, 2, 2, 3, 3, 6, 3, 2, 3, 22, 21, 2,...</td>\n",
       "    </tr>\n",
       "    <tr>\n",
       "      <th>2</th>\n",
       "      <td>blk_-1000007292892887521</td>\n",
       "      <td>hdfs_normal</td>\n",
       "      <td>[[3, 14, 2, 2, 2, 2, 3, 28, 20, 27, 2, 11, 6, ...</td>\n",
       "    </tr>\n",
       "    <tr>\n",
       "      <th>3</th>\n",
       "      <td>blk_-1000014584150379967</td>\n",
       "      <td>hdfs_normal</td>\n",
       "      <td>[[3, 14, 2, 2, 2, 3, 3, 2, 11, 2, 2, 27, 11, 1...</td>\n",
       "    </tr>\n",
       "    <tr>\n",
       "      <th>4</th>\n",
       "      <td>blk_-1000028658773048709</td>\n",
       "      <td>hdfs_normal</td>\n",
       "      <td>[[3, 14, 2, 2, 2, 3, 6, 6, 2, 20, 21, 2, 2, 11...</td>\n",
       "    </tr>\n",
       "  </tbody>\n",
       "</table>\n",
       "</div>"
      ],
      "text/plain": [
       "                    BlockId        label  \\\n",
       "0  blk_-1000002529962039464  hdfs_normal   \n",
       "1   blk_-100000266894974466  hdfs_normal   \n",
       "2  blk_-1000007292892887521  hdfs_normal   \n",
       "3  blk_-1000014584150379967  hdfs_normal   \n",
       "4  blk_-1000028658773048709  hdfs_normal   \n",
       "\n",
       "                                                 seq  \n",
       "0  [[3, 14, 2, 2, 2, 2, 3, 28, 20, 20, 11, 6, 6, ...  \n",
       "1  [[3, 14, 2, 2, 2, 3, 3, 6, 3, 2, 3, 22, 21, 2,...  \n",
       "2  [[3, 14, 2, 2, 2, 2, 3, 28, 20, 27, 2, 11, 6, ...  \n",
       "3  [[3, 14, 2, 2, 2, 3, 3, 2, 11, 2, 2, 27, 11, 1...  \n",
       "4  [[3, 14, 2, 2, 2, 3, 6, 6, 2, 20, 21, 2, 2, 11...  "
      ]
     },
     "execution_count": 4,
     "metadata": {},
     "output_type": "execute_result"
    }
   ],
   "source": [
    "labelled_num_seq_df.head()"
   ]
  },
  {
   "cell_type": "code",
   "execution_count": 38,
   "id": "26544e94-3dee-49d1-8cf4-de5c7c4a98e8",
   "metadata": {},
   "outputs": [
    {
     "name": "stdout",
     "output_type": "stream",
     "text": [
      "16838\n",
      "                                                   seq         label\n",
      "33   [[3, 14, 2, 2, 2, 2, 3, 14, 2, 27, 2, 20, 6, 2...  hdfs_anomaly\n",
      "53   [[3, 14, 2, 2, 3, 28, 6, 2, 2, 22, 11, 27, 2, ...  hdfs_anomaly\n",
      "304  [[3, 14, 2, 2, 2, 3, 3, 2, 2, 20, 6, 20, 11, 6...  hdfs_anomaly\n",
      "305  [[3, 14, 2, 2, 2, 3, 3, 3, 6, 14, 3, 22, 21, 2...  hdfs_anomaly\n",
      "383  [[3, 14, 2, 2, 2, 3, 6, 6, 21, 14, 11, 6, 2, 2...  hdfs_anomaly\n",
      "(33676, 2)\n"
     ]
    }
   ],
   "source": [
    "pos_df = labelled_num_seq_df[labelled_num_seq_df.label == 'hdfs_anomaly']\n",
    "print(len(pos_df))\n",
    "neg_df = labelled_num_seq_df[labelled_num_seq_df.label == 'hdfs_normal']\n",
    "neg_df_eq_pos_df = neg_df[:len(pos_df)]\n",
    "len(neg_df_eq_pos_df)\n",
    "eq_neg_pos_df = pd.concat([pos_df, neg_df_eq_pos_df])\n",
    "print(eq_neg_pos_df.head())\n",
    "print(eq_neg_pos_df.shape)"
   ]
  },
  {
   "cell_type": "code",
   "execution_count": null,
   "id": "ee76786c-60c3-45b0-a897-7594d4450e66",
   "metadata": {},
   "outputs": [],
   "source": []
  },
  {
   "cell_type": "code",
   "execution_count": 20,
   "id": "8040377f-ad7f-4076-8ae4-8d128145d711",
   "metadata": {},
   "outputs": [
    {
     "data": {
      "text/plain": [
       "array([[ 3, 14,  2, ...,  0,  0,  0],\n",
       "       [ 3, 14,  2, ...,  0,  0,  0],\n",
       "       [ 3, 14,  2, ...,  0,  0,  0],\n",
       "       ...,\n",
       "       [ 0,  0,  0, ...,  0,  0,  0],\n",
       "       [ 0,  0,  0, ...,  0,  0,  0],\n",
       "       [ 0,  0,  0, ...,  0,  0,  0]])"
      ]
     },
     "execution_count": 20,
     "metadata": {},
     "output_type": "execute_result"
    }
   ],
   "source": [
    "labelled_num_seq_df.seq[0]"
   ]
  },
  {
   "cell_type": "code",
   "execution_count": 21,
   "id": "256f8565-ac86-4fd2-ad81-99008ed909d3",
   "metadata": {},
   "outputs": [
    {
     "data": {
      "text/plain": [
       "32"
      ]
     },
     "execution_count": 21,
     "metadata": {},
     "output_type": "execute_result"
    }
   ],
   "source": [
    "len(labelled_num_seq_df.seq[0])"
   ]
  },
  {
   "cell_type": "code",
   "execution_count": 22,
   "id": "c8832072-bd9f-4ccb-b668-986dde9d07cc",
   "metadata": {},
   "outputs": [],
   "source": [
    "labelled_num_seq_df = labelled_num_seq_df[['seq', 'label']]"
   ]
  },
  {
   "cell_type": "code",
   "execution_count": 23,
   "id": "5df5c181-6f51-429a-9a3e-a4e4e2a11dba",
   "metadata": {},
   "outputs": [
    {
     "data": {
      "text/html": [
       "<div>\n",
       "<style scoped>\n",
       "    .dataframe tbody tr th:only-of-type {\n",
       "        vertical-align: middle;\n",
       "    }\n",
       "\n",
       "    .dataframe tbody tr th {\n",
       "        vertical-align: top;\n",
       "    }\n",
       "\n",
       "    .dataframe thead th {\n",
       "        text-align: right;\n",
       "    }\n",
       "</style>\n",
       "<table border=\"1\" class=\"dataframe\">\n",
       "  <thead>\n",
       "    <tr style=\"text-align: right;\">\n",
       "      <th></th>\n",
       "      <th>seq</th>\n",
       "      <th>label</th>\n",
       "    </tr>\n",
       "  </thead>\n",
       "  <tbody>\n",
       "    <tr>\n",
       "      <th>0</th>\n",
       "      <td>[[3, 14, 2, 2, 2, 2, 3, 28, 20, 20, 11, 6, 6, ...</td>\n",
       "      <td>hdfs_normal</td>\n",
       "    </tr>\n",
       "    <tr>\n",
       "      <th>1</th>\n",
       "      <td>[[3, 14, 2, 2, 2, 3, 3, 6, 3, 2, 3, 22, 21, 2,...</td>\n",
       "      <td>hdfs_normal</td>\n",
       "    </tr>\n",
       "    <tr>\n",
       "      <th>2</th>\n",
       "      <td>[[3, 14, 2, 2, 2, 2, 3, 28, 20, 27, 2, 11, 6, ...</td>\n",
       "      <td>hdfs_normal</td>\n",
       "    </tr>\n",
       "    <tr>\n",
       "      <th>3</th>\n",
       "      <td>[[3, 14, 2, 2, 2, 3, 3, 2, 11, 2, 2, 27, 11, 1...</td>\n",
       "      <td>hdfs_normal</td>\n",
       "    </tr>\n",
       "    <tr>\n",
       "      <th>4</th>\n",
       "      <td>[[3, 14, 2, 2, 2, 3, 6, 6, 2, 20, 21, 2, 2, 11...</td>\n",
       "      <td>hdfs_normal</td>\n",
       "    </tr>\n",
       "  </tbody>\n",
       "</table>\n",
       "</div>"
      ],
      "text/plain": [
       "                                                 seq        label\n",
       "0  [[3, 14, 2, 2, 2, 2, 3, 28, 20, 20, 11, 6, 6, ...  hdfs_normal\n",
       "1  [[3, 14, 2, 2, 2, 3, 3, 6, 3, 2, 3, 22, 21, 2,...  hdfs_normal\n",
       "2  [[3, 14, 2, 2, 2, 2, 3, 28, 20, 27, 2, 11, 6, ...  hdfs_normal\n",
       "3  [[3, 14, 2, 2, 2, 3, 3, 2, 11, 2, 2, 27, 11, 1...  hdfs_normal\n",
       "4  [[3, 14, 2, 2, 2, 3, 6, 6, 2, 20, 21, 2, 2, 11...  hdfs_normal"
      ]
     },
     "execution_count": 23,
     "metadata": {},
     "output_type": "execute_result"
    }
   ],
   "source": [
    "labelled_num_seq_df.head()"
   ]
  },
  {
   "cell_type": "code",
   "execution_count": 7,
   "id": "3640246f-69fd-4f9a-8a35-e7d42f9e76ae",
   "metadata": {},
   "outputs": [],
   "source": [
    "\n",
    "# padded_seq = pad_sequences( labelled_num_seq_df.seq,  maxlen=32, \n",
    "#                                               padding='post', truncating='pre')"
   ]
  },
  {
   "cell_type": "code",
   "execution_count": 8,
   "id": "c0f42d8e-ae9a-4ca6-8a3b-73d73e4fdd36",
   "metadata": {
    "tags": []
   },
   "outputs": [],
   "source": [
    "# padded_seq.shape"
   ]
  },
  {
   "cell_type": "code",
   "execution_count": 9,
   "id": "240d134c-74d4-4a77-9ea2-b678eab30aa3",
   "metadata": {},
   "outputs": [],
   "source": [
    "# padded_seq[0]"
   ]
  },
  {
   "cell_type": "code",
   "execution_count": 10,
   "id": "4d0d9ef5-0957-4f46-9791-194d19dc46c7",
   "metadata": {},
   "outputs": [],
   "source": [
    "# labelled_num_seq_df['seq1'] = padded_seq\n",
    "# labelled_num_seq_df.seq1.shape"
   ]
  },
  {
   "cell_type": "code",
   "execution_count": 11,
   "id": "f718dba5-299d-44b0-b6f1-42535b83060a",
   "metadata": {},
   "outputs": [],
   "source": [
    "# labelled_num_seq_df.head()"
   ]
  },
  {
   "cell_type": "code",
   "execution_count": 12,
   "id": "5a882618-b40f-41a9-aabb-838ea8b0ca41",
   "metadata": {},
   "outputs": [],
   "source": [
    "# newdf = labelled_num_seq_df.copy()"
   ]
  },
  {
   "cell_type": "code",
   "execution_count": 13,
   "id": "7de6c0a4-b884-416f-960d-85e34d2990bf",
   "metadata": {},
   "outputs": [],
   "source": [
    "# len(padded_seq)"
   ]
  },
  {
   "cell_type": "code",
   "execution_count": 14,
   "id": "72ade3de-f73c-448b-979d-1a4f89efa4cb",
   "metadata": {},
   "outputs": [],
   "source": [
    "# len(newdf.seq)"
   ]
  },
  {
   "cell_type": "code",
   "execution_count": 15,
   "id": "cb059164-b7f7-403d-a2b9-6ab0a267084a",
   "metadata": {},
   "outputs": [],
   "source": [
    "# nndf = newdf.drop(columns=['seq'], inplace=True)"
   ]
  },
  {
   "cell_type": "code",
   "execution_count": 16,
   "id": "e71bb57b-8caf-407d-aeaf-48c6cafe233e",
   "metadata": {},
   "outputs": [],
   "source": [
    "# nndf['seq'] = padded_seq"
   ]
  },
  {
   "cell_type": "code",
   "execution_count": 17,
   "id": "5774fa94-50f8-4fce-a1eb-f434d1800189",
   "metadata": {},
   "outputs": [],
   "source": [
    "# nndf = nndf.drop(columns=['seq'])"
   ]
  },
  {
   "cell_type": "code",
   "execution_count": 18,
   "id": "7e1e517a-438d-4856-be90-aa0f2993b5bd",
   "metadata": {},
   "outputs": [],
   "source": [
    "# nndf.head()"
   ]
  },
  {
   "cell_type": "code",
   "execution_count": 19,
   "id": "a925f7da-9d56-4aa1-96a5-6ebe06b5d12e",
   "metadata": {},
   "outputs": [
    {
     "ename": "NameError",
     "evalue": "name 'padded_seq' is not defined",
     "output_type": "error",
     "traceback": [
      "\u001b[1;31m---------------------------------------------------------------------------\u001b[0m",
      "\u001b[1;31mNameError\u001b[0m                                 Traceback (most recent call last)",
      "Input \u001b[1;32mIn [19]\u001b[0m, in \u001b[0;36m<cell line: 1>\u001b[1;34m()\u001b[0m\n\u001b[1;32m----> 1\u001b[0m s \u001b[38;5;241m=\u001b[39m pd\u001b[38;5;241m.\u001b[39mSeries(\u001b[38;5;28mlist\u001b[39m(\u001b[43mpadded_seq\u001b[49m))\n",
      "\u001b[1;31mNameError\u001b[0m: name 'padded_seq' is not defined"
     ]
    }
   ],
   "source": [
    "s = pd.Series(list(padded_seq))"
   ]
  },
  {
   "cell_type": "code",
   "execution_count": null,
   "id": "514a4337-48a0-497b-91c0-3d23e41c451d",
   "metadata": {},
   "outputs": [],
   "source": [
    "# s.shape"
   ]
  },
  {
   "cell_type": "code",
   "execution_count": null,
   "id": "a68eebb1-311a-446f-b3da-3ab2c4da5093",
   "metadata": {},
   "outputs": [],
   "source": [
    "# nndf['seq'] = s"
   ]
  },
  {
   "cell_type": "code",
   "execution_count": null,
   "id": "b7d99caf-3807-43c9-bc5e-a9a8a0a7b4a5",
   "metadata": {},
   "outputs": [],
   "source": [
    "nndf.seq"
   ]
  },
  {
   "cell_type": "code",
   "execution_count": null,
   "id": "c05a7796-fc4f-49c9-b841-c58c5f52b4fa",
   "metadata": {},
   "outputs": [],
   "source": [
    "# nndf.seq.shape"
   ]
  },
  {
   "cell_type": "code",
   "execution_count": null,
   "id": "15120bec-9c95-4d52-ba53-ca437ee49e9d",
   "metadata": {},
   "outputs": [],
   "source": [
    "# nndf.seq[0]"
   ]
  },
  {
   "cell_type": "code",
   "execution_count": null,
   "id": "6b31ab06-e919-4c9c-9f41-83caf3fb5be4",
   "metadata": {},
   "outputs": [],
   "source": [
    "# len(nndf.seq[0])"
   ]
  }
 ],
 "metadata": {
  "kernelspec": {
   "display_name": "Python 3 (ipykernel)",
   "language": "python",
   "name": "python3"
  },
  "language_info": {
   "codemirror_mode": {
    "name": "ipython",
    "version": 3
   },
   "file_extension": ".py",
   "mimetype": "text/x-python",
   "name": "python",
   "nbconvert_exporter": "python",
   "pygments_lexer": "ipython3",
   "version": "3.9.12"
  }
 },
 "nbformat": 4,
 "nbformat_minor": 5
}
