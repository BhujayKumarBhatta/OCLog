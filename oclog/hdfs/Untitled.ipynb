{
 "cells": [
  {
   "cell_type": "code",
   "execution_count": null,
   "id": "d60c621b",
   "metadata": {},
   "outputs": [],
   "source": []
  },
  {
   "cell_type": "code",
   "execution_count": 2,
   "id": "6c98f7b2",
   "metadata": {},
   "outputs": [],
   "source": [
    "import matplotlib.pyplot as plt"
   ]
  },
  {
   "cell_type": "code",
   "execution_count": 3,
   "id": "67305a1a",
   "metadata": {},
   "outputs": [],
   "source": [
    "d = {20: 3717, 4: 3225, 2: 2950, 27: 1036, 26: 755, 21: 616, 29: 612, 22: 408, 28: 361, 41: 358, 30: 349, 24: 341, 23: 289, 25: 245, 33: 228, 32: 198, 42: 176, 31: 171, 38: 156, 14: 133, 39: 87, 16: 87, 34: 65, 40: 42, 43: 42, 37: 35, 36: 32, 35: 18, 44: 16, 17: 12, 19: 11, 15: 11, 8: 10, 13: 10, 45: 7, 3: 6, 46: 4, 48: 2, 53: 2, 12: 2, 223: 1, 61: 1, 51: 1, 50: 1, 52: 1, 54: 1, 56: 1, 55: 1, 230: 1, 278: 1, 49: 1, 57: 1, 284: 1}"
   ]
  },
  {
   "cell_type": "code",
   "execution_count": 14,
   "id": "0797fd75",
   "metadata": {},
   "outputs": [
    {
     "data": {
      "image/png": "[encoded data removed]",
      "text/plain": [
       "<Figure size 432x288 with 1 Axes>"
      ]
     },
     "metadata": {
      "needs_background": "light"
     },
     "output_type": "display_data"
    }
   ],
   "source": [
    "plt.bar(d.keys(), d.values(), 5)\n",
    "# plt.xticks([1, 10, 20, 30, 40 , 50, 60, 70])\n",
    "plt.show()"
   ]
  }
 ],
 "metadata": {
  "kernelspec": {
   "display_name": "Python 3 (ipykernel)",
   "language": "python",
   "name": "python3"
  },
  "language_info": {
   "codemirror_mode": {
    "name": "ipython",
    "version": 3
   },
   "file_extension": ".py",
   "mimetype": "text/x-python",
   "name": "python",
   "nbconvert_exporter": "python",
   "pygments_lexer": "ipython3",
   "version": "3.8.12"
  }
 },
 "nbformat": 4,
 "nbformat_minor": 5
}
