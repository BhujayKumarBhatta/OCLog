{
 "cells": [
  {
   "cell_type": "code",
   "execution_count": 14,
   "id": "5f4d99ce-e253-43ef-bdc1-7b6a1943098c",
   "metadata": {},
   "outputs": [],
   "source": [
    "import tensorflow as tf"
   ]
  },
  {
   "cell_type": "code",
   "execution_count": 15,
   "id": "d7a0037d-6380-4449-b37b-44c9a4ead199",
   "metadata": {},
   "outputs": [],
   "source": [
    "from batched_logdata import HDFSLogGen"
   ]
  },
  {
   "cell_type": "code",
   "execution_count": 16,
   "id": "492e41c4-72e4-487c-9658-29fb600e2da9",
   "metadata": {},
   "outputs": [],
   "source": [
    "hdfsdata = HDFSLogGen()       "
   ]
  },
  {
   "cell_type": "code",
   "execution_count": 17,
   "id": "7835996b-d27b-4b9f-96f3-2be19bcb0bd1",
   "metadata": {},
   "outputs": [
    {
     "name": "stdout",
     "output_type": "stream",
     "text": [
      "total number of lines in the log file: 11175629\n",
      "completed:  0\n",
      "ending blk sequencing: 0.0009999275207519531\n",
      "completed:  1000000\n",
      "ending blk sequencing: 2.272817850112915\n",
      "completed:  2000000\n",
      "ending blk sequencing: 3.957606554031372\n",
      "completed:  3000000\n",
      "ending blk sequencing: 6.032367944717407\n",
      "completed:  4000000\n",
      "ending blk sequencing: 8.044414043426514\n",
      "completed:  5000000\n",
      "ending blk sequencing: 9.864077091217041\n",
      "completed:  6000000\n",
      "ending blk sequencing: 12.038703441619873\n",
      "completed:  7000000\n",
      "ending blk sequencing: 13.762937784194946\n",
      "completed:  8000000\n",
      "ending blk sequencing: 16.025583744049072\n",
      "completed:  9000000\n",
      "ending blk sequencing: 17.793258905410767\n",
      "completed:  10000000\n",
      "ending blk sequencing: 19.596665143966675\n",
      "completed:  11000000\n",
      "ending blk sequencing: 21.879133224487305\n"
     ]
    }
   ],
   "source": [
    "logs = hdfsdata.get_sequence_byid_with_label()"
   ]
  },
  {
   "cell_type": "code",
   "execution_count": 18,
   "id": "1cb1e78b-4831-48da-9aea-0873804cb292",
   "metadata": {},
   "outputs": [],
   "source": [
    "seq = [v[0] for v in logs.values()]\n",
    "label = [v[1] for v in logs.values()]"
   ]
  },
  {
   "cell_type": "code",
   "execution_count": 19,
   "id": "10a6c1bb-1514-401e-a61c-872e880168c8",
   "metadata": {},
   "outputs": [
    {
     "name": "stdout",
     "output_type": "stream",
     "text": [
      "269\n",
      "22\n",
      "223\n",
      "22\n",
      "38\n"
     ]
    }
   ],
   "source": [
    "for s in seq[:5]:\n",
    "    print(len(s))"
   ]
  },
  {
   "cell_type": "code",
   "execution_count": 20,
   "id": "77ff5f45-043e-4d0a-98b9-f714f9ecd683",
   "metadata": {},
   "outputs": [
    {
     "name": "stdout",
     "output_type": "stream",
     "text": [
      "269\n",
      "22\n",
      "223\n"
     ]
    }
   ],
   "source": [
    "elems = seq[:3]\n",
    "for i in elems:\n",
    "    print(len(i))"
   ]
  },
  {
   "cell_type": "code",
   "execution_count": 22,
   "id": "792e7d6e-26f4-4515-bce1-ec604af4a3ee",
   "metadata": {},
   "outputs": [
    {
     "data": {
      "text/plain": [
       "'081109 203520 142 info dfs.datanode$dataxceiver: receiving block blk_7503483334202473044 src: /10.251.215.16:55695 dest: /10.251.215.16:50010'"
      ]
     },
     "execution_count": 22,
     "metadata": {},
     "output_type": "execute_result"
    }
   ],
   "source": [
    "seq[1][0]"
   ]
  },
  {
   "cell_type": "code",
   "execution_count": 23,
   "id": "37ca76f2-3b32-43ec-93c9-47ea047ee1fe",
   "metadata": {},
   "outputs": [],
   "source": [
    "tflogs = tf.data.Dataset.from_generator(lambda: elems, tf.string )"
   ]
  },
  {
   "cell_type": "code",
   "execution_count": 24,
   "id": "b8ac7459-abf0-44d2-98e9-ca1595409bcf",
   "metadata": {},
   "outputs": [
    {
     "data": {
      "text/plain": [
       "<FlatMapDataset shapes: <unknown>, types: tf.string>"
      ]
     },
     "execution_count": 24,
     "metadata": {},
     "output_type": "execute_result"
    }
   ],
   "source": [
    "tflogs"
   ]
  },
  {
   "cell_type": "code",
   "execution_count": 25,
   "id": "dd825eaa-584a-4186-bd72-866799b3105e",
   "metadata": {},
   "outputs": [
    {
     "name": "stdout",
     "output_type": "stream",
     "text": [
      "tf.Tensor(b'081109 203518 143 info dfs.datanode$dataxceiver: receiving block blk_-1608999687919862906 src: /10.250.19.102:54106 dest: /10.250.19.102:50010', shape=(), dtype=string)\n",
      "tf.Tensor(b'081109 203520 142 info dfs.datanode$dataxceiver: receiving block blk_7503483334202473044 src: /10.251.215.16:55695 dest: /10.251.215.16:50010', shape=(), dtype=string)\n",
      "tf.Tensor(b'081109 203521 145 info dfs.datanode$dataxceiver: receiving block blk_-3544583377289625738 src: /10.250.19.102:39325 dest: /10.250.19.102:50010', shape=(), dtype=string)\n"
     ]
    }
   ],
   "source": [
    "for i in tflogs:\n",
    "    print(i[0])"
   ]
  },
  {
   "cell_type": "code",
   "execution_count": 26,
   "id": "cdb55a6e-8a12-4a3c-80a6-d573309aecb8",
   "metadata": {},
   "outputs": [],
   "source": [
    "ragged_tensor_seq = tf.ragged.constant(seq[:2])"
   ]
  },
  {
   "cell_type": "code",
   "execution_count": 27,
   "id": "cf68be68-00b0-42a3-b0e7-8a56ee6b931e",
   "metadata": {},
   "outputs": [
    {
     "data": {
      "text/plain": [
       "TensorShape([2, None])"
      ]
     },
     "execution_count": 27,
     "metadata": {},
     "output_type": "execute_result"
    }
   ],
   "source": [
    "ragged_tensor_seq.shape"
   ]
  },
  {
   "cell_type": "code",
   "execution_count": 28,
   "id": "bb04a91b-d362-4d28-a229-bf38c22cc016",
   "metadata": {},
   "outputs": [],
   "source": [
    "tensor_label = tf.constant(label[:2])"
   ]
  },
  {
   "cell_type": "code",
   "execution_count": 29,
   "id": "23b9837e-2ae3-4d0a-b911-80ff4971f66e",
   "metadata": {},
   "outputs": [
    {
     "data": {
      "text/plain": [
       "TensorShape([2])"
      ]
     },
     "execution_count": 29,
     "metadata": {},
     "output_type": "execute_result"
    }
   ],
   "source": [
    "tensor_label.shape"
   ]
  },
  {
   "cell_type": "code",
   "execution_count": 48,
   "id": "0e0b7edf-e889-4013-b82a-28105f8ffe56",
   "metadata": {},
   "outputs": [
    {
     "data": {
      "text/plain": [
       "<TensorSliceDataset shapes: (None,), types: tf.string>"
      ]
     },
     "execution_count": 48,
     "metadata": {},
     "output_type": "execute_result"
    }
   ],
   "source": [
    "d = tf.data.Dataset.from_tensor_slices(ragged_tensor_seq)\n",
    "d"
   ]
  },
  {
   "cell_type": "code",
   "execution_count": 33,
   "id": "8cd341d2-dab4-4c9c-9003-8e3de80e7c87",
   "metadata": {},
   "outputs": [
    {
     "data": {
      "text/plain": [
       "[['aaaa', 'a2', 'a3aaaa'], ['bbbb']]"
      ]
     },
     "execution_count": 33,
     "metadata": {},
     "output_type": "execute_result"
    }
   ],
   "source": [
    "l1 = ['aaaa', 'a2', 'a3aaaa']\n",
    "l2 = ['bbbb']\n",
    "l = [l1, l2]\n",
    "l"
   ]
  },
  {
   "cell_type": "code",
   "execution_count": 49,
   "id": "adf3f880-25af-4391-a5df-6d23e4442510",
   "metadata": {},
   "outputs": [
    {
     "data": {
      "text/plain": [
       "<FlatMapDataset shapes: (None,), types: tf.string>"
      ]
     },
     "execution_count": 49,
     "metadata": {},
     "output_type": "execute_result"
    }
   ],
   "source": [
    "t1 = tf.data.Dataset.from_generator(lambda: l, tf.string, output_shapes=[None])\n",
    "t1"
   ]
  },
  {
   "cell_type": "code",
   "execution_count": 50,
   "id": "2fa3e6e6-5ab5-43ce-83f8-1f5af4722f0a",
   "metadata": {},
   "outputs": [
    {
     "name": "stdout",
     "output_type": "stream",
     "text": [
      "tf.Tensor([b'aaaa' b'a2' b'a3aaaa'], shape=(3,), dtype=string)\n",
      "tf.Tensor([b'bbbb'], shape=(1,), dtype=string)\n"
     ]
    }
   ],
   "source": [
    "for x in t1:\n",
    "    print(x)"
   ]
  },
  {
   "cell_type": "code",
   "execution_count": 51,
   "id": "a38bb1fe-e922-46be-b4e7-6b91a320942e",
   "metadata": {},
   "outputs": [
    {
     "name": "stdout",
     "output_type": "stream",
     "text": [
      "tf.Tensor(b'aaaa', shape=(), dtype=string)\n",
      "tf.Tensor(b'bbbb', shape=(), dtype=string)\n"
     ]
    }
   ],
   "source": [
    "for x in t1:\n",
    "    print(x[0])"
   ]
  },
  {
   "cell_type": "code",
   "execution_count": 52,
   "id": "8c8e07bd-9859-40f1-9d18-df821e0579f5",
   "metadata": {},
   "outputs": [],
   "source": [
    "def char_fm_text(tensor):\n",
    "    for x in tensor:\n",
    "        for i in x:\n",
    "            tf.strings.unicode_split(i, input_encoding='UTF-8')"
   ]
  },
  {
   "cell_type": "code",
   "execution_count": 55,
   "id": "2ab2cd6e-f8f6-4868-af21-5f8f1069ee94",
   "metadata": {},
   "outputs": [],
   "source": [
    "# t1.map(char_fm_text)"
   ]
  },
  {
   "cell_type": "code",
   "execution_count": null,
   "id": "08dc7dc9-659d-4f4b-9c8f-9fc6c0c0d200",
   "metadata": {},
   "outputs": [],
   "source": []
  },
  {
   "cell_type": "code",
   "execution_count": 56,
   "id": "d4aadb47-89ae-42b5-9697-9d44431e3746",
   "metadata": {},
   "outputs": [],
   "source": [
    "# char_fm_logs = tflogs.map(lambda x: tf.strings.unicode_split(x, input_encoding='UTF-8'))"
   ]
  }
 ],
 "metadata": {
  "kernelspec": {
   "display_name": "Python 3 (ipykernel)",
   "language": "python",
   "name": "python3"
  },
  "language_info": {
   "codemirror_mode": {
    "name": "ipython",
    "version": 3
   },
   "file_extension": ".py",
   "mimetype": "text/x-python",
   "name": "python",
   "nbconvert_exporter": "python",
   "pygments_lexer": "ipython3",
   "version": "3.8.12"
  }
 },
 "nbformat": 4,
 "nbformat_minor": 5
}
