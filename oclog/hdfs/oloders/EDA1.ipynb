{
 "cells": [
  {
   "cell_type": "code",
   "execution_count": 2,
   "id": "deca3049",
   "metadata": {},
   "outputs": [],
   "source": [
    "import pickle"
   ]
  },
  {
   "cell_type": "code",
   "execution_count": 2,
   "id": "b46ac16d",
   "metadata": {},
   "outputs": [],
   "source": [
    "from hdflogv2 import HDFSLogv2"
   ]
  },
  {
   "cell_type": "code",
   "execution_count": 3,
   "id": "f5a5c9e7",
   "metadata": {},
   "outputs": [],
   "source": [
    "hdfslogs_v2 = HDFSLogv2()"
   ]
  },
  {
   "cell_type": "code",
   "execution_count": 4,
   "id": "09a0b7ce",
   "metadata": {},
   "outputs": [
    {
     "name": "stdout",
     "output_type": "stream",
     "text": [
      "getting ablation data: 4000\n",
      "ablation x_test positive: 4000\n",
      "total x_test negative: 554223\n",
      "0.8 % split ratio of positve class, train:4000, test:4000\n",
      "0.8 % split ratio of positve class, train:13470, test:3368\n"
     ]
    }
   ],
   "source": [
    "padded_train_test_data = hdfslogs_v2.get_padded_train_test_data(ablation=4000)"
   ]
  },
  {
   "cell_type": "code",
   "execution_count": 5,
   "id": "1f71a828",
   "metadata": {},
   "outputs": [],
   "source": [
    "with open('hdfslogs_4000.pkl', 'wb') as f:\n",
    "        pickle.dump(hdfslogs_v2, f)"
   ]
  },
  {
   "cell_type": "code",
   "execution_count": 3,
   "id": "9b64eaab",
   "metadata": {},
   "outputs": [],
   "source": [
    "with open('../data/hdfslogs_4000.pkl', 'rb') as f:\n",
    "    hdfslogs = pickle.load(f)"
   ]
  },
  {
   "cell_type": "code",
   "execution_count": 4,
   "id": "75b561ee",
   "metadata": {},
   "outputs": [],
   "source": [
    "tk = hdfslogs.tk\n",
    "with open('tk.pkl', 'wb') as f:\n",
    "        pickle.dump(tk, f)"
   ]
  },
  {
   "cell_type": "code",
   "execution_count": 5,
   "id": "21d223ae",
   "metadata": {},
   "outputs": [
    {
     "data": {
      "text/plain": [
       "{'UNK': 1,\n",
       " 'e': 2,\n",
       " 'o': 3,\n",
       " 'i': 4,\n",
       " 'd': 5,\n",
       " 't': 6,\n",
       " 'n': 7,\n",
       " 's': 8,\n",
       " 'a': 9,\n",
       " 'r': 10,\n",
       " 'c': 11,\n",
       " 'l': 12,\n",
       " 'f': 13,\n",
       " 'k': 14,\n",
       " 'b': 15,\n",
       " 'm': 16,\n",
       " '0': 17,\n",
       " 'p': 18,\n",
       " ':': 19,\n",
       " '8': 20,\n",
       " '1': 21,\n",
       " '6': 22,\n",
       " 'v': 23,\n",
       " 'g': 24,\n",
       " 'u': 25,\n",
       " '4': 26,\n",
       " '.': 27,\n",
       " 'y': 28,\n",
       " '_': 29,\n",
       " '7': 30,\n",
       " '*': 31,\n",
       " 'z': 32,\n",
       " '2': 33,\n",
       " 'h': 34,\n",
       " '3': 35,\n",
       " '5': 36,\n",
       " '9': 37,\n",
       " 'w': 38,\n",
       " 'x': 39,\n",
       " '-': 40,\n",
       " 'j': 41,\n",
       " 'q': 42}"
      ]
     },
     "execution_count": 5,
     "metadata": {},
     "output_type": "execute_result"
    }
   ],
   "source": [
    "tk.word_index"
   ]
  },
  {
   "cell_type": "code",
   "execution_count": 3,
   "id": "44a612c3",
   "metadata": {},
   "outputs": [],
   "source": [
    "ablation=10"
   ]
  },
  {
   "cell_type": "code",
   "execution_count": 5,
   "id": "46748b99",
   "metadata": {},
   "outputs": [
    {
     "name": "stdout",
     "output_type": "stream",
     "text": [
      "getting ablation data: 10\n",
      "ablation x_test positive: 10\n",
      "total x_test negative: 558213\n",
      "0.8 % split ratio of positve class, train:10, test:10\n"
     ]
    }
   ],
   "source": [
    "ablation_data = hdfslogs.get_train_test_data(ablation=ablation)"
   ]
  },
  {
   "cell_type": "code",
   "execution_count": 9,
   "id": "697b294c",
   "metadata": {},
   "outputs": [],
   "source": [
    "x_train, y_train, x_test, y_test = hdfslogs.get_padded_train_test_data(ablation=ablation)"
   ]
  },
  {
   "cell_type": "code",
   "execution_count": 10,
   "id": "c74b7ca6",
   "metadata": {},
   "outputs": [
    {
     "data": {
      "text/plain": [
       "(20, 64, 256)"
      ]
     },
     "execution_count": 10,
     "metadata": {},
     "output_type": "execute_result"
    }
   ],
   "source": [
    "x_test.shape"
   ]
  },
  {
   "cell_type": "code",
   "execution_count": 11,
   "id": "1b64436b",
   "metadata": {},
   "outputs": [
    {
     "data": {
      "text/plain": [
       "(20, 64, 256)"
      ]
     },
     "execution_count": 11,
     "metadata": {},
     "output_type": "execute_result"
    }
   ],
   "source": [
    "x_train.shape"
   ]
  },
  {
   "cell_type": "code",
   "execution_count": 7,
   "id": "3189aa68",
   "metadata": {},
   "outputs": [
    {
     "name": "stdout",
     "output_type": "stream",
     "text": [
      "getting ablation data: 1000\n",
      "ablation x_test positive: 1000\n",
      "total x_test negative: 557223\n",
      "0.8 % split ratio of positve class, train:1000, test:1000\n"
     ]
    }
   ],
   "source": [
    "ablation_data = hdfslogs.get_train_test_data(ablation=1000)\n",
    "x_train, y_train, x_test, y_test = hdfslogs.get_padded_train_test_data(ablation=1000)"
   ]
  },
  {
   "cell_type": "code",
   "execution_count": 13,
   "id": "85d48863",
   "metadata": {},
   "outputs": [
    {
     "data": {
      "text/plain": [
       "(2000, 64, 256)"
      ]
     },
     "execution_count": 13,
     "metadata": {},
     "output_type": "execute_result"
    }
   ],
   "source": [
    "x_test.shape"
   ]
  },
  {
   "cell_type": "code",
   "execution_count": 14,
   "id": "c762dedc",
   "metadata": {},
   "outputs": [
    {
     "data": {
      "text/plain": [
       "(2000, 64, 256)"
      ]
     },
     "execution_count": 14,
     "metadata": {},
     "output_type": "execute_result"
    }
   ],
   "source": [
    "x_train.shape"
   ]
  },
  {
   "cell_type": "code",
   "execution_count": 8,
   "id": "dc66037e",
   "metadata": {},
   "outputs": [
    {
     "name": "stdout",
     "output_type": "stream",
     "text": [
      "getting ablation data: 200\n",
      "ablation x_test positive: 200\n",
      "total x_test negative: 558023\n",
      "0.8 % split ratio of positve class, train:200, test:200\n",
      "(400, 64, 256) (400,)\n",
      "(400, 64, 256) (400,)\n"
     ]
    }
   ],
   "source": [
    "ablation_data = hdfslogs.get_train_test_data(ablation=200)\n",
    "x_train, y_train, x_test, y_test = hdfslogs.get_padded_train_test_data(ablation=200)\n",
    "print(x_train.shape, y_train.shape)\n",
    "print(x_test.shape, y_test.shape)"
   ]
  },
  {
   "cell_type": "code",
   "execution_count": 4,
   "id": "c2debf32",
   "metadata": {},
   "outputs": [
    {
     "name": "stdout",
     "output_type": "stream",
     "text": [
      "getting ablation data: 4000\n",
      "ablation x_test positive: 4000\n",
      "total x_test negative: 554223\n",
      "0.8 % split ratio of positve class, train:4000, test:4000\n",
      "(8000, 64, 256) (8000,)\n",
      "(8000, 64, 256) (8000,)\n"
     ]
    }
   ],
   "source": [
    "ablation_data = hdfslogs.get_train_test_data(ablation=4000)\n",
    "x_train, y_train, x_test, y_test = hdfslogs.get_padded_train_test_data(ablation=4000)\n",
    "print(x_train.shape, y_train.shape)\n",
    "print(x_test.shape, y_test.shape)"
   ]
  },
  {
   "cell_type": "code",
   "execution_count": 10,
   "id": "19bd5c2b",
   "metadata": {
    "jupyter": {
     "source_hidden": true
    }
   },
   "outputs": [
    {
     "data": {
      "text/plain": [
       "48.677019119262695"
      ]
     },
     "execution_count": 10,
     "metadata": {},
     "output_type": "execute_result"
    }
   ],
   "source": [
    "s = 51041554\n",
    "c = 1024*1024\n",
    "s/c"
   ]
  },
  {
   "cell_type": "code",
   "execution_count": 6,
   "id": "d0e5ea4c",
   "metadata": {},
   "outputs": [
    {
     "name": "stdout",
     "output_type": "stream",
     "text": [
      "getting ablation data: 4000\n",
      "ablation x_test positive: 4000\n",
      "total x_test negative: 554223\n",
      "0.8 % split ratio of positve class, train:4000, test:4000\n",
      "(8000, 64, 256) (8000,)\n",
      "(8000, 64, 256) (8000,)\n"
     ]
    }
   ],
   "source": [
    "ablation_data = hdfslogs.get_train_test_data(ablation=4000)\n",
    "padded_4000_train_test = hdfslogs.get_padded_train_test_data(ablation=4000)\n",
    "x_train_1,y_train_1,x_test_1,y_test_1 = padded_4000_train_test\n",
    "print(x_train_1.shape, y_train_1.shape)\n",
    "print(x_test_1.shape, y_test_1.shape)"
   ]
  },
  {
   "cell_type": "code",
   "execution_count": 7,
   "id": "d6c9bd3d",
   "metadata": {},
   "outputs": [],
   "source": [
    "with open('padded_4000_train_test.pkl', 'wb') as f:\n",
    "        pickle.dump(padded_4000_train_test, f)"
   ]
  },
  {
   "cell_type": "code",
   "execution_count": 9,
   "id": "eeb20ef2",
   "metadata": {},
   "outputs": [
    {
     "data": {
      "text/plain": [
       "0.9766826629638672"
      ]
     },
     "execution_count": 9,
     "metadata": {},
     "output_type": "execute_result"
    }
   ],
   "source": [
    "1024126/(1024*1024)"
   ]
  },
  {
   "cell_type": "code",
   "execution_count": 2,
   "id": "74addf8f",
   "metadata": {},
   "outputs": [],
   "source": [
    "import pickle\n",
    "with open('../data/padded_4000_train_test.pkl', 'rb') as f:\n",
    "    hdfslogs = pickle.load(f)"
   ]
  },
  {
   "cell_type": "code",
   "execution_count": null,
   "id": "fb6ffa6c",
   "metadata": {},
   "outputs": [],
   "source": []
  }
 ],
 "metadata": {
  "kernelspec": {
   "display_name": "Python 3 (ipykernel)",
   "language": "python",
   "name": "python3"
  },
  "language_info": {
   "codemirror_mode": {
    "name": "ipython",
    "version": 3
   },
   "file_extension": ".py",
   "mimetype": "text/x-python",
   "name": "python",
   "nbconvert_exporter": "python",
   "pygments_lexer": "ipython3",
   "version": "3.8.12"
  }
 },
 "nbformat": 4,
 "nbformat_minor": 5
}
