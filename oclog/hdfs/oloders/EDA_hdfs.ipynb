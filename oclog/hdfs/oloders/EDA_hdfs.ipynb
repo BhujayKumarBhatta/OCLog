{
 "cells": [
  {
   "cell_type": "code",
   "execution_count": 112,
   "id": "baaf409e",
   "metadata": {},
   "outputs": [],
   "source": [
    "import random\n",
    "from hdfslogs import HDFSLog\n",
    "import tensorflow as tf\n",
    "import numpy as np\n",
    "import pandas as pd\n",
    "from keras.preprocessing.sequence import pad_sequences"
   ]
  },
  {
   "cell_type": "code",
   "execution_count": 2,
   "id": "eee3f1c2",
   "metadata": {},
   "outputs": [],
   "source": [
    "# creating an instance of the hdfslogs, we will have to inspect the sequence and the loglines later to \n",
    "# tune the values of sequence length and the characters in line. \n",
    "hlogs = HDFSLog(train_ratio=0.9, padded_char_len=128, padded_seq_len=32,)"
   ]
  },
  {
   "cell_type": "code",
   "execution_count": 3,
   "id": "2850e992",
   "metadata": {},
   "outputs": [
    {
     "name": "stdout",
     "output_type": "stream",
     "text": [
      "total number of lines in the log file: 11175629\n",
      "RAM usage:  91719104\n",
      "starting training the tokenizer:\n",
      "ending tokenizer training: 230.0534029006958\n",
      "vocabulary size: 51\n",
      "RAM usage:  48\n",
      "vocabulary size: 51\n",
      "completed:  0\n",
      "ending blk sequencing: 0.0\n",
      "completed:  1000000\n",
      "ending blk sequencing: 2.0652763843536377\n",
      "completed:  2000000\n",
      "ending blk sequencing: 4.019099473953247\n",
      "completed:  3000000\n",
      "ending blk sequencing: 5.840413808822632\n",
      "completed:  4000000\n",
      "ending blk sequencing: 7.860861301422119\n",
      "completed:  5000000\n",
      "ending blk sequencing: 9.660545110702515\n",
      "completed:  6000000\n",
      "ending blk sequencing: 11.43095850944519\n",
      "completed:  7000000\n",
      "ending blk sequencing: 13.614781141281128\n",
      "completed:  8000000\n",
      "ending blk sequencing: 15.432470321655273\n",
      "completed:  9000000\n",
      "ending blk sequencing: 17.181137800216675\n",
      "completed:  10000000\n",
      "ending blk sequencing: 19.0540292263031\n",
      "completed:  11000000\n",
      "ending blk sequencing: 21.314929008483887\n",
      "RAM usage:  184627341\n",
      "RAM usage:  16\n",
      "getting ablation data: 10\n",
      "10 16828\n",
      "free ram %:  12.4\n"
     ]
    }
   ],
   "source": [
    "# get_train_test_data_text is to see the texts in sequence , for model training get_train_test_data_num will be used\n",
    "# the ablation parameter allows to take only 10 number each from positive and negative sequences\n",
    "x_train, y_train, x_test, y_test = hlogs.get_train_test_data_text(ablation=10)"
   ]
  },
  {
   "cell_type": "code",
   "execution_count": 4,
   "id": "6aa6f576",
   "metadata": {},
   "outputs": [
    {
     "data": {
      "text/html": [
       "<div>\n",
       "<style scoped>\n",
       "    .dataframe tbody tr th:only-of-type {\n",
       "        vertical-align: middle;\n",
       "    }\n",
       "\n",
       "    .dataframe tbody tr th {\n",
       "        vertical-align: top;\n",
       "    }\n",
       "\n",
       "    .dataframe thead th {\n",
       "        text-align: right;\n",
       "    }\n",
       "</style>\n",
       "<table border=\"1\" class=\"dataframe\">\n",
       "  <thead>\n",
       "    <tr style=\"text-align: right;\">\n",
       "      <th></th>\n",
       "      <th>BlockId</th>\n",
       "      <th>LogSequence</th>\n",
       "      <th>Label</th>\n",
       "    </tr>\n",
       "  </thead>\n",
       "  <tbody>\n",
       "    <tr>\n",
       "      <th>0</th>\n",
       "      <td>blk_-1608999687919862906</td>\n",
       "      <td>[081109 203518 143 info dfs.datanode$dataxceiv...</td>\n",
       "      <td>0</td>\n",
       "    </tr>\n",
       "    <tr>\n",
       "      <th>1</th>\n",
       "      <td>blk_7503483334202473044</td>\n",
       "      <td>[081109 203520 142 info dfs.datanode$dataxceiv...</td>\n",
       "      <td>0</td>\n",
       "    </tr>\n",
       "    <tr>\n",
       "      <th>2</th>\n",
       "      <td>blk_-3544583377289625738</td>\n",
       "      <td>[081109 203521 145 info dfs.datanode$dataxceiv...</td>\n",
       "      <td>1</td>\n",
       "    </tr>\n",
       "    <tr>\n",
       "      <th>3</th>\n",
       "      <td>blk_-9073992586687739851</td>\n",
       "      <td>[081109 203523 143 info dfs.datanode$dataxceiv...</td>\n",
       "      <td>0</td>\n",
       "    </tr>\n",
       "    <tr>\n",
       "      <th>4</th>\n",
       "      <td>blk_7854771516489510256</td>\n",
       "      <td>[081109 203529 148 info dfs.datanode$dataxceiv...</td>\n",
       "      <td>0</td>\n",
       "    </tr>\n",
       "    <tr>\n",
       "      <th>...</th>\n",
       "      <td>...</td>\n",
       "      <td>...</td>\n",
       "      <td>...</td>\n",
       "    </tr>\n",
       "    <tr>\n",
       "      <th>575056</th>\n",
       "      <td>blk_1019720114020043203</td>\n",
       "      <td>[081111 110351 27174 info dfs.datanode$dataxce...</td>\n",
       "      <td>0</td>\n",
       "    </tr>\n",
       "    <tr>\n",
       "      <th>575057</th>\n",
       "      <td>blk_-2683116845478050414</td>\n",
       "      <td>[081111 110359 26685 info dfs.datanode$dataxce...</td>\n",
       "      <td>0</td>\n",
       "    </tr>\n",
       "    <tr>\n",
       "      <th>575058</th>\n",
       "      <td>blk_5595059397348477632</td>\n",
       "      <td>[081111 110402 27311 info dfs.datanode$dataxce...</td>\n",
       "      <td>0</td>\n",
       "    </tr>\n",
       "    <tr>\n",
       "      <th>575059</th>\n",
       "      <td>blk_1513937873877967730</td>\n",
       "      <td>[081111 110412 27231 info dfs.datanode$dataxce...</td>\n",
       "      <td>0</td>\n",
       "    </tr>\n",
       "    <tr>\n",
       "      <th>575060</th>\n",
       "      <td>blk_-9128742458709757181</td>\n",
       "      <td>[081111 110413 26687 info dfs.datanode$dataxce...</td>\n",
       "      <td>1</td>\n",
       "    </tr>\n",
       "  </tbody>\n",
       "</table>\n",
       "<p>575061 rows × 3 columns</p>\n",
       "</div>"
      ],
      "text/plain": [
       "                         BlockId  \\\n",
       "0       blk_-1608999687919862906   \n",
       "1        blk_7503483334202473044   \n",
       "2       blk_-3544583377289625738   \n",
       "3       blk_-9073992586687739851   \n",
       "4        blk_7854771516489510256   \n",
       "...                          ...   \n",
       "575056   blk_1019720114020043203   \n",
       "575057  blk_-2683116845478050414   \n",
       "575058   blk_5595059397348477632   \n",
       "575059   blk_1513937873877967730   \n",
       "575060  blk_-9128742458709757181   \n",
       "\n",
       "                                              LogSequence  Label  \n",
       "0       [081109 203518 143 info dfs.datanode$dataxceiv...      0  \n",
       "1       [081109 203520 142 info dfs.datanode$dataxceiv...      0  \n",
       "2       [081109 203521 145 info dfs.datanode$dataxceiv...      1  \n",
       "3       [081109 203523 143 info dfs.datanode$dataxceiv...      0  \n",
       "4       [081109 203529 148 info dfs.datanode$dataxceiv...      0  \n",
       "...                                                   ...    ...  \n",
       "575056  [081111 110351 27174 info dfs.datanode$dataxce...      0  \n",
       "575057  [081111 110359 26685 info dfs.datanode$dataxce...      0  \n",
       "575058  [081111 110402 27311 info dfs.datanode$dataxce...      0  \n",
       "575059  [081111 110412 27231 info dfs.datanode$dataxce...      0  \n",
       "575060  [081111 110413 26687 info dfs.datanode$dataxce...      1  \n",
       "\n",
       "[575061 rows x 3 columns]"
      ]
     },
     "execution_count": 4,
     "metadata": {},
     "output_type": "execute_result"
    }
   ],
   "source": [
    "# running get_train_test_data_text will provide us seq_of_log_texts\n",
    "# we can load it in a dataframe to observe how a positve and negative sequence looks line\n",
    "df = hlogs.seq_of_log_texts\n",
    "df"
   ]
  },
  {
   "cell_type": "code",
   "execution_count": 6,
   "id": "ce1aad17",
   "metadata": {},
   "outputs": [],
   "source": [
    "# lets filter only those sequences which are anomalous\n",
    "dfpos=None\n",
    "dfpos= df[df.Label == 1]\n",
    "# filterted rows will have the original index , for ease of slicing we reset the index staring fron 0\n",
    "dfpos = dfpos.reset_index()\n",
    "# slice a single sequence\n",
    "single_sequence = dfpos.iloc[0:1, 2:]['LogSequence'].to_list()\n",
    "# observe its length\n",
    "len(single_sequence[0])\n",
    "# take all the values in a list and see the total number\n",
    "pos_seqs = dfpos.LogSequence.values\n",
    "print('total positive sequences', len(pos_seqs))"
   ]
  },
  {
   "cell_type": "code",
   "execution_count": 61,
   "id": "b140b299",
   "metadata": {},
   "outputs": [
    {
     "name": "stdout",
     "output_type": "stream",
     "text": [
      "average len of seq:  17.119016510274378\n",
      "most frequent len of seq:  20\n",
      "max len of seq:  284\n",
      "seq len distribution:  Counter({20: 3717, 4: 3225, 2: 2950, 27: 1036, 26: 755, 21: 616, 29: 612, 22: 408, 28: 361, 41: 358, 30: 349, 24: 341, 23: 289, 25: 245, 33: 228, 32: 198, 42: 176, 31: 171, 38: 156, 14: 133, 39: 87, 16: 87, 34: 65, 40: 42, 43: 42, 37: 35, 36: 32, 35: 18, 44: 16, 17: 12, 19: 11, 15: 11, 8: 10, 13: 10, 45: 7, 3: 6, 46: 4, 48: 2, 53: 2, 12: 2, 223: 1, 61: 1, 51: 1, 50: 1, 52: 1, 54: 1, 56: 1, 55: 1, 230: 1, 278: 1, 49: 1, 57: 1, 284: 1})\n",
      "1283 number of seq whose len is higer than 32 \n"
     ]
    }
   ],
   "source": [
    "# see the average, max length of the positive sequence also see how many sequences are having length higher than the average or a cutoff value we decide\n",
    "from  statistics import mean, mode\n",
    "seq_len = [len(seq) for seq in  pos_seqs]\n",
    "print('average len of seq: ',mean(seq_len))\n",
    "print('most frequent len of seq: ', mode(seq_len))\n",
    "print('max len of seq: ', max(seq_len))\n",
    "# print(seq_len)\n",
    "from collections import Counter\n",
    "cnt = Counter(seq_len)\n",
    "print('seq len distribution: ', cnt)\n",
    "def check_losses(seqlen):\n",
    "    num_of_datapoints = []\n",
    "    for k,v in cnt.items():\n",
    "        if k > seqlen:\n",
    "            num_of_datapoints.append(v)\n",
    "    print(f'{sum(num_of_datapoints)} number of seq whose len is higer than {seqlen} ', )\n",
    "# put a cutoff value as the param to the function to check how many sequences will be stripped off if we decide to keep the max of the sequence \n",
    "# equal to the cutoff value\n",
    "check_losses(32)"
   ]
  },
  {
   "cell_type": "code",
   "execution_count": null,
   "id": "ce00acad",
   "metadata": {},
   "outputs": [],
   "source": [
    "# we observe that with 64 as the max len , only 4 numbers of sequences will be truncated\n",
    "# with 40- 50 it is going to be 800 to 21 \n",
    "# with 32 we  around 1238 number of sequences will be truncated\n",
    "# So if there is a sequence which has 64 lines, as per the 'pre' truncate configuration initial 32 lines will be truncated\n",
    "# where as if there is a sequence which is having 16 lines, last 16 lines will be filled with zero\n",
    "# if we decide to take 32 as the max lentgh , we have not estimated how many require padding but 1238 total lines will be truncated \n",
    "# .... many sequences will be impacted by the truncating"
   ]
  },
  {
   "cell_type": "code",
   "execution_count": 73,
   "id": "35215f86",
   "metadata": {},
   "outputs": [
    {
     "name": "stdout",
     "output_type": "stream",
     "text": [
      "len of seqence 40\n",
      "0:  081109 203530 149 info dfs.datanode$dataxceiver: receiving block blk_-8531310335568756456 src: /10.251.203.149:53912 dest: /10.251.203.149:50010\n",
      "1:  081109 203530 28 info dfs.fsnamesystem: block* namesystem.allocateblock: /user/root/rand/_temporary/_task_200811092030_0001_m_000007_0/part-00007. blk_-8531310335568756456\n",
      "2:  081109 203532 146 info dfs.datanode$dataxceiver: receiving block blk_-8531310335568756456 src: /10.251.106.10:36502 dest: /10.251.106.10:50010\n",
      "3:  081109 203532 151 info dfs.datanode$dataxceiver: receiving block blk_-8531310335568756456 src: /10.251.203.149:59042 dest: /10.251.203.149:50010\n",
      "4:  081109 203628 150 info dfs.datanode$packetresponder: packetresponder 0 for block blk_-8531310335568756456 terminating\n",
      "5:  081109 203628 150 info dfs.datanode$packetresponder: received block blk_-8531310335568756456 of size 67108864 from /10.251.106.10\n",
      "6:  081109 203628 152 info dfs.datanode$packetresponder: packetresponder 2 for block blk_-8531310335568756456 terminating\n",
      "7:  081109 203628 152 info dfs.datanode$packetresponder: received block blk_-8531310335568756456 of size 67108864 from /10.251.203.149\n",
      "8:  081109 203628 158 info dfs.datanode$packetresponder: packetresponder 1 for block blk_-8531310335568756456 terminating\n",
      "9:  081109 203628 158 info dfs.datanode$packetresponder: received block blk_-8531310335568756456 of size 67108864 from /10.251.203.149\n",
      "10:  081109 203628 27 info dfs.fsnamesystem: block* namesystem.addstoredblock: blockmap updated: 10.251.203.149:50010 is added to blk_-8531310335568756456 size 67108864\n",
      "11:  081109 203628 33 info dfs.fsnamesystem: block* namesystem.addstoredblock: blockmap updated: 10.250.7.146:50010 is added to blk_-8531310335568756456 size 67108864\n",
      "12:  081109 203628 35 info dfs.fsnamesystem: block* namesystem.addstoredblock: blockmap updated: 10.251.106.10:50010 is added to blk_-8531310335568756456 size 67108864\n",
      "13:  081109 204249 13 info dfs.datablockscanner: verification succeeded for blk_-8531310335568756456\n",
      "14:  081109 205011 13 info dfs.datablockscanner: verification succeeded for blk_-8531310335568756456\n",
      "15:  081109 213138 13 info dfs.datablockscanner: verification succeeded for blk_-8531310335568756456\n",
      "16:  081109 213852 2573 warn dfs.datanode$dataxceiver: 10.251.203.149:50010:got exception while serving blk_-8531310335568756456 to /10.251.39.144:\n",
      "17:  081109 214126 2607 warn dfs.datanode$dataxceiver: 10.250.7.146:50010:got exception while serving blk_-8531310335568756456 to /10.251.89.155:\n",
      "18:  081109 214127 2460 warn dfs.datanode$dataxceiver: 10.251.106.10:50010:got exception while serving blk_-8531310335568756456 to /10.250.11.100:\n",
      "19:  081109 214127 2462 warn dfs.datanode$dataxceiver: 10.251.106.10:50010:got exception while serving blk_-8531310335568756456 to /10.251.75.143:\n",
      "20:  081109 214129 2669 warn dfs.datanode$dataxceiver: 10.251.203.149:50010:got exception while serving blk_-8531310335568756456 to /10.251.215.50:\n",
      "21:  081109 214130 2613 warn dfs.datanode$dataxceiver: 10.250.7.146:50010:got exception while serving blk_-8531310335568756456 to /10.250.5.161:\n",
      "22:  081109 214131 2465 warn dfs.datanode$dataxceiver: 10.251.106.10:50010:got exception while serving blk_-8531310335568756456 to /10.251.107.242:\n",
      "23:  081109 214131 2674 warn dfs.datanode$dataxceiver: 10.251.203.149:50010:got exception while serving blk_-8531310335568756456 to /10.251.42.84:\n",
      "24:  081109 214131 2675 warn dfs.datanode$dataxceiver: 10.251.203.149:50010:got exception while serving blk_-8531310335568756456 to /10.250.9.207:\n",
      "25:  081109 214134 2616 warn dfs.datanode$dataxceiver: 10.250.7.146:50010:got exception while serving blk_-8531310335568756456 to /10.251.42.246:\n",
      "26:  081109 214134 2677 warn dfs.datanode$dataxceiver: 10.251.203.149:50010:got exception while serving blk_-8531310335568756456 to /10.251.75.79:\n",
      "27:  081109 214136 2683 warn dfs.datanode$dataxceiver: 10.251.203.149:50010:got exception while serving blk_-8531310335568756456 to /10.251.215.16:\n",
      "28:  081109 214141 2471 warn dfs.datanode$dataxceiver: 10.251.106.10:50010:got exception while serving blk_-8531310335568756456 to /10.251.193.224:\n",
      "29:  081109 214143 2618 warn dfs.datanode$dataxceiver: 10.250.7.146:50010:got exception while serving blk_-8531310335568756456 to /10.251.30.179:\n",
      "30:  081109 214148 2473 warn dfs.datanode$dataxceiver: 10.251.106.10:50010:got exception while serving blk_-8531310335568756456 to /10.251.106.10:\n",
      "31:  081109 214158 2614 info dfs.datanode$dataxceiver: 10.250.7.146:50010 served block blk_-8531310335568756456 to /10.250.7.146\n",
      "32:  081110 103053 30 info dfs.fsnamesystem: block* namesystem.delete: blk_-8531310335568756456 is added to invalidset of 10.250.7.146:50010\n",
      "33:  081110 103053 30 info dfs.fsnamesystem: block* namesystem.delete: blk_-8531310335568756456 is added to invalidset of 10.251.106.10:50010\n",
      "34:  081110 103053 30 info dfs.fsnamesystem: block* namesystem.delete: blk_-8531310335568756456 is added to invalidset of 10.251.203.149:50010\n",
      "35:  081110 103307 19 info dfs.fsdataset: deleting block blk_-8531310335568756456 file /mnt/hadoop/dfs/data/current/blk_-8531310335568756456\n",
      "36:  081110 103408 19 info dfs.fsdataset: deleting block blk_-8531310335568756456 file /mnt/hadoop/dfs/data/current/blk_-8531310335568756456\n",
      "37:  081110 104628 27 info dfs.fsnamesystem: block* namesystem.addstoredblock: addstoredblock request received for blk_-8531310335568756456 on 10.251.106.10:50010 size 67108864 but it does not belong to any file.\n",
      "38:  081110 104628 27 info dfs.fsnamesystem: block* namesystem.addstoredblock: blockmap updated: 10.251.106.10:50010 is added to blk_-8531310335568756456 size 67108864\n",
      "39:  081110 104717 19 info dfs.fsdataset: deleting block blk_-8531310335568756456 file /mnt/hadoop/dfs/data/current/blk_-8531310335568756456\n"
     ]
    }
   ],
   "source": [
    "# how a positive sequence look like? what makes it anomalous? \n",
    "pseq = pos_seqs[1]\n",
    "print('len of seqence', len(pseq))\n",
    "for i,l in enumerate(pseq):\n",
    "    print(f'{i}:  {l}')"
   ]
  },
  {
   "cell_type": "code",
   "execution_count": 337,
   "id": "3743d9f9",
   "metadata": {},
   "outputs": [
    {
     "name": "stdout",
     "output_type": "stream",
     "text": [
      "len of the type_1_line: : 142\n",
      "len of the type_2_line: : 207\n",
      "type_1_line line after num conversion:  [[4, 12, 3, 3, 4, 21, 2, 7, 3, 16, 12, 10, 7, 2, 7, 10, 19, 16, 2, 43, 11, 24, 17, 2, 6, 22, 8, 14, 6, 11, 13, 11, 17, 9, 6, 5, 36, 6, 11, 13, 11, 41, 26, 5, 20, 33, 5, 24, 28, 2, 3, 4, 14, 7, 10, 3, 14, 7, 4, 16, 14, 3, 15, 21, 28, 10, 4, 4, 3, 4, 28, 37, 9, 13, 2, 5, 41, 26, 5, 31, 13, 20, 9, 17, 2, 43, 42, 20, 23, 5, 2, 8, 5, 24, 33, 20, 17, 37, 2, 27, 23, 25, 32, 35, 12, 10, 16, 3, 16, 3, 4, 16, 16, 10, 10, 18, 12, 19, 10, 18, 15, 10, 18, 2, 13, 9, 2, 30, 3, 4, 14, 7, 10, 3, 14, 16, 21, 14, 3, 15, 15, 28]]\n",
      "len of type_1_line  after num conversion 1\n",
      "type_2_line after num conversion:  [[4, 12, 3, 3, 3, 4, 2, 3, 4, 15, 18, 7, 12, 2, 7, 19, 2, 20, 17, 22, 9, 2, 6, 22, 8, 14, 22, 8, 17, 11, 29, 5, 8, 34, 8, 13, 5, 29, 28, 2, 27, 23, 9, 26, 25, 39, 2, 17, 11, 29, 5, 8, 34, 8, 13, 5, 29, 14, 11, 6, 6, 8, 13, 9, 24, 5, 6, 27, 23, 9, 26, 25, 28, 2, 11, 6, 6, 8, 13, 9, 24, 5, 6, 27, 23, 9, 26, 25, 2, 24, 5, 47, 38, 5, 8, 13, 2, 24, 5, 26, 5, 20, 33, 5, 6, 2, 22, 9, 24, 2, 27, 23, 25, 32, 35, 12, 10, 16, 3, 16, 3, 4, 16, 16, 10, 10, 18, 12, 19, 10, 18, 15, 10, 18, 2, 9, 17, 2, 3, 4, 14, 7, 10, 3, 14, 3, 4, 18, 14, 3, 4, 28, 10, 4, 4, 3, 4, 2, 8, 20, 40, 5, 2, 18, 19, 3, 4, 12, 12, 18, 15, 2, 27, 38, 13, 2, 20, 13, 2, 6, 9, 5, 8, 2, 17, 9, 13, 2, 27, 5, 23, 9, 17, 37, 2, 13, 9, 2, 11, 17, 34, 2, 22, 20, 23, 5, 14]]\n",
      "len of type_2_line after num conversion 1\n"
     ]
    }
   ],
   "source": [
    "# we can observe that following parts of the texts might be the reason for this sequence being anomaly\n",
    "#type_1_line: warn dfs.datanode$dataxceiver ..... got exception while serving blk\n",
    "type_1_line = '081109 213852 2573 warn dfs.datanode$dataxceiver: 10.251.203.149:50010:got exception while serving blk_-8531310335568756456 to /10.251.39.144:'\n",
    "print(f'len of the type_1_line: : {len(type_1_line)}')\n",
    "# type_2_line: info dfs.fsnamesystem: block* namesystem.addstoredblock: addstoredblock request received for blk_-8531310335568756456 on 10.251.106.10:50010 size 67108864 but it does not belong to any file\n",
    "type_2_line = '081110 104628 27 info dfs.fsnamesystem: block* namesystem.addstoredblock: addstoredblock request received for blk_-8531310335568756456 on 10.251.106.10:50010 size 67108864 but it does not belong to any file.'\n",
    "print(f'len of the type_2_line: : {len(type_2_line)}')\n",
    "# first line severity level is warn line toward the end having info severity\n",
    "#############################################\n",
    "#On the otherhand the initial lines in the sequence are actually indicating sucess and normal bevaviour\n",
    "# verification succeeded for blk_-8531310335568756456\n",
    "# These lines are at the begining of the sequences , upto 16th line they are normal.\n",
    "# Indicates that in a sequence of 40 lines, even if set maxlen = 32 , initial 8 lines will be truncated, retaining 8 normal and rest of the abnormal lines. \n",
    "################################\n",
    "# We can't pad the log text directly, the pad_sequence method does not seem to work on raw text as shown in the value error statement\n",
    "# pad_sequences(pseq, maxlen=32, truncating='pre', padding='post')\n",
    "# ValueError: invalid literal for int() with base 10: '47038 dest: /10.251.71.193:50010'\n",
    "# so we converted each characters of  both the type_1_line and type_2_line to number: \n",
    "# type_1_line = pseq[16:17]\n",
    "# print('type_1_line: ', type_1_line)\n",
    "tknum = tk.texts_to_sequences([type_1_line])\n",
    "print('type_1_line line after num conversion: ', tknum)\n",
    "print('len of type_1_line  after num conversion', len(tknum))\n",
    "# type_2_line = pseq[-3:-2]\n",
    "# print('type_2_line: ', type_2_line)\n",
    "tknum = tk.texts_to_sequences([type_2_line])\n",
    "print('type_2_line after num conversion: ', tknum)\n",
    "print('len of type_2_line after num conversion', len(tknum))"
   ]
  },
  {
   "cell_type": "code",
   "execution_count": null,
   "id": "c78911f9",
   "metadata": {},
   "outputs": [],
   "source": [
    "# type_1_line which contains more negative words e.g.,  'warn', and  'exception' is shorter length, 142 characters compared to the type_2_line whose length is 207\n",
    "# actually for this type_1_line, only the severity and the message part is only sufficient numbers, meta information e.g., time stamp and other numercial information is not playing nay role\n",
    "# The timestamp and blk_id, source(dfs.datanode$dataxceiver) and the ip address are potentially not carrying any valuable information that can indicate anomaly. We will have to reflect on this. We have a potential to save around 50-60 chacters. \n",
    "# for type_2_line,  the possible anomalous part is \" does not belong to any file\". This appears at the end of the line.\n",
    "# This indicates if we have to adopt a truncating strategy, it is better to truncate the first part of the message which carries time, source and severtiy. \n",
    "# The valualbe part we loose is severity.However for type 2, severity='info' does not indicate anomaly.  for type1, severity='warn' will be retained as long as the maxlen is around 140\n",
    "# checking another sequence just to ensure repeatable pattern for type_1_line and  type_2_line in an anomalous sequnce of lines"
   ]
  },
  {
   "cell_type": "code",
   "execution_count": 124,
   "id": "253b4d26",
   "metadata": {},
   "outputs": [],
   "source": [
    "def inspect_sequence_by_seq_len(slen, print_indexes=False):\n",
    "    seq_len_40_indexes = [i for i,v in enumerate(pos_seqs) if len(v)==slen]\n",
    "    if print_indexes:\n",
    "        print('seq_len_40_indexes: ', seq_len_40_indexes)\n",
    "    print('number of indexes: ', len(seq_len_40_indexes))\n",
    "    randomly_selected_index = random.choice(seq_len_40_indexes)\n",
    "    print('chosen random index: ', randomly_selected_index)\n",
    "    pseq = pos_seqs[randomly_selected_index]\n",
    "    print('len of seqence', len(pseq))\n",
    "    for i,l in enumerate(pseq):\n",
    "        print(f'{i}:  {l}')        "
   ]
  },
  {
   "cell_type": "code",
   "execution_count": 115,
   "id": "2ec11fe5",
   "metadata": {},
   "outputs": [
    {
     "name": "stdout",
     "output_type": "stream",
     "text": [
      "seq_len_40_indexes:  [1, 2, 5, 7, 6201, 6206, 6209, 6381, 6394, 6398, 6399, 6403, 6404, 6417, 6426, 6428, 6458, 6481, 6513, 6636, 6673, 6734, 6739, 6747, 6755, 6862, 6945, 6969, 6971, 6981, 6984, 7062, 7072, 7248, 7273, 7325, 7327, 7398, 7446, 7475, 7582, 13751]\n",
      "number of indexes:  42\n",
      "chosen random index:  7325\n",
      "len of seqence 40\n",
      "0:  081110 122453 11016 info dfs.datanode$dataxceiver: receiving block blk_-8833916647701959447 src: /10.251.123.33:60036 dest: /10.251.123.33:50010\n",
      "1:  081110 122453 30 info dfs.fsnamesystem: block* namesystem.allocateblock: /user/root/randtxt2/_temporary/_task_200811101024_0002_m_001489_0/part-01489. blk_-8833916647701959447\n",
      "2:  081110 122453 8602 info dfs.datanode$dataxceiver: receiving block blk_-8833916647701959447 src: /10.251.123.33:55473 dest: /10.251.123.33:50010\n",
      "3:  081110 122454 10971 info dfs.datanode$dataxceiver: receiving block blk_-8833916647701959447 src: /10.250.15.240:56807 dest: /10.250.15.240:50010\n",
      "4:  081110 122544 10972 info dfs.datanode$packetresponder: packetresponder 0 for block blk_-8833916647701959447 terminating\n",
      "5:  081110 122544 10972 info dfs.datanode$packetresponder: received block blk_-8833916647701959447 of size 67108864 from /10.250.15.240\n",
      "6:  081110 122544 11017 info dfs.datanode$packetresponder: packetresponder 1 for block blk_-8833916647701959447 terminating\n",
      "7:  081110 122544 11017 info dfs.datanode$packetresponder: received block blk_-8833916647701959447 of size 67108864 from /10.251.123.33\n",
      "8:  081110 122544 28 info dfs.fsnamesystem: block* namesystem.addstoredblock: blockmap updated: 10.251.123.33:50010 is added to blk_-8833916647701959447 size 67108864\n",
      "9:  081110 122544 34 info dfs.fsnamesystem: block* namesystem.addstoredblock: blockmap updated: 10.250.15.240:50010 is added to blk_-8833916647701959447 size 67108864\n",
      "10:  081110 122544 35 info dfs.fsnamesystem: block* namesystem.addstoredblock: blockmap updated: 10.251.195.52:50010 is added to blk_-8833916647701959447 size 67108864\n",
      "11:  081110 122544 8603 info dfs.datanode$packetresponder: packetresponder 2 for block blk_-8833916647701959447 terminating\n",
      "12:  081110 122544 8603 info dfs.datanode$packetresponder: received block blk_-8833916647701959447 of size 67108864 from /10.251.123.33\n",
      "13:  081110 191438 10888 info dfs.datanode$dataxceiver: 10.251.123.33:50010 served block blk_-8833916647701959447 to /10.251.91.32\n",
      "14:  081110 192054 10921 warn dfs.datanode$dataxceiver: 10.251.123.33:50010:got exception while serving blk_-8833916647701959447 to /10.251.90.64:\n",
      "15:  081110 202328 14353 info dfs.datanode$dataxceiver: 10.250.15.240:50010 served block blk_-8833916647701959447 to /10.251.66.102\n",
      "16:  081110 211435 19 info dfs.fsnamesystem: block* ask 10.250.15.240:50010 to replicate blk_-8833916647701959447 to datanode(s) 10.251.38.53:50010\n",
      "17:  081110 211436 14810 info dfs.datanode$dataxceiver: receiving block blk_-8833916647701959447 src: /10.250.15.240:42315 dest: /10.250.15.240:50010\n",
      "18:  081110 211436 19 info dfs.datanode: 10.250.15.240:50010 starting thread to transfer block blk_-8833916647701959447 to 10.251.38.53:50010\n",
      "19:  081110 211457 14671 info dfs.datanode$datatransfer: 10.250.15.240:50010:transmitted block blk_-8833916647701959447 to /10.251.38.53:50010\n",
      "20:  081110 211458 14810 info dfs.datanode$dataxceiver: received block blk_-8833916647701959447 src: /10.250.15.240:42315 dest: /10.250.15.240:50010 of size 67108864\n",
      "21:  081110 211458 35 info dfs.fsnamesystem: block* namesystem.addstoredblock: blockmap updated: 10.251.38.53:50010 is added to blk_-8833916647701959447 size 67108864\n",
      "22:  081110 212509 34 info dfs.fsnamesystem: block* namesystem.addstoredblock: blockmap updated: 10.251.123.33:50010 is added to blk_-8833916647701959447 size 67108864\n",
      "23:  081110 212514 19 info dfs.fsdataset: deleting block blk_-8833916647701959447 file /mnt/hadoop/dfs/data/current/subdir57/blk_-8833916647701959447\n",
      "24:  081110 221938 19 info dfs.fsnamesystem: block* ask 10.251.195.52:50010 to replicate blk_-8833916647701959447 to datanode(s) 10.251.30.85:50010\n",
      "25:  081110 221939 19 info dfs.datanode: 10.251.195.52:50010 starting thread to transfer block blk_-8833916647701959447 to 10.251.30.85:50010\n",
      "26:  081110 221940 16028 info dfs.datanode$dataxceiver: receiving block blk_-8833916647701959447 src: /10.251.195.52:38882 dest: /10.251.195.52:50010\n",
      "27:  081110 222039 15764 info dfs.datanode$datatransfer: 10.251.195.52:50010:transmitted block blk_-8833916647701959447 to /10.251.30.85:50010\n",
      "28:  081110 222039 16028 info dfs.datanode$dataxceiver: received block blk_-8833916647701959447 src: /10.251.195.52:38882 dest: /10.251.195.52:50010 of size 67108864\n",
      "29:  081110 222039 26 info dfs.fsnamesystem: block* namesystem.addstoredblock: blockmap updated: 10.251.30.85:50010 is added to blk_-8833916647701959447 size 67108864\n",
      "30:  081110 222720 35 info dfs.fsnamesystem: block* namesystem.addstoredblock: blockmap updated: 10.251.123.33:50010 is added to blk_-8833916647701959447 size 67108864\n",
      "31:  081110 222724 19 info dfs.fsdataset: deleting block blk_-8833916647701959447 file /mnt/hadoop/dfs/data/current/subdir44/blk_-8833916647701959447\n",
      "32:  081111 021135 17492 info dfs.datanode$dataxceiver: 10.251.195.52:50010 served block blk_-8833916647701959447 to /10.251.91.32\n",
      "33:  081111 021520 13416 warn dfs.datanode$dataxceiver: 10.251.123.33:50010:got exception while serving blk_-8833916647701959447 to /10.251.106.214:\n",
      "34:  081111 023031 27 info dfs.fsnamesystem: block* namesystem.delete: blk_-8833916647701959447 is added to invalidset of 10.251.123.33:50010\n",
      "35:  081111 023031 27 info dfs.fsnamesystem: block* namesystem.delete: blk_-8833916647701959447 is added to invalidset of 10.251.195.52:50010\n",
      "36:  081111 023031 27 info dfs.fsnamesystem: block* namesystem.delete: blk_-8833916647701959447 is added to invalidset of 10.251.38.53:50010\n",
      "37:  081111 023123 19 info dfs.fsdataset: deleting block blk_-8833916647701959447 file /mnt/hadoop/dfs/data/current/subdir7/blk_-8833916647701959447\n",
      "38:  081111 023131 19 info dfs.fsdataset: deleting block blk_-8833916647701959447 file /mnt/hadoop/dfs/data/current/subdir11/blk_-8833916647701959447\n",
      "39:  081111 023209 19 info dfs.fsdataset: deleting block blk_-8833916647701959447 file /mnt/hadoop/dfs/data/current/subdir2/blk_-8833916647701959447\n"
     ]
    }
   ],
   "source": [
    "# let us check  when the sequence len = 40, whether type_1_line and type_2_line pattern appears. \n",
    "inspect_sequence_by_seq_len(40)\n",
    "# checking another sequence just to ensure repeatable pattern for type_1_line and  type_2_line in an anomalous sequnce of lines\n",
    "# refresh this cell, it will randomly show one sequence from the list of 42 sequence, all of these 42 sequences  have 40 lines"
   ]
  },
  {
   "cell_type": "code",
   "execution_count": 111,
   "id": "b022899c",
   "metadata": {},
   "outputs": [
    {
     "name": "stdout",
     "output_type": "stream",
     "text": [
      "length of type_3_line: 134\n"
     ]
    }
   ],
   "source": [
    "### for sequnce index 6969 we observed type_1_lines are 13, 32\n",
    "### this sequence has one additonal lines which has negative words potentiall caryying anomalous information\n",
    "# type_3_line:\n",
    "# 34:  081111 023021 27 info dfs.fsnamesystem: block* namesystem.delete: blk_-702618009724393925 is added to invalidset of 10.250.6.214:50010\n",
    "# 35:  081111 023021 27 info dfs.fsnamesystem: block* namesystem.delete: blk_-702618009724393925 is added to invalidset of 10.251.123.33:50010\n",
    "# 36:  081111 023021 27 info dfs.fsnamesystem: block* namesystem.delete: blk_-702618009724393925 is added to invalidset of 10.251.70.37:50010\n",
    "# type_3_line\n",
    "type_3_line = '081111 023021 27 info dfs.fsnamesystem: block* namesystem.delete: blk_-702618009724393925 is added to invalidset of 10.251.70.37:50010'\n",
    "print(f'length of type_3_line: {len(type_3_line)}')\n",
    "# we observed few sequences e.g index 6755, which is having only type_3_line but does not have type_1 or type_2 line\n",
    "# mostly i observed that there is at least one 'warn' severity with type_1_line then last few lines will be type_3_line \n",
    "#length of type_3_line = 134"
   ]
  },
  {
   "cell_type": "code",
   "execution_count": 126,
   "id": "ea929dd5",
   "metadata": {},
   "outputs": [
    {
     "name": "stdout",
     "output_type": "stream",
     "text": [
      "number of indexes:  612\n",
      "chosen random index:  4057\n",
      "len of seqence 29\n",
      "0:  081110 013053 5573 info dfs.datanode$dataxceiver: receiving block blk_9220264484457339243 src: /10.251.75.163:38278 dest: /10.251.75.163:50010\n",
      "1:  081110 013054 28 info dfs.fsnamesystem: block* namesystem.allocateblock: /user/root/randtxt/_temporary/_task_200811092030_0003_m_001179_0/part-01179. blk_9220264484457339243\n",
      "2:  081110 013054 5483 info dfs.datanode$dataxceiver: receiving block blk_9220264484457339243 src: /10.251.75.163:57319 dest: /10.251.75.163:50010\n",
      "3:  081110 013054 5611 info dfs.datanode$dataxceiver: receiving block blk_9220264484457339243 src: /10.251.71.68:37545 dest: /10.251.71.68:50010\n",
      "4:  081110 013125 27 info dfs.fsnamesystem: block* namesystem.addstoredblock: blockmap updated: 10.251.39.192:50010 is added to blk_9220264484457339243 size 67108864\n",
      "5:  081110 013125 5612 info dfs.datanode$packetresponder: packetresponder 0 for block blk_9220264484457339243 terminating\n",
      "6:  081110 013125 5612 info dfs.datanode$packetresponder: received block blk_9220264484457339243 of size 67108864 from /10.251.71.68\n",
      "7:  081110 013126 31 info dfs.fsnamesystem: block* namesystem.addstoredblock: blockmap updated: 10.251.71.68:50010 is added to blk_9220264484457339243 size 67108864\n",
      "8:  081110 013126 33 info dfs.fsnamesystem: block* namesystem.addstoredblock: blockmap updated: 10.251.75.163:50010 is added to blk_9220264484457339243 size 67108864\n",
      "9:  081110 013126 5484 info dfs.datanode$packetresponder: packetresponder 1 for block blk_9220264484457339243 terminating\n",
      "10:  081110 013126 5484 info dfs.datanode$packetresponder: received block blk_9220264484457339243 of size 67108864 from /10.251.75.163\n",
      "11:  081110 013126 5574 info dfs.datanode$packetresponder: packetresponder 2 for block blk_9220264484457339243 terminating\n",
      "12:  081110 013126 5574 info dfs.datanode$packetresponder: received block blk_9220264484457339243 of size 67108864 from /10.251.75.163\n",
      "13:  081110 043003 6784 warn dfs.datanode$dataxceiver: 10.251.75.163:50010:got exception while serving blk_9220264484457339243 to /10.251.127.243:\n",
      "14:  081110 043041 6840 info dfs.datanode$dataxceiver: 10.251.39.192:50010 served block blk_9220264484457339243 to /10.251.194.147\n",
      "15:  081110 043120 6694 info dfs.datanode$dataxceiver: 10.251.71.68:50010 served block blk_9220264484457339243 to /10.251.71.68\n",
      "16:  081110 071244 7641 warn dfs.datanode$dataxceiver: 10.251.75.163:50010:got exception while serving blk_9220264484457339243 to /10.251.127.243:\n",
      "17:  081110 071252 7645 info dfs.datanode$dataxceiver: 10.251.75.163:50010 served block blk_9220264484457339243 to /10.251.75.163\n",
      "18:  081110 071256 7639 info dfs.datanode$dataxceiver: 10.251.75.163:50010 served block blk_9220264484457339243 to /10.251.75.163\n",
      "19:  081110 082056 8176 warn dfs.datanode$dataxceiver: 10.251.71.68:50010:got exception while serving blk_9220264484457339243 to /10.251.127.243:\n",
      "20:  081110 082056 8306 info dfs.datanode$dataxceiver: 10.251.75.163:50010 served block blk_9220264484457339243 to /10.251.194.147\n",
      "21:  081110 082106 8180 info dfs.datanode$dataxceiver: 10.251.71.68:50010 served block blk_9220264484457339243 to /10.251.71.68\n",
      "22:  081110 103040 34 info dfs.fsnamesystem: block* namesystem.delete: blk_9220264484457339243 is added to invalidset of 10.251.39.192:50010\n",
      "23:  081110 103040 34 info dfs.fsnamesystem: block* namesystem.delete: blk_9220264484457339243 is added to invalidset of 10.251.71.68:50010\n",
      "24:  081110 103040 34 info dfs.fsnamesystem: block* namesystem.delete: blk_9220264484457339243 is added to invalidset of 10.251.75.163:50010\n",
      "25:  081110 103153 19 info dfs.fsdataset: deleting block blk_9220264484457339243 file /mnt/hadoop/dfs/data/current/subdir37/blk_9220264484457339243\n",
      "26:  081110 103354 18 info dfs.fsdataset: deleting block blk_9220264484457339243 file /mnt/hadoop/dfs/data/current/subdir49/blk_9220264484457339243\n",
      "27:  081110 103718 19 info dfs.fsdataset: deleting block blk_9220264484457339243 file /mnt/hadoop/dfs/data/current/subdir49/blk_9220264484457339243\n",
      "28:  081110 103808 18 warn dfs.fsdataset: unexpected error trying to delete block blk_9220264484457339243. blockinfo not found in volumemap.\n"
     ]
    }
   ],
   "source": [
    "# lets check when the seq len is 29\n",
    "inspect_sequence_by_seq_len(29)"
   ]
  },
  {
   "cell_type": "code",
   "execution_count": 117,
   "id": "74853389",
   "metadata": {},
   "outputs": [
    {
     "name": "stdout",
     "output_type": "stream",
     "text": [
      "lenght of type_4_line: 136\n"
     ]
    }
   ],
   "source": [
    "# for index 12107,  we found all lines are having severity 'info' only one line is having 'warn'\n",
    "type_4_line = '081111 075722 19 warn dfs.fsdataset: unexpected error trying to delete block blk_-8678353350316563645. blockinfo not found in volumemap.'\n",
    "print(f'lenght of type_4_line: {len(type_4_line)}')\n",
    "# type_4_line length is 136\n",
    "# for index 12767, 4981 it contains type_1 , type_3 and type_4\n",
    "# 14:  081110 054026 6976 warn dfs.datanode$dataxceiver: 10.250.15.67:50010:got exception while serving blk_8107047540607272383 to /10.251.203.4:\n",
    "# 22:  081110 103047 34 info dfs.fsnamesystem: block* namesystem.delete: blk_8107047540607272383 is added to invalidset of 10.250.10.176:50010\n",
    "# 28:  081110 103806 19 warn dfs.fsdataset: unexpected error trying to delete block blk_8107047540607272383. blockinfo not found in volumemap.\n",
    "\n",
    "# for index 200 there is no 'warn' severity , all are 'info' level severity , yet it is anomalous since there is type_3_line. \n",
    "# 23:  081110 103057 30 info dfs.fsnamesystem: block* namesystem.delete: blk_-8213344449220111733 is added to invalidset of 10.251.193.224:50010\n",
    "# 24:  081110 103057 30 info dfs.fsnamesystem: block* namesystem.delete: blk_-8213344449220111733 is added to invalidset of 10.251.194.147:50010\n",
    "# 25:  081110 103057 30 info dfs.fsnamesystem: block* namesystem.delete: blk_-8213344449220111733 is added to invalidset of 10.251.30.134:50010"
   ]
  },
  {
   "cell_type": "code",
   "execution_count": 149,
   "id": "5f01d646",
   "metadata": {},
   "outputs": [
    {
     "name": "stdout",
     "output_type": "stream",
     "text": [
      "number of indexes:  3717\n",
      "chosen random index:  7655\n",
      "len of seqence 20\n",
      "0:  081110 142509 12093 info dfs.datanode$dataxceiver: receiving block blk_8839449461991208613 src: /10.251.203.149:34091 dest: /10.251.203.149:50010\n",
      "1:  081110 142509 12276 info dfs.datanode$dataxceiver: receiving block blk_8839449461991208613 src: /10.251.203.149:53303 dest: /10.251.203.149:50010\n",
      "2:  081110 142509 26 info dfs.fsnamesystem: block* namesystem.allocateblock: /user/root/sortrand2/_temporary/_task_200811101024_0003_r_000356_0/part-00356. blk_8839449461991208613\n",
      "3:  081110 142510 12031 info dfs.datanode$dataxceiver: receiving block blk_8839449461991208613 src: /10.251.122.65:52701 dest: /10.251.122.65:50010\n",
      "4:  081110 142527 12032 info dfs.datanode$packetresponder: packetresponder 0 for block blk_8839449461991208613 terminating\n",
      "5:  081110 142527 12032 info dfs.datanode$packetresponder: received block blk_8839449461991208613 of size 67108864 from /10.251.122.65\n",
      "6:  081110 142527 12094 info dfs.datanode$packetresponder: packetresponder 1 for block blk_8839449461991208613 terminating\n",
      "7:  081110 142527 12094 info dfs.datanode$packetresponder: received block blk_8839449461991208613 of size 67108864 from /10.251.203.149\n",
      "8:  081110 142527 29 info dfs.fsnamesystem: block* namesystem.addstoredblock: blockmap updated: 10.251.122.65:50010 is added to blk_8839449461991208613 size 67108864\n",
      "9:  081110 142527 33 info dfs.fsnamesystem: block* namesystem.addstoredblock: blockmap updated: 10.251.91.32:50010 is added to blk_8839449461991208613 size 67108864\n",
      "10:  081110 142527 34 info dfs.fsnamesystem: block* namesystem.addstoredblock: blockmap updated: 10.251.203.149:50010 is added to blk_8839449461991208613 size 67108864\n",
      "11:  081110 142528 12277 info dfs.datanode$packetresponder: packetresponder 2 for block blk_8839449461991208613 terminating\n",
      "12:  081110 142528 12277 info dfs.datanode$packetresponder: received block blk_8839449461991208613 of size 67108864 from /10.251.203.149\n",
      "13:  081110 210135 28 info dfs.fsnamesystem: block* namesystem.delete: blk_8839449461991208613 is added to invalidset of 10.251.122.65:50010\n",
      "14:  081110 210135 28 info dfs.fsnamesystem: block* namesystem.delete: blk_8839449461991208613 is added to invalidset of 10.251.203.149:50010\n",
      "15:  081110 210135 28 info dfs.fsnamesystem: block* namesystem.delete: blk_8839449461991208613 is added to invalidset of 10.251.91.32:50010\n",
      "16:  081110 210137 19 info dfs.fsdataset: deleting block blk_8839449461991208613 file /mnt/hadoop/dfs/data/current/subdir20/blk_8839449461991208613\n",
      "17:  081110 210608 19 info dfs.fsdataset: deleting block blk_8839449461991208613 file /mnt/hadoop/dfs/data/current/subdir34/blk_8839449461991208613\n",
      "18:  081110 210619 19 info dfs.fsdataset: deleting block blk_8839449461991208613 file /mnt/hadoop/dfs/data/current/subdir49/blk_8839449461991208613\n",
      "19:  081110 210652 19 warn dfs.fsdataset: unexpected error trying to delete block blk_8839449461991208613. blockinfo not found in volumemap.\n"
     ]
    }
   ],
   "source": [
    "# lets check those with length 20 , it is the highest ranked. \n",
    "inspect_sequence_by_seq_len(20)"
   ]
  },
  {
   "cell_type": "code",
   "execution_count": 178,
   "id": "5c116358",
   "metadata": {},
   "outputs": [
    {
     "name": "stdout",
     "output_type": "stream",
     "text": [
      "number of indexes:  2950\n",
      "chosen random index:  11112\n",
      "len of seqence 2\n",
      "0:  081111 041153 19740 info dfs.datanode$dataxceiver: receiving block blk_252726837417797968 src: /10.251.91.84:37319 dest: /10.251.91.84:50010\n",
      "1:  081111 041153 27 info dfs.fsnamesystem: block* namesystem.allocateblock: /user/root/randtxt4/_temporary/_task_200811101024_0010_m_001177_0/part-01177. blk_252726837417797968\n"
     ]
    }
   ],
   "source": [
    "# for seq len 20 mostly it is only type_4_line error\n",
    "# let us check those with low sequece length stariting from 2 \n",
    "inspect_sequence_by_seq_len(2)"
   ]
  },
  {
   "cell_type": "code",
   "execution_count": null,
   "id": "401edf65",
   "metadata": {},
   "outputs": [],
   "source": [
    "# there is no error as such but it seems that this block is not showing a stanard lifecycle. So anything this short is anomalous"
   ]
  },
  {
   "cell_type": "code",
   "execution_count": 213,
   "id": "1e8bf4de",
   "metadata": {},
   "outputs": [
    {
     "name": "stdout",
     "output_type": "stream",
     "text": [
      "number of indexes:  3225\n",
      "chosen random index:  8894\n",
      "len of seqence 4\n",
      "0:  081110 212832 14963 info dfs.datanode$dataxceiver: receiving block blk_-3062036611573455407 src: /10.251.89.155:33118 dest: /10.251.89.155:50010\n",
      "1:  081110 212832 15064 info dfs.datanode$dataxceiver: receiving block blk_-3062036611573455407 src: /10.251.89.155:41623 dest: /10.251.89.155:50010\n",
      "2:  081110 212832 35 info dfs.fsnamesystem: block* namesystem.allocateblock: /user/root/rand3/_temporary/_task_200811101024_0005_m_000773_0/part-00773. blk_-3062036611573455407\n",
      "3:  081110 212835 15064 info dfs.datanode$dataxceiver: writeblock blk_-3062036611573455407 received exception java.io.ioexception: could not read from stream\n"
     ]
    }
   ],
   "source": [
    "# lets continue with 4 since 3 is not presenetn in the counter distrubution \n",
    "inspect_sequence_by_seq_len(4)"
   ]
  },
  {
   "cell_type": "code",
   "execution_count": 408,
   "id": "97643d88",
   "metadata": {},
   "outputs": [
    {
     "name": "stdout",
     "output_type": "stream",
     "text": [
      "length of type_5_line: 151\n"
     ]
    }
   ],
   "source": [
    "type_5_line = '081110 013835 5479 info dfs.datanode$dataxceiver: writeblock blk_4010936997666386560 received exception java.io.ioexception: could not read from stream'\n",
    "print(f'length of type_5_line: {len(type_5_line)}')\n",
    "# for index - 15033 , severity level is normal but there negative words in the message part e.g., 'exception', 'could not read' . \n",
    "# as i randomly tested it for 10 times , this pattern repeats"
   ]
  },
  {
   "cell_type": "code",
   "execution_count": 227,
   "id": "f5c485c4",
   "metadata": {},
   "outputs": [
    {
     "name": "stdout",
     "output_type": "stream",
     "text": [
      "number of indexes:  10\n",
      "chosen random index:  10846\n",
      "len of seqence 8\n",
      "0:  081111 033441 18517 info dfs.datanode$dataxceiver: receiving block blk_-7228834955740084829 src: /10.251.203.246:40239 dest: /10.251.203.246:50010\n",
      "1:  081111 033441 19081 info dfs.datanode$dataxceiver: receiving block blk_-7228834955740084829 src: /10.251.203.246:45900 dest: /10.251.203.246:50010\n",
      "2:  081111 033441 34 info dfs.fsnamesystem: block* namesystem.allocateblock: /user/root/rand4/_temporary/_task_200811101024_0009_m_001861_1/part-01861. blk_-7228834955740084829\n",
      "3:  081111 033541 18538 info dfs.datanode$packetresponder: packetresponder 2 for block blk_-7228834955740084829 terminating\n",
      "4:  081111 033541 18538 info dfs.datanode$packetresponder: packetresponder blk_-7228834955740084829 2 exception java.io.eofexception\n",
      "5:  081111 033541 19081 info dfs.datanode$dataxceiver: writeblock blk_-7228834955740084829 received exception java.net.sockettimeoutexception\n",
      "6:  081111 033606 18517 info dfs.datanode$blockreceiver: exception in receiveblock for block blk_-7228834955740084829 java.io.ioexception: connection reset by peer\n",
      "7:  081111 033606 18517 info dfs.datanode$dataxceiver: writeblock blk_-7228834955740084829 received exception java.io.ioexception: connection reset by peer\n"
     ]
    }
   ],
   "source": [
    "inspect_sequence_by_seq_len(8)"
   ]
  },
  {
   "cell_type": "code",
   "execution_count": 409,
   "id": "5c41546f",
   "metadata": {},
   "outputs": [
    {
     "name": "stdout",
     "output_type": "stream",
     "text": [
      "length of type_6_line: 156\n"
     ]
    }
   ],
   "source": [
    "# for index 4, \n",
    "type_6_line = '081109 205627 784 info dfs.datanode$blockreceiver: exception in receiveblock for block blk_1528078116812077719 java.io.ioexception: connection reset by peer'\n",
    "print(f'length of type_6_line: {len(type_6_line)}')\n",
    "# either type_5 or both type_5 and type6 or both appears . Tested several times and seen this pattern  "
   ]
  },
  {
   "cell_type": "code",
   "execution_count": 245,
   "id": "56db70b3",
   "metadata": {},
   "outputs": [
    {
     "name": "stdout",
     "output_type": "stream",
     "text": [
      "number of indexes:  2\n",
      "chosen random index:  10737\n",
      "len of seqence 12\n",
      "0:  081111 033052 18866 info dfs.datanode$dataxceiver: receiving block blk_4069624653932564389 src: /10.251.30.85:54603 dest: /10.251.30.85:50010\n",
      "1:  081111 033052 18901 info dfs.datanode$dataxceiver: receiving block blk_4069624653932564389 src: /10.251.38.197:58105 dest: /10.251.38.197:50010\n",
      "2:  081111 033052 18937 info dfs.datanode$dataxceiver: receiving block blk_4069624653932564389 src: /10.251.30.85:59419 dest: /10.251.30.85:50010\n",
      "3:  081111 033052 28 info dfs.fsnamesystem: block* namesystem.allocateblock: /user/root/rand4/_temporary/_task_200811101024_0009_m_001768_1/part-01768. blk_4069624653932564389\n",
      "4:  081111 033737 18901 info dfs.datanode$blockreceiver: exception in receiveblock for block blk_4069624653932564389 java.io.eofexception\n",
      "5:  081111 033737 18901 info dfs.datanode$dataxceiver: writeblock blk_4069624653932564389 received exception java.io.eofexception\n",
      "6:  081111 033737 18902 info dfs.datanode$packetresponder: packetresponder 0 for block blk_4069624653932564389 interrupted.\n",
      "7:  081111 033737 18902 info dfs.datanode$packetresponder: packetresponder 0 for block blk_4069624653932564389 terminating\n",
      "8:  081111 033737 18937 info dfs.datanode$blockreceiver: exception in receiveblock for block blk_4069624653932564389 java.io.ioexception: connection reset by peer\n",
      "9:  081111 033737 18937 info dfs.datanode$dataxceiver: writeblock blk_4069624653932564389 received exception java.io.ioexception: connection reset by peer\n",
      "10:  081111 033737 18938 info dfs.datanode$packetresponder: packetresponder 1 for block blk_4069624653932564389 terminating\n",
      "11:  081111 033737 18938 info dfs.datanode$packetresponder: packetresponder blk_4069624653932564389 1 exception java.io.interruptedioexception: interruped while waiting for io on channel java.nio.channels.socketchannel[connected local=/10.251.38.197:58105 remote=/10.250.5.161:50010]. 45992 millis timeout left.\n"
     ]
    }
   ],
   "source": [
    "inspect_sequence_by_seq_len(12)"
   ]
  },
  {
   "cell_type": "code",
   "execution_count": 410,
   "id": "2d33ae88",
   "metadata": {},
   "outputs": [
    {
     "name": "stdout",
     "output_type": "stream",
     "text": [
      "length of type_7_line: 133\n",
      "length of type_8_line: 308\n"
     ]
    }
   ],
   "source": [
    "type_7_line = '081111 033714 18697 info dfs.datanode$blockreceiver: exception in receiveblock for block blk_-370867073208864215 java.io.eofexception'\n",
    "print(f'length of type_7_line: {len(type_7_line)}')\n",
    "type_8_line = '081111 033714 18776 info dfs.datanode$packetresponder: packetresponder blk_-370867073208864215 1 exception java.io.interruptedioexception: interruped while waiting for io on channel java.nio.channels.socketchannel[connected local=/10.251.126.227:37330 remote=/10.251.30.179:50010]. 36411 millis timeout left.'\n",
    "print(f'length of type_8_line: {len(type_8_line)}')"
   ]
  },
  {
   "cell_type": "code",
   "execution_count": 255,
   "id": "0f73afa3",
   "metadata": {},
   "outputs": [
    {
     "name": "stdout",
     "output_type": "stream",
     "text": [
      "number of indexes:  10\n",
      "chosen random index:  10078\n",
      "len of seqence 13\n",
      "0:  081110 230556 16924 info dfs.datanode$dataxceiver: receiving block blk_3709643589615046481 src: /10.251.193.224:50642 dest: /10.251.193.224:50010\n",
      "1:  081110 230556 27 info dfs.fsnamesystem: block* namesystem.allocateblock: /user/root/randtxt3/_temporary/_task_200811101024_0007_m_001769_1/part-01769. blk_3709643589615046481\n",
      "2:  081110 230557 12687 info dfs.datanode$dataxceiver: receiving block blk_3709643589615046481 src: /10.251.122.79:44803 dest: /10.251.122.79:50010\n",
      "3:  081110 230557 16918 info dfs.datanode$dataxceiver: receiving block blk_3709643589615046481 src: /10.251.193.224:39077 dest: /10.251.193.224:50010\n",
      "4:  081110 230657 16918 info dfs.datanode$dataxceiver: writeblock blk_3709643589615046481 received exception java.net.sockettimeoutexception: 60000 millis timeout while waiting for channel to be ready for read. ch : java.nio.channels.socketchannel[connected local=/10.251.122.79:44803 remote=/10.251.123.33:50010]\n",
      "5:  081110 230657 16949 info dfs.datanode$packetresponder: packetresponder 2 for block blk_3709643589615046481 terminating\n",
      "6:  081110 230657 16949 info dfs.datanode$packetresponder: packetresponder blk_3709643589615046481 2 exception java.io.eofexception\n",
      "7:  081110 230705 12687 info dfs.datanode$blockreceiver: exception in receiveblock for block blk_3709643589615046481 java.io.eofexception\n",
      "8:  081110 230705 12687 info dfs.datanode$dataxceiver: writeblock blk_3709643589615046481 received exception java.io.eofexception\n",
      "9:  081110 230705 12693 info dfs.datanode$packetresponder: packetresponder 0 for block blk_3709643589615046481 interrupted.\n",
      "10:  081110 230705 12693 info dfs.datanode$packetresponder: packetresponder 0 for block blk_3709643589615046481 terminating\n",
      "11:  081110 230707 16924 info dfs.datanode$blockreceiver: exception in receiveblock for block blk_3709643589615046481 java.io.ioexception: connection reset by peer\n",
      "12:  081110 230707 16924 info dfs.datanode$dataxceiver: writeblock blk_3709643589615046481 received exception java.io.ioexception: connection reset by peer\n"
     ]
    }
   ],
   "source": [
    "inspect_sequence_by_seq_len(13)"
   ]
  },
  {
   "cell_type": "code",
   "execution_count": 411,
   "id": "d7afd629",
   "metadata": {},
   "outputs": [
    {
     "name": "stdout",
     "output_type": "stream",
     "text": [
      "length of type_9_line: 310\n",
      "length of type_10_line: 119\n"
     ]
    }
   ],
   "source": [
    "type_9_line = '081110 230655 16876 info dfs.datanode$dataxceiver: writeblock blk_-539148231797001003 received exception java.net.sockettimeoutexception: 60000 millis timeout while waiting for channel to be ready for read. ch : java.nio.channels.socketchannel[connected local=/10.251.194.213:57652 remote=/10.251.123.33:50010]'\n",
    "print(f'length of type_9_line: {len(type_9_line)}')\n",
    "type_10_line = '081110 230705 12694 info dfs.datanode$packetresponder: packetresponder 0 for block blk_-539148231797001003 interrupted.'\n",
    "print(f'length of type_10_line: {len(type_10_line)}')"
   ]
  },
  {
   "cell_type": "code",
   "execution_count": 263,
   "id": "a2992f84",
   "metadata": {},
   "outputs": [
    {
     "name": "stdout",
     "output_type": "stream",
     "text": [
      "number of indexes:  133\n",
      "chosen random index:  11018\n",
      "len of seqence 14\n",
      "0:  081111 040050 19349 info dfs.datanode$dataxceiver: receiving block blk_-5153761630904559883 src: /10.251.214.175:45215 dest: /10.251.214.175:50010\n",
      "1:  081111 040050 34 info dfs.fsnamesystem: block* namesystem.allocateblock: /user/root/randtxt4/_temporary/_task_200811101024_0010_m_000496_0/part-00496. blk_-5153761630904559883\n",
      "2:  081111 040053 18809 info dfs.datanode$dataxceiver: receiving block blk_-5153761630904559883 src: /10.251.214.112:53071 dest: /10.251.214.112:50010\n",
      "3:  081111 040053 19473 info dfs.datanode$dataxceiver: receiving block blk_-5153761630904559883 src: /10.251.214.175:56235 dest: /10.251.214.175:50010\n",
      "4:  081111 040145 18810 info dfs.datanode$packetresponder: packetresponder 0 for block blk_-5153761630904559883 terminating\n",
      "5:  081111 040145 18810 info dfs.datanode$packetresponder: received block blk_-5153761630904559883 of size 67108864 from /10.251.214.112\n",
      "6:  081111 040145 19350 info dfs.datanode$packetresponder: packetresponder 2 for block blk_-5153761630904559883 terminating\n",
      "7:  081111 040145 19350 info dfs.datanode$packetresponder: received block blk_-5153761630904559883 of size 67108864 from /10.251.214.175\n",
      "8:  081111 040145 19474 info dfs.datanode$packetresponder: packetresponder 1 for block blk_-5153761630904559883 terminating\n",
      "9:  081111 040145 19474 info dfs.datanode$packetresponder: received block blk_-5153761630904559883 of size 67108864 from /10.251.214.175\n",
      "10:  081111 040145 30 info dfs.fsnamesystem: block* namesystem.addstoredblock: blockmap updated: 10.251.214.112:50010 is added to blk_-5153761630904559883 size 67108864\n",
      "11:  081111 040145 35 info dfs.fsnamesystem: block* namesystem.addstoredblock: blockmap updated: 10.251.214.175:50010 is added to blk_-5153761630904559883 size 67108864\n",
      "12:  081111 040150 32 info dfs.fsnamesystem: block* namesystem.addstoredblock: blockmap updated: 10.251.91.32:50010 is added to blk_-5153761630904559883 size 67108864\n",
      "13:  081111 040150 35 warn dfs.fsnamesystem: block* namesystem.addstoredblock: redundant addstoredblock request received for blk_-5153761630904559883 on 10.251.91.32:50010 size 67108864\n"
     ]
    }
   ],
   "source": [
    "inspect_sequence_by_seq_len(14)"
   ]
  },
  {
   "cell_type": "code",
   "execution_count": 412,
   "id": "8e1d4a06",
   "metadata": {},
   "outputs": [
    {
     "name": "stdout",
     "output_type": "stream",
     "text": [
      "length of type_11_line: 179\n"
     ]
    }
   ],
   "source": [
    "type_11_line = '081111 085518 33 warn dfs.fsnamesystem: block* namesystem.addstoredblock: redundant addstoredblock request received for blk_-8803822423732992516 on 10.251.74.79:50010 size 3558167'\n",
    "print(f'length of type_11_line: {len(type_11_line)}')"
   ]
  },
  {
   "cell_type": "code",
   "execution_count": 278,
   "id": "fdca0100",
   "metadata": {},
   "outputs": [
    {
     "name": "stdout",
     "output_type": "stream",
     "text": [
      "number of indexes:  11\n",
      "chosen random index:  15539\n",
      "len of seqence 15\n",
      "0:  081111 080829 34 info dfs.fsnamesystem: block* namesystem.allocateblock: /user/root/rand7/_temporary/_task_200811101024_0014_m_000287_0/part-00287. blk_2429961036831384938\n",
      "1:  081111 080830 24123 info dfs.datanode$dataxceiver: receiving block blk_2429961036831384938 src: /10.251.111.209:45842 dest: /10.251.111.209:50010\n",
      "2:  081111 080830 24159 info dfs.datanode$dataxceiver: receiving block blk_2429961036831384938 src: /10.251.111.209:60820 dest: /10.251.111.209:50010\n",
      "3:  081111 080830 24196 info dfs.datanode$dataxceiver: receiving block blk_2429961036831384938 src: /10.251.127.47:42224 dest: /10.251.127.47:50010\n",
      "4:  081111 080833 24197 info dfs.datanode$packetresponder: packetresponder 0 for block blk_2429961036831384938 terminating\n",
      "5:  081111 080833 24197 info dfs.datanode$packetresponder: received block blk_2429961036831384938 of size 3549062 from /10.251.127.47\n",
      "6:  081111 080833 26 info dfs.fsnamesystem: block* namesystem.addstoredblock: blockmap updated: 10.251.26.8:50010 is added to blk_2429961036831384938 size 3549062\n",
      "7:  081111 080834 19 info dfs.datanode: 10.251.111.209:50010 starting thread to transfer block blk_2429961036831384938 to 10.250.10.144:50010\n",
      "8:  081111 080834 19 info dfs.fsnamesystem: block* ask 10.251.111.209:50010 to replicate blk_2429961036831384938 to datanode(s) 10.250.10.144:50010\n",
      "9:  081111 080834 24124 info dfs.datanode$packetresponder: packetresponder 1 for block blk_2429961036831384938 terminating\n",
      "10:  081111 080834 24124 info dfs.datanode$packetresponder: received block blk_2429961036831384938 of size 3549062 from /10.251.111.209\n",
      "11:  081111 080834 24160 info dfs.datanode$packetresponder: packetresponder 2 for block blk_2429961036831384938 terminating\n",
      "12:  081111 080834 24160 info dfs.datanode$packetresponder: received block blk_2429961036831384938 of size 3549062 from /10.251.111.209\n",
      "13:  081111 080834 26 info dfs.fsnamesystem: block* namesystem.addstoredblock: blockmap updated: 10.251.127.47:50010 is added to blk_2429961036831384938 size 3549062\n",
      "14:  081111 080834 33 info dfs.fsnamesystem: block* namesystem.addstoredblock: blockmap updated: 10.251.111.209:50010 is added to blk_2429961036831384938 size 3549062\n"
     ]
    }
   ],
   "source": [
    "inspect_sequence_by_seq_len(15)"
   ]
  },
  {
   "cell_type": "code",
   "execution_count": 413,
   "id": "7719289c",
   "metadata": {},
   "outputs": [],
   "source": [
    "# for index - 15539 ,nothing seems to be an error . however we get lines with terminating and hence marking it as type_12\n",
    "type_12_line = '081111 083917 24782 info dfs.datanode$packetresponder: packetresponder 2 for block blk_6956386314858320497 terminating'"
   ]
  },
  {
   "cell_type": "code",
   "execution_count": 291,
   "id": "2114ea4c",
   "metadata": {},
   "outputs": [
    {
     "name": "stdout",
     "output_type": "stream",
     "text": [
      "number of indexes:  12\n",
      "chosen random index:  16837\n",
      "len of seqence 17\n",
      "0:  081111 110413 26687 info dfs.datanode$dataxceiver: receiving block blk_-9128742458709757181 src: /10.251.203.179:60748 dest: /10.251.203.179:50010\n",
      "1:  081111 110413 26949 info dfs.datanode$dataxceiver: receiving block blk_-9128742458709757181 src: /10.251.203.179:38219 dest: /10.251.203.179:50010\n",
      "2:  081111 110413 27424 info dfs.datanode$dataxceiver: receiving block blk_-9128742458709757181 src: /10.250.14.224:43759 dest: /10.250.14.224:50010\n",
      "3:  081111 110413 33 info dfs.fsnamesystem: block* namesystem.allocateblock: /user/root/randtxt9/_temporary/_task_200811101024_0016_m_002002_0/part-02002. blk_-9128742458709757181\n",
      "4:  081111 110423 26688 info dfs.datanode$packetresponder: packetresponder 2 for block blk_-9128742458709757181 terminating\n",
      "5:  081111 110423 26688 info dfs.datanode$packetresponder: received block blk_-9128742458709757181 of size 49648902 from /10.251.203.179\n",
      "6:  081111 110423 26950 info dfs.datanode$packetresponder: packetresponder 1 for block blk_-9128742458709757181 terminating\n",
      "7:  081111 110423 26950 info dfs.datanode$packetresponder: received block blk_-9128742458709757181 of size 49648902 from /10.251.203.179\n",
      "8:  081111 110423 27425 info dfs.datanode$packetresponder: packetresponder 0 for block blk_-9128742458709757181 terminating\n",
      "9:  081111 110423 27425 info dfs.datanode$packetresponder: received block blk_-9128742458709757181 of size 49648902 from /10.250.14.224\n",
      "10:  081111 110423 27 info dfs.fsnamesystem: block* namesystem.addstoredblock: addstoredblock request received for blk_-9128742458709757181 on 10.251.126.5:50010 size 49648902 but it does not belong to any file.\n",
      "11:  081111 110423 27 info dfs.fsnamesystem: block* namesystem.addstoredblock: blockmap updated: 10.251.126.5:50010 is added to blk_-9128742458709757181 size 49648902\n",
      "12:  081111 110423 31 info dfs.fsnamesystem: block* namesystem.addstoredblock: addstoredblock request received for blk_-9128742458709757181 on 10.251.203.179:50010 size 49648902 but it does not belong to any file.\n",
      "13:  081111 110423 31 info dfs.fsnamesystem: block* namesystem.addstoredblock: blockmap updated: 10.251.203.179:50010 is added to blk_-9128742458709757181 size 49648902\n",
      "14:  081111 110423 33 info dfs.fsnamesystem: block* namesystem.addstoredblock: addstoredblock request received for blk_-9128742458709757181 on 10.250.14.224:50010 size 49648902 but it does not belong to any file.\n",
      "15:  081111 110423 33 info dfs.fsnamesystem: block* namesystem.addstoredblock: blockmap updated: 10.250.14.224:50010 is added to blk_-9128742458709757181 size 49648902\n",
      "16:  081111 110624 19 info dfs.fsdataset: deleting block blk_-9128742458709757181 file /mnt/hadoop/dfs/data/current/subdir21/blk_-9128742458709757181\n"
     ]
    }
   ],
   "source": [
    "inspect_sequence_by_seq_len(17)"
   ]
  },
  {
   "cell_type": "code",
   "execution_count": 415,
   "id": "2f168421",
   "metadata": {},
   "outputs": [
    {
     "name": "stdout",
     "output_type": "stream",
     "text": [
      "length of type_13_line: 142\n",
      "length of type_14_line: 206\n"
     ]
    }
   ],
   "source": [
    "type_13_line = '081111 050934 16 warn dfs.pendingreplicationblocks$pendingreplicationmonitor: pendingreplicationmonitor timed out block blk_274401605260075764'\n",
    "print(f'length of type_13_line: {len(type_13_line)}')\n",
    "# apart fro type_13 , we have index-15546 where again nor error was found excep type_12 terminating statements\n",
    "# for index - 16837 , \n",
    "type_14_line = '081109 213841 28 info dfs.fsnamesystem: block* namesystem.addstoredblock: addstoredblock request received for blk_5398314277015661293 on 10.251.123.33:50010 size 67108864 but it does not belong to any file.'\n",
    "print(f'length of type_14_line: {len(type_14_line)}')"
   ]
  },
  {
   "cell_type": "code",
   "execution_count": 329,
   "id": "d8549cc1",
   "metadata": {},
   "outputs": [
    {
     "name": "stdout",
     "output_type": "stream",
     "text": [
      "number of indexes:  11\n",
      "chosen random index:  15903\n",
      "len of seqence 19\n",
      "0:  081111 085839 19415 info dfs.datanode$dataxceiver: receiving block blk_9173199815015538212 src: /10.251.39.160:45335 dest: /10.251.39.160:50010\n",
      "1:  081111 085839 33 info dfs.fsnamesystem: block* namesystem.allocateblock: /user/root/rand7/_temporary/_task_200811101024_0014_m_002012_0/part-02012. blk_9173199815015538212\n",
      "2:  081111 085909 19416 info dfs.datanode$packetresponder: packetresponder 2 for block blk_9173199815015538212 terminating\n",
      "3:  081111 085909 19416 info dfs.datanode$packetresponder: received block blk_9173199815015538212 of size 1781279 from /10.251.39.160\n",
      "4:  081111 085909 19447 info dfs.datanode$dataxceiver: receiving block blk_9173199815015538212 src: /10.251.39.160:48163 dest: /10.251.39.160:50010\n",
      "5:  081111 085909 19448 info dfs.datanode$packetresponder: packetresponder 1 for block blk_9173199815015538212 terminating\n",
      "6:  081111 085909 19448 info dfs.datanode$packetresponder: received block blk_9173199815015538212 of size 1781279 from /10.251.39.160\n",
      "7:  081111 085909 25191 info dfs.datanode$dataxceiver: receiving block blk_9173199815015538212 src: /10.251.123.33:45240 dest: /10.251.123.33:50010\n",
      "8:  081111 085909 25192 info dfs.datanode$packetresponder: packetresponder 0 for block blk_9173199815015538212 terminating\n",
      "9:  081111 085909 25192 info dfs.datanode$packetresponder: received block blk_9173199815015538212 of size 1781279 from /10.251.123.33\n",
      "10:  081111 085929 30 info dfs.fsnamesystem: block* namesystem.addstoredblock: addstoredblock request received for blk_9173199815015538212 on 10.251.123.33:50010 size 1781279 but it does not belong to any file.\n",
      "11:  081111 085929 30 info dfs.fsnamesystem: block* namesystem.addstoredblock: blockmap updated: 10.251.123.33:50010 is added to blk_9173199815015538212 size 1781279\n",
      "12:  081111 085930 29 info dfs.fsnamesystem: block* namesystem.addstoredblock: addstoredblock request received for blk_9173199815015538212 on 10.251.71.240:50010 size 1781279 but it does not belong to any file.\n",
      "13:  081111 085930 29 info dfs.fsnamesystem: block* namesystem.addstoredblock: blockmap updated: 10.251.71.240:50010 is added to blk_9173199815015538212 size 1781279\n",
      "14:  081111 091650 19 info dfs.fsdataset: deleting block blk_9173199815015538212 file /mnt/hadoop/dfs/data/current/subdir58/blk_9173199815015538212\n",
      "15:  081111 091655 30 info dfs.fsnamesystem: block* namesystem.addstoredblock: addstoredblock request received for blk_9173199815015538212 on 10.251.39.160:50010 size 1781279 but it does not belong to any file.\n",
      "16:  081111 091655 30 info dfs.fsnamesystem: block* namesystem.addstoredblock: blockmap updated: 10.251.39.160:50010 is added to blk_9173199815015538212 size 1781279\n",
      "17:  081111 091728 19 info dfs.fsdataset: deleting block blk_9173199815015538212 file /mnt/hadoop/dfs/data/current/subdir52/blk_9173199815015538212\n",
      "18:  081111 092617 19 info dfs.fsdataset: deleting block blk_9173199815015538212 file /mnt/hadoop/dfs/data/current/subdir24/blk_9173199815015538212\n"
     ]
    }
   ],
   "source": [
    "inspect_sequence_by_seq_len(19)"
   ]
  },
  {
   "cell_type": "code",
   "execution_count": 416,
   "id": "2ddd0adf",
   "metadata": {},
   "outputs": [],
   "source": [
    "# for index 13540 type_12_line  - 4:  081111 065201 22049 info dfs.datanode$packetresponder: packetresponder 2 for block blk_-5236249422860631106 terminating\n",
    "# for index 13540  - type_14_line - this pattern found with several indexes\n",
    "type_15_line = '081111 080945 23627 info dfs.datanode$blockreceiver: receiving empty packet for block blk_2735204420813474626'\n",
    "# type 15  i have lost it somehow, shoukd have noted the index , keeping it here , if we get it later , we must note the index"
   ]
  },
  {
   "cell_type": "code",
   "execution_count": 417,
   "id": "9551b341",
   "metadata": {},
   "outputs": [
    {
     "name": "stdout",
     "output_type": "stream",
     "text": [
      "err-1:  length: 142,  081109 213852 2573 warn dfs.datanode$dataxceiver: 10.251.203.149:50010:got exception while serving blk_-8531310335568756456 to /10.251.39.144:\n",
      "err-2:  length: 207,  081110 104628 27 info dfs.fsnamesystem: block* namesystem.addstoredblock: addstoredblock request received for blk_-8531310335568756456 on 10.251.106.10:50010 size 67108864 but it does not belong to any file.\n",
      "err-3:  length: 134,  081111 023021 27 info dfs.fsnamesystem: block* namesystem.delete: blk_-702618009724393925 is added to invalidset of 10.251.70.37:50010\n",
      "err-4:  length: 136,  081111 075722 19 warn dfs.fsdataset: unexpected error trying to delete block blk_-8678353350316563645. blockinfo not found in volumemap.\n",
      "err-5:  length: 151,  081110 013835 5479 info dfs.datanode$dataxceiver: writeblock blk_4010936997666386560 received exception java.io.ioexception: could not read from stream\n",
      "err-6:  length: 156,  081109 205627 784 info dfs.datanode$blockreceiver: exception in receiveblock for block blk_1528078116812077719 java.io.ioexception: connection reset by peer\n",
      "err-7:  length: 133,  081111 033714 18697 info dfs.datanode$blockreceiver: exception in receiveblock for block blk_-370867073208864215 java.io.eofexception\n",
      "err-8:  length: 308,  081111 033714 18776 info dfs.datanode$packetresponder: packetresponder blk_-370867073208864215 1 exception java.io.interruptedioexception: interruped while waiting for io on channel java.nio.channels.socketchannel[connected local=/10.251.126.227:37330 remote=/10.251.30.179:50010]. 36411 millis timeout left.\n",
      "err-9:  length: 310,  081110 230655 16876 info dfs.datanode$dataxceiver: writeblock blk_-539148231797001003 received exception java.net.sockettimeoutexception: 60000 millis timeout while waiting for channel to be ready for read. ch : java.nio.channels.socketchannel[connected local=/10.251.194.213:57652 remote=/10.251.123.33:50010]\n",
      "err-10:  length: 119,  081110 230705 12694 info dfs.datanode$packetresponder: packetresponder 0 for block blk_-539148231797001003 interrupted.\n",
      "err-11:  length: 179,  081111 085518 33 warn dfs.fsnamesystem: block* namesystem.addstoredblock: redundant addstoredblock request received for blk_-8803822423732992516 on 10.251.74.79:50010 size 3558167\n",
      "err-12:  length: 118,  081111 083917 24782 info dfs.datanode$packetresponder: packetresponder 2 for block blk_6956386314858320497 terminating\n",
      "err-13:  length: 142,  081111 050934 16 warn dfs.pendingreplicationblocks$pendingreplicationmonitor: pendingreplicationmonitor timed out block blk_274401605260075764\n",
      "err-14:  length: 206,  081109 213841 28 info dfs.fsnamesystem: block* namesystem.addstoredblock: addstoredblock request received for blk_5398314277015661293 on 10.251.123.33:50010 size 67108864 but it does not belong to any file.\n",
      "err-15:  length: 109,  081111 080945 23627 info dfs.datanode$blockreceiver: receiving empty packet for block blk_2735204420813474626\n"
     ]
    }
   ],
   "source": [
    "err_lines = [type_1_line, type_2_line, type_3_line, type_4_line, type_5_line, type_6_line, type_7_line, type_8_line, type_9_line, type_10_line, type_11_line, type_12_line, type_13_line, type_14_line, type_15_line]\n",
    "for i, err in enumerate(err_lines):\n",
    "    print(f'err-{i+1}:  length: {len(err)},  {err}')"
   ]
  },
  {
   "cell_type": "code",
   "execution_count": null,
   "id": "3b32def9",
   "metadata": {},
   "outputs": [],
   "source": [
    "# looking at this error lines we can see\n",
    "# shortest of them is 122 . WHile the longest is 314 \n",
    "# with 128 pre truncate we can retain at least the message part which anyways contain the anomaly information. \n",
    "# keeping the length more and having more padding is good or shorter line with more trancated character is good ?\n",
    "# The 3rd startegy is to remove selected words and numbers - blk address and source and ip address are three good candidates for sure"
   ]
  },
  {
   "cell_type": "code",
   "execution_count": 443,
   "id": "e5667367",
   "metadata": {},
   "outputs": [],
   "source": [
    "import re\n",
    "txt = type_9_line\n",
    "def remove_unwanted_characters_n_words(txt_line):\n",
    "    print(f'original Line: {txt_line}, original length: {len(txt_line)}' )   \n",
    "    rm_time_stamp=True\n",
    "    rm_msg_source=True\n",
    "    rm_blk_ids_regex=False\n",
    "    rm_ip_address=True\n",
    "    rm_signs_n_punctuations=True\n",
    "    rm_white_space=True\n",
    "\n",
    "    time_stamp = ''\n",
    "    msg_source = ''\n",
    "    blk_ids_regex = ''\n",
    "    ip_address = ''\n",
    "    signs_n_punctuations = ''\n",
    "    white_space = ''\n",
    "\n",
    "    if rm_time_stamp:\n",
    "        time_stamp = '^\\d+\\s\\d+\\s\\d+' \n",
    "    if rm_msg_source:\n",
    "        msg_source = 'dfs\\.\\w+[$]\\w+:|dfs\\.\\w+:'\n",
    "    if rm_blk_ids_regex:\n",
    "       # blk_ids_regex = 'blk_-\\d+\\.?'\n",
    "       blk_ids_regex = 'blk_-?\\d+\\.?'\n",
    "    if rm_ip_address:\n",
    "        ip_address = '\\d{1,3}\\.\\d{1,3}\\.\\d{1,3}\\.\\d{1,3}:*\\d*'\n",
    "    if rm_signs_n_punctuations:\n",
    "        signs_n_punctuations = '\\]|\\[|\\)|\\(|\\=|\\,|\\;|\\/'\n",
    "    if rm_white_space:\n",
    "        white_space = '\\s'\n",
    "\n",
    "    pat = f'{time_stamp}|{msg_source}|{blk_ids_regex}|{ip_address}|{signs_n_punctuations}|{white_space}'\n",
    "    # print('regex pattern:', pat)\n",
    "    # s = re.sub('\\]|\\[|\\)|\\(|\\=|\\,|\\;|\\/|blk_-\\d+\\.*|\\sdfs\\.\\w+[$]\\w+:|\\sdfs\\.\\w+:|\\d{1,3}\\.\\d{1,3}\\.\\d{1,3}\\.\\d{1,3}:\\d+', '', txt)\n",
    "    # s = re.sub('\\s|\\]|\\[|\\)|\\(|\\=|\\,|\\;|\\/|blk_-\\d+\\.*|dfs\\.\\w+[$]\\w+:|dfs\\.\\w+:|\\d{1,3}\\.\\d{1,3}\\.\\d{1,3}\\.\\d{1,3}:\\d+|^\\d+\\s\\d+\\s\\d+', '', txt)\n",
    "    s = re.sub(pat, '', txt_line)\n",
    "    print(f'cleaned line: {s},  cleaned length: {len(s)}')\n",
    "    print()\n",
    "    # print('length after regex removal: ', len(s))\n",
    "    # s1 = re.sub('([A-Z][a-z]+)', r' \\1', re.sub('([A-Z]+)', r' \\1', txt))\n",
    "    # print(s1)"
   ]
  },
  {
   "cell_type": "code",
   "execution_count": 444,
   "id": "4adfee48",
   "metadata": {},
   "outputs": [
    {
     "name": "stdout",
     "output_type": "stream",
     "text": [
      "original Line: 081109 205627 784 info dfs.datanode$blockreceiver: exception in receiveblock for block blk_1528078116812077719 java.io.ioexception: connection reset by peer, original length: 156\n",
      "cleaned line: infoexceptioninreceiveblockforblockblk_1528078116812077719java.io.ioexception:connectionresetbypeer,  cleaned length: 99\n",
      "\n"
     ]
    }
   ],
   "source": [
    " remove_unwanted_characters_n_words(type_6_line)"
   ]
  },
  {
   "cell_type": "code",
   "execution_count": 445,
   "id": "100bdae9",
   "metadata": {},
   "outputs": [
    {
     "name": "stdout",
     "output_type": "stream",
     "text": [
      "original Line: 081111 075722 19 warn dfs.fsdataset: unexpected error trying to delete block blk_-8678353350316563645. blockinfo not found in volumemap., original length: 136\n",
      "cleaned line: warnunexpectederrortryingtodeleteblockblk_-8678353350316563645.blockinfonotfoundinvolumemap.,  cleaned length: 92\n",
      "\n"
     ]
    }
   ],
   "source": [
    " remove_unwanted_characters_n_words(type_4_line)"
   ]
  },
  {
   "cell_type": "code",
   "execution_count": 446,
   "id": "696e2673",
   "metadata": {},
   "outputs": [
    {
     "name": "stdout",
     "output_type": "stream",
     "text": [
      "original Line: 081109 213852 2573 warn dfs.datanode$dataxceiver: 10.251.203.149:50010:got exception while serving blk_-8531310335568756456 to /10.251.39.144:, original length: 142\n",
      "cleaned line: warn:gotexceptionwhileservingblk_-8531310335568756456to,  cleaned length: 55\n",
      "\n",
      "original Line: 081110 104628 27 info dfs.fsnamesystem: block* namesystem.addstoredblock: addstoredblock request received for blk_-8531310335568756456 on 10.251.106.10:50010 size 67108864 but it does not belong to any file., original length: 207\n",
      "cleaned line: infoblock*namesystem.addstoredblock:addstoredblockrequestreceivedforblk_-8531310335568756456onsize67108864butitdoesnotbelongtoanyfile.,  cleaned length: 134\n",
      "\n",
      "original Line: 081111 023021 27 info dfs.fsnamesystem: block* namesystem.delete: blk_-702618009724393925 is added to invalidset of 10.251.70.37:50010, original length: 134\n",
      "cleaned line: infoblock*namesystem.delete:blk_-702618009724393925isaddedtoinvalidsetof,  cleaned length: 72\n",
      "\n",
      "original Line: 081111 075722 19 warn dfs.fsdataset: unexpected error trying to delete block blk_-8678353350316563645. blockinfo not found in volumemap., original length: 136\n",
      "cleaned line: warnunexpectederrortryingtodeleteblockblk_-8678353350316563645.blockinfonotfoundinvolumemap.,  cleaned length: 92\n",
      "\n",
      "original Line: 081110 013835 5479 info dfs.datanode$dataxceiver: writeblock blk_4010936997666386560 received exception java.io.ioexception: could not read from stream, original length: 151\n",
      "cleaned line: infowriteblockblk_4010936997666386560receivedexceptionjava.io.ioexception:couldnotreadfromstream,  cleaned length: 96\n",
      "\n",
      "original Line: 081109 205627 784 info dfs.datanode$blockreceiver: exception in receiveblock for block blk_1528078116812077719 java.io.ioexception: connection reset by peer, original length: 156\n",
      "cleaned line: infoexceptioninreceiveblockforblockblk_1528078116812077719java.io.ioexception:connectionresetbypeer,  cleaned length: 99\n",
      "\n",
      "original Line: 081111 033714 18697 info dfs.datanode$blockreceiver: exception in receiveblock for block blk_-370867073208864215 java.io.eofexception, original length: 133\n",
      "cleaned line: infoexceptioninreceiveblockforblockblk_-370867073208864215java.io.eofexception,  cleaned length: 78\n",
      "\n",
      "original Line: 081111 033714 18776 info dfs.datanode$packetresponder: packetresponder blk_-370867073208864215 1 exception java.io.interruptedioexception: interruped while waiting for io on channel java.nio.channels.socketchannel[connected local=/10.251.126.227:37330 remote=/10.251.30.179:50010]. 36411 millis timeout left., original length: 308\n",
      "cleaned line: infopacketresponderblk_-3708670732088642151exceptionjava.io.interruptedioexception:interrupedwhilewaitingforioonchanneljava.nio.channels.socketchannelconnectedlocalremote.36411millistimeoutleft.,  cleaned length: 194\n",
      "\n",
      "original Line: 081110 230655 16876 info dfs.datanode$dataxceiver: writeblock blk_-539148231797001003 received exception java.net.sockettimeoutexception: 60000 millis timeout while waiting for channel to be ready for read. ch : java.nio.channels.socketchannel[connected local=/10.251.194.213:57652 remote=/10.251.123.33:50010], original length: 310\n",
      "cleaned line: infowriteblockblk_-539148231797001003receivedexceptionjava.net.sockettimeoutexception:60000millistimeoutwhilewaitingforchanneltobereadyforread.ch:java.nio.channels.socketchannelconnectedlocalremote,  cleaned length: 197\n",
      "\n",
      "original Line: 081110 230705 12694 info dfs.datanode$packetresponder: packetresponder 0 for block blk_-539148231797001003 interrupted., original length: 119\n",
      "cleaned line: infopacketresponder0forblockblk_-539148231797001003interrupted.,  cleaned length: 63\n",
      "\n",
      "original Line: 081111 085518 33 warn dfs.fsnamesystem: block* namesystem.addstoredblock: redundant addstoredblock request received for blk_-8803822423732992516 on 10.251.74.79:50010 size 3558167, original length: 179\n",
      "cleaned line: warnblock*namesystem.addstoredblock:redundantaddstoredblockrequestreceivedforblk_-8803822423732992516onsize3558167,  cleaned length: 114\n",
      "\n",
      "original Line: 081111 083917 24782 info dfs.datanode$packetresponder: packetresponder 2 for block blk_6956386314858320497 terminating, original length: 118\n",
      "cleaned line: infopacketresponder2forblockblk_6956386314858320497terminating,  cleaned length: 62\n",
      "\n",
      "original Line: 081111 050934 16 warn dfs.pendingreplicationblocks$pendingreplicationmonitor: pendingreplicationmonitor timed out block blk_274401605260075764, original length: 142\n",
      "cleaned line: warnpendingreplicationmonitortimedoutblockblk_274401605260075764,  cleaned length: 64\n",
      "\n",
      "original Line: 081109 213841 28 info dfs.fsnamesystem: block* namesystem.addstoredblock: addstoredblock request received for blk_5398314277015661293 on 10.251.123.33:50010 size 67108864 but it does not belong to any file., original length: 206\n",
      "cleaned line: infoblock*namesystem.addstoredblock:addstoredblockrequestreceivedforblk_5398314277015661293onsize67108864butitdoesnotbelongtoanyfile.,  cleaned length: 133\n",
      "\n",
      "original Line: 081111 080945 23627 info dfs.datanode$blockreceiver: receiving empty packet for block blk_2735204420813474626, original length: 109\n",
      "cleaned line: inforeceivingemptypacketforblockblk_2735204420813474626,  cleaned length: 55\n",
      "\n"
     ]
    }
   ],
   "source": [
    "for eline in err_lines:\n",
    "    remove_unwanted_characters_n_words(eline)"
   ]
  },
  {
   "cell_type": "code",
   "execution_count": 40,
   "id": "d1895132",
   "metadata": {},
   "outputs": [
    {
     "name": "stdout",
     "output_type": "stream",
     "text": [
      "len of seqence 4\n",
      "['081109 211131 1531 info dfs.datanode$dataxceiver: receiving block blk_4066061011255450889 src: /10.251.71.193:47038 dest: /10.251.71.193:50010', '081109 211131 1580 info dfs.datanode$dataxceiver: receiving block blk_4066061011255450889 src: /10.251.71.193:37194 dest: /10.251.71.193:50010', '081109 211131 30 info dfs.fsnamesystem: block* namesystem.allocateblock: /user/root/rand/_temporary/_task_200811092030_0001_m_001316_0/part-01316. blk_4066061011255450889', '081109 211134 1580 info dfs.datanode$dataxceiver: writeblock blk_4066061011255450889 received exception java.io.ioexception: could not read from stream']\n",
      "anomalous line:  ['081109 211131 1580 info dfs.datanode$dataxceiver: receiving block blk_4066061011255450889 src: /10.251.71.193:37194 dest: /10.251.71.193:50010']\n",
      "anomalous line after num conversion:  [4, 12, 3, 3, 4, 21, 2, 7, 3, 3, 3, 16, 3, 2, 3, 10, 12, 4, 2, 20, 17, 22, 9, 2, 6, 22, 8, 14, 6, 11, 13, 11, 17, 9, 6, 5, 36, 6, 11, 13, 11, 41, 26, 5, 20, 33, 5, 24, 28, 2, 24, 5, 26, 5, 20, 33, 20, 17, 37, 2, 27, 23, 9, 26, 25, 2, 27, 23, 25, 32, 15, 4, 18, 18, 4, 18, 3, 4, 3, 3, 7, 10, 10, 15, 10, 4, 12, 12, 21, 2, 8, 24, 26, 28, 2, 30, 3, 4, 14, 7, 10, 3, 14, 19, 3, 14, 3, 21, 16, 28, 16, 19, 3, 21, 15, 2, 6, 5, 8, 13, 28, 2, 30, 3, 4, 14, 7, 10, 3, 14, 19, 3, 14, 3, 21, 16, 28, 10, 4, 4, 3, 4]\n",
      "len of anomalus line after num conversion 142\n"
     ]
    }
   ],
   "source": [
    "pseq = pos_seqs[1001]\n",
    "print('len of seqence', len(pseq))\n",
    "print(pseq)\n",
    "line = pseq[-3:-2]\n",
    "print('anomalous line: ', line)\n",
    "tknum = tk.texts_to_sequences(line)[0]\n",
    "print('anomalous line after num conversion: ', tknum)\n",
    "print('len of anomalus line after num conversion', len(tknum))"
   ]
  },
  {
   "cell_type": "code",
   "execution_count": 46,
   "id": "d5771220",
   "metadata": {},
   "outputs": [
    {
     "name": "stdout",
     "output_type": "stream",
     "text": [
      "len of seqence 2\n",
      "['081109 205507 35 info dfs.fsnamesystem: block* namesystem.allocateblock: /user/root/rand/_temporary/_task_200811092030_0001_m_000670_0/part-00670. blk_8554401366568742969', '081109 205507 901 info dfs.datanode$dataxceiver: receiving block blk_8554401366568742969 src: /10.251.214.67:39782 dest: /10.251.214.67:50010']\n"
     ]
    }
   ],
   "source": [
    "pseq = pos_seqs[501]\n",
    "print('len of seqence', len(pseq))\n",
    "print(pseq)\n"
   ]
  },
  {
   "cell_type": "code",
   "execution_count": 45,
   "id": "91875a5a",
   "metadata": {},
   "outputs": [
    {
     "name": "stdout",
     "output_type": "stream",
     "text": [
      "len of seqence 2\n",
      "['081109 211130 1528 info dfs.datanode$dataxceiver: receiving block blk_-440001254298295966 src: /10.251.30.101:37973 dest: /10.251.30.101:50010', '081109 211130 33 info dfs.fsnamesystem: block* namesystem.allocateblock: /user/root/rand/_temporary/_task_200811092030_0001_m_001327_0/part-01327. blk_-440001254298295966']\n"
     ]
    }
   ],
   "source": [
    "pseq = pos_seqs[1000]\n",
    "print('len of seqence', len(pseq))\n",
    "print(pseq)\n"
   ]
  },
  {
   "cell_type": "code",
   "execution_count": 48,
   "id": "982f1b72",
   "metadata": {},
   "outputs": [
    {
     "name": "stdout",
     "output_type": "stream",
     "text": [
      "len of seqence 21\n",
      "['081110 002208 33 info dfs.fsnamesystem: block* namesystem.allocateblock: /user/root/sortrand/_temporary/_task_200811092030_0002_r_000035_0/part-00035. blk_1877206842059209018', '081110 002208 4778 info dfs.datanode$dataxceiver: receiving block blk_1877206842059209018 src: /10.250.7.230:53527 dest: /10.250.7.230:50010', '081110 002208 4888 info dfs.datanode$dataxceiver: receiving block blk_1877206842059209018 src: /10.250.7.230:49359 dest: /10.250.7.230:50010', '081110 002209 4426 info dfs.datanode$dataxceiver: receiving block blk_1877206842059209018 src: /10.250.15.67:40656 dest: /10.250.15.67:50010', '081110 002229 26 info dfs.fsnamesystem: block* namesystem.addstoredblock: blockmap updated: 10.250.7.230:50010 is added to blk_1877206842059209018 size 67108864', '081110 002229 28 info dfs.fsnamesystem: block* namesystem.addstoredblock: blockmap updated: 10.250.15.67:50010 is added to blk_1877206842059209018 size 67108864', '081110 002229 31 info dfs.fsnamesystem: block* namesystem.addstoredblock: blockmap updated: 10.251.106.10:50010 is added to blk_1877206842059209018 size 67108864', '081110 002229 4427 info dfs.datanode$packetresponder: packetresponder 0 for block blk_1877206842059209018 terminating', '081110 002229 4427 info dfs.datanode$packetresponder: received block blk_1877206842059209018 of size 67108864 from /10.250.15.67', '081110 002229 4779 info dfs.datanode$packetresponder: packetresponder 1 for block blk_1877206842059209018 terminating', '081110 002229 4779 info dfs.datanode$packetresponder: received block blk_1877206842059209018 of size 67108864 from /10.250.7.230', '081110 002229 4889 info dfs.datanode$packetresponder: packetresponder 2 for block blk_1877206842059209018 terminating', '081110 002229 4889 info dfs.datanode$packetresponder: received block blk_1877206842059209018 of size 67108864 from /10.250.7.230', '081110 103128 30 info dfs.fsnamesystem: block* namesystem.delete: blk_1877206842059209018 is added to invalidset of 10.250.15.67:50010', '081110 103128 30 info dfs.fsnamesystem: block* namesystem.delete: blk_1877206842059209018 is added to invalidset of 10.250.7.230:50010', '081110 103128 30 info dfs.fsnamesystem: block* namesystem.delete: blk_1877206842059209018 is added to invalidset of 10.251.106.10:50010', '081110 103632 19 info dfs.fsdataset: deleting block blk_1877206842059209018 file /mnt/hadoop/dfs/data/current/subdir13/blk_1877206842059209018', '081110 103744 18 info dfs.fsdataset: deleting block blk_1877206842059209018 file /mnt/hadoop/dfs/data/current/subdir32/blk_1877206842059209018', '081110 104629 27 info dfs.fsnamesystem: block* namesystem.addstoredblock: addstoredblock request received for blk_1877206842059209018 on 10.251.106.10:50010 size 67108864 but it does not belong to any file.', '081110 104629 27 info dfs.fsnamesystem: block* namesystem.addstoredblock: blockmap updated: 10.251.106.10:50010 is added to blk_1877206842059209018 size 67108864', '081110 105304 19 info dfs.fsdataset: deleting block blk_1877206842059209018 file /mnt/hadoop/dfs/data/current/subdir5/blk_1877206842059209018']\n",
      "anomalous line:  ['081110 104629 27 info dfs.fsnamesystem: block* namesystem.addstoredblock: addstoredblock request received for blk_1877206842059209018 on 10.251.106.10:50010 size 67108864 but it does not belong to any file.']\n",
      "anomalous line after num conversion:  [4, 12, 3, 3, 3, 4, 2, 3, 4, 15, 18, 7, 21, 2, 7, 19, 2, 20, 17, 22, 9, 2, 6, 22, 8, 14, 22, 8, 17, 11, 29, 5, 8, 34, 8, 13, 5, 29, 28, 2, 27, 23, 9, 26, 25, 39, 2, 17, 11, 29, 5, 8, 34, 8, 13, 5, 29, 14, 11, 6, 6, 8, 13, 9, 24, 5, 6, 27, 23, 9, 26, 25, 28, 2, 11, 6, 6, 8, 13, 9, 24, 5, 6, 27, 23, 9, 26, 25, 2, 24, 5, 47, 38, 5, 8, 13, 2, 24, 5, 26, 5, 20, 33, 5, 6, 2, 22, 9, 24, 2, 27, 23, 25, 32, 3, 12, 19, 19, 7, 4, 18, 12, 15, 7, 4, 10, 21, 7, 4, 21, 4, 3, 12, 2, 9, 17, 2, 3, 4, 14, 7, 10, 3, 14, 3, 4, 18, 14, 3, 4, 28, 10, 4, 4, 3, 4, 2, 8, 20, 40, 5, 2, 18, 19, 3, 4, 12, 12, 18, 15, 2, 27, 38, 13, 2, 20, 13, 2, 6, 9, 5, 8, 2, 17, 9, 13, 2, 27, 5, 23, 9, 17, 37, 2, 13, 9, 2, 11, 17, 34, 2, 22, 20, 23, 5, 14]\n",
      "len of anomalus line after num conversion 206\n"
     ]
    }
   ],
   "source": [
    "pseq = pos_seqs[3000]\n",
    "print('len of seqence', len(pseq))\n",
    "print(pseq)\n",
    "line = pseq[-3:-2]\n",
    "print('anomalous line: ', line)\n",
    "tknum = tk.texts_to_sequences(line)[0]\n",
    "print('anomalous line after num conversion: ', tknum)\n",
    "print('len of anomalus line after num conversion', len(tknum))"
   ]
  },
  {
   "cell_type": "code",
   "execution_count": null,
   "id": "e788ab7e",
   "metadata": {},
   "outputs": [],
   "source": [
    "\n"
   ]
  },
  {
   "cell_type": "code",
   "execution_count": 12,
   "id": "7966e7f2",
   "metadata": {},
   "outputs": [],
   "source": [
    "loglines = hlogs.logs"
   ]
  },
  {
   "cell_type": "code",
   "execution_count": 13,
   "id": "a540b9f6",
   "metadata": {},
   "outputs": [
    {
     "name": "stdout",
     "output_type": "stream",
     "text": [
      "average len of line:  139.19857647386112\n",
      "most frequent len of line:  142\n",
      "max len of line:  320\n"
     ]
    }
   ],
   "source": [
    "line_len = [len(l) for l in loglines]\n",
    "print('average len of line: ',mean(line_len))\n",
    "print('most frequent len of line: ', mode(line_len))\n",
    "print('max len of line: ', max(line_len))"
   ]
  },
  {
   "cell_type": "code",
   "execution_count": 14,
   "id": "7b1c1f87",
   "metadata": {},
   "outputs": [
    {
     "name": "stdout",
     "output_type": "stream",
     "text": [
      "line_len  distribution:  Counter({142: 879818, 144: 866983, 118: 807452, 161: 597148, 162: 581448, 119: 579315, 130: 577635, 143: 542696, 135: 520207, 136: 489953, 131: 481407, 141: 386080, 129: 343761, 117: 269537, 160: 267493, 140: 229223, 134: 207683, 145: 202068, 163: 182057, 137: 171304, 132: 146730, 146: 143714, 128: 141255, 171: 140138, 174: 124430, 125: 113859, 175: 112260, 139: 111106, 172: 100470, 124: 93900, 133: 91727, 126: 82295, 159: 80862, 127: 73393, 94: 59621, 95: 53255, 123: 51262, 170: 47663, 138: 47020, 116: 46582, 173: 29809, 122: 27594, 158: 14742, 176: 14617, 121: 10220, 93: 6337, 169: 4955, 120: 4791, 115: 4790, 157: 2477, 152: 1553, 153: 843, 151: 828, 92: 750, 109: 720, 156: 598, 206: 590, 207: 587, 168: 542, 114: 541, 110: 464, 180: 370, 181: 325, 155: 310, 108: 242, 150: 195, 179: 137, 154: 124, 205: 104, 182: 96, 113: 66, 91: 54, 167: 47, 178: 39, 149: 36, 107: 29, 164: 28, 90: 19, 308: 15, 310: 14, 165: 11, 204: 11, 312: 11, 309: 11, 203: 10, 148: 10, 112: 9, 106: 9, 307: 9, 166: 8, 311: 7, 177: 7, 306: 6, 103: 6, 213: 5, 313: 5, 186: 5, 208: 5, 187: 4, 190: 4, 104: 4, 147: 3, 305: 3, 314: 3, 318: 3, 226: 3, 211: 3, 315: 3, 214: 3, 77: 3, 249: 3, 210: 2, 192: 2, 209: 2, 217: 2, 202: 2, 221: 2, 193: 2, 250: 2, 222: 2, 320: 2, 303: 1, 188: 1, 184: 1, 316: 1, 220: 1, 300: 1, 75: 1, 304: 1, 218: 1, 219: 1, 185: 1, 301: 1, 302: 1, 76: 1})\n",
      "number of lines which will be affected:  [124, 2477, 267493, 80862, 310, 14742, 182057, 10, 581448, 843, 598, 597148, 828, 47663, 140138, 4955, 542, 47, 8, 5, 11, 325, 7, 1, 370, 1553, 96, 9, 5, 3, 28, 1, 4, 1, 4, 39, 137, 590, 587, 2, 124430, 112260, 29809, 100470, 3, 1, 15, 104, 11, 1, 2, 3, 14, 1, 6, 11, 1, 2, 1, 3, 5, 3, 2, 1, 2, 1, 7, 2, 2, 5, 14617, 3, 2, 2, 11, 3, 1, 2, 1, 3]\n"
     ]
    }
   ],
   "source": [
    "l_cnt = Counter(line_len)\n",
    "print('line_len  distribution: ', l_cnt)\n",
    "def check_impact(Llen):\n",
    "    num_of_datapoints = []\n",
    "    for k,v in l_cnt.items():\n",
    "        if k > Llen:\n",
    "            num_of_datapoints.append(v)\n",
    "    print('number of lines which will be affected: ', (num_of_datapoints))\n",
    "check_impact(150)"
   ]
  },
  {
   "cell_type": "code",
   "execution_count": 15,
   "id": "bf9356d0",
   "metadata": {},
   "outputs": [
    {
     "data": {
      "text/plain": [
       "['081111 075208 23798 info dfs.datanode$dataxceiver: receiving block blk_2613917614913604807 src: /10.251.43.210:43694 dest: /10.251.43.210:50010',\n",
       " '081111 075208 34 info dfs.fsnamesystem: block* namesystem.allocateblock: /user/root/rand6/_temporary/_task_200811101024_0013_m_001947_0/part-01947. blk_2613917614913604807',\n",
       " '081111 075209 23589 info dfs.datanode$dataxceiver: receiving block blk_2613917614913604807 src: /10.251.43.210:43962 dest: /10.251.43.210:50010',\n",
       " '081111 075209 23919 info dfs.datanode$dataxceiver: receiving block blk_2613917614913604807 src: /10.251.30.134:60664 dest: /10.251.30.134:50010',\n",
       " '081111 075247 23590 info dfs.datanode$packetresponder: packetresponder 1 for block blk_2613917614913604807 terminating',\n",
       " '081111 075247 23590 info dfs.datanode$packetresponder: received block blk_2613917614913604807 of size 67108864 from /10.251.43.210',\n",
       " '081111 075247 23799 info dfs.datanode$packetresponder: packetresponder 2 for block blk_2613917614913604807 terminating',\n",
       " '081111 075247 23799 info dfs.datanode$packetresponder: received block blk_2613917614913604807 of size 67108864 from /10.251.43.210',\n",
       " '081111 075247 23920 info dfs.datanode$packetresponder: packetresponder 0 for block blk_2613917614913604807 terminating',\n",
       " '081111 075247 23920 info dfs.datanode$packetresponder: received block blk_2613917614913604807 of size 67108864 from /10.251.30.134',\n",
       " '081111 075247 27 info dfs.fsnamesystem: block* namesystem.addstoredblock: blockmap updated: 10.251.30.134:50010 is added to blk_2613917614913604807 size 67108864',\n",
       " '081111 075247 31 info dfs.fsnamesystem: block* namesystem.addstoredblock: blockmap updated: 10.251.43.210:50010 is added to blk_2613917614913604807 size 67108864',\n",
       " '081111 075248 33 info dfs.fsnamesystem: block* namesystem.addstoredblock: blockmap updated: 10.251.91.229:50010 is added to blk_2613917614913604807 size 67108864',\n",
       " '081111 085928 27 info dfs.fsnamesystem: block* namesystem.delete: blk_2613917614913604807 is added to invalidset of 10.251.30.134:50010',\n",
       " '081111 085928 27 info dfs.fsnamesystem: block* namesystem.delete: blk_2613917614913604807 is added to invalidset of 10.251.43.210:50010',\n",
       " '081111 085928 27 info dfs.fsnamesystem: block* namesystem.delete: blk_2613917614913604807 is added to invalidset of 10.251.91.229:50010',\n",
       " '081111 090131 19 info dfs.fsdataset: deleting block blk_2613917614913604807 file /mnt/hadoop/dfs/data/current/subdir45/blk_2613917614913604807',\n",
       " '081111 090156 19 info dfs.fsdataset: deleting block blk_2613917614913604807 file /mnt/hadoop/dfs/data/current/subdir43/blk_2613917614913604807',\n",
       " '081111 090200 19 info dfs.fsdataset: deleting block blk_2613917614913604807 file /mnt/hadoop/dfs/data/current/subdir14/blk_2613917614913604807']"
      ]
     },
     "execution_count": 15,
     "metadata": {},
     "output_type": "execute_result"
    }
   ],
   "source": [
    "x_train[0]"
   ]
  },
  {
   "cell_type": "code",
   "execution_count": 16,
   "id": "2cb2a8e1",
   "metadata": {},
   "outputs": [
    {
     "name": "stdout",
     "output_type": "stream",
     "text": [
      "starting text to number conversion\n",
      "ending text to number conversion: 205.1829378604889\n",
      "ending padding characters: 55.43957161903381\n",
      "padded_txt_to_num shape: (11175629, 150)\n",
      "RAM usage:  6705377520\n",
      "completed:  0\n",
      "ending blk sequencing: 0.0\n",
      "completed:  1000000\n",
      "ending blk sequencing: 1.8177282810211182\n",
      "completed:  2000000\n",
      "ending blk sequencing: 3.8286449909210205\n",
      "completed:  3000000\n",
      "ending blk sequencing: 5.827388286590576\n",
      "completed:  4000000\n",
      "ending blk sequencing: 7.731710195541382\n",
      "completed:  5000000\n",
      "ending blk sequencing: 9.75119137763977\n",
      "completed:  6000000\n",
      "ending blk sequencing: 11.677578687667847\n",
      "completed:  7000000\n",
      "ending blk sequencing: 13.565303802490234\n",
      "completed:  8000000\n",
      "ending blk sequencing: 15.513335943222046\n",
      "completed:  9000000\n",
      "ending blk sequencing: 17.398203134536743\n",
      "completed:  10000000\n",
      "ending blk sequencing: 19.33232879638672\n",
      "completed:  11000000\n",
      "ending blk sequencing: 21.18190598487854\n",
      "RAM usage:  184627341\n",
      "RAM usage:  189227829\n",
      "getting ablation data: 10\n",
      "10 16828\n",
      "length of train  sequence original 19\n",
      "length of train  sequence original 19\n",
      "length of train  sequence original 21\n",
      "length of train  sequence original 2\n",
      "length of train  sequence original 19\n",
      "length of train sequence padded 64\n",
      "length of train sequence padded 64\n",
      "length of train sequence padded 64\n",
      "length of train sequence padded 64\n",
      "length of train sequence padded 64\n",
      "len of test seq after padding 64\n",
      "len of test seq after padding 64\n",
      "len of test seq after padding 64\n",
      "len of test seq after padding 64\n",
      "len of test seq after padding 64\n",
      "free ram %:  35.7\n"
     ]
    }
   ],
   "source": [
    "x_train_num, y_train_num, x_test_num, y_test_num = hlogs.get_train_test_data_num(ablation=10)"
   ]
  },
  {
   "cell_type": "code",
   "execution_count": 17,
   "id": "b5b0df24",
   "metadata": {},
   "outputs": [
    {
     "data": {
      "text/plain": [
       "array([[ 4, 12,  3, ...,  0,  0,  0],\n",
       "       [ 4, 12,  3, ...,  0,  0,  0],\n",
       "       [14, 22,  8, ..., 18, 21, 16],\n",
       "       ...,\n",
       "       [ 0,  0,  0, ...,  0,  0,  0],\n",
       "       [ 0,  0,  0, ...,  0,  0,  0],\n",
       "       [ 0,  0,  0, ...,  0,  0,  0]])"
      ]
     },
     "execution_count": 17,
     "metadata": {},
     "output_type": "execute_result"
    }
   ],
   "source": [
    "x_train_num[0]"
   ]
  },
  {
   "cell_type": "code",
   "execution_count": 18,
   "id": "38e4050f",
   "metadata": {},
   "outputs": [
    {
     "data": {
      "text/plain": [
       "array([ 4, 12,  3,  3,  3,  3,  2,  3,  4,  3,  4,  3,  3,  2,  7, 18,  7,\n",
       "        7,  3,  2, 20, 17, 22,  9,  2,  6, 22,  8, 14,  6, 11, 13, 11, 17,\n",
       "        9,  6,  5, 36,  6, 11, 13, 11, 41, 26,  5, 20, 33,  5, 24, 28,  2,\n",
       "       24,  5, 26,  5, 20, 33, 20, 17, 37,  2, 27, 23,  9, 26, 25,  2, 27,\n",
       "       23, 25, 32, 35, 12,  3,  4, 15, 18, 21, 18,  4, 16,  4, 10,  7, 10,\n",
       "       19, 10, 21, 18, 21, 16,  2,  8, 24, 26, 28,  2, 30,  3,  4, 14,  7,\n",
       "       10,  3, 14, 19, 15, 14, 19, 21, 28, 16, 19, 12,  3,  7,  2,  6,  5,\n",
       "        8, 13, 28,  2, 30,  3,  4, 14,  7, 10,  3, 14, 19, 15, 14, 19, 21,\n",
       "       28, 10,  4,  4,  3,  4,  0,  0,  0,  0,  0,  0,  0,  0])"
      ]
     },
     "execution_count": 18,
     "metadata": {},
     "output_type": "execute_result"
    }
   ],
   "source": [
    "x_train_num[0][0]"
   ]
  },
  {
   "cell_type": "code",
   "execution_count": 23,
   "id": "3546ecca",
   "metadata": {},
   "outputs": [],
   "source": [
    "padded_text_to_num = hlogs.padded_txt_to_num"
   ]
  },
  {
   "cell_type": "code",
   "execution_count": 25,
   "id": "444a5a12",
   "metadata": {},
   "outputs": [
    {
     "data": {
      "text/plain": [
       "array([ 4, 12,  3,  3,  4, 21,  2,  7,  4, 16, 10,  3, 12,  2,  3, 15, 16,\n",
       "        2, 20, 17, 22,  9,  2,  6, 22,  8, 14,  6, 11, 13, 11, 17,  9,  6,\n",
       "        5, 36,  6, 11, 13, 11, 41, 26,  5, 20, 33,  5, 24, 28,  2, 24,  5,\n",
       "       26,  5, 20, 33, 20, 17, 37,  2, 27, 23,  9, 26, 25,  2, 27, 23, 25,\n",
       "       32, 35,  3, 18,  4, 12, 21, 21, 21, 18, 12, 19, 21,  3, 21, 12, 18,\n",
       "        7, 21,  4, 18,  2,  8, 24, 26, 28,  2, 30,  3,  4, 14,  7, 10,  4,\n",
       "       14,  3, 21, 14,  3,  4,  7, 28, 10, 15,  3,  4, 18,  2,  6,  5,  8,\n",
       "       13, 28,  2, 30,  3,  4, 14,  7, 10,  4, 14,  3, 21, 14,  3,  4,  7,\n",
       "       28, 10,  4,  4,  3,  4,  0,  0,  0,  0,  0,  0,  0,  0])"
      ]
     },
     "execution_count": 25,
     "metadata": {},
     "output_type": "execute_result"
    }
   ],
   "source": [
    "padded_text_to_num[0]"
   ]
  },
  {
   "cell_type": "code",
   "execution_count": 32,
   "id": "4622b13f",
   "metadata": {},
   "outputs": [
    {
     "data": {
      "text/plain": [
       "['0 8 1 1 0 9   2 0 3 5 1 8   1 4 3   i n f o   d f s . d a t a n o d e $ d a t a x c e i v e r :   r e c e i v i n g   b l o c k   b l k _ - 1 6 0 8 9 9 9 6 8 7 9 1 9 8 6 2 9 0 6   s r c :   / 1 0 . 2 5 0 . 1 9 . 1 0 2 : 5 4 1 0 6   d e s t :   / 1 0 . 2 5 0 . 1 9 . 1 0 2 : 5 0 0 1 0 UNK UNK UNK UNK UNK UNK UNK UNK']"
      ]
     },
     "execution_count": 32,
     "metadata": {},
     "output_type": "execute_result"
    }
   ],
   "source": [
    "tk = hlogs.tk\n",
    "tk.sequences_to_texts([padded_text_to_num[0]])"
   ]
  },
  {
   "cell_type": "code",
   "execution_count": 35,
   "id": "0e6fcae8",
   "metadata": {},
   "outputs": [
    {
     "data": {
      "text/plain": [
       "'081109 203518 143 info dfs.datanode$dataxceiver: receiving block blk_-1608999687919862906 src: /10.250.19.102:54106 dest: /10.250.19.102:50010'"
      ]
     },
     "execution_count": 35,
     "metadata": {},
     "output_type": "execute_result"
    }
   ],
   "source": [
    "loglines[0]"
   ]
  },
  {
   "cell_type": "code",
   "execution_count": 41,
   "id": "cfc2cd40",
   "metadata": {},
   "outputs": [
    {
     "data": {
      "text/plain": [
       "67"
      ]
     },
     "execution_count": 41,
     "metadata": {},
     "output_type": "execute_result"
    }
   ],
   "source": [
    "txt = '081109 214132 2617 warn dfs.datanode$dataxceiver: 10.251.67.4:50010'\n",
    "len(txt)"
   ]
  },
  {
   "cell_type": "code",
   "execution_count": null,
   "id": "32d8883c",
   "metadata": {},
   "outputs": [],
   "source": [
    "df1 = hlogs.seq_of_log_nums\n",
    "df1"
   ]
  },
  {
   "cell_type": "code",
   "execution_count": 447,
   "id": "299561e2",
   "metadata": {},
   "outputs": [
    {
     "data": {
      "text/plain": [
       "dict_items([('a', 1), ('b', 2)])"
      ]
     },
     "execution_count": 447,
     "metadata": {},
     "output_type": "execute_result"
    }
   ],
   "source": [
    "d = {'a': 1, 'b':2}\n",
    "d.items()"
   ]
  }
 ],
 "metadata": {
  "kernelspec": {
   "display_name": "Python 3 (ipykernel)",
   "language": "python",
   "name": "python3"
  },
  "language_info": {
   "codemirror_mode": {
    "name": "ipython",
    "version": 3
   },
   "file_extension": ".py",
   "mimetype": "text/x-python",
   "name": "python",
   "nbconvert_exporter": "python",
   "pygments_lexer": "ipython3",
   "version": "3.8.12"
  }
 },
 "nbformat": 4,
 "nbformat_minor": 5
}
