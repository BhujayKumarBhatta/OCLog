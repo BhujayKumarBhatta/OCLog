{
 "cells": [
  {
   "cell_type": "code",
   "execution_count": 1,
   "id": "c4aefd92",
   "metadata": {},
   "outputs": [],
   "source": [
    "import os, sys\n",
    "cur_dir = os.getcwd()\n",
    "basename = os.path.basename(cur_dir)\n",
    "for _ in range(5):\n",
    "    if basename != 'OCLog':\n",
    "        cur_dir = os.path.dirname(cur_dir)\n",
    "        basename = os.path.basename(cur_dir)\n",
    "        #print(cur_dir, basename)\n",
    "    else:\n",
    "        if cur_dir not in sys.path:\n",
    "            sys.path.append(cur_dir)\n",
    "            #print(sys.path)"
   ]
  },
  {
   "cell_type": "code",
   "execution_count": 2,
   "id": "619d8a33",
   "metadata": {},
   "outputs": [],
   "source": [
    "import numpy as np\n",
    "import matplotlib.pyplot as plt\n",
    "import seaborn as sns\n",
    "import tensorflow as tf\n",
    "from tqdm import trange, tqdm, tnrange\n",
    "from oclog.BGL.bglog import BGLog, get_embedding_layer\n",
    "from oclog.openset.boundary_loss import euclidean_metric, BoundaryLoss\n",
    "from oclog.openset.pretraining import LogLineEncoder, LogSeqEncoder, LogClassifier\n",
    "# from oclog.openset.openset import OpenSet\n",
    "from oclog.openset.opensetv4 import OpenSet\n",
    "from sklearn.metrics import confusion_matrix, f1_score, accuracy_score\n",
    "import sklearn.metrics as m\n",
    "import warnings\n",
    "warnings.filterwarnings('ignore')"
   ]
  },
  {
   "cell_type": "code",
   "execution_count": 3,
   "id": "d96f419a",
   "metadata": {},
   "outputs": [
    {
     "name": "stdout",
     "output_type": "stream",
     "text": [
      "padded_num_seq_df loaded from C:\\Users\\Bhujay_ROG\\MyDev\\OCLog\\oclog\\BGL\\data\\bgl_padded_num_seq_df.pkl\n",
      "trained tokenizer, tk, loaded from C:\\Users\\Bhujay_ROG\\MyDev\\OCLog\\oclog\\BGL\\data\\bgltk.pkl\n",
      "train_0:, 800\n",
      "test_0:, 200\n",
      "train_1:, 800\n",
      "test_1:, 200\n",
      "train_2:, 800\n",
      "test_2:, 200\n",
      "train_3:, 800\n",
      "test_3:, 102\n",
      "4 class does not have 800 records, it has only 628 records\n",
      "test_4:, 0\n",
      "5 class does not have 800 records, it has only 165 records\n",
      "5 class does not have 200 records, it has only 165 records\n",
      "6 class does not have 800 records, it has only 75 records\n",
      "6 class does not have 200 records, it has only 75 records\n",
      "[[1. 0. 0. 0.]\n",
      " [1. 0. 0. 0.]]\n",
      "<BatchDataset element_spec=(TensorSpec(shape=(32, 32, 64), dtype=tf.int32, name=None), TensorSpec(shape=(32, 4), dtype=tf.float32, name=None))>\n",
      "<BatchDataset element_spec=(TensorSpec(shape=(32, 32, 64), dtype=tf.int32, name=None), TensorSpec(shape=(32, 4), dtype=tf.float32, name=None))>\n"
     ]
    }
   ],
   "source": [
    "bglog = BGLog(save_padded_num_sequences=False, load_from_pkl=True, )\n",
    "train_test = bglog.get_tensor_train_test(ablation=1000)\n",
    "train_data, test_data = train_test"
   ]
  },
  {
   "cell_type": "code",
   "execution_count": 4,
   "id": "16e3ddf2",
   "metadata": {},
   "outputs": [
    {
     "name": "stdout",
     "output_type": "stream",
     "text": [
      "vocab_size: 50\n",
      "100/100 [==============================] - 11s 101ms/step - loss: 0.4636 - accuracy: 0.8128 - precision: 0.8919 - recall: 0.7347 - val_loss: 0.0431 - val_accuracy: 0.9866 - val_precision: 0.9896 - val_recall: 0.9866\n"
     ]
    }
   ],
   "source": [
    "line_encoder = LogLineEncoder(bglog, chars_in_line=64)\n",
    "logSeqencer =  LogSeqEncoder(line_in_seq=32)\n",
    "ptmodel = LogClassifier(line_encoder=line_encoder, seq_encoder=logSeqencer, num_classes=4)\n",
    "ptmodel.compile(optimizer='adam', loss='categorical_crossentropy',\n",
    "              metrics=['accuracy', tf.keras.metrics.Precision(), tf.keras.metrics.Recall()])\n",
    "hist = ptmodel.fit(train_data, validation_data=test_data, epochs=1) "
   ]
  },
  {
   "cell_type": "code",
   "execution_count": 5,
   "id": "9e5e2d33",
   "metadata": {},
   "outputs": [
    {
     "name": "stderr",
     "output_type": "stream",
     "text": [
      "100%|████████████████████████████████████████████████████████████████████████████████| 100/100 [00:13<00:00,  7.53it/s]\n"
     ]
    },
    {
     "name": "stdout",
     "output_type": "stream",
     "text": [
      "epoch: 1/50, train_loss: 4.322241306304932, eval_score: 0.4957054355242361\n"
     ]
    },
    {
     "name": "stderr",
     "output_type": "stream",
     "text": [
      "100%|████████████████████████████████████████████████████████████████████████████████| 100/100 [00:13<00:00,  7.55it/s]\n"
     ]
    },
    {
     "name": "stdout",
     "output_type": "stream",
     "text": [
      "epoch: 2/50, train_loss: 4.322242736816406, eval_score: 0.6261973122253294\n"
     ]
    },
    {
     "name": "stderr",
     "output_type": "stream",
     "text": [
      "100%|████████████████████████████████████████████████████████████████████████████████| 100/100 [00:13<00:00,  7.52it/s]\n"
     ]
    },
    {
     "name": "stdout",
     "output_type": "stream",
     "text": [
      "epoch: 3/50, train_loss: 4.322243690490723, eval_score: 0.6688162160734524\n"
     ]
    },
    {
     "name": "stderr",
     "output_type": "stream",
     "text": [
      "100%|████████████████████████████████████████████████████████████████████████████████| 100/100 [00:13<00:00,  7.54it/s]\n"
     ]
    },
    {
     "name": "stdout",
     "output_type": "stream",
     "text": [
      "epoch: 4/50, train_loss: 4.322244167327881, eval_score: 0.713610347830857\n"
     ]
    },
    {
     "name": "stderr",
     "output_type": "stream",
     "text": [
      "100%|████████████████████████████████████████████████████████████████████████████████| 100/100 [00:13<00:00,  7.54it/s]\n"
     ]
    },
    {
     "name": "stdout",
     "output_type": "stream",
     "text": [
      "epoch: 5/50, train_loss: 4.322249889373779, eval_score: 0.7243470461403178\n"
     ]
    },
    {
     "name": "stderr",
     "output_type": "stream",
     "text": [
      "100%|████████████████████████████████████████████████████████████████████████████████| 100/100 [00:13<00:00,  7.56it/s]\n"
     ]
    },
    {
     "name": "stdout",
     "output_type": "stream",
     "text": [
      "epoch: 6/50, train_loss: 4.322239875793457, eval_score: 0.7592668530603242\n"
     ]
    },
    {
     "name": "stderr",
     "output_type": "stream",
     "text": [
      "100%|████████████████████████████████████████████████████████████████████████████████| 100/100 [00:13<00:00,  7.53it/s]\n"
     ]
    },
    {
     "name": "stdout",
     "output_type": "stream",
     "text": [
      "epoch: 7/50, train_loss: 4.32224178314209, eval_score: 0.7698439659476115\n"
     ]
    },
    {
     "name": "stderr",
     "output_type": "stream",
     "text": [
      "100%|████████████████████████████████████████████████████████████████████████████████| 100/100 [00:13<00:00,  7.53it/s]\n"
     ]
    },
    {
     "name": "stdout",
     "output_type": "stream",
     "text": [
      "epoch: 8/50, train_loss: 4.322247505187988, eval_score: 0.7766199395851805\n"
     ]
    },
    {
     "name": "stderr",
     "output_type": "stream",
     "text": [
      "100%|████████████████████████████████████████████████████████████████████████████████| 100/100 [00:13<00:00,  7.50it/s]\n"
     ]
    },
    {
     "name": "stdout",
     "output_type": "stream",
     "text": [
      "epoch: 9/50, train_loss: 4.322247505187988, eval_score: 0.782572697333543\n"
     ]
    },
    {
     "name": "stderr",
     "output_type": "stream",
     "text": [
      "100%|████████████████████████████████████████████████████████████████████████████████| 100/100 [00:13<00:00,  7.56it/s]\n"
     ]
    },
    {
     "name": "stdout",
     "output_type": "stream",
     "text": [
      "epoch: 10/50, train_loss: 4.322247505187988, eval_score: 0.7864019134566186\n"
     ]
    },
    {
     "name": "stderr",
     "output_type": "stream",
     "text": [
      "100%|████████████████████████████████████████████████████████████████████████████████| 100/100 [00:13<00:00,  7.39it/s]\n"
     ]
    },
    {
     "name": "stdout",
     "output_type": "stream",
     "text": [
      "epoch: 11/50, train_loss: 4.322249412536621, eval_score: 0.7891615841140649\n"
     ]
    },
    {
     "name": "stderr",
     "output_type": "stream",
     "text": [
      "100%|████████████████████████████████████████████████████████████████████████████████| 100/100 [00:13<00:00,  7.39it/s]\n"
     ]
    },
    {
     "name": "stdout",
     "output_type": "stream",
     "text": [
      "epoch: 12/50, train_loss: 4.322249412536621, eval_score: 0.792446305142879\n"
     ]
    },
    {
     "name": "stderr",
     "output_type": "stream",
     "text": [
      "100%|████████████████████████████████████████████████████████████████████████████████| 100/100 [00:13<00:00,  7.51it/s]\n"
     ]
    },
    {
     "name": "stdout",
     "output_type": "stream",
     "text": [
      "epoch: 13/50, train_loss: 4.322240829467773, eval_score: 0.7949554785164586\n"
     ]
    },
    {
     "name": "stderr",
     "output_type": "stream",
     "text": [
      "100%|████████████████████████████████████████████████████████████████████████████████| 100/100 [00:13<00:00,  7.47it/s]\n"
     ]
    },
    {
     "name": "stdout",
     "output_type": "stream",
     "text": [
      "epoch: 14/50, train_loss: 4.322238445281982, eval_score: 0.7989061649760147\n"
     ]
    },
    {
     "name": "stderr",
     "output_type": "stream",
     "text": [
      "100%|████████████████████████████████████████████████████████████████████████████████| 100/100 [00:13<00:00,  7.53it/s]\n"
     ]
    },
    {
     "name": "stdout",
     "output_type": "stream",
     "text": [
      "epoch: 15/50, train_loss: 4.3222455978393555, eval_score: 0.8024030181364775\n"
     ]
    },
    {
     "name": "stderr",
     "output_type": "stream",
     "text": [
      "100%|████████████████████████████████████████████████████████████████████████████████| 100/100 [00:13<00:00,  7.54it/s]\n"
     ]
    },
    {
     "name": "stdout",
     "output_type": "stream",
     "text": [
      "epoch: 16/50, train_loss: 4.322241306304932, eval_score: 0.8038061235830422\n"
     ]
    },
    {
     "name": "stderr",
     "output_type": "stream",
     "text": [
      "100%|████████████████████████████████████████████████████████████████████████████████| 100/100 [00:13<00:00,  7.52it/s]\n"
     ]
    },
    {
     "name": "stdout",
     "output_type": "stream",
     "text": [
      "epoch: 17/50, train_loss: 4.322251796722412, eval_score: 0.8046802447827016\n"
     ]
    },
    {
     "name": "stderr",
     "output_type": "stream",
     "text": [
      "100%|████████████████████████████████████████████████████████████████████████████████| 100/100 [00:13<00:00,  7.53it/s]\n"
     ]
    },
    {
     "name": "stdout",
     "output_type": "stream",
     "text": [
      "epoch: 18/50, train_loss: 4.32225227355957, eval_score: 0.8065574969409652\n"
     ]
    },
    {
     "name": "stderr",
     "output_type": "stream",
     "text": [
      "100%|████████████████████████████████████████████████████████████████████████████████| 100/100 [00:13<00:00,  7.51it/s]\n"
     ]
    },
    {
     "name": "stdout",
     "output_type": "stream",
     "text": [
      "epoch: 19/50, train_loss: 4.32224702835083, eval_score: 0.8081650612400485\n"
     ]
    },
    {
     "name": "stderr",
     "output_type": "stream",
     "text": [
      "100%|████████████████████████████████████████████████████████████████████████████████| 100/100 [00:13<00:00,  7.49it/s]\n"
     ]
    },
    {
     "name": "stdout",
     "output_type": "stream",
     "text": [
      "epoch: 20/50, train_loss: 4.322244644165039, eval_score: 0.809913945311293\n"
     ]
    },
    {
     "name": "stderr",
     "output_type": "stream",
     "text": [
      "100%|████████████████████████████████████████████████████████████████████████████████| 100/100 [00:13<00:00,  7.51it/s]\n"
     ]
    },
    {
     "name": "stdout",
     "output_type": "stream",
     "text": [
      "epoch: 21/50, train_loss: 4.322239398956299, eval_score: 0.8112332625405024\n"
     ]
    },
    {
     "name": "stderr",
     "output_type": "stream",
     "text": [
      "100%|████████████████████████████████████████████████████████████████████████████████| 100/100 [00:13<00:00,  7.49it/s]\n"
     ]
    },
    {
     "name": "stdout",
     "output_type": "stream",
     "text": [
      "epoch: 22/50, train_loss: 4.3222551345825195, eval_score: 0.8115715625421954\n"
     ]
    },
    {
     "name": "stderr",
     "output_type": "stream",
     "text": [
      "100%|████████████████████████████████████████████████████████████████████████████████| 100/100 [00:13<00:00,  7.49it/s]\n"
     ]
    },
    {
     "name": "stdout",
     "output_type": "stream",
     "text": [
      "epoch: 23/50, train_loss: 4.3222455978393555, eval_score: 0.8117441283096164\n"
     ]
    },
    {
     "name": "stderr",
     "output_type": "stream",
     "text": [
      "100%|████████████████████████████████████████████████████████████████████████████████| 100/100 [00:13<00:00,  7.47it/s]\n"
     ]
    },
    {
     "name": "stdout",
     "output_type": "stream",
     "text": [
      "epoch: 24/50, train_loss: 4.322239875793457, eval_score: 0.8121598685140299\n"
     ]
    },
    {
     "name": "stderr",
     "output_type": "stream",
     "text": [
      "100%|████████████████████████████████████████████████████████████████████████████████| 100/100 [00:13<00:00,  7.25it/s]\n"
     ]
    },
    {
     "name": "stdout",
     "output_type": "stream",
     "text": [
      "epoch: 25/50, train_loss: 4.322248458862305, eval_score: 0.8129888139216103\n"
     ]
    },
    {
     "name": "stderr",
     "output_type": "stream",
     "text": [
      "100%|████████████████████████████████████████████████████████████████████████████████| 100/100 [00:13<00:00,  7.60it/s]\n"
     ]
    },
    {
     "name": "stdout",
     "output_type": "stream",
     "text": [
      "epoch: 26/50, train_loss: 4.322249889373779, eval_score: 0.8138143964674965\n"
     ]
    },
    {
     "name": "stderr",
     "output_type": "stream",
     "text": [
      "100%|████████████████████████████████████████████████████████████████████████████████| 100/100 [00:13<00:00,  7.61it/s]\n"
     ]
    },
    {
     "name": "stdout",
     "output_type": "stream",
     "text": [
      "epoch: 27/50, train_loss: 4.322240829467773, eval_score: 0.8146366365739258\n"
     ]
    },
    {
     "name": "stderr",
     "output_type": "stream",
     "text": [
      "100%|████████████████████████████████████████████████████████████████████████████████| 100/100 [00:13<00:00,  7.61it/s]\n"
     ]
    },
    {
     "name": "stdout",
     "output_type": "stream",
     "text": [
      "epoch: 28/50, train_loss: 4.322242736816406, eval_score: 0.8146366365739258\n"
     ]
    },
    {
     "name": "stderr",
     "output_type": "stream",
     "text": [
      "100%|████████████████████████████████████████████████████████████████████████████████| 100/100 [00:13<00:00,  7.59it/s]\n"
     ]
    },
    {
     "name": "stdout",
     "output_type": "stream",
     "text": [
      "epoch: 29/50, train_loss: 4.322249889373779, eval_score: 0.8154555544981069\n"
     ]
    },
    {
     "name": "stderr",
     "output_type": "stream",
     "text": [
      "100%|████████████████████████████████████████████████████████████████████████████████| 100/100 [00:13<00:00,  7.59it/s]\n"
     ]
    },
    {
     "name": "stdout",
     "output_type": "stream",
     "text": [
      "epoch: 30/50, train_loss: 4.3222527503967285, eval_score: 0.816271170333884\n"
     ]
    },
    {
     "name": "stderr",
     "output_type": "stream",
     "text": [
      "100%|████████████████████████████████████████████████████████████████████████████████| 100/100 [00:13<00:00,  7.58it/s]\n"
     ]
    },
    {
     "name": "stdout",
     "output_type": "stream",
     "text": [
      "epoch: 31/50, train_loss: 4.322242259979248, eval_score: 0.8165978221326591\n"
     ]
    },
    {
     "name": "stderr",
     "output_type": "stream",
     "text": [
      "100%|████████████████████████████████████████████████████████████████████████████████| 100/100 [00:13<00:00,  7.62it/s]\n"
     ]
    },
    {
     "name": "stdout",
     "output_type": "stream",
     "text": [
      "epoch: 32/50, train_loss: 4.322242259979248, eval_score: 0.8170043980024573\n"
     ]
    },
    {
     "name": "stderr",
     "output_type": "stream",
     "text": [
      "100%|████████████████████████████████████████████████████████████████████████████████| 100/100 [00:13<00:00,  7.60it/s]\n"
     ]
    },
    {
     "name": "stdout",
     "output_type": "stream",
     "text": [
      "epoch: 33/50, train_loss: 4.322246551513672, eval_score: 0.8170043980024573\n"
     ]
    },
    {
     "name": "stderr",
     "output_type": "stream",
     "text": [
      "100%|████████████████████████████████████████████████████████████████████████████████| 100/100 [00:13<00:00,  7.61it/s]\n"
     ]
    },
    {
     "name": "stdout",
     "output_type": "stream",
     "text": [
      "epoch: 34/50, train_loss: 4.3222432136535645, eval_score: 0.8171655453717267\n"
     ]
    },
    {
     "name": "stderr",
     "output_type": "stream",
     "text": [
      "100%|████████████████████████████████████████████████████████████████████████████████| 100/100 [00:13<00:00,  7.61it/s]\n"
     ]
    },
    {
     "name": "stdout",
     "output_type": "stream",
     "text": [
      "epoch: 35/50, train_loss: 4.322240829467773, eval_score: 0.8173378893322487\n"
     ]
    },
    {
     "name": "stderr",
     "output_type": "stream",
     "text": [
      "100%|████████████████████████████████████████████████████████████████████████████████| 100/100 [00:13<00:00,  7.59it/s]\n"
     ]
    },
    {
     "name": "stdout",
     "output_type": "stream",
     "text": [
      "epoch: 36/50, train_loss: 4.322243690490723, eval_score: 0.8173378893322487\n"
     ]
    },
    {
     "name": "stderr",
     "output_type": "stream",
     "text": [
      "100%|████████████████████████████████████████████████████████████████████████████████| 100/100 [00:13<00:00,  7.60it/s]\n"
     ]
    },
    {
     "name": "stdout",
     "output_type": "stream",
     "text": [
      "epoch: 37/50, train_loss: 4.322244167327881, eval_score: 0.8173378893322487\n"
     ]
    },
    {
     "name": "stderr",
     "output_type": "stream",
     "text": [
      "100%|████████████████████████████████████████████████████████████████████████████████| 100/100 [00:13<00:00,  7.61it/s]\n"
     ]
    },
    {
     "name": "stdout",
     "output_type": "stream",
     "text": [
      "epoch: 38/50, train_loss: 4.322243690490723, eval_score: 0.8173378893322487\n"
     ]
    },
    {
     "data": {
      "image/png": "[encoded data removed]",
      "text/plain": [
       "<Figure size 1080x360 with 2 Axes>"
      ]
     },
     "metadata": {
      "needs_background": "light"
     },
     "output_type": "display_data"
    }
   ],
   "source": [
    "oset = OpenSet(4, ptmodel)\n",
    "_, _ = oset.train(train_data, epochs=50, lr_rate=2, wait_patient=3)"
   ]
  },
  {
   "cell_type": "code",
   "execution_count": 12,
   "id": "12f2dff1",
   "metadata": {},
   "outputs": [
    {
     "data": {
      "image/png": "[encoded data removed]",
      "text/plain": [
       "<Figure size 1080x360 with 2 Axes>"
      ]
     },
     "metadata": {
      "needs_background": "light"
     },
     "output_type": "display_data"
    },
    {
     "name": "stdout",
     "output_type": "stream",
     "text": [
      "euc_dis: tf.Tensor(\n",
      "[1.7313002 4.2338777 2.7695127 1.3456036 2.389917  7.963277  2.062164\n",
      " 2.347791  3.094213  6.5403247 3.7152324 6.0438175 2.580769  3.5981982\n",
      " 2.693632  2.370397  2.4413848 6.0601006 2.754422  1.7313374 3.1460788\n",
      " 2.5777457 4.6769657 3.2006006 3.7180722 6.8219013 4.3618608 5.267108\n",
      " 2.0339284 4.2512965 1.9316493 9.400277 ], shape=(32,), dtype=float32)\n",
      "pred_radius: tf.Tensor(\n",
      "[6.875246  6.9321666 6.875246  6.875246  6.892925  6.913581  6.875246\n",
      " 6.892925  6.9321666 6.913581  6.9321666 6.913581  6.892925  6.9321666\n",
      " 6.875246  6.892925  6.892925  6.9321666 6.892925  6.875246  6.9321666\n",
      " 6.892925  6.913581  6.9321666 6.9321666 6.913581  6.9321666 6.913581\n",
      " 6.892925  6.9321666 6.875246  6.913581 ], shape=(32,), dtype=float32)\n",
      "predictions with unknown-9999: [   3    2    3    3    0 9999    3    0    2    1    2    1    0    2\n",
      "    3    0    0    2    0    3    2    0    1    2    2    1    2    1\n",
      "    0    2    3 9999]\n",
      "[[776   0   0   0  24]\n",
      " [  0 192   0   0 608]\n",
      " [  0   0 756  34  10]\n",
      " [  0   1   3 722  74]\n",
      " [  0   0   0   0   0]]\n",
      "76.44\n",
      "f1_weighted: 0.8173378893322487, f1_macro: 0.653870311465799, f1_micro: 0.764375\n",
      "              precision    recall  f1-score   support\n",
      "\n",
      "           0       1.00      0.97      0.98       800\n",
      "           1       0.99      0.24      0.39       800\n",
      "           2       1.00      0.94      0.97       800\n",
      "           3       0.96      0.90      0.93       800\n",
      "        9999       0.00      0.00      0.00         0\n",
      "\n",
      "    accuracy                           0.76      3200\n",
      "   macro avg       0.79      0.61      0.65      3200\n",
      "weighted avg       0.99      0.76      0.82      3200\n",
      "\n"
     ]
    }
   ],
   "source": [
    "oset.plot_radius_chages()\n",
    "preds = oset.openpredict(oset.features)\n",
    "y_true, y_pred, _ = oset.evaluate(train_data)"
   ]
  },
  {
   "cell_type": "code",
   "execution_count": 13,
   "id": "2b7fcbca",
   "metadata": {},
   "outputs": [
    {
     "name": "stderr",
     "output_type": "stream",
     "text": [
      "100%|████████████████████████████████████████████████████████████████████████████████| 100/100 [00:13<00:00,  7.43it/s]\n"
     ]
    },
    {
     "name": "stdout",
     "output_type": "stream",
     "text": [
      "epoch: 1/50, train_loss: 4.302145957946777, eval_score: 0.5916902395839778\n"
     ]
    },
    {
     "name": "stderr",
     "output_type": "stream",
     "text": [
      "100%|████████████████████████████████████████████████████████████████████████████████| 100/100 [00:13<00:00,  7.40it/s]\n"
     ]
    },
    {
     "name": "stdout",
     "output_type": "stream",
     "text": [
      "epoch: 2/50, train_loss: 4.302150726318359, eval_score: 0.7030850200031012\n"
     ]
    },
    {
     "name": "stderr",
     "output_type": "stream",
     "text": [
      "100%|████████████████████████████████████████████████████████████████████████████████| 100/100 [00:13<00:00,  7.24it/s]\n"
     ]
    },
    {
     "name": "stdout",
     "output_type": "stream",
     "text": [
      "epoch: 3/50, train_loss: 4.302145481109619, eval_score: 0.7531064047364892\n"
     ]
    },
    {
     "name": "stderr",
     "output_type": "stream",
     "text": [
      "100%|████████████████████████████████████████████████████████████████████████████████| 100/100 [00:13<00:00,  7.39it/s]\n"
     ]
    },
    {
     "name": "stdout",
     "output_type": "stream",
     "text": [
      "epoch: 4/50, train_loss: 4.302157402038574, eval_score: 0.7735851729329534\n"
     ]
    },
    {
     "name": "stderr",
     "output_type": "stream",
     "text": [
      "100%|████████████████████████████████████████████████████████████████████████████████| 100/100 [00:13<00:00,  7.47it/s]\n"
     ]
    },
    {
     "name": "stdout",
     "output_type": "stream",
     "text": [
      "epoch: 5/50, train_loss: 4.302155017852783, eval_score: 0.7853869499778884\n"
     ]
    },
    {
     "name": "stderr",
     "output_type": "stream",
     "text": [
      "100%|████████████████████████████████████████████████████████████████████████████████| 100/100 [00:13<00:00,  7.39it/s]\n"
     ]
    },
    {
     "name": "stdout",
     "output_type": "stream",
     "text": [
      "epoch: 6/50, train_loss: 4.30215311050415, eval_score: 0.7936040600749101\n"
     ]
    },
    {
     "name": "stderr",
     "output_type": "stream",
     "text": [
      "100%|████████████████████████████████████████████████████████████████████████████████| 100/100 [00:13<00:00,  7.37it/s]\n"
     ]
    },
    {
     "name": "stdout",
     "output_type": "stream",
     "text": [
      "epoch: 7/50, train_loss: 4.302159309387207, eval_score: 0.8037849775948716\n"
     ]
    },
    {
     "name": "stderr",
     "output_type": "stream",
     "text": [
      "100%|████████████████████████████████████████████████████████████████████████████████| 100/100 [00:13<00:00,  7.39it/s]\n"
     ]
    },
    {
     "name": "stdout",
     "output_type": "stream",
     "text": [
      "epoch: 8/50, train_loss: 4.302151679992676, eval_score: 0.8107479736682572\n"
     ]
    },
    {
     "name": "stderr",
     "output_type": "stream",
     "text": [
      "100%|████████████████████████████████████████████████████████████████████████████████| 100/100 [00:13<00:00,  7.39it/s]\n"
     ]
    },
    {
     "name": "stdout",
     "output_type": "stream",
     "text": [
      "epoch: 9/50, train_loss: 4.30216646194458, eval_score: 0.8154555544981069\n"
     ]
    },
    {
     "name": "stderr",
     "output_type": "stream",
     "text": [
      "100%|████████████████████████████████████████████████████████████████████████████████| 100/100 [00:13<00:00,  7.36it/s]\n"
     ]
    },
    {
     "name": "stdout",
     "output_type": "stream",
     "text": [
      "epoch: 10/50, train_loss: 4.302154064178467, eval_score: 0.8180228578480098\n"
     ]
    },
    {
     "name": "stderr",
     "output_type": "stream",
     "text": [
      "100%|████████████████████████████████████████████████████████████████████████████████| 100/100 [00:13<00:00,  7.41it/s]\n"
     ]
    },
    {
     "name": "stdout",
     "output_type": "stream",
     "text": [
      "epoch: 11/50, train_loss: 4.302158355712891, eval_score: 0.8222350530184585\n"
     ]
    },
    {
     "name": "stderr",
     "output_type": "stream",
     "text": [
      "100%|████████████████████████████████████████████████████████████████████████████████| 100/100 [00:13<00:00,  7.42it/s]\n"
     ]
    },
    {
     "name": "stdout",
     "output_type": "stream",
     "text": [
      "epoch: 12/50, train_loss: 4.302161693572998, eval_score: 0.8246918297570666\n"
     ]
    },
    {
     "name": "stderr",
     "output_type": "stream",
     "text": [
      "100%|████████████████████████████████████████████████████████████████████████████████| 100/100 [00:13<00:00,  7.41it/s]\n"
     ]
    },
    {
     "name": "stdout",
     "output_type": "stream",
     "text": [
      "epoch: 13/50, train_loss: 4.30216646194458, eval_score: 0.8273064678797064\n"
     ]
    },
    {
     "name": "stderr",
     "output_type": "stream",
     "text": [
      "100%|████████████████████████████████████████████████████████████████████████████████| 100/100 [00:13<00:00,  7.41it/s]\n"
     ]
    },
    {
     "name": "stdout",
     "output_type": "stream",
     "text": [
      "epoch: 14/50, train_loss: 4.302176475524902, eval_score: 0.8285947654103538\n"
     ]
    },
    {
     "name": "stderr",
     "output_type": "stream",
     "text": [
      "100%|████████████████████████████████████████████████████████████████████████████████| 100/100 [00:13<00:00,  7.39it/s]\n"
     ]
    },
    {
     "name": "stdout",
     "output_type": "stream",
     "text": [
      "epoch: 15/50, train_loss: 4.302149772644043, eval_score: 0.83139527512727\n"
     ]
    },
    {
     "name": "stderr",
     "output_type": "stream",
     "text": [
      "100%|████████████████████████████████████████████████████████████████████████████████| 100/100 [00:13<00:00,  7.39it/s]\n"
     ]
    },
    {
     "name": "stdout",
     "output_type": "stream",
     "text": [
      "epoch: 16/50, train_loss: 4.3021392822265625, eval_score: 0.8318744501795001\n"
     ]
    },
    {
     "name": "stderr",
     "output_type": "stream",
     "text": [
      "100%|████████████████████████████████████████████████████████████████████████████████| 100/100 [00:13<00:00,  7.40it/s]\n"
     ]
    },
    {
     "name": "stdout",
     "output_type": "stream",
     "text": [
      "epoch: 17/50, train_loss: 4.302157878875732, eval_score: 0.8348645441147885\n"
     ]
    },
    {
     "name": "stderr",
     "output_type": "stream",
     "text": [
      "100%|████████████████████████████████████████████████████████████████████████████████| 100/100 [00:13<00:00,  7.39it/s]\n"
     ]
    },
    {
     "name": "stdout",
     "output_type": "stream",
     "text": [
      "epoch: 18/50, train_loss: 4.302160739898682, eval_score: 0.849893899378238\n"
     ]
    },
    {
     "name": "stderr",
     "output_type": "stream",
     "text": [
      "100%|████████████████████████████████████████████████████████████████████████████████| 100/100 [00:13<00:00,  7.43it/s]\n"
     ]
    },
    {
     "name": "stdout",
     "output_type": "stream",
     "text": [
      "epoch: 19/50, train_loss: 4.302148342132568, eval_score: 0.8567635317271961\n"
     ]
    },
    {
     "name": "stderr",
     "output_type": "stream",
     "text": [
      "100%|████████████████████████████████████████████████████████████████████████████████| 100/100 [00:13<00:00,  7.37it/s]\n"
     ]
    },
    {
     "name": "stdout",
     "output_type": "stream",
     "text": [
      "epoch: 20/50, train_loss: 4.302147388458252, eval_score: 0.8584443753974034\n"
     ]
    },
    {
     "name": "stderr",
     "output_type": "stream",
     "text": [
      "100%|████████████████████████████████████████████████████████████████████████████████| 100/100 [00:13<00:00,  7.34it/s]\n"
     ]
    },
    {
     "name": "stdout",
     "output_type": "stream",
     "text": [
      "epoch: 21/50, train_loss: 4.302154541015625, eval_score: 0.8584443753974034\n"
     ]
    },
    {
     "name": "stderr",
     "output_type": "stream",
     "text": [
      "100%|████████████████████████████████████████████████████████████████████████████████| 100/100 [00:13<00:00,  7.53it/s]\n"
     ]
    },
    {
     "name": "stdout",
     "output_type": "stream",
     "text": [
      "epoch: 22/50, train_loss: 4.30216121673584, eval_score: 0.8587787021109843\n"
     ]
    },
    {
     "name": "stderr",
     "output_type": "stream",
     "text": [
      "100%|████████████████████████████████████████████████████████████████████████████████| 100/100 [00:13<00:00,  7.53it/s]\n"
     ]
    },
    {
     "name": "stdout",
     "output_type": "stream",
     "text": [
      "epoch: 23/50, train_loss: 4.302155017852783, eval_score: 0.8596044474357637\n"
     ]
    },
    {
     "name": "stderr",
     "output_type": "stream",
     "text": [
      "100%|████████████████████████████████████████████████████████████████████████████████| 100/100 [00:13<00:00,  7.50it/s]\n"
     ]
    },
    {
     "name": "stdout",
     "output_type": "stream",
     "text": [
      "epoch: 24/50, train_loss: 4.302150726318359, eval_score: 0.861258806960009\n"
     ]
    },
    {
     "name": "stderr",
     "output_type": "stream",
     "text": [
      "100%|████████████████████████████████████████████████████████████████████████████████| 100/100 [00:13<00:00,  7.37it/s]\n"
     ]
    },
    {
     "name": "stdout",
     "output_type": "stream",
     "text": [
      "epoch: 25/50, train_loss: 4.302155017852783, eval_score: 0.8627446281834082\n"
     ]
    },
    {
     "name": "stderr",
     "output_type": "stream",
     "text": [
      "100%|████████████████████████████████████████████████████████████████████████████████| 100/100 [00:13<00:00,  7.52it/s]\n"
     ]
    },
    {
     "name": "stdout",
     "output_type": "stream",
     "text": [
      "epoch: 26/50, train_loss: 4.302159309387207, eval_score: 0.8648522201497906\n"
     ]
    },
    {
     "name": "stderr",
     "output_type": "stream",
     "text": [
      "100%|████████████████████████████████████████████████████████████████████████████████| 100/100 [00:13<00:00,  7.50it/s]\n"
     ]
    },
    {
     "name": "stdout",
     "output_type": "stream",
     "text": [
      "epoch: 27/50, train_loss: 4.302151679992676, eval_score: 0.8648522201497906\n"
     ]
    },
    {
     "name": "stderr",
     "output_type": "stream",
     "text": [
      "100%|████████████████████████████████████████████████████████████████████████████████| 100/100 [00:13<00:00,  7.51it/s]\n"
     ]
    },
    {
     "name": "stdout",
     "output_type": "stream",
     "text": [
      "epoch: 28/50, train_loss: 4.3021559715271, eval_score: 0.8655011604570042\n"
     ]
    },
    {
     "name": "stderr",
     "output_type": "stream",
     "text": [
      "100%|████████████████████████████████████████████████████████████████████████████████| 100/100 [00:13<00:00,  7.55it/s]\n"
     ]
    },
    {
     "name": "stdout",
     "output_type": "stream",
     "text": [
      "epoch: 29/50, train_loss: 4.302148818969727, eval_score: 0.8658247560279868\n"
     ]
    },
    {
     "name": "stderr",
     "output_type": "stream",
     "text": [
      "100%|████████████████████████████████████████████████████████████████████████████████| 100/100 [00:13<00:00,  7.55it/s]\n"
     ]
    },
    {
     "name": "stdout",
     "output_type": "stream",
     "text": [
      "epoch: 30/50, train_loss: 4.302159786224365, eval_score: 0.8661477706374415\n"
     ]
    },
    {
     "name": "stderr",
     "output_type": "stream",
     "text": [
      "100%|████████████████████████████████████████████████████████████████████████████████| 100/100 [00:13<00:00,  7.44it/s]\n"
     ]
    },
    {
     "name": "stdout",
     "output_type": "stream",
     "text": [
      "epoch: 31/50, train_loss: 4.302158355712891, eval_score: 0.8669499867142076\n"
     ]
    },
    {
     "name": "stderr",
     "output_type": "stream",
     "text": [
      "100%|████████████████████████████████████████████████████████████████████████████████| 100/100 [00:13<00:00,  7.50it/s]\n"
     ]
    },
    {
     "name": "stdout",
     "output_type": "stream",
     "text": [
      "epoch: 32/50, train_loss: 4.302152633666992, eval_score: 0.8675919741341396\n"
     ]
    },
    {
     "name": "stderr",
     "output_type": "stream",
     "text": [
      "100%|████████████████████████████████████████████████████████████████████████████████| 100/100 [00:13<00:00,  7.54it/s]\n"
     ]
    },
    {
     "name": "stdout",
     "output_type": "stream",
     "text": [
      "epoch: 33/50, train_loss: 4.302167892456055, eval_score: 0.8679121072711565\n"
     ]
    },
    {
     "name": "stderr",
     "output_type": "stream",
     "text": [
      "100%|████████████████████████████████████████████████████████████████████████████████| 100/100 [00:13<00:00,  7.56it/s]\n"
     ]
    },
    {
     "name": "stdout",
     "output_type": "stream",
     "text": [
      "epoch: 34/50, train_loss: 4.302152633666992, eval_score: 0.8682316687418574\n"
     ]
    },
    {
     "name": "stderr",
     "output_type": "stream",
     "text": [
      "100%|████████████████████████████████████████████████████████████████████████████████| 100/100 [00:13<00:00,  7.56it/s]\n"
     ]
    },
    {
     "name": "stdout",
     "output_type": "stream",
     "text": [
      "epoch: 35/50, train_loss: 4.302140712738037, eval_score: 0.8685506600761254\n"
     ]
    },
    {
     "name": "stderr",
     "output_type": "stream",
     "text": [
      "100%|████████████████████████████████████████████████████████████████████████████████| 100/100 [00:13<00:00,  7.55it/s]\n"
     ]
    },
    {
     "name": "stdout",
     "output_type": "stream",
     "text": [
      "epoch: 36/50, train_loss: 4.302151203155518, eval_score: 0.8685506600761254\n"
     ]
    },
    {
     "name": "stderr",
     "output_type": "stream",
     "text": [
      "100%|████████████████████████████████████████████████████████████████████████████████| 100/100 [00:13<00:00,  7.57it/s]\n"
     ]
    },
    {
     "name": "stdout",
     "output_type": "stream",
     "text": [
      "epoch: 37/50, train_loss: 4.30214786529541, eval_score: 0.8685506600761254\n"
     ]
    },
    {
     "name": "stderr",
     "output_type": "stream",
     "text": [
      "100%|████████████████████████████████████████████████████████████████████████████████| 100/100 [00:13<00:00,  7.56it/s]\n"
     ]
    },
    {
     "name": "stdout",
     "output_type": "stream",
     "text": [
      "epoch: 38/50, train_loss: 4.3021626472473145, eval_score: 0.869186938427648\n"
     ]
    },
    {
     "name": "stderr",
     "output_type": "stream",
     "text": [
      "100%|████████████████████████████████████████████████████████████████████████████████| 100/100 [00:13<00:00,  7.58it/s]\n"
     ]
    },
    {
     "name": "stdout",
     "output_type": "stream",
     "text": [
      "epoch: 39/50, train_loss: 4.302154541015625, eval_score: 0.869186938427648\n"
     ]
    },
    {
     "name": "stderr",
     "output_type": "stream",
     "text": [
      "100%|████████████████████████████████████████████████████████████████████████████████| 100/100 [00:13<00:00,  7.57it/s]\n"
     ]
    },
    {
     "name": "stdout",
     "output_type": "stream",
     "text": [
      "epoch: 40/50, train_loss: 4.302160263061523, eval_score: 0.8690593886198442\n"
     ]
    },
    {
     "name": "stderr",
     "output_type": "stream",
     "text": [
      "100%|████████████████████████████████████████████████████████████████████████████████| 100/100 [00:13<00:00,  7.55it/s]\n"
     ]
    },
    {
     "name": "stdout",
     "output_type": "stream",
     "text": [
      "epoch: 41/50, train_loss: 4.302151679992676, eval_score: 0.8690593886198442\n"
     ]
    },
    {
     "data": {
      "image/png": "[encoded data removed]",
      "text/plain": [
       "<Figure size 1080x360 with 2 Axes>"
      ]
     },
     "metadata": {
      "needs_background": "light"
     },
     "output_type": "display_data"
    }
   ],
   "source": [
    "oset = OpenSet(4, ptmodel)\n",
    "_, _ = oset.train(train_data, epochs=50, lr_rate=2.5, wait_patient=3)"
   ]
  },
  {
   "cell_type": "code",
   "execution_count": 14,
   "id": "b71ca5ec-6e26-4d45-875f-f226bad348ae",
   "metadata": {},
   "outputs": [
    {
     "data": {
      "image/png": "[encoded data removed]",
      "text/plain": [
       "<Figure size 1080x360 with 2 Axes>"
      ]
     },
     "metadata": {
      "needs_background": "light"
     },
     "output_type": "display_data"
    },
    {
     "name": "stdout",
     "output_type": "stream",
     "text": [
      "euc_dis: tf.Tensor(\n",
      "[ 1.9447893  2.702507   1.5760046  2.68675    3.5202348  9.051089\n",
      "  3.9535155  1.9447893  3.1403213  4.6769514  3.9535155  2.2205405\n",
      " 20.04435    2.269899   2.3696203  3.9535155  1.831615  10.215673\n",
      "  7.995566   6.821886   2.379185   3.0215209  2.4708028  2.4734955\n",
      "  3.9535155  4.4631143  2.149302   2.4021716  2.8786128  3.6504035\n",
      "  2.414001   2.564501 ], shape=(32,), dtype=float32)\n",
      "pred_radius: tf.Tensor(\n",
      "[8.465336 8.537254 8.537254 8.537254 8.537254 8.537254 8.485948 8.465336\n",
      " 8.465336 8.559495 8.485948 8.537254 8.559495 8.485948 8.485948 8.485948\n",
      " 8.537254 8.559495 8.537254 8.559495 8.465336 8.537254 8.465336 8.485948\n",
      " 8.485948 8.465336 8.465336 8.485948 8.537254 8.465336 8.485948 8.537254], shape=(32,), dtype=float32)\n",
      "predictions with unknown-9999: [   2    3    3    3    3 9999    0    2    2    1    0    3 9999    0\n",
      "    0    0    3 9999    3    1    2    3    2    0    0    2    2    0\n",
      "    3    2    0    3]\n",
      "[[792   0   0   0   8]\n",
      " [  0 322   0   0 478]\n",
      " [  0   0 760  36   4]\n",
      " [  0   1   5 737  57]\n",
      " [  0   0   0   0   0]]\n",
      "81.59\n",
      "f1_weighted: 0.869186938427648, f1_macro: 0.6953495507421186, f1_micro: 0.8159375\n",
      "              precision    recall  f1-score   support\n",
      "\n",
      "           0       1.00      0.99      0.99       800\n",
      "           1       1.00      0.40      0.57       800\n",
      "           2       0.99      0.95      0.97       800\n",
      "           3       0.95      0.92      0.94       800\n",
      "        9999       0.00      0.00      0.00         0\n",
      "\n",
      "    accuracy                           0.82      3200\n",
      "   macro avg       0.79      0.65      0.70      3200\n",
      "weighted avg       0.99      0.82      0.87      3200\n",
      "\n"
     ]
    }
   ],
   "source": [
    "oset.plot_radius_chages()\n",
    "preds = oset.openpredict(oset.features)\n",
    "y_true, y_pred, _ = oset.evaluate(train_data)"
   ]
  },
  {
   "cell_type": "code",
   "execution_count": 15,
   "id": "c1c18da4-3031-45c3-bf68-6528234efdcf",
   "metadata": {},
   "outputs": [
    {
     "name": "stderr",
     "output_type": "stream",
     "text": [
      "100%|████████████████████████████████████████████████████████████████████████████████| 100/100 [00:14<00:00,  7.07it/s]\n"
     ]
    },
    {
     "name": "stdout",
     "output_type": "stream",
     "text": [
      "epoch: 1/50, train_loss: 4.301329612731934, eval_score: 0.7222842399774213\n"
     ]
    },
    {
     "name": "stderr",
     "output_type": "stream",
     "text": [
      "100%|████████████████████████████████████████████████████████████████████████████████| 100/100 [00:13<00:00,  7.24it/s]\n"
     ]
    },
    {
     "name": "stdout",
     "output_type": "stream",
     "text": [
      "epoch: 2/50, train_loss: 4.301342010498047, eval_score: 0.7949226828751083\n"
     ]
    },
    {
     "name": "stderr",
     "output_type": "stream",
     "text": [
      "100%|████████████████████████████████████████████████████████████████████████████████| 100/100 [00:14<00:00,  7.06it/s]\n"
     ]
    },
    {
     "name": "stdout",
     "output_type": "stream",
     "text": [
      "epoch: 3/50, train_loss: 4.301339626312256, eval_score: 0.8212658144568747\n"
     ]
    },
    {
     "name": "stderr",
     "output_type": "stream",
     "text": [
      "100%|████████████████████████████████████████████████████████████████████████████████| 100/100 [00:13<00:00,  7.24it/s]\n"
     ]
    },
    {
     "name": "stdout",
     "output_type": "stream",
     "text": [
      "epoch: 4/50, train_loss: 4.301332473754883, eval_score: 0.849893899378238\n"
     ]
    },
    {
     "name": "stderr",
     "output_type": "stream",
     "text": [
      "100%|████████████████████████████████████████████████████████████████████████████████| 100/100 [00:14<00:00,  7.09it/s]\n"
     ]
    },
    {
     "name": "stdout",
     "output_type": "stream",
     "text": [
      "epoch: 5/50, train_loss: 4.301333427429199, eval_score: 0.8698716755728723\n"
     ]
    },
    {
     "name": "stderr",
     "output_type": "stream",
     "text": [
      "100%|████████████████████████████████████████████████████████████████████████████████| 100/100 [00:13<00:00,  7.24it/s]\n"
     ]
    },
    {
     "name": "stdout",
     "output_type": "stream",
     "text": [
      "epoch: 6/50, train_loss: 4.301332473754883, eval_score: 0.9151909189656589\n"
     ]
    },
    {
     "name": "stderr",
     "output_type": "stream",
     "text": [
      "100%|████████████████████████████████████████████████████████████████████████████████| 100/100 [00:13<00:00,  7.34it/s]\n"
     ]
    },
    {
     "name": "stdout",
     "output_type": "stream",
     "text": [
      "epoch: 7/50, train_loss: 4.3013386726379395, eval_score: 0.9410457780384057\n"
     ]
    },
    {
     "name": "stderr",
     "output_type": "stream",
     "text": [
      "100%|████████████████████████████████████████████████████████████████████████████████| 100/100 [00:13<00:00,  7.31it/s]\n"
     ]
    },
    {
     "name": "stdout",
     "output_type": "stream",
     "text": [
      "epoch: 8/50, train_loss: 4.301335334777832, eval_score: 0.9434056309589595\n"
     ]
    },
    {
     "name": "stderr",
     "output_type": "stream",
     "text": [
      "100%|████████████████████████████████████████████████████████████████████████████████| 100/100 [00:13<00:00,  7.34it/s]\n"
     ]
    },
    {
     "name": "stdout",
     "output_type": "stream",
     "text": [
      "epoch: 9/50, train_loss: 4.301331996917725, eval_score: 0.9435475457729791\n"
     ]
    },
    {
     "name": "stderr",
     "output_type": "stream",
     "text": [
      "100%|████████████████████████████████████████████████████████████████████████████████| 100/100 [00:13<00:00,  7.30it/s]\n"
     ]
    },
    {
     "name": "stdout",
     "output_type": "stream",
     "text": [
      "epoch: 10/50, train_loss: 4.301331996917725, eval_score: 0.9453141677132257\n"
     ]
    },
    {
     "name": "stderr",
     "output_type": "stream",
     "text": [
      "100%|████████████████████████████████████████████████████████████████████████████████| 100/100 [00:13<00:00,  7.38it/s]\n"
     ]
    },
    {
     "name": "stdout",
     "output_type": "stream",
     "text": [
      "epoch: 11/50, train_loss: 4.301336765289307, eval_score: 0.9459958275962503\n"
     ]
    },
    {
     "name": "stderr",
     "output_type": "stream",
     "text": [
      "100%|████████████████████████████████████████████████████████████████████████████████| 100/100 [00:13<00:00,  7.38it/s]\n"
     ]
    },
    {
     "name": "stdout",
     "output_type": "stream",
     "text": [
      "epoch: 12/50, train_loss: 4.301334381103516, eval_score: 0.9462373288088949\n"
     ]
    },
    {
     "name": "stderr",
     "output_type": "stream",
     "text": [
      "100%|████████████████████████████████████████████████████████████████████████████████| 100/100 [00:13<00:00,  7.39it/s]\n"
     ]
    },
    {
     "name": "stdout",
     "output_type": "stream",
     "text": [
      "epoch: 13/50, train_loss: 4.301332473754883, eval_score: 0.9460832624711734\n"
     ]
    },
    {
     "name": "stderr",
     "output_type": "stream",
     "text": [
      "100%|████████████████████████████████████████████████████████████████████████████████| 100/100 [00:13<00:00,  7.36it/s]\n"
     ]
    },
    {
     "name": "stdout",
     "output_type": "stream",
     "text": [
      "epoch: 14/50, train_loss: 4.301335334777832, eval_score: 0.9464763137536372\n"
     ]
    },
    {
     "name": "stderr",
     "output_type": "stream",
     "text": [
      "100%|████████████████████████████████████████████████████████████████████████████████| 100/100 [00:13<00:00,  7.38it/s]\n"
     ]
    },
    {
     "name": "stdout",
     "output_type": "stream",
     "text": [
      "epoch: 15/50, train_loss: 4.301333904266357, eval_score: 0.9469194544356231\n"
     ]
    },
    {
     "name": "stderr",
     "output_type": "stream",
     "text": [
      "100%|████████████████████████████████████████████████████████████████████████████████| 100/100 [00:13<00:00,  7.40it/s]\n"
     ]
    },
    {
     "name": "stdout",
     "output_type": "stream",
     "text": [
      "epoch: 16/50, train_loss: 4.301331996917725, eval_score: 0.9470836370244331\n"
     ]
    },
    {
     "name": "stderr",
     "output_type": "stream",
     "text": [
      "100%|████████████████████████████████████████████████████████████████████████████████| 100/100 [00:13<00:00,  7.38it/s]\n"
     ]
    },
    {
     "name": "stdout",
     "output_type": "stream",
     "text": [
      "epoch: 17/50, train_loss: 4.301328659057617, eval_score: 0.9467770762919776\n"
     ]
    },
    {
     "name": "stderr",
     "output_type": "stream",
     "text": [
      "100%|████████████████████████████████████████████████████████████████████████████████| 100/100 [00:13<00:00,  7.37it/s]\n"
     ]
    },
    {
     "name": "stdout",
     "output_type": "stream",
     "text": [
      "epoch: 18/50, train_loss: 4.301331520080566, eval_score: 0.9466664005294548\n"
     ]
    },
    {
     "name": "stderr",
     "output_type": "stream",
     "text": [
      "100%|████████████████████████████████████████████████████████████████████████████████| 100/100 [00:13<00:00,  7.32it/s]\n"
     ]
    },
    {
     "name": "stdout",
     "output_type": "stream",
     "text": [
      "epoch: 19/50, train_loss: 4.301335334777832, eval_score: 0.9465133035033595\n"
     ]
    },
    {
     "data": {
      "image/png": "[encoded data removed]",
      "text/plain": [
       "<Figure size 1080x360 with 2 Axes>"
      ]
     },
     "metadata": {
      "needs_background": "light"
     },
     "output_type": "display_data"
    }
   ],
   "source": [
    "oset = OpenSet(4, ptmodel)\n",
    "_, _ = oset.train(train_data, epochs=50, lr_rate=4, wait_patient=3)"
   ]
  },
  {
   "cell_type": "code",
   "execution_count": 16,
   "id": "0a3a6828-2345-4998-a1e1-e6f85df5980e",
   "metadata": {},
   "outputs": [
    {
     "data": {
      "image/png": "[encoded data removed]",
      "text/plain": [
       "<Figure size 1080x360 with 2 Axes>"
      ]
     },
     "metadata": {
      "needs_background": "light"
     },
     "output_type": "display_data"
    },
    {
     "name": "stdout",
     "output_type": "stream",
     "text": [
      "euc_dis: tf.Tensor(\n",
      "[ 6.387276  20.044357   1.9447554  2.4665153  8.992263   2.6408706\n",
      "  2.3930242  2.7117534  9.267506   6.552468   2.3193521  4.676952\n",
      "  3.4980001 20.044357   3.1909266  3.9535165  4.2661176 10.215684\n",
      " 11.845437  20.044357   4.35994    7.256172   1.9940346  5.7739787\n",
      " 20.044357   2.5635235  1.270435   1.6792512  7.911362   2.592391\n",
      "  9.436779   6.0363126], shape=(32,), dtype=float32)\n",
      "pred_radius: tf.Tensor(\n",
      "[12.009206 12.00642  11.971519 12.009206 12.00642  12.002002 12.002002\n",
      " 12.009206 12.00642  12.002002 12.002002 12.00642  11.971519 12.00642\n",
      " 12.009206 12.002002 12.009206 12.00642  12.009206 12.00642  11.971519\n",
      " 12.00642  12.009206 12.00642  12.00642  12.002002 12.009206 11.971519\n",
      " 12.00642  12.009206 12.00642  12.009206], shape=(32,), dtype=float32)\n",
      "predictions with unknown-9999: [   3 9999    2    3    1    0    0    3    1    0    0    1    2 9999\n",
      "    3    0    3    1    3 9999    2    1    3    1 9999    0    3    2\n",
      "    1    3    1    3]\n",
      "[[799   0   0   0   1]\n",
      " [ 14 630   0   0 156]\n",
      " [  0   0 761  38   1]\n",
      " [  2   6  13 765  14]\n",
      " [  0   0   0   0   0]]\n",
      "92.34\n",
      "f1_weighted: 0.9470836370244331, f1_macro: 0.7576669096195463, f1_micro: 0.9234374999999999\n",
      "              precision    recall  f1-score   support\n",
      "\n",
      "           0       0.98      1.00      0.99       800\n",
      "           1       0.99      0.79      0.88       800\n",
      "           2       0.98      0.95      0.97       800\n",
      "           3       0.95      0.96      0.95       800\n",
      "        9999       0.00      0.00      0.00         0\n",
      "\n",
      "    accuracy                           0.92      3200\n",
      "   macro avg       0.78      0.74      0.76      3200\n",
      "weighted avg       0.98      0.92      0.95      3200\n",
      "\n"
     ]
    }
   ],
   "source": [
    "oset.plot_radius_chages()\n",
    "preds = oset.openpredict(oset.features)\n",
    "y_true, y_pred, _ = oset.evaluate(train_data)"
   ]
  },
  {
   "cell_type": "code",
   "execution_count": 17,
   "id": "dc6f377b-b621-4356-abf3-04abd221fd3a",
   "metadata": {},
   "outputs": [
    {
     "name": "stderr",
     "output_type": "stream",
     "text": [
      "100%|████████████████████████████████████████████████████████████████████████████████| 100/100 [00:13<00:00,  7.19it/s]\n"
     ]
    },
    {
     "name": "stdout",
     "output_type": "stream",
     "text": [
      "epoch: 1/50, train_loss: 4.302599906921387, eval_score: 0.7219302106188463\n"
     ]
    },
    {
     "name": "stderr",
     "output_type": "stream",
     "text": [
      "100%|████████████████████████████████████████████████████████████████████████████████| 100/100 [00:13<00:00,  7.17it/s]\n"
     ]
    },
    {
     "name": "stdout",
     "output_type": "stream",
     "text": [
      "epoch: 2/50, train_loss: 4.302594184875488, eval_score: 0.7949804372506523\n"
     ]
    },
    {
     "name": "stderr",
     "output_type": "stream",
     "text": [
      "100%|████████████████████████████████████████████████████████████████████████████████| 100/100 [00:13<00:00,  7.20it/s]\n"
     ]
    },
    {
     "name": "stdout",
     "output_type": "stream",
     "text": [
      "epoch: 3/50, train_loss: 4.302590847015381, eval_score: 0.8211103831915781\n"
     ]
    },
    {
     "name": "stderr",
     "output_type": "stream",
     "text": [
      "100%|████████████████████████████████████████████████████████████████████████████████| 100/100 [00:13<00:00,  7.28it/s]\n"
     ]
    },
    {
     "name": "stdout",
     "output_type": "stream",
     "text": [
      "epoch: 4/50, train_loss: 4.302593231201172, eval_score: 0.8488415121277585\n"
     ]
    },
    {
     "name": "stderr",
     "output_type": "stream",
     "text": [
      "100%|████████████████████████████████████████████████████████████████████████████████| 100/100 [00:13<00:00,  7.25it/s]\n"
     ]
    },
    {
     "name": "stdout",
     "output_type": "stream",
     "text": [
      "epoch: 5/50, train_loss: 4.3025946617126465, eval_score: 0.8697030625961272\n"
     ]
    },
    {
     "name": "stderr",
     "output_type": "stream",
     "text": [
      "100%|████████████████████████████████████████████████████████████████████████████████| 100/100 [00:13<00:00,  7.32it/s]\n"
     ]
    },
    {
     "name": "stdout",
     "output_type": "stream",
     "text": [
      "epoch: 6/50, train_loss: 4.302590847015381, eval_score: 0.9147023343824191\n"
     ]
    },
    {
     "name": "stderr",
     "output_type": "stream",
     "text": [
      "100%|████████████████████████████████████████████████████████████████████████████████| 100/100 [00:13<00:00,  7.19it/s]\n"
     ]
    },
    {
     "name": "stdout",
     "output_type": "stream",
     "text": [
      "epoch: 7/50, train_loss: 4.302588939666748, eval_score: 0.940880965074537\n"
     ]
    },
    {
     "name": "stderr",
     "output_type": "stream",
     "text": [
      "100%|████████████████████████████████████████████████████████████████████████████████| 100/100 [00:14<00:00,  7.11it/s]\n"
     ]
    },
    {
     "name": "stdout",
     "output_type": "stream",
     "text": [
      "epoch: 8/50, train_loss: 4.302596092224121, eval_score: 0.9434056309589595\n"
     ]
    },
    {
     "name": "stderr",
     "output_type": "stream",
     "text": [
      "100%|████████████████████████████████████████████████████████████████████████████████| 100/100 [00:13<00:00,  7.29it/s]\n"
     ]
    },
    {
     "name": "stdout",
     "output_type": "stream",
     "text": [
      "epoch: 9/50, train_loss: 4.302591323852539, eval_score: 0.9435475457729791\n"
     ]
    },
    {
     "name": "stderr",
     "output_type": "stream",
     "text": [
      "100%|████████████████████████████████████████████████████████████████████████████████| 100/100 [00:13<00:00,  7.28it/s]\n"
     ]
    },
    {
     "name": "stdout",
     "output_type": "stream",
     "text": [
      "epoch: 10/50, train_loss: 4.30259370803833, eval_score: 0.9453141677132257\n"
     ]
    },
    {
     "name": "stderr",
     "output_type": "stream",
     "text": [
      "100%|████████████████████████████████████████████████████████████████████████████████| 100/100 [00:14<00:00,  6.96it/s]\n"
     ]
    },
    {
     "name": "stdout",
     "output_type": "stream",
     "text": [
      "epoch: 11/50, train_loss: 4.302589416503906, eval_score: 0.9459958275962503\n"
     ]
    },
    {
     "name": "stderr",
     "output_type": "stream",
     "text": [
      "100%|████████████████████████████████████████████████████████████████████████████████| 100/100 [00:14<00:00,  6.81it/s]\n"
     ]
    },
    {
     "name": "stdout",
     "output_type": "stream",
     "text": [
      "epoch: 12/50, train_loss: 4.302589416503906, eval_score: 0.9462373288088949\n"
     ]
    },
    {
     "name": "stderr",
     "output_type": "stream",
     "text": [
      "100%|████████████████████████████████████████████████████████████████████████████████| 100/100 [00:14<00:00,  6.70it/s]\n"
     ]
    },
    {
     "name": "stdout",
     "output_type": "stream",
     "text": [
      "epoch: 13/50, train_loss: 4.302596092224121, eval_score: 0.9460832624711734\n"
     ]
    },
    {
     "name": "stderr",
     "output_type": "stream",
     "text": [
      "100%|████████████████████████████████████████████████████████████████████████████████| 100/100 [00:13<00:00,  7.27it/s]\n"
     ]
    },
    {
     "name": "stdout",
     "output_type": "stream",
     "text": [
      "epoch: 14/50, train_loss: 4.302597522735596, eval_score: 0.9464763137536372\n"
     ]
    },
    {
     "name": "stderr",
     "output_type": "stream",
     "text": [
      "100%|████████████████████████████████████████████████████████████████████████████████| 100/100 [00:13<00:00,  7.31it/s]\n"
     ]
    },
    {
     "name": "stdout",
     "output_type": "stream",
     "text": [
      "epoch: 15/50, train_loss: 4.3025898933410645, eval_score: 0.9467562928230723\n"
     ]
    },
    {
     "name": "stderr",
     "output_type": "stream",
     "text": [
      "100%|████████████████████████████████████████████████████████████████████████████████| 100/100 [00:13<00:00,  7.33it/s]\n"
     ]
    },
    {
     "name": "stdout",
     "output_type": "stream",
     "text": [
      "epoch: 16/50, train_loss: 4.302590370178223, eval_score: 0.9470836370244331\n"
     ]
    },
    {
     "name": "stderr",
     "output_type": "stream",
     "text": [
      "100%|████████████████████████████████████████████████████████████████████████████████| 100/100 [00:13<00:00,  7.39it/s]\n"
     ]
    },
    {
     "name": "stdout",
     "output_type": "stream",
     "text": [
      "epoch: 17/50, train_loss: 4.302595138549805, eval_score: 0.9469301508099558\n"
     ]
    },
    {
     "name": "stderr",
     "output_type": "stream",
     "text": [
      "100%|████████████████████████████████████████████████████████████████████████████████| 100/100 [00:13<00:00,  7.35it/s]\n"
     ]
    },
    {
     "name": "stdout",
     "output_type": "stream",
     "text": [
      "epoch: 18/50, train_loss: 4.302597999572754, eval_score: 0.9466664005294548\n"
     ]
    },
    {
     "name": "stderr",
     "output_type": "stream",
     "text": [
      "100%|████████████████████████████████████████████████████████████████████████████████| 100/100 [00:13<00:00,  7.41it/s]\n"
     ]
    },
    {
     "name": "stdout",
     "output_type": "stream",
     "text": [
      "epoch: 19/50, train_loss: 4.3025922775268555, eval_score: 0.9465133035033595\n"
     ]
    },
    {
     "name": "stderr",
     "output_type": "stream",
     "text": [
      "100%|████████████████████████████████████████████████████████████████████████████████| 100/100 [00:13<00:00,  7.40it/s]\n"
     ]
    },
    {
     "name": "stdout",
     "output_type": "stream",
     "text": [
      "epoch: 20/50, train_loss: 4.302591323852539, eval_score: 0.9465167455966419\n"
     ]
    },
    {
     "name": "stderr",
     "output_type": "stream",
     "text": [
      "100%|████████████████████████████████████████████████████████████████████████████████| 100/100 [00:13<00:00,  7.34it/s]\n"
     ]
    },
    {
     "name": "stdout",
     "output_type": "stream",
     "text": [
      "epoch: 21/50, train_loss: 4.302590847015381, eval_score: 0.9465268007790134\n"
     ]
    },
    {
     "data": {
      "image/png": "[encoded data removed]",
      "text/plain": [
       "<Figure size 1080x360 with 2 Axes>"
      ]
     },
     "metadata": {
      "needs_background": "light"
     },
     "output_type": "display_data"
    }
   ],
   "source": [
    "oset = OpenSet(4, ptmodel)\n",
    "_, _ = oset.train(train_data, epochs=50, lr_rate=4, wait_patient=5)"
   ]
  },
  {
   "cell_type": "code",
   "execution_count": 18,
   "id": "298dbc2d-a737-4883-bd54-3d9a9080c54b",
   "metadata": {},
   "outputs": [
    {
     "data": {
      "image/png": "[encoded data removed]",
      "text/plain": [
       "<Figure size 1080x360 with 2 Axes>"
      ]
     },
     "metadata": {
      "needs_background": "light"
     },
     "output_type": "display_data"
    },
    {
     "name": "stdout",
     "output_type": "stream",
     "text": [
      "euc_dis: tf.Tensor(\n",
      "[ 2.210126  10.102591   8.732525   3.9535215  5.7225385  1.9447547\n",
      "  7.969595   6.299624   2.537007   2.131966   2.3516226  2.3647175\n",
      "  3.9535215  1.9447547  8.894159   2.5514169  3.5302424  7.86442\n",
      "  4.7916183  6.180152   3.9535215  1.9447547  3.4954348  2.5825381\n",
      "  2.225265   7.988463   2.6150973  3.2121415  9.285187   3.2688665\n",
      "  4.2281947  2.737173 ], shape=(32,), dtype=float32)\n",
      "pred_radius: tf.Tensor(\n",
      "[12.01807  11.998112 11.998112 11.981534 11.98638  12.01807  11.998112\n",
      " 12.01807  11.981534 11.981534 11.981534 11.981534 11.981534 12.01807\n",
      " 11.998112 11.98638  12.01807  11.981534 11.998112 11.998112 11.981534\n",
      " 12.01807  12.01807  11.98638  11.98638  11.998112 11.98638  12.01807\n",
      " 11.998112 12.01807  12.01807  12.01807 ], shape=(32,), dtype=float32)\n",
      "predictions with unknown-9999: [2 1 1 0 3 2 1 2 0 0 0 0 0 2 1 3 2 0 1 1 0 2 2 3 3 1 3 2 1 2 2 2]\n",
      "[[799   0   0   0   1]\n",
      " [ 14 630   0   0 156]\n",
      " [  0   0 761  38   1]\n",
      " [  2   6  13 765  14]\n",
      " [  0   0   0   0   0]]\n",
      "92.34\n",
      "f1_weighted: 0.9470836370244331, f1_macro: 0.7576669096195463, f1_micro: 0.9234374999999999\n",
      "              precision    recall  f1-score   support\n",
      "\n",
      "           0       0.98      1.00      0.99       800\n",
      "           1       0.99      0.79      0.88       800\n",
      "           2       0.98      0.95      0.97       800\n",
      "           3       0.95      0.96      0.95       800\n",
      "        9999       0.00      0.00      0.00         0\n",
      "\n",
      "    accuracy                           0.92      3200\n",
      "   macro avg       0.78      0.74      0.76      3200\n",
      "weighted avg       0.98      0.92      0.95      3200\n",
      "\n"
     ]
    }
   ],
   "source": [
    "oset.plot_radius_chages()\n",
    "preds = oset.openpredict(oset.features)\n",
    "y_true, y_pred, _ = oset.evaluate(train_data)"
   ]
  },
  {
   "cell_type": "code",
   "execution_count": 19,
   "id": "9b099134-07b5-4135-9b9a-3b4a1c2038e5",
   "metadata": {},
   "outputs": [
    {
     "name": "stdout",
     "output_type": "stream",
     "text": [
      "Epoch 1/15\n",
      "100/100 [==============================] - 10s 98ms/step - loss: 0.0538 - accuracy: 0.9816 - precision: 0.9828 - recall: 0.9809 - val_loss: 0.0306 - val_accuracy: 0.9911 - val_precision: 0.9911 - val_recall: 0.9896\n",
      "Epoch 2/15\n",
      "100/100 [==============================] - 10s 95ms/step - loss: 0.0482 - accuracy: 0.9822 - precision: 0.9828 - recall: 0.9819 - val_loss: 0.0430 - val_accuracy: 0.9851 - val_precision: 0.9866 - val_recall: 0.9851\n",
      "Epoch 3/15\n",
      "100/100 [==============================] - 9s 95ms/step - loss: 0.0152 - accuracy: 0.9941 - precision: 0.9947 - recall: 0.9941 - val_loss: 0.0077 - val_accuracy: 0.9955 - val_precision: 0.9955 - val_recall: 0.9955\n",
      "Epoch 4/15\n",
      "100/100 [==============================] - 10s 95ms/step - loss: 0.0174 - accuracy: 0.9928 - precision: 0.9931 - recall: 0.9928 - val_loss: 0.0049 - val_accuracy: 0.9985 - val_precision: 0.9985 - val_recall: 0.9985\n",
      "Epoch 5/15\n",
      "100/100 [==============================] - 9s 95ms/step - loss: 0.0086 - accuracy: 0.9981 - precision: 0.9981 - recall: 0.9978 - val_loss: 0.0120 - val_accuracy: 0.9940 - val_precision: 0.9940 - val_recall: 0.9940\n",
      "Epoch 6/15\n",
      "100/100 [==============================] - 10s 98ms/step - loss: 0.0053 - accuracy: 0.9984 - precision: 0.9984 - recall: 0.9984 - val_loss: 0.0035 - val_accuracy: 0.9985 - val_precision: 0.9985 - val_recall: 0.9985\n",
      "Epoch 7/15\n",
      "100/100 [==============================] - 10s 96ms/step - loss: 0.0033 - accuracy: 0.9997 - precision: 0.9997 - recall: 0.9997 - val_loss: 0.0026 - val_accuracy: 0.9985 - val_precision: 0.9985 - val_recall: 0.9985\n",
      "Epoch 8/15\n",
      "100/100 [==============================] - 10s 96ms/step - loss: 0.0037 - accuracy: 0.9987 - precision: 0.9987 - recall: 0.9987 - val_loss: 0.0014 - val_accuracy: 1.0000 - val_precision: 1.0000 - val_recall: 1.0000\n",
      "Epoch 9/15\n",
      "100/100 [==============================] - 10s 98ms/step - loss: 0.0019 - accuracy: 1.0000 - precision: 1.0000 - recall: 1.0000 - val_loss: 0.0250 - val_accuracy: 0.9911 - val_precision: 0.9911 - val_recall: 0.9911\n",
      "Epoch 10/15\n",
      "100/100 [==============================] - 10s 96ms/step - loss: 0.0108 - accuracy: 0.9962 - precision: 0.9962 - recall: 0.9959 - val_loss: 0.0077 - val_accuracy: 0.9970 - val_precision: 0.9985 - val_recall: 0.9970\n",
      "Epoch 11/15\n",
      "100/100 [==============================] - 10s 97ms/step - loss: 0.1014 - accuracy: 0.9725 - precision: 0.9728 - recall: 0.9725 - val_loss: 0.0467 - val_accuracy: 0.9881 - val_precision: 0.9896 - val_recall: 0.9881\n",
      "Epoch 12/15\n",
      "100/100 [==============================] - 10s 97ms/step - loss: 0.0364 - accuracy: 0.9894 - precision: 0.9894 - recall: 0.9894 - val_loss: 0.0813 - val_accuracy: 0.9836 - val_precision: 0.9836 - val_recall: 0.9836\n",
      "Epoch 13/15\n",
      "100/100 [==============================] - 10s 97ms/step - loss: 0.0317 - accuracy: 0.9891 - precision: 0.9891 - recall: 0.9891 - val_loss: 0.0262 - val_accuracy: 0.9955 - val_precision: 0.9955 - val_recall: 0.9955\n",
      "Epoch 14/15\n",
      "100/100 [==============================] - 10s 98ms/step - loss: 0.0102 - accuracy: 0.9969 - precision: 0.9969 - recall: 0.9969 - val_loss: 0.0097 - val_accuracy: 0.9970 - val_precision: 0.9970 - val_recall: 0.9970\n",
      "Epoch 15/15\n",
      "100/100 [==============================] - 10s 97ms/step - loss: 0.0037 - accuracy: 0.9981 - precision: 0.9981 - recall: 0.9981 - val_loss: 0.0115 - val_accuracy: 0.9955 - val_precision: 0.9955 - val_recall: 0.9955\n"
     ]
    },
    {
     "name": "stderr",
     "output_type": "stream",
     "text": [
      "100%|████████████████████████████████████████████████████████████████████████████████| 100/100 [00:13<00:00,  7.32it/s]\n"
     ]
    },
    {
     "name": "stdout",
     "output_type": "stream",
     "text": [
      "epoch: 1/50, train_loss: 8.937414169311523, eval_score: 0.21115319287611864\n"
     ]
    },
    {
     "name": "stderr",
     "output_type": "stream",
     "text": [
      "100%|████████████████████████████████████████████████████████████████████████████████| 100/100 [00:13<00:00,  7.42it/s]\n"
     ]
    },
    {
     "name": "stdout",
     "output_type": "stream",
     "text": [
      "epoch: 2/50, train_loss: 8.937411308288574, eval_score: 0.30761257643701223\n"
     ]
    },
    {
     "name": "stderr",
     "output_type": "stream",
     "text": [
      "100%|████████████████████████████████████████████████████████████████████████████████| 100/100 [00:13<00:00,  7.35it/s]\n"
     ]
    },
    {
     "name": "stdout",
     "output_type": "stream",
     "text": [
      "epoch: 3/50, train_loss: 8.937414169311523, eval_score: 0.426767031484668\n"
     ]
    },
    {
     "name": "stderr",
     "output_type": "stream",
     "text": [
      "100%|████████████████████████████████████████████████████████████████████████████████| 100/100 [00:13<00:00,  7.35it/s]\n"
     ]
    },
    {
     "name": "stdout",
     "output_type": "stream",
     "text": [
      "epoch: 4/50, train_loss: 8.93741226196289, eval_score: 0.5140613315473487\n"
     ]
    },
    {
     "name": "stderr",
     "output_type": "stream",
     "text": [
      "100%|████████████████████████████████████████████████████████████████████████████████| 100/100 [00:13<00:00,  7.35it/s]\n"
     ]
    },
    {
     "name": "stdout",
     "output_type": "stream",
     "text": [
      "epoch: 5/50, train_loss: 8.937413215637207, eval_score: 0.6067876595832868\n"
     ]
    },
    {
     "name": "stderr",
     "output_type": "stream",
     "text": [
      "100%|████████████████████████████████████████████████████████████████████████████████| 100/100 [00:13<00:00,  7.31it/s]\n"
     ]
    },
    {
     "name": "stdout",
     "output_type": "stream",
     "text": [
      "epoch: 6/50, train_loss: 8.937413215637207, eval_score: 0.6829764715299071\n"
     ]
    },
    {
     "name": "stderr",
     "output_type": "stream",
     "text": [
      "100%|████████████████████████████████████████████████████████████████████████████████| 100/100 [00:13<00:00,  7.31it/s]\n"
     ]
    },
    {
     "name": "stdout",
     "output_type": "stream",
     "text": [
      "epoch: 7/50, train_loss: 8.937414169311523, eval_score: 0.7463930346965362\n"
     ]
    },
    {
     "name": "stderr",
     "output_type": "stream",
     "text": [
      "100%|████████████████████████████████████████████████████████████████████████████████| 100/100 [00:13<00:00,  7.30it/s]\n"
     ]
    },
    {
     "name": "stdout",
     "output_type": "stream",
     "text": [
      "epoch: 8/50, train_loss: 8.937411308288574, eval_score: 0.7881343580889731\n"
     ]
    },
    {
     "name": "stderr",
     "output_type": "stream",
     "text": [
      "100%|████████████████████████████████████████████████████████████████████████████████| 100/100 [00:13<00:00,  7.34it/s]\n"
     ]
    },
    {
     "name": "stdout",
     "output_type": "stream",
     "text": [
      "epoch: 9/50, train_loss: 8.937414169311523, eval_score: 0.8150050897748028\n"
     ]
    },
    {
     "name": "stderr",
     "output_type": "stream",
     "text": [
      "100%|████████████████████████████████████████████████████████████████████████████████| 100/100 [00:13<00:00,  7.35it/s]\n"
     ]
    },
    {
     "name": "stdout",
     "output_type": "stream",
     "text": [
      "epoch: 10/50, train_loss: 8.93741226196289, eval_score: 0.8566573421847714\n"
     ]
    },
    {
     "name": "stderr",
     "output_type": "stream",
     "text": [
      "100%|████████████████████████████████████████████████████████████████████████████████| 100/100 [00:13<00:00,  7.36it/s]\n"
     ]
    },
    {
     "name": "stdout",
     "output_type": "stream",
     "text": [
      "epoch: 11/50, train_loss: 8.93741226196289, eval_score: 0.8687483594113946\n"
     ]
    },
    {
     "name": "stderr",
     "output_type": "stream",
     "text": [
      "100%|████████████████████████████████████████████████████████████████████████████████| 100/100 [00:13<00:00,  7.30it/s]\n"
     ]
    },
    {
     "name": "stdout",
     "output_type": "stream",
     "text": [
      "epoch: 12/50, train_loss: 8.93741226196289, eval_score: 0.880758186145049\n"
     ]
    },
    {
     "name": "stderr",
     "output_type": "stream",
     "text": [
      "100%|████████████████████████████████████████████████████████████████████████████████| 100/100 [00:13<00:00,  7.34it/s]\n"
     ]
    },
    {
     "name": "stdout",
     "output_type": "stream",
     "text": [
      "epoch: 13/50, train_loss: 8.937413215637207, eval_score: 0.8893926357930384\n"
     ]
    },
    {
     "name": "stderr",
     "output_type": "stream",
     "text": [
      "100%|████████████████████████████████████████████████████████████████████████████████| 100/100 [00:13<00:00,  7.30it/s]\n"
     ]
    },
    {
     "name": "stdout",
     "output_type": "stream",
     "text": [
      "epoch: 14/50, train_loss: 8.93741226196289, eval_score: 0.8957891281526106\n"
     ]
    },
    {
     "name": "stderr",
     "output_type": "stream",
     "text": [
      "100%|████████████████████████████████████████████████████████████████████████████████| 100/100 [00:13<00:00,  7.34it/s]\n"
     ]
    },
    {
     "name": "stdout",
     "output_type": "stream",
     "text": [
      "epoch: 15/50, train_loss: 8.937409400939941, eval_score: 0.9005982067045065\n"
     ]
    },
    {
     "name": "stderr",
     "output_type": "stream",
     "text": [
      "100%|████████████████████████████████████████████████████████████████████████████████| 100/100 [00:13<00:00,  7.34it/s]\n"
     ]
    },
    {
     "name": "stdout",
     "output_type": "stream",
     "text": [
      "epoch: 16/50, train_loss: 8.937414169311523, eval_score: 0.9033888753392254\n"
     ]
    },
    {
     "name": "stderr",
     "output_type": "stream",
     "text": [
      "100%|████████████████████████████████████████████████████████████████████████████████| 100/100 [00:13<00:00,  7.33it/s]\n"
     ]
    },
    {
     "name": "stdout",
     "output_type": "stream",
     "text": [
      "epoch: 17/50, train_loss: 8.93741226196289, eval_score: 0.9057042328917785\n"
     ]
    },
    {
     "name": "stderr",
     "output_type": "stream",
     "text": [
      "100%|████████████████████████████████████████████████████████████████████████████████| 100/100 [00:13<00:00,  7.35it/s]\n"
     ]
    },
    {
     "name": "stdout",
     "output_type": "stream",
     "text": [
      "epoch: 18/50, train_loss: 8.937411308288574, eval_score: 0.9074728037263255\n"
     ]
    },
    {
     "name": "stderr",
     "output_type": "stream",
     "text": [
      "100%|████████████████████████████████████████████████████████████████████████████████| 100/100 [00:13<00:00,  7.32it/s]\n"
     ]
    },
    {
     "name": "stdout",
     "output_type": "stream",
     "text": [
      "epoch: 19/50, train_loss: 8.937416076660156, eval_score: 0.9086256875416225\n"
     ]
    },
    {
     "name": "stderr",
     "output_type": "stream",
     "text": [
      "100%|████████████████████████████████████████████████████████████████████████████████| 100/100 [00:13<00:00,  7.36it/s]\n"
     ]
    },
    {
     "name": "stdout",
     "output_type": "stream",
     "text": [
      "epoch: 20/50, train_loss: 8.937411308288574, eval_score: 0.9105306728446106\n"
     ]
    },
    {
     "name": "stderr",
     "output_type": "stream",
     "text": [
      "100%|████████████████████████████████████████████████████████████████████████████████| 100/100 [00:13<00:00,  7.34it/s]\n"
     ]
    },
    {
     "name": "stdout",
     "output_type": "stream",
     "text": [
      "epoch: 21/50, train_loss: 8.93741226196289, eval_score: 0.9113370920420063\n"
     ]
    },
    {
     "name": "stderr",
     "output_type": "stream",
     "text": [
      "100%|████████████████████████████████████████████████████████████████████████████████| 100/100 [00:13<00:00,  7.36it/s]\n"
     ]
    },
    {
     "name": "stdout",
     "output_type": "stream",
     "text": [
      "epoch: 22/50, train_loss: 8.937409400939941, eval_score: 0.9126944797845684\n"
     ]
    },
    {
     "name": "stderr",
     "output_type": "stream",
     "text": [
      "100%|████████████████████████████████████████████████████████████████████████████████| 100/100 [00:13<00:00,  7.34it/s]\n"
     ]
    },
    {
     "name": "stdout",
     "output_type": "stream",
     "text": [
      "epoch: 23/50, train_loss: 8.937414169311523, eval_score: 0.9130728951606705\n"
     ]
    },
    {
     "name": "stderr",
     "output_type": "stream",
     "text": [
      "100%|████████████████████████████████████████████████████████████████████████████████| 100/100 [00:13<00:00,  7.34it/s]\n"
     ]
    },
    {
     "name": "stdout",
     "output_type": "stream",
     "text": [
      "epoch: 24/50, train_loss: 8.937411308288574, eval_score: 0.9138449056127483\n"
     ]
    },
    {
     "name": "stderr",
     "output_type": "stream",
     "text": [
      "100%|████████████████████████████████████████████████████████████████████████████████| 100/100 [00:13<00:00,  7.34it/s]\n"
     ]
    },
    {
     "name": "stdout",
     "output_type": "stream",
     "text": [
      "epoch: 25/50, train_loss: 8.93741226196289, eval_score: 0.9140326866975598\n"
     ]
    },
    {
     "name": "stderr",
     "output_type": "stream",
     "text": [
      "100%|████████████████████████████████████████████████████████████████████████████████| 100/100 [00:14<00:00,  7.05it/s]\n"
     ]
    },
    {
     "name": "stdout",
     "output_type": "stream",
     "text": [
      "epoch: 26/50, train_loss: 8.937409400939941, eval_score: 0.9157285533300665\n"
     ]
    },
    {
     "name": "stderr",
     "output_type": "stream",
     "text": [
      "100%|████████████████████████████████████████████████████████████████████████████████| 100/100 [00:13<00:00,  7.29it/s]\n"
     ]
    },
    {
     "name": "stdout",
     "output_type": "stream",
     "text": [
      "epoch: 27/50, train_loss: 8.93741226196289, eval_score: 0.9162888218854609\n"
     ]
    },
    {
     "name": "stderr",
     "output_type": "stream",
     "text": [
      "100%|████████████████████████████████████████████████████████████████████████████████| 100/100 [00:13<00:00,  7.36it/s]\n"
     ]
    },
    {
     "name": "stdout",
     "output_type": "stream",
     "text": [
      "epoch: 28/50, train_loss: 8.93741226196289, eval_score: 0.9168468005148793\n"
     ]
    },
    {
     "name": "stderr",
     "output_type": "stream",
     "text": [
      "100%|████████████████████████████████████████████████████████████████████████████████| 100/100 [00:13<00:00,  7.48it/s]\n"
     ]
    },
    {
     "name": "stdout",
     "output_type": "stream",
     "text": [
      "epoch: 29/50, train_loss: 8.937414169311523, eval_score: 0.9174211660527799\n"
     ]
    },
    {
     "name": "stderr",
     "output_type": "stream",
     "text": [
      "100%|████████████████████████████████████████████████████████████████████████████████| 100/100 [00:13<00:00,  7.36it/s]\n"
     ]
    },
    {
     "name": "stdout",
     "output_type": "stream",
     "text": [
      "epoch: 30/50, train_loss: 8.937414169311523, eval_score: 0.9179198235735118\n"
     ]
    },
    {
     "name": "stderr",
     "output_type": "stream",
     "text": [
      "100%|████████████████████████████████████████████████████████████████████████████████| 100/100 [00:13<00:00,  7.46it/s]\n"
     ]
    },
    {
     "name": "stdout",
     "output_type": "stream",
     "text": [
      "epoch: 31/50, train_loss: 8.937413215637207, eval_score: 0.9184773313085887\n"
     ]
    },
    {
     "name": "stderr",
     "output_type": "stream",
     "text": [
      "100%|████████████████████████████████████████████████████████████████████████████████| 100/100 [00:13<00:00,  7.45it/s]\n"
     ]
    },
    {
     "name": "stdout",
     "output_type": "stream",
     "text": [
      "epoch: 32/50, train_loss: 8.937409400939941, eval_score: 0.9188837511158644\n"
     ]
    },
    {
     "name": "stderr",
     "output_type": "stream",
     "text": [
      "100%|████████████████████████████████████████████████████████████████████████████████| 100/100 [00:13<00:00,  7.47it/s]\n"
     ]
    },
    {
     "name": "stdout",
     "output_type": "stream",
     "text": [
      "epoch: 33/50, train_loss: 8.937414169311523, eval_score: 0.919259570872709\n"
     ]
    },
    {
     "name": "stderr",
     "output_type": "stream",
     "text": [
      "100%|████████████████████████████████████████████████████████████████████████████████| 100/100 [00:13<00:00,  7.48it/s]\n"
     ]
    },
    {
     "name": "stdout",
     "output_type": "stream",
     "text": [
      "epoch: 34/50, train_loss: 8.93741226196289, eval_score: 0.9194438006219449\n"
     ]
    },
    {
     "name": "stderr",
     "output_type": "stream",
     "text": [
      "100%|████████████████████████████████████████████████████████████████████████████████| 100/100 [00:13<00:00,  7.47it/s]\n"
     ]
    },
    {
     "name": "stdout",
     "output_type": "stream",
     "text": [
      "epoch: 35/50, train_loss: 8.937414169311523, eval_score: 0.9198153045946467\n"
     ]
    },
    {
     "name": "stderr",
     "output_type": "stream",
     "text": [
      "100%|████████████████████████████████████████████████████████████████████████████████| 100/100 [00:13<00:00,  7.49it/s]\n"
     ]
    },
    {
     "name": "stdout",
     "output_type": "stream",
     "text": [
      "epoch: 36/50, train_loss: 8.93741226196289, eval_score: 0.9201863027412123\n"
     ]
    },
    {
     "name": "stderr",
     "output_type": "stream",
     "text": [
      "100%|████████████████████████████████████████████████████████████████████████████████| 100/100 [00:13<00:00,  7.35it/s]\n"
     ]
    },
    {
     "name": "stdout",
     "output_type": "stream",
     "text": [
      "epoch: 37/50, train_loss: 8.937411308288574, eval_score: 0.9203890787446999\n"
     ]
    },
    {
     "name": "stderr",
     "output_type": "stream",
     "text": [
      "100%|████████████████████████████████████████████████████████████████████████████████| 100/100 [00:13<00:00,  7.46it/s]\n"
     ]
    },
    {
     "name": "stdout",
     "output_type": "stream",
     "text": [
      "epoch: 38/50, train_loss: 8.937411308288574, eval_score: 0.9205760902356209\n"
     ]
    },
    {
     "name": "stderr",
     "output_type": "stream",
     "text": [
      "100%|████████████████████████████████████████████████████████████████████████████████| 100/100 [00:13<00:00,  7.47it/s]\n"
     ]
    },
    {
     "name": "stdout",
     "output_type": "stream",
     "text": [
      "epoch: 39/50, train_loss: 8.937410354614258, eval_score: 0.9207785777952915\n"
     ]
    },
    {
     "name": "stderr",
     "output_type": "stream",
     "text": [
      "100%|████████████████████████████████████████████████████████████████████████████████| 100/100 [00:13<00:00,  7.45it/s]\n"
     ]
    },
    {
     "name": "stdout",
     "output_type": "stream",
     "text": [
      "epoch: 40/50, train_loss: 8.93741226196289, eval_score: 0.9209653338060337\n"
     ]
    },
    {
     "name": "stderr",
     "output_type": "stream",
     "text": [
      "100%|████████████████████████████████████████████████████████████████████████████████| 100/100 [00:13<00:00,  7.48it/s]\n"
     ]
    },
    {
     "name": "stdout",
     "output_type": "stream",
     "text": [
      "epoch: 41/50, train_loss: 8.93741226196289, eval_score: 0.9211518348597647\n"
     ]
    },
    {
     "name": "stderr",
     "output_type": "stream",
     "text": [
      "100%|████████████████████████████████████████████████████████████████████████████████| 100/100 [00:13<00:00,  7.47it/s]\n"
     ]
    },
    {
     "name": "stdout",
     "output_type": "stream",
     "text": [
      "epoch: 42/50, train_loss: 8.937413215637207, eval_score: 0.9213380814782245\n"
     ]
    },
    {
     "name": "stderr",
     "output_type": "stream",
     "text": [
      "100%|████████████████████████████████████████████████████████████████████████████████| 100/100 [00:13<00:00,  7.47it/s]\n"
     ]
    },
    {
     "name": "stdout",
     "output_type": "stream",
     "text": [
      "epoch: 43/50, train_loss: 8.93741226196289, eval_score: 0.9217047969180447\n"
     ]
    },
    {
     "name": "stderr",
     "output_type": "stream",
     "text": [
      "100%|████████████████████████████████████████████████████████████████████████████████| 100/100 [00:13<00:00,  7.22it/s]\n"
     ]
    },
    {
     "name": "stdout",
     "output_type": "stream",
     "text": [
      "epoch: 44/50, train_loss: 8.93741226196289, eval_score: 0.9217047969180447\n"
     ]
    },
    {
     "name": "stderr",
     "output_type": "stream",
     "text": [
      "100%|████████████████████████████████████████████████████████████████████████████████| 100/100 [00:13<00:00,  7.15it/s]\n"
     ]
    },
    {
     "name": "stdout",
     "output_type": "stream",
     "text": [
      "epoch: 45/50, train_loss: 8.937414169311523, eval_score: 0.9217047969180447\n"
     ]
    },
    {
     "name": "stderr",
     "output_type": "stream",
     "text": [
      "100%|████████████████████████████████████████████████████████████████████████████████| 100/100 [00:13<00:00,  7.31it/s]\n"
     ]
    },
    {
     "name": "stdout",
     "output_type": "stream",
     "text": [
      "epoch: 46/50, train_loss: 8.93741226196289, eval_score: 0.9217047969180447\n"
     ]
    },
    {
     "name": "stderr",
     "output_type": "stream",
     "text": [
      "100%|████████████████████████████████████████████████████████████████████████████████| 100/100 [00:13<00:00,  7.33it/s]\n"
     ]
    },
    {
     "name": "stdout",
     "output_type": "stream",
     "text": [
      "epoch: 47/50, train_loss: 8.93741226196289, eval_score: 0.9220765289290034\n"
     ]
    },
    {
     "name": "stderr",
     "output_type": "stream",
     "text": [
      "100%|████████████████████████████████████████████████████████████████████████████████| 100/100 [00:13<00:00,  7.36it/s]\n"
     ]
    },
    {
     "name": "stdout",
     "output_type": "stream",
     "text": [
      "epoch: 48/50, train_loss: 8.937411308288574, eval_score: 0.9220765289290034\n"
     ]
    },
    {
     "name": "stderr",
     "output_type": "stream",
     "text": [
      "100%|████████████████████████████████████████████████████████████████████████████████| 100/100 [00:13<00:00,  7.44it/s]\n"
     ]
    },
    {
     "name": "stdout",
     "output_type": "stream",
     "text": [
      "epoch: 49/50, train_loss: 8.93741226196289, eval_score: 0.9220765289290034\n"
     ]
    },
    {
     "name": "stderr",
     "output_type": "stream",
     "text": [
      "100%|████████████████████████████████████████████████████████████████████████████████| 100/100 [00:13<00:00,  7.43it/s]\n"
     ]
    },
    {
     "name": "stdout",
     "output_type": "stream",
     "text": [
      "epoch: 50/50, train_loss: 8.937411308288574, eval_score: 0.9220765289290034\n"
     ]
    },
    {
     "data": {
      "image/png": "[encoded data removed]",
      "text/plain": [
       "<Figure size 1080x360 with 2 Axes>"
      ]
     },
     "metadata": {
      "needs_background": "light"
     },
     "output_type": "display_data"
    }
   ],
   "source": [
    "hist = ptmodel.fit(train_data, validation_data=test_data, epochs=15) \n",
    "oset = OpenSet(4, ptmodel)\n",
    "_, _ = oset.train(train_data, epochs=50, lr_rate=4, wait_patient=5)"
   ]
  },
  {
   "cell_type": "code",
   "execution_count": 20,
   "id": "a7e07fcf-77c4-42ee-beae-44c5b06add9d",
   "metadata": {},
   "outputs": [
    {
     "data": {
      "image/png": "[encoded data removed]",
      "text/plain": [
       "<Figure size 1080x360 with 2 Axes>"
      ]
     },
     "metadata": {
      "needs_background": "light"
     },
     "output_type": "display_data"
    },
    {
     "name": "stdout",
     "output_type": "stream",
     "text": [
      "euc_dis: tf.Tensor(\n",
      "[ 9.614662   5.4582076  6.9938836 24.21584    2.7913115  4.922122\n",
      " 19.329752   9.499025  10.784953  10.645767   9.833957   9.36719\n",
      " 11.7771635 10.354628   3.0973918  9.714681  10.610325   3.2147832\n",
      "  6.1855597 24.21584    6.1855597  5.7052727  9.687576   8.8077965\n",
      "  3.1754613 10.878142   7.132968  11.322821   8.290403   6.1855597\n",
      " 14.400247   4.5518064], shape=(32,), dtype=float32)\n",
      "pred_radius: tf.Tensor(\n",
      "[13.254744 13.270642 13.281545 13.281545 13.270642 13.26989  13.26989\n",
      " 13.254744 13.26989  13.26989  13.26989  13.281545 13.254744 13.26989\n",
      " 13.270642 13.281545 13.281545 13.270642 13.281545 13.281545 13.281545\n",
      " 13.254744 13.281545 13.26989  13.270642 13.281545 13.270642 13.270642\n",
      " 13.270642 13.281545 13.281545 13.270642], shape=(32,), dtype=float32)\n",
      "predictions with unknown-9999: [   3    0    1 9999    0    2 9999    3    2    2    2    1    3    2\n",
      "    0    1    1    0    1 9999    1    3    1    2    0    1    0    0\n",
      "    0    1 9999    0]\n",
      "[[798   0   0   0   2]\n",
      " [  0 606   0   0 194]\n",
      " [  0   0 678   0 122]\n",
      " [  0   0   0 668 132]\n",
      " [  0   0   0   0   0]]\n",
      "85.94\n",
      "f1_weighted: 0.9220765289290034, f1_macro: 0.7376612231432027, f1_micro: 0.859375\n",
      "              precision    recall  f1-score   support\n",
      "\n",
      "           0       1.00      1.00      1.00       800\n",
      "           1       1.00      0.76      0.86       800\n",
      "           2       1.00      0.85      0.92       800\n",
      "           3       1.00      0.83      0.91       800\n",
      "        9999       0.00      0.00      0.00         0\n",
      "\n",
      "    accuracy                           0.86      3200\n",
      "   macro avg       0.80      0.69      0.74      3200\n",
      "weighted avg       1.00      0.86      0.92      3200\n",
      "\n"
     ]
    }
   ],
   "source": [
    "oset.plot_radius_chages()\n",
    "preds = oset.openpredict(oset.features)\n",
    "y_true, y_pred, _ = oset.evaluate(train_data)"
   ]
  }
 ],
 "metadata": {
  "kernelspec": {
   "display_name": "Python 3 (ipykernel)",
   "language": "python",
   "name": "python3"
  },
  "language_info": {
   "codemirror_mode": {
    "name": "ipython",
    "version": 3
   },
   "file_extension": ".py",
   "mimetype": "text/x-python",
   "name": "python",
   "nbconvert_exporter": "python",
   "pygments_lexer": "ipython3",
   "version": "3.9.12"
  }
 },
 "nbformat": 4,
 "nbformat_minor": 5
}
