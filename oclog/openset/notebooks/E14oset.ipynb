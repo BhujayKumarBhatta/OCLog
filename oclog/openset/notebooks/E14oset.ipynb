{
 "cells": [
  {
   "cell_type": "code",
   "execution_count": 1,
   "id": "c4aefd92",
   "metadata": {},
   "outputs": [],
   "source": [
    "import os, sys\n",
    "cur_dir = os.getcwd()\n",
    "basename = os.path.basename(cur_dir)\n",
    "for _ in range(5):\n",
    "    if basename != 'OCLog':\n",
    "        cur_dir = os.path.dirname(cur_dir)\n",
    "        basename = os.path.basename(cur_dir)\n",
    "        #print(cur_dir, basename)\n",
    "    else:\n",
    "        if cur_dir not in sys.path:\n",
    "            sys.path.append(cur_dir)\n",
    "            #print(sys.path)"
   ]
  },
  {
   "cell_type": "code",
   "execution_count": 2,
   "id": "619d8a33",
   "metadata": {},
   "outputs": [],
   "source": [
    "import numpy as np\n",
    "import matplotlib.pyplot as plt\n",
    "import seaborn as sns\n",
    "import tensorflow as tf\n",
    "from tqdm import trange, tqdm, tnrange\n",
    "from oclog.BGL.bglogUKC import BGLog, get_embedding_layer\n",
    "from oclog.openset.boundary_loss import euclidean_metric, BoundaryLoss\n",
    "from oclog.openset.pretraining import LogLineEncoder, LogSeqEncoder, LogClassifier\n",
    "# from oclog.openset.openset import OpenSet\n",
    "from oclog.openset.opensetv4 import OpenSet\n",
    "from sklearn.metrics import confusion_matrix, f1_score, accuracy_score\n",
    "import sklearn.metrics as m\n",
    "import warnings\n",
    "warnings.filterwarnings('ignore')"
   ]
  },
  {
   "cell_type": "code",
   "execution_count": 3,
   "id": "d96f419a",
   "metadata": {},
   "outputs": [
    {
     "name": "stdout",
     "output_type": "stream",
     "text": [
      "padded_num_seq_df loaded from C:\\Users\\Bhujay_ROG\\MyDev\\OCLog\\oclog\\BGL\\data\\bgl_ukc.pkl\n",
      "trained tokenizer, tk, loaded from C:\\Users\\Bhujay_ROG\\MyDev\\OCLog\\oclog\\BGL\\data\\bgltkukc.pkl\n",
      "class 4 is add as ukc\n",
      "[[1. 0. 0. 0.]\n",
      " [1. 0. 0. 0.]]\n",
      "<BatchDataset element_spec=(TensorSpec(shape=(32, 32, 64), dtype=tf.int32, name=None), TensorSpec(shape=(32, 4), dtype=tf.float32, name=None))>\n",
      "<BatchDataset element_spec=(TensorSpec(shape=(32, 32, 64), dtype=tf.int32, name=None), TensorSpec(shape=(32, 4), dtype=tf.float32, name=None))>\n",
      "<BatchDataset element_spec=(TensorSpec(shape=(32, 32, 64), dtype=tf.int32, name=None), TensorSpec(shape=(32, 5), dtype=tf.float32, name=None))>\n"
     ]
    }
   ],
   "source": [
    "bglog = BGLog(save_padded_num_sequences=False, load_from_pkl=True, )\n",
    "train_test = bglog.get_tensor_train_val_test(ablation=1000, designated_ukc_cls=4)\n",
    "train_data, val_data, test_data = train_test"
   ]
  },
  {
   "cell_type": "code",
   "execution_count": 4,
   "id": "16e3ddf2",
   "metadata": {},
   "outputs": [
    {
     "name": "stdout",
     "output_type": "stream",
     "text": [
      "vocab_size: 50\n",
      "Epoch 1/7\n",
      "100/100 [==============================] - 10s 93ms/step - loss: 0.3155 - accuracy: 0.8722 - precision: 0.9308 - recall: 0.8116 - val_loss: 0.0288 - val_accuracy: 0.9974 - val_precision: 0.9974 - val_recall: 0.9974\n",
      "Epoch 2/7\n",
      "100/100 [==============================] - 9s 92ms/step - loss: 0.0563 - accuracy: 0.9800 - precision: 0.9800 - recall: 0.9800 - val_loss: 0.0142 - val_accuracy: 0.9974 - val_precision: 0.9974 - val_recall: 0.9948\n",
      "Epoch 3/7\n",
      "100/100 [==============================] - 9s 93ms/step - loss: 0.0358 - accuracy: 0.9869 - precision: 0.9869 - recall: 0.9866 - val_loss: 0.0096 - val_accuracy: 0.9948 - val_precision: 0.9948 - val_recall: 0.9948\n",
      "Epoch 4/7\n",
      "100/100 [==============================] - 9s 94ms/step - loss: 0.0231 - accuracy: 0.9906 - precision: 0.9906 - recall: 0.9903 - val_loss: 0.0087 - val_accuracy: 0.9974 - val_precision: 0.9974 - val_recall: 0.9948\n",
      "Epoch 5/7\n",
      "100/100 [==============================] - 9s 93ms/step - loss: 0.0165 - accuracy: 0.9931 - precision: 0.9934 - recall: 0.9931 - val_loss: 0.0617 - val_accuracy: 0.9818 - val_precision: 0.9843 - val_recall: 0.9818\n",
      "Epoch 6/7\n",
      "100/100 [==============================] - 9s 93ms/step - loss: 0.0151 - accuracy: 0.9944 - precision: 0.9944 - recall: 0.9944 - val_loss: 9.5578e-04 - val_accuracy: 1.0000 - val_precision: 1.0000 - val_recall: 1.0000\n",
      "Epoch 7/7\n",
      "100/100 [==============================] - 9s 93ms/step - loss: 0.0092 - accuracy: 0.9962 - precision: 0.9962 - recall: 0.9962 - val_loss: 0.0159 - val_accuracy: 0.9896 - val_precision: 0.9948 - val_recall: 0.9896\n"
     ]
    }
   ],
   "source": [
    "line_encoder = LogLineEncoder(bglog, chars_in_line=64)\n",
    "logSeqencer =  LogSeqEncoder(line_in_seq=32)\n",
    "ptmodel = LogClassifier(line_encoder=line_encoder, seq_encoder=logSeqencer, num_classes=4)\n",
    "ptmodel.compile(optimizer='adam', loss='categorical_crossentropy',\n",
    "              metrics=['accuracy', tf.keras.metrics.Precision(), tf.keras.metrics.Recall()])\n",
    "hist = ptmodel.fit(train_data, validation_data=val_data, epochs=7) "
   ]
  },
  {
   "cell_type": "code",
   "execution_count": 5,
   "id": "9e5e2d33",
   "metadata": {},
   "outputs": [
    {
     "name": "stderr",
     "output_type": "stream",
     "text": [
      "100%|████████████████████████████████████████████████████████████████████████████████| 100/100 [00:14<00:00,  6.69it/s]\n"
     ]
    },
    {
     "name": "stdout",
     "output_type": "stream",
     "text": [
      "epoch: 1/50, train_loss: 5.874927520751953, eval_score: 0.4758198711630556\n"
     ]
    },
    {
     "name": "stderr",
     "output_type": "stream",
     "text": [
      "100%|████████████████████████████████████████████████████████████████████████████████| 100/100 [00:14<00:00,  6.85it/s]\n"
     ]
    },
    {
     "name": "stdout",
     "output_type": "stream",
     "text": [
      "epoch: 2/50, train_loss: 5.87492561340332, eval_score: 0.8156537545104839\n"
     ]
    },
    {
     "name": "stderr",
     "output_type": "stream",
     "text": [
      "100%|████████████████████████████████████████████████████████████████████████████████| 100/100 [00:13<00:00,  7.43it/s]\n"
     ]
    },
    {
     "name": "stdout",
     "output_type": "stream",
     "text": [
      "epoch: 3/50, train_loss: 5.8749260902404785, eval_score: 0.8651790063614843\n"
     ]
    },
    {
     "name": "stderr",
     "output_type": "stream",
     "text": [
      "100%|████████████████████████████████████████████████████████████████████████████████| 100/100 [00:12<00:00,  7.70it/s]\n"
     ]
    },
    {
     "name": "stdout",
     "output_type": "stream",
     "text": [
      "epoch: 4/50, train_loss: 5.8749260902404785, eval_score: 0.9188172043010754\n"
     ]
    },
    {
     "name": "stderr",
     "output_type": "stream",
     "text": [
      "100%|████████████████████████████████████████████████████████████████████████████████| 100/100 [00:13<00:00,  7.41it/s]\n"
     ]
    },
    {
     "name": "stdout",
     "output_type": "stream",
     "text": [
      "epoch: 5/50, train_loss: 5.87492561340332, eval_score: 0.932997438337554\n"
     ]
    },
    {
     "name": "stderr",
     "output_type": "stream",
     "text": [
      "100%|████████████████████████████████████████████████████████████████████████████████| 100/100 [00:13<00:00,  7.62it/s]\n"
     ]
    },
    {
     "name": "stdout",
     "output_type": "stream",
     "text": [
      "epoch: 6/50, train_loss: 5.874927520751953, eval_score: 0.9697134423161821\n"
     ]
    },
    {
     "name": "stderr",
     "output_type": "stream",
     "text": [
      "100%|████████████████████████████████████████████████████████████████████████████████| 100/100 [00:13<00:00,  7.49it/s]\n"
     ]
    },
    {
     "name": "stdout",
     "output_type": "stream",
     "text": [
      "epoch: 7/50, train_loss: 5.874926567077637, eval_score: 0.9767551289290419\n"
     ]
    },
    {
     "name": "stderr",
     "output_type": "stream",
     "text": [
      "100%|████████████████████████████████████████████████████████████████████████████████| 100/100 [00:13<00:00,  7.69it/s]\n"
     ]
    },
    {
     "name": "stdout",
     "output_type": "stream",
     "text": [
      "epoch: 8/50, train_loss: 5.874926567077637, eval_score: 0.9808563680159011\n"
     ]
    },
    {
     "name": "stderr",
     "output_type": "stream",
     "text": [
      "100%|████████████████████████████████████████████████████████████████████████████████| 100/100 [00:13<00:00,  7.69it/s]\n"
     ]
    },
    {
     "name": "stdout",
     "output_type": "stream",
     "text": [
      "epoch: 9/50, train_loss: 5.87492561340332, eval_score: 0.9830428070023254\n"
     ]
    },
    {
     "name": "stderr",
     "output_type": "stream",
     "text": [
      "100%|████████████████████████████████████████████████████████████████████████████████| 100/100 [00:13<00:00,  7.59it/s]\n"
     ]
    },
    {
     "name": "stdout",
     "output_type": "stream",
     "text": [
      "epoch: 10/50, train_loss: 5.874926567077637, eval_score: 0.9855237858728981\n"
     ]
    },
    {
     "name": "stderr",
     "output_type": "stream",
     "text": [
      "100%|████████████████████████████████████████████████████████████████████████████████| 100/100 [00:13<00:00,  7.52it/s]\n"
     ]
    },
    {
     "name": "stdout",
     "output_type": "stream",
     "text": [
      "epoch: 11/50, train_loss: 5.874926567077637, eval_score: 0.9869991591985726\n"
     ]
    },
    {
     "name": "stderr",
     "output_type": "stream",
     "text": [
      "100%|████████████████████████████████████████████████████████████████████████████████| 100/100 [00:13<00:00,  7.59it/s]\n"
     ]
    },
    {
     "name": "stdout",
     "output_type": "stream",
     "text": [
      "epoch: 12/50, train_loss: 5.874927520751953, eval_score: 0.9883090421338423\n"
     ]
    },
    {
     "name": "stderr",
     "output_type": "stream",
     "text": [
      "100%|████████████████████████████████████████████████████████████████████████████████| 100/100 [00:13<00:00,  7.51it/s]\n"
     ]
    },
    {
     "name": "stdout",
     "output_type": "stream",
     "text": [
      "epoch: 13/50, train_loss: 5.874927520751953, eval_score: 0.9889616065129474\n"
     ]
    },
    {
     "name": "stderr",
     "output_type": "stream",
     "text": [
      "100%|████████████████████████████████████████████████████████████████████████████████| 100/100 [00:13<00:00,  7.44it/s]\n"
     ]
    },
    {
     "name": "stdout",
     "output_type": "stream",
     "text": [
      "epoch: 14/50, train_loss: 5.8749260902404785, eval_score: 0.9894469895907807\n"
     ]
    },
    {
     "name": "stderr",
     "output_type": "stream",
     "text": [
      "100%|████████████████████████████████████████████████████████████████████████████████| 100/100 [00:12<00:00,  7.72it/s]\n"
     ]
    },
    {
     "name": "stdout",
     "output_type": "stream",
     "text": [
      "epoch: 15/50, train_loss: 5.874927520751953, eval_score: 0.9897720311650551\n"
     ]
    },
    {
     "name": "stderr",
     "output_type": "stream",
     "text": [
      "100%|████████████████████████████████████████████████████████████████████████████████| 100/100 [00:13<00:00,  7.41it/s]\n"
     ]
    },
    {
     "name": "stdout",
     "output_type": "stream",
     "text": [
      "epoch: 16/50, train_loss: 5.874925136566162, eval_score: 0.9902557799882876\n"
     ]
    },
    {
     "name": "stderr",
     "output_type": "stream",
     "text": [
      "100%|████████████████████████████████████████████████████████████████████████████████| 100/100 [00:13<00:00,  7.63it/s]\n"
     ]
    },
    {
     "name": "stdout",
     "output_type": "stream",
     "text": [
      "epoch: 17/50, train_loss: 5.87492561340332, eval_score: 0.9909033967782278\n"
     ]
    },
    {
     "name": "stderr",
     "output_type": "stream",
     "text": [
      "100%|████████████████████████████████████████████████████████████████████████████████| 100/100 [00:13<00:00,  7.65it/s]\n"
     ]
    },
    {
     "name": "stdout",
     "output_type": "stream",
     "text": [
      "epoch: 18/50, train_loss: 5.874926567077637, eval_score: 0.9910619173375518\n"
     ]
    },
    {
     "name": "stderr",
     "output_type": "stream",
     "text": [
      "100%|████████████████████████████████████████████████████████████████████████████████| 100/100 [00:13<00:00,  7.66it/s]\n"
     ]
    },
    {
     "name": "stdout",
     "output_type": "stream",
     "text": [
      "epoch: 19/50, train_loss: 5.8749260902404785, eval_score: 0.9910640860951987\n"
     ]
    },
    {
     "name": "stderr",
     "output_type": "stream",
     "text": [
      "100%|████████████████████████████████████████████████████████████████████████████████| 100/100 [00:13<00:00,  7.67it/s]\n"
     ]
    },
    {
     "name": "stdout",
     "output_type": "stream",
     "text": [
      "epoch: 20/50, train_loss: 5.8749260902404785, eval_score: 0.9915513391995807\n"
     ]
    },
    {
     "name": "stderr",
     "output_type": "stream",
     "text": [
      "100%|████████████████████████████████████████████████████████████████████████████████| 100/100 [00:13<00:00,  7.69it/s]\n"
     ]
    },
    {
     "name": "stdout",
     "output_type": "stream",
     "text": [
      "epoch: 21/50, train_loss: 5.874927520751953, eval_score: 0.9917092626951225\n"
     ]
    },
    {
     "name": "stderr",
     "output_type": "stream",
     "text": [
      "100%|████████████████████████████████████████████████████████████████████████████████| 100/100 [00:13<00:00,  7.65it/s]\n"
     ]
    },
    {
     "name": "stdout",
     "output_type": "stream",
     "text": [
      "epoch: 22/50, train_loss: 5.87492561340332, eval_score: 0.9918735123119415\n"
     ]
    },
    {
     "name": "stderr",
     "output_type": "stream",
     "text": [
      "100%|████████████████████████████████████████████████████████████████████████████████| 100/100 [00:12<00:00,  7.69it/s]\n"
     ]
    },
    {
     "name": "stdout",
     "output_type": "stream",
     "text": [
      "epoch: 23/50, train_loss: 5.8749260902404785, eval_score: 0.9918815944329629\n"
     ]
    },
    {
     "name": "stderr",
     "output_type": "stream",
     "text": [
      "100%|████████████████████████████████████████████████████████████████████████████████| 100/100 [00:13<00:00,  7.66it/s]\n"
     ]
    },
    {
     "name": "stdout",
     "output_type": "stream",
     "text": [
      "epoch: 24/50, train_loss: 5.874925136566162, eval_score: 0.9918815944329629\n"
     ]
    },
    {
     "name": "stderr",
     "output_type": "stream",
     "text": [
      "100%|████████████████████████████████████████████████████████████████████████████████| 100/100 [00:13<00:00,  7.67it/s]\n"
     ]
    },
    {
     "name": "stdout",
     "output_type": "stream",
     "text": [
      "epoch: 25/50, train_loss: 5.87492561340332, eval_score: 0.9918815944329629\n"
     ]
    },
    {
     "name": "stderr",
     "output_type": "stream",
     "text": [
      "100%|████████████████████████████████████████████████████████████████████████████████| 100/100 [00:13<00:00,  7.67it/s]\n"
     ]
    },
    {
     "name": "stdout",
     "output_type": "stream",
     "text": [
      "epoch: 26/50, train_loss: 5.8749237060546875, eval_score: 0.9920454243766642\n"
     ]
    },
    {
     "name": "stderr",
     "output_type": "stream",
     "text": [
      "100%|████████████████████████████████████████████████████████████████████████████████| 100/100 [00:12<00:00,  7.79it/s]\n"
     ]
    },
    {
     "name": "stdout",
     "output_type": "stream",
     "text": [
      "epoch: 27/50, train_loss: 5.8749260902404785, eval_score: 0.9920454243766642\n"
     ]
    },
    {
     "name": "stderr",
     "output_type": "stream",
     "text": [
      "100%|████████████████████████████████████████████████████████████████████████████████| 100/100 [00:12<00:00,  7.78it/s]\n"
     ]
    },
    {
     "name": "stdout",
     "output_type": "stream",
     "text": [
      "epoch: 28/50, train_loss: 5.874926567077637, eval_score: 0.9922110074345107\n"
     ]
    },
    {
     "name": "stderr",
     "output_type": "stream",
     "text": [
      "100%|████████████████████████████████████████████████████████████████████████████████| 100/100 [00:12<00:00,  7.78it/s]\n"
     ]
    },
    {
     "name": "stdout",
     "output_type": "stream",
     "text": [
      "epoch: 29/50, train_loss: 5.8749260902404785, eval_score: 0.9922110074345107\n"
     ]
    },
    {
     "name": "stderr",
     "output_type": "stream",
     "text": [
      "100%|████████████████████████████████████████████████████████████████████████████████| 100/100 [00:12<00:00,  7.80it/s]\n"
     ]
    },
    {
     "name": "stdout",
     "output_type": "stream",
     "text": [
      "epoch: 30/50, train_loss: 5.874927997589111, eval_score: 0.9922110074345107\n"
     ]
    },
    {
     "name": "stderr",
     "output_type": "stream",
     "text": [
      "100%|████████████████████████████████████████████████████████████████████████████████| 100/100 [00:12<00:00,  7.77it/s]\n"
     ]
    },
    {
     "name": "stdout",
     "output_type": "stream",
     "text": [
      "epoch: 31/50, train_loss: 5.874926567077637, eval_score: 0.9922110074345107\n"
     ]
    },
    {
     "data": {
      "image/png": "[encoded data removed]",
      "text/plain": [
       "<Figure size 1080x360 with 2 Axes>"
      ]
     },
     "metadata": {
      "needs_background": "light"
     },
     "output_type": "display_data"
    }
   ],
   "source": [
    "oset = OpenSet(4, ptmodel)\n",
    "_, _ = oset.train(train_data, epochs=50, lr_rate=5, wait_patient=3,)"
   ]
  },
  {
   "cell_type": "code",
   "execution_count": 6,
   "id": "12f2dff1",
   "metadata": {},
   "outputs": [
    {
     "data": {
      "image/png": "[encoded data removed]",
      "text/plain": [
       "<Figure size 1080x360 with 2 Axes>"
      ]
     },
     "metadata": {
      "needs_background": "light"
     },
     "output_type": "display_data"
    },
    {
     "name": "stdout",
     "output_type": "stream",
     "text": [
      "euc_dis: tf.Tensor(\n",
      "[ 3.6995544  8.31263    7.38055   15.977601   2.8011549  5.9402876\n",
      " 14.846871   3.928675   6.0993905  8.936529   3.5191274 17.92009\n",
      "  3.8956358  3.9860582 11.697588  11.471016  11.926787   3.3722355\n",
      "  2.4124885 12.340971   6.4215164  4.3932085  2.486958   8.32264\n",
      "  7.2077255  5.3400483 15.961969  10.913751   7.1286783 11.177291\n",
      "  3.7766235 16.00398  ], shape=(32,), dtype=float32)\n",
      "pred_radius: tf.Tensor(\n",
      "[16.044039 16.066252 16.066252 15.992851 16.066252 16.044039 15.972182\n",
      " 15.992851 16.066252 15.972182 16.066252 16.044039 15.992851 15.992851\n",
      " 15.972182 15.972182 15.972182 15.992851 15.992851 15.972182 16.066252\n",
      " 16.044039 15.992851 16.066252 16.066252 16.044039 15.972182 15.972182\n",
      " 16.066252 16.066252 15.992851 16.044039], shape=(32,), dtype=float32)\n",
      "predictions with unknown-9999: [  3   1   1   0   1   3   2   0   1   2   1 999   0   0   2   2   2   0\n",
      "   0   2   1   3   0   1   1   3   2   2   1   1   0   3]\n",
      "[[800   0   0   0   0]\n",
      " [  0 800   0   0   0]\n",
      " [  0   0 793   2   5]\n",
      " [  3   1   0 764  32]\n",
      " [  0   0   0   0   0]]\n",
      "98.66\n",
      "f1_weighted: 0.9922110074345107, f1_macro: 0.7937688059476087, f1_micro: 0.9865625, f_measure: {'Known': 99.2211, 'Open': 0, 'F1-score': 79.3769}\n",
      "              precision    recall  f1-score   support\n",
      "\n",
      "           0       1.00      1.00      1.00       800\n",
      "           1       1.00      1.00      1.00       800\n",
      "           2       1.00      0.99      1.00       800\n",
      "           3       1.00      0.95      0.98       800\n",
      "         999       0.00      0.00      0.00         0\n",
      "\n",
      "    accuracy                           0.99      3200\n",
      "   macro avg       0.80      0.79      0.79      3200\n",
      "weighted avg       1.00      0.99      0.99      3200\n",
      "\n"
     ]
    }
   ],
   "source": [
    "oset.plot_radius_chages()\n",
    "preds = oset.openpredict(oset.features)\n",
    "y_true, y_pred, _ = oset.evaluate(train_data, zero_div=0)"
   ]
  },
  {
   "cell_type": "code",
   "execution_count": 7,
   "id": "a7a6ad43-d265-45da-9f21-1601bb85fc4f",
   "metadata": {},
   "outputs": [
    {
     "name": "stdout",
     "output_type": "stream",
     "text": [
      "[[94  0  0  0  0]\n",
      " [ 0 95  0  0  0]\n",
      " [ 0  0 98  0  0]\n",
      " [ 0  0  0  2  0]\n",
      " [ 0  0  1 94  0]]\n",
      "75.26\n",
      "f1_weighted: 0.7463129445940813, f1_macro: 0.6071480368797265, f1_micro: 0.7526041666666665, f_measure: {'Known': 75.8935, 'Open': 0, 'F1-score': 60.7148}\n",
      "              precision    recall  f1-score   support\n",
      "\n",
      "           0       1.00      1.00      1.00        94\n",
      "           1       1.00      1.00      1.00        95\n",
      "           2       0.99      1.00      0.99        98\n",
      "           3       0.02      1.00      0.04         2\n",
      "           4       0.00      0.00      0.00        95\n",
      "\n",
      "    accuracy                           0.75       384\n",
      "   macro avg       0.60      0.80      0.61       384\n",
      "weighted avg       0.74      0.75      0.75       384\n",
      "\n"
     ]
    }
   ],
   "source": [
    "y_true, y_pred, _ = oset.evaluate(test_data, ukc_label=4)"
   ]
  }
 ],
 "metadata": {
  "kernelspec": {
   "display_name": "Python 3 (ipykernel)",
   "language": "python",
   "name": "python3"
  },
  "language_info": {
   "codemirror_mode": {
    "name": "ipython",
    "version": 3
   },
   "file_extension": ".py",
   "mimetype": "text/x-python",
   "name": "python",
   "nbconvert_exporter": "python",
   "pygments_lexer": "ipython3",
   "version": "3.9.12"
  }
 },
 "nbformat": 4,
 "nbformat_minor": 5
}
