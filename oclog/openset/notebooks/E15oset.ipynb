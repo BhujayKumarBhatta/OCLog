{
 "cells": [
  {
   "cell_type": "code",
   "execution_count": 2,
   "id": "c4aefd92",
   "metadata": {},
   "outputs": [],
   "source": [
    "import os, sys\n",
    "cur_dir = os.getcwd()\n",
    "basename = os.path.basename(cur_dir)\n",
    "for _ in range(5):\n",
    "    if basename != 'OCLog':\n",
    "        cur_dir = os.path.dirname(cur_dir)\n",
    "        basename = os.path.basename(cur_dir)\n",
    "        #print(cur_dir, basename)\n",
    "    else:\n",
    "        if cur_dir not in sys.path:\n",
    "            sys.path.append(cur_dir)\n",
    "            #print(sys.path)"
   ]
  },
  {
   "cell_type": "code",
   "execution_count": 3,
   "id": "619d8a33",
   "metadata": {},
   "outputs": [],
   "source": [
    "import numpy as np\n",
    "import matplotlib.pyplot as plt\n",
    "import seaborn as sns\n",
    "import tensorflow as tf\n",
    "from tqdm import trange, tqdm, tnrange\n",
    "from oclog.BGL.bglogUKC import BGLog, get_embedding_layer\n",
    "from oclog.openset.boundary_loss import euclidean_metric, BoundaryLoss\n",
    "from oclog.openset.pretraining import LogLineEncoder, LogSeqEncoder, LogClassifier\n",
    "# from oclog.openset.openset import OpenSet\n",
    "from oclog.openset.opensetv4 import OpenSet\n",
    "from sklearn.metrics import confusion_matrix, f1_score, accuracy_score\n",
    "import sklearn.metrics as m\n",
    "import warnings\n",
    "warnings.filterwarnings('ignore')"
   ]
  },
  {
   "cell_type": "code",
   "execution_count": 7,
   "id": "d96f419a",
   "metadata": {},
   "outputs": [
    {
     "name": "stdout",
     "output_type": "stream",
     "text": [
      "ablation set to : 1000\n",
      "padded_num_seq_df loaded from C:\\Users\\Bhujay_ROG\\MyDev\\OCLog\\oclog\\BGL\\data\\bgl_ukc.pkl\n",
      "trained tokenizer, tk, loaded from C:\\Users\\Bhujay_ROG\\MyDev\\OCLog\\oclog\\BGL\\data\\bgltkukc.pkl\n",
      "train_0:, 800\n",
      "val_0:, 100\n",
      "test_0:, 100\n",
      "train_1:, 800\n",
      "val_1:, 100\n",
      "test_1:, 100\n",
      "train_2:, 800\n",
      "val_2:, 100\n",
      "test_2:, 100\n",
      "train_3:, 800\n",
      "val_3:, 100\n",
      "test_3:, 2\n",
      "628 data in class 4 not enough to split into train:800 and validation:100, adding the entire data as ukc\n",
      "class 5 is added as ukc\n",
      "ukc_5:, 100\n",
      "75 data in class 6 not enough to split into train:800 and validation:100, adding the entire data as ukc\n",
      "train: 0    800\n",
      "1    800\n",
      "2    800\n",
      "3    800\n",
      "Name: label, dtype: int64\n",
      "val: 0    100\n",
      "1    100\n",
      "2    100\n",
      "3    100\n",
      "Name: label, dtype: int64\n",
      "test: 0    100\n",
      "1    100\n",
      "2    100\n",
      "5    100\n",
      "3      2\n",
      "Name: label, dtype: int64\n",
      "[[1. 0. 0. 0.]\n",
      " [1. 0. 0. 0.]]\n",
      "some example of labels:\n",
      "[[1. 0. 0. 0. 0. 0.]\n",
      " [1. 0. 0. 0. 0. 0.]]\n",
      "[[1. 0. 0. 0.]\n",
      " [1. 0. 0. 0.]]\n",
      "<BatchDataset element_spec=(TensorSpec(shape=(32, 32, 64), dtype=tf.int32, name=None), TensorSpec(shape=(32, 4), dtype=tf.float32, name=None))>\n",
      "<BatchDataset element_spec=(TensorSpec(shape=(32, 32, 64), dtype=tf.int32, name=None), TensorSpec(shape=(32, 4), dtype=tf.float32, name=None))>\n",
      "<BatchDataset element_spec=(TensorSpec(shape=(32, 32, 64), dtype=tf.int32, name=None), TensorSpec(shape=(32, 6), dtype=tf.float32, name=None))>\n",
      "64\n",
      "4\n"
     ]
    }
   ],
   "source": [
    "bglog = BGLog(save_padded_num_sequences=False, debug=True,  load_from_pkl=True, )\n",
    "train_test = bglog.get_tensor_train_val_test(ablation=1000, designated_ukc_cls=5 )\n",
    "train_data, val_data, test_data = train_test"
   ]
  },
  {
   "cell_type": "code",
   "execution_count": 8,
   "id": "16e3ddf2",
   "metadata": {},
   "outputs": [
    {
     "name": "stdout",
     "output_type": "stream",
     "text": [
      "vocab_size: 50\n",
      "Epoch 1/7\n",
      "100/100 [==============================] - 11s 99ms/step - loss: 0.3969 - accuracy: 0.8431 - precision: 0.9159 - recall: 0.7656 - val_loss: 0.0598 - val_accuracy: 0.9844 - val_precision: 0.9844 - val_recall: 0.9844\n",
      "Epoch 2/7\n",
      "100/100 [==============================] - 9s 95ms/step - loss: 0.0536 - accuracy: 0.9816 - precision: 0.9819 - recall: 0.9806 - val_loss: 0.0136 - val_accuracy: 0.9948 - val_precision: 0.9948 - val_recall: 0.9948\n",
      "Epoch 3/7\n",
      "100/100 [==============================] - 9s 95ms/step - loss: 0.0276 - accuracy: 0.9909 - precision: 0.9912 - recall: 0.9909 - val_loss: 0.0193 - val_accuracy: 0.9922 - val_precision: 0.9922 - val_recall: 0.9922\n",
      "Epoch 4/7\n",
      "100/100 [==============================] - 10s 95ms/step - loss: 0.0240 - accuracy: 0.9912 - precision: 0.9912 - recall: 0.9906 - val_loss: 0.0408 - val_accuracy: 0.9870 - val_precision: 0.9869 - val_recall: 0.9844\n",
      "Epoch 5/7\n",
      "100/100 [==============================] - 9s 95ms/step - loss: 0.0224 - accuracy: 0.9916 - precision: 0.9919 - recall: 0.9916 - val_loss: 0.0054 - val_accuracy: 0.9974 - val_precision: 0.9974 - val_recall: 0.9974\n",
      "Epoch 6/7\n",
      "100/100 [==============================] - 10s 95ms/step - loss: 0.0094 - accuracy: 0.9969 - precision: 0.9972 - recall: 0.9969 - val_loss: 0.0047 - val_accuracy: 0.9974 - val_precision: 0.9974 - val_recall: 0.9974\n",
      "Epoch 7/7\n",
      "100/100 [==============================] - 10s 95ms/step - loss: 0.0099 - accuracy: 0.9962 - precision: 0.9962 - recall: 0.9962 - val_loss: 0.0288 - val_accuracy: 0.9896 - val_precision: 0.9896 - val_recall: 0.9896\n"
     ]
    }
   ],
   "source": [
    "line_encoder = LogLineEncoder(bglog, chars_in_line=64)\n",
    "logSeqencer =  LogSeqEncoder(line_in_seq=32)\n",
    "ptmodel = LogClassifier(line_encoder=line_encoder, seq_encoder=logSeqencer, num_classes=4)\n",
    "ptmodel.compile(optimizer='adam', loss='categorical_crossentropy',\n",
    "              metrics=['accuracy', tf.keras.metrics.Precision(), tf.keras.metrics.Recall()])\n",
    "hist = ptmodel.fit(train_data, validation_data=val_data, epochs=7) "
   ]
  },
  {
   "cell_type": "code",
   "execution_count": 9,
   "id": "9e5e2d33",
   "metadata": {},
   "outputs": [
    {
     "name": "stderr",
     "output_type": "stream",
     "text": [
      "100%|████████████████████████████████████████████████████████████████████████████████| 100/100 [00:13<00:00,  7.38it/s]\n"
     ]
    },
    {
     "name": "stdout",
     "output_type": "stream",
     "text": [
      "epoch: 1/50, train_loss: 6.354880332946777, eval_score: 0.5851632957532267\n"
     ]
    },
    {
     "name": "stderr",
     "output_type": "stream",
     "text": [
      "100%|████████████████████████████████████████████████████████████████████████████████| 100/100 [00:13<00:00,  7.39it/s]\n"
     ]
    },
    {
     "name": "stdout",
     "output_type": "stream",
     "text": [
      "epoch: 2/50, train_loss: 6.35488224029541, eval_score: 0.7002837690798528\n"
     ]
    },
    {
     "name": "stderr",
     "output_type": "stream",
     "text": [
      "100%|████████████████████████████████████████████████████████████████████████████████| 100/100 [00:13<00:00,  7.41it/s]\n"
     ]
    },
    {
     "name": "stdout",
     "output_type": "stream",
     "text": [
      "epoch: 3/50, train_loss: 6.354883193969727, eval_score: 0.8492319583204487\n"
     ]
    },
    {
     "name": "stderr",
     "output_type": "stream",
     "text": [
      "100%|████████████████████████████████████████████████████████████████████████████████| 100/100 [00:13<00:00,  7.36it/s]\n"
     ]
    },
    {
     "name": "stdout",
     "output_type": "stream",
     "text": [
      "epoch: 4/50, train_loss: 6.354881763458252, eval_score: 0.9063669682716295\n"
     ]
    },
    {
     "name": "stderr",
     "output_type": "stream",
     "text": [
      "100%|████████████████████████████████████████████████████████████████████████████████| 100/100 [00:13<00:00,  7.29it/s]\n"
     ]
    },
    {
     "name": "stdout",
     "output_type": "stream",
     "text": [
      "epoch: 5/50, train_loss: 6.354881763458252, eval_score: 0.923383449665213\n"
     ]
    },
    {
     "name": "stderr",
     "output_type": "stream",
     "text": [
      "100%|████████████████████████████████████████████████████████████████████████████████| 100/100 [00:13<00:00,  7.33it/s]\n"
     ]
    },
    {
     "name": "stdout",
     "output_type": "stream",
     "text": [
      "epoch: 6/50, train_loss: 6.3548808097839355, eval_score: 0.9335993636446449\n"
     ]
    },
    {
     "name": "stderr",
     "output_type": "stream",
     "text": [
      "100%|████████████████████████████████████████████████████████████████████████████████| 100/100 [00:13<00:00,  7.37it/s]\n"
     ]
    },
    {
     "name": "stdout",
     "output_type": "stream",
     "text": [
      "epoch: 7/50, train_loss: 6.3548808097839355, eval_score: 0.9394588460299907\n"
     ]
    },
    {
     "name": "stderr",
     "output_type": "stream",
     "text": [
      "100%|████████████████████████████████████████████████████████████████████████████████| 100/100 [00:13<00:00,  7.40it/s]\n"
     ]
    },
    {
     "name": "stdout",
     "output_type": "stream",
     "text": [
      "epoch: 8/50, train_loss: 6.354881763458252, eval_score: 0.94605042769419\n"
     ]
    },
    {
     "name": "stderr",
     "output_type": "stream",
     "text": [
      "100%|████████████████████████████████████████████████████████████████████████████████| 100/100 [00:13<00:00,  7.39it/s]\n"
     ]
    },
    {
     "name": "stdout",
     "output_type": "stream",
     "text": [
      "epoch: 9/50, train_loss: 6.354881763458252, eval_score: 0.9491474198229736\n"
     ]
    },
    {
     "name": "stderr",
     "output_type": "stream",
     "text": [
      "100%|████████████████████████████████████████████████████████████████████████████████| 100/100 [00:13<00:00,  7.41it/s]\n"
     ]
    },
    {
     "name": "stdout",
     "output_type": "stream",
     "text": [
      "epoch: 10/50, train_loss: 6.354884147644043, eval_score: 0.9507047112781295\n"
     ]
    },
    {
     "name": "stderr",
     "output_type": "stream",
     "text": [
      "100%|████████████████████████████████████████████████████████████████████████████████| 100/100 [00:13<00:00,  7.39it/s]\n"
     ]
    },
    {
     "name": "stdout",
     "output_type": "stream",
     "text": [
      "epoch: 11/50, train_loss: 6.3548808097839355, eval_score: 0.9512796492078689\n"
     ]
    },
    {
     "name": "stderr",
     "output_type": "stream",
     "text": [
      "100%|████████████████████████████████████████████████████████████████████████████████| 100/100 [00:13<00:00,  7.35it/s]\n"
     ]
    },
    {
     "name": "stdout",
     "output_type": "stream",
     "text": [
      "epoch: 12/50, train_loss: 6.35488224029541, eval_score: 0.9526086011328949\n"
     ]
    },
    {
     "name": "stderr",
     "output_type": "stream",
     "text": [
      "100%|████████████████████████████████████████████████████████████████████████████████| 100/100 [00:13<00:00,  7.31it/s]\n"
     ]
    },
    {
     "name": "stdout",
     "output_type": "stream",
     "text": [
      "epoch: 13/50, train_loss: 6.354881763458252, eval_score: 0.9523421446982567\n"
     ]
    },
    {
     "name": "stderr",
     "output_type": "stream",
     "text": [
      "100%|████████████████████████████████████████████████████████████████████████████████| 100/100 [00:13<00:00,  7.43it/s]\n"
     ]
    },
    {
     "name": "stdout",
     "output_type": "stream",
     "text": [
      "epoch: 14/50, train_loss: 6.3548808097839355, eval_score: 0.9526671154508891\n"
     ]
    },
    {
     "name": "stderr",
     "output_type": "stream",
     "text": [
      "100%|████████████████████████████████████████████████████████████████████████████████| 100/100 [00:13<00:00,  7.43it/s]\n"
     ]
    },
    {
     "name": "stdout",
     "output_type": "stream",
     "text": [
      "epoch: 15/50, train_loss: 6.354881763458252, eval_score: 0.9531614663919195\n"
     ]
    },
    {
     "name": "stderr",
     "output_type": "stream",
     "text": [
      "100%|████████████████████████████████████████████████████████████████████████████████| 100/100 [00:13<00:00,  7.32it/s]\n"
     ]
    },
    {
     "name": "stdout",
     "output_type": "stream",
     "text": [
      "epoch: 16/50, train_loss: 6.354882717132568, eval_score: 0.9536708812661895\n"
     ]
    },
    {
     "name": "stderr",
     "output_type": "stream",
     "text": [
      "100%|████████████████████████████████████████████████████████████████████████████████| 100/100 [00:13<00:00,  7.44it/s]\n"
     ]
    },
    {
     "name": "stdout",
     "output_type": "stream",
     "text": [
      "epoch: 17/50, train_loss: 6.354881763458252, eval_score: 0.9540339911736783\n"
     ]
    },
    {
     "name": "stderr",
     "output_type": "stream",
     "text": [
      "100%|████████████████████████████████████████████████████████████████████████████████| 100/100 [00:13<00:00,  7.32it/s]\n"
     ]
    },
    {
     "name": "stdout",
     "output_type": "stream",
     "text": [
      "epoch: 18/50, train_loss: 6.3548808097839355, eval_score: 0.9537263607320478\n"
     ]
    },
    {
     "name": "stderr",
     "output_type": "stream",
     "text": [
      "100%|████████████████████████████████████████████████████████████████████████████████| 100/100 [00:13<00:00,  7.27it/s]\n"
     ]
    },
    {
     "name": "stdout",
     "output_type": "stream",
     "text": [
      "epoch: 19/50, train_loss: 6.354880332946777, eval_score: 0.9540570208451615\n"
     ]
    },
    {
     "name": "stderr",
     "output_type": "stream",
     "text": [
      "100%|████████████████████████████████████████████████████████████████████████████████| 100/100 [00:13<00:00,  7.37it/s]\n"
     ]
    },
    {
     "name": "stdout",
     "output_type": "stream",
     "text": [
      "epoch: 20/50, train_loss: 6.35488224029541, eval_score: 0.9537497922022967\n"
     ]
    },
    {
     "name": "stderr",
     "output_type": "stream",
     "text": [
      "100%|████████████████████████████████████████████████████████████████████████████████| 100/100 [00:13<00:00,  7.39it/s]\n"
     ]
    },
    {
     "name": "stdout",
     "output_type": "stream",
     "text": [
      "epoch: 21/50, train_loss: 6.3548808097839355, eval_score: 0.9537497922022967\n"
     ]
    },
    {
     "name": "stderr",
     "output_type": "stream",
     "text": [
      "100%|████████████████████████████████████████████████████████████████████████████████| 100/100 [00:13<00:00,  7.37it/s]\n"
     ]
    },
    {
     "name": "stdout",
     "output_type": "stream",
     "text": [
      "epoch: 22/50, train_loss: 6.354881763458252, eval_score: 0.9540800190480593\n"
     ]
    },
    {
     "name": "stderr",
     "output_type": "stream",
     "text": [
      "100%|████████████████████████████████████████████████████████████████████████████████| 100/100 [00:13<00:00,  7.25it/s]\n"
     ]
    },
    {
     "name": "stdout",
     "output_type": "stream",
     "text": [
      "epoch: 23/50, train_loss: 6.3548808097839355, eval_score: 0.9542488807789294\n"
     ]
    },
    {
     "name": "stderr",
     "output_type": "stream",
     "text": [
      "100%|████████████████████████████████████████████████████████████████████████████████| 100/100 [00:13<00:00,  7.28it/s]\n"
     ]
    },
    {
     "name": "stdout",
     "output_type": "stream",
     "text": [
      "epoch: 24/50, train_loss: 6.35488224029541, eval_score: 0.9544175251845346\n"
     ]
    },
    {
     "name": "stderr",
     "output_type": "stream",
     "text": [
      "100%|████████████████████████████████████████████████████████████████████████████████| 100/100 [00:13<00:00,  7.35it/s]\n"
     ]
    },
    {
     "name": "stdout",
     "output_type": "stream",
     "text": [
      "epoch: 25/50, train_loss: 6.35488224029541, eval_score: 0.9544175251845346\n"
     ]
    },
    {
     "name": "stderr",
     "output_type": "stream",
     "text": [
      "100%|████████████████████████████████████████████████████████████████████████████████| 100/100 [00:13<00:00,  7.44it/s]\n"
     ]
    },
    {
     "name": "stdout",
     "output_type": "stream",
     "text": [
      "epoch: 26/50, train_loss: 6.35488224029541, eval_score: 0.9544175251845346\n"
     ]
    },
    {
     "name": "stderr",
     "output_type": "stream",
     "text": [
      "100%|████████████████████████████████████████████████████████████████████████████████| 100/100 [00:13<00:00,  7.49it/s]\n"
     ]
    },
    {
     "name": "stdout",
     "output_type": "stream",
     "text": [
      "epoch: 27/50, train_loss: 6.354882717132568, eval_score: 0.9544175251845346\n"
     ]
    },
    {
     "data": {
      "image/png": "[encoded data removed]",
      "text/plain": [
       "<Figure size 1080x360 with 2 Axes>"
      ]
     },
     "metadata": {
      "needs_background": "light"
     },
     "output_type": "display_data"
    }
   ],
   "source": [
    "oset = OpenSet(4, ptmodel)\n",
    "_, _ = oset.train(train_data, epochs=50, lr_rate=5, wait_patient=3,)"
   ]
  },
  {
   "cell_type": "code",
   "execution_count": 10,
   "id": "12f2dff1",
   "metadata": {},
   "outputs": [
    {
     "data": {
      "image/png": "[encoded data removed]",
      "text/plain": [
       "<Figure size 1080x360 with 2 Axes>"
      ]
     },
     "metadata": {
      "needs_background": "light"
     },
     "output_type": "display_data"
    },
    {
     "name": "stdout",
     "output_type": "stream",
     "text": [
      "euc_dis: tf.Tensor(\n",
      "[12.189906   3.2759547  2.4807613  4.294247  10.132407   2.626612\n",
      "  7.363024  10.01574    8.858029   2.9459932  3.8439486  7.54988\n",
      "  9.359566   3.2628522  9.0701685  4.6214166  8.254136   5.792221\n",
      "  8.791621   3.9758594  3.0330956 12.918375   2.7309775  9.295115\n",
      "  8.402879   3.6735997 10.201238   7.6575894  2.0568407  2.664681\n",
      " 11.475287   8.435193 ], shape=(32,), dtype=float32)\n",
      "pred_radius: tf.Tensor(\n",
      "[15.76011  15.735913 15.76011  15.805512 15.773236 15.735913 15.773236\n",
      " 15.773236 15.773236 15.805512 15.735913 15.773236 15.773236 15.76011\n",
      " 15.773236 15.735913 15.805512 15.76011  15.773236 15.735913 15.76011\n",
      " 15.773236 15.805512 15.735913 15.805512 15.76011  15.773236 15.735913\n",
      " 15.735913 15.805512 15.773236 15.773236], shape=(32,), dtype=float32)\n",
      "predictions with ukc_label=999 [0 3 0 1 2 3 2 2 2 1 3 2 2 0 2 3 1 0 2 3 0 2 1 3 1 0 2 3 3 1 2 2]\n",
      "[[800   0   0   0   0]\n",
      " [  9 638   0   0 153]\n",
      " [  0   0 776  14  10]\n",
      " [  0   2   0 740  58]\n",
      " [  0   0   0   0   0]]\n",
      "92.31\n",
      "f1_weighted: 0.9544175251845346, f1_macro: 0.7635340201476277, f1_micro: 0.923125, f_measure: {'Known': 95.4418, 'Open': 0, 'F1-score': 76.3534}\n",
      "              precision    recall  f1-score   support\n",
      "\n",
      "           0       0.99      1.00      0.99       800\n",
      "           1       1.00      0.80      0.89       800\n",
      "           2       1.00      0.97      0.98       800\n",
      "           3       0.98      0.93      0.95       800\n",
      "         999       0.00      0.00      0.00         0\n",
      "\n",
      "    accuracy                           0.92      3200\n",
      "   macro avg       0.79      0.74      0.76      3200\n",
      "weighted avg       0.99      0.92      0.95      3200\n",
      "\n"
     ]
    }
   ],
   "source": [
    "oset.plot_radius_chages()\n",
    "preds = oset.openpredict(oset.features)\n",
    "y_true, y_pred, _ = oset.evaluate(train_data, zero_div=0)"
   ]
  },
  {
   "cell_type": "code",
   "execution_count": 11,
   "id": "a7a6ad43-d265-45da-9f21-1601bb85fc4f",
   "metadata": {},
   "outputs": [
    {
     "name": "stdout",
     "output_type": "stream",
     "text": [
      "[[96  0  0  0  0]\n",
      " [ 0  0  0  0 98]\n",
      " [ 0  0 93  0  0]\n",
      " [ 0  0  0  1  1]\n",
      " [67 15  0  0 13]]\n",
      "52.86\n",
      "f1_weighted: 0.46206178033623685, f1_macro: 0.5067166545427415, f1_micro: 0.5286458333333334, f_measure: {'Known': 60.1995, 'Open': 12.5604, 'F1-score': 50.6717}\n",
      "              precision    recall  f1-score   support\n",
      "\n",
      "           0       0.59      1.00      0.74        96\n",
      "           1       0.00      0.00      0.00        98\n",
      "           2       1.00      1.00      1.00        93\n",
      "           3       1.00      0.50      0.67         2\n",
      "           5       0.12      0.14      0.13        95\n",
      "\n",
      "    accuracy                           0.53       384\n",
      "   macro avg       0.54      0.53      0.51       384\n",
      "weighted avg       0.42      0.53      0.46       384\n",
      "\n"
     ]
    }
   ],
   "source": [
    "y_true, y_pred, _ = oset.evaluate(test_data, ukc_label=5)"
   ]
  }
 ],
 "metadata": {
  "kernelspec": {
   "display_name": "Python 3 (ipykernel)",
   "language": "python",
   "name": "python3"
  },
  "language_info": {
   "codemirror_mode": {
    "name": "ipython",
    "version": 3
   },
   "file_extension": ".py",
   "mimetype": "text/x-python",
   "name": "python",
   "nbconvert_exporter": "python",
   "pygments_lexer": "ipython3",
   "version": "3.9.12"
  }
 },
 "nbformat": 4,
 "nbformat_minor": 5
}
