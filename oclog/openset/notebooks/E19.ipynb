{
 "cells": [
  {
   "cell_type": "code",
   "execution_count": 1,
   "id": "c4aefd92",
   "metadata": {},
   "outputs": [],
   "source": [
    "import os, sys\n",
    "cur_dir = os.getcwd()\n",
    "basename = os.path.basename(cur_dir)\n",
    "for _ in range(5):\n",
    "    if basename != 'OCLog':\n",
    "        cur_dir = os.path.dirname(cur_dir)\n",
    "        basename = os.path.basename(cur_dir)\n",
    "        #print(cur_dir, basename)\n",
    "    else:\n",
    "        if cur_dir not in sys.path:\n",
    "            sys.path.append(cur_dir)\n",
    "            #print(sys.path)"
   ]
  },
  {
   "cell_type": "code",
   "execution_count": 2,
   "id": "619d8a33",
   "metadata": {},
   "outputs": [],
   "source": [
    "import numpy as np\n",
    "import matplotlib.pyplot as plt\n",
    "import seaborn as sns\n",
    "import tensorflow as tf\n",
    "from tqdm import trange, tqdm, tnrange\n",
    "from oclog.BGL.bglogUKC import BGLog, get_embedding_layer\n",
    "from oclog.openset.boundary_loss import euclidean_metric, BoundaryLoss\n",
    "from oclog.openset.pretraining import LogLineEncoder, LogSeqEncoder, LogClassifier\n",
    "# from oclog.openset.openset import OpenSet\n",
    "from oclog.openset.opensetv6 import OpenSet\n",
    "from sklearn.metrics import confusion_matrix, f1_score, accuracy_score\n",
    "import sklearn.metrics as m\n",
    "import warnings\n",
    "warnings.filterwarnings('ignore')"
   ]
  },
  {
   "cell_type": "code",
   "execution_count": 3,
   "id": "d96f419a",
   "metadata": {},
   "outputs": [
    {
     "name": "stdout",
     "output_type": "stream",
     "text": [
      "ablation set to : 5000\n",
      "padded_num_seq_df loaded from C:\\Users\\Bhujay_ROG\\MyDev\\OCLog\\oclog\\BGL\\data\\bgl_ukc.pkl\n",
      "trained tokenizer, tk, loaded from C:\\Users\\Bhujay_ROG\\MyDev\\OCLog\\oclog\\BGL\\data\\bgltkukc.pkl\n",
      "train_0:, 4000\n",
      "val_0:, 500\n",
      "test_0:, 500\n",
      "train_1:, 4000\n",
      "val_1:, 500\n",
      "test_1:, 500\n",
      "4049 data in class 2 not enough to split into train:4000 and validation:500, adding the entire data as ukc\n",
      "class 3 is added as ukc\n",
      "ukc_3:, 500\n",
      "628 data in class 4 not enough to split into train:4000 and validation:500, adding the entire data as ukc\n",
      "165 data in class 5 not enough to split into train:4000 and validation:500, adding the entire data as ukc\n",
      "75 data in class 6 not enough to split into train:4000 and validation:500, adding the entire data as ukc\n",
      "train: 0    4000\n",
      "1    4000\n",
      "Name: label, dtype: int64\n",
      "val: 0    500\n",
      "1    500\n",
      "Name: label, dtype: int64\n",
      "test: 0    500\n",
      "1    500\n",
      "3    500\n",
      "Name: label, dtype: int64\n",
      "[[1. 0.]\n",
      " [1. 0.]]\n",
      "some example of labels:\n",
      "[[1. 0. 0. 0.]\n",
      " [1. 0. 0. 0.]]\n",
      "[[1. 0.]\n",
      " [1. 0.]]\n",
      "<BatchDataset element_spec=(TensorSpec(shape=(32, 32, 64), dtype=tf.int32, name=None), TensorSpec(shape=(32, 2), dtype=tf.float32, name=None))>\n",
      "<BatchDataset element_spec=(TensorSpec(shape=(32, 32, 64), dtype=tf.int32, name=None), TensorSpec(shape=(32, 2), dtype=tf.float32, name=None))>\n",
      "<BatchDataset element_spec=(TensorSpec(shape=(32, 32, 64), dtype=tf.int32, name=None), TensorSpec(shape=(32, 4), dtype=tf.float32, name=None))>\n",
      "64\n",
      "2\n"
     ]
    }
   ],
   "source": [
    "designated_ukc_cls = 3\n",
    "num_classes = 2\n",
    "embedding_size=64\n",
    "bglog = BGLog(save_padded_num_sequences=False, debug=True,  load_from_pkl=True, )\n",
    "train_test = bglog.get_tensor_train_val_test(ablation=5000, designated_ukc_cls=designated_ukc_cls )\n",
    "train_data, val_data, test_data = train_test"
   ]
  },
  {
   "cell_type": "code",
   "execution_count": 4,
   "id": "16e3ddf2",
   "metadata": {},
   "outputs": [
    {
     "name": "stdout",
     "output_type": "stream",
     "text": [
      "vocab_size: 50\n",
      "Epoch 1/7\n",
      "250/250 [==============================] - 24s 94ms/step - loss: 0.0247 - accuracy: 0.9887 - precision: 0.9887 - recall: 0.9887 - val_loss: 2.4964e-05 - val_accuracy: 1.0000 - val_precision: 1.0000 - val_recall: 1.0000\n",
      "Epoch 2/7\n",
      "250/250 [==============================] - 23s 93ms/step - loss: 1.1003e-05 - accuracy: 1.0000 - precision: 1.0000 - recall: 1.0000 - val_loss: 3.5709e-05 - val_accuracy: 1.0000 - val_precision: 1.0000 - val_recall: 1.0000\n",
      "Epoch 3/7\n",
      "250/250 [==============================] - 23s 93ms/step - loss: 2.9041e-06 - accuracy: 1.0000 - precision: 1.0000 - recall: 1.0000 - val_loss: 1.6568e-05 - val_accuracy: 1.0000 - val_precision: 1.0000 - val_recall: 1.0000\n",
      "Epoch 4/7\n",
      "250/250 [==============================] - 23s 93ms/step - loss: 1.7834e-06 - accuracy: 1.0000 - precision: 1.0000 - recall: 1.0000 - val_loss: 1.1410e-05 - val_accuracy: 1.0000 - val_precision: 1.0000 - val_recall: 1.0000\n",
      "Epoch 5/7\n",
      "250/250 [==============================] - 23s 94ms/step - loss: 1.2653e-06 - accuracy: 1.0000 - precision: 1.0000 - recall: 1.0000 - val_loss: 9.2136e-06 - val_accuracy: 1.0000 - val_precision: 1.0000 - val_recall: 1.0000\n",
      "Epoch 6/7\n",
      "250/250 [==============================] - 23s 94ms/step - loss: 9.4984e-07 - accuracy: 1.0000 - precision: 1.0000 - recall: 1.0000 - val_loss: 7.8047e-06 - val_accuracy: 1.0000 - val_precision: 1.0000 - val_recall: 1.0000\n",
      "Epoch 7/7\n",
      "250/250 [==============================] - 23s 94ms/step - loss: 7.3508e-07 - accuracy: 1.0000 - precision: 1.0000 - recall: 1.0000 - val_loss: 6.8628e-06 - val_accuracy: 1.0000 - val_precision: 1.0000 - val_recall: 1.0000\n"
     ]
    }
   ],
   "source": [
    "line_encoder = LogLineEncoder(bglog, chars_in_line=64)\n",
    "logSeqencer =  LogSeqEncoder(line_in_seq=32, dense_neurons=embedding_size)\n",
    "ptmodel = LogClassifier(line_encoder=line_encoder, seq_encoder=logSeqencer, num_classes=num_classes)\n",
    "ptmodel.compile(optimizer='adam', loss='categorical_crossentropy',\n",
    "              metrics=['accuracy', tf.keras.metrics.Precision(), tf.keras.metrics.Recall()])\n",
    "hist = ptmodel.fit(train_data, validation_data=val_data, epochs=7) "
   ]
  },
  {
   "cell_type": "code",
   "execution_count": null,
   "id": "87921161-f442-4b1f-a370-e93d82617742",
   "metadata": {},
   "outputs": [],
   "source": [
    "# training and recalculating the centroids in each epoch"
   ]
  },
  {
   "cell_type": "code",
   "execution_count": 7,
   "id": "9e5e2d33",
   "metadata": {},
   "outputs": [
    {
     "name": "stderr",
     "output_type": "stream",
     "text": [
      "100%|████████████████████████████████████████████████████████████████████████████████| 250/250 [00:33<00:00,  7.36it/s]\n"
     ]
    },
    {
     "name": "stdout",
     "output_type": "stream",
     "text": [
      "epoch: 1/50, train_loss: 4.657820701599121, eval_score: 0.5\n"
     ]
    },
    {
     "name": "stderr",
     "output_type": "stream",
     "text": [
      "100%|████████████████████████████████████████████████████████████████████████████████| 250/250 [00:33<00:00,  7.46it/s]\n"
     ]
    },
    {
     "name": "stdout",
     "output_type": "stream",
     "text": [
      "epoch: 2/50, train_loss: 4.657818794250488, eval_score: 0.48433672811653994\n"
     ]
    },
    {
     "name": "stderr",
     "output_type": "stream",
     "text": [
      "100%|████████████████████████████████████████████████████████████████████████████████| 250/250 [00:33<00:00,  7.49it/s]\n"
     ]
    },
    {
     "name": "stdout",
     "output_type": "stream",
     "text": [
      "epoch: 3/50, train_loss: 4.657764434814453, eval_score: 0.9543718455872323\n"
     ]
    },
    {
     "name": "stderr",
     "output_type": "stream",
     "text": [
      "100%|████████████████████████████████████████████████████████████████████████████████| 250/250 [00:33<00:00,  7.47it/s]\n"
     ]
    },
    {
     "name": "stdout",
     "output_type": "stream",
     "text": [
      "epoch: 4/50, train_loss: 4.657783508300781, eval_score: 0.9543718455872323\n"
     ]
    },
    {
     "name": "stderr",
     "output_type": "stream",
     "text": [
      "100%|████████████████████████████████████████████████████████████████████████████████| 250/250 [00:35<00:00,  7.13it/s]\n"
     ]
    },
    {
     "name": "stdout",
     "output_type": "stream",
     "text": [
      "epoch: 5/50, train_loss: 4.657760143280029, eval_score: 0.48433672811653994\n"
     ]
    },
    {
     "name": "stderr",
     "output_type": "stream",
     "text": [
      "100%|████████████████████████████████████████████████████████████████████████████████| 250/250 [00:33<00:00,  7.46it/s]\n"
     ]
    },
    {
     "name": "stdout",
     "output_type": "stream",
     "text": [
      "epoch: 6/50, train_loss: 4.657793045043945, eval_score: 0.0\n"
     ]
    },
    {
     "data": {
      "image/png": "[encoded data removed]",
      "text/plain": [
       "<Figure size 1080x360 with 2 Axes>"
      ]
     },
     "metadata": {
      "needs_background": "light"
     },
     "output_type": "display_data"
    }
   ],
   "source": [
    "oset = OpenSet(num_classes, ptmodel, embedding_size=embedding_size)\n",
    "_, _ = oset.train(train_data, epochs=50, lr_rate=3, wait_patient=3,)"
   ]
  },
  {
   "cell_type": "code",
   "execution_count": null,
   "id": "61e3fa47-7cc5-415d-aa1d-b683fb152ab3",
   "metadata": {},
   "outputs": [],
   "source": [
    "oset.plot_radius_chages()\n",
    "preds = oset.openpredict(oset.features)\n",
    "y_true, y_pred, _ = oset.evaluate(train_data)"
   ]
  },
  {
   "cell_type": "code",
   "execution_count": null,
   "id": "4c5dcc93-126e-44f8-95ca-a03cbc1f9f4e",
   "metadata": {},
   "outputs": [],
   "source": []
  },
  {
   "cell_type": "code",
   "execution_count": 8,
   "id": "62229c37-2ab1-4d37-b174-4522f68d7179",
   "metadata": {},
   "outputs": [
    {
     "name": "stdout",
     "output_type": "stream",
     "text": [
      "ablation set to : 5000\n",
      "padded_num_seq_df loaded from C:\\Users\\Bhujay_ROG\\MyDev\\OCLog\\oclog\\BGL\\data\\bgl_ukc.pkl\n",
      "trained tokenizer, tk, loaded from C:\\Users\\Bhujay_ROG\\MyDev\\OCLog\\oclog\\BGL\\data\\bgltkukc.pkl\n",
      "train_0:, 4000\n",
      "val_0:, 500\n",
      "test_0:, 500\n",
      "train_1:, 4000\n",
      "val_1:, 500\n",
      "test_1:, 500\n",
      "4049 data in class 2 not enough to split into train:4000 and validation:500, adding the entire data as ukc\n",
      "class 3 is added as ukc\n",
      "ukc_3:, 500\n",
      "628 data in class 4 not enough to split into train:4000 and validation:500, adding the entire data as ukc\n",
      "165 data in class 5 not enough to split into train:4000 and validation:500, adding the entire data as ukc\n",
      "75 data in class 6 not enough to split into train:4000 and validation:500, adding the entire data as ukc\n",
      "train: 0    4000\n",
      "1    4000\n",
      "Name: label, dtype: int64\n",
      "val: 0    500\n",
      "1    500\n",
      "Name: label, dtype: int64\n",
      "test: 0    500\n",
      "1    500\n",
      "3    500\n",
      "Name: label, dtype: int64\n",
      "[[1. 0.]\n",
      " [1. 0.]]\n",
      "some example of labels:\n",
      "[[1. 0. 0. 0.]\n",
      " [1. 0. 0. 0.]]\n",
      "[[1. 0.]\n",
      " [1. 0.]]\n",
      "<BatchDataset element_spec=(TensorSpec(shape=(32, 32, 64), dtype=tf.int32, name=None), TensorSpec(shape=(32, 2), dtype=tf.float32, name=None))>\n",
      "<BatchDataset element_spec=(TensorSpec(shape=(32, 32, 64), dtype=tf.int32, name=None), TensorSpec(shape=(32, 2), dtype=tf.float32, name=None))>\n",
      "<BatchDataset element_spec=(TensorSpec(shape=(32, 32, 64), dtype=tf.int32, name=None), TensorSpec(shape=(32, 4), dtype=tf.float32, name=None))>\n",
      "64\n",
      "2\n",
      "vocab_size: 50\n",
      "Epoch 1/7\n",
      "250/250 [==============================] - 26s 102ms/step - loss: 0.0420 - accuracy: 0.9827 - precision_1: 0.9827 - recall_1: 0.9827 - val_loss: 6.5640e-05 - val_accuracy: 1.0000 - val_precision_1: 1.0000 - val_recall_1: 1.0000\n",
      "Epoch 2/7\n",
      "250/250 [==============================] - 24s 95ms/step - loss: 0.0067 - accuracy: 0.9983 - precision_1: 0.9983 - recall_1: 0.9983 - val_loss: 2.3718e-06 - val_accuracy: 1.0000 - val_precision_1: 1.0000 - val_recall_1: 1.0000\n",
      "Epoch 3/7\n",
      "250/250 [==============================] - 24s 95ms/step - loss: 8.9284e-05 - accuracy: 1.0000 - precision_1: 1.0000 - recall_1: 1.0000 - val_loss: 5.0472e-08 - val_accuracy: 1.0000 - val_precision_1: 1.0000 - val_recall_1: 1.0000\n",
      "Epoch 4/7\n",
      "250/250 [==============================] - 24s 96ms/step - loss: 9.4312e-05 - accuracy: 1.0000 - precision_1: 1.0000 - recall_1: 1.0000 - val_loss: 5.1701e-05 - val_accuracy: 1.0000 - val_precision_1: 1.0000 - val_recall_1: 1.0000\n",
      "Epoch 5/7\n",
      "250/250 [==============================] - 24s 96ms/step - loss: 2.4138e-06 - accuracy: 1.0000 - precision_1: 1.0000 - recall_1: 1.0000 - val_loss: 2.4949e-05 - val_accuracy: 1.0000 - val_precision_1: 1.0000 - val_recall_1: 1.0000\n",
      "Epoch 6/7\n",
      "250/250 [==============================] - 24s 96ms/step - loss: 1.3030e-06 - accuracy: 1.0000 - precision_1: 1.0000 - recall_1: 1.0000 - val_loss: 1.5899e-05 - val_accuracy: 1.0000 - val_precision_1: 1.0000 - val_recall_1: 1.0000\n",
      "Epoch 7/7\n",
      "250/250 [==============================] - 24s 97ms/step - loss: 8.4817e-07 - accuracy: 1.0000 - precision_1: 1.0000 - recall_1: 1.0000 - val_loss: 1.1038e-05 - val_accuracy: 1.0000 - val_precision_1: 1.0000 - val_recall_1: 1.0000\n"
     ]
    },
    {
     "name": "stderr",
     "output_type": "stream",
     "text": [
      "100%|████████████████████████████████████████████████████████████████████████████████| 250/250 [00:33<00:00,  7.37it/s]\n"
     ]
    },
    {
     "name": "stdout",
     "output_type": "stream",
     "text": [
      "epoch: 1/50, train_loss: 9.517409324645996, eval_score: 0.4991861775385001\n"
     ]
    },
    {
     "name": "stderr",
     "output_type": "stream",
     "text": [
      "100%|████████████████████████████████████████████████████████████████████████████████| 250/250 [00:33<00:00,  7.43it/s]\n"
     ]
    },
    {
     "name": "stdout",
     "output_type": "stream",
     "text": [
      "epoch: 2/50, train_loss: 9.517468452453613, eval_score: 0.4994994994994995\n"
     ]
    },
    {
     "name": "stderr",
     "output_type": "stream",
     "text": [
      "100%|████████████████████████████████████████████████████████████████████████████████| 250/250 [00:33<00:00,  7.37it/s]\n"
     ]
    },
    {
     "name": "stdout",
     "output_type": "stream",
     "text": [
      "epoch: 3/50, train_loss: 9.517437934875488, eval_score: 0.4994994994994995\n"
     ]
    },
    {
     "name": "stderr",
     "output_type": "stream",
     "text": [
      "100%|████████████████████████████████████████████████████████████████████████████████| 250/250 [00:34<00:00,  7.32it/s]\n"
     ]
    },
    {
     "name": "stdout",
     "output_type": "stream",
     "text": [
      "epoch: 4/50, train_loss: 9.517426490783691, eval_score: 0.4994994994994995\n"
     ]
    },
    {
     "name": "stderr",
     "output_type": "stream",
     "text": [
      "100%|████████████████████████████████████████████████████████████████████████████████| 250/250 [00:34<00:00,  7.26it/s]\n"
     ]
    },
    {
     "name": "stdout",
     "output_type": "stream",
     "text": [
      "epoch: 5/50, train_loss: 9.517449378967285, eval_score: 0.4994994994994995\n"
     ]
    },
    {
     "data": {
      "image/png": "[encoded data removed]",
      "text/plain": [
       "<Figure size 1080x360 with 2 Axes>"
      ]
     },
     "metadata": {
      "needs_background": "light"
     },
     "output_type": "display_data"
    }
   ],
   "source": [
    "designated_ukc_cls = 3\n",
    "num_classes = 2\n",
    "embedding_size=8\n",
    "lr_rate=3\n",
    "bglog = BGLog(save_padded_num_sequences=False, debug=True,  load_from_pkl=True, )\n",
    "train_test = bglog.get_tensor_train_val_test(ablation=5000, designated_ukc_cls=designated_ukc_cls )\n",
    "train_data, val_data, test_data = train_test\n",
    "line_encoder = LogLineEncoder(bglog, chars_in_line=64)\n",
    "logSeqencer =  LogSeqEncoder(line_in_seq=32, dense_neurons=embedding_size)\n",
    "ptmodel = LogClassifier(line_encoder=line_encoder, seq_encoder=logSeqencer, num_classes=num_classes)\n",
    "ptmodel.compile(optimizer='adam', loss='categorical_crossentropy',\n",
    "              metrics=['accuracy', tf.keras.metrics.Precision(), tf.keras.metrics.Recall()])\n",
    "hist = ptmodel.fit(train_data, validation_data=val_data, epochs=7)\n",
    "oset = OpenSet(num_classes, ptmodel, embedding_size=embedding_size)\n",
    "_, _ = oset.train(train_data, epochs=50, lr_rate=lr_rate, wait_patient=3,)\n"
   ]
  },
  {
   "cell_type": "code",
   "execution_count": 9,
   "id": "83d56d51-0bf8-46f7-b90f-49ec0f552f40",
   "metadata": {},
   "outputs": [
    {
     "name": "stdout",
     "output_type": "stream",
     "text": [
      "ablation set to : 5000\n",
      "padded_num_seq_df loaded from C:\\Users\\Bhujay_ROG\\MyDev\\OCLog\\oclog\\BGL\\data\\bgl_ukc.pkl\n",
      "trained tokenizer, tk, loaded from C:\\Users\\Bhujay_ROG\\MyDev\\OCLog\\oclog\\BGL\\data\\bgltkukc.pkl\n",
      "train_0:, 4000\n",
      "val_0:, 500\n",
      "test_0:, 500\n",
      "train_1:, 4000\n",
      "val_1:, 500\n",
      "test_1:, 500\n",
      "4049 data in class 2 not enough to split into train:4000 and validation:500, adding the entire data as ukc\n",
      "class 3 is added as ukc\n",
      "ukc_3:, 500\n",
      "628 data in class 4 not enough to split into train:4000 and validation:500, adding the entire data as ukc\n",
      "165 data in class 5 not enough to split into train:4000 and validation:500, adding the entire data as ukc\n",
      "75 data in class 6 not enough to split into train:4000 and validation:500, adding the entire data as ukc\n",
      "train: 0    4000\n",
      "1    4000\n",
      "Name: label, dtype: int64\n",
      "val: 0    500\n",
      "1    500\n",
      "Name: label, dtype: int64\n",
      "test: 0    500\n",
      "1    500\n",
      "3    500\n",
      "Name: label, dtype: int64\n",
      "[[1. 0.]\n",
      " [1. 0.]]\n",
      "some example of labels:\n",
      "[[1. 0. 0. 0.]\n",
      " [1. 0. 0. 0.]]\n",
      "[[1. 0.]\n",
      " [1. 0.]]\n",
      "<BatchDataset element_spec=(TensorSpec(shape=(32, 32, 64), dtype=tf.int32, name=None), TensorSpec(shape=(32, 2), dtype=tf.float32, name=None))>\n",
      "<BatchDataset element_spec=(TensorSpec(shape=(32, 32, 64), dtype=tf.int32, name=None), TensorSpec(shape=(32, 2), dtype=tf.float32, name=None))>\n",
      "<BatchDataset element_spec=(TensorSpec(shape=(32, 32, 64), dtype=tf.int32, name=None), TensorSpec(shape=(32, 4), dtype=tf.float32, name=None))>\n",
      "64\n",
      "2\n",
      "vocab_size: 50\n",
      "Epoch 1/7\n",
      "250/250 [==============================] - 28s 109ms/step - loss: 0.0224 - accuracy: 0.9886 - precision_2: 0.9886 - recall_2: 0.9886 - val_loss: 6.4243e-04 - val_accuracy: 1.0000 - val_precision_2: 1.0000 - val_recall_2: 1.0000\n",
      "Epoch 2/7\n",
      "250/250 [==============================] - 26s 102ms/step - loss: 3.4039e-06 - accuracy: 1.0000 - precision_2: 1.0000 - recall_2: 1.0000 - val_loss: 0.0053 - val_accuracy: 0.9970 - val_precision_2: 0.9970 - val_recall_2: 0.9970\n",
      "Epoch 3/7\n",
      "250/250 [==============================] - 26s 102ms/step - loss: 1.0827e-06 - accuracy: 1.0000 - precision_2: 1.0000 - recall_2: 1.0000 - val_loss: 0.0032 - val_accuracy: 0.9980 - val_precision_2: 0.9980 - val_recall_2: 0.9980\n",
      "Epoch 4/7\n",
      "250/250 [==============================] - 25s 101ms/step - loss: 5.6614e-07 - accuracy: 1.0000 - precision_2: 1.0000 - recall_2: 1.0000 - val_loss: 0.0033 - val_accuracy: 0.9980 - val_precision_2: 0.9980 - val_recall_2: 0.9980\n",
      "Epoch 5/7\n",
      "250/250 [==============================] - 26s 102ms/step - loss: 3.7660e-07 - accuracy: 1.0000 - precision_2: 1.0000 - recall_2: 1.0000 - val_loss: 0.0039 - val_accuracy: 0.9980 - val_precision_2: 0.9980 - val_recall_2: 0.9980\n",
      "Epoch 6/7\n",
      "250/250 [==============================] - 25s 102ms/step - loss: 2.6446e-07 - accuracy: 1.0000 - precision_2: 1.0000 - recall_2: 1.0000 - val_loss: 0.0042 - val_accuracy: 0.9980 - val_precision_2: 0.9980 - val_recall_2: 0.9980\n",
      "Epoch 7/7\n",
      "250/250 [==============================] - 26s 105ms/step - loss: 2.0299e-07 - accuracy: 1.0000 - precision_2: 1.0000 - recall_2: 1.0000 - val_loss: 0.0052 - val_accuracy: 0.9970 - val_precision_2: 0.9970 - val_recall_2: 0.9970\n"
     ]
    },
    {
     "name": "stderr",
     "output_type": "stream",
     "text": [
      "100%|████████████████████████████████████████████████████████████████████████████████| 250/250 [00:35<00:00,  7.05it/s]\n"
     ]
    },
    {
     "name": "stdout",
     "output_type": "stream",
     "text": [
      "epoch: 1/50, train_loss: 4.325394153594971, eval_score: 0.5\n"
     ]
    },
    {
     "name": "stderr",
     "output_type": "stream",
     "text": [
      "100%|████████████████████████████████████████████████████████████████████████████████| 250/250 [00:35<00:00,  7.03it/s]\n"
     ]
    },
    {
     "name": "stdout",
     "output_type": "stream",
     "text": [
      "epoch: 2/50, train_loss: 4.32535982131958, eval_score: 0.42404607631389485\n"
     ]
    },
    {
     "name": "stderr",
     "output_type": "stream",
     "text": [
      "100%|████████████████████████████████████████████████████████████████████████████████| 250/250 [00:35<00:00,  7.02it/s]\n"
     ]
    },
    {
     "name": "stdout",
     "output_type": "stream",
     "text": [
      "epoch: 3/50, train_loss: 4.325413227081299, eval_score: 0.9544462629569013\n"
     ]
    },
    {
     "name": "stderr",
     "output_type": "stream",
     "text": [
      "100%|████████████████████████████████████████████████████████████████████████████████| 250/250 [00:35<00:00,  7.03it/s]\n"
     ]
    },
    {
     "name": "stdout",
     "output_type": "stream",
     "text": [
      "epoch: 4/50, train_loss: 4.325409889221191, eval_score: 0.9544462629569013\n"
     ]
    },
    {
     "name": "stderr",
     "output_type": "stream",
     "text": [
      "100%|████████████████████████████████████████████████████████████████████████████████| 250/250 [00:35<00:00,  6.98it/s]\n"
     ]
    },
    {
     "name": "stdout",
     "output_type": "stream",
     "text": [
      "epoch: 5/50, train_loss: 4.325465202331543, eval_score: 0.42404607631389485\n"
     ]
    },
    {
     "name": "stderr",
     "output_type": "stream",
     "text": [
      "100%|████████████████████████████████████████████████████████████████████████████████| 250/250 [00:34<00:00,  7.26it/s]\n"
     ]
    },
    {
     "name": "stdout",
     "output_type": "stream",
     "text": [
      "epoch: 6/50, train_loss: 4.325425624847412, eval_score: 0.9548923412373945\n"
     ]
    },
    {
     "name": "stderr",
     "output_type": "stream",
     "text": [
      "100%|████████████████████████████████████████████████████████████████████████████████| 250/250 [00:34<00:00,  7.34it/s]\n"
     ]
    },
    {
     "name": "stdout",
     "output_type": "stream",
     "text": [
      "epoch: 7/50, train_loss: 4.325436592102051, eval_score: 0.9549666167052732\n"
     ]
    },
    {
     "name": "stderr",
     "output_type": "stream",
     "text": [
      "100%|████████████████████████████████████████████████████████████████████████████████| 250/250 [00:33<00:00,  7.36it/s]\n"
     ]
    },
    {
     "name": "stdout",
     "output_type": "stream",
     "text": [
      "epoch: 8/50, train_loss: 4.325387001037598, eval_score: 0.9550408719346049\n"
     ]
    },
    {
     "name": "stderr",
     "output_type": "stream",
     "text": [
      "100%|████████████████████████████████████████████████████████████████████████████████| 250/250 [00:34<00:00,  7.26it/s]\n"
     ]
    },
    {
     "name": "stdout",
     "output_type": "stream",
     "text": [
      "epoch: 9/50, train_loss: 4.325341701507568, eval_score: 0.0\n"
     ]
    },
    {
     "name": "stderr",
     "output_type": "stream",
     "text": [
      "100%|████████████████████████████████████████████████████████████████████████████████| 250/250 [00:34<00:00,  7.21it/s]\n"
     ]
    },
    {
     "name": "stdout",
     "output_type": "stream",
     "text": [
      "epoch: 10/50, train_loss: 4.325474739074707, eval_score: 0.42404607631389485\n"
     ]
    },
    {
     "name": "stderr",
     "output_type": "stream",
     "text": [
      "100%|████████████████████████████████████████████████████████████████████████████████| 250/250 [00:34<00:00,  7.29it/s]\n"
     ]
    },
    {
     "name": "stdout",
     "output_type": "stream",
     "text": [
      "epoch: 11/50, train_loss: 4.3255085945129395, eval_score: 0.42404607631389485\n"
     ]
    },
    {
     "data": {
      "image/png": "[encoded data removed]",
      "text/plain": [
       "<Figure size 1080x360 with 2 Axes>"
      ]
     },
     "metadata": {
      "needs_background": "light"
     },
     "output_type": "display_data"
    }
   ],
   "source": [
    "designated_ukc_cls = 3\n",
    "num_classes = 2\n",
    "embedding_size=128\n",
    "lr_rate=3\n",
    "optimizer='adam'\n",
    "bglog = BGLog(save_padded_num_sequences=False, debug=True,  load_from_pkl=True, )\n",
    "train_test = bglog.get_tensor_train_val_test(ablation=5000, designated_ukc_cls=designated_ukc_cls )\n",
    "train_data, val_data, test_data = train_test\n",
    "line_encoder = LogLineEncoder(bglog, chars_in_line=64)\n",
    "logSeqencer =  LogSeqEncoder(line_in_seq=32, dense_neurons=embedding_size)\n",
    "ptmodel = LogClassifier(line_encoder=line_encoder, seq_encoder=logSeqencer, num_classes=num_classes)\n",
    "ptmodel.compile(optimizer='adam', loss='categorical_crossentropy',\n",
    "              metrics=['accuracy', tf.keras.metrics.Precision(), tf.keras.metrics.Recall()])\n",
    "hist = ptmodel.fit(train_data, validation_data=val_data, epochs=7)\n",
    "oset = OpenSet(num_classes, ptmodel, embedding_size=embedding_size)\n",
    "_, _ = oset.train(train_data, epochs=50, lr_rate=lr_rate, wait_patient=3, optimizer=optimizer)"
   ]
  },
  {
   "cell_type": "code",
   "execution_count": 3,
   "id": "bf95b23f-fab7-42d4-a7b1-875abbf8beda",
   "metadata": {},
   "outputs": [
    {
     "name": "stdout",
     "output_type": "stream",
     "text": [
      "ablation set to : 5000\n",
      "padded_num_seq_df loaded from C:\\Users\\Bhujay_ROG\\MyDev\\OCLog\\oclog\\BGL\\data\\bgl_ukc.pkl\n",
      "trained tokenizer, tk, loaded from C:\\Users\\Bhujay_ROG\\MyDev\\OCLog\\oclog\\BGL\\data\\bgltkukc.pkl\n",
      "train_0:, 4000\n",
      "val_0:, 500\n",
      "test_0:, 500\n",
      "train_1:, 4000\n",
      "val_1:, 500\n",
      "test_1:, 500\n",
      "4049 data in class 2 not enough to split into train:4000 and validation:500, adding the entire data as ukc\n",
      "class 3 is added as ukc\n",
      "ukc_3:, 500\n",
      "628 data in class 4 not enough to split into train:4000 and validation:500, adding the entire data as ukc\n",
      "165 data in class 5 not enough to split into train:4000 and validation:500, adding the entire data as ukc\n",
      "75 data in class 6 not enough to split into train:4000 and validation:500, adding the entire data as ukc\n",
      "train: 0    4000\n",
      "1    4000\n",
      "Name: label, dtype: int64\n",
      "val: 0    500\n",
      "1    500\n",
      "Name: label, dtype: int64\n",
      "test: 0    500\n",
      "1    500\n",
      "3    500\n",
      "Name: label, dtype: int64\n",
      "[[1. 0.]\n",
      " [1. 0.]]\n",
      "some example of labels:\n",
      "[[1. 0. 0. 0.]\n",
      " [1. 0. 0. 0.]]\n",
      "[[1. 0.]\n",
      " [1. 0.]]\n",
      "<BatchDataset element_spec=(TensorSpec(shape=(32, 32, 64), dtype=tf.int32, name=None), TensorSpec(shape=(32, 2), dtype=tf.float32, name=None))>\n",
      "<BatchDataset element_spec=(TensorSpec(shape=(32, 32, 64), dtype=tf.int32, name=None), TensorSpec(shape=(32, 2), dtype=tf.float32, name=None))>\n",
      "<BatchDataset element_spec=(TensorSpec(shape=(32, 32, 64), dtype=tf.int32, name=None), TensorSpec(shape=(32, 4), dtype=tf.float32, name=None))>\n",
      "64\n",
      "2\n",
      "vocab_size: 50\n",
      "Epoch 1/3\n",
      "250/250 [==============================] - 25s 95ms/step - loss: 0.0226 - accuracy: 0.9909 - precision: 0.9909 - recall: 0.9909 - val_loss: 1.1308e-07 - val_accuracy: 1.0000 - val_precision: 1.0000 - val_recall: 1.0000\n",
      "Epoch 2/3\n",
      "250/250 [==============================] - 24s 95ms/step - loss: 5.2028e-06 - accuracy: 1.0000 - precision: 1.0000 - recall: 1.0000 - val_loss: 3.0992e-07 - val_accuracy: 1.0000 - val_precision: 1.0000 - val_recall: 1.0000\n",
      "Epoch 3/3\n",
      "250/250 [==============================] - 24s 97ms/step - loss: 5.1564e-07 - accuracy: 1.0000 - precision: 1.0000 - recall: 1.0000 - val_loss: 3.0547e-07 - val_accuracy: 1.0000 - val_precision: 1.0000 - val_recall: 1.0000\n"
     ]
    },
    {
     "name": "stderr",
     "output_type": "stream",
     "text": [
      "100%|████████████████████████████████████████████████████████████████████████████████| 250/250 [00:32<00:00,  7.64it/s]\n"
     ]
    },
    {
     "name": "stdout",
     "output_type": "stream",
     "text": [
      "epoch: 1/50, train_loss: 4.294132232666016, eval_score: 0.4445987225770619\n"
     ]
    },
    {
     "name": "stderr",
     "output_type": "stream",
     "text": [
      "100%|████████████████████████████████████████████████████████████████████████████████| 250/250 [00:32<00:00,  7.63it/s]\n"
     ]
    },
    {
     "name": "stdout",
     "output_type": "stream",
     "text": [
      "epoch: 2/50, train_loss: 4.294111728668213, eval_score: 0.4474374913662108\n"
     ]
    },
    {
     "name": "stderr",
     "output_type": "stream",
     "text": [
      "100%|████████████████████████████████████████████████████████████████████████████████| 250/250 [00:32<00:00,  7.65it/s]\n"
     ]
    },
    {
     "name": "stdout",
     "output_type": "stream",
     "text": [
      "epoch: 3/50, train_loss: 4.294133186340332, eval_score: 0.4474374913662108\n"
     ]
    },
    {
     "name": "stderr",
     "output_type": "stream",
     "text": [
      "100%|████████████████████████████████████████████████████████████████████████████████| 250/250 [00:33<00:00,  7.56it/s]\n"
     ]
    },
    {
     "name": "stdout",
     "output_type": "stream",
     "text": [
      "epoch: 4/50, train_loss: 4.294143199920654, eval_score: 0.4490358126721763\n"
     ]
    },
    {
     "name": "stderr",
     "output_type": "stream",
     "text": [
      "100%|████████████████████████████████████████████████████████████████████████████████| 250/250 [00:33<00:00,  7.37it/s]\n"
     ]
    },
    {
     "name": "stdout",
     "output_type": "stream",
     "text": [
      "epoch: 5/50, train_loss: 4.294092178344727, eval_score: 0.4479712945073144\n"
     ]
    },
    {
     "name": "stderr",
     "output_type": "stream",
     "text": [
      "100%|████████████████████████████████████████████████████████████████████████████████| 250/250 [00:32<00:00,  7.68it/s]\n"
     ]
    },
    {
     "name": "stdout",
     "output_type": "stream",
     "text": [
      "epoch: 6/50, train_loss: 4.2941060066223145, eval_score: 0.4453688297282308\n"
     ]
    },
    {
     "name": "stderr",
     "output_type": "stream",
     "text": [
      "100%|████████████████████████████████████████████████████████████████████████████████| 250/250 [00:33<00:00,  7.53it/s]\n"
     ]
    },
    {
     "name": "stdout",
     "output_type": "stream",
     "text": [
      "epoch: 7/50, train_loss: 4.294089317321777, eval_score: 0.4501718213058419\n"
     ]
    },
    {
     "name": "stderr",
     "output_type": "stream",
     "text": [
      "100%|████████████████████████████████████████████████████████████████████████████████| 250/250 [00:32<00:00,  7.61it/s]\n"
     ]
    },
    {
     "name": "stdout",
     "output_type": "stream",
     "text": [
      "epoch: 8/50, train_loss: 4.294166088104248, eval_score: 0.4490358126721763\n"
     ]
    },
    {
     "name": "stderr",
     "output_type": "stream",
     "text": [
      "100%|████████████████████████████████████████████████████████████████████████████████| 250/250 [00:32<00:00,  7.63it/s]\n"
     ]
    },
    {
     "name": "stdout",
     "output_type": "stream",
     "text": [
      "epoch: 9/50, train_loss: 4.2940897941589355, eval_score: 0.4490358126721763\n"
     ]
    },
    {
     "name": "stderr",
     "output_type": "stream",
     "text": [
      "100%|████████████████████████████████████████████████████████████████████████████████| 250/250 [00:32<00:00,  7.58it/s]\n"
     ]
    },
    {
     "name": "stdout",
     "output_type": "stream",
     "text": [
      "epoch: 10/50, train_loss: 4.294095993041992, eval_score: 0.4507757792118633\n"
     ]
    },
    {
     "name": "stderr",
     "output_type": "stream",
     "text": [
      "100%|████████████████████████████████████████████████████████████████████████████████| 250/250 [00:32<00:00,  7.62it/s]\n"
     ]
    },
    {
     "name": "stdout",
     "output_type": "stream",
     "text": [
      "epoch: 11/50, train_loss: 4.294108867645264, eval_score: 0.4453688297282308\n"
     ]
    },
    {
     "name": "stderr",
     "output_type": "stream",
     "text": [
      "100%|████████████████████████████████████████████████████████████████████████████████| 250/250 [00:32<00:00,  7.62it/s]\n"
     ]
    },
    {
     "name": "stdout",
     "output_type": "stream",
     "text": [
      "epoch: 12/50, train_loss: 4.2940993309021, eval_score: 0.4501718213058419\n"
     ]
    },
    {
     "name": "stderr",
     "output_type": "stream",
     "text": [
      "100%|████████████████████████████████████████████████████████████████████████████████| 250/250 [00:32<00:00,  7.59it/s]\n"
     ]
    },
    {
     "name": "stdout",
     "output_type": "stream",
     "text": [
      "epoch: 13/50, train_loss: 4.294157028198242, eval_score: 0.4490358126721763\n"
     ]
    },
    {
     "data": {
      "image/png": "[encoded data removed]",
      "text/plain": [
       "<Figure size 1080x360 with 2 Axes>"
      ]
     },
     "metadata": {
      "needs_background": "light"
     },
     "output_type": "display_data"
    }
   ],
   "source": [
    "ablation=5000\n",
    "designated_ukc_cls = 3\n",
    "num_classes = 2\n",
    "embedding_size=128\n",
    "lr_rate=3\n",
    "optimizer='sgd'\n",
    "pretrain_epochs=3\n",
    "octrain_epochs=50\n",
    "wait_patient=3\n",
    "bglog = BGLog(save_padded_num_sequences=False, debug=True,  load_from_pkl=True, )\n",
    "train_test = bglog.get_tensor_train_val_test(ablation=ablation, designated_ukc_cls=designated_ukc_cls )\n",
    "train_data, val_data, test_data = train_test\n",
    "line_encoder = LogLineEncoder(bglog, chars_in_line=64)\n",
    "logSeqencer =  LogSeqEncoder(line_in_seq=32, dense_neurons=embedding_size)\n",
    "ptmodel = LogClassifier(line_encoder=line_encoder, seq_encoder=logSeqencer, num_classes=num_classes)\n",
    "ptmodel.compile(optimizer='adam', loss='categorical_crossentropy',\n",
    "              metrics=['accuracy', tf.keras.metrics.Precision(), tf.keras.metrics.Recall()])\n",
    "hist = ptmodel.fit(train_data, validation_data=val_data, epochs=pretrain_epochs)\n",
    "oset = OpenSet(num_classes, ptmodel, embedding_size=embedding_size)\n",
    "_, _ = oset.train(train_data, epochs=octrain_epochs, lr_rate=lr_rate, wait_patient=wait_patient, optimizer=optimizer)"
   ]
  },
  {
   "cell_type": "code",
   "execution_count": 12,
   "id": "dc589051-52ad-4185-b38c-ed5564325d08",
   "metadata": {},
   "outputs": [],
   "source": [
    "ablation=5000\n",
    "designated_ukc_cls = 3\n",
    "num_classes = 2\n",
    "embedding_size=128\n",
    "lr_rate=3\n",
    "optimizer='sgd'\n",
    "pretrain_epochs=3\n",
    "octrain_epochs=50\n",
    "wait_patient=3\n",
    "def oset_train(ablation=5000,designated_ukc_cls=3,num_classes=2,embedding_size=128,lr_rate=3,optimizer='sgd',\n",
    "pretrain_epochs=3,octrain_epochs=50,wait_patient=3):\n",
    "    bglog = BGLog(save_padded_num_sequences=False, debug=True,  load_from_pkl=True, )\n",
    "    train_test = bglog.get_tensor_train_val_test(ablation=ablation, designated_ukc_cls=designated_ukc_cls )\n",
    "    train_data, val_data, test_data = train_test\n",
    "    line_encoder = LogLineEncoder(bglog, chars_in_line=64)\n",
    "    logSeqencer =  LogSeqEncoder(line_in_seq=32, dense_neurons=embedding_size)\n",
    "    ptmodel = LogClassifier(line_encoder=line_encoder, seq_encoder=logSeqencer, num_classes=num_classes)\n",
    "    ptmodel.compile(optimizer='adam', loss='categorical_crossentropy',\n",
    "                  metrics=['accuracy', tf.keras.metrics.Precision(), tf.keras.metrics.Recall()])\n",
    "    hist = ptmodel.fit(train_data, validation_data=val_data, epochs=pretrain_epochs)\n",
    "    oset = OpenSet(num_classes, ptmodel, embedding_size=embedding_size)\n",
    "    _, _ = oset.train(train_data,data_val=val_data, epochs=octrain_epochs, lr_rate=lr_rate, wait_patient=wait_patient, optimizer=optimizer)\n",
    "    y_true, y_pred, _ = oset.evaluate(test_data)\n",
    "    return test_data, oset"
   ]
  },
  {
   "cell_type": "code",
   "execution_count": 7,
   "id": "4dd484ce-dfaf-41cd-90a0-869b01499167",
   "metadata": {},
   "outputs": [
    {
     "name": "stdout",
     "output_type": "stream",
     "text": [
      "ablation set to : 4000\n",
      "padded_num_seq_df loaded from C:\\Users\\Bhujay_ROG\\MyDev\\OCLog\\oclog\\BGL\\data\\bgl_ukc.pkl\n",
      "trained tokenizer, tk, loaded from C:\\Users\\Bhujay_ROG\\MyDev\\OCLog\\oclog\\BGL\\data\\bgltkukc.pkl\n",
      "train_0:, 3200\n",
      "val_0:, 400\n",
      "test_0:, 400\n",
      "train_1:, 3200\n",
      "val_1:, 400\n",
      "test_1:, 400\n",
      "train_2:, 3200\n",
      "val_2:, 400\n",
      "test_2:, 400\n",
      "902 data in class 3 not enough to split into train:3200 and validation:400, adding the entire data as ukc\n",
      "class 4 is added as ukc\n",
      "ukc_4:, 400\n",
      "165 data in class 5 not enough to split into train:3200 and validation:400, adding the entire data as ukc\n",
      "75 data in class 6 not enough to split into train:3200 and validation:400, adding the entire data as ukc\n",
      "train: 0    3200\n",
      "1    3200\n",
      "2    3200\n",
      "Name: label, dtype: int64\n",
      "val: 0    400\n",
      "1    400\n",
      "2    400\n",
      "Name: label, dtype: int64\n",
      "test: 0    400\n",
      "1    400\n",
      "2    400\n",
      "4    400\n",
      "Name: label, dtype: int64\n",
      "[[1. 0. 0.]\n",
      " [1. 0. 0.]]\n",
      "some example of labels:\n",
      "[[1. 0. 0. 0. 0.]\n",
      " [1. 0. 0. 0. 0.]]\n",
      "[[1. 0. 0.]\n",
      " [1. 0. 0.]]\n",
      "<BatchDataset element_spec=(TensorSpec(shape=(32, 32, 64), dtype=tf.int32, name=None), TensorSpec(shape=(32, 3), dtype=tf.float32, name=None))>\n",
      "<BatchDataset element_spec=(TensorSpec(shape=(32, 32, 64), dtype=tf.int32, name=None), TensorSpec(shape=(32, 3), dtype=tf.float32, name=None))>\n",
      "<BatchDataset element_spec=(TensorSpec(shape=(32, 32, 64), dtype=tf.int32, name=None), TensorSpec(shape=(32, 5), dtype=tf.float32, name=None))>\n",
      "64\n",
      "3\n",
      "vocab_size: 50\n",
      "Epoch 1/3\n",
      "300/300 [==============================] - 30s 97ms/step - loss: 0.0415 - accuracy: 0.9856 - precision_1: 0.9945 - recall_1: 0.9780 - val_loss: 1.9935e-06 - val_accuracy: 1.0000 - val_precision_1: 1.0000 - val_recall_1: 1.0000\n",
      "Epoch 2/3\n",
      "300/300 [==============================] - 29s 98ms/step - loss: 0.0094 - accuracy: 0.9976 - precision_1: 0.9976 - recall_1: 0.9976 - val_loss: 0.0026 - val_accuracy: 1.0000 - val_precision_1: 1.0000 - val_recall_1: 1.0000\n",
      "Epoch 3/3\n",
      "300/300 [==============================] - 29s 97ms/step - loss: 2.5887e-04 - accuracy: 0.9998 - precision_1: 0.9998 - recall_1: 0.9998 - val_loss: 1.0043e-04 - val_accuracy: 1.0000 - val_precision_1: 1.0000 - val_recall_1: 1.0000\n"
     ]
    },
    {
     "name": "stderr",
     "output_type": "stream",
     "text": [
      "100%|████████████████████████████████████████████████████████████████████████████████| 300/300 [00:42<00:00,  7.09it/s]\n"
     ]
    },
    {
     "name": "stdout",
     "output_type": "stream",
     "text": [
      "epoch: 1/50, train_loss: 2.9195125102996826, eval_score: 0.916983161300851\n"
     ]
    },
    {
     "name": "stderr",
     "output_type": "stream",
     "text": [
      "100%|████████████████████████████████████████████████████████████████████████████████| 300/300 [00:41<00:00,  7.31it/s]\n"
     ]
    },
    {
     "name": "stdout",
     "output_type": "stream",
     "text": [
      "epoch: 2/50, train_loss: 2.9194819927215576, eval_score: 0.9372673321730682\n"
     ]
    },
    {
     "name": "stderr",
     "output_type": "stream",
     "text": [
      "100%|████████████████████████████████████████████████████████████████████████████████| 300/300 [00:40<00:00,  7.32it/s]\n"
     ]
    },
    {
     "name": "stdout",
     "output_type": "stream",
     "text": [
      "epoch: 3/50, train_loss: 2.919602394104004, eval_score: 0.9561972113145142\n"
     ]
    },
    {
     "name": "stderr",
     "output_type": "stream",
     "text": [
      "100%|████████████████████████████████████████████████████████████████████████████████| 300/300 [00:41<00:00,  7.30it/s]\n"
     ]
    },
    {
     "name": "stdout",
     "output_type": "stream",
     "text": [
      "epoch: 4/50, train_loss: 2.919618844985962, eval_score: 0.9609751278432501\n"
     ]
    },
    {
     "name": "stderr",
     "output_type": "stream",
     "text": [
      "100%|████████████████████████████████████████████████████████████████████████████████| 300/300 [00:42<00:00,  7.12it/s]\n"
     ]
    },
    {
     "name": "stdout",
     "output_type": "stream",
     "text": [
      "epoch: 5/50, train_loss: 2.9196839332580566, eval_score: 0.9622346548544886\n"
     ]
    },
    {
     "name": "stderr",
     "output_type": "stream",
     "text": [
      "100%|████████████████████████████████████████████████████████████████████████████████| 300/300 [00:41<00:00,  7.15it/s]\n"
     ]
    },
    {
     "name": "stdout",
     "output_type": "stream",
     "text": [
      "epoch: 6/50, train_loss: 2.919703960418701, eval_score: 0.9625951087747892\n"
     ]
    },
    {
     "name": "stderr",
     "output_type": "stream",
     "text": [
      "100%|████████████████████████████████████████████████████████████████████████████████| 300/300 [00:40<00:00,  7.39it/s]\n"
     ]
    },
    {
     "name": "stdout",
     "output_type": "stream",
     "text": [
      "epoch: 7/50, train_loss: 2.919555902481079, eval_score: 0.962659108834949\n"
     ]
    },
    {
     "name": "stderr",
     "output_type": "stream",
     "text": [
      "100%|████████████████████████████████████████████████████████████████████████████████| 300/300 [00:40<00:00,  7.39it/s]\n"
     ]
    },
    {
     "name": "stdout",
     "output_type": "stream",
     "text": [
      "epoch: 8/50, train_loss: 2.9195609092712402, eval_score: 0.9627755217704128\n"
     ]
    },
    {
     "name": "stderr",
     "output_type": "stream",
     "text": [
      "100%|████████████████████████████████████████████████████████████████████████████████| 300/300 [00:40<00:00,  7.40it/s]\n"
     ]
    },
    {
     "name": "stdout",
     "output_type": "stream",
     "text": [
      "epoch: 9/50, train_loss: 2.9196717739105225, eval_score: 0.9629963897610967\n"
     ]
    },
    {
     "name": "stderr",
     "output_type": "stream",
     "text": [
      "100%|████████████████████████████████████████████████████████████████████████████████| 300/300 [00:40<00:00,  7.40it/s]\n"
     ]
    },
    {
     "name": "stdout",
     "output_type": "stream",
     "text": [
      "epoch: 10/50, train_loss: 2.919571876525879, eval_score: 0.9632058343112863\n"
     ]
    },
    {
     "name": "stderr",
     "output_type": "stream",
     "text": [
      "100%|████████████████████████████████████████████████████████████████████████████████| 300/300 [00:40<00:00,  7.38it/s]\n"
     ]
    },
    {
     "name": "stdout",
     "output_type": "stream",
     "text": [
      "epoch: 11/50, train_loss: 2.9196853637695312, eval_score: 0.9632581544520142\n"
     ]
    },
    {
     "name": "stderr",
     "output_type": "stream",
     "text": [
      "100%|████████████████████████████████████████████████████████████████████████████████| 300/300 [00:40<00:00,  7.35it/s]\n"
     ]
    },
    {
     "name": "stdout",
     "output_type": "stream",
     "text": [
      "epoch: 12/50, train_loss: 2.9195938110351562, eval_score: 0.9632581544520142\n"
     ]
    },
    {
     "name": "stderr",
     "output_type": "stream",
     "text": [
      "100%|████████████████████████████████████████████████████████████████████████████████| 300/300 [00:40<00:00,  7.36it/s]\n"
     ]
    },
    {
     "name": "stdout",
     "output_type": "stream",
     "text": [
      "epoch: 13/50, train_loss: 2.919670343399048, eval_score: 0.9633220880531336\n"
     ]
    },
    {
     "name": "stderr",
     "output_type": "stream",
     "text": [
      "100%|████████████████████████████████████████████████████████████████████████████████| 300/300 [00:41<00:00,  7.30it/s]\n"
     ]
    },
    {
     "name": "stdout",
     "output_type": "stream",
     "text": [
      "epoch: 14/50, train_loss: 2.9195263385772705, eval_score: 0.9633220880531336\n"
     ]
    },
    {
     "name": "stderr",
     "output_type": "stream",
     "text": [
      "100%|████████████████████████████████████████████████████████████████████████████████| 300/300 [00:40<00:00,  7.39it/s]\n"
     ]
    },
    {
     "name": "stdout",
     "output_type": "stream",
     "text": [
      "epoch: 15/50, train_loss: 2.9196012020111084, eval_score: 0.9633220880531336\n"
     ]
    },
    {
     "name": "stderr",
     "output_type": "stream",
     "text": [
      "100%|████████████████████████████████████████████████████████████████████████████████| 300/300 [00:40<00:00,  7.39it/s]\n"
     ]
    },
    {
     "name": "stdout",
     "output_type": "stream",
     "text": [
      "epoch: 16/50, train_loss: 2.919496536254883, eval_score: 0.9633220880531336\n"
     ]
    },
    {
     "data": {
      "image/png": "[encoded data removed]",
      "text/plain": [
       "<Figure size 1080x360 with 2 Axes>"
      ]
     },
     "metadata": {
      "needs_background": "light"
     },
     "output_type": "display_data"
    }
   ],
   "source": [
    "_, oset = oset_train(ablation=4000,designated_ukc_cls=4,num_classes=3,embedding_size=128,lr_rate=3,optimizer='adam',\n",
    "pretrain_epochs=3,octrain_epochs=50,wait_patient=3)"
   ]
  },
  {
   "cell_type": "code",
   "execution_count": 8,
   "id": "aa7866d0-e92f-442a-acea-3a432a8cdede",
   "metadata": {},
   "outputs": [
    {
     "name": "stdout",
     "output_type": "stream",
     "text": [
      "[[473   0   0   0  16]\n",
      " [  0 491   0   0   0]\n",
      " [  0   0   0   0   0]\n",
      " [  0   1 461   0  30]\n",
      " [  0   0   0   0   0]]\n",
      "65.49\n",
      "f1_weighted: 0.6598963671969721, f1_macro: 0.3964701378740036, f1_micro: 0.654891304347826, f_measure: {'Known': 49.5588, 'Open': 0, 'F1-score': 39.647}\n",
      "              precision    recall  f1-score   support\n",
      "\n",
      "           0       1.00      0.97      0.98       489\n",
      "           1       1.00      1.00      1.00       491\n",
      "           2       0.00      0.00      0.00         0\n",
      "           3       0.00      0.00      0.00       492\n",
      "         999       0.00      0.00      0.00         0\n",
      "\n",
      "    accuracy                           0.65      1472\n",
      "   macro avg       0.40      0.39      0.40      1472\n",
      "weighted avg       0.67      0.65      0.66      1472\n",
      "\n"
     ]
    }
   ],
   "source": [
    "y_true, y_pred, _ = oset.evaluate(test_data)"
   ]
  },
  {
   "cell_type": "code",
   "execution_count": 11,
   "id": "cc626011-1476-4866-855a-c3a0e9b738fc",
   "metadata": {},
   "outputs": [
    {
     "name": "stdout",
     "output_type": "stream",
     "text": [
      "ablation set to : 4000\n",
      "padded_num_seq_df loaded from C:\\Users\\Bhujay_ROG\\MyDev\\OCLog\\oclog\\BGL\\data\\bgl_ukc.pkl\n",
      "trained tokenizer, tk, loaded from C:\\Users\\Bhujay_ROG\\MyDev\\OCLog\\oclog\\BGL\\data\\bgltkukc.pkl\n",
      "train_0:, 3200\n",
      "val_0:, 400\n",
      "test_0:, 400\n",
      "train_1:, 3200\n",
      "val_1:, 400\n",
      "test_1:, 400\n",
      "train_2:, 3200\n",
      "val_2:, 400\n",
      "test_2:, 400\n",
      "902 data in class 3 not enough to split into train:3200 and validation:400, adding the entire data as ukc\n",
      "class 4 is added as ukc\n",
      "ukc_4:, 400\n",
      "165 data in class 5 not enough to split into train:3200 and validation:400, adding the entire data as ukc\n",
      "75 data in class 6 not enough to split into train:3200 and validation:400, adding the entire data as ukc\n",
      "train: 0    3200\n",
      "1    3200\n",
      "2    3200\n",
      "Name: label, dtype: int64\n",
      "val: 0    400\n",
      "1    400\n",
      "2    400\n",
      "Name: label, dtype: int64\n",
      "test: 0    400\n",
      "1    400\n",
      "2    400\n",
      "4    400\n",
      "Name: label, dtype: int64\n",
      "[[1. 0. 0.]\n",
      " [1. 0. 0.]]\n",
      "some example of labels:\n",
      "[[1. 0. 0. 0. 0.]\n",
      " [1. 0. 0. 0. 0.]]\n",
      "[[1. 0. 0.]\n",
      " [1. 0. 0.]]\n",
      "<BatchDataset element_spec=(TensorSpec(shape=(32, 32, 64), dtype=tf.int32, name=None), TensorSpec(shape=(32, 3), dtype=tf.float32, name=None))>\n",
      "<BatchDataset element_spec=(TensorSpec(shape=(32, 32, 64), dtype=tf.int32, name=None), TensorSpec(shape=(32, 3), dtype=tf.float32, name=None))>\n",
      "<BatchDataset element_spec=(TensorSpec(shape=(32, 32, 64), dtype=tf.int32, name=None), TensorSpec(shape=(32, 5), dtype=tf.float32, name=None))>\n",
      "64\n",
      "3\n",
      "vocab_size: 50\n",
      "Epoch 1/3\n",
      "300/300 [==============================] - 30s 97ms/step - loss: 0.0451 - accuracy: 0.9848 - precision_2: 0.9930 - recall_2: 0.9730 - val_loss: 4.3066e-05 - val_accuracy: 1.0000 - val_precision_2: 1.0000 - val_recall_2: 1.0000\n",
      "Epoch 2/3\n",
      "300/300 [==============================] - 29s 96ms/step - loss: 0.0012 - accuracy: 0.9997 - precision_2: 0.9998 - recall_2: 0.9997 - val_loss: 9.2256e-06 - val_accuracy: 1.0000 - val_precision_2: 1.0000 - val_recall_2: 1.0000\n",
      "Epoch 3/3\n",
      "300/300 [==============================] - 29s 97ms/step - loss: 0.0634 - accuracy: 0.9872 - precision_2: 0.9873 - recall_2: 0.9872 - val_loss: 8.2811e-05 - val_accuracy: 1.0000 - val_precision_2: 1.0000 - val_recall_2: 1.0000\n"
     ]
    },
    {
     "name": "stderr",
     "output_type": "stream",
     "text": [
      "100%|████████████████████████████████████████████████████████████████████████████████| 300/300 [00:40<00:00,  7.33it/s]\n"
     ]
    },
    {
     "name": "stdout",
     "output_type": "stream",
     "text": [
      "epoch: 1/50, train_loss: 10.224749565124512, eval_score: 0.3731431355008175\n"
     ]
    },
    {
     "name": "stderr",
     "output_type": "stream",
     "text": [
      "100%|████████████████████████████████████████████████████████████████████████████████| 300/300 [00:40<00:00,  7.33it/s]\n"
     ]
    },
    {
     "name": "stdout",
     "output_type": "stream",
     "text": [
      "epoch: 2/50, train_loss: 10.224747657775879, eval_score: 0.5972276567664\n"
     ]
    },
    {
     "name": "stderr",
     "output_type": "stream",
     "text": [
      "100%|████████████████████████████████████████████████████████████████████████████████| 300/300 [00:40<00:00,  7.34it/s]\n"
     ]
    },
    {
     "name": "stdout",
     "output_type": "stream",
     "text": [
      "epoch: 3/50, train_loss: 10.224748611450195, eval_score: 0.6072109375683045\n"
     ]
    },
    {
     "name": "stderr",
     "output_type": "stream",
     "text": [
      "100%|████████████████████████████████████████████████████████████████████████████████| 300/300 [00:41<00:00,  7.19it/s]\n"
     ]
    },
    {
     "name": "stdout",
     "output_type": "stream",
     "text": [
      "epoch: 4/50, train_loss: 10.224749565124512, eval_score: 0.6118481331323827\n"
     ]
    },
    {
     "name": "stderr",
     "output_type": "stream",
     "text": [
      "100%|████████████████████████████████████████████████████████████████████████████████| 300/300 [00:41<00:00,  7.19it/s]\n"
     ]
    },
    {
     "name": "stdout",
     "output_type": "stream",
     "text": [
      "epoch: 5/50, train_loss: 10.224740982055664, eval_score: 0.6152558237594302\n"
     ]
    },
    {
     "name": "stderr",
     "output_type": "stream",
     "text": [
      "100%|████████████████████████████████████████████████████████████████████████████████| 300/300 [00:43<00:00,  6.96it/s]\n"
     ]
    },
    {
     "name": "stdout",
     "output_type": "stream",
     "text": [
      "epoch: 6/50, train_loss: 10.224753379821777, eval_score: 0.6171480612395411\n"
     ]
    },
    {
     "name": "stderr",
     "output_type": "stream",
     "text": [
      "100%|████████████████████████████████████████████████████████████████████████████████| 300/300 [00:41<00:00,  7.22it/s]\n"
     ]
    },
    {
     "name": "stdout",
     "output_type": "stream",
     "text": [
      "epoch: 7/50, train_loss: 10.224750518798828, eval_score: 0.62083856077182\n"
     ]
    },
    {
     "name": "stderr",
     "output_type": "stream",
     "text": [
      "100%|████████████████████████████████████████████████████████████████████████████████| 300/300 [00:42<00:00,  7.07it/s]\n"
     ]
    },
    {
     "name": "stdout",
     "output_type": "stream",
     "text": [
      "epoch: 8/50, train_loss: 10.224750518798828, eval_score: 0.6222789774741402\n"
     ]
    },
    {
     "name": "stderr",
     "output_type": "stream",
     "text": [
      "100%|████████████████████████████████████████████████████████████████████████████████| 300/300 [00:41<00:00,  7.19it/s]\n"
     ]
    },
    {
     "name": "stdout",
     "output_type": "stream",
     "text": [
      "epoch: 9/50, train_loss: 10.224750518798828, eval_score: 0.623550084849001\n"
     ]
    },
    {
     "name": "stderr",
     "output_type": "stream",
     "text": [
      "100%|████████████████████████████████████████████████████████████████████████████████| 300/300 [00:42<00:00,  7.14it/s]\n"
     ]
    },
    {
     "name": "stdout",
     "output_type": "stream",
     "text": [
      "epoch: 10/50, train_loss: 10.224748611450195, eval_score: 0.6244470538087855\n"
     ]
    },
    {
     "name": "stderr",
     "output_type": "stream",
     "text": [
      "100%|████████████████████████████████████████████████████████████████████████████████| 300/300 [00:41<00:00,  7.23it/s]\n"
     ]
    },
    {
     "name": "stdout",
     "output_type": "stream",
     "text": [
      "epoch: 11/50, train_loss: 10.224746704101562, eval_score: 0.6250257225370702\n"
     ]
    },
    {
     "name": "stderr",
     "output_type": "stream",
     "text": [
      "100%|████████████████████████████████████████████████████████████████████████████████| 300/300 [00:41<00:00,  7.21it/s]\n"
     ]
    },
    {
     "name": "stdout",
     "output_type": "stream",
     "text": [
      "epoch: 12/50, train_loss: 10.224747657775879, eval_score: 0.6255506441976384\n"
     ]
    },
    {
     "name": "stderr",
     "output_type": "stream",
     "text": [
      "100%|████████████████████████████████████████████████████████████████████████████████| 300/300 [00:41<00:00,  7.23it/s]\n"
     ]
    },
    {
     "name": "stdout",
     "output_type": "stream",
     "text": [
      "epoch: 13/50, train_loss: 10.224745750427246, eval_score: 0.6257471105416951\n"
     ]
    },
    {
     "name": "stderr",
     "output_type": "stream",
     "text": [
      "100%|████████████████████████████████████████████████████████████████████████████████| 300/300 [00:41<00:00,  7.31it/s]\n"
     ]
    },
    {
     "name": "stdout",
     "output_type": "stream",
     "text": [
      "epoch: 14/50, train_loss: 10.224750518798828, eval_score: 0.6260478634681328\n"
     ]
    },
    {
     "name": "stderr",
     "output_type": "stream",
     "text": [
      "100%|████████████████████████████████████████████████████████████████████████████████| 300/300 [00:40<00:00,  7.35it/s]\n"
     ]
    },
    {
     "name": "stdout",
     "output_type": "stream",
     "text": [
      "epoch: 15/50, train_loss: 10.224745750427246, eval_score: 0.6261785889586557\n"
     ]
    },
    {
     "name": "stderr",
     "output_type": "stream",
     "text": [
      "100%|████████████████████████████████████████████████████████████████████████████████| 300/300 [00:43<00:00,  6.88it/s]\n"
     ]
    },
    {
     "name": "stdout",
     "output_type": "stream",
     "text": [
      "epoch: 16/50, train_loss: 10.224747657775879, eval_score: 0.6263614449248872\n"
     ]
    },
    {
     "name": "stderr",
     "output_type": "stream",
     "text": [
      "100%|████████████████████████████████████████████████████████████████████████████████| 300/300 [00:40<00:00,  7.34it/s]\n"
     ]
    },
    {
     "name": "stdout",
     "output_type": "stream",
     "text": [
      "epoch: 17/50, train_loss: 10.224752426147461, eval_score: 0.626426727654802\n"
     ]
    },
    {
     "name": "stderr",
     "output_type": "stream",
     "text": [
      "100%|████████████████████████████████████████████████████████████████████████████████| 300/300 [00:41<00:00,  7.26it/s]\n"
     ]
    },
    {
     "name": "stdout",
     "output_type": "stream",
     "text": [
      "epoch: 18/50, train_loss: 10.224750518798828, eval_score: 0.6264919875506036\n"
     ]
    },
    {
     "name": "stderr",
     "output_type": "stream",
     "text": [
      "100%|████████████████████████████████████████████████████████████████████████████████| 300/300 [00:41<00:00,  7.29it/s]\n"
     ]
    },
    {
     "name": "stdout",
     "output_type": "stream",
     "text": [
      "epoch: 19/50, train_loss: 10.224753379821777, eval_score: 0.6264919875506036\n"
     ]
    },
    {
     "name": "stderr",
     "output_type": "stream",
     "text": [
      "100%|████████████████████████████████████████████████████████████████████████████████| 300/300 [00:41<00:00,  7.31it/s]\n"
     ]
    },
    {
     "name": "stdout",
     "output_type": "stream",
     "text": [
      "epoch: 20/50, train_loss: 10.224748611450195, eval_score: 0.6264919875506036\n"
     ]
    },
    {
     "name": "stderr",
     "output_type": "stream",
     "text": [
      "100%|████████████████████████████████████████████████████████████████████████████████| 300/300 [00:41<00:00,  7.30it/s]\n"
     ]
    },
    {
     "name": "stdout",
     "output_type": "stream",
     "text": [
      "epoch: 21/50, train_loss: 10.224750518798828, eval_score: 0.6264919875506036\n"
     ]
    },
    {
     "data": {
      "image/png": "[encoded data removed]",
      "text/plain": [
       "<Figure size 1080x360 with 2 Axes>"
      ]
     },
     "metadata": {
      "needs_background": "light"
     },
     "output_type": "display_data"
    },
    {
     "name": "stdout",
     "output_type": "stream",
     "text": [
      "[[395   0   0   0   5]\n",
      " [  0   0   0   0 400]\n",
      " [  0   0 316   0  84]\n",
      " [  0   0 250   0 150]\n",
      " [  0   0   0   0   0]]\n",
      "44.44\n",
      "f1_weighted: 0.4119887495605298, f1_macro: 0.32959099964842375, f1_micro: 0.444375, f_measure: {'Known': 41.1989, 'Open': 0, 'F1-score': 32.9591}\n",
      "              precision    recall  f1-score   support\n",
      "\n",
      "           0       1.00      0.99      0.99       400\n",
      "           1       0.00      0.00      0.00       400\n",
      "           2       0.56      0.79      0.65       400\n",
      "           4       0.00      0.00      0.00       400\n",
      "         999       0.00      0.00      0.00         0\n",
      "\n",
      "    accuracy                           0.44      1600\n",
      "   macro avg       0.31      0.36      0.33      1600\n",
      "weighted avg       0.39      0.44      0.41      1600\n",
      "\n"
     ]
    }
   ],
   "source": [
    "test_data, oset = oset_train(ablation=4000,designated_ukc_cls=4,num_classes=3,embedding_size=256,lr_rate=3,optimizer='adam',\n",
    "pretrain_epochs=3,octrain_epochs=50,wait_patient=3)"
   ]
  },
  {
   "cell_type": "code",
   "execution_count": null,
   "id": "9f110255-e914-432c-92ef-fa665de2afab",
   "metadata": {},
   "outputs": [],
   "source": [
    "test_data, oset = oset_train(ablation=4000,designated_ukc_cls=4,num_classes=3,embedding_size=256,lr_rate=5,optimizer='adam',\n",
    "pretrain_epochs=3,octrain_epochs=50,wait_patient=3)"
   ]
  },
  {
   "cell_type": "code",
   "execution_count": null,
   "id": "62bfa368-fdf9-4d5a-9ded-4afc9deba4d7",
   "metadata": {},
   "outputs": [],
   "source": []
  },
  {
   "cell_type": "code",
   "execution_count": null,
   "id": "83065935-c539-4133-95d5-6516604c3f24",
   "metadata": {},
   "outputs": [],
   "source": []
  }
 ],
 "metadata": {
  "kernelspec": {
   "display_name": "Python 3 (ipykernel)",
   "language": "python",
   "name": "python3"
  },
  "language_info": {
   "codemirror_mode": {
    "name": "ipython",
    "version": 3
   },
   "file_extension": ".py",
   "mimetype": "text/x-python",
   "name": "python",
   "nbconvert_exporter": "python",
   "pygments_lexer": "ipython3",
   "version": "3.9.12"
  }
 },
 "nbformat": 4,
 "nbformat_minor": 5
}
