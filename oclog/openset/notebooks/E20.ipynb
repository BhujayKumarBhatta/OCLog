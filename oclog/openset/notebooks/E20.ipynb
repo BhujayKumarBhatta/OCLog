{
 "cells": [
  {
   "cell_type": "code",
   "execution_count": 1,
   "id": "c4aefd92",
   "metadata": {},
   "outputs": [],
   "source": [
    "import os, sys\n",
    "cur_dir = os.getcwd()\n",
    "basename = os.path.basename(cur_dir)\n",
    "for _ in range(5):\n",
    "    if basename != 'OCLog':\n",
    "        cur_dir = os.path.dirname(cur_dir)\n",
    "        basename = os.path.basename(cur_dir)\n",
    "        #print(cur_dir, basename)\n",
    "    else:\n",
    "        if cur_dir not in sys.path:\n",
    "            sys.path.append(cur_dir)\n",
    "            #print(sys.path)"
   ]
  },
  {
   "cell_type": "code",
   "execution_count": 2,
   "id": "619d8a33",
   "metadata": {},
   "outputs": [],
   "source": [
    "import numpy as np\n",
    "import matplotlib.pyplot as plt\n",
    "import seaborn as sns\n",
    "import tensorflow as tf\n",
    "from tqdm import trange, tqdm, tnrange\n",
    "from oclog.BGL.bglogUKC import BGLog, get_embedding_layer\n",
    "from oclog.openset.boundary_loss import euclidean_metric, BoundaryLoss\n",
    "from oclog.openset.pretraining import LogLineEncoder, LogSeqEncoder, LogClassifier\n",
    "# from oclog.openset.openset import OpenSet\n",
    "from oclog.openset.opensetv6 import OpenSet\n",
    "from sklearn.metrics import confusion_matrix, f1_score, accuracy_score\n",
    "import sklearn.metrics as m\n",
    "import warnings\n",
    "warnings.filterwarnings('ignore')\n"
   ]
  },
  {
   "cell_type": "code",
   "execution_count": 15,
   "id": "4c5dcc93-126e-44f8-95ca-a03cbc1f9f4e",
   "metadata": {},
   "outputs": [],
   "source": [
    "def oset_train(ablation=5000,designated_ukc_cls=3,num_classes=2,embedding_size=128,lr_rate=3,optimizer='sgd',\n",
    "pretrain_epochs=3,octrain_epochs=50,wait_patient=3):\n",
    "    tf.random.set_seed(1234)\n",
    "    np.random.seed(1234) \n",
    "    bglog = BGLog(save_padded_num_sequences=False, debug=True,  load_from_pkl=True, )\n",
    "    train_test = bglog.get_tensor_train_val_test(ablation=ablation, designated_ukc_cls=designated_ukc_cls )\n",
    "    train_data, val_data, test_data = train_test\n",
    "    line_encoder = LogLineEncoder(bglog, chars_in_line=64)\n",
    "    logSeqencer =  LogSeqEncoder(line_in_seq=32, dense_neurons=embedding_size)\n",
    "    ptmodel = LogClassifier(line_encoder=line_encoder, seq_encoder=logSeqencer, num_classes=num_classes)\n",
    "    ptmodel.compile(optimizer='adam', loss='categorical_crossentropy',\n",
    "                  metrics=['accuracy', tf.keras.metrics.Precision(), tf.keras.metrics.Recall()])\n",
    "    hist = ptmodel.fit(train_data, validation_data=val_data, epochs=pretrain_epochs)\n",
    "    oset = OpenSet(num_classes, ptmodel, embedding_size=embedding_size)\n",
    "    _, _ = oset.train(train_data,data_val=val_data, epochs=octrain_epochs, lr_rate=lr_rate, wait_patient=wait_patient, optimizer=optimizer)\n",
    "    y_true, y_pred, _ = oset.evaluate(test_data, ukc_label=designated_ukc_cls)\n",
    "    return test_data, oset"
   ]
  },
  {
   "cell_type": "code",
   "execution_count": 4,
   "id": "9f110255-e914-432c-92ef-fa665de2afab",
   "metadata": {},
   "outputs": [
    {
     "name": "stdout",
     "output_type": "stream",
     "text": [
      "ablation set to : 4000\n",
      "padded_num_seq_df loaded from C:\\Users\\Bhujay_ROG\\MyDev\\OCLog\\oclog\\BGL\\data\\bgl_ukc.pkl\n",
      "trained tokenizer, tk, loaded from C:\\Users\\Bhujay_ROG\\MyDev\\OCLog\\oclog\\BGL\\data\\bgltkukc.pkl\n",
      "train_0:, 3200\n",
      "val_0:, 400\n",
      "test_0:, 400\n",
      "train_1:, 3200\n",
      "val_1:, 400\n",
      "test_1:, 400\n",
      "train_2:, 3200\n",
      "val_2:, 400\n",
      "test_2:, 400\n",
      "902 data in class 3 not enough to split into train:3200 and validation:400, adding the entire data as ukc\n",
      "class 4 is added as ukc\n",
      "ukc_4:, 400\n",
      "165 data in class 5 not enough to split into train:3200 and validation:400, adding the entire data as ukc\n",
      "75 data in class 6 not enough to split into train:3200 and validation:400, adding the entire data as ukc\n",
      "train: 0    3200\n",
      "1    3200\n",
      "2    3200\n",
      "Name: label, dtype: int64\n",
      "val: 0    400\n",
      "1    400\n",
      "2    400\n",
      "Name: label, dtype: int64\n",
      "test: 0    400\n",
      "1    400\n",
      "2    400\n",
      "4    400\n",
      "Name: label, dtype: int64\n",
      "[[1. 0. 0.]\n",
      " [1. 0. 0.]]\n",
      "some example of labels:\n",
      "[[1. 0. 0. 0. 0.]\n",
      " [1. 0. 0. 0. 0.]]\n",
      "[[1. 0. 0.]\n",
      " [1. 0. 0.]]\n",
      "<BatchDataset element_spec=(TensorSpec(shape=(32, 32, 64), dtype=tf.int32, name=None), TensorSpec(shape=(32, 3), dtype=tf.float32, name=None))>\n",
      "<BatchDataset element_spec=(TensorSpec(shape=(32, 32, 64), dtype=tf.int32, name=None), TensorSpec(shape=(32, 3), dtype=tf.float32, name=None))>\n",
      "<BatchDataset element_spec=(TensorSpec(shape=(32, 32, 64), dtype=tf.int32, name=None), TensorSpec(shape=(32, 5), dtype=tf.float32, name=None))>\n",
      "64\n",
      "3\n",
      "vocab_size: 50\n",
      "Epoch 1/3\n",
      "300/300 [==============================] - 29s 94ms/step - loss: 0.0431 - accuracy: 0.9836 - precision: 0.9952 - recall: 0.9780 - val_loss: 0.0041 - val_accuracy: 0.9983 - val_precision: 0.9992 - val_recall: 0.9975\n",
      "Epoch 2/3\n",
      "300/300 [==============================] - 29s 97ms/step - loss: 0.0013 - accuracy: 0.9997 - precision: 0.9997 - recall: 0.9996 - val_loss: 5.0878e-05 - val_accuracy: 1.0000 - val_precision: 1.0000 - val_recall: 1.0000\n",
      "Epoch 3/3\n",
      "300/300 [==============================] - 29s 95ms/step - loss: 4.9558e-07 - accuracy: 1.0000 - precision: 1.0000 - recall: 1.0000 - val_loss: 3.8068e-05 - val_accuracy: 1.0000 - val_precision: 1.0000 - val_recall: 1.0000\n"
     ]
    },
    {
     "name": "stderr",
     "output_type": "stream",
     "text": [
      "100%|████████████████████████████████████████████████████████████████████████████████| 300/300 [00:39<00:00,  7.56it/s]\n"
     ]
    },
    {
     "name": "stdout",
     "output_type": "stream",
     "text": [
      "epoch: 1/50, train_loss: 3.3325414657592773, eval_score_train: 0.9396682000939105 eval_score_val: 0.9843997159957262\n"
     ]
    },
    {
     "name": "stderr",
     "output_type": "stream",
     "text": [
      "100%|████████████████████████████████████████████████████████████████████████████████| 300/300 [00:39<00:00,  7.58it/s]\n"
     ]
    },
    {
     "name": "stdout",
     "output_type": "stream",
     "text": [
      "epoch: 2/50, train_loss: 3.3325273990631104, eval_score_train: 0.9627642568939079 eval_score_val: 0.9927285219084583\n"
     ]
    },
    {
     "name": "stderr",
     "output_type": "stream",
     "text": [
      "100%|████████████████████████████████████████████████████████████████████████████████| 300/300 [00:39<00:00,  7.53it/s]\n"
     ]
    },
    {
     "name": "stdout",
     "output_type": "stream",
     "text": [
      "epoch: 3/50, train_loss: 3.3324732780456543, eval_score_train: 0.9659552120222679 eval_score_val: 0.9935975993899994\n"
     ]
    },
    {
     "name": "stderr",
     "output_type": "stream",
     "text": [
      "100%|████████████████████████████████████████████████████████████████████████████████| 300/300 [00:39<00:00,  7.55it/s]\n"
     ]
    },
    {
     "name": "stdout",
     "output_type": "stream",
     "text": [
      "epoch: 4/50, train_loss: 3.332534074783325, eval_score_train: 0.9686273971312367 eval_score_val: 0.994892688271832\n"
     ]
    },
    {
     "name": "stderr",
     "output_type": "stream",
     "text": [
      "100%|████████████████████████████████████████████████████████████████████████████████| 300/300 [00:40<00:00,  7.48it/s]\n"
     ]
    },
    {
     "name": "stdout",
     "output_type": "stream",
     "text": [
      "epoch: 5/50, train_loss: 3.332503318786621, eval_score_train: 0.9694340538329783 eval_score_val: 0.9957501632877871\n"
     ]
    },
    {
     "name": "stderr",
     "output_type": "stream",
     "text": [
      "100%|████████████████████████████████████████████████████████████████████████████████| 300/300 [00:39<00:00,  7.51it/s]\n"
     ]
    },
    {
     "name": "stdout",
     "output_type": "stream",
     "text": [
      "epoch: 6/50, train_loss: 3.3324873447418213, eval_score_train: 0.970175495253024 eval_score_val: 0.9974521990275729\n"
     ]
    },
    {
     "name": "stderr",
     "output_type": "stream",
     "text": [
      "100%|████████████████████████████████████████████████████████████████████████████████| 300/300 [00:39<00:00,  7.57it/s]\n"
     ]
    },
    {
     "name": "stdout",
     "output_type": "stream",
     "text": [
      "epoch: 7/50, train_loss: 3.332547426223755, eval_score_train: 0.9712698158750747 eval_score_val: 0.9995771606009091\n"
     ]
    },
    {
     "name": "stderr",
     "output_type": "stream",
     "text": [
      "100%|████████████████████████████████████████████████████████████████████████████████| 300/300 [00:39<00:00,  7.56it/s]\n"
     ]
    },
    {
     "name": "stdout",
     "output_type": "stream",
     "text": [
      "epoch: 8/50, train_loss: 3.33253812789917, eval_score_train: 0.9714540143618382 eval_score_val: 0.9995771688249565\n"
     ]
    },
    {
     "name": "stderr",
     "output_type": "stream",
     "text": [
      "100%|████████████████████████████████████████████████████████████████████████████████| 300/300 [00:39<00:00,  7.57it/s]\n"
     ]
    },
    {
     "name": "stdout",
     "output_type": "stream",
     "text": [
      "epoch: 9/50, train_loss: 3.332494020462036, eval_score_train: 0.9718830827325805 eval_score_val: 0.9995771674716541\n"
     ]
    },
    {
     "name": "stderr",
     "output_type": "stream",
     "text": [
      "100%|████████████████████████████████████████████████████████████████████████████████| 300/300 [00:39<00:00,  7.53it/s]\n"
     ]
    },
    {
     "name": "stdout",
     "output_type": "stream",
     "text": [
      "epoch: 10/50, train_loss: 3.3325209617614746, eval_score_train: 0.9724332490776673 eval_score_val: 1.0\n"
     ]
    },
    {
     "name": "stderr",
     "output_type": "stream",
     "text": [
      "100%|████████████████████████████████████████████████████████████████████████████████| 300/300 [00:40<00:00,  7.39it/s]\n"
     ]
    },
    {
     "name": "stdout",
     "output_type": "stream",
     "text": [
      "epoch: 11/50, train_loss: 3.332444190979004, eval_score_train: 0.9726772301410771 eval_score_val: 1.0\n"
     ]
    },
    {
     "name": "stderr",
     "output_type": "stream",
     "text": [
      "100%|████████████████████████████████████████████████████████████████████████████████| 300/300 [00:39<00:00,  7.52it/s]\n"
     ]
    },
    {
     "name": "stdout",
     "output_type": "stream",
     "text": [
      "epoch: 12/50, train_loss: 3.3325002193450928, eval_score_train: 0.9729817429021982 eval_score_val: 1.0\n"
     ]
    },
    {
     "name": "stderr",
     "output_type": "stream",
     "text": [
      "100%|████████████████████████████████████████████████████████████████████████████████| 300/300 [00:39<00:00,  7.56it/s]\n"
     ]
    },
    {
     "name": "stdout",
     "output_type": "stream",
     "text": [
      "epoch: 13/50, train_loss: 3.3325161933898926, eval_score_train: 0.9730425837497088 eval_score_val: 1.0\n"
     ]
    },
    {
     "data": {
      "image/png": "[encoded data removed]",
      "text/plain": [
       "<Figure size 1080x360 with 2 Axes>"
      ]
     },
     "metadata": {
      "needs_background": "light"
     },
     "output_type": "display_data"
    },
    {
     "name": "stdout",
     "output_type": "stream",
     "text": [
      "[[400   0   0   0   0]\n",
      " [  0 400   0   0   0]\n",
      " [  0   0 397   0   3]\n",
      " [  0   0 395   0   5]\n",
      " [  0   0   0   0   0]]\n",
      "74.81\n",
      "f1_weighted: 0.6665268456375838, f1_macro: 0.5332214765100671, f1_micro: 0.7481249999999999, f_measure: {'Known': 66.6527, 'Open': 0, 'F1-score': 53.3221}\n",
      "              precision    recall  f1-score   support\n",
      "\n",
      "           0       1.00      1.00      1.00       400\n",
      "           1       1.00      1.00      1.00       400\n",
      "           2       0.50      0.99      0.67       400\n",
      "           4       0.00      0.00      0.00       400\n",
      "         999       0.00      0.00      0.00         0\n",
      "\n",
      "    accuracy                           0.75      1600\n",
      "   macro avg       0.50      0.60      0.53      1600\n",
      "weighted avg       0.63      0.75      0.67      1600\n",
      "\n"
     ]
    }
   ],
   "source": [
    "test_data, oset = oset_train(ablation=4000,designated_ukc_cls=4,num_classes=3,embedding_size=256,lr_rate=5,optimizer='adam',\n",
    "pretrain_epochs=3,octrain_epochs=50,wait_patient=3)"
   ]
  },
  {
   "cell_type": "code",
   "execution_count": 12,
   "id": "62bfa368-fdf9-4d5a-9ded-4afc9deba4d7",
   "metadata": {},
   "outputs": [
    {
     "name": "stdout",
     "output_type": "stream",
     "text": [
      "[[400   0   0   0]\n",
      " [  0 400   0   0]\n",
      " [  0   0 397   3]\n",
      " [  0   0 395   5]]\n",
      "75.12\n",
      "f1_weighted: 0.6726542966179759, f1_macro: 0.672654296617976, f1_micro: 0.7512500000000001, f_measure: {'Known': 88.8702, 'Open': 2.451, 'F1-score': 67.2654}\n",
      "              precision    recall  f1-score   support\n",
      "\n",
      "           0       1.00      1.00      1.00       400\n",
      "           1       1.00      1.00      1.00       400\n",
      "           2       0.50      0.99      0.67       400\n",
      "           4       0.62      0.01      0.02       400\n",
      "\n",
      "    accuracy                           0.75      1600\n",
      "   macro avg       0.78      0.75      0.67      1600\n",
      "weighted avg       0.78      0.75      0.67      1600\n",
      "\n"
     ]
    }
   ],
   "source": [
    "_, _, _ = oset.evaluate(test_data, ukc_label=4 )"
   ]
  },
  {
   "cell_type": "code",
   "execution_count": 14,
   "id": "83065935-c539-4133-95d5-6516604c3f24",
   "metadata": {},
   "outputs": [
    {
     "name": "stdout",
     "output_type": "stream",
     "text": [
      "ablation set to : 3000\n",
      "padded_num_seq_df loaded from C:\\Users\\Bhujay_ROG\\MyDev\\OCLog\\oclog\\BGL\\data\\bgl_ukc.pkl\n",
      "trained tokenizer, tk, loaded from C:\\Users\\Bhujay_ROG\\MyDev\\OCLog\\oclog\\BGL\\data\\bgltkukc.pkl\n",
      "train_0:, 2400\n",
      "val_0:, 300\n",
      "test_0:, 300\n",
      "train_1:, 2400\n",
      "val_1:, 300\n",
      "test_1:, 300\n",
      "train_2:, 2400\n",
      "val_2:, 300\n",
      "test_2:, 300\n",
      "902 data in class 3 not enough to split into train:2400 and validation:300, adding the entire data as ukc\n",
      "628 data in class 4 not enough to split into train:2400 and validation:300, adding the entire data as ukc\n",
      "class 5 is added as ukc\n",
      "ukc_5:, 165\n",
      "75 data in class 6 not enough to split into train:2400 and validation:300, adding the entire data as ukc\n",
      "train: 0    2400\n",
      "1    2400\n",
      "2    2400\n",
      "Name: label, dtype: int64\n",
      "val: 0    300\n",
      "1    300\n",
      "2    300\n",
      "Name: label, dtype: int64\n",
      "test: 0    300\n",
      "1    300\n",
      "2    300\n",
      "5    165\n",
      "Name: label, dtype: int64\n",
      "[[1. 0. 0.]\n",
      " [1. 0. 0.]]\n",
      "some example of labels:\n",
      "[[1. 0. 0. 0. 0. 0.]\n",
      " [1. 0. 0. 0. 0. 0.]]\n",
      "[[1. 0. 0.]\n",
      " [1. 0. 0.]]\n",
      "<BatchDataset element_spec=(TensorSpec(shape=(32, 32, 64), dtype=tf.int32, name=None), TensorSpec(shape=(32, 3), dtype=tf.float32, name=None))>\n",
      "<BatchDataset element_spec=(TensorSpec(shape=(32, 32, 64), dtype=tf.int32, name=None), TensorSpec(shape=(32, 3), dtype=tf.float32, name=None))>\n",
      "<BatchDataset element_spec=(TensorSpec(shape=(32, 32, 64), dtype=tf.int32, name=None), TensorSpec(shape=(32, 6), dtype=tf.float32, name=None))>\n",
      "64\n",
      "3\n",
      "vocab_size: 50\n",
      "Epoch 1/3\n",
      "225/225 [==============================] - 23s 100ms/step - loss: 0.0611 - accuracy: 0.9790 - precision_2: 0.9904 - recall_2: 0.9629 - val_loss: 4.3343e-04 - val_accuracy: 1.0000 - val_precision_2: 1.0000 - val_recall_2: 1.0000\n",
      "Epoch 2/3\n",
      "225/225 [==============================] - 22s 99ms/step - loss: 0.0021 - accuracy: 0.9993 - precision_2: 0.9993 - recall_2: 0.9993 - val_loss: 2.5429e-05 - val_accuracy: 1.0000 - val_precision_2: 1.0000 - val_recall_2: 1.0000\n",
      "Epoch 3/3\n",
      "225/225 [==============================] - 21s 96ms/step - loss: 0.1303 - accuracy: 0.9899 - precision_2: 0.9899 - recall_2: 0.9897 - val_loss: 0.0060 - val_accuracy: 1.0000 - val_precision_2: 1.0000 - val_recall_2: 1.0000\n"
     ]
    },
    {
     "name": "stderr",
     "output_type": "stream",
     "text": [
      "100%|████████████████████████████████████████████████████████████████████████████████| 225/225 [00:30<00:00,  7.48it/s]\n"
     ]
    },
    {
     "name": "stdout",
     "output_type": "stream",
     "text": [
      "epoch: 1/50, train_loss: 11.619805335998535, eval_score_train: 0.6092237956644736 eval_score_val: 0.6503999748047367\n"
     ]
    },
    {
     "name": "stderr",
     "output_type": "stream",
     "text": [
      "100%|████████████████████████████████████████████████████████████████████████████████| 225/225 [00:30<00:00,  7.47it/s]\n"
     ]
    },
    {
     "name": "stdout",
     "output_type": "stream",
     "text": [
      "epoch: 2/50, train_loss: 11.619805335998535, eval_score_train: 0.62820846128227 eval_score_val: 0.6516287973889029\n"
     ]
    },
    {
     "name": "stderr",
     "output_type": "stream",
     "text": [
      "100%|████████████████████████████████████████████████████████████████████████████████| 225/225 [00:30<00:00,  7.47it/s]\n"
     ]
    },
    {
     "name": "stdout",
     "output_type": "stream",
     "text": [
      "epoch: 3/50, train_loss: 11.6198091506958, eval_score_train: 0.6408900648322553 eval_score_val: 0.6505152301726296\n"
     ]
    },
    {
     "name": "stderr",
     "output_type": "stream",
     "text": [
      "100%|████████████████████████████████████████████████████████████████████████████████| 225/225 [00:30<00:00,  7.43it/s]\n"
     ]
    },
    {
     "name": "stdout",
     "output_type": "stream",
     "text": [
      "epoch: 4/50, train_loss: 11.619794845581055, eval_score_train: 0.6450486729462621 eval_score_val: 0.6506147219432589\n"
     ]
    },
    {
     "name": "stderr",
     "output_type": "stream",
     "text": [
      "100%|████████████████████████████████████████████████████████████████████████████████| 225/225 [00:30<00:00,  7.27it/s]\n"
     ]
    },
    {
     "name": "stdout",
     "output_type": "stream",
     "text": [
      "epoch: 5/50, train_loss: 11.619800567626953, eval_score_train: 0.6485416783276593 eval_score_val: 0.6535489521329365\n"
     ]
    },
    {
     "name": "stderr",
     "output_type": "stream",
     "text": [
      "100%|████████████████████████████████████████████████████████████████████████████████| 225/225 [00:30<00:00,  7.47it/s]\n"
     ]
    },
    {
     "name": "stdout",
     "output_type": "stream",
     "text": [
      "epoch: 6/50, train_loss: 11.619811058044434, eval_score_train: 0.6517740631416024 eval_score_val: 0.6530333157959891\n"
     ]
    },
    {
     "name": "stderr",
     "output_type": "stream",
     "text": [
      "100%|████████████████████████████████████████████████████████████████████████████████| 225/225 [00:30<00:00,  7.45it/s]\n"
     ]
    },
    {
     "name": "stdout",
     "output_type": "stream",
     "text": [
      "epoch: 7/50, train_loss: 11.61980152130127, eval_score_train: 0.6539268833188919 eval_score_val: 0.6541479037267081\n"
     ]
    },
    {
     "name": "stderr",
     "output_type": "stream",
     "text": [
      "100%|████████████████████████████████████████████████████████████████████████████████| 225/225 [00:30<00:00,  7.33it/s]\n"
     ]
    },
    {
     "name": "stdout",
     "output_type": "stream",
     "text": [
      "epoch: 8/50, train_loss: 11.619802474975586, eval_score_train: 0.6550280173357277 eval_score_val: 0.6541479037267081\n"
     ]
    },
    {
     "name": "stderr",
     "output_type": "stream",
     "text": [
      "100%|████████████████████████████████████████████████████████████████████████████████| 225/225 [00:30<00:00,  7.27it/s]\n"
     ]
    },
    {
     "name": "stdout",
     "output_type": "stream",
     "text": [
      "epoch: 9/50, train_loss: 11.619793891906738, eval_score_train: 0.655699611826974 eval_score_val: 0.6552639751552796\n"
     ]
    },
    {
     "name": "stderr",
     "output_type": "stream",
     "text": [
      "100%|████████████████████████████████████████████████████████████████████████████████| 225/225 [00:30<00:00,  7.37it/s]\n"
     ]
    },
    {
     "name": "stdout",
     "output_type": "stream",
     "text": [
      "epoch: 10/50, train_loss: 11.619802474975586, eval_score_train: 0.6565910245280727 eval_score_val: 0.6552669319022945\n"
     ]
    },
    {
     "name": "stderr",
     "output_type": "stream",
     "text": [
      "100%|████████████████████████████████████████████████████████████████████████████████| 225/225 [00:31<00:00,  7.03it/s]\n"
     ]
    },
    {
     "name": "stdout",
     "output_type": "stream",
     "text": [
      "epoch: 11/50, train_loss: 11.619800567626953, eval_score_train: 0.6574778452770733 eval_score_val: 0.6547464037698413\n"
     ]
    },
    {
     "name": "stderr",
     "output_type": "stream",
     "text": [
      "100%|████████████████████████████████████████████████████████████████████████████████| 225/225 [00:30<00:00,  7.34it/s]\n"
     ]
    },
    {
     "name": "stdout",
     "output_type": "stream",
     "text": [
      "epoch: 12/50, train_loss: 11.619808197021484, eval_score_train: 0.6586927569290227 eval_score_val: 0.6553428292894281\n"
     ]
    },
    {
     "name": "stderr",
     "output_type": "stream",
     "text": [
      "100%|████████████████████████████████████████████████████████████████████████████████| 225/225 [00:30<00:00,  7.32it/s]\n"
     ]
    },
    {
     "name": "stdout",
     "output_type": "stream",
     "text": [
      "epoch: 13/50, train_loss: 11.61980152130127, eval_score_train: 0.6589128977200656 eval_score_val: 0.6569812192118227\n"
     ]
    },
    {
     "name": "stderr",
     "output_type": "stream",
     "text": [
      "100%|████████████████████████████████████████████████████████████████████████████████| 225/225 [00:30<00:00,  7.34it/s]\n"
     ]
    },
    {
     "name": "stdout",
     "output_type": "stream",
     "text": [
      "epoch: 14/50, train_loss: 11.619797706604004, eval_score_train: 0.6593523320636996 eval_score_val: 0.6536289820806372\n"
     ]
    },
    {
     "name": "stderr",
     "output_type": "stream",
     "text": [
      "100%|████████████████████████████████████████████████████████████████████████████████| 225/225 [00:30<00:00,  7.26it/s]\n"
     ]
    },
    {
     "name": "stdout",
     "output_type": "stream",
     "text": [
      "epoch: 15/50, train_loss: 11.61980152130127, eval_score_train: 0.6594985597347914 eval_score_val: 0.6542255434782608\n"
     ]
    },
    {
     "name": "stderr",
     "output_type": "stream",
     "text": [
      "100%|████████████████████████████████████████████████████████████████████████████████| 225/225 [00:30<00:00,  7.26it/s]\n"
     ]
    },
    {
     "name": "stdout",
     "output_type": "stream",
     "text": [
      "epoch: 16/50, train_loss: 11.619797706604004, eval_score_train: 0.6596412596091255 eval_score_val: 0.6558638161146811\n"
     ]
    },
    {
     "data": {
      "image/png": "[encoded data removed]",
      "text/plain": [
       "<Figure size 1080x360 with 2 Axes>"
      ]
     },
     "metadata": {
      "needs_background": "light"
     },
     "output_type": "display_data"
    },
    {
     "name": "stdout",
     "output_type": "stream",
     "text": [
      "[[296   0   0   0]\n",
      " [  0   0   0 299]\n",
      " [  0   0 296   0]\n",
      " [  2   0   0 163]]\n",
      "71.5\n",
      "f1_weighted: 0.6409023112571757, f1_macro: 0.6291423001949318, f1_micro: 0.7149621212121213, f_measure: {'Known': 66.5544, 'Open': 51.9936, 'F1-score': 62.9142}\n",
      "              precision    recall  f1-score   support\n",
      "\n",
      "           0       0.99      1.00      1.00       296\n",
      "           1       0.00      0.00      0.00       299\n",
      "           2       1.00      1.00      1.00       296\n",
      "           5       0.35      0.99      0.52       165\n",
      "\n",
      "    accuracy                           0.71      1056\n",
      "   macro avg       0.59      0.75      0.63      1056\n",
      "weighted avg       0.61      0.71      0.64      1056\n",
      "\n"
     ]
    }
   ],
   "source": [
    "test_data, oset = oset_train(ablation=3000,designated_ukc_cls=5,num_classes=3,embedding_size=256,lr_rate=5,optimizer='adam',\n",
    "pretrain_epochs=3,octrain_epochs=50,wait_patient=3)"
   ]
  },
  {
   "cell_type": "code",
   "execution_count": 16,
   "id": "9942d960-cdd6-47a2-a78f-ff77023c9267",
   "metadata": {},
   "outputs": [
    {
     "name": "stdout",
     "output_type": "stream",
     "text": [
      "ablation set to : 3000\n",
      "padded_num_seq_df loaded from C:\\Users\\Bhujay_ROG\\MyDev\\OCLog\\oclog\\BGL\\data\\bgl_ukc.pkl\n",
      "trained tokenizer, tk, loaded from C:\\Users\\Bhujay_ROG\\MyDev\\OCLog\\oclog\\BGL\\data\\bgltkukc.pkl\n",
      "train_0:, 2400\n",
      "val_0:, 300\n",
      "test_0:, 300\n",
      "train_1:, 2400\n",
      "val_1:, 300\n",
      "test_1:, 300\n",
      "train_2:, 2400\n",
      "val_2:, 300\n",
      "test_2:, 300\n",
      "902 data in class 3 not enough to split into train:2400 and validation:300, adding the entire data as ukc\n",
      "628 data in class 4 not enough to split into train:2400 and validation:300, adding the entire data as ukc\n",
      "class 5 is added as ukc\n",
      "ukc_5:, 165\n",
      "75 data in class 6 not enough to split into train:2400 and validation:300, adding the entire data as ukc\n",
      "train: 0    2400\n",
      "1    2400\n",
      "2    2400\n",
      "Name: label, dtype: int64\n",
      "val: 0    300\n",
      "1    300\n",
      "2    300\n",
      "Name: label, dtype: int64\n",
      "test: 0    300\n",
      "1    300\n",
      "2    300\n",
      "5    165\n",
      "Name: label, dtype: int64\n",
      "[[1. 0. 0.]\n",
      " [1. 0. 0.]]\n",
      "some example of labels:\n",
      "[[1. 0. 0. 0. 0. 0.]\n",
      " [1. 0. 0. 0. 0. 0.]]\n",
      "[[1. 0. 0.]\n",
      " [1. 0. 0.]]\n",
      "<BatchDataset element_spec=(TensorSpec(shape=(32, 32, 64), dtype=tf.int32, name=None), TensorSpec(shape=(32, 3), dtype=tf.float32, name=None))>\n",
      "<BatchDataset element_spec=(TensorSpec(shape=(32, 32, 64), dtype=tf.int32, name=None), TensorSpec(shape=(32, 3), dtype=tf.float32, name=None))>\n",
      "<BatchDataset element_spec=(TensorSpec(shape=(32, 32, 64), dtype=tf.int32, name=None), TensorSpec(shape=(32, 6), dtype=tf.float32, name=None))>\n",
      "64\n",
      "3\n",
      "vocab_size: 50\n",
      "Epoch 1/3\n",
      "225/225 [==============================] - 23s 99ms/step - loss: 0.0561 - accuracy: 0.9811 - precision_3: 0.9915 - recall_3: 0.9693 - val_loss: 1.2354e-04 - val_accuracy: 1.0000 - val_precision_3: 1.0000 - val_recall_3: 1.0000\n",
      "Epoch 2/3\n",
      "225/225 [==============================] - 22s 96ms/step - loss: 0.0047 - accuracy: 0.9986 - precision_3: 0.9986 - recall_3: 0.9986 - val_loss: 8.3772e-04 - val_accuracy: 1.0000 - val_precision_3: 1.0000 - val_recall_3: 1.0000\n",
      "Epoch 3/3\n",
      "225/225 [==============================] - 22s 96ms/step - loss: 0.0040 - accuracy: 0.9993 - precision_3: 0.9993 - recall_3: 0.9993 - val_loss: 7.0909e-04 - val_accuracy: 1.0000 - val_precision_3: 1.0000 - val_recall_3: 1.0000\n"
     ]
    },
    {
     "name": "stderr",
     "output_type": "stream",
     "text": [
      "100%|████████████████████████████████████████████████████████████████████████████████| 225/225 [00:30<00:00,  7.33it/s]\n"
     ]
    },
    {
     "name": "stdout",
     "output_type": "stream",
     "text": [
      "epoch: 1/50, train_loss: 2.670550584793091, eval_score_train: 0.9377217206513303 eval_score_val: 0.988454433497537\n"
     ]
    },
    {
     "name": "stderr",
     "output_type": "stream",
     "text": [
      "100%|████████████████████████████████████████████████████████████████████████████████| 225/225 [00:30<00:00,  7.31it/s]\n"
     ]
    },
    {
     "name": "stdout",
     "output_type": "stream",
     "text": [
      "epoch: 2/50, train_loss: 2.67046856880188, eval_score_train: 0.9426772000363993 eval_score_val: 0.988454433497537\n"
     ]
    },
    {
     "name": "stderr",
     "output_type": "stream",
     "text": [
      "100%|████████████████████████████████████████████████████████████████████████████████| 225/225 [00:31<00:00,  7.23it/s]\n"
     ]
    },
    {
     "name": "stdout",
     "output_type": "stream",
     "text": [
      "epoch: 3/50, train_loss: 2.6706411838531494, eval_score_train: 0.944612133135007 eval_score_val: 0.9890481864322852\n"
     ]
    },
    {
     "name": "stderr",
     "output_type": "stream",
     "text": [
      "100%|████████████████████████████████████████████████████████████████████████████████| 225/225 [00:30<00:00,  7.39it/s]\n"
     ]
    },
    {
     "name": "stdout",
     "output_type": "stream",
     "text": [
      "epoch: 4/50, train_loss: 2.6706244945526123, eval_score_train: 0.9458975930513455 eval_score_val: 0.9896436268472907\n"
     ]
    },
    {
     "name": "stderr",
     "output_type": "stream",
     "text": [
      "100%|████████████████████████████████████████████████████████████████████████████████| 225/225 [00:30<00:00,  7.36it/s]\n"
     ]
    },
    {
     "name": "stdout",
     "output_type": "stream",
     "text": [
      "epoch: 5/50, train_loss: 2.670597791671753, eval_score_train: 0.9466696508595182 eval_score_val: 0.9896436268472907\n"
     ]
    },
    {
     "name": "stderr",
     "output_type": "stream",
     "text": [
      "100%|████████████████████████████████████████████████████████████████████████████████| 225/225 [00:30<00:00,  7.40it/s]\n"
     ]
    },
    {
     "name": "stdout",
     "output_type": "stream",
     "text": [
      "epoch: 6/50, train_loss: 2.6706185340881348, eval_score_train: 0.9469948824481358 eval_score_val: 0.9896446980854198\n"
     ]
    },
    {
     "name": "stderr",
     "output_type": "stream",
     "text": [
      "100%|████████████████████████████████████████████████████████████████████████████████| 225/225 [00:30<00:00,  7.39it/s]\n"
     ]
    },
    {
     "name": "stdout",
     "output_type": "stream",
     "text": [
      "epoch: 7/50, train_loss: 2.6705446243286133, eval_score_train: 0.9477073520305785 eval_score_val: 0.9896425481957489\n"
     ]
    },
    {
     "name": "stderr",
     "output_type": "stream",
     "text": [
      "100%|████████████████████████████████████████████████████████████████████████████████| 225/225 [00:30<00:00,  7.36it/s]\n"
     ]
    },
    {
     "name": "stdout",
     "output_type": "stream",
     "text": [
      "epoch: 8/50, train_loss: 2.670536518096924, eval_score_train: 0.9478903228976712 eval_score_val: 0.9896425481957489\n"
     ]
    },
    {
     "name": "stderr",
     "output_type": "stream",
     "text": [
      "100%|████████████████████████████████████████████████████████████████████████████████| 225/225 [00:30<00:00,  7.32it/s]\n"
     ]
    },
    {
     "name": "stdout",
     "output_type": "stream",
     "text": [
      "epoch: 9/50, train_loss: 2.670638084411621, eval_score_train: 0.9481644513718641 eval_score_val: 0.9896436268472907\n"
     ]
    },
    {
     "data": {
      "image/png": "[encoded data removed]",
      "text/plain": [
       "<Figure size 1080x360 with 2 Axes>"
      ]
     },
     "metadata": {
      "needs_background": "light"
     },
     "output_type": "display_data"
    },
    {
     "name": "stdout",
     "output_type": "stream",
     "text": [
      "[[295   0   0   0]\n",
      " [  0 296   0   0]\n",
      " [  0   0 300   0]\n",
      " [ 80   0   0  85]]\n",
      "92.42\n",
      "f1_weighted: 0.9166440524649478, f1_macro: 0.8901492537313433, f1_micro: 0.9242424242424242, f_measure: {'Known': 96.0199, 'Open': 68.0, 'F1-score': 89.0149}\n",
      "              precision    recall  f1-score   support\n",
      "\n",
      "           0       0.79      1.00      0.88       295\n",
      "           1       1.00      1.00      1.00       296\n",
      "           2       1.00      1.00      1.00       300\n",
      "           5       1.00      0.52      0.68       165\n",
      "\n",
      "    accuracy                           0.92      1056\n",
      "   macro avg       0.95      0.88      0.89      1056\n",
      "weighted avg       0.94      0.92      0.92      1056\n",
      "\n"
     ]
    }
   ],
   "source": [
    "test_data, oset = oset_train(ablation=3000,designated_ukc_cls=5,num_classes=3,embedding_size=8,lr_rate=3,optimizer='adam',\n",
    "pretrain_epochs=3,octrain_epochs=50,wait_patient=3)"
   ]
  },
  {
   "cell_type": "code",
   "execution_count": 17,
   "id": "7db63cac-152f-47e0-b46c-d177f40bc0fe",
   "metadata": {},
   "outputs": [
    {
     "name": "stdout",
     "output_type": "stream",
     "text": [
      "ablation set to : 3000\n",
      "padded_num_seq_df loaded from C:\\Users\\Bhujay_ROG\\MyDev\\OCLog\\oclog\\BGL\\data\\bgl_ukc.pkl\n",
      "trained tokenizer, tk, loaded from C:\\Users\\Bhujay_ROG\\MyDev\\OCLog\\oclog\\BGL\\data\\bgltkukc.pkl\n",
      "train_0:, 2400\n",
      "val_0:, 300\n",
      "test_0:, 300\n",
      "train_1:, 2400\n",
      "val_1:, 300\n",
      "test_1:, 300\n",
      "train_2:, 2400\n",
      "val_2:, 300\n",
      "test_2:, 300\n",
      "902 data in class 3 not enough to split into train:2400 and validation:300, adding the entire data as ukc\n",
      "628 data in class 4 not enough to split into train:2400 and validation:300, adding the entire data as ukc\n",
      "class 5 is added as ukc\n",
      "ukc_5:, 165\n",
      "75 data in class 6 not enough to split into train:2400 and validation:300, adding the entire data as ukc\n",
      "train: 0    2400\n",
      "1    2400\n",
      "2    2400\n",
      "Name: label, dtype: int64\n",
      "val: 0    300\n",
      "1    300\n",
      "2    300\n",
      "Name: label, dtype: int64\n",
      "test: 0    300\n",
      "1    300\n",
      "2    300\n",
      "5    165\n",
      "Name: label, dtype: int64\n",
      "[[1. 0. 0.]\n",
      " [1. 0. 0.]]\n",
      "some example of labels:\n",
      "[[1. 0. 0. 0. 0. 0.]\n",
      " [1. 0. 0. 0. 0. 0.]]\n",
      "[[1. 0. 0.]\n",
      " [1. 0. 0.]]\n",
      "<BatchDataset element_spec=(TensorSpec(shape=(32, 32, 64), dtype=tf.int32, name=None), TensorSpec(shape=(32, 3), dtype=tf.float32, name=None))>\n",
      "<BatchDataset element_spec=(TensorSpec(shape=(32, 32, 64), dtype=tf.int32, name=None), TensorSpec(shape=(32, 3), dtype=tf.float32, name=None))>\n",
      "<BatchDataset element_spec=(TensorSpec(shape=(32, 32, 64), dtype=tf.int32, name=None), TensorSpec(shape=(32, 6), dtype=tf.float32, name=None))>\n",
      "64\n",
      "3\n",
      "vocab_size: 50\n",
      "Epoch 1/3\n",
      "225/225 [==============================] - 23s 99ms/step - loss: 0.0561 - accuracy: 0.9811 - precision_4: 0.9915 - recall_4: 0.9693 - val_loss: 1.2354e-04 - val_accuracy: 1.0000 - val_precision_4: 1.0000 - val_recall_4: 1.0000\n",
      "Epoch 2/3\n",
      "225/225 [==============================] - 23s 101ms/step - loss: 0.0047 - accuracy: 0.9986 - precision_4: 0.9986 - recall_4: 0.9986 - val_loss: 8.3772e-04 - val_accuracy: 1.0000 - val_precision_4: 1.0000 - val_recall_4: 1.0000\n",
      "Epoch 3/3\n",
      "225/225 [==============================] - 23s 104ms/step - loss: 0.0040 - accuracy: 0.9993 - precision_4: 0.9993 - recall_4: 0.9993 - val_loss: 7.0909e-04 - val_accuracy: 1.0000 - val_precision_4: 1.0000 - val_recall_4: 1.0000\n"
     ]
    },
    {
     "name": "stderr",
     "output_type": "stream",
     "text": [
      "100%|████████████████████████████████████████████████████████████████████████████████| 225/225 [00:31<00:00,  7.22it/s]\n"
     ]
    },
    {
     "name": "stdout",
     "output_type": "stream",
     "text": [
      "epoch: 1/50, train_loss: 2.670550584793091, eval_score_train: 0.6469993595284306 eval_score_val: 0.656383003330866\n"
     ]
    },
    {
     "name": "stderr",
     "output_type": "stream",
     "text": [
      "100%|████████████████████████████████████████████████████████████████████████████████| 225/225 [00:30<00:00,  7.43it/s]\n"
     ]
    },
    {
     "name": "stdout",
     "output_type": "stream",
     "text": [
      "epoch: 2/50, train_loss: 2.67046856880188, eval_score_train: 0.9341162934814932 eval_score_val: 0.988454433497537\n"
     ]
    },
    {
     "name": "stderr",
     "output_type": "stream",
     "text": [
      "100%|████████████████████████████████████████████████████████████████████████████████| 225/225 [00:31<00:00,  7.07it/s]\n"
     ]
    },
    {
     "name": "stdout",
     "output_type": "stream",
     "text": [
      "epoch: 3/50, train_loss: 2.6706411838531494, eval_score_train: 0.938490333596773 eval_score_val: 0.9884517609126985\n"
     ]
    },
    {
     "name": "stderr",
     "output_type": "stream",
     "text": [
      "100%|████████████████████████████████████████████████████████████████████████████████| 225/225 [00:31<00:00,  7.13it/s]\n"
     ]
    },
    {
     "name": "stdout",
     "output_type": "stream",
     "text": [
      "epoch: 4/50, train_loss: 2.6706244945526123, eval_score_train: 0.939863178430692 eval_score_val: 0.988453101828967\n"
     ]
    },
    {
     "name": "stderr",
     "output_type": "stream",
     "text": [
      "100%|████████████████████████████████████████████████████████████████████████████████| 225/225 [00:31<00:00,  7.12it/s]\n"
     ]
    },
    {
     "name": "stdout",
     "output_type": "stream",
     "text": [
      "epoch: 5/50, train_loss: 2.670597791671753, eval_score_train: 0.940970614745676 eval_score_val: 0.988453101828967\n"
     ]
    },
    {
     "data": {
      "image/png": "[encoded data removed]",
      "text/plain": [
       "<Figure size 1080x360 with 2 Axes>"
      ]
     },
     "metadata": {
      "needs_background": "light"
     },
     "output_type": "display_data"
    },
    {
     "name": "stdout",
     "output_type": "stream",
     "text": [
      "[[295   0   0   0]\n",
      " [  0 296   0   0]\n",
      " [  0   0 300   0]\n",
      " [  7   0   0 158]]\n",
      "99.34\n",
      "f1_weighted: 0.9933382453908847, f1_macro: 0.9916507200605711, f1_micro: 0.9933712121212122, f_measure: {'Known': 99.6092, 'Open': 97.8328, 'F1-score': 99.1651}\n",
      "              precision    recall  f1-score   support\n",
      "\n",
      "           0       0.98      1.00      0.99       295\n",
      "           1       1.00      1.00      1.00       296\n",
      "           2       1.00      1.00      1.00       300\n",
      "           5       1.00      0.96      0.98       165\n",
      "\n",
      "    accuracy                           0.99      1056\n",
      "   macro avg       0.99      0.99      0.99      1056\n",
      "weighted avg       0.99      0.99      0.99      1056\n",
      "\n"
     ]
    }
   ],
   "source": [
    "test_data, oset = oset_train(ablation=3000,designated_ukc_cls=5,num_classes=3,embedding_size=8,lr_rate=2,optimizer='adam',\n",
    "pretrain_epochs=3,octrain_epochs=50,wait_patient=3)"
   ]
  },
  {
   "cell_type": "code",
   "execution_count": 18,
   "id": "6ddd34d6-41b5-4976-8a83-dd66d584278f",
   "metadata": {},
   "outputs": [
    {
     "name": "stdout",
     "output_type": "stream",
     "text": [
      "ablation set to : 3000\n",
      "padded_num_seq_df loaded from C:\\Users\\Bhujay_ROG\\MyDev\\OCLog\\oclog\\BGL\\data\\bgl_ukc.pkl\n",
      "trained tokenizer, tk, loaded from C:\\Users\\Bhujay_ROG\\MyDev\\OCLog\\oclog\\BGL\\data\\bgltkukc.pkl\n",
      "train_0:, 2400\n",
      "val_0:, 300\n",
      "test_0:, 300\n",
      "train_1:, 2400\n",
      "val_1:, 300\n",
      "test_1:, 300\n",
      "train_2:, 2400\n",
      "val_2:, 300\n",
      "test_2:, 300\n",
      "902 data in class 3 not enough to split into train:2400 and validation:300, adding the entire data as ukc\n",
      "628 data in class 4 not enough to split into train:2400 and validation:300, adding the entire data as ukc\n",
      "class 5 is added as ukc\n",
      "ukc_5:, 165\n",
      "75 data in class 6 not enough to split into train:2400 and validation:300, adding the entire data as ukc\n",
      "train: 0    2400\n",
      "1    2400\n",
      "2    2400\n",
      "Name: label, dtype: int64\n",
      "val: 0    300\n",
      "1    300\n",
      "2    300\n",
      "Name: label, dtype: int64\n",
      "test: 0    300\n",
      "1    300\n",
      "2    300\n",
      "5    165\n",
      "Name: label, dtype: int64\n",
      "[[1. 0. 0.]\n",
      " [1. 0. 0.]]\n",
      "some example of labels:\n",
      "[[1. 0. 0. 0. 0. 0.]\n",
      " [1. 0. 0. 0. 0. 0.]]\n",
      "[[1. 0. 0.]\n",
      " [1. 0. 0.]]\n",
      "<BatchDataset element_spec=(TensorSpec(shape=(32, 32, 64), dtype=tf.int32, name=None), TensorSpec(shape=(32, 3), dtype=tf.float32, name=None))>\n",
      "<BatchDataset element_spec=(TensorSpec(shape=(32, 32, 64), dtype=tf.int32, name=None), TensorSpec(shape=(32, 3), dtype=tf.float32, name=None))>\n",
      "<BatchDataset element_spec=(TensorSpec(shape=(32, 32, 64), dtype=tf.int32, name=None), TensorSpec(shape=(32, 6), dtype=tf.float32, name=None))>\n",
      "64\n",
      "3\n",
      "vocab_size: 50\n",
      "Epoch 1/3\n",
      "225/225 [==============================] - 23s 95ms/step - loss: 0.0561 - accuracy: 0.9811 - precision_5: 0.9915 - recall_5: 0.9693 - val_loss: 1.2354e-04 - val_accuracy: 1.0000 - val_precision_5: 1.0000 - val_recall_5: 1.0000\n",
      "Epoch 2/3\n",
      "225/225 [==============================] - 21s 94ms/step - loss: 0.0047 - accuracy: 0.9986 - precision_5: 0.9986 - recall_5: 0.9986 - val_loss: 8.3772e-04 - val_accuracy: 1.0000 - val_precision_5: 1.0000 - val_recall_5: 1.0000\n",
      "Epoch 3/3\n",
      "225/225 [==============================] - 22s 98ms/step - loss: 0.0040 - accuracy: 0.9993 - precision_5: 0.9993 - recall_5: 0.9993 - val_loss: 7.0909e-04 - val_accuracy: 1.0000 - val_precision_5: 1.0000 - val_recall_5: 1.0000\n"
     ]
    },
    {
     "name": "stderr",
     "output_type": "stream",
     "text": [
      "100%|████████████████████████████████████████████████████████████████████████████████| 225/225 [00:30<00:00,  7.38it/s]\n"
     ]
    },
    {
     "name": "stdout",
     "output_type": "stream",
     "text": [
      "epoch: 1/50, train_loss: 2.670550584793091, eval_score_train: 0.4801456501098248 eval_score_val: 0.3553067396313364\n"
     ]
    },
    {
     "name": "stderr",
     "output_type": "stream",
     "text": [
      "100%|████████████████████████████████████████████████████████████████████████████████| 225/225 [00:30<00:00,  7.29it/s]\n"
     ]
    },
    {
     "name": "stdout",
     "output_type": "stream",
     "text": [
      "epoch: 2/50, train_loss: 2.67046856880188, eval_score_train: 0.6301692588564678 eval_score_val: 0.6516337883320867\n"
     ]
    },
    {
     "name": "stderr",
     "output_type": "stream",
     "text": [
      "100%|████████████████████████████████████████████████████████████████████████████████| 225/225 [00:30<00:00,  7.49it/s]\n"
     ]
    },
    {
     "name": "stdout",
     "output_type": "stream",
     "text": [
      "epoch: 3/50, train_loss: 2.6706411838531494, eval_score_train: 0.6361065753315545 eval_score_val: 0.653455919080919\n"
     ]
    },
    {
     "name": "stderr",
     "output_type": "stream",
     "text": [
      "100%|████████████████████████████████████████████████████████████████████████████████| 225/225 [00:31<00:00,  7.18it/s]\n"
     ]
    },
    {
     "name": "stdout",
     "output_type": "stream",
     "text": [
      "epoch: 4/50, train_loss: 2.6706244945526123, eval_score_train: 0.6401179539959164 eval_score_val: 0.6535489521329365\n"
     ]
    },
    {
     "name": "stderr",
     "output_type": "stream",
     "text": [
      "100%|████████████████████████████████████████████████████████████████████████████████| 225/225 [00:30<00:00,  7.49it/s]\n"
     ]
    },
    {
     "name": "stdout",
     "output_type": "stream",
     "text": [
      "epoch: 5/50, train_loss: 2.670597791671753, eval_score_train: 0.6431260594449209 eval_score_val: 0.6535489521329365\n"
     ]
    },
    {
     "name": "stderr",
     "output_type": "stream",
     "text": [
      "100%|████████████████████████████████████████████████████████████████████████████████| 225/225 [00:30<00:00,  7.49it/s]\n"
     ]
    },
    {
     "name": "stdout",
     "output_type": "stream",
     "text": [
      "epoch: 6/50, train_loss: 2.6706185340881348, eval_score_train: 0.645264610577693 eval_score_val: 0.6546666460701928\n"
     ]
    },
    {
     "name": "stderr",
     "output_type": "stream",
     "text": [
      "100%|████████████████████████████████████████████████████████████████████████████████| 225/225 [00:30<00:00,  7.36it/s]\n"
     ]
    },
    {
     "name": "stdout",
     "output_type": "stream",
     "text": [
      "epoch: 7/50, train_loss: 2.6705446243286133, eval_score_train: 0.6468439017558139 eval_score_val: 0.6552639751552796\n"
     ]
    },
    {
     "name": "stderr",
     "output_type": "stream",
     "text": [
      "100%|████████████████████████████████████████████████████████████████████████████████| 225/225 [00:30<00:00,  7.47it/s]\n"
     ]
    },
    {
     "name": "stdout",
     "output_type": "stream",
     "text": [
      "epoch: 8/50, train_loss: 2.670536518096924, eval_score_train: 0.6480441501125431 eval_score_val: 0.6541479037267081\n"
     ]
    },
    {
     "name": "stderr",
     "output_type": "stream",
     "text": [
      "100%|████████████████████████████████████████████████████████████████████████████████| 225/225 [00:30<00:00,  7.50it/s]\n"
     ]
    },
    {
     "name": "stdout",
     "output_type": "stream",
     "text": [
      "epoch: 9/50, train_loss: 2.670638084411621, eval_score_train: 0.6484233518603595 eval_score_val: 0.655265458653132\n"
     ]
    },
    {
     "name": "stderr",
     "output_type": "stream",
     "text": [
      "100%|████████████████████████████████████████████████████████████████████████████████| 225/225 [00:29<00:00,  7.58it/s]\n"
     ]
    },
    {
     "name": "stdout",
     "output_type": "stream",
     "text": [
      "epoch: 10/50, train_loss: 2.670579671859741, eval_score_train: 0.6495337422383411 eval_score_val: 0.655265458653132\n"
     ]
    },
    {
     "name": "stderr",
     "output_type": "stream",
     "text": [
      "100%|████████████████████████████████████████████████████████████████████████████████| 225/225 [00:29<00:00,  7.57it/s]\n"
     ]
    },
    {
     "name": "stdout",
     "output_type": "stream",
     "text": [
      "epoch: 11/50, train_loss: 2.6706390380859375, eval_score_train: 0.6497503163977505 eval_score_val: 0.6558624751984128\n"
     ]
    },
    {
     "name": "stderr",
     "output_type": "stream",
     "text": [
      "100%|████████████████████████████████████████████████████████████████████████████████| 225/225 [00:29<00:00,  7.58it/s]\n"
     ]
    },
    {
     "name": "stdout",
     "output_type": "stream",
     "text": [
      "epoch: 12/50, train_loss: 2.6706221103668213, eval_score_train: 0.6498272125536252 eval_score_val: 0.6541479037267081\n"
     ]
    },
    {
     "name": "stderr",
     "output_type": "stream",
     "text": [
      "100%|████████████████████████████████████████████████████████████████████████████████| 225/225 [00:30<00:00,  7.50it/s]\n"
     ]
    },
    {
     "name": "stdout",
     "output_type": "stream",
     "text": [
      "epoch: 13/50, train_loss: 2.6707117557525635, eval_score_train: 0.37145160646902053 eval_score_val: 0.33702390840056956\n"
     ]
    },
    {
     "name": "stderr",
     "output_type": "stream",
     "text": [
      "100%|████████████████████████████████████████████████████████████████████████████████| 225/225 [00:30<00:00,  7.29it/s]\n"
     ]
    },
    {
     "name": "stdout",
     "output_type": "stream",
     "text": [
      "epoch: 14/50, train_loss: 2.670644521713257, eval_score_train: 0.6505109487070792 eval_score_val: 0.6564601067110782\n"
     ]
    },
    {
     "name": "stderr",
     "output_type": "stream",
     "text": [
      "100%|████████████████████████████████████████████████████████████████████████████████| 225/225 [00:29<00:00,  7.55it/s]\n"
     ]
    },
    {
     "name": "stdout",
     "output_type": "stream",
     "text": [
      "epoch: 15/50, train_loss: 2.6705822944641113, eval_score_train: 0.6505109487070792 eval_score_val: 0.6536303323412699\n"
     ]
    },
    {
     "name": "stderr",
     "output_type": "stream",
     "text": [
      "100%|████████████████████████████████████████████████████████████████████████████████| 225/225 [00:29<00:00,  7.56it/s]\n"
     ]
    },
    {
     "name": "stdout",
     "output_type": "stream",
     "text": [
      "epoch: 16/50, train_loss: 2.6706035137176514, eval_score_train: 0.650733851693857 eval_score_val: 0.6547464037698413\n"
     ]
    },
    {
     "name": "stderr",
     "output_type": "stream",
     "text": [
      "100%|████████████████████████████████████████████████████████████████████████████████| 225/225 [00:29<00:00,  7.59it/s]\n"
     ]
    },
    {
     "name": "stdout",
     "output_type": "stream",
     "text": [
      "epoch: 17/50, train_loss: 2.670659065246582, eval_score_train: 0.650880098466398 eval_score_val: 0.6547490763546798\n"
     ]
    },
    {
     "data": {
      "image/png": "[encoded data removed]",
      "text/plain": [
       "<Figure size 1080x360 with 2 Axes>"
      ]
     },
     "metadata": {
      "needs_background": "light"
     },
     "output_type": "display_data"
    },
    {
     "name": "stdout",
     "output_type": "stream",
     "text": [
      "[[295   0   0   0]\n",
      " [  0   0   0 296]\n",
      " [  0   0 300   0]\n",
      " [  0   0   0 165]]\n",
      "71.97\n",
      "f1_weighted: 0.6458151805595894, f1_macro: 0.6317891373801917, f1_micro: 0.7196969696969698, f_measure: {'Known': 66.6667, 'Open': 52.7157, 'F1-score': 63.1789}\n",
      "              precision    recall  f1-score   support\n",
      "\n",
      "           0       1.00      1.00      1.00       295\n",
      "           1       0.00      0.00      0.00       296\n",
      "           2       1.00      1.00      1.00       300\n",
      "           5       0.36      1.00      0.53       165\n",
      "\n",
      "    accuracy                           0.72      1056\n",
      "   macro avg       0.59      0.75      0.63      1056\n",
      "weighted avg       0.62      0.72      0.65      1056\n",
      "\n"
     ]
    }
   ],
   "source": [
    "test_data, oset = oset_train(ablation=3000,designated_ukc_cls=5,num_classes=3,embedding_size=8,lr_rate=1,optimizer='adam',\n",
    "pretrain_epochs=3,octrain_epochs=50,wait_patient=3)"
   ]
  },
  {
   "cell_type": "code",
   "execution_count": null,
   "id": "de30617a-7ef5-414f-b98e-6c0a188c9a60",
   "metadata": {},
   "outputs": [
    {
     "name": "stdout",
     "output_type": "stream",
     "text": [
      "ablation set to : 3000\n",
      "padded_num_seq_df loaded from C:\\Users\\Bhujay_ROG\\MyDev\\OCLog\\oclog\\BGL\\data\\bgl_ukc.pkl\n",
      "trained tokenizer, tk, loaded from C:\\Users\\Bhujay_ROG\\MyDev\\OCLog\\oclog\\BGL\\data\\bgltkukc.pkl\n",
      "train_0:, 2400\n",
      "val_0:, 300\n",
      "test_0:, 300\n",
      "train_1:, 2400\n",
      "val_1:, 300\n",
      "test_1:, 300\n",
      "train_2:, 2400\n",
      "val_2:, 300\n",
      "test_2:, 300\n",
      "902 data in class 3 not enough to split into train:2400 and validation:300, adding the entire data as ukc\n",
      "628 data in class 4 not enough to split into train:2400 and validation:300, adding the entire data as ukc\n",
      "class 5 is added as ukc\n",
      "ukc_5:, 165\n",
      "75 data in class 6 not enough to split into train:2400 and validation:300, adding the entire data as ukc\n",
      "train: 0    2400\n",
      "1    2400\n",
      "2    2400\n",
      "Name: label, dtype: int64\n",
      "val: 0    300\n",
      "1    300\n",
      "2    300\n",
      "Name: label, dtype: int64\n",
      "test: 0    300\n",
      "1    300\n",
      "2    300\n",
      "5    165\n",
      "Name: label, dtype: int64\n",
      "[[1. 0. 0.]\n",
      " [1. 0. 0.]]\n",
      "some example of labels:\n",
      "[[1. 0. 0. 0. 0. 0.]\n",
      " [1. 0. 0. 0. 0. 0.]]\n",
      "[[1. 0. 0.]\n",
      " [1. 0. 0.]]\n",
      "<BatchDataset element_spec=(TensorSpec(shape=(32, 32, 64), dtype=tf.int32, name=None), TensorSpec(shape=(32, 3), dtype=tf.float32, name=None))>\n",
      "<BatchDataset element_spec=(TensorSpec(shape=(32, 32, 64), dtype=tf.int32, name=None), TensorSpec(shape=(32, 3), dtype=tf.float32, name=None))>\n",
      "<BatchDataset element_spec=(TensorSpec(shape=(32, 32, 64), dtype=tf.int32, name=None), TensorSpec(shape=(32, 6), dtype=tf.float32, name=None))>\n",
      "64\n",
      "3\n",
      "vocab_size: 50\n",
      "Epoch 1/3\n",
      "225/225 [==============================] - 22s 97ms/step - loss: 0.0623 - accuracy: 0.9783 - precision_6: 0.9918 - recall_6: 0.9629 - val_loss: 4.9213e-05 - val_accuracy: 1.0000 - val_precision_6: 1.0000 - val_recall_6: 1.0000\n",
      "Epoch 2/3\n",
      " 28/225 [==>...........................] - ETA: 18s - loss: 0.0041 - accuracy: 0.9978 - precision_6: 0.9978 - recall_6: 0.9978"
     ]
    }
   ],
   "source": [
    "test_data, oset = oset_train(ablation=3000,designated_ukc_cls=5,num_classes=3,embedding_size=4,lr_rate=1,optimizer='adam',\n",
    "pretrain_epochs=3,octrain_epochs=50,wait_patient=3)"
   ]
  }
 ],
 "metadata": {
  "kernelspec": {
   "display_name": "Python 3 (ipykernel)",
   "language": "python",
   "name": "python3"
  },
  "language_info": {
   "codemirror_mode": {
    "name": "ipython",
    "version": 3
   },
   "file_extension": ".py",
   "mimetype": "text/x-python",
   "name": "python",
   "nbconvert_exporter": "python",
   "pygments_lexer": "ipython3",
   "version": "3.9.12"
  }
 },
 "nbformat": 4,
 "nbformat_minor": 5
}
