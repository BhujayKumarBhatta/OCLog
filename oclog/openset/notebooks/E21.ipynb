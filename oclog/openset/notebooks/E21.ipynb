{
 "cells": [
  {
   "cell_type": "code",
   "execution_count": 11,
   "id": "c4aefd92",
   "metadata": {},
   "outputs": [],
   "source": [
    "import os, sys\n",
    "cur_dir = os.getcwd()\n",
    "basename = os.path.basename(cur_dir)\n",
    "for _ in range(5):\n",
    "    if basename != 'OCLog':\n",
    "        cur_dir = os.path.dirname(cur_dir)\n",
    "        basename = os.path.basename(cur_dir)\n",
    "        #print(cur_dir, basename)\n",
    "    else:\n",
    "        if cur_dir not in sys.path:\n",
    "            sys.path.append(cur_dir)\n",
    "            #print(sys.path)"
   ]
  },
  {
   "cell_type": "code",
   "execution_count": 12,
   "id": "619d8a33",
   "metadata": {},
   "outputs": [],
   "source": [
    "import os\n",
    "from openpyxl import Workbook\n",
    "from openpyxl import load_workbook\n",
    "import pandas as pd\n",
    "import numpy as np\n",
    "import matplotlib.pyplot as plt\n",
    "import seaborn as sns\n",
    "import tensorflow as tf\n",
    "from tqdm import trange, tqdm, tnrange\n",
    "from oclog.BGL.bglogUKC import BGLog, get_embedding_layer\n",
    "from oclog.openset.boundary_loss import euclidean_metric, BoundaryLoss\n",
    "from oclog.openset.pretraining import LogLineEncoder, LogSeqEncoder, LogClassifier\n",
    "# from oclog.openset.openset import OpenSet\n",
    "from oclog.openset.opensetv6 import OpenSet\n",
    "from sklearn.metrics import confusion_matrix, f1_score, accuracy_score\n",
    "import sklearn.metrics as m\n",
    "import warnings\n",
    "warnings.filterwarnings('ignore')"
   ]
  },
  {
   "cell_type": "code",
   "execution_count": 13,
   "id": "4c5dcc93-126e-44f8-95ca-a03cbc1f9f4e",
   "metadata": {},
   "outputs": [],
   "source": [
    "def update_tracker(file_name, data):\n",
    "    if os.path.exists(file_name):\n",
    "        wb = load_workbook(file_name)\n",
    "    else:\n",
    "        wb = Workbook()    \n",
    "    wb.save(file_name)\n",
    "    # wb.close(file_name)\n",
    "    orig_df = pd.read_excel(file_name,)\n",
    "    #print(orig_df.head())\n",
    "    new_df = pd.DataFrame(data, )\n",
    "    concat_df = pd.concat([orig_df, new_df], axis=0)\n",
    "    #print(concat_df.head())\n",
    "    concat_df.to_excel(file_name)\n",
    "    return concat_df\n",
    "\n",
    "def oset_train(ablation=5000,designated_ukc_cls=3,num_classes=2,embedding_size=128,lr_rate=3,optimizer='sgd',\n",
    "pretrain_epochs=3,octrain_epochs=50,wait_patient=3, debug=False, tracker='tracker.xlsx', comment=''):\n",
    "    tf.random.set_seed(1234)\n",
    "    np.random.seed(1234) \n",
    "    bglog = BGLog(save_padded_num_sequences=False, debug=debug,  load_from_pkl=True, )\n",
    "    train_test = bglog.get_tensor_train_val_test(ablation=ablation, designated_ukc_cls=designated_ukc_cls )\n",
    "    train_data, val_data, test_data = train_test\n",
    "    line_encoder = LogLineEncoder(bglog, chars_in_line=64)\n",
    "    logSeqencer =  LogSeqEncoder(line_in_seq=32, dense_neurons=embedding_size)\n",
    "    ptmodel = LogClassifier(line_encoder=line_encoder, seq_encoder=logSeqencer, num_classes=num_classes)\n",
    "    ptmodel.compile(optimizer='adam', loss='categorical_crossentropy',\n",
    "                  metrics=['accuracy', tf.keras.metrics.Precision(), tf.keras.metrics.Recall()])\n",
    "    hist = ptmodel.fit(train_data, validation_data=val_data, epochs=pretrain_epochs)    \n",
    "    oset = OpenSet(num_classes, ptmodel, embedding_size=embedding_size)\n",
    "    _, _ = oset.train(train_data,data_val=val_data, epochs=octrain_epochs, lr_rate=lr_rate, wait_patient=wait_patient, optimizer=optimizer)\n",
    "    _, _, f1_weighted, f_measure = oset.evaluate(test_data, ukc_label=designated_ukc_cls)\n",
    "    lst = list(tf.reshape(oset.radius, (1, num_classes)).numpy()[0])\n",
    "    lst = [str(i) for i in lst]\n",
    "    radius = ','.join(lst)\n",
    "    loss = oset.losses[len(oset.losses)-1].numpy()\n",
    "    tracker_data = {'ablation':[ablation],'designated_ukc_cls': [designated_ukc_cls],'num_classes': [num_classes],\n",
    "                   'embedding_size': [embedding_size], 'lr_rate': [lr_rate], 'optimizer': [optimizer],\n",
    "                    'pretrain_epochs': [pretrain_epochs],'octrain_epochs': [octrain_epochs], 'wait_patient': [wait_patient], \n",
    "                   'f1_weighted': [f1_weighted], 'f1_macro': f_measure.get('F1-score'), \n",
    "                   'F1Known': f_measure.get('Known'), 'F1Open': f_measure.get('Open'), 'loss':[loss], 'Radius': radius,\n",
    "                   'comment': comment}\n",
    "    update_tracker(tracker, tracker_data)\n",
    "    return test_data, oset"
   ]
  },
  {
   "cell_type": "code",
   "execution_count": 4,
   "id": "9f110255-e914-432c-92ef-fa665de2afab",
   "metadata": {},
   "outputs": [
    {
     "name": "stdout",
     "output_type": "stream",
     "text": [
      "padded_num_seq_df loaded from C:\\Users\\Bhujay_ROG\\MyDev\\OCLog\\oclog\\BGL\\data\\bgl_ukc.pkl\n",
      "trained tokenizer, tk, loaded from C:\\Users\\Bhujay_ROG\\MyDev\\OCLog\\oclog\\BGL\\data\\bgltkukc.pkl\n",
      "train_0:, 400\n",
      "val_0:, 50\n",
      "test_0:, 50\n",
      "train_1:, 400\n",
      "val_1:, 50\n",
      "test_1:, 50\n",
      "train_2:, 400\n",
      "val_2:, 50\n",
      "test_2:, 50\n",
      "train_3:, 400\n",
      "val_3:, 50\n",
      "test_3:, 50\n",
      "train_4:, 400\n",
      "val_4:, 50\n",
      "test_4:, 50\n",
      "class 5 is added as ukc\n",
      "ukc_5:, 50\n",
      "vocab_size: 50\n",
      "Epoch 1/3\n",
      "62/62 [==============================] - 7s 99ms/step - loss: 1.1837 - accuracy: 0.5585 - precision: 0.9676 - recall: 0.2858 - val_loss: 1.0390 - val_accuracy: 0.6250 - val_precision: 1.0000 - val_recall: 0.3839\n",
      "Epoch 2/3\n",
      "62/62 [==============================] - 6s 94ms/step - loss: 0.6789 - accuracy: 0.7505 - precision: 0.9445 - recall: 0.6008 - val_loss: 0.5300 - val_accuracy: 0.8527 - val_precision: 0.9563 - val_recall: 0.7812\n",
      "Epoch 3/3\n",
      "62/62 [==============================] - 6s 95ms/step - loss: 0.4606 - accuracy: 0.8735 - precision: 0.9428 - recall: 0.7555 - val_loss: 0.4238 - val_accuracy: 0.8348 - val_precision: 0.9389 - val_recall: 0.7545\n"
     ]
    },
    {
     "name": "stderr",
     "output_type": "stream",
     "text": [
      "100%|██████████████████████████████████████████████████████████████████████████████████| 62/62 [00:08<00:00,  7.25it/s]\n"
     ]
    },
    {
     "name": "stdout",
     "output_type": "stream",
     "text": [
      "epoch: 1/50, train_loss: 4.979928970336914, F1_train: 0.6600441866917959 F1_val: 0.3710705476411662\n"
     ]
    },
    {
     "name": "stderr",
     "output_type": "stream",
     "text": [
      "100%|██████████████████████████████████████████████████████████████████████████████████| 62/62 [00:08<00:00,  7.41it/s]\n"
     ]
    },
    {
     "name": "stdout",
     "output_type": "stream",
     "text": [
      "epoch: 2/50, train_loss: 4.99911642074585, F1_train: 0.7510742814693177 F1_val: 0.4375670490262899\n"
     ]
    },
    {
     "name": "stderr",
     "output_type": "stream",
     "text": [
      "100%|██████████████████████████████████████████████████████████████████████████████████| 62/62 [00:08<00:00,  7.50it/s]\n"
     ]
    },
    {
     "name": "stdout",
     "output_type": "stream",
     "text": [
      "epoch: 3/50, train_loss: 4.987513065338135, F1_train: 0.783946301159254 F1_val: 0.4890246634946887\n"
     ]
    },
    {
     "name": "stderr",
     "output_type": "stream",
     "text": [
      "100%|██████████████████████████████████████████████████████████████████████████████████| 62/62 [00:08<00:00,  7.43it/s]\n"
     ]
    },
    {
     "name": "stdout",
     "output_type": "stream",
     "text": [
      "epoch: 4/50, train_loss: 4.979439735412598, F1_train: 0.8495847694467024 F1_val: 0.707304028812192\n"
     ]
    },
    {
     "name": "stderr",
     "output_type": "stream",
     "text": [
      "100%|██████████████████████████████████████████████████████████████████████████████████| 62/62 [00:08<00:00,  7.10it/s]\n"
     ]
    },
    {
     "name": "stdout",
     "output_type": "stream",
     "text": [
      "epoch: 5/50, train_loss: 4.997683048248291, F1_train: 0.8613335911581231 F1_val: 0.77454438200846\n"
     ]
    },
    {
     "name": "stderr",
     "output_type": "stream",
     "text": [
      "100%|██████████████████████████████████████████████████████████████████████████████████| 62/62 [00:08<00:00,  7.46it/s]\n"
     ]
    },
    {
     "name": "stdout",
     "output_type": "stream",
     "text": [
      "epoch: 6/50, train_loss: 5.002133369445801, F1_train: 0.8726804801564833 F1_val: 0.8297717520544493\n"
     ]
    },
    {
     "name": "stderr",
     "output_type": "stream",
     "text": [
      "100%|██████████████████████████████████████████████████████████████████████████████████| 62/62 [00:08<00:00,  7.25it/s]\n"
     ]
    },
    {
     "name": "stdout",
     "output_type": "stream",
     "text": [
      "epoch: 7/50, train_loss: 4.9873738288879395, F1_train: 0.8824323719925429 F1_val: 0.8443720032604526\n"
     ]
    },
    {
     "name": "stderr",
     "output_type": "stream",
     "text": [
      "100%|██████████████████████████████████████████████████████████████████████████████████| 62/62 [00:08<00:00,  7.47it/s]\n"
     ]
    },
    {
     "name": "stdout",
     "output_type": "stream",
     "text": [
      "epoch: 8/50, train_loss: 5.002580165863037, F1_train: 0.892902033313121 F1_val: 0.8775314338155391\n"
     ]
    },
    {
     "name": "stderr",
     "output_type": "stream",
     "text": [
      "100%|██████████████████████████████████████████████████████████████████████████████████| 62/62 [00:08<00:00,  7.37it/s]\n"
     ]
    },
    {
     "name": "stdout",
     "output_type": "stream",
     "text": [
      "epoch: 9/50, train_loss: 4.993923187255859, F1_train: 0.9019593657173393 F1_val: 0.8829036945224704\n"
     ]
    },
    {
     "name": "stderr",
     "output_type": "stream",
     "text": [
      "100%|██████████████████████████████████████████████████████████████████████████████████| 62/62 [00:08<00:00,  6.94it/s]\n"
     ]
    },
    {
     "name": "stdout",
     "output_type": "stream",
     "text": [
      "epoch: 10/50, train_loss: 5.001940727233887, F1_train: 0.909141604325166 F1_val: 0.8812044294127317\n"
     ]
    },
    {
     "name": "stderr",
     "output_type": "stream",
     "text": [
      "100%|██████████████████████████████████████████████████████████████████████████████████| 62/62 [00:08<00:00,  7.37it/s]\n"
     ]
    },
    {
     "name": "stdout",
     "output_type": "stream",
     "text": [
      "epoch: 11/50, train_loss: 4.998648166656494, F1_train: 0.9124877825866807 F1_val: 0.9047725115425311\n"
     ]
    },
    {
     "name": "stderr",
     "output_type": "stream",
     "text": [
      "100%|██████████████████████████████████████████████████████████████████████████████████| 62/62 [00:08<00:00,  7.27it/s]\n"
     ]
    },
    {
     "name": "stdout",
     "output_type": "stream",
     "text": [
      "epoch: 12/50, train_loss: 5.0032806396484375, F1_train: 0.9126447411181089 F1_val: 0.8927744935380453\n"
     ]
    },
    {
     "name": "stderr",
     "output_type": "stream",
     "text": [
      "100%|██████████████████████████████████████████████████████████████████████████████████| 62/62 [00:08<00:00,  7.27it/s]\n"
     ]
    },
    {
     "name": "stdout",
     "output_type": "stream",
     "text": [
      "epoch: 13/50, train_loss: 4.994077682495117, F1_train: 0.9126008665446622 F1_val: 0.9048771439977085\n"
     ]
    },
    {
     "name": "stderr",
     "output_type": "stream",
     "text": [
      "100%|██████████████████████████████████████████████████████████████████████████████████| 62/62 [00:08<00:00,  7.11it/s]\n"
     ]
    },
    {
     "name": "stdout",
     "output_type": "stream",
     "text": [
      "epoch: 14/50, train_loss: 5.006041049957275, F1_train: 0.9131055882153579 F1_val: 0.8929462213980638\n"
     ]
    },
    {
     "name": "stderr",
     "output_type": "stream",
     "text": [
      "100%|██████████████████████████████████████████████████████████████████████████████████| 62/62 [00:08<00:00,  7.36it/s]\n"
     ]
    },
    {
     "name": "stdout",
     "output_type": "stream",
     "text": [
      "epoch: 15/50, train_loss: 4.997560501098633, F1_train: 0.9128321261475457 F1_val: 0.8972984231190532\n"
     ]
    },
    {
     "name": "stderr",
     "output_type": "stream",
     "text": [
      "100%|██████████████████████████████████████████████████████████████████████████████████| 62/62 [00:08<00:00,  7.40it/s]\n"
     ]
    },
    {
     "name": "stdout",
     "output_type": "stream",
     "text": [
      "epoch: 16/50, train_loss: 4.998600006103516, F1_train: 0.9118273717090135 F1_val: 0.9053588313394096\n"
     ]
    },
    {
     "name": "stderr",
     "output_type": "stream",
     "text": [
      "100%|██████████████████████████████████████████████████████████████████████████████████| 62/62 [00:08<00:00,  7.40it/s]\n"
     ]
    },
    {
     "name": "stdout",
     "output_type": "stream",
     "text": [
      "epoch: 17/50, train_loss: 5.000631332397461, F1_train: 0.9123926481121895 F1_val: 0.921913542603287\n"
     ]
    },
    {
     "name": "stderr",
     "output_type": "stream",
     "text": [
      "100%|██████████████████████████████████████████████████████████████████████████████████| 62/62 [00:08<00:00,  7.41it/s]\n"
     ]
    },
    {
     "name": "stdout",
     "output_type": "stream",
     "text": [
      "epoch: 18/50, train_loss: 4.9882049560546875, F1_train: 0.9125984222659843 F1_val: 0.9010259377797719\n"
     ]
    },
    {
     "name": "stderr",
     "output_type": "stream",
     "text": [
      "100%|██████████████████████████████████████████████████████████████████████████████████| 62/62 [00:08<00:00,  7.18it/s]\n"
     ]
    },
    {
     "name": "stdout",
     "output_type": "stream",
     "text": [
      "epoch: 19/50, train_loss: 4.986266613006592, F1_train: 0.9135980251159308 F1_val: 0.8967487550982722\n"
     ]
    },
    {
     "name": "stderr",
     "output_type": "stream",
     "text": [
      "100%|██████████████████████████████████████████████████████████████████████████████████| 62/62 [00:08<00:00,  7.43it/s]\n"
     ]
    },
    {
     "name": "stdout",
     "output_type": "stream",
     "text": [
      "epoch: 20/50, train_loss: 4.993237018585205, F1_train: 0.9126333532922208 F1_val: 0.9052046361144317\n"
     ]
    },
    {
     "data": {
      "image/png": "[encoded data removed]",
      "text/plain": [
       "<Figure size 1080x360 with 2 Axes>"
      ]
     },
     "metadata": {
      "needs_background": "light"
     },
     "output_type": "display_data"
    },
    {
     "name": "stdout",
     "output_type": "stream",
     "text": [
      "[[28  0  0  0 19  0]\n",
      " [ 0 46  0  0  3  0]\n",
      " [ 0  0 46  0  0  0]\n",
      " [ 0  0  0 41  5  0]\n",
      " [ 0  0  0  1 49  0]\n",
      " [ 0 19  0 18 13  0]]\n",
      "72.92\n",
      "f1_weighted: 0.6648399208471686, f1_macro: 0.6720508479016192, f1_micro: 0.7291666666666665, f_measure: {'Known': 80.6461, 'Open': 0, 'F1-score': 67.2051}\n",
      "              precision    recall  f1-score   support\n",
      "\n",
      "           0       1.00      0.60      0.75        47\n",
      "           1       0.71      0.94      0.81        49\n",
      "           2       1.00      1.00      1.00        46\n",
      "           3       0.68      0.89      0.77        46\n",
      "           4       0.55      0.98      0.71        50\n",
      "           5       0.00      0.00      0.00        50\n",
      "\n",
      "    accuracy                           0.73       288\n",
      "   macro avg       0.66      0.73      0.67       288\n",
      "weighted avg       0.65      0.73      0.66       288\n",
      "\n",
      "Empty DataFrame\n",
      "Columns: []\n",
      "Index: []\n",
      "   ablation  designated_ukc_cls  num_classes  embedding_size  lr_rate  \\\n",
      "0       500                   5            5               2        5   \n",
      "\n",
      "  optimizer  pretrain_epochs  octrain_epochs  wait_patient  f1_weighted  \\\n",
      "0      adam                3              50             3      0.66484   \n",
      "\n",
      "   f1_macro  F1Known  F1Open                                        Radius  \n",
      "0   67.2051  80.6461       0  13.432513.437942513.49287613.41337613.494269  \n"
     ]
    }
   ],
   "source": [
    "test_data, oset = oset_train(ablation=500,designated_ukc_cls=5,num_classes=5,embedding_size=2,lr_rate=5,optimizer='adam',\n",
    "pretrain_epochs=3,octrain_epochs=50, wait_patient=3)"
   ]
  },
  {
   "cell_type": "code",
   "execution_count": 18,
   "id": "faebe169-adf8-450b-9d4b-6e577c21b857",
   "metadata": {},
   "outputs": [
    {
     "name": "stdout",
     "output_type": "stream",
     "text": [
      "padded_num_seq_df loaded from C:\\Users\\Bhujay_ROG\\MyDev\\OCLog\\oclog\\BGL\\data\\bgl_ukc.pkl\n",
      "trained tokenizer, tk, loaded from C:\\Users\\Bhujay_ROG\\MyDev\\OCLog\\oclog\\BGL\\data\\bgltkukc.pkl\n",
      "train_0:, 800\n",
      "val_0:, 100\n",
      "test_0:, 100\n",
      "train_1:, 800\n",
      "val_1:, 100\n",
      "test_1:, 100\n",
      "train_2:, 800\n",
      "val_2:, 100\n",
      "test_2:, 100\n",
      "train_3:, 800\n",
      "val_3:, 100\n",
      "test_3:, 2\n",
      "class 5 is added as ukc\n",
      "ukc_5:, 100\n",
      "vocab_size: 50\n",
      "Epoch 1/14\n",
      "100/100 [==============================] - 10s 99ms/step - loss: 1.0953 - accuracy: 0.4688 - precision_9: 0.7907 - recall_9: 0.1972 - val_loss: 0.9625 - val_accuracy: 0.5000 - val_precision_9: 0.5588 - val_recall_9: 0.2474\n",
      "Epoch 2/14\n",
      "100/100 [==============================] - 10s 96ms/step - loss: 0.9330 - accuracy: 0.5206 - precision_9: 0.6882 - recall_9: 0.2497 - val_loss: 0.8779 - val_accuracy: 0.5026 - val_precision_9: 0.5249 - val_recall_9: 0.2474\n",
      "Epoch 3/14\n",
      "100/100 [==============================] - 10s 96ms/step - loss: 0.8765 - accuracy: 0.5734 - precision_9: 0.6923 - recall_9: 0.2503 - val_loss: 0.8578 - val_accuracy: 0.6172 - val_precision_9: 0.8393 - val_recall_9: 0.2448\n",
      "Epoch 4/14\n",
      "100/100 [==============================] - 10s 96ms/step - loss: 0.8297 - accuracy: 0.6153 - precision_9: 0.7320 - recall_9: 0.2928 - val_loss: 0.7950 - val_accuracy: 0.6823 - val_precision_9: 0.9290 - val_recall_9: 0.4089\n",
      "Epoch 5/14\n",
      "100/100 [==============================] - 10s 96ms/step - loss: 0.8146 - accuracy: 0.6388 - precision_9: 0.8146 - recall_9: 0.3706 - val_loss: 0.7869 - val_accuracy: 0.5755 - val_precision_9: 0.6595 - val_recall_9: 0.3177\n",
      "Epoch 6/14\n",
      "100/100 [==============================] - 10s 97ms/step - loss: 0.7642 - accuracy: 0.6841 - precision_9: 0.8891 - recall_9: 0.4234 - val_loss: 0.7184 - val_accuracy: 0.7188 - val_precision_9: 0.9514 - val_recall_9: 0.4583\n",
      "Epoch 7/14\n",
      "100/100 [==============================] - 10s 97ms/step - loss: 0.7557 - accuracy: 0.6762 - precision_9: 0.8862 - recall_9: 0.4159 - val_loss: 0.7100 - val_accuracy: 0.6901 - val_precision_9: 0.9293 - val_recall_9: 0.4453\n",
      "Epoch 8/14\n",
      "100/100 [==============================] - 10s 96ms/step - loss: 0.7093 - accuracy: 0.7181 - precision_9: 0.9580 - recall_9: 0.4638 - val_loss: 0.6925 - val_accuracy: 0.7083 - val_precision_9: 0.9722 - val_recall_9: 0.4557\n",
      "Epoch 9/14\n",
      "100/100 [==============================] - 10s 99ms/step - loss: 0.6837 - accuracy: 0.7266 - precision_9: 0.9686 - recall_9: 0.4719 - val_loss: 0.6605 - val_accuracy: 0.7135 - val_precision_9: 0.9672 - val_recall_9: 0.4609\n",
      "Epoch 10/14\n",
      "100/100 [==============================] - 10s 97ms/step - loss: 0.6597 - accuracy: 0.7319 - precision_9: 0.9826 - recall_9: 0.4756 - val_loss: 0.6659 - val_accuracy: 0.7083 - val_precision_9: 0.9459 - val_recall_9: 0.4557\n",
      "Epoch 11/14\n",
      "100/100 [==============================] - 10s 98ms/step - loss: 0.6236 - accuracy: 0.7703 - precision_9: 0.9744 - recall_9: 0.4884 - val_loss: 0.6525 - val_accuracy: 0.7109 - val_precision_9: 0.9669 - val_recall_9: 0.4557\n",
      "Epoch 12/14\n",
      "100/100 [==============================] - 10s 98ms/step - loss: 0.6398 - accuracy: 0.7228 - precision_9: 0.9807 - recall_9: 0.4769 - val_loss: 0.7282 - val_accuracy: 0.6719 - val_precision_9: 0.8696 - val_recall_9: 0.4167\n",
      "Epoch 13/14\n",
      "100/100 [==============================] - 10s 98ms/step - loss: 0.5323 - accuracy: 0.7953 - precision_9: 0.9733 - recall_9: 0.5462 - val_loss: 0.3005 - val_accuracy: 0.9792 - val_precision_9: 0.9931 - val_recall_9: 0.7448\n",
      "Epoch 14/14\n",
      "100/100 [==============================] - 10s 97ms/step - loss: 0.2984 - accuracy: 0.9647 - precision_9: 0.9884 - recall_9: 0.7178 - val_loss: 0.3214 - val_accuracy: 0.9661 - val_precision_9: 0.9752 - val_recall_9: 0.7161\n"
     ]
    },
    {
     "name": "stderr",
     "output_type": "stream",
     "text": [
      "100%|████████████████████████████████████████████████████████████████████████████████| 100/100 [00:14<00:00,  7.03it/s]\n"
     ]
    },
    {
     "name": "stdout",
     "output_type": "stream",
     "text": [
      "epoch: 1/50, train_loss: 14.165757179260254, F1_train: 0.6506973006195037 F1_val: 0.6461482894128525\n"
     ]
    },
    {
     "name": "stderr",
     "output_type": "stream",
     "text": [
      "100%|████████████████████████████████████████████████████████████████████████████████| 100/100 [00:14<00:00,  6.95it/s]\n"
     ]
    },
    {
     "name": "stdout",
     "output_type": "stream",
     "text": [
      "epoch: 2/50, train_loss: 14.165838241577148, F1_train: 0.6845189612292593 F1_val: 0.6677181149938424\n"
     ]
    },
    {
     "name": "stderr",
     "output_type": "stream",
     "text": [
      "100%|████████████████████████████████████████████████████████████████████████████████| 100/100 [00:14<00:00,  7.05it/s]\n"
     ]
    },
    {
     "name": "stdout",
     "output_type": "stream",
     "text": [
      "epoch: 3/50, train_loss: 14.166088104248047, F1_train: 0.6972673793670936 F1_val: 0.6860531224137092\n"
     ]
    },
    {
     "name": "stderr",
     "output_type": "stream",
     "text": [
      "100%|████████████████████████████████████████████████████████████████████████████████| 100/100 [00:14<00:00,  7.04it/s]\n"
     ]
    },
    {
     "name": "stdout",
     "output_type": "stream",
     "text": [
      "epoch: 4/50, train_loss: 14.165762901306152, F1_train: 0.7024272888375179 F1_val: 0.6727174370516762\n"
     ]
    },
    {
     "name": "stderr",
     "output_type": "stream",
     "text": [
      "100%|████████████████████████████████████████████████████████████████████████████████| 100/100 [00:14<00:00,  7.03it/s]\n"
     ]
    },
    {
     "name": "stdout",
     "output_type": "stream",
     "text": [
      "epoch: 5/50, train_loss: 14.165938377380371, F1_train: 0.7046763751569355 F1_val: 0.6877214237967916\n"
     ]
    },
    {
     "name": "stderr",
     "output_type": "stream",
     "text": [
      "100%|████████████████████████████████████████████████████████████████████████████████| 100/100 [00:14<00:00,  7.04it/s]\n"
     ]
    },
    {
     "name": "stdout",
     "output_type": "stream",
     "text": [
      "epoch: 6/50, train_loss: 14.16569709777832, F1_train: 0.7047152617483202 F1_val: 0.68092703941347\n"
     ]
    },
    {
     "name": "stderr",
     "output_type": "stream",
     "text": [
      "100%|████████████████████████████████████████████████████████████████████████████████| 100/100 [00:14<00:00,  7.03it/s]\n"
     ]
    },
    {
     "name": "stdout",
     "output_type": "stream",
     "text": [
      "epoch: 7/50, train_loss: 14.165853500366211, F1_train: 0.7046779003072088 F1_val: 0.6827008753336473\n"
     ]
    },
    {
     "name": "stderr",
     "output_type": "stream",
     "text": [
      "100%|████████████████████████████████████████████████████████████████████████████████| 100/100 [00:14<00:00,  7.05it/s]\n"
     ]
    },
    {
     "name": "stdout",
     "output_type": "stream",
     "text": [
      "epoch: 8/50, train_loss: 14.166082382202148, F1_train: 0.7050262176595103 F1_val: 0.6819340982173719\n"
     ]
    },
    {
     "data": {
      "image/png": "[encoded data removed]",
      "text/plain": [
       "<Figure size 1080x360 with 2 Axes>"
      ]
     },
     "metadata": {
      "needs_background": "light"
     },
     "output_type": "display_data"
    },
    {
     "name": "stdout",
     "output_type": "stream",
     "text": [
      "[[98  0  0  0  0]\n",
      " [ 0  0  0  0 92]\n",
      " [ 0  0 97  0  0]\n",
      " [ 0  0  0  2  0]\n",
      " [22  0 23  0 50]]\n",
      "64.32\n",
      "f1_weighted: 0.5648785779635153, f1_macro: 0.6430065427334487, f1_micro: 0.6432291666666666, f_measure: {'Known': 69.8273, 'Open': 42.1941, 'F1-score': 64.3007}\n",
      "              precision    recall  f1-score   support\n",
      "\n",
      "           0       0.82      1.00      0.90        98\n",
      "           1       0.00      0.00      0.00        92\n",
      "           2       0.81      1.00      0.89        97\n",
      "           3       1.00      1.00      1.00         2\n",
      "           5       0.35      0.53      0.42        95\n",
      "\n",
      "    accuracy                           0.64       384\n",
      "   macro avg       0.60      0.71      0.64       384\n",
      "weighted avg       0.50      0.64      0.56       384\n",
      "\n",
      "   Unnamed: 0  ablation  designated_ukc_cls  num_classes  embedding_size  \\\n",
      "0           0       500                   5            5               2   \n",
      "\n",
      "   lr_rate optimizer  pretrain_epochs  octrain_epochs  wait_patient  \\\n",
      "0        5      adam                3              50             3   \n",
      "\n",
      "   f1_weighted  f1_macro  F1Known  F1Open  \\\n",
      "0      0.66484   67.2051  80.6461       0   \n",
      "\n",
      "                                         Radius  \n",
      "0  13.432513.437942513.49287613.41337613.494269  \n",
      "   Unnamed: 0  ablation  designated_ukc_cls  num_classes  embedding_size  \\\n",
      "0         0.0       500                   5            5               2   \n",
      "0         NaN      1000                   5            4               2   \n",
      "\n",
      "   lr_rate optimizer  pretrain_epochs  octrain_epochs  wait_patient  \\\n",
      "0        5      adam                3              50             3   \n",
      "0        5      adam               14              50             3   \n",
      "\n",
      "   f1_weighted  f1_macro  F1Known   F1Open  \\\n",
      "0     0.664840   67.2051  80.6461   0.0000   \n",
      "0     0.564879   64.3007  69.8273  42.1941   \n",
      "\n",
      "                                         Radius  \\\n",
      "0  13.432513.437942513.49287613.41337613.494269   \n",
      "0           10.58870110.5942610.64900510.569677   \n",
      "\n",
      "                                            loss  \n",
      "0                                            NaN  \n",
      "0  tf.Tensor(1416.6083, shape=(), dtype=float32)  \n"
     ]
    }
   ],
   "source": [
    "test_data, oset = oset_train(ablation=1000,designated_ukc_cls=5,num_classes=4,embedding_size=2,\n",
    "                             lr_rate=5, optimizer='adam',\n",
    "pretrain_epochs=14,octrain_epochs=50, wait_patient=3)"
   ]
  },
  {
   "cell_type": "code",
   "execution_count": 24,
   "id": "51c79873-f377-4043-9458-e493b0c95800",
   "metadata": {},
   "outputs": [
    {
     "name": "stdout",
     "output_type": "stream",
     "text": [
      "padded_num_seq_df loaded from C:\\Users\\Bhujay_ROG\\MyDev\\OCLog\\oclog\\BGL\\data\\bgl_ukc.pkl\n",
      "trained tokenizer, tk, loaded from C:\\Users\\Bhujay_ROG\\MyDev\\OCLog\\oclog\\BGL\\data\\bgltkukc.pkl\n",
      "train_0:, 400\n",
      "val_0:, 50\n",
      "test_0:, 50\n",
      "train_1:, 400\n",
      "val_1:, 50\n",
      "test_1:, 50\n",
      "train_2:, 400\n",
      "val_2:, 50\n",
      "test_2:, 50\n",
      "train_3:, 400\n",
      "val_3:, 50\n",
      "test_3:, 50\n",
      "train_4:, 400\n",
      "val_4:, 50\n",
      "test_4:, 50\n",
      "class 5 is added as ukc\n",
      "ukc_5:, 50\n",
      "vocab_size: 50\n",
      "Epoch 1/14\n",
      "62/62 [==============================] - 7s 107ms/step - loss: 1.1837 - accuracy: 0.5585 - precision_10: 0.9676 - recall_10: 0.2858 - val_loss: 1.0390 - val_accuracy: 0.6250 - val_precision_10: 1.0000 - val_recall_10: 0.3839\n",
      "Epoch 2/14\n",
      "62/62 [==============================] - 6s 103ms/step - loss: 0.6789 - accuracy: 0.7505 - precision_10: 0.9445 - recall_10: 0.6008 - val_loss: 0.5300 - val_accuracy: 0.8527 - val_precision_10: 0.9563 - val_recall_10: 0.7812\n",
      "Epoch 3/14\n",
      "62/62 [==============================] - 7s 112ms/step - loss: 0.4606 - accuracy: 0.8735 - precision_10: 0.9428 - recall_10: 0.7555 - val_loss: 0.4238 - val_accuracy: 0.8348 - val_precision_10: 0.9389 - val_recall_10: 0.7545\n",
      "Epoch 4/14\n",
      "62/62 [==============================] - 6s 101ms/step - loss: 0.3701 - accuracy: 0.9168 - precision_10: 0.9487 - recall_10: 0.7732 - val_loss: 0.3190 - val_accuracy: 0.9152 - val_precision_10: 0.9777 - val_recall_10: 0.7812\n",
      "Epoch 5/14\n",
      "62/62 [==============================] - 6s 98ms/step - loss: 0.3092 - accuracy: 0.8810 - precision_10: 0.9242 - recall_10: 0.7989 - val_loss: 0.2210 - val_accuracy: 0.8527 - val_precision_10: 0.8524 - val_recall_10: 0.7991\n",
      "Epoch 6/14\n",
      "62/62 [==============================] - 6s 98ms/step - loss: 0.2034 - accuracy: 0.9335 - precision_10: 0.9388 - recall_10: 0.9209 - val_loss: 0.1705 - val_accuracy: 0.9598 - val_precision_10: 0.9729 - val_recall_10: 0.9598\n",
      "Epoch 7/14\n",
      "62/62 [==============================] - 6s 99ms/step - loss: 0.1519 - accuracy: 0.9486 - precision_10: 0.9495 - recall_10: 0.9486 - val_loss: 0.0655 - val_accuracy: 1.0000 - val_precision_10: 1.0000 - val_recall_10: 1.0000\n",
      "Epoch 8/14\n",
      "62/62 [==============================] - 6s 99ms/step - loss: 0.1127 - accuracy: 0.9647 - precision_10: 0.9652 - recall_10: 0.9647 - val_loss: 0.0189 - val_accuracy: 1.0000 - val_precision_10: 1.0000 - val_recall_10: 1.0000\n",
      "Epoch 9/14\n",
      "62/62 [==============================] - 6s 99ms/step - loss: 0.0743 - accuracy: 0.9763 - precision_10: 0.9763 - recall_10: 0.9763 - val_loss: 0.0746 - val_accuracy: 0.9688 - val_precision_10: 0.9688 - val_recall_10: 0.9688\n",
      "Epoch 10/14\n",
      "62/62 [==============================] - 6s 100ms/step - loss: 0.0527 - accuracy: 0.9819 - precision_10: 0.9819 - recall_10: 0.9819 - val_loss: 0.2418 - val_accuracy: 0.8884 - val_precision_10: 0.8884 - val_recall_10: 0.8884\n",
      "Epoch 11/14\n",
      "62/62 [==============================] - 6s 99ms/step - loss: 0.0796 - accuracy: 0.9743 - precision_10: 0.9743 - recall_10: 0.9743 - val_loss: 0.0190 - val_accuracy: 0.9911 - val_precision_10: 0.9911 - val_recall_10: 0.9911\n",
      "Epoch 12/14\n",
      "62/62 [==============================] - 6s 100ms/step - loss: 0.0549 - accuracy: 0.9798 - precision_10: 0.9798 - recall_10: 0.9798 - val_loss: 0.0444 - val_accuracy: 0.9955 - val_precision_10: 0.9955 - val_recall_10: 0.9955\n",
      "Epoch 13/14\n",
      "62/62 [==============================] - 6s 98ms/step - loss: 0.0360 - accuracy: 0.9884 - precision_10: 0.9884 - recall_10: 0.9884 - val_loss: 0.0269 - val_accuracy: 0.9866 - val_precision_10: 0.9866 - val_recall_10: 0.9866\n",
      "Epoch 14/14\n",
      "62/62 [==============================] - 6s 101ms/step - loss: 0.0390 - accuracy: 0.9879 - precision_10: 0.9879 - recall_10: 0.9879 - val_loss: 0.0581 - val_accuracy: 0.9866 - val_precision_10: 0.9866 - val_recall_10: 0.9866\n"
     ]
    },
    {
     "name": "stderr",
     "output_type": "stream",
     "text": [
      "100%|██████████████████████████████████████████████████████████████████████████████████| 62/62 [00:09<00:00,  6.28it/s]\n"
     ]
    },
    {
     "name": "stdout",
     "output_type": "stream",
     "text": [
      "epoch: 1/50, train_loss: 15.401331901550293, F1_train: 0.34525693111079336 F1_val: 0.08085794413919413\n"
     ]
    },
    {
     "name": "stderr",
     "output_type": "stream",
     "text": [
      "100%|██████████████████████████████████████████████████████████████████████████████████| 62/62 [00:09<00:00,  6.84it/s]\n"
     ]
    },
    {
     "name": "stdout",
     "output_type": "stream",
     "text": [
      "epoch: 2/50, train_loss: 15.378965377807617, F1_train: 0.413298743869324 F1_val: 0.1378815628815629\n"
     ]
    },
    {
     "name": "stderr",
     "output_type": "stream",
     "text": [
      "100%|██████████████████████████████████████████████████████████████████████████████████| 62/62 [00:09<00:00,  6.87it/s]\n"
     ]
    },
    {
     "name": "stdout",
     "output_type": "stream",
     "text": [
      "epoch: 3/50, train_loss: 15.374783515930176, F1_train: 0.4599692558488176 F1_val: 0.25305624081134287\n"
     ]
    },
    {
     "name": "stderr",
     "output_type": "stream",
     "text": [
      "100%|██████████████████████████████████████████████████████████████████████████████████| 62/62 [00:09<00:00,  6.81it/s]\n"
     ]
    },
    {
     "name": "stdout",
     "output_type": "stream",
     "text": [
      "epoch: 4/50, train_loss: 15.373117446899414, F1_train: 0.4976024701614772 F1_val: 0.3158653415704181\n"
     ]
    },
    {
     "name": "stderr",
     "output_type": "stream",
     "text": [
      "100%|██████████████████████████████████████████████████████████████████████████████████| 62/62 [00:09<00:00,  6.58it/s]\n"
     ]
    },
    {
     "name": "stdout",
     "output_type": "stream",
     "text": [
      "epoch: 5/50, train_loss: 15.411981582641602, F1_train: 0.5272745262064114 F1_val: 0.3464331824279007\n"
     ]
    },
    {
     "name": "stderr",
     "output_type": "stream",
     "text": [
      "100%|██████████████████████████████████████████████████████████████████████████████████| 62/62 [00:08<00:00,  6.98it/s]\n"
     ]
    },
    {
     "name": "stdout",
     "output_type": "stream",
     "text": [
      "epoch: 6/50, train_loss: 15.366006851196289, F1_train: 0.5609328757381109 F1_val: 0.3510971924418441\n"
     ]
    },
    {
     "name": "stderr",
     "output_type": "stream",
     "text": [
      "100%|██████████████████████████████████████████████████████████████████████████████████| 62/62 [00:08<00:00,  7.03it/s]\n"
     ]
    },
    {
     "name": "stdout",
     "output_type": "stream",
     "text": [
      "epoch: 7/50, train_loss: 15.368725776672363, F1_train: 0.5742910393642954 F1_val: 0.3972771400226757\n"
     ]
    },
    {
     "name": "stderr",
     "output_type": "stream",
     "text": [
      "100%|██████████████████████████████████████████████████████████████████████████████████| 62/62 [00:08<00:00,  6.97it/s]\n"
     ]
    },
    {
     "name": "stdout",
     "output_type": "stream",
     "text": [
      "epoch: 8/50, train_loss: 15.362293243408203, F1_train: 0.5950607498996457 F1_val: 0.4321449944993579\n"
     ]
    },
    {
     "name": "stderr",
     "output_type": "stream",
     "text": [
      "100%|██████████████████████████████████████████████████████████████████████████████████| 62/62 [00:08<00:00,  6.99it/s]\n"
     ]
    },
    {
     "name": "stdout",
     "output_type": "stream",
     "text": [
      "epoch: 9/50, train_loss: 15.384124755859375, F1_train: 0.6187992933790537 F1_val: 0.474614701871532\n"
     ]
    },
    {
     "name": "stderr",
     "output_type": "stream",
     "text": [
      "100%|██████████████████████████████████████████████████████████████████████████████████| 62/62 [00:08<00:00,  7.00it/s]\n"
     ]
    },
    {
     "name": "stdout",
     "output_type": "stream",
     "text": [
      "epoch: 10/50, train_loss: 15.370051383972168, F1_train: 0.6287021353101101 F1_val: 0.4858927779290892\n"
     ]
    },
    {
     "name": "stderr",
     "output_type": "stream",
     "text": [
      "100%|██████████████████████████████████████████████████████████████████████████████████| 62/62 [00:08<00:00,  7.03it/s]\n"
     ]
    },
    {
     "name": "stdout",
     "output_type": "stream",
     "text": [
      "epoch: 11/50, train_loss: 15.4132719039917, F1_train: 0.6414505831256438 F1_val: 0.4868243639767164\n"
     ]
    },
    {
     "name": "stderr",
     "output_type": "stream",
     "text": [
      "100%|██████████████████████████████████████████████████████████████████████████████████| 62/62 [00:09<00:00,  6.43it/s]\n"
     ]
    },
    {
     "name": "stdout",
     "output_type": "stream",
     "text": [
      "epoch: 12/50, train_loss: 15.261612892150879, F1_train: 0.6535724973225102 F1_val: 0.5028438011302172\n"
     ]
    },
    {
     "name": "stderr",
     "output_type": "stream",
     "text": [
      "100%|██████████████████████████████████████████████████████████████████████████████████| 62/62 [00:08<00:00,  6.90it/s]\n"
     ]
    },
    {
     "name": "stdout",
     "output_type": "stream",
     "text": [
      "epoch: 13/50, train_loss: 15.36155891418457, F1_train: 0.6608966139088209 F1_val: 0.49917868589743586\n"
     ]
    },
    {
     "name": "stderr",
     "output_type": "stream",
     "text": [
      "100%|██████████████████████████████████████████████████████████████████████████████████| 62/62 [00:09<00:00,  6.85it/s]\n"
     ]
    },
    {
     "name": "stdout",
     "output_type": "stream",
     "text": [
      "epoch: 14/50, train_loss: 15.333009719848633, F1_train: 0.6677749504774275 F1_val: 0.5007179845962495\n"
     ]
    },
    {
     "name": "stderr",
     "output_type": "stream",
     "text": [
      "100%|██████████████████████████████████████████████████████████████████████████████████| 62/62 [00:09<00:00,  6.66it/s]\n"
     ]
    },
    {
     "name": "stdout",
     "output_type": "stream",
     "text": [
      "epoch: 15/50, train_loss: 15.40660285949707, F1_train: 0.6711532009379536 F1_val: 0.4950375939849624\n"
     ]
    },
    {
     "data": {
      "image/png": "[encoded data removed]",
      "text/plain": [
       "<Figure size 1080x360 with 2 Axes>"
      ]
     },
     "metadata": {
      "needs_background": "light"
     },
     "output_type": "display_data"
    },
    {
     "name": "stdout",
     "output_type": "stream",
     "text": [
      "[[26  0  0  0  0 21]\n",
      " [ 0 46  0  0  0  3]\n",
      " [ 0  0  1  0  0 45]\n",
      " [ 0  0  0  5  0 41]\n",
      " [ 0  0  0  0 38 12]\n",
      " [ 0  2  0  0  0 48]]\n",
      "56.94\n",
      "f1_weighted: 0.541426158022799, f1_macro: 0.5332356663721035, f1_micro: 0.5694444444444444, f_measure: {'Known': 55.261, 'Open': 43.6364, 'F1-score': 53.3236}\n",
      "              precision    recall  f1-score   support\n",
      "\n",
      "           0       1.00      0.55      0.71        47\n",
      "           1       0.96      0.94      0.95        49\n",
      "           2       1.00      0.02      0.04        46\n",
      "           3       1.00      0.11      0.20        46\n",
      "           4       1.00      0.76      0.86        50\n",
      "           5       0.28      0.96      0.44        50\n",
      "\n",
      "    accuracy                           0.57       288\n",
      "   macro avg       0.87      0.56      0.53       288\n",
      "weighted avg       0.87      0.57      0.54       288\n",
      "\n"
     ]
    }
   ],
   "source": [
    "comment=\"make the pre-trained model better\"\n",
    "test_data, oset = oset_train(ablation=500,designated_ukc_cls=5,num_classes=5,embedding_size=2,lr_rate=5,optimizer='adam',\n",
    "pretrain_epochs=14,octrain_epochs=50, wait_patient=3, comment=comment)"
   ]
  },
  {
   "cell_type": "code",
   "execution_count": 14,
   "id": "2dcaec6c-7934-412e-a934-e66aaf0e06c3",
   "metadata": {},
   "outputs": [
    {
     "name": "stdout",
     "output_type": "stream",
     "text": [
      "padded_num_seq_df loaded from C:\\Users\\Bhujay_ROG\\MyDev\\OCLog\\oclog\\BGL\\data\\bgl_ukc.pkl\n",
      "trained tokenizer, tk, loaded from C:\\Users\\Bhujay_ROG\\MyDev\\OCLog\\oclog\\BGL\\data\\bgltkukc.pkl\n",
      "train_0:, 400\n",
      "val_0:, 50\n",
      "test_0:, 50\n",
      "train_1:, 400\n",
      "val_1:, 50\n",
      "test_1:, 50\n",
      "train_2:, 400\n",
      "val_2:, 50\n",
      "test_2:, 50\n",
      "train_3:, 400\n",
      "val_3:, 50\n",
      "test_3:, 50\n",
      "train_4:, 400\n",
      "val_4:, 50\n",
      "test_4:, 50\n",
      "class 5 is added as ukc\n",
      "ukc_5:, 50\n",
      "vocab_size: 50\n",
      "Epoch 1/14\n",
      "62/62 [==============================] - 7s 103ms/step - loss: 1.2459 - accuracy: 0.5186 - precision: 0.9662 - recall: 0.2450 - val_loss: 1.0478 - val_accuracy: 0.7411 - val_precision: 1.0000 - val_recall: 0.3884\n",
      "Epoch 2/14\n",
      "62/62 [==============================] - 6s 100ms/step - loss: 0.7508 - accuracy: 0.7021 - precision: 0.9371 - recall: 0.5706 - val_loss: 0.6129 - val_accuracy: 0.7634 - val_precision: 0.9937 - val_recall: 0.7098\n",
      "Epoch 3/14\n",
      "62/62 [==============================] - 6s 97ms/step - loss: 0.4726 - accuracy: 0.7692 - precision: 0.9276 - recall: 0.7364 - val_loss: 0.3301 - val_accuracy: 0.8884 - val_precision: 0.9661 - val_recall: 0.7634\n",
      "Epoch 4/14\n",
      "62/62 [==============================] - 6s 95ms/step - loss: 0.3098 - accuracy: 0.8795 - precision: 0.9070 - recall: 0.8256 - val_loss: 0.1483 - val_accuracy: 0.9821 - val_precision: 0.9865 - val_recall: 0.9821\n",
      "Epoch 5/14\n",
      "62/62 [==============================] - 6s 95ms/step - loss: 0.1979 - accuracy: 0.9456 - precision: 0.9474 - recall: 0.9451 - val_loss: 0.1479 - val_accuracy: 0.9598 - val_precision: 0.9685 - val_recall: 0.9598\n",
      "Epoch 6/14\n",
      "62/62 [==============================] - 6s 94ms/step - loss: 0.2487 - accuracy: 0.9123 - precision: 0.9150 - recall: 0.9118 - val_loss: 0.0854 - val_accuracy: 0.9866 - val_precision: 0.9955 - val_recall: 0.9866\n",
      "Epoch 7/14\n",
      "62/62 [==============================] - 6s 94ms/step - loss: 0.1233 - accuracy: 0.9622 - precision: 0.9626 - recall: 0.9612 - val_loss: 0.0458 - val_accuracy: 1.0000 - val_precision: 1.0000 - val_recall: 1.0000\n",
      "Epoch 8/14\n",
      "62/62 [==============================] - 6s 94ms/step - loss: 0.1127 - accuracy: 0.9627 - precision: 0.9632 - recall: 0.9627 - val_loss: 0.0460 - val_accuracy: 0.9955 - val_precision: 0.9955 - val_recall: 0.9955\n",
      "Epoch 9/14\n",
      "62/62 [==============================] - 6s 95ms/step - loss: 0.0829 - accuracy: 0.9677 - precision: 0.9677 - recall: 0.9677 - val_loss: 0.0390 - val_accuracy: 1.0000 - val_precision: 1.0000 - val_recall: 1.0000\n",
      "Epoch 10/14\n",
      "62/62 [==============================] - 6s 94ms/step - loss: 0.0743 - accuracy: 0.9758 - precision: 0.9763 - recall: 0.9758 - val_loss: 0.0724 - val_accuracy: 0.9911 - val_precision: 0.9911 - val_recall: 0.9911\n",
      "Epoch 11/14\n",
      "62/62 [==============================] - 6s 95ms/step - loss: 0.0843 - accuracy: 0.9723 - precision: 0.9723 - recall: 0.9723 - val_loss: 0.0265 - val_accuracy: 0.9911 - val_precision: 0.9911 - val_recall: 0.9911\n",
      "Epoch 12/14\n",
      "62/62 [==============================] - 6s 94ms/step - loss: 0.0615 - accuracy: 0.9773 - precision: 0.9773 - recall: 0.9768 - val_loss: 0.0220 - val_accuracy: 1.0000 - val_precision: 1.0000 - val_recall: 1.0000\n",
      "Epoch 13/14\n",
      "62/62 [==============================] - 6s 98ms/step - loss: 0.0338 - accuracy: 0.9904 - precision: 0.9904 - recall: 0.9904 - val_loss: 0.0427 - val_accuracy: 0.9911 - val_precision: 0.9911 - val_recall: 0.9911\n",
      "Epoch 14/14\n",
      "62/62 [==============================] - 6s 95ms/step - loss: 0.0655 - accuracy: 0.9778 - precision: 0.9778 - recall: 0.9778 - val_loss: 0.0418 - val_accuracy: 0.9866 - val_precision: 0.9866 - val_recall: 0.9866\n"
     ]
    },
    {
     "name": "stderr",
     "output_type": "stream",
     "text": [
      "100%|██████████████████████████████████████████████████████████████████████████████████| 62/62 [00:08<00:00,  7.37it/s]\n"
     ]
    },
    {
     "name": "stdout",
     "output_type": "stream",
     "text": [
      "epoch: 1/50, train_loss: 18.151351928710938, F1_train: 0.08871456684227033 F1_val: 0.09757763975155277\n"
     ]
    },
    {
     "name": "stderr",
     "output_type": "stream",
     "text": [
      "100%|██████████████████████████████████████████████████████████████████████████████████| 62/62 [00:08<00:00,  7.60it/s]\n"
     ]
    },
    {
     "name": "stdout",
     "output_type": "stream",
     "text": [
      "epoch: 2/50, train_loss: 18.138113021850586, F1_train: 0.13061567624531095 F1_val: 0.15937668463611862\n"
     ]
    },
    {
     "name": "stderr",
     "output_type": "stream",
     "text": [
      "100%|██████████████████████████████████████████████████████████████████████████████████| 62/62 [00:08<00:00,  7.59it/s]\n"
     ]
    },
    {
     "name": "stdout",
     "output_type": "stream",
     "text": [
      "epoch: 3/50, train_loss: 18.15184211730957, F1_train: 0.16142907873377477 F1_val: 0.22586163836163836\n"
     ]
    },
    {
     "name": "stderr",
     "output_type": "stream",
     "text": [
      "100%|██████████████████████████████████████████████████████████████████████████████████| 62/62 [00:08<00:00,  7.63it/s]\n"
     ]
    },
    {
     "name": "stdout",
     "output_type": "stream",
     "text": [
      "epoch: 4/50, train_loss: 18.153200149536133, F1_train: 0.29898464601394537 F1_val: 0.284407412092082\n"
     ]
    },
    {
     "name": "stderr",
     "output_type": "stream",
     "text": [
      "100%|██████████████████████████████████████████████████████████████████████████████████| 62/62 [00:08<00:00,  7.36it/s]\n"
     ]
    },
    {
     "name": "stdout",
     "output_type": "stream",
     "text": [
      "epoch: 5/50, train_loss: 18.171104431152344, F1_train: 0.3193646796447205 F1_val: 0.299965798208115\n"
     ]
    },
    {
     "name": "stderr",
     "output_type": "stream",
     "text": [
      "100%|██████████████████████████████████████████████████████████████████████████████████| 62/62 [00:08<00:00,  7.49it/s]\n"
     ]
    },
    {
     "name": "stdout",
     "output_type": "stream",
     "text": [
      "epoch: 6/50, train_loss: 18.120651245117188, F1_train: 0.35246361412990856 F1_val: 0.3003810313511806\n"
     ]
    },
    {
     "name": "stderr",
     "output_type": "stream",
     "text": [
      "100%|██████████████████████████████████████████████████████████████████████████████████| 62/62 [00:08<00:00,  7.57it/s]\n"
     ]
    },
    {
     "name": "stdout",
     "output_type": "stream",
     "text": [
      "epoch: 7/50, train_loss: 18.14455223083496, F1_train: 0.38049123448800387 F1_val: 0.3236661347394713\n"
     ]
    },
    {
     "name": "stderr",
     "output_type": "stream",
     "text": [
      "100%|██████████████████████████████████████████████████████████████████████████████████| 62/62 [00:08<00:00,  7.52it/s]\n"
     ]
    },
    {
     "name": "stdout",
     "output_type": "stream",
     "text": [
      "epoch: 8/50, train_loss: 18.111858367919922, F1_train: 0.4066804435126452 F1_val: 0.36386865601503754\n"
     ]
    },
    {
     "name": "stderr",
     "output_type": "stream",
     "text": [
      "100%|██████████████████████████████████████████████████████████████████████████████████| 62/62 [00:08<00:00,  7.50it/s]\n"
     ]
    },
    {
     "name": "stdout",
     "output_type": "stream",
     "text": [
      "epoch: 9/50, train_loss: 18.151241302490234, F1_train: 0.4324249639964511 F1_val: 0.3914322226065567\n"
     ]
    },
    {
     "name": "stderr",
     "output_type": "stream",
     "text": [
      "100%|██████████████████████████████████████████████████████████████████████████████████| 62/62 [00:08<00:00,  7.60it/s]\n"
     ]
    },
    {
     "name": "stdout",
     "output_type": "stream",
     "text": [
      "epoch: 10/50, train_loss: 18.149948120117188, F1_train: 0.4505658814318466 F1_val: 0.4091544881676848\n"
     ]
    },
    {
     "name": "stderr",
     "output_type": "stream",
     "text": [
      "100%|██████████████████████████████████████████████████████████████████████████████████| 62/62 [00:08<00:00,  7.60it/s]\n"
     ]
    },
    {
     "name": "stdout",
     "output_type": "stream",
     "text": [
      "epoch: 11/50, train_loss: 18.15192985534668, F1_train: 0.4757267893287854 F1_val: 0.42065945614082256\n"
     ]
    },
    {
     "name": "stderr",
     "output_type": "stream",
     "text": [
      "100%|██████████████████████████████████████████████████████████████████████████████████| 62/62 [00:08<00:00,  7.60it/s]\n"
     ]
    },
    {
     "name": "stdout",
     "output_type": "stream",
     "text": [
      "epoch: 12/50, train_loss: 18.024578094482422, F1_train: 0.4977509907326265 F1_val: 0.4242910102637546\n"
     ]
    },
    {
     "name": "stderr",
     "output_type": "stream",
     "text": [
      "100%|██████████████████████████████████████████████████████████████████████████████████| 62/62 [00:08<00:00,  7.59it/s]\n"
     ]
    },
    {
     "name": "stdout",
     "output_type": "stream",
     "text": [
      "epoch: 13/50, train_loss: 18.116193771362305, F1_train: 0.5081357866266917 F1_val: 0.4355502705777146\n"
     ]
    },
    {
     "name": "stderr",
     "output_type": "stream",
     "text": [
      "100%|██████████████████████████████████████████████████████████████████████████████████| 62/62 [00:08<00:00,  7.58it/s]\n"
     ]
    },
    {
     "name": "stdout",
     "output_type": "stream",
     "text": [
      "epoch: 14/50, train_loss: 18.10032844543457, F1_train: 0.5202113174033527 F1_val: 0.4467304174679419\n"
     ]
    },
    {
     "name": "stderr",
     "output_type": "stream",
     "text": [
      "100%|██████████████████████████████████████████████████████████████████████████████████| 62/62 [00:08<00:00,  7.60it/s]\n"
     ]
    },
    {
     "name": "stdout",
     "output_type": "stream",
     "text": [
      "epoch: 15/50, train_loss: 18.152881622314453, F1_train: 0.5287507850921194 F1_val: 0.4393028056993941\n"
     ]
    },
    {
     "name": "stderr",
     "output_type": "stream",
     "text": [
      "100%|██████████████████████████████████████████████████████████████████████████████████| 62/62 [00:08<00:00,  7.60it/s]\n"
     ]
    },
    {
     "name": "stdout",
     "output_type": "stream",
     "text": [
      "epoch: 16/50, train_loss: 18.116981506347656, F1_train: 0.5419182298676385 F1_val: 0.4523374230370582\n"
     ]
    },
    {
     "name": "stderr",
     "output_type": "stream",
     "text": [
      "100%|██████████████████████████████████████████████████████████████████████████████████| 62/62 [00:08<00:00,  7.58it/s]\n"
     ]
    },
    {
     "name": "stdout",
     "output_type": "stream",
     "text": [
      "epoch: 17/50, train_loss: 18.121435165405273, F1_train: 0.553697007859895 F1_val: 0.48795240485752533\n"
     ]
    },
    {
     "name": "stderr",
     "output_type": "stream",
     "text": [
      "100%|██████████████████████████████████████████████████████████████████████████████████| 62/62 [00:08<00:00,  7.58it/s]\n"
     ]
    },
    {
     "name": "stdout",
     "output_type": "stream",
     "text": [
      "epoch: 18/50, train_loss: 18.14130401611328, F1_train: 0.5690148997173855 F1_val: 0.4911180820015407\n"
     ]
    },
    {
     "name": "stderr",
     "output_type": "stream",
     "text": [
      "100%|██████████████████████████████████████████████████████████████████████████████████| 62/62 [00:08<00:00,  7.55it/s]\n"
     ]
    },
    {
     "name": "stdout",
     "output_type": "stream",
     "text": [
      "epoch: 19/50, train_loss: 18.154699325561523, F1_train: 0.5771509279544255 F1_val: 0.5207405223905692\n"
     ]
    },
    {
     "name": "stderr",
     "output_type": "stream",
     "text": [
      "100%|██████████████████████████████████████████████████████████████████████████████████| 62/62 [00:08<00:00,  7.60it/s]\n"
     ]
    },
    {
     "name": "stdout",
     "output_type": "stream",
     "text": [
      "epoch: 20/50, train_loss: 18.156415939331055, F1_train: 0.5862028441251307 F1_val: 0.5104053508575397\n"
     ]
    },
    {
     "name": "stderr",
     "output_type": "stream",
     "text": [
      "100%|██████████████████████████████████████████████████████████████████████████████████| 62/62 [00:08<00:00,  7.59it/s]\n"
     ]
    },
    {
     "name": "stdout",
     "output_type": "stream",
     "text": [
      "epoch: 21/50, train_loss: 18.14659309387207, F1_train: 0.5935910917950484 F1_val: 0.494247450348619\n"
     ]
    },
    {
     "name": "stderr",
     "output_type": "stream",
     "text": [
      "100%|██████████████████████████████████████████████████████████████████████████████████| 62/62 [00:08<00:00,  7.58it/s]\n"
     ]
    },
    {
     "name": "stdout",
     "output_type": "stream",
     "text": [
      "epoch: 22/50, train_loss: 18.15212059020996, F1_train: 0.6017526724919785 F1_val: 0.5158407755933828\n"
     ]
    },
    {
     "data": {
      "image/png": "[encoded data removed]",
      "text/plain": [
       "<Figure size 1080x360 with 2 Axes>"
      ]
     },
     "metadata": {
      "needs_background": "light"
     },
     "output_type": "display_data"
    },
    {
     "name": "stdout",
     "output_type": "stream",
     "text": [
      "[[44  0  0  0  0  3]\n",
      " [ 0 23  0  0  0 26]\n",
      " [ 0  0  1  0  0 45]\n",
      " [ 1  0  0  1  0 44]\n",
      " [ 0  0  0  0 35 15]\n",
      " [ 8  2  0  0  0 40]]\n",
      "50.0\n",
      "f1_weighted: 0.4682223729015893, f1_macro: 0.46150030183064755, f1_micro: 0.5, f_measure: {'Known': 48.2051, 'Open': 35.8744, 'F1-score': 46.15}\n",
      "              precision    recall  f1-score   support\n",
      "\n",
      "           0       0.83      0.94      0.88        47\n",
      "           1       0.92      0.47      0.62        49\n",
      "           2       1.00      0.02      0.04        46\n",
      "           3       1.00      0.02      0.04        46\n",
      "           4       1.00      0.70      0.82        50\n",
      "           5       0.23      0.80      0.36        50\n",
      "\n",
      "    accuracy                           0.50       288\n",
      "   macro avg       0.83      0.49      0.46       288\n",
      "weighted avg       0.83      0.50      0.47       288\n",
      "\n"
     ]
    }
   ],
   "source": [
    "comment=\"increase the embedding size\"\n",
    "test_data, oset = oset_train(ablation=500,designated_ukc_cls=5,num_classes=5,embedding_size=4,\n",
    "                             lr_rate=5, optimizer='adam',\n",
    "pretrain_epochs=14,octrain_epochs=50, wait_patient=3, comment=comment)"
   ]
  },
  {
   "cell_type": "code",
   "execution_count": 15,
   "id": "974f1a43-7dd0-4329-a08a-25c48c9218eb",
   "metadata": {},
   "outputs": [
    {
     "name": "stdout",
     "output_type": "stream",
     "text": [
      "padded_num_seq_df loaded from C:\\Users\\Bhujay_ROG\\MyDev\\OCLog\\oclog\\BGL\\data\\bgl_ukc.pkl\n",
      "trained tokenizer, tk, loaded from C:\\Users\\Bhujay_ROG\\MyDev\\OCLog\\oclog\\BGL\\data\\bgltkukc.pkl\n",
      "train_0:, 400\n",
      "val_0:, 50\n",
      "test_0:, 50\n",
      "train_1:, 400\n",
      "val_1:, 50\n",
      "test_1:, 50\n",
      "train_2:, 400\n",
      "val_2:, 50\n",
      "test_2:, 50\n",
      "train_3:, 400\n",
      "val_3:, 50\n",
      "test_3:, 50\n",
      "train_4:, 400\n",
      "val_4:, 50\n",
      "test_4:, 50\n",
      "class 5 is added as ukc\n",
      "ukc_5:, 50\n",
      "vocab_size: 50\n",
      "Epoch 1/14\n",
      "62/62 [==============================] - 7s 104ms/step - loss: 1.2459 - accuracy: 0.5186 - precision_1: 0.9662 - recall_1: 0.2450 - val_loss: 1.0478 - val_accuracy: 0.7411 - val_precision_1: 1.0000 - val_recall_1: 0.3884\n",
      "Epoch 2/14\n",
      "62/62 [==============================] - 6s 97ms/step - loss: 0.7508 - accuracy: 0.7021 - precision_1: 0.9371 - recall_1: 0.5706 - val_loss: 0.6129 - val_accuracy: 0.7634 - val_precision_1: 0.9937 - val_recall_1: 0.7098\n",
      "Epoch 3/14\n",
      "62/62 [==============================] - 6s 95ms/step - loss: 0.4726 - accuracy: 0.7692 - precision_1: 0.9276 - recall_1: 0.7364 - val_loss: 0.3301 - val_accuracy: 0.8884 - val_precision_1: 0.9661 - val_recall_1: 0.7634\n",
      "Epoch 4/14\n",
      "62/62 [==============================] - 6s 95ms/step - loss: 0.3098 - accuracy: 0.8795 - precision_1: 0.9070 - recall_1: 0.8256 - val_loss: 0.1483 - val_accuracy: 0.9821 - val_precision_1: 0.9865 - val_recall_1: 0.9821\n",
      "Epoch 5/14\n",
      "62/62 [==============================] - 6s 95ms/step - loss: 0.1979 - accuracy: 0.9456 - precision_1: 0.9474 - recall_1: 0.9451 - val_loss: 0.1479 - val_accuracy: 0.9598 - val_precision_1: 0.9685 - val_recall_1: 0.9598\n",
      "Epoch 6/14\n",
      "62/62 [==============================] - 6s 103ms/step - loss: 0.2487 - accuracy: 0.9123 - precision_1: 0.9150 - recall_1: 0.9118 - val_loss: 0.0854 - val_accuracy: 0.9866 - val_precision_1: 0.9955 - val_recall_1: 0.9866\n",
      "Epoch 7/14\n",
      "62/62 [==============================] - 6s 99ms/step - loss: 0.1233 - accuracy: 0.9622 - precision_1: 0.9626 - recall_1: 0.9612 - val_loss: 0.0458 - val_accuracy: 1.0000 - val_precision_1: 1.0000 - val_recall_1: 1.0000\n",
      "Epoch 8/14\n",
      "62/62 [==============================] - 6s 95ms/step - loss: 0.1127 - accuracy: 0.9627 - precision_1: 0.9632 - recall_1: 0.9627 - val_loss: 0.0460 - val_accuracy: 0.9955 - val_precision_1: 0.9955 - val_recall_1: 0.9955\n",
      "Epoch 9/14\n",
      "62/62 [==============================] - 7s 105ms/step - loss: 0.0829 - accuracy: 0.9677 - precision_1: 0.9677 - recall_1: 0.9677 - val_loss: 0.0390 - val_accuracy: 1.0000 - val_precision_1: 1.0000 - val_recall_1: 1.0000\n",
      "Epoch 10/14\n",
      "62/62 [==============================] - 6s 93ms/step - loss: 0.0743 - accuracy: 0.9758 - precision_1: 0.9763 - recall_1: 0.9758 - val_loss: 0.0724 - val_accuracy: 0.9911 - val_precision_1: 0.9911 - val_recall_1: 0.9911\n",
      "Epoch 11/14\n",
      "62/62 [==============================] - 6s 93ms/step - loss: 0.0843 - accuracy: 0.9723 - precision_1: 0.9723 - recall_1: 0.9723 - val_loss: 0.0265 - val_accuracy: 0.9911 - val_precision_1: 0.9911 - val_recall_1: 0.9911\n",
      "Epoch 12/14\n",
      "62/62 [==============================] - 6s 93ms/step - loss: 0.0615 - accuracy: 0.9773 - precision_1: 0.9773 - recall_1: 0.9768 - val_loss: 0.0220 - val_accuracy: 1.0000 - val_precision_1: 1.0000 - val_recall_1: 1.0000\n",
      "Epoch 13/14\n",
      "62/62 [==============================] - 6s 94ms/step - loss: 0.0338 - accuracy: 0.9904 - precision_1: 0.9904 - recall_1: 0.9904 - val_loss: 0.0427 - val_accuracy: 0.9911 - val_precision_1: 0.9911 - val_recall_1: 0.9911\n",
      "Epoch 14/14\n",
      "62/62 [==============================] - 6s 93ms/step - loss: 0.0655 - accuracy: 0.9778 - precision_1: 0.9778 - recall_1: 0.9778 - val_loss: 0.0418 - val_accuracy: 0.9866 - val_precision_1: 0.9866 - val_recall_1: 0.9866\n"
     ]
    },
    {
     "name": "stderr",
     "output_type": "stream",
     "text": [
      "100%|██████████████████████████████████████████████████████████████████████████████████| 62/62 [00:08<00:00,  7.00it/s]\n"
     ]
    },
    {
     "name": "stdout",
     "output_type": "stream",
     "text": [
      "epoch: 1/50, train_loss: 18.151351928710938, F1_train: 0.08871456684227033 F1_val: 0.09757763975155277\n"
     ]
    },
    {
     "name": "stderr",
     "output_type": "stream",
     "text": [
      "100%|██████████████████████████████████████████████████████████████████████████████████| 62/62 [00:08<00:00,  7.11it/s]\n"
     ]
    },
    {
     "name": "stdout",
     "output_type": "stream",
     "text": [
      "epoch: 2/50, train_loss: 18.138113021850586, F1_train: 0.13061567624531095 F1_val: 0.15937668463611862\n"
     ]
    },
    {
     "name": "stderr",
     "output_type": "stream",
     "text": [
      "100%|██████████████████████████████████████████████████████████████████████████████████| 62/62 [00:08<00:00,  7.08it/s]\n"
     ]
    },
    {
     "name": "stdout",
     "output_type": "stream",
     "text": [
      "epoch: 3/50, train_loss: 18.15184211730957, F1_train: 0.16142907873377477 F1_val: 0.22586163836163836\n"
     ]
    },
    {
     "name": "stderr",
     "output_type": "stream",
     "text": [
      "100%|██████████████████████████████████████████████████████████████████████████████████| 62/62 [00:08<00:00,  7.21it/s]\n"
     ]
    },
    {
     "name": "stdout",
     "output_type": "stream",
     "text": [
      "epoch: 4/50, train_loss: 18.153200149536133, F1_train: 0.29898464601394537 F1_val: 0.284407412092082\n"
     ]
    },
    {
     "name": "stderr",
     "output_type": "stream",
     "text": [
      "100%|██████████████████████████████████████████████████████████████████████████████████| 62/62 [00:08<00:00,  7.22it/s]\n"
     ]
    },
    {
     "name": "stdout",
     "output_type": "stream",
     "text": [
      "epoch: 5/50, train_loss: 18.171104431152344, F1_train: 0.3193646796447205 F1_val: 0.299965798208115\n"
     ]
    },
    {
     "name": "stderr",
     "output_type": "stream",
     "text": [
      "100%|██████████████████████████████████████████████████████████████████████████████████| 62/62 [00:08<00:00,  7.18it/s]\n"
     ]
    },
    {
     "name": "stdout",
     "output_type": "stream",
     "text": [
      "epoch: 6/50, train_loss: 18.120651245117188, F1_train: 0.35246361412990856 F1_val: 0.3003810313511806\n"
     ]
    },
    {
     "name": "stderr",
     "output_type": "stream",
     "text": [
      "100%|██████████████████████████████████████████████████████████████████████████████████| 62/62 [00:08<00:00,  7.23it/s]\n"
     ]
    },
    {
     "name": "stdout",
     "output_type": "stream",
     "text": [
      "epoch: 7/50, train_loss: 18.14455223083496, F1_train: 0.38049123448800387 F1_val: 0.3236661347394713\n"
     ]
    },
    {
     "name": "stderr",
     "output_type": "stream",
     "text": [
      "100%|██████████████████████████████████████████████████████████████████████████████████| 62/62 [00:08<00:00,  7.22it/s]\n"
     ]
    },
    {
     "name": "stdout",
     "output_type": "stream",
     "text": [
      "epoch: 8/50, train_loss: 18.111858367919922, F1_train: 0.4066804435126452 F1_val: 0.36386865601503754\n"
     ]
    },
    {
     "name": "stderr",
     "output_type": "stream",
     "text": [
      "100%|██████████████████████████████████████████████████████████████████████████████████| 62/62 [00:08<00:00,  7.20it/s]\n"
     ]
    },
    {
     "name": "stdout",
     "output_type": "stream",
     "text": [
      "epoch: 9/50, train_loss: 18.151241302490234, F1_train: 0.4324249639964511 F1_val: 0.3914322226065567\n"
     ]
    },
    {
     "name": "stderr",
     "output_type": "stream",
     "text": [
      "100%|██████████████████████████████████████████████████████████████████████████████████| 62/62 [00:08<00:00,  7.24it/s]\n"
     ]
    },
    {
     "name": "stdout",
     "output_type": "stream",
     "text": [
      "epoch: 10/50, train_loss: 18.149948120117188, F1_train: 0.4505658814318466 F1_val: 0.4091544881676848\n"
     ]
    },
    {
     "name": "stderr",
     "output_type": "stream",
     "text": [
      "100%|██████████████████████████████████████████████████████████████████████████████████| 62/62 [00:08<00:00,  7.22it/s]\n"
     ]
    },
    {
     "name": "stdout",
     "output_type": "stream",
     "text": [
      "epoch: 11/50, train_loss: 18.15192985534668, F1_train: 0.4757267893287854 F1_val: 0.42065945614082256\n"
     ]
    },
    {
     "name": "stderr",
     "output_type": "stream",
     "text": [
      "100%|██████████████████████████████████████████████████████████████████████████████████| 62/62 [00:08<00:00,  6.96it/s]\n"
     ]
    },
    {
     "name": "stdout",
     "output_type": "stream",
     "text": [
      "epoch: 12/50, train_loss: 18.024578094482422, F1_train: 0.4977509907326265 F1_val: 0.4242910102637546\n"
     ]
    },
    {
     "name": "stderr",
     "output_type": "stream",
     "text": [
      "100%|██████████████████████████████████████████████████████████████████████████████████| 62/62 [00:08<00:00,  7.02it/s]\n"
     ]
    },
    {
     "name": "stdout",
     "output_type": "stream",
     "text": [
      "epoch: 13/50, train_loss: 18.116193771362305, F1_train: 0.5081357866266917 F1_val: 0.4355502705777146\n"
     ]
    },
    {
     "name": "stderr",
     "output_type": "stream",
     "text": [
      "100%|██████████████████████████████████████████████████████████████████████████████████| 62/62 [00:08<00:00,  7.21it/s]\n"
     ]
    },
    {
     "name": "stdout",
     "output_type": "stream",
     "text": [
      "epoch: 14/50, train_loss: 18.10032844543457, F1_train: 0.5202113174033527 F1_val: 0.4467304174679419\n"
     ]
    },
    {
     "name": "stderr",
     "output_type": "stream",
     "text": [
      "100%|██████████████████████████████████████████████████████████████████████████████████| 62/62 [00:08<00:00,  7.15it/s]\n"
     ]
    },
    {
     "name": "stdout",
     "output_type": "stream",
     "text": [
      "epoch: 15/50, train_loss: 18.152881622314453, F1_train: 0.5287507850921194 F1_val: 0.4393028056993941\n"
     ]
    },
    {
     "name": "stderr",
     "output_type": "stream",
     "text": [
      "100%|██████████████████████████████████████████████████████████████████████████████████| 62/62 [00:08<00:00,  7.16it/s]\n"
     ]
    },
    {
     "name": "stdout",
     "output_type": "stream",
     "text": [
      "epoch: 16/50, train_loss: 18.116981506347656, F1_train: 0.5419182298676385 F1_val: 0.4523374230370582\n"
     ]
    },
    {
     "name": "stderr",
     "output_type": "stream",
     "text": [
      "100%|██████████████████████████████████████████████████████████████████████████████████| 62/62 [00:08<00:00,  7.10it/s]\n"
     ]
    },
    {
     "name": "stdout",
     "output_type": "stream",
     "text": [
      "epoch: 17/50, train_loss: 18.121435165405273, F1_train: 0.553697007859895 F1_val: 0.48795240485752533\n"
     ]
    },
    {
     "name": "stderr",
     "output_type": "stream",
     "text": [
      "100%|██████████████████████████████████████████████████████████████████████████████████| 62/62 [00:08<00:00,  7.01it/s]\n"
     ]
    },
    {
     "name": "stdout",
     "output_type": "stream",
     "text": [
      "epoch: 18/50, train_loss: 18.14130401611328, F1_train: 0.5690148997173855 F1_val: 0.4911180820015407\n"
     ]
    },
    {
     "name": "stderr",
     "output_type": "stream",
     "text": [
      "100%|██████████████████████████████████████████████████████████████████████████████████| 62/62 [00:08<00:00,  7.23it/s]\n"
     ]
    },
    {
     "name": "stdout",
     "output_type": "stream",
     "text": [
      "epoch: 19/50, train_loss: 18.154699325561523, F1_train: 0.5771509279544255 F1_val: 0.5207405223905692\n"
     ]
    },
    {
     "name": "stderr",
     "output_type": "stream",
     "text": [
      "100%|██████████████████████████████████████████████████████████████████████████████████| 62/62 [00:08<00:00,  7.21it/s]\n"
     ]
    },
    {
     "name": "stdout",
     "output_type": "stream",
     "text": [
      "epoch: 20/50, train_loss: 18.156415939331055, F1_train: 0.5862028441251307 F1_val: 0.5104053508575397\n"
     ]
    },
    {
     "name": "stderr",
     "output_type": "stream",
     "text": [
      "100%|██████████████████████████████████████████████████████████████████████████████████| 62/62 [00:08<00:00,  7.21it/s]\n"
     ]
    },
    {
     "name": "stdout",
     "output_type": "stream",
     "text": [
      "epoch: 21/50, train_loss: 18.14659309387207, F1_train: 0.5935910917950484 F1_val: 0.494247450348619\n"
     ]
    },
    {
     "name": "stderr",
     "output_type": "stream",
     "text": [
      "100%|██████████████████████████████████████████████████████████████████████████████████| 62/62 [00:08<00:00,  7.22it/s]\n"
     ]
    },
    {
     "name": "stdout",
     "output_type": "stream",
     "text": [
      "epoch: 22/50, train_loss: 18.15212059020996, F1_train: 0.6017526724919785 F1_val: 0.5158407755933828\n"
     ]
    },
    {
     "name": "stderr",
     "output_type": "stream",
     "text": [
      "100%|██████████████████████████████████████████████████████████████████████████████████| 62/62 [00:08<00:00,  7.20it/s]\n"
     ]
    },
    {
     "name": "stdout",
     "output_type": "stream",
     "text": [
      "epoch: 23/50, train_loss: 18.16817283630371, F1_train: 0.6099545729663821 F1_val: 0.5016406265593086\n"
     ]
    },
    {
     "name": "stderr",
     "output_type": "stream",
     "text": [
      "100%|██████████████████████████████████████████████████████████████████████████████████| 62/62 [00:08<00:00,  7.20it/s]\n"
     ]
    },
    {
     "name": "stdout",
     "output_type": "stream",
     "text": [
      "epoch: 24/50, train_loss: 18.173057556152344, F1_train: 0.613172794536517 F1_val: 0.527007411516238\n"
     ]
    },
    {
     "name": "stderr",
     "output_type": "stream",
     "text": [
      "100%|██████████████████████████████████████████████████████████████████████████████████| 62/62 [00:08<00:00,  7.12it/s]\n"
     ]
    },
    {
     "name": "stdout",
     "output_type": "stream",
     "text": [
      "epoch: 25/50, train_loss: 18.13289451599121, F1_train: 0.6174493328840263 F1_val: 0.5071397885017391\n"
     ]
    },
    {
     "name": "stderr",
     "output_type": "stream",
     "text": [
      "100%|██████████████████████████████████████████████████████████████████████████████████| 62/62 [00:08<00:00,  7.20it/s]\n"
     ]
    },
    {
     "name": "stdout",
     "output_type": "stream",
     "text": [
      "epoch: 26/50, train_loss: 18.17063331604004, F1_train: 0.6226789012789379 F1_val: 0.5300477455797392\n"
     ]
    },
    {
     "name": "stderr",
     "output_type": "stream",
     "text": [
      "100%|██████████████████████████████████████████████████████████████████████████████████| 62/62 [00:08<00:00,  7.34it/s]\n"
     ]
    },
    {
     "name": "stdout",
     "output_type": "stream",
     "text": [
      "epoch: 27/50, train_loss: 18.130525588989258, F1_train: 0.627654070709922 F1_val: 0.5330666357452072\n"
     ]
    },
    {
     "name": "stderr",
     "output_type": "stream",
     "text": [
      "100%|██████████████████████████████████████████████████████████████████████████████████| 62/62 [00:08<00:00,  7.30it/s]\n"
     ]
    },
    {
     "name": "stdout",
     "output_type": "stream",
     "text": [
      "epoch: 28/50, train_loss: 18.088838577270508, F1_train: 0.6295366452238346 F1_val: 0.5173835918394188\n"
     ]
    },
    {
     "name": "stderr",
     "output_type": "stream",
     "text": [
      "100%|██████████████████████████████████████████████████████████████████████████████████| 62/62 [00:08<00:00,  7.33it/s]\n"
     ]
    },
    {
     "name": "stdout",
     "output_type": "stream",
     "text": [
      "epoch: 29/50, train_loss: 18.115644454956055, F1_train: 0.6370684596732517 F1_val: 0.5140989012258823\n"
     ]
    },
    {
     "name": "stderr",
     "output_type": "stream",
     "text": [
      "100%|██████████████████████████████████████████████████████████████████████████████████| 62/62 [00:08<00:00,  7.35it/s]\n"
     ]
    },
    {
     "name": "stdout",
     "output_type": "stream",
     "text": [
      "epoch: 30/50, train_loss: 18.145465850830078, F1_train: 0.6382741716951459 F1_val: 0.524664412929761\n"
     ]
    },
    {
     "name": "stderr",
     "output_type": "stream",
     "text": [
      "100%|██████████████████████████████████████████████████████████████████████████████████| 62/62 [00:08<00:00,  7.34it/s]\n"
     ]
    },
    {
     "name": "stdout",
     "output_type": "stream",
     "text": [
      "epoch: 31/50, train_loss: 18.11695671081543, F1_train: 0.6434691046493017 F1_val: 0.5127829980866102\n"
     ]
    },
    {
     "name": "stderr",
     "output_type": "stream",
     "text": [
      "100%|██████████████████████████████████████████████████████████████████████████████████| 62/62 [00:08<00:00,  7.34it/s]\n"
     ]
    },
    {
     "name": "stdout",
     "output_type": "stream",
     "text": [
      "epoch: 32/50, train_loss: 18.17409324645996, F1_train: 0.64586085764544 F1_val: 0.5219827281886493\n"
     ]
    },
    {
     "name": "stderr",
     "output_type": "stream",
     "text": [
      "100%|██████████████████████████████████████████████████████████████████████████████████| 62/62 [00:08<00:00,  7.33it/s]\n"
     ]
    },
    {
     "name": "stdout",
     "output_type": "stream",
     "text": [
      "epoch: 33/50, train_loss: 18.147327423095703, F1_train: 0.6506794764378036 F1_val: 0.5205811348353278\n"
     ]
    },
    {
     "data": {
      "image/png": "[encoded data removed]",
      "text/plain": [
       "<Figure size 1080x360 with 2 Axes>"
      ]
     },
     "metadata": {
      "needs_background": "light"
     },
     "output_type": "display_data"
    },
    {
     "name": "stdout",
     "output_type": "stream",
     "text": [
      "[[47  0  0  0  0  0]\n",
      " [ 0 27  0  0  0 22]\n",
      " [ 0  0  1  0  0 45]\n",
      " [ 1  0  0  2  0 43]\n",
      " [ 0  0  0  0 37 13]\n",
      " [ 9  2  0  0  0 39]]\n",
      "53.12\n",
      "f1_weighted: 0.4969430150797513, f1_macro: 0.490089935320351, f1_micro: 0.53125, f_measure: {'Known': 51.4523, 'Open': 36.7925, 'F1-score': 49.009}\n",
      "              precision    recall  f1-score   support\n",
      "\n",
      "           0       0.82      1.00      0.90        47\n",
      "           1       0.93      0.55      0.69        49\n",
      "           2       1.00      0.02      0.04        46\n",
      "           3       1.00      0.04      0.08        46\n",
      "           4       1.00      0.74      0.85        50\n",
      "           5       0.24      0.78      0.37        50\n",
      "\n",
      "    accuracy                           0.53       288\n",
      "   macro avg       0.83      0.52      0.49       288\n",
      "weighted avg       0.83      0.53      0.50       288\n",
      "\n"
     ]
    }
   ],
   "source": [
    "comment=\"increase the wait patience\"\n",
    "test_data, oset = oset_train(ablation=500,designated_ukc_cls=5,num_classes=5,embedding_size=4,\n",
    "                             lr_rate=5, optimizer='adam',\n",
    "pretrain_epochs=14,octrain_epochs=50, wait_patient=6, comment=comment)"
   ]
  },
  {
   "cell_type": "code",
   "execution_count": 16,
   "id": "266fbdfd-6088-45fb-b141-06614d5e8138",
   "metadata": {},
   "outputs": [
    {
     "name": "stdout",
     "output_type": "stream",
     "text": [
      "padded_num_seq_df loaded from C:\\Users\\Bhujay_ROG\\MyDev\\OCLog\\oclog\\BGL\\data\\bgl_ukc.pkl\n",
      "trained tokenizer, tk, loaded from C:\\Users\\Bhujay_ROG\\MyDev\\OCLog\\oclog\\BGL\\data\\bgltkukc.pkl\n",
      "train_0:, 400\n",
      "val_0:, 50\n",
      "test_0:, 50\n",
      "train_1:, 400\n",
      "val_1:, 50\n",
      "test_1:, 50\n",
      "train_2:, 400\n",
      "val_2:, 50\n",
      "test_2:, 50\n",
      "train_3:, 400\n",
      "val_3:, 50\n",
      "test_3:, 50\n",
      "train_4:, 400\n",
      "val_4:, 50\n",
      "test_4:, 50\n",
      "class 5 is added as ukc\n",
      "ukc_5:, 50\n",
      "vocab_size: 50\n",
      "Epoch 1/14\n",
      "62/62 [==============================] - 7s 106ms/step - loss: 1.2459 - accuracy: 0.5186 - precision_2: 0.9662 - recall_2: 0.2450 - val_loss: 1.0478 - val_accuracy: 0.7411 - val_precision_2: 1.0000 - val_recall_2: 0.3884\n",
      "Epoch 2/14\n",
      "62/62 [==============================] - 6s 102ms/step - loss: 0.7508 - accuracy: 0.7021 - precision_2: 0.9371 - recall_2: 0.5706 - val_loss: 0.6129 - val_accuracy: 0.7634 - val_precision_2: 0.9937 - val_recall_2: 0.7098\n",
      "Epoch 3/14\n",
      "62/62 [==============================] - 6s 98ms/step - loss: 0.4726 - accuracy: 0.7692 - precision_2: 0.9276 - recall_2: 0.7364 - val_loss: 0.3301 - val_accuracy: 0.8884 - val_precision_2: 0.9661 - val_recall_2: 0.7634\n",
      "Epoch 4/14\n",
      "62/62 [==============================] - 6s 100ms/step - loss: 0.3098 - accuracy: 0.8795 - precision_2: 0.9070 - recall_2: 0.8256 - val_loss: 0.1483 - val_accuracy: 0.9821 - val_precision_2: 0.9865 - val_recall_2: 0.9821\n",
      "Epoch 5/14\n",
      "62/62 [==============================] - 7s 106ms/step - loss: 0.1979 - accuracy: 0.9456 - precision_2: 0.9474 - recall_2: 0.9451 - val_loss: 0.1479 - val_accuracy: 0.9598 - val_precision_2: 0.9685 - val_recall_2: 0.9598\n",
      "Epoch 6/14\n",
      "62/62 [==============================] - 6s 102ms/step - loss: 0.2487 - accuracy: 0.9123 - precision_2: 0.9150 - recall_2: 0.9118 - val_loss: 0.0854 - val_accuracy: 0.9866 - val_precision_2: 0.9955 - val_recall_2: 0.9866\n",
      "Epoch 7/14\n",
      "62/62 [==============================] - 6s 102ms/step - loss: 0.1233 - accuracy: 0.9622 - precision_2: 0.9626 - recall_2: 0.9612 - val_loss: 0.0458 - val_accuracy: 1.0000 - val_precision_2: 1.0000 - val_recall_2: 1.0000\n",
      "Epoch 8/14\n",
      "62/62 [==============================] - 6s 105ms/step - loss: 0.1127 - accuracy: 0.9627 - precision_2: 0.9632 - recall_2: 0.9627 - val_loss: 0.0460 - val_accuracy: 0.9955 - val_precision_2: 0.9955 - val_recall_2: 0.9955\n",
      "Epoch 9/14\n",
      "62/62 [==============================] - 7s 105ms/step - loss: 0.0829 - accuracy: 0.9677 - precision_2: 0.9677 - recall_2: 0.9677 - val_loss: 0.0390 - val_accuracy: 1.0000 - val_precision_2: 1.0000 - val_recall_2: 1.0000\n",
      "Epoch 10/14\n",
      "62/62 [==============================] - 6s 103ms/step - loss: 0.0743 - accuracy: 0.9758 - precision_2: 0.9763 - recall_2: 0.9758 - val_loss: 0.0724 - val_accuracy: 0.9911 - val_precision_2: 0.9911 - val_recall_2: 0.9911\n",
      "Epoch 11/14\n",
      "62/62 [==============================] - 6s 103ms/step - loss: 0.0843 - accuracy: 0.9723 - precision_2: 0.9723 - recall_2: 0.9723 - val_loss: 0.0265 - val_accuracy: 0.9911 - val_precision_2: 0.9911 - val_recall_2: 0.9911\n",
      "Epoch 12/14\n",
      "62/62 [==============================] - 6s 104ms/step - loss: 0.0615 - accuracy: 0.9773 - precision_2: 0.9773 - recall_2: 0.9768 - val_loss: 0.0220 - val_accuracy: 1.0000 - val_precision_2: 1.0000 - val_recall_2: 1.0000\n",
      "Epoch 13/14\n",
      "62/62 [==============================] - 6s 104ms/step - loss: 0.0338 - accuracy: 0.9904 - precision_2: 0.9904 - recall_2: 0.9904 - val_loss: 0.0427 - val_accuracy: 0.9911 - val_precision_2: 0.9911 - val_recall_2: 0.9911\n",
      "Epoch 14/14\n",
      "62/62 [==============================] - 7s 105ms/step - loss: 0.0655 - accuracy: 0.9778 - precision_2: 0.9778 - recall_2: 0.9778 - val_loss: 0.0418 - val_accuracy: 0.9866 - val_precision_2: 0.9866 - val_recall_2: 0.9866\n"
     ]
    },
    {
     "name": "stderr",
     "output_type": "stream",
     "text": [
      "100%|██████████████████████████████████████████████████████████████████████████████████| 62/62 [00:08<00:00,  7.00it/s]\n"
     ]
    },
    {
     "name": "stdout",
     "output_type": "stream",
     "text": [
      "epoch: 1/50, train_loss: 18.151351928710938, F1_train: 0.8174106353610844 F1_val: 0.6546556089240964\n"
     ]
    },
    {
     "name": "stderr",
     "output_type": "stream",
     "text": [
      "100%|██████████████████████████████████████████████████████████████████████████████████| 62/62 [00:08<00:00,  7.06it/s]\n"
     ]
    },
    {
     "name": "stdout",
     "output_type": "stream",
     "text": [
      "epoch: 2/50, train_loss: 18.138113021850586, F1_train: 0.9342663927398412 F1_val: 0.9577256316942412\n"
     ]
    },
    {
     "name": "stderr",
     "output_type": "stream",
     "text": [
      "100%|██████████████████████████████████████████████████████████████████████████████████| 62/62 [00:09<00:00,  6.81it/s]\n"
     ]
    },
    {
     "name": "stdout",
     "output_type": "stream",
     "text": [
      "epoch: 3/50, train_loss: 18.15184211730957, F1_train: 0.9379724061134367 F1_val: 0.9817363437901043\n"
     ]
    },
    {
     "name": "stderr",
     "output_type": "stream",
     "text": [
      "100%|██████████████████████████████████████████████████████████████████████████████████| 62/62 [00:09<00:00,  6.52it/s]\n"
     ]
    },
    {
     "name": "stdout",
     "output_type": "stream",
     "text": [
      "epoch: 4/50, train_loss: 18.153200149536133, F1_train: 0.9404426118747164 F1_val: 0.9887142881990171\n"
     ]
    },
    {
     "name": "stderr",
     "output_type": "stream",
     "text": [
      "100%|██████████████████████████████████████████████████████████████████████████████████| 62/62 [00:08<00:00,  7.06it/s]\n"
     ]
    },
    {
     "name": "stdout",
     "output_type": "stream",
     "text": [
      "epoch: 5/50, train_loss: 18.171104431152344, F1_train: 0.9437406192511955 F1_val: 0.9909681180164372\n"
     ]
    },
    {
     "name": "stderr",
     "output_type": "stream",
     "text": [
      "100%|██████████████████████████████████████████████████████████████████████████████████| 62/62 [00:08<00:00,  7.06it/s]\n"
     ]
    },
    {
     "name": "stdout",
     "output_type": "stream",
     "text": [
      "epoch: 6/50, train_loss: 18.120651245117188, F1_train: 0.9447977662119474 F1_val: 0.9909686455227253\n"
     ]
    },
    {
     "name": "stderr",
     "output_type": "stream",
     "text": [
      "100%|██████████████████████████████████████████████████████████████████████████████████| 62/62 [00:08<00:00,  7.08it/s]\n"
     ]
    },
    {
     "name": "stdout",
     "output_type": "stream",
     "text": [
      "epoch: 7/50, train_loss: 18.14455223083496, F1_train: 0.9453444829509439 F1_val: 0.9932784911717496\n"
     ]
    },
    {
     "name": "stderr",
     "output_type": "stream",
     "text": [
      "100%|██████████████████████████████████████████████████████████████████████████████████| 62/62 [00:08<00:00,  7.08it/s]\n"
     ]
    },
    {
     "name": "stdout",
     "output_type": "stream",
     "text": [
      "epoch: 8/50, train_loss: 18.111858367919922, F1_train: 0.9462459369296361 F1_val: 0.9932784911717496\n"
     ]
    },
    {
     "name": "stderr",
     "output_type": "stream",
     "text": [
      "100%|██████████████████████████████████████████████████████████████████████████████████| 62/62 [00:08<00:00,  7.07it/s]\n"
     ]
    },
    {
     "name": "stdout",
     "output_type": "stream",
     "text": [
      "epoch: 9/50, train_loss: 18.151241302490234, F1_train: 0.9464770894219585 F1_val: 0.9977422003284072\n"
     ]
    },
    {
     "name": "stderr",
     "output_type": "stream",
     "text": [
      "100%|██████████████████████████████████████████████████████████████████████████████████| 62/62 [00:08<00:00,  7.07it/s]\n"
     ]
    },
    {
     "name": "stdout",
     "output_type": "stream",
     "text": [
      "epoch: 10/50, train_loss: 18.149948120117188, F1_train: 0.9483575835350756 F1_val: 0.9932753164556962\n"
     ]
    },
    {
     "name": "stderr",
     "output_type": "stream",
     "text": [
      "100%|██████████████████████████████████████████████████████████████████████████████████| 62/62 [00:08<00:00,  7.07it/s]\n"
     ]
    },
    {
     "name": "stdout",
     "output_type": "stream",
     "text": [
      "epoch: 11/50, train_loss: 18.15192985534668, F1_train: 0.9478748069778745 F1_val: 0.9955335537118659\n"
     ]
    },
    {
     "name": "stderr",
     "output_type": "stream",
     "text": [
      "100%|██████████████████████████████████████████████████████████████████████████████████| 62/62 [00:08<00:00,  7.07it/s]\n"
     ]
    },
    {
     "name": "stdout",
     "output_type": "stream",
     "text": [
      "epoch: 12/50, train_loss: 18.024578094482422, F1_train: 0.9488958373561449 F1_val: 0.9955340590073627\n"
     ]
    },
    {
     "name": "stderr",
     "output_type": "stream",
     "text": [
      "100%|██████████████████████████████████████████████████████████████████████████████████| 62/62 [00:08<00:00,  7.08it/s]\n"
     ]
    },
    {
     "name": "stdout",
     "output_type": "stream",
     "text": [
      "epoch: 13/50, train_loss: 18.116193771362305, F1_train: 0.9491609333151005 F1_val: 0.9955351377280862\n"
     ]
    },
    {
     "name": "stderr",
     "output_type": "stream",
     "text": [
      "100%|██████████████████████████████████████████████████████████████████████████████████| 62/62 [00:09<00:00,  6.52it/s]\n"
     ]
    },
    {
     "name": "stdout",
     "output_type": "stream",
     "text": [
      "epoch: 14/50, train_loss: 18.10032844543457, F1_train: 0.9481501235928776 F1_val: 0.9955339828238988\n"
     ]
    },
    {
     "name": "stderr",
     "output_type": "stream",
     "text": [
      "100%|██████████████████████████████████████████████████████████████████████████████████| 62/62 [00:08<00:00,  7.40it/s]\n"
     ]
    },
    {
     "name": "stdout",
     "output_type": "stream",
     "text": [
      "epoch: 15/50, train_loss: 18.152881622314453, F1_train: 0.9476636114933725 F1_val: 0.9955351377280862\n"
     ]
    },
    {
     "data": {
      "image/png": "[encoded data removed]",
      "text/plain": [
       "<Figure size 1080x360 with 2 Axes>"
      ]
     },
     "metadata": {
      "needs_background": "light"
     },
     "output_type": "display_data"
    },
    {
     "name": "stdout",
     "output_type": "stream",
     "text": [
      "[[47  0  0  0  0  0]\n",
      " [ 0 49  0  0  0  0]\n",
      " [ 0  0 46  0  0  0]\n",
      " [ 1  0  0 45  0  0]\n",
      " [ 0  0  0  0 50  0]\n",
      " [33 17  0  0  0  0]]\n",
      "82.29\n",
      "f1_weighted: 0.7561342091445692, f1_macro: 0.7625933170090778, f1_micro: 0.8229166666666666, f_measure: {'Known': 91.5112, 'Open': 0, 'F1-score': 76.2593}\n",
      "              precision    recall  f1-score   support\n",
      "\n",
      "           0       0.58      1.00      0.73        47\n",
      "           1       0.74      1.00      0.85        49\n",
      "           2       1.00      1.00      1.00        46\n",
      "           3       1.00      0.98      0.99        46\n",
      "           4       1.00      1.00      1.00        50\n",
      "           5       0.00      0.00      0.00        50\n",
      "\n",
      "    accuracy                           0.82       288\n",
      "   macro avg       0.72      0.83      0.76       288\n",
      "weighted avg       0.71      0.82      0.76       288\n",
      "\n"
     ]
    }
   ],
   "source": [
    "comment=\"changing the optimizer\"\n",
    "test_data, oset = oset_train(ablation=500,designated_ukc_cls=5,num_classes=5,embedding_size=4,\n",
    "                             lr_rate=5, optimizer='nadam',\n",
    "pretrain_epochs=14,octrain_epochs=50, wait_patient=6, comment=comment)"
   ]
  },
  {
   "cell_type": "code",
   "execution_count": 17,
   "id": "60f30c1e-073d-439e-9d7e-e98b40d852a3",
   "metadata": {},
   "outputs": [
    {
     "name": "stdout",
     "output_type": "stream",
     "text": [
      "padded_num_seq_df loaded from C:\\Users\\Bhujay_ROG\\MyDev\\OCLog\\oclog\\BGL\\data\\bgl_ukc.pkl\n",
      "trained tokenizer, tk, loaded from C:\\Users\\Bhujay_ROG\\MyDev\\OCLog\\oclog\\BGL\\data\\bgltkukc.pkl\n",
      "train_0:, 400\n",
      "val_0:, 50\n",
      "test_0:, 50\n",
      "train_1:, 400\n",
      "val_1:, 50\n",
      "test_1:, 50\n",
      "train_2:, 400\n",
      "val_2:, 50\n",
      "test_2:, 50\n",
      "train_3:, 400\n",
      "val_3:, 50\n",
      "test_3:, 50\n",
      "train_4:, 400\n",
      "val_4:, 50\n",
      "test_4:, 50\n",
      "class 5 is added as ukc\n",
      "ukc_5:, 50\n",
      "vocab_size: 50\n",
      "Epoch 1/14\n",
      "62/62 [==============================] - 7s 103ms/step - loss: 1.2459 - accuracy: 0.5186 - precision_3: 0.9662 - recall_3: 0.2450 - val_loss: 1.0478 - val_accuracy: 0.7411 - val_precision_3: 1.0000 - val_recall_3: 0.3884\n",
      "Epoch 2/14\n",
      "62/62 [==============================] - 6s 99ms/step - loss: 0.7508 - accuracy: 0.7021 - precision_3: 0.9371 - recall_3: 0.5706 - val_loss: 0.6129 - val_accuracy: 0.7634 - val_precision_3: 0.9937 - val_recall_3: 0.7098\n",
      "Epoch 3/14\n",
      "62/62 [==============================] - 6s 101ms/step - loss: 0.4726 - accuracy: 0.7692 - precision_3: 0.9276 - recall_3: 0.7364 - val_loss: 0.3301 - val_accuracy: 0.8884 - val_precision_3: 0.9661 - val_recall_3: 0.7634\n",
      "Epoch 4/14\n",
      "62/62 [==============================] - 7s 107ms/step - loss: 0.3098 - accuracy: 0.8795 - precision_3: 0.9070 - recall_3: 0.8256 - val_loss: 0.1483 - val_accuracy: 0.9821 - val_precision_3: 0.9865 - val_recall_3: 0.9821\n",
      "Epoch 5/14\n",
      "62/62 [==============================] - 7s 106ms/step - loss: 0.1979 - accuracy: 0.9456 - precision_3: 0.9474 - recall_3: 0.9451 - val_loss: 0.1479 - val_accuracy: 0.9598 - val_precision_3: 0.9685 - val_recall_3: 0.9598\n",
      "Epoch 6/14\n",
      "62/62 [==============================] - 7s 105ms/step - loss: 0.2487 - accuracy: 0.9123 - precision_3: 0.9150 - recall_3: 0.9118 - val_loss: 0.0854 - val_accuracy: 0.9866 - val_precision_3: 0.9955 - val_recall_3: 0.9866\n",
      "Epoch 7/14\n",
      "62/62 [==============================] - 6s 102ms/step - loss: 0.1233 - accuracy: 0.9622 - precision_3: 0.9626 - recall_3: 0.9612 - val_loss: 0.0458 - val_accuracy: 1.0000 - val_precision_3: 1.0000 - val_recall_3: 1.0000\n",
      "Epoch 8/14\n",
      "62/62 [==============================] - 7s 105ms/step - loss: 0.1127 - accuracy: 0.9627 - precision_3: 0.9632 - recall_3: 0.9627 - val_loss: 0.0460 - val_accuracy: 0.9955 - val_precision_3: 0.9955 - val_recall_3: 0.9955\n",
      "Epoch 9/14\n",
      "62/62 [==============================] - 6s 100ms/step - loss: 0.0829 - accuracy: 0.9677 - precision_3: 0.9677 - recall_3: 0.9677 - val_loss: 0.0390 - val_accuracy: 1.0000 - val_precision_3: 1.0000 - val_recall_3: 1.0000\n",
      "Epoch 10/14\n",
      "62/62 [==============================] - 6s 100ms/step - loss: 0.0743 - accuracy: 0.9758 - precision_3: 0.9763 - recall_3: 0.9758 - val_loss: 0.0724 - val_accuracy: 0.9911 - val_precision_3: 0.9911 - val_recall_3: 0.9911\n",
      "Epoch 11/14\n",
      "62/62 [==============================] - 6s 101ms/step - loss: 0.0843 - accuracy: 0.9723 - precision_3: 0.9723 - recall_3: 0.9723 - val_loss: 0.0265 - val_accuracy: 0.9911 - val_precision_3: 0.9911 - val_recall_3: 0.9911\n",
      "Epoch 12/14\n",
      "62/62 [==============================] - 6s 100ms/step - loss: 0.0615 - accuracy: 0.9773 - precision_3: 0.9773 - recall_3: 0.9768 - val_loss: 0.0220 - val_accuracy: 1.0000 - val_precision_3: 1.0000 - val_recall_3: 1.0000\n",
      "Epoch 13/14\n",
      "62/62 [==============================] - 6s 100ms/step - loss: 0.0338 - accuracy: 0.9904 - precision_3: 0.9904 - recall_3: 0.9904 - val_loss: 0.0427 - val_accuracy: 0.9911 - val_precision_3: 0.9911 - val_recall_3: 0.9911\n",
      "Epoch 14/14\n",
      "62/62 [==============================] - 6s 99ms/step - loss: 0.0655 - accuracy: 0.9778 - precision_3: 0.9778 - recall_3: 0.9778 - val_loss: 0.0418 - val_accuracy: 0.9866 - val_precision_3: 0.9866 - val_recall_3: 0.9866\n"
     ]
    },
    {
     "name": "stderr",
     "output_type": "stream",
     "text": [
      "100%|██████████████████████████████████████████████████████████████████████████████████| 62/62 [00:08<00:00,  6.96it/s]\n"
     ]
    },
    {
     "name": "stdout",
     "output_type": "stream",
     "text": [
      "epoch: 1/50, train_loss: 18.151351928710938, F1_train: 0.045609531836640876 F1_val: 0.03449006782945736\n"
     ]
    },
    {
     "name": "stderr",
     "output_type": "stream",
     "text": [
      "100%|██████████████████████████████████████████████████████████████████████████████████| 62/62 [00:08<00:00,  6.97it/s]\n"
     ]
    },
    {
     "name": "stdout",
     "output_type": "stream",
     "text": [
      "epoch: 2/50, train_loss: 18.138113021850586, F1_train: 0.06489410451191155 F1_val: 0.09024146343319936\n"
     ]
    },
    {
     "name": "stderr",
     "output_type": "stream",
     "text": [
      "100%|██████████████████████████████████████████████████████████████████████████████████| 62/62 [00:08<00:00,  6.98it/s]\n"
     ]
    },
    {
     "name": "stdout",
     "output_type": "stream",
     "text": [
      "epoch: 3/50, train_loss: 18.15184211730957, F1_train: 0.08403036764532727 F1_val: 0.10568270165208941\n"
     ]
    },
    {
     "name": "stderr",
     "output_type": "stream",
     "text": [
      "100%|██████████████████████████████████████████████████████████████████████████████████| 62/62 [00:08<00:00,  6.93it/s]\n"
     ]
    },
    {
     "name": "stdout",
     "output_type": "stream",
     "text": [
      "epoch: 4/50, train_loss: 18.153200149536133, F1_train: 0.09896934842016944 F1_val: 0.13370139679342605\n"
     ]
    },
    {
     "name": "stderr",
     "output_type": "stream",
     "text": [
      "100%|██████████████████████████████████████████████████████████████████████████████████| 62/62 [00:08<00:00,  6.94it/s]\n"
     ]
    },
    {
     "name": "stdout",
     "output_type": "stream",
     "text": [
      "epoch: 5/50, train_loss: 18.171104431152344, F1_train: 0.1062524537870032 F1_val: 0.14115896358543417\n"
     ]
    },
    {
     "name": "stderr",
     "output_type": "stream",
     "text": [
      "100%|██████████████████████████████████████████████████████████████████████████████████| 62/62 [00:09<00:00,  6.72it/s]\n"
     ]
    },
    {
     "name": "stdout",
     "output_type": "stream",
     "text": [
      "epoch: 6/50, train_loss: 18.120651245117188, F1_train: 0.12241613959078881 F1_val: 0.15145145359731194\n"
     ]
    },
    {
     "name": "stderr",
     "output_type": "stream",
     "text": [
      "100%|██████████████████████████████████████████████████████████████████████████████████| 62/62 [00:08<00:00,  6.97it/s]\n"
     ]
    },
    {
     "name": "stdout",
     "output_type": "stream",
     "text": [
      "epoch: 7/50, train_loss: 18.14455223083496, F1_train: 0.12809970461976317 F1_val: 0.16596153846153847\n"
     ]
    },
    {
     "name": "stderr",
     "output_type": "stream",
     "text": [
      "100%|██████████████████████████████████████████████████████████████████████████████████| 62/62 [00:08<00:00,  6.99it/s]\n"
     ]
    },
    {
     "name": "stdout",
     "output_type": "stream",
     "text": [
      "epoch: 8/50, train_loss: 18.111858367919922, F1_train: 0.13857721589456223 F1_val: 0.17935878180821416\n"
     ]
    },
    {
     "name": "stderr",
     "output_type": "stream",
     "text": [
      "100%|██████████████████████████████████████████████████████████████████████████████████| 62/62 [00:08<00:00,  7.03it/s]\n"
     ]
    },
    {
     "name": "stdout",
     "output_type": "stream",
     "text": [
      "epoch: 9/50, train_loss: 18.151241302490234, F1_train: 0.1422433840550143 F1_val: 0.16728428978428975\n"
     ]
    },
    {
     "name": "stderr",
     "output_type": "stream",
     "text": [
      "100%|██████████████████████████████████████████████████████████████████████████████████| 62/62 [00:08<00:00,  7.13it/s]\n"
     ]
    },
    {
     "name": "stdout",
     "output_type": "stream",
     "text": [
      "epoch: 10/50, train_loss: 18.149948120117188, F1_train: 0.14577498262026584 F1_val: 0.1903594128329298\n"
     ]
    },
    {
     "name": "stderr",
     "output_type": "stream",
     "text": [
      "100%|██████████████████████████████████████████████████████████████████████████████████| 62/62 [00:08<00:00,  7.13it/s]\n"
     ]
    },
    {
     "name": "stdout",
     "output_type": "stream",
     "text": [
      "epoch: 11/50, train_loss: 18.15192985534668, F1_train: 0.14997262226207278 F1_val: 0.21446042053184913\n"
     ]
    },
    {
     "name": "stderr",
     "output_type": "stream",
     "text": [
      "100%|██████████████████████████████████████████████████████████████████████████████████| 62/62 [00:08<00:00,  7.12it/s]\n"
     ]
    },
    {
     "name": "stdout",
     "output_type": "stream",
     "text": [
      "epoch: 12/50, train_loss: 18.024578094482422, F1_train: 0.15177437557376314 F1_val: 0.21044117046475536\n"
     ]
    },
    {
     "name": "stderr",
     "output_type": "stream",
     "text": [
      "100%|██████████████████████████████████████████████████████████████████████████████████| 62/62 [00:09<00:00,  6.79it/s]\n"
     ]
    },
    {
     "name": "stdout",
     "output_type": "stream",
     "text": [
      "epoch: 13/50, train_loss: 18.116193771362305, F1_train: 0.15782074408424757 F1_val: 0.23789671323588793\n"
     ]
    },
    {
     "name": "stderr",
     "output_type": "stream",
     "text": [
      "100%|██████████████████████████████████████████████████████████████████████████████████| 62/62 [00:09<00:00,  6.83it/s]\n"
     ]
    },
    {
     "name": "stdout",
     "output_type": "stream",
     "text": [
      "epoch: 14/50, train_loss: 18.10032844543457, F1_train: 0.16170832500595894 F1_val: 0.23098386701551643\n"
     ]
    },
    {
     "name": "stderr",
     "output_type": "stream",
     "text": [
      "100%|██████████████████████████████████████████████████████████████████████████████████| 62/62 [00:09<00:00,  6.74it/s]\n"
     ]
    },
    {
     "name": "stdout",
     "output_type": "stream",
     "text": [
      "epoch: 15/50, train_loss: 18.152881622314453, F1_train: 0.16857122782284856 F1_val: 0.20909314823107925\n"
     ]
    },
    {
     "name": "stderr",
     "output_type": "stream",
     "text": [
      "100%|██████████████████████████████████████████████████████████████████████████████████| 62/62 [00:08<00:00,  6.96it/s]\n"
     ]
    },
    {
     "name": "stdout",
     "output_type": "stream",
     "text": [
      "epoch: 16/50, train_loss: 18.116981506347656, F1_train: 0.27176081165695304 F1_val: 0.23743350723748144\n"
     ]
    },
    {
     "name": "stderr",
     "output_type": "stream",
     "text": [
      "100%|██████████████████████████████████████████████████████████████████████████████████| 62/62 [00:08<00:00,  7.00it/s]\n"
     ]
    },
    {
     "name": "stdout",
     "output_type": "stream",
     "text": [
      "epoch: 17/50, train_loss: 18.121435165405273, F1_train: 0.2742996339610282 F1_val: 0.25603406027934333\n"
     ]
    },
    {
     "name": "stderr",
     "output_type": "stream",
     "text": [
      "100%|██████████████████████████████████████████████████████████████████████████████████| 62/62 [00:08<00:00,  7.00it/s]\n"
     ]
    },
    {
     "name": "stdout",
     "output_type": "stream",
     "text": [
      "epoch: 18/50, train_loss: 18.14130401611328, F1_train: 0.27846617560869874 F1_val: 0.2549313822751323\n"
     ]
    },
    {
     "name": "stderr",
     "output_type": "stream",
     "text": [
      "100%|██████████████████████████████████████████████████████████████████████████████████| 62/62 [00:09<00:00,  6.53it/s]\n"
     ]
    },
    {
     "name": "stdout",
     "output_type": "stream",
     "text": [
      "epoch: 19/50, train_loss: 18.154699325561523, F1_train: 0.2789090018746679 F1_val: 0.2619338233819706\n"
     ]
    },
    {
     "name": "stderr",
     "output_type": "stream",
     "text": [
      "100%|██████████████████████████████████████████████████████████████████████████████████| 62/62 [00:08<00:00,  6.92it/s]\n"
     ]
    },
    {
     "name": "stdout",
     "output_type": "stream",
     "text": [
      "epoch: 20/50, train_loss: 18.156415939331055, F1_train: 0.27817916314604163 F1_val: 0.23612645969318904\n"
     ]
    },
    {
     "name": "stderr",
     "output_type": "stream",
     "text": [
      "100%|██████████████████████████████████████████████████████████████████████████████████| 62/62 [00:08<00:00,  6.98it/s]\n"
     ]
    },
    {
     "name": "stdout",
     "output_type": "stream",
     "text": [
      "epoch: 21/50, train_loss: 18.14659309387207, F1_train: 0.28039290688065555 F1_val: 0.24560667958221025\n"
     ]
    },
    {
     "name": "stderr",
     "output_type": "stream",
     "text": [
      "100%|██████████████████████████████████████████████████████████████████████████████████| 62/62 [00:08<00:00,  7.05it/s]\n"
     ]
    },
    {
     "name": "stdout",
     "output_type": "stream",
     "text": [
      "epoch: 22/50, train_loss: 18.15212059020996, F1_train: 0.2805512202336155 F1_val: 0.261351917072256\n"
     ]
    },
    {
     "name": "stderr",
     "output_type": "stream",
     "text": [
      "100%|██████████████████████████████████████████████████████████████████████████████████| 62/62 [00:08<00:00,  7.05it/s]\n"
     ]
    },
    {
     "name": "stdout",
     "output_type": "stream",
     "text": [
      "epoch: 23/50, train_loss: 18.16817283630371, F1_train: 0.28076898214669666 F1_val: 0.25826197438039544\n"
     ]
    },
    {
     "name": "stderr",
     "output_type": "stream",
     "text": [
      "100%|██████████████████████████████████████████████████████████████████████████████████| 62/62 [00:08<00:00,  7.02it/s]\n"
     ]
    },
    {
     "name": "stdout",
     "output_type": "stream",
     "text": [
      "epoch: 24/50, train_loss: 18.173057556152344, F1_train: 0.282804205145253 F1_val: 0.2574588103782183\n"
     ]
    },
    {
     "name": "stderr",
     "output_type": "stream",
     "text": [
      "100%|██████████████████████████████████████████████████████████████████████████████████| 62/62 [00:08<00:00,  7.04it/s]\n"
     ]
    },
    {
     "name": "stdout",
     "output_type": "stream",
     "text": [
      "epoch: 25/50, train_loss: 18.13289451599121, F1_train: 0.28275799182621714 F1_val: 0.2649154974489796\n"
     ]
    },
    {
     "name": "stderr",
     "output_type": "stream",
     "text": [
      "100%|██████████████████████████████████████████████████████████████████████████████████| 62/62 [00:08<00:00,  7.06it/s]\n"
     ]
    },
    {
     "name": "stdout",
     "output_type": "stream",
     "text": [
      "epoch: 26/50, train_loss: 18.17063331604004, F1_train: 0.2823851891664108 F1_val: 0.26862982709088756\n"
     ]
    },
    {
     "name": "stderr",
     "output_type": "stream",
     "text": [
      "100%|██████████████████████████████████████████████████████████████████████████████████| 62/62 [00:08<00:00,  7.08it/s]\n"
     ]
    },
    {
     "name": "stdout",
     "output_type": "stream",
     "text": [
      "epoch: 27/50, train_loss: 18.130525588989258, F1_train: 0.28189284604750026 F1_val: 0.25486854204040427\n"
     ]
    },
    {
     "name": "stderr",
     "output_type": "stream",
     "text": [
      "100%|██████████████████████████████████████████████████████████████████████████████████| 62/62 [00:08<00:00,  6.95it/s]\n"
     ]
    },
    {
     "name": "stdout",
     "output_type": "stream",
     "text": [
      "epoch: 28/50, train_loss: 18.088838577270508, F1_train: 0.2828879060916825 F1_val: 0.26278588496330435\n"
     ]
    },
    {
     "name": "stderr",
     "output_type": "stream",
     "text": [
      "100%|██████████████████████████████████████████████████████████████████████████████████| 62/62 [00:08<00:00,  6.96it/s]\n"
     ]
    },
    {
     "name": "stdout",
     "output_type": "stream",
     "text": [
      "epoch: 29/50, train_loss: 18.115644454956055, F1_train: 0.2838954312563989 F1_val: 0.2576921560201906\n"
     ]
    },
    {
     "name": "stderr",
     "output_type": "stream",
     "text": [
      "100%|██████████████████████████████████████████████████████████████████████████████████| 62/62 [00:09<00:00,  6.40it/s]\n"
     ]
    },
    {
     "name": "stdout",
     "output_type": "stream",
     "text": [
      "epoch: 30/50, train_loss: 18.145465850830078, F1_train: 0.2822855426856365 F1_val: 0.25582996286121285\n"
     ]
    },
    {
     "name": "stderr",
     "output_type": "stream",
     "text": [
      "100%|██████████████████████████████████████████████████████████████████████████████████| 62/62 [00:10<00:00,  6.01it/s]\n"
     ]
    },
    {
     "name": "stdout",
     "output_type": "stream",
     "text": [
      "epoch: 31/50, train_loss: 18.11695671081543, F1_train: 0.27940488732350915 F1_val: 0.25180605839173614\n"
     ]
    },
    {
     "name": "stderr",
     "output_type": "stream",
     "text": [
      "100%|██████████████████████████████████████████████████████████████████████████████████| 62/62 [00:08<00:00,  7.03it/s]\n"
     ]
    },
    {
     "name": "stdout",
     "output_type": "stream",
     "text": [
      "epoch: 32/50, train_loss: 18.17409324645996, F1_train: 0.28151312725063177 F1_val: 0.256766206482593\n"
     ]
    },
    {
     "data": {
      "image/png": "[encoded data removed]",
      "text/plain": [
       "<Figure size 1080x360 with 2 Axes>"
      ]
     },
     "metadata": {
      "needs_background": "light"
     },
     "output_type": "display_data"
    },
    {
     "name": "stdout",
     "output_type": "stream",
     "text": [
      "[[18  0  0  0  0 29]\n",
      " [ 0  8  0  0  0 41]\n",
      " [ 0  0  0  0  0 46]\n",
      " [ 1  0  0  0  0 45]\n",
      " [ 0  0  0  0 13 37]\n",
      " [ 2  0  0  0  0 48]]\n",
      "30.21\n",
      "f1_weighted: 0.2621106797125889, f1_macro: 0.25785604268576406, f1_micro: 0.3020833333333333, f_measure: {'Known': 24.4562, 'Open': 32.4324, 'F1-score': 25.7856}\n",
      "              precision    recall  f1-score   support\n",
      "\n",
      "           0       0.86      0.38      0.53        47\n",
      "           1       1.00      0.16      0.28        49\n",
      "           2       0.00      0.00      0.00        46\n",
      "           3       0.00      0.00      0.00        46\n",
      "           4       1.00      0.26      0.41        50\n",
      "           5       0.20      0.96      0.32        50\n",
      "\n",
      "    accuracy                           0.30       288\n",
      "   macro avg       0.51      0.29      0.26       288\n",
      "weighted avg       0.52      0.30      0.26       288\n",
      "\n"
     ]
    }
   ],
   "source": [
    "comment=\"nadam optimizer with lower LR\"\n",
    "test_data, oset = oset_train(ablation=500,designated_ukc_cls=5,num_classes=5,embedding_size=4,\n",
    "                             lr_rate=0.5, optimizer='nadam',\n",
    "pretrain_epochs=14,octrain_epochs=50, wait_patient=6, comment=comment)"
   ]
  },
  {
   "cell_type": "code",
   "execution_count": 18,
   "id": "659db416-041d-4f50-9961-92a27c897c37",
   "metadata": {},
   "outputs": [
    {
     "name": "stdout",
     "output_type": "stream",
     "text": [
      "padded_num_seq_df loaded from C:\\Users\\Bhujay_ROG\\MyDev\\OCLog\\oclog\\BGL\\data\\bgl_ukc.pkl\n",
      "trained tokenizer, tk, loaded from C:\\Users\\Bhujay_ROG\\MyDev\\OCLog\\oclog\\BGL\\data\\bgltkukc.pkl\n",
      "train_0:, 400\n",
      "val_0:, 50\n",
      "test_0:, 50\n",
      "train_1:, 400\n",
      "val_1:, 50\n",
      "test_1:, 50\n",
      "train_2:, 400\n",
      "val_2:, 50\n",
      "test_2:, 50\n",
      "train_3:, 400\n",
      "val_3:, 50\n",
      "test_3:, 50\n",
      "train_4:, 400\n",
      "val_4:, 50\n",
      "test_4:, 50\n",
      "class 5 is added as ukc\n",
      "ukc_5:, 50\n",
      "vocab_size: 50\n",
      "Epoch 1/14\n",
      "62/62 [==============================] - 7s 107ms/step - loss: 1.2459 - accuracy: 0.5186 - precision_4: 0.9662 - recall_4: 0.2450 - val_loss: 1.0478 - val_accuracy: 0.7411 - val_precision_4: 1.0000 - val_recall_4: 0.3884\n",
      "Epoch 2/14\n",
      "62/62 [==============================] - 6s 100ms/step - loss: 0.7508 - accuracy: 0.7021 - precision_4: 0.9371 - recall_4: 0.5706 - val_loss: 0.6129 - val_accuracy: 0.7634 - val_precision_4: 0.9937 - val_recall_4: 0.7098\n",
      "Epoch 3/14\n",
      "62/62 [==============================] - 6s 103ms/step - loss: 0.4726 - accuracy: 0.7692 - precision_4: 0.9276 - recall_4: 0.7364 - val_loss: 0.3301 - val_accuracy: 0.8884 - val_precision_4: 0.9661 - val_recall_4: 0.7634\n",
      "Epoch 4/14\n",
      "62/62 [==============================] - 7s 107ms/step - loss: 0.3098 - accuracy: 0.8795 - precision_4: 0.9070 - recall_4: 0.8256 - val_loss: 0.1483 - val_accuracy: 0.9821 - val_precision_4: 0.9865 - val_recall_4: 0.9821\n",
      "Epoch 5/14\n",
      "62/62 [==============================] - 6s 103ms/step - loss: 0.1979 - accuracy: 0.9456 - precision_4: 0.9474 - recall_4: 0.9451 - val_loss: 0.1479 - val_accuracy: 0.9598 - val_precision_4: 0.9685 - val_recall_4: 0.9598\n",
      "Epoch 6/14\n",
      "62/62 [==============================] - 7s 106ms/step - loss: 0.2487 - accuracy: 0.9123 - precision_4: 0.9150 - recall_4: 0.9118 - val_loss: 0.0854 - val_accuracy: 0.9866 - val_precision_4: 0.9955 - val_recall_4: 0.9866\n",
      "Epoch 7/14\n",
      "62/62 [==============================] - 7s 116ms/step - loss: 0.1233 - accuracy: 0.9622 - precision_4: 0.9626 - recall_4: 0.9612 - val_loss: 0.0458 - val_accuracy: 1.0000 - val_precision_4: 1.0000 - val_recall_4: 1.0000\n",
      "Epoch 8/14\n",
      "62/62 [==============================] - 7s 108ms/step - loss: 0.1127 - accuracy: 0.9627 - precision_4: 0.9632 - recall_4: 0.9627 - val_loss: 0.0460 - val_accuracy: 0.9955 - val_precision_4: 0.9955 - val_recall_4: 0.9955\n",
      "Epoch 9/14\n",
      "62/62 [==============================] - 6s 103ms/step - loss: 0.0829 - accuracy: 0.9677 - precision_4: 0.9677 - recall_4: 0.9677 - val_loss: 0.0390 - val_accuracy: 1.0000 - val_precision_4: 1.0000 - val_recall_4: 1.0000\n",
      "Epoch 10/14\n",
      "62/62 [==============================] - 6s 102ms/step - loss: 0.0743 - accuracy: 0.9758 - precision_4: 0.9763 - recall_4: 0.9758 - val_loss: 0.0724 - val_accuracy: 0.9911 - val_precision_4: 0.9911 - val_recall_4: 0.9911\n",
      "Epoch 11/14\n",
      "62/62 [==============================] - 6s 103ms/step - loss: 0.0843 - accuracy: 0.9723 - precision_4: 0.9723 - recall_4: 0.9723 - val_loss: 0.0265 - val_accuracy: 0.9911 - val_precision_4: 0.9911 - val_recall_4: 0.9911\n",
      "Epoch 12/14\n",
      "62/62 [==============================] - 6s 103ms/step - loss: 0.0615 - accuracy: 0.9773 - precision_4: 0.9773 - recall_4: 0.9768 - val_loss: 0.0220 - val_accuracy: 1.0000 - val_precision_4: 1.0000 - val_recall_4: 1.0000\n",
      "Epoch 13/14\n",
      "62/62 [==============================] - 6s 102ms/step - loss: 0.0338 - accuracy: 0.9904 - precision_4: 0.9904 - recall_4: 0.9904 - val_loss: 0.0427 - val_accuracy: 0.9911 - val_precision_4: 0.9911 - val_recall_4: 0.9911\n",
      "Epoch 14/14\n",
      "62/62 [==============================] - 6s 103ms/step - loss: 0.0655 - accuracy: 0.9778 - precision_4: 0.9778 - recall_4: 0.9778 - val_loss: 0.0418 - val_accuracy: 0.9866 - val_precision_4: 0.9866 - val_recall_4: 0.9866\n"
     ]
    },
    {
     "name": "stderr",
     "output_type": "stream",
     "text": [
      "100%|██████████████████████████████████████████████████████████████████████████████████| 62/62 [00:09<00:00,  6.82it/s]\n"
     ]
    },
    {
     "name": "stdout",
     "output_type": "stream",
     "text": [
      "epoch: 1/50, train_loss: 18.151351928710938, F1_train: 0.045609531836640876 F1_val: 0.03449006782945736\n"
     ]
    },
    {
     "name": "stderr",
     "output_type": "stream",
     "text": [
      "100%|██████████████████████████████████████████████████████████████████████████████████| 62/62 [00:08<00:00,  6.91it/s]\n"
     ]
    },
    {
     "name": "stdout",
     "output_type": "stream",
     "text": [
      "epoch: 2/50, train_loss: 18.138113021850586, F1_train: 0.06489410451191155 F1_val: 0.09024146343319936\n"
     ]
    },
    {
     "name": "stderr",
     "output_type": "stream",
     "text": [
      "100%|██████████████████████████████████████████████████████████████████████████████████| 62/62 [00:09<00:00,  6.87it/s]\n"
     ]
    },
    {
     "name": "stdout",
     "output_type": "stream",
     "text": [
      "epoch: 3/50, train_loss: 18.15184211730957, F1_train: 0.08403036764532727 F1_val: 0.10568270165208941\n"
     ]
    },
    {
     "name": "stderr",
     "output_type": "stream",
     "text": [
      "100%|██████████████████████████████████████████████████████████████████████████████████| 62/62 [00:09<00:00,  6.80it/s]\n"
     ]
    },
    {
     "name": "stdout",
     "output_type": "stream",
     "text": [
      "epoch: 4/50, train_loss: 18.153200149536133, F1_train: 0.09896934842016944 F1_val: 0.13370139679342605\n"
     ]
    },
    {
     "name": "stderr",
     "output_type": "stream",
     "text": [
      "100%|██████████████████████████████████████████████████████████████████████████████████| 62/62 [00:09<00:00,  6.63it/s]\n"
     ]
    },
    {
     "name": "stdout",
     "output_type": "stream",
     "text": [
      "epoch: 5/50, train_loss: 18.171104431152344, F1_train: 0.1062524537870032 F1_val: 0.14115896358543417\n"
     ]
    },
    {
     "name": "stderr",
     "output_type": "stream",
     "text": [
      "100%|██████████████████████████████████████████████████████████████████████████████████| 62/62 [00:08<00:00,  7.01it/s]\n"
     ]
    },
    {
     "name": "stdout",
     "output_type": "stream",
     "text": [
      "epoch: 6/50, train_loss: 18.120651245117188, F1_train: 0.12241613959078881 F1_val: 0.15145145359731194\n"
     ]
    },
    {
     "name": "stderr",
     "output_type": "stream",
     "text": [
      "100%|██████████████████████████████████████████████████████████████████████████████████| 62/62 [00:09<00:00,  6.78it/s]\n"
     ]
    },
    {
     "name": "stdout",
     "output_type": "stream",
     "text": [
      "epoch: 7/50, train_loss: 18.14455223083496, F1_train: 0.12809970461976317 F1_val: 0.16596153846153847\n"
     ]
    },
    {
     "name": "stderr",
     "output_type": "stream",
     "text": [
      "100%|██████████████████████████████████████████████████████████████████████████████████| 62/62 [00:08<00:00,  6.89it/s]\n"
     ]
    },
    {
     "name": "stdout",
     "output_type": "stream",
     "text": [
      "epoch: 8/50, train_loss: 18.111858367919922, F1_train: 0.13857721589456223 F1_val: 0.17935878180821416\n"
     ]
    },
    {
     "name": "stderr",
     "output_type": "stream",
     "text": [
      "100%|██████████████████████████████████████████████████████████████████████████████████| 62/62 [00:09<00:00,  6.58it/s]\n"
     ]
    },
    {
     "name": "stdout",
     "output_type": "stream",
     "text": [
      "epoch: 9/50, train_loss: 18.151241302490234, F1_train: 0.1422433840550143 F1_val: 0.16728428978428975\n"
     ]
    },
    {
     "name": "stderr",
     "output_type": "stream",
     "text": [
      "100%|██████████████████████████████████████████████████████████████████████████████████| 62/62 [00:09<00:00,  6.64it/s]\n"
     ]
    },
    {
     "name": "stdout",
     "output_type": "stream",
     "text": [
      "epoch: 10/50, train_loss: 18.149948120117188, F1_train: 0.14577498262026584 F1_val: 0.1903594128329298\n"
     ]
    },
    {
     "name": "stderr",
     "output_type": "stream",
     "text": [
      "100%|██████████████████████████████████████████████████████████████████████████████████| 62/62 [00:08<00:00,  6.96it/s]\n"
     ]
    },
    {
     "name": "stdout",
     "output_type": "stream",
     "text": [
      "epoch: 11/50, train_loss: 18.15192985534668, F1_train: 0.14997262226207278 F1_val: 0.21446042053184913\n"
     ]
    },
    {
     "name": "stderr",
     "output_type": "stream",
     "text": [
      "100%|██████████████████████████████████████████████████████████████████████████████████| 62/62 [00:08<00:00,  6.97it/s]\n"
     ]
    },
    {
     "name": "stdout",
     "output_type": "stream",
     "text": [
      "epoch: 12/50, train_loss: 18.024578094482422, F1_train: 0.15177437557376314 F1_val: 0.21044117046475536\n"
     ]
    },
    {
     "name": "stderr",
     "output_type": "stream",
     "text": [
      "100%|██████████████████████████████████████████████████████████████████████████████████| 62/62 [00:09<00:00,  6.37it/s]\n"
     ]
    },
    {
     "name": "stdout",
     "output_type": "stream",
     "text": [
      "epoch: 13/50, train_loss: 18.116193771362305, F1_train: 0.15782074408424757 F1_val: 0.23789671323588793\n"
     ]
    },
    {
     "name": "stderr",
     "output_type": "stream",
     "text": [
      "100%|██████████████████████████████████████████████████████████████████████████████████| 62/62 [00:10<00:00,  6.10it/s]\n"
     ]
    },
    {
     "name": "stdout",
     "output_type": "stream",
     "text": [
      "epoch: 14/50, train_loss: 18.10032844543457, F1_train: 0.16170832500595894 F1_val: 0.23098386701551643\n"
     ]
    },
    {
     "name": "stderr",
     "output_type": "stream",
     "text": [
      "100%|██████████████████████████████████████████████████████████████████████████████████| 62/62 [00:09<00:00,  6.35it/s]\n"
     ]
    },
    {
     "name": "stdout",
     "output_type": "stream",
     "text": [
      "epoch: 15/50, train_loss: 18.152881622314453, F1_train: 0.16857122782284856 F1_val: 0.20909314823107925\n"
     ]
    },
    {
     "name": "stderr",
     "output_type": "stream",
     "text": [
      "100%|██████████████████████████████████████████████████████████████████████████████████| 62/62 [00:09<00:00,  6.70it/s]\n"
     ]
    },
    {
     "name": "stdout",
     "output_type": "stream",
     "text": [
      "epoch: 16/50, train_loss: 18.116981506347656, F1_train: 0.27176081165695304 F1_val: 0.23743350723748144\n"
     ]
    },
    {
     "name": "stderr",
     "output_type": "stream",
     "text": [
      "100%|██████████████████████████████████████████████████████████████████████████████████| 62/62 [00:08<00:00,  6.96it/s]\n"
     ]
    },
    {
     "name": "stdout",
     "output_type": "stream",
     "text": [
      "epoch: 17/50, train_loss: 18.121435165405273, F1_train: 0.2742996339610282 F1_val: 0.25603406027934333\n"
     ]
    },
    {
     "name": "stderr",
     "output_type": "stream",
     "text": [
      "100%|██████████████████████████████████████████████████████████████████████████████████| 62/62 [00:08<00:00,  7.04it/s]\n"
     ]
    },
    {
     "name": "stdout",
     "output_type": "stream",
     "text": [
      "epoch: 18/50, train_loss: 18.14130401611328, F1_train: 0.27846617560869874 F1_val: 0.2549313822751323\n"
     ]
    },
    {
     "name": "stderr",
     "output_type": "stream",
     "text": [
      "100%|██████████████████████████████████████████████████████████████████████████████████| 62/62 [00:08<00:00,  7.03it/s]\n"
     ]
    },
    {
     "name": "stdout",
     "output_type": "stream",
     "text": [
      "epoch: 19/50, train_loss: 18.154699325561523, F1_train: 0.2789090018746679 F1_val: 0.2619338233819706\n"
     ]
    },
    {
     "name": "stderr",
     "output_type": "stream",
     "text": [
      "100%|██████████████████████████████████████████████████████████████████████████████████| 62/62 [00:08<00:00,  7.03it/s]\n"
     ]
    },
    {
     "name": "stdout",
     "output_type": "stream",
     "text": [
      "epoch: 20/50, train_loss: 18.156415939331055, F1_train: 0.27817916314604163 F1_val: 0.23612645969318904\n"
     ]
    },
    {
     "name": "stderr",
     "output_type": "stream",
     "text": [
      "100%|██████████████████████████████████████████████████████████████████████████████████| 62/62 [00:08<00:00,  7.04it/s]\n"
     ]
    },
    {
     "name": "stdout",
     "output_type": "stream",
     "text": [
      "epoch: 21/50, train_loss: 18.14659309387207, F1_train: 0.28039290688065555 F1_val: 0.24560667958221025\n"
     ]
    },
    {
     "name": "stderr",
     "output_type": "stream",
     "text": [
      "100%|██████████████████████████████████████████████████████████████████████████████████| 62/62 [00:08<00:00,  6.93it/s]\n"
     ]
    },
    {
     "name": "stdout",
     "output_type": "stream",
     "text": [
      "epoch: 22/50, train_loss: 18.15212059020996, F1_train: 0.2805512202336155 F1_val: 0.261351917072256\n"
     ]
    },
    {
     "name": "stderr",
     "output_type": "stream",
     "text": [
      "100%|██████████████████████████████████████████████████████████████████████████████████| 62/62 [00:09<00:00,  6.61it/s]\n"
     ]
    },
    {
     "name": "stdout",
     "output_type": "stream",
     "text": [
      "epoch: 23/50, train_loss: 18.16817283630371, F1_train: 0.28076898214669666 F1_val: 0.25826197438039544\n"
     ]
    },
    {
     "name": "stderr",
     "output_type": "stream",
     "text": [
      "100%|██████████████████████████████████████████████████████████████████████████████████| 62/62 [00:10<00:00,  6.20it/s]\n"
     ]
    },
    {
     "name": "stdout",
     "output_type": "stream",
     "text": [
      "epoch: 24/50, train_loss: 18.173057556152344, F1_train: 0.282804205145253 F1_val: 0.2574588103782183\n"
     ]
    },
    {
     "name": "stderr",
     "output_type": "stream",
     "text": [
      "100%|██████████████████████████████████████████████████████████████████████████████████| 62/62 [00:09<00:00,  6.60it/s]\n"
     ]
    },
    {
     "name": "stdout",
     "output_type": "stream",
     "text": [
      "epoch: 25/50, train_loss: 18.13289451599121, F1_train: 0.28275799182621714 F1_val: 0.2649154974489796\n"
     ]
    },
    {
     "name": "stderr",
     "output_type": "stream",
     "text": [
      "100%|██████████████████████████████████████████████████████████████████████████████████| 62/62 [00:10<00:00,  6.00it/s]\n"
     ]
    },
    {
     "name": "stdout",
     "output_type": "stream",
     "text": [
      "epoch: 26/50, train_loss: 18.17063331604004, F1_train: 0.2823851891664108 F1_val: 0.26862982709088756\n"
     ]
    },
    {
     "name": "stderr",
     "output_type": "stream",
     "text": [
      "100%|██████████████████████████████████████████████████████████████████████████████████| 62/62 [00:09<00:00,  6.80it/s]\n"
     ]
    },
    {
     "name": "stdout",
     "output_type": "stream",
     "text": [
      "epoch: 27/50, train_loss: 18.130525588989258, F1_train: 0.28189284604750026 F1_val: 0.25486854204040427\n"
     ]
    },
    {
     "name": "stderr",
     "output_type": "stream",
     "text": [
      "100%|██████████████████████████████████████████████████████████████████████████████████| 62/62 [00:09<00:00,  6.88it/s]\n"
     ]
    },
    {
     "name": "stdout",
     "output_type": "stream",
     "text": [
      "epoch: 28/50, train_loss: 18.088838577270508, F1_train: 0.2828879060916825 F1_val: 0.26278588496330435\n"
     ]
    },
    {
     "name": "stderr",
     "output_type": "stream",
     "text": [
      "100%|██████████████████████████████████████████████████████████████████████████████████| 62/62 [00:09<00:00,  6.80it/s]\n"
     ]
    },
    {
     "name": "stdout",
     "output_type": "stream",
     "text": [
      "epoch: 29/50, train_loss: 18.115644454956055, F1_train: 0.2838954312563989 F1_val: 0.2576921560201906\n"
     ]
    },
    {
     "name": "stderr",
     "output_type": "stream",
     "text": [
      "100%|██████████████████████████████████████████████████████████████████████████████████| 62/62 [00:09<00:00,  6.22it/s]\n"
     ]
    },
    {
     "name": "stdout",
     "output_type": "stream",
     "text": [
      "epoch: 30/50, train_loss: 18.145465850830078, F1_train: 0.2822855426856365 F1_val: 0.25582996286121285\n"
     ]
    },
    {
     "name": "stderr",
     "output_type": "stream",
     "text": [
      "100%|██████████████████████████████████████████████████████████████████████████████████| 62/62 [00:09<00:00,  6.78it/s]\n"
     ]
    },
    {
     "name": "stdout",
     "output_type": "stream",
     "text": [
      "epoch: 31/50, train_loss: 18.11695671081543, F1_train: 0.27940488732350915 F1_val: 0.25180605839173614\n"
     ]
    },
    {
     "name": "stderr",
     "output_type": "stream",
     "text": [
      "100%|██████████████████████████████████████████████████████████████████████████████████| 62/62 [00:09<00:00,  6.81it/s]\n"
     ]
    },
    {
     "name": "stdout",
     "output_type": "stream",
     "text": [
      "epoch: 32/50, train_loss: 18.17409324645996, F1_train: 0.28151312725063177 F1_val: 0.256766206482593\n"
     ]
    },
    {
     "data": {
      "image/png": "[encoded data removed]",
      "text/plain": [
       "<Figure size 1080x360 with 2 Axes>"
      ]
     },
     "metadata": {
      "needs_background": "light"
     },
     "output_type": "display_data"
    },
    {
     "name": "stdout",
     "output_type": "stream",
     "text": [
      "[[18  0  0  0  0 29]\n",
      " [ 0  8  0  0  0 41]\n",
      " [ 0  0  0  0  0 46]\n",
      " [ 1  0  0  0  0 45]\n",
      " [ 0  0  0  0 13 37]\n",
      " [ 2  0  0  0  0 48]]\n",
      "30.21\n",
      "f1_weighted: 0.2621106797125889, f1_macro: 0.25785604268576406, f1_micro: 0.3020833333333333, f_measure: {'Known': 24.4562, 'Open': 32.4324, 'F1-score': 25.7856}\n",
      "              precision    recall  f1-score   support\n",
      "\n",
      "           0       0.86      0.38      0.53        47\n",
      "           1       1.00      0.16      0.28        49\n",
      "           2       0.00      0.00      0.00        46\n",
      "           3       0.00      0.00      0.00        46\n",
      "           4       1.00      0.26      0.41        50\n",
      "           5       0.20      0.96      0.32        50\n",
      "\n",
      "    accuracy                           0.30       288\n",
      "   macro avg       0.51      0.29      0.26       288\n",
      "weighted avg       0.52      0.30      0.26       288\n",
      "\n"
     ]
    }
   ],
   "source": [
    "comment=\"nadam optimizer with lower LR=1\"\n",
    "test_data, oset = oset_train(ablation=500,designated_ukc_cls=5,num_classes=5,embedding_size=4,\n",
    "                             lr_rate=0.5, optimizer='nadam',\n",
    "pretrain_epochs=14,octrain_epochs=50, wait_patient=6, comment=comment)"
   ]
  },
  {
   "cell_type": "code",
   "execution_count": 19,
   "id": "36c46ddd-5828-4c80-b789-cb0b05e09bfb",
   "metadata": {},
   "outputs": [
    {
     "name": "stdout",
     "output_type": "stream",
     "text": [
      "padded_num_seq_df loaded from C:\\Users\\Bhujay_ROG\\MyDev\\OCLog\\oclog\\BGL\\data\\bgl_ukc.pkl\n",
      "trained tokenizer, tk, loaded from C:\\Users\\Bhujay_ROG\\MyDev\\OCLog\\oclog\\BGL\\data\\bgltkukc.pkl\n",
      "train_0:, 400\n",
      "val_0:, 50\n",
      "test_0:, 50\n",
      "train_1:, 400\n",
      "val_1:, 50\n",
      "test_1:, 50\n",
      "train_2:, 400\n",
      "val_2:, 50\n",
      "test_2:, 50\n",
      "train_3:, 400\n",
      "val_3:, 50\n",
      "test_3:, 50\n",
      "train_4:, 400\n",
      "val_4:, 50\n",
      "test_4:, 50\n",
      "class 5 is added as ukc\n",
      "ukc_5:, 50\n",
      "vocab_size: 50\n",
      "Epoch 1/14\n",
      "62/62 [==============================] - 7s 103ms/step - loss: 1.2459 - accuracy: 0.5186 - precision_5: 0.9662 - recall_5: 0.2450 - val_loss: 1.0478 - val_accuracy: 0.7411 - val_precision_5: 1.0000 - val_recall_5: 0.3884\n",
      "Epoch 2/14\n",
      "62/62 [==============================] - 6s 100ms/step - loss: 0.7508 - accuracy: 0.7021 - precision_5: 0.9371 - recall_5: 0.5706 - val_loss: 0.6129 - val_accuracy: 0.7634 - val_precision_5: 0.9937 - val_recall_5: 0.7098\n",
      "Epoch 3/14\n",
      "62/62 [==============================] - 6s 98ms/step - loss: 0.4726 - accuracy: 0.7692 - precision_5: 0.9276 - recall_5: 0.7364 - val_loss: 0.3301 - val_accuracy: 0.8884 - val_precision_5: 0.9661 - val_recall_5: 0.7634\n",
      "Epoch 4/14\n",
      "62/62 [==============================] - 6s 97ms/step - loss: 0.3098 - accuracy: 0.8795 - precision_5: 0.9070 - recall_5: 0.8256 - val_loss: 0.1483 - val_accuracy: 0.9821 - val_precision_5: 0.9865 - val_recall_5: 0.9821\n",
      "Epoch 5/14\n",
      "62/62 [==============================] - 6s 98ms/step - loss: 0.1979 - accuracy: 0.9456 - precision_5: 0.9474 - recall_5: 0.9451 - val_loss: 0.1479 - val_accuracy: 0.9598 - val_precision_5: 0.9685 - val_recall_5: 0.9598\n",
      "Epoch 6/14\n",
      "62/62 [==============================] - 6s 101ms/step - loss: 0.2487 - accuracy: 0.9123 - precision_5: 0.9150 - recall_5: 0.9118 - val_loss: 0.0854 - val_accuracy: 0.9866 - val_precision_5: 0.9955 - val_recall_5: 0.9866\n",
      "Epoch 7/14\n",
      "62/62 [==============================] - 6s 102ms/step - loss: 0.1233 - accuracy: 0.9622 - precision_5: 0.9626 - recall_5: 0.9612 - val_loss: 0.0458 - val_accuracy: 1.0000 - val_precision_5: 1.0000 - val_recall_5: 1.0000\n",
      "Epoch 8/14\n",
      "62/62 [==============================] - 6s 102ms/step - loss: 0.1127 - accuracy: 0.9627 - precision_5: 0.9632 - recall_5: 0.9627 - val_loss: 0.0460 - val_accuracy: 0.9955 - val_precision_5: 0.9955 - val_recall_5: 0.9955\n",
      "Epoch 9/14\n",
      "62/62 [==============================] - 6s 102ms/step - loss: 0.0829 - accuracy: 0.9677 - precision_5: 0.9677 - recall_5: 0.9677 - val_loss: 0.0390 - val_accuracy: 1.0000 - val_precision_5: 1.0000 - val_recall_5: 1.0000\n",
      "Epoch 10/14\n",
      "62/62 [==============================] - 6s 99ms/step - loss: 0.0743 - accuracy: 0.9758 - precision_5: 0.9763 - recall_5: 0.9758 - val_loss: 0.0724 - val_accuracy: 0.9911 - val_precision_5: 0.9911 - val_recall_5: 0.9911\n",
      "Epoch 11/14\n",
      "62/62 [==============================] - 6s 100ms/step - loss: 0.0843 - accuracy: 0.9723 - precision_5: 0.9723 - recall_5: 0.9723 - val_loss: 0.0265 - val_accuracy: 0.9911 - val_precision_5: 0.9911 - val_recall_5: 0.9911\n",
      "Epoch 12/14\n",
      "62/62 [==============================] - 6s 99ms/step - loss: 0.0615 - accuracy: 0.9773 - precision_5: 0.9773 - recall_5: 0.9768 - val_loss: 0.0220 - val_accuracy: 1.0000 - val_precision_5: 1.0000 - val_recall_5: 1.0000\n",
      "Epoch 13/14\n",
      "62/62 [==============================] - 6s 96ms/step - loss: 0.0338 - accuracy: 0.9904 - precision_5: 0.9904 - recall_5: 0.9904 - val_loss: 0.0427 - val_accuracy: 0.9911 - val_precision_5: 0.9911 - val_recall_5: 0.9911\n",
      "Epoch 14/14\n",
      "62/62 [==============================] - 6s 98ms/step - loss: 0.0655 - accuracy: 0.9778 - precision_5: 0.9778 - recall_5: 0.9778 - val_loss: 0.0418 - val_accuracy: 0.9866 - val_precision_5: 0.9866 - val_recall_5: 0.9866\n"
     ]
    },
    {
     "name": "stderr",
     "output_type": "stream",
     "text": [
      "100%|██████████████████████████████████████████████████████████████████████████████████| 62/62 [00:08<00:00,  7.07it/s]\n"
     ]
    },
    {
     "name": "stdout",
     "output_type": "stream",
     "text": [
      "epoch: 1/50, train_loss: 18.151351928710938, F1_train: 0.3678139165876945 F1_val: 0.31595050300622785\n"
     ]
    },
    {
     "name": "stderr",
     "output_type": "stream",
     "text": [
      "100%|██████████████████████████████████████████████████████████████████████████████████| 62/62 [00:08<00:00,  7.04it/s]\n"
     ]
    },
    {
     "name": "stdout",
     "output_type": "stream",
     "text": [
      "epoch: 2/50, train_loss: 18.138113021850586, F1_train: 0.5520255268580848 F1_val: 0.46528058582304344\n"
     ]
    },
    {
     "name": "stderr",
     "output_type": "stream",
     "text": [
      "100%|██████████████████████████████████████████████████████████████████████████████████| 62/62 [00:08<00:00,  7.07it/s]\n"
     ]
    },
    {
     "name": "stdout",
     "output_type": "stream",
     "text": [
      "epoch: 3/50, train_loss: 18.15184211730957, F1_train: 0.6569693509824124 F1_val: 0.5310989145361853\n"
     ]
    },
    {
     "name": "stderr",
     "output_type": "stream",
     "text": [
      "100%|██████████████████████████████████████████████████████████████████████████████████| 62/62 [00:08<00:00,  7.07it/s]\n"
     ]
    },
    {
     "name": "stdout",
     "output_type": "stream",
     "text": [
      "epoch: 4/50, train_loss: 18.153200149536133, F1_train: 0.715188141313165 F1_val: 0.5664871676087381\n"
     ]
    },
    {
     "name": "stderr",
     "output_type": "stream",
     "text": [
      "100%|██████████████████████████████████████████████████████████████████████████████████| 62/62 [00:08<00:00,  7.07it/s]\n"
     ]
    },
    {
     "name": "stdout",
     "output_type": "stream",
     "text": [
      "epoch: 5/50, train_loss: 18.171104431152344, F1_train: 0.7484991908476373 F1_val: 0.5523616497881204\n"
     ]
    },
    {
     "name": "stderr",
     "output_type": "stream",
     "text": [
      "100%|██████████████████████████████████████████████████████████████████████████████████| 62/62 [00:08<00:00,  7.10it/s]\n"
     ]
    },
    {
     "name": "stdout",
     "output_type": "stream",
     "text": [
      "epoch: 6/50, train_loss: 18.120651245117188, F1_train: 0.7732290255128463 F1_val: 0.5691665428170606\n"
     ]
    },
    {
     "name": "stderr",
     "output_type": "stream",
     "text": [
      "100%|██████████████████████████████████████████████████████████████████████████████████| 62/62 [00:08<00:00,  7.10it/s]\n"
     ]
    },
    {
     "name": "stdout",
     "output_type": "stream",
     "text": [
      "epoch: 7/50, train_loss: 18.14455223083496, F1_train: 0.7918963156569148 F1_val: 0.626253098441085\n"
     ]
    },
    {
     "name": "stderr",
     "output_type": "stream",
     "text": [
      "100%|██████████████████████████████████████████████████████████████████████████████████| 62/62 [00:08<00:00,  7.11it/s]\n"
     ]
    },
    {
     "name": "stdout",
     "output_type": "stream",
     "text": [
      "epoch: 8/50, train_loss: 18.111858367919922, F1_train: 0.8074052048695315 F1_val: 0.65850952503645\n"
     ]
    },
    {
     "name": "stderr",
     "output_type": "stream",
     "text": [
      "100%|██████████████████████████████████████████████████████████████████████████████████| 62/62 [00:08<00:00,  7.12it/s]\n"
     ]
    },
    {
     "name": "stdout",
     "output_type": "stream",
     "text": [
      "epoch: 9/50, train_loss: 18.151241302490234, F1_train: 0.8234925107380048 F1_val: 0.669548516743259\n"
     ]
    },
    {
     "name": "stderr",
     "output_type": "stream",
     "text": [
      "100%|██████████████████████████████████████████████████████████████████████████████████| 62/62 [00:08<00:00,  7.13it/s]\n"
     ]
    },
    {
     "name": "stdout",
     "output_type": "stream",
     "text": [
      "epoch: 10/50, train_loss: 18.149948120117188, F1_train: 0.8432518741858902 F1_val: 0.7278832177651138\n"
     ]
    },
    {
     "name": "stderr",
     "output_type": "stream",
     "text": [
      "100%|██████████████████████████████████████████████████████████████████████████████████| 62/62 [00:08<00:00,  7.05it/s]\n"
     ]
    },
    {
     "name": "stdout",
     "output_type": "stream",
     "text": [
      "epoch: 11/50, train_loss: 18.15192985534668, F1_train: 0.8567298071869044 F1_val: 0.730180725399099\n"
     ]
    },
    {
     "name": "stderr",
     "output_type": "stream",
     "text": [
      "100%|██████████████████████████████████████████████████████████████████████████████████| 62/62 [00:08<00:00,  7.06it/s]\n"
     ]
    },
    {
     "name": "stdout",
     "output_type": "stream",
     "text": [
      "epoch: 12/50, train_loss: 18.024578094482422, F1_train: 0.8690422016991352 F1_val: 0.7830984527957525\n"
     ]
    },
    {
     "name": "stderr",
     "output_type": "stream",
     "text": [
      "100%|██████████████████████████████████████████████████████████████████████████████████| 62/62 [00:08<00:00,  7.07it/s]\n"
     ]
    },
    {
     "name": "stdout",
     "output_type": "stream",
     "text": [
      "epoch: 13/50, train_loss: 18.116193771362305, F1_train: 0.8802431450832033 F1_val: 0.8116208467911538\n"
     ]
    },
    {
     "name": "stderr",
     "output_type": "stream",
     "text": [
      "100%|██████████████████████████████████████████████████████████████████████████████████| 62/62 [00:08<00:00,  7.06it/s]\n"
     ]
    },
    {
     "name": "stdout",
     "output_type": "stream",
     "text": [
      "epoch: 14/50, train_loss: 18.10032844543457, F1_train: 0.8893880606039049 F1_val: 0.8056186360717852\n"
     ]
    },
    {
     "name": "stderr",
     "output_type": "stream",
     "text": [
      "100%|██████████████████████████████████████████████████████████████████████████████████| 62/62 [00:08<00:00,  7.03it/s]\n"
     ]
    },
    {
     "name": "stdout",
     "output_type": "stream",
     "text": [
      "epoch: 15/50, train_loss: 18.152881622314453, F1_train: 0.8968526191924816 F1_val: 0.8351962046179706\n"
     ]
    },
    {
     "name": "stderr",
     "output_type": "stream",
     "text": [
      "100%|██████████████████████████████████████████████████████████████████████████████████| 62/62 [00:08<00:00,  6.95it/s]\n"
     ]
    },
    {
     "name": "stdout",
     "output_type": "stream",
     "text": [
      "epoch: 16/50, train_loss: 18.116981506347656, F1_train: 0.9006884149830785 F1_val: 0.8592178062976049\n"
     ]
    },
    {
     "name": "stderr",
     "output_type": "stream",
     "text": [
      "100%|██████████████████████████████████████████████████████████████████████████████████| 62/62 [00:08<00:00,  7.07it/s]\n"
     ]
    },
    {
     "name": "stdout",
     "output_type": "stream",
     "text": [
      "epoch: 17/50, train_loss: 18.121435165405273, F1_train: 0.9031058580430655 F1_val: 0.8768203769802235\n"
     ]
    },
    {
     "name": "stderr",
     "output_type": "stream",
     "text": [
      "100%|██████████████████████████████████████████████████████████████████████████████████| 62/62 [00:08<00:00,  7.04it/s]\n"
     ]
    },
    {
     "name": "stdout",
     "output_type": "stream",
     "text": [
      "epoch: 18/50, train_loss: 18.14130401611328, F1_train: 0.9069553301683079 F1_val: 0.880517965899517\n"
     ]
    },
    {
     "name": "stderr",
     "output_type": "stream",
     "text": [
      "100%|██████████████████████████████████████████████████████████████████████████████████| 62/62 [00:08<00:00,  7.03it/s]\n"
     ]
    },
    {
     "name": "stdout",
     "output_type": "stream",
     "text": [
      "epoch: 19/50, train_loss: 18.154699325561523, F1_train: 0.9086676957435792 F1_val: 0.880709756516555\n"
     ]
    },
    {
     "name": "stderr",
     "output_type": "stream",
     "text": [
      "100%|██████████████████████████████████████████████████████████████████████████████████| 62/62 [00:08<00:00,  7.05it/s]\n"
     ]
    },
    {
     "name": "stdout",
     "output_type": "stream",
     "text": [
      "epoch: 20/50, train_loss: 18.156415939331055, F1_train: 0.9120541728265734 F1_val: 0.8732208792607951\n"
     ]
    },
    {
     "name": "stderr",
     "output_type": "stream",
     "text": [
      "100%|██████████████████████████████████████████████████████████████████████████████████| 62/62 [00:08<00:00,  6.99it/s]\n"
     ]
    },
    {
     "name": "stdout",
     "output_type": "stream",
     "text": [
      "epoch: 21/50, train_loss: 18.14659309387207, F1_train: 0.9147240705035109 F1_val: 0.8915034863025743\n"
     ]
    },
    {
     "name": "stderr",
     "output_type": "stream",
     "text": [
      "100%|██████████████████████████████████████████████████████████████████████████████████| 62/62 [00:08<00:00,  7.03it/s]\n"
     ]
    },
    {
     "name": "stdout",
     "output_type": "stream",
     "text": [
      "epoch: 22/50, train_loss: 18.15212059020996, F1_train: 0.9166147222494949 F1_val: 0.8926501672373828\n"
     ]
    },
    {
     "name": "stderr",
     "output_type": "stream",
     "text": [
      "100%|██████████████████████████████████████████████████████████████████████████████████| 62/62 [00:08<00:00,  7.00it/s]\n"
     ]
    },
    {
     "name": "stdout",
     "output_type": "stream",
     "text": [
      "epoch: 23/50, train_loss: 18.16817283630371, F1_train: 0.916109037178203 F1_val: 0.8913587632754634\n"
     ]
    },
    {
     "name": "stderr",
     "output_type": "stream",
     "text": [
      "100%|██████████████████████████████████████████████████████████████████████████████████| 62/62 [00:08<00:00,  7.05it/s]\n"
     ]
    },
    {
     "name": "stdout",
     "output_type": "stream",
     "text": [
      "epoch: 24/50, train_loss: 18.173057556152344, F1_train: 0.916162486863523 F1_val: 0.9034692528950671\n"
     ]
    },
    {
     "name": "stderr",
     "output_type": "stream",
     "text": [
      "100%|██████████████████████████████████████████████████████████████████████████████████| 62/62 [00:08<00:00,  7.04it/s]\n"
     ]
    },
    {
     "name": "stdout",
     "output_type": "stream",
     "text": [
      "epoch: 25/50, train_loss: 18.13289451599121, F1_train: 0.9170813156730706 F1_val: 0.8928557875960564\n"
     ]
    },
    {
     "name": "stderr",
     "output_type": "stream",
     "text": [
      "100%|██████████████████████████████████████████████████████████████████████████████████| 62/62 [00:08<00:00,  7.11it/s]\n"
     ]
    },
    {
     "name": "stdout",
     "output_type": "stream",
     "text": [
      "epoch: 26/50, train_loss: 18.17063331604004, F1_train: 0.9161152455823457 F1_val: 0.8926369268187601\n"
     ]
    },
    {
     "name": "stderr",
     "output_type": "stream",
     "text": [
      "100%|██████████████████████████████████████████████████████████████████████████████████| 62/62 [00:08<00:00,  7.18it/s]\n"
     ]
    },
    {
     "name": "stdout",
     "output_type": "stream",
     "text": [
      "epoch: 27/50, train_loss: 18.130525588989258, F1_train: 0.9166584940313868 F1_val: 0.8932378652932805\n"
     ]
    },
    {
     "name": "stderr",
     "output_type": "stream",
     "text": [
      "100%|██████████████████████████████████████████████████████████████████████████████████| 62/62 [00:08<00:00,  7.18it/s]\n"
     ]
    },
    {
     "name": "stdout",
     "output_type": "stream",
     "text": [
      "epoch: 28/50, train_loss: 18.088838577270508, F1_train: 0.9167660769926393 F1_val: 0.8898253991400971\n"
     ]
    },
    {
     "name": "stderr",
     "output_type": "stream",
     "text": [
      "100%|██████████████████████████████████████████████████████████████████████████████████| 62/62 [00:08<00:00,  7.18it/s]\n"
     ]
    },
    {
     "name": "stdout",
     "output_type": "stream",
     "text": [
      "epoch: 29/50, train_loss: 18.115644454956055, F1_train: 0.9180503744555715 F1_val: 0.8955340144332491\n"
     ]
    },
    {
     "name": "stderr",
     "output_type": "stream",
     "text": [
      "100%|██████████████████████████████████████████████████████████████████████████████████| 62/62 [00:08<00:00,  7.19it/s]\n"
     ]
    },
    {
     "name": "stdout",
     "output_type": "stream",
     "text": [
      "epoch: 30/50, train_loss: 18.145465850830078, F1_train: 0.9170983213950135 F1_val: 0.905308550249368\n"
     ]
    },
    {
     "name": "stderr",
     "output_type": "stream",
     "text": [
      "100%|██████████████████████████████████████████████████████████████████████████████████| 62/62 [00:08<00:00,  7.18it/s]\n"
     ]
    },
    {
     "name": "stdout",
     "output_type": "stream",
     "text": [
      "epoch: 31/50, train_loss: 18.11695671081543, F1_train: 0.9165073831840449 F1_val: 0.8940987135634193\n"
     ]
    },
    {
     "name": "stderr",
     "output_type": "stream",
     "text": [
      "100%|██████████████████████████████████████████████████████████████████████████████████| 62/62 [00:08<00:00,  7.18it/s]\n"
     ]
    },
    {
     "name": "stdout",
     "output_type": "stream",
     "text": [
      "epoch: 32/50, train_loss: 18.17409324645996, F1_train: 0.9164898162204322 F1_val: 0.8906989228870498\n"
     ]
    },
    {
     "name": "stderr",
     "output_type": "stream",
     "text": [
      "100%|██████████████████████████████████████████████████████████████████████████████████| 62/62 [00:08<00:00,  7.07it/s]\n"
     ]
    },
    {
     "name": "stdout",
     "output_type": "stream",
     "text": [
      "epoch: 33/50, train_loss: 18.147327423095703, F1_train: 0.9171356158213445 F1_val: 0.9049257495310501\n"
     ]
    },
    {
     "name": "stderr",
     "output_type": "stream",
     "text": [
      "100%|██████████████████████████████████████████████████████████████████████████████████| 62/62 [00:09<00:00,  6.40it/s]\n"
     ]
    },
    {
     "name": "stdout",
     "output_type": "stream",
     "text": [
      "epoch: 34/50, train_loss: 18.155296325683594, F1_train: 0.9161286974053727 F1_val: 0.8993768104759484\n"
     ]
    },
    {
     "name": "stderr",
     "output_type": "stream",
     "text": [
      "100%|██████████████████████████████████████████████████████████████████████████████████| 62/62 [00:09<00:00,  6.23it/s]\n"
     ]
    },
    {
     "name": "stdout",
     "output_type": "stream",
     "text": [
      "epoch: 35/50, train_loss: 18.15797233581543, F1_train: 0.9163767570957442 F1_val: 0.8926894748409959\n"
     ]
    },
    {
     "name": "stderr",
     "output_type": "stream",
     "text": [
      "100%|██████████████████████████████████████████████████████████████████████████████████| 62/62 [00:08<00:00,  7.08it/s]\n"
     ]
    },
    {
     "name": "stdout",
     "output_type": "stream",
     "text": [
      "epoch: 36/50, train_loss: 18.18946075439453, F1_train: 0.9164541299800164 F1_val: 0.9001467171089644\n"
     ]
    },
    {
     "data": {
      "image/png": "[encoded data removed]",
      "text/plain": [
       "<Figure size 1080x360 with 2 Axes>"
      ]
     },
     "metadata": {
      "needs_background": "light"
     },
     "output_type": "display_data"
    },
    {
     "name": "stdout",
     "output_type": "stream",
     "text": [
      "[[47  0  0  0  0  0]\n",
      " [ 0 44  0  0  0  5]\n",
      " [ 0  0 36  0  0 10]\n",
      " [ 1  0  0 34  0 11]\n",
      " [ 0  0  0  0 48  2]\n",
      " [15 13  0  0  0 22]]\n",
      "80.21\n",
      "f1_weighted: 0.8031691575896839, f1_macro: 0.8053957918355396, f1_micro: 0.8020833333333334, f_measure: {'Known': 87.8475, 'Open': 44.0, 'F1-score': 80.5396}\n",
      "              precision    recall  f1-score   support\n",
      "\n",
      "           0       0.75      1.00      0.85        47\n",
      "           1       0.77      0.90      0.83        49\n",
      "           2       1.00      0.78      0.88        46\n",
      "           3       1.00      0.74      0.85        46\n",
      "           4       1.00      0.96      0.98        50\n",
      "           5       0.44      0.44      0.44        50\n",
      "\n",
      "    accuracy                           0.80       288\n",
      "   macro avg       0.83      0.80      0.81       288\n",
      "weighted avg       0.82      0.80      0.80       288\n",
      "\n"
     ]
    }
   ],
   "source": [
    "comment=\"nadam optimizer with lower LR=2\"\n",
    "test_data, oset = oset_train(ablation=500,designated_ukc_cls=5,num_classes=5,embedding_size=4,\n",
    "                             lr_rate=2, optimizer='nadam',\n",
    "pretrain_epochs=14,octrain_epochs=50, wait_patient=6, comment=comment)"
   ]
  },
  {
   "cell_type": "code",
   "execution_count": 20,
   "id": "00fe6bbf-3b70-4504-947d-9d5439dba9b0",
   "metadata": {},
   "outputs": [
    {
     "name": "stdout",
     "output_type": "stream",
     "text": [
      "padded_num_seq_df loaded from C:\\Users\\Bhujay_ROG\\MyDev\\OCLog\\oclog\\BGL\\data\\bgl_ukc.pkl\n",
      "trained tokenizer, tk, loaded from C:\\Users\\Bhujay_ROG\\MyDev\\OCLog\\oclog\\BGL\\data\\bgltkukc.pkl\n",
      "train_0:, 400\n",
      "val_0:, 50\n",
      "test_0:, 50\n",
      "train_1:, 400\n",
      "val_1:, 50\n",
      "test_1:, 50\n",
      "train_2:, 400\n",
      "val_2:, 50\n",
      "test_2:, 50\n",
      "train_3:, 400\n",
      "val_3:, 50\n",
      "test_3:, 50\n",
      "train_4:, 400\n",
      "val_4:, 50\n",
      "test_4:, 50\n",
      "class 5 is added as ukc\n",
      "ukc_5:, 50\n",
      "vocab_size: 50\n",
      "Epoch 1/14\n",
      "62/62 [==============================] - 7s 100ms/step - loss: 1.1837 - accuracy: 0.5585 - precision_6: 0.9676 - recall_6: 0.2858 - val_loss: 1.0390 - val_accuracy: 0.6250 - val_precision_6: 1.0000 - val_recall_6: 0.3839\n",
      "Epoch 2/14\n",
      "62/62 [==============================] - 6s 101ms/step - loss: 0.6789 - accuracy: 0.7505 - precision_6: 0.9445 - recall_6: 0.6008 - val_loss: 0.5300 - val_accuracy: 0.8527 - val_precision_6: 0.9563 - val_recall_6: 0.7812\n",
      "Epoch 3/14\n",
      "62/62 [==============================] - 6s 96ms/step - loss: 0.4606 - accuracy: 0.8735 - precision_6: 0.9428 - recall_6: 0.7555 - val_loss: 0.4238 - val_accuracy: 0.8348 - val_precision_6: 0.9389 - val_recall_6: 0.7545\n",
      "Epoch 4/14\n",
      "62/62 [==============================] - 6s 100ms/step - loss: 0.3701 - accuracy: 0.9168 - precision_6: 0.9487 - recall_6: 0.7732 - val_loss: 0.3190 - val_accuracy: 0.9152 - val_precision_6: 0.9777 - val_recall_6: 0.7812\n",
      "Epoch 5/14\n",
      "62/62 [==============================] - 6s 96ms/step - loss: 0.3092 - accuracy: 0.8810 - precision_6: 0.9242 - recall_6: 0.7989 - val_loss: 0.2210 - val_accuracy: 0.8527 - val_precision_6: 0.8524 - val_recall_6: 0.7991\n",
      "Epoch 6/14\n",
      "62/62 [==============================] - 6s 101ms/step - loss: 0.2034 - accuracy: 0.9335 - precision_6: 0.9388 - recall_6: 0.9209 - val_loss: 0.1705 - val_accuracy: 0.9598 - val_precision_6: 0.9729 - val_recall_6: 0.9598\n",
      "Epoch 7/14\n",
      "62/62 [==============================] - 6s 100ms/step - loss: 0.1519 - accuracy: 0.9486 - precision_6: 0.9495 - recall_6: 0.9486 - val_loss: 0.0655 - val_accuracy: 1.0000 - val_precision_6: 1.0000 - val_recall_6: 1.0000\n",
      "Epoch 8/14\n",
      "62/62 [==============================] - 6s 98ms/step - loss: 0.1127 - accuracy: 0.9647 - precision_6: 0.9652 - recall_6: 0.9647 - val_loss: 0.0189 - val_accuracy: 1.0000 - val_precision_6: 1.0000 - val_recall_6: 1.0000\n",
      "Epoch 9/14\n",
      "62/62 [==============================] - 6s 97ms/step - loss: 0.0743 - accuracy: 0.9763 - precision_6: 0.9763 - recall_6: 0.9763 - val_loss: 0.0746 - val_accuracy: 0.9688 - val_precision_6: 0.9688 - val_recall_6: 0.9688\n",
      "Epoch 10/14\n",
      "62/62 [==============================] - 6s 96ms/step - loss: 0.0527 - accuracy: 0.9819 - precision_6: 0.9819 - recall_6: 0.9819 - val_loss: 0.2418 - val_accuracy: 0.8884 - val_precision_6: 0.8884 - val_recall_6: 0.8884\n",
      "Epoch 11/14\n",
      "62/62 [==============================] - 7s 106ms/step - loss: 0.0796 - accuracy: 0.9743 - precision_6: 0.9743 - recall_6: 0.9743 - val_loss: 0.0190 - val_accuracy: 0.9911 - val_precision_6: 0.9911 - val_recall_6: 0.9911\n",
      "Epoch 12/14\n",
      "62/62 [==============================] - 6s 101ms/step - loss: 0.0549 - accuracy: 0.9798 - precision_6: 0.9798 - recall_6: 0.9798 - val_loss: 0.0444 - val_accuracy: 0.9955 - val_precision_6: 0.9955 - val_recall_6: 0.9955\n",
      "Epoch 13/14\n",
      "62/62 [==============================] - 7s 107ms/step - loss: 0.0360 - accuracy: 0.9884 - precision_6: 0.9884 - recall_6: 0.9884 - val_loss: 0.0269 - val_accuracy: 0.9866 - val_precision_6: 0.9866 - val_recall_6: 0.9866\n",
      "Epoch 14/14\n",
      "62/62 [==============================] - 7s 106ms/step - loss: 0.0390 - accuracy: 0.9879 - precision_6: 0.9879 - recall_6: 0.9879 - val_loss: 0.0581 - val_accuracy: 0.9866 - val_precision_6: 0.9866 - val_recall_6: 0.9866\n"
     ]
    },
    {
     "name": "stderr",
     "output_type": "stream",
     "text": [
      "100%|██████████████████████████████████████████████████████████████████████████████████| 62/62 [00:10<00:00,  5.80it/s]\n"
     ]
    },
    {
     "name": "stdout",
     "output_type": "stream",
     "text": [
      "epoch: 1/50, train_loss: 15.401331901550293, F1_train: 0.5670769657912151 F1_val: 0.38378803237635833\n"
     ]
    },
    {
     "name": "stderr",
     "output_type": "stream",
     "text": [
      "100%|██████████████████████████████████████████████████████████████████████████████████| 62/62 [00:09<00:00,  6.25it/s]\n"
     ]
    },
    {
     "name": "stdout",
     "output_type": "stream",
     "text": [
      "epoch: 2/50, train_loss: 15.378965377807617, F1_train: 0.6811872947056258 F1_val: 0.513938053291492\n"
     ]
    },
    {
     "name": "stderr",
     "output_type": "stream",
     "text": [
      "100%|██████████████████████████████████████████████████████████████████████████████████| 62/62 [00:10<00:00,  6.15it/s]\n"
     ]
    },
    {
     "name": "stdout",
     "output_type": "stream",
     "text": [
      "epoch: 3/50, train_loss: 15.374783515930176, F1_train: 0.7155560865938567 F1_val: 0.5951806440015098\n"
     ]
    },
    {
     "name": "stderr",
     "output_type": "stream",
     "text": [
      "100%|██████████████████████████████████████████████████████████████████████████████████| 62/62 [00:10<00:00,  6.20it/s]\n"
     ]
    },
    {
     "name": "stdout",
     "output_type": "stream",
     "text": [
      "epoch: 4/50, train_loss: 15.373117446899414, F1_train: 0.7421545116184292 F1_val: 0.6617546419629753\n"
     ]
    },
    {
     "name": "stderr",
     "output_type": "stream",
     "text": [
      "100%|██████████████████████████████████████████████████████████████████████████████████| 62/62 [00:09<00:00,  6.32it/s]\n"
     ]
    },
    {
     "name": "stdout",
     "output_type": "stream",
     "text": [
      "epoch: 5/50, train_loss: 15.411981582641602, F1_train: 0.7687872107020708 F1_val: 0.7104710095693496\n"
     ]
    },
    {
     "name": "stderr",
     "output_type": "stream",
     "text": [
      "100%|██████████████████████████████████████████████████████████████████████████████████| 62/62 [00:09<00:00,  6.24it/s]\n"
     ]
    },
    {
     "name": "stdout",
     "output_type": "stream",
     "text": [
      "epoch: 6/50, train_loss: 15.366006851196289, F1_train: 0.7880662474031781 F1_val: 0.7379668617728712\n"
     ]
    },
    {
     "name": "stderr",
     "output_type": "stream",
     "text": [
      "100%|██████████████████████████████████████████████████████████████████████████████████| 62/62 [00:10<00:00,  5.98it/s]\n"
     ]
    },
    {
     "name": "stdout",
     "output_type": "stream",
     "text": [
      "epoch: 7/50, train_loss: 15.368725776672363, F1_train: 0.8076298927192748 F1_val: 0.7730650192769416\n"
     ]
    },
    {
     "name": "stderr",
     "output_type": "stream",
     "text": [
      "100%|██████████████████████████████████████████████████████████████████████████████████| 62/62 [00:09<00:00,  6.66it/s]\n"
     ]
    },
    {
     "name": "stdout",
     "output_type": "stream",
     "text": [
      "epoch: 8/50, train_loss: 15.362293243408203, F1_train: 0.8283090824518694 F1_val: 0.8110114832010655\n"
     ]
    },
    {
     "name": "stderr",
     "output_type": "stream",
     "text": [
      "100%|██████████████████████████████████████████████████████████████████████████████████| 62/62 [00:09<00:00,  6.77it/s]\n"
     ]
    },
    {
     "name": "stdout",
     "output_type": "stream",
     "text": [
      "epoch: 9/50, train_loss: 15.384124755859375, F1_train: 0.8445650505365812 F1_val: 0.8587975911457028\n"
     ]
    },
    {
     "name": "stderr",
     "output_type": "stream",
     "text": [
      "100%|██████████████████████████████████████████████████████████████████████████████████| 62/62 [00:08<00:00,  7.18it/s]\n"
     ]
    },
    {
     "name": "stdout",
     "output_type": "stream",
     "text": [
      "epoch: 10/50, train_loss: 15.370051383972168, F1_train: 0.8629159195453958 F1_val: 0.8731684788394152\n"
     ]
    },
    {
     "name": "stderr",
     "output_type": "stream",
     "text": [
      "100%|██████████████████████████████████████████████████████████████████████████████████| 62/62 [00:08<00:00,  7.05it/s]\n"
     ]
    },
    {
     "name": "stdout",
     "output_type": "stream",
     "text": [
      "epoch: 11/50, train_loss: 15.4132719039917, F1_train: 0.8791265073889696 F1_val: 0.9199757151569468\n"
     ]
    },
    {
     "name": "stderr",
     "output_type": "stream",
     "text": [
      "100%|██████████████████████████████████████████████████████████████████████████████████| 62/62 [00:08<00:00,  7.23it/s]\n"
     ]
    },
    {
     "name": "stdout",
     "output_type": "stream",
     "text": [
      "epoch: 12/50, train_loss: 15.261612892150879, F1_train: 0.8969073332899724 F1_val: 0.9236912886587036\n"
     ]
    },
    {
     "name": "stderr",
     "output_type": "stream",
     "text": [
      "100%|██████████████████████████████████████████████████████████████████████████████████| 62/62 [00:08<00:00,  7.23it/s]\n"
     ]
    },
    {
     "name": "stdout",
     "output_type": "stream",
     "text": [
      "epoch: 13/50, train_loss: 15.36155891418457, F1_train: 0.9079187552592771 F1_val: 0.9429304821483845\n"
     ]
    },
    {
     "name": "stderr",
     "output_type": "stream",
     "text": [
      "100%|██████████████████████████████████████████████████████████████████████████████████| 62/62 [00:08<00:00,  7.05it/s]\n"
     ]
    },
    {
     "name": "stdout",
     "output_type": "stream",
     "text": [
      "epoch: 14/50, train_loss: 15.333009719848633, F1_train: 0.9148541437025186 F1_val: 0.9429495355834642\n"
     ]
    },
    {
     "name": "stderr",
     "output_type": "stream",
     "text": [
      "100%|██████████████████████████████████████████████████████████████████████████████████| 62/62 [00:08<00:00,  7.22it/s]\n"
     ]
    },
    {
     "name": "stdout",
     "output_type": "stream",
     "text": [
      "epoch: 15/50, train_loss: 15.40660285949707, F1_train: 0.9204661142459724 F1_val: 0.9428981382500489\n"
     ]
    },
    {
     "name": "stderr",
     "output_type": "stream",
     "text": [
      "100%|██████████████████████████████████████████████████████████████████████████████████| 62/62 [00:08<00:00,  7.25it/s]\n"
     ]
    },
    {
     "name": "stdout",
     "output_type": "stream",
     "text": [
      "epoch: 16/50, train_loss: 15.347530364990234, F1_train: 0.9250063607700418 F1_val: 0.9513153974190366\n"
     ]
    },
    {
     "name": "stderr",
     "output_type": "stream",
     "text": [
      "100%|██████████████████████████████████████████████████████████████████████████████████| 62/62 [00:08<00:00,  7.30it/s]\n"
     ]
    },
    {
     "name": "stdout",
     "output_type": "stream",
     "text": [
      "epoch: 17/50, train_loss: 15.367637634277344, F1_train: 0.9287923173950601 F1_val: 0.9563741418877482\n"
     ]
    },
    {
     "name": "stderr",
     "output_type": "stream",
     "text": [
      "100%|██████████████████████████████████████████████████████████████████████████████████| 62/62 [00:08<00:00,  7.31it/s]\n"
     ]
    },
    {
     "name": "stdout",
     "output_type": "stream",
     "text": [
      "epoch: 18/50, train_loss: 15.36622428894043, F1_train: 0.9304016633550141 F1_val: 0.9562425777903452\n"
     ]
    },
    {
     "name": "stderr",
     "output_type": "stream",
     "text": [
      "100%|██████████████████████████████████████████████████████████████████████████████████| 62/62 [00:08<00:00,  7.25it/s]\n"
     ]
    },
    {
     "name": "stdout",
     "output_type": "stream",
     "text": [
      "epoch: 19/50, train_loss: 15.418876647949219, F1_train: 0.9310095655915205 F1_val: 0.9535792981341119\n"
     ]
    },
    {
     "name": "stderr",
     "output_type": "stream",
     "text": [
      "100%|██████████████████████████████████████████████████████████████████████████████████| 62/62 [00:08<00:00,  7.35it/s]\n"
     ]
    },
    {
     "name": "stdout",
     "output_type": "stream",
     "text": [
      "epoch: 20/50, train_loss: 15.400623321533203, F1_train: 0.9316469016804814 F1_val: 0.9592224058185196\n"
     ]
    },
    {
     "name": "stderr",
     "output_type": "stream",
     "text": [
      "100%|██████████████████████████████████████████████████████████████████████████████████| 62/62 [00:08<00:00,  7.34it/s]\n"
     ]
    },
    {
     "name": "stdout",
     "output_type": "stream",
     "text": [
      "epoch: 21/50, train_loss: 15.365967750549316, F1_train: 0.9315909930999736 F1_val: 0.9540613888587688\n"
     ]
    },
    {
     "name": "stderr",
     "output_type": "stream",
     "text": [
      "100%|██████████████████████████████████████████████████████████████████████████████████| 62/62 [00:08<00:00,  7.30it/s]\n"
     ]
    },
    {
     "name": "stdout",
     "output_type": "stream",
     "text": [
      "epoch: 22/50, train_loss: 15.392633438110352, F1_train: 0.9337984441225499 F1_val: 0.9566053026259962\n"
     ]
    },
    {
     "name": "stderr",
     "output_type": "stream",
     "text": [
      "100%|██████████████████████████████████████████████████████████████████████████████████| 62/62 [00:08<00:00,  7.34it/s]\n"
     ]
    },
    {
     "name": "stdout",
     "output_type": "stream",
     "text": [
      "epoch: 23/50, train_loss: 15.398951530456543, F1_train: 0.9340771565388029 F1_val: 0.9565372350154012\n"
     ]
    },
    {
     "name": "stderr",
     "output_type": "stream",
     "text": [
      "100%|██████████████████████████████████████████████████████████████████████████████████| 62/62 [00:08<00:00,  7.34it/s]\n"
     ]
    },
    {
     "name": "stdout",
     "output_type": "stream",
     "text": [
      "epoch: 24/50, train_loss: 15.418896675109863, F1_train: 0.9338253341943885 F1_val: 0.956585056647857\n"
     ]
    },
    {
     "name": "stderr",
     "output_type": "stream",
     "text": [
      "100%|██████████████████████████████████████████████████████████████████████████████████| 62/62 [00:08<00:00,  7.30it/s]\n"
     ]
    },
    {
     "name": "stdout",
     "output_type": "stream",
     "text": [
      "epoch: 25/50, train_loss: 15.373104095458984, F1_train: 0.9340307852369159 F1_val: 0.9566331475679528\n"
     ]
    },
    {
     "name": "stderr",
     "output_type": "stream",
     "text": [
      "100%|██████████████████████████████████████████████████████████████████████████████████| 62/62 [00:08<00:00,  7.05it/s]\n"
     ]
    },
    {
     "name": "stdout",
     "output_type": "stream",
     "text": [
      "epoch: 26/50, train_loss: 15.444339752197266, F1_train: 0.9346838043414831 F1_val: 0.9568402556764021\n"
     ]
    },
    {
     "data": {
      "image/png": "[encoded data removed]",
      "text/plain": [
       "<Figure size 1080x360 with 2 Axes>"
      ]
     },
     "metadata": {
      "needs_background": "light"
     },
     "output_type": "display_data"
    },
    {
     "name": "stdout",
     "output_type": "stream",
     "text": [
      "[[46  0  0  0  0  1]\n",
      " [ 0 49  0  0  0  0]\n",
      " [ 0  0 42  0  0  4]\n",
      " [ 0  0  0 33  0 13]\n",
      " [ 0  0  0  0 46  4]\n",
      " [ 0 27  0  0  0 23]]\n",
      "82.99\n",
      "f1_weighted: 0.8311711364385295, f1_macro: 0.834296610666203, f1_micro: 0.8298611111111112, f_measure: {'Known': 90.4314, 'Open': 48.4211, 'F1-score': 83.4297}\n",
      "              precision    recall  f1-score   support\n",
      "\n",
      "           0       1.00      0.98      0.99        47\n",
      "           1       0.64      1.00      0.78        49\n",
      "           2       1.00      0.91      0.95        46\n",
      "           3       1.00      0.72      0.84        46\n",
      "           4       1.00      0.92      0.96        50\n",
      "           5       0.51      0.46      0.48        50\n",
      "\n",
      "    accuracy                           0.83       288\n",
      "   macro avg       0.86      0.83      0.83       288\n",
      "weighted avg       0.85      0.83      0.83       288\n",
      "\n"
     ]
    }
   ],
   "source": [
    "comment=\"nadam optimizer with lower LR=2 and embeds-ze=2\"\n",
    "test_data, oset = oset_train(ablation=500,designated_ukc_cls=5,num_classes=5,embedding_size=2,\n",
    "                             lr_rate=2, optimizer='nadam',\n",
    "pretrain_epochs=14,octrain_epochs=50, wait_patient=6, comment=comment)"
   ]
  },
  {
   "cell_type": "code",
   "execution_count": 21,
   "id": "0f6d3972-e0ea-4f15-8076-23bdc8a5ae54",
   "metadata": {},
   "outputs": [
    {
     "name": "stdout",
     "output_type": "stream",
     "text": [
      "padded_num_seq_df loaded from C:\\Users\\Bhujay_ROG\\MyDev\\OCLog\\oclog\\BGL\\data\\bgl_ukc.pkl\n",
      "trained tokenizer, tk, loaded from C:\\Users\\Bhujay_ROG\\MyDev\\OCLog\\oclog\\BGL\\data\\bgltkukc.pkl\n",
      "train_0:, 400\n",
      "val_0:, 50\n",
      "test_0:, 50\n",
      "train_1:, 400\n",
      "val_1:, 50\n",
      "test_1:, 50\n",
      "train_2:, 400\n",
      "val_2:, 50\n",
      "test_2:, 50\n",
      "train_3:, 400\n",
      "val_3:, 50\n",
      "test_3:, 50\n",
      "train_4:, 400\n",
      "val_4:, 50\n",
      "test_4:, 50\n",
      "class 5 is added as ukc\n",
      "ukc_5:, 50\n",
      "vocab_size: 50\n",
      "Epoch 1/14\n",
      "62/62 [==============================] - 7s 97ms/step - loss: 1.1837 - accuracy: 0.5585 - precision_7: 0.9676 - recall_7: 0.2858 - val_loss: 1.0390 - val_accuracy: 0.6250 - val_precision_7: 1.0000 - val_recall_7: 0.3839\n",
      "Epoch 2/14\n",
      "62/62 [==============================] - 6s 94ms/step - loss: 0.6789 - accuracy: 0.7505 - precision_7: 0.9445 - recall_7: 0.6008 - val_loss: 0.5300 - val_accuracy: 0.8527 - val_precision_7: 0.9563 - val_recall_7: 0.7812\n",
      "Epoch 3/14\n",
      "62/62 [==============================] - 6s 94ms/step - loss: 0.4606 - accuracy: 0.8735 - precision_7: 0.9428 - recall_7: 0.7555 - val_loss: 0.4238 - val_accuracy: 0.8348 - val_precision_7: 0.9389 - val_recall_7: 0.7545\n",
      "Epoch 4/14\n",
      "62/62 [==============================] - 6s 94ms/step - loss: 0.3701 - accuracy: 0.9168 - precision_7: 0.9487 - recall_7: 0.7732 - val_loss: 0.3190 - val_accuracy: 0.9152 - val_precision_7: 0.9777 - val_recall_7: 0.7812\n",
      "Epoch 5/14\n",
      "62/62 [==============================] - 6s 94ms/step - loss: 0.3092 - accuracy: 0.8810 - precision_7: 0.9242 - recall_7: 0.7989 - val_loss: 0.2210 - val_accuracy: 0.8527 - val_precision_7: 0.8524 - val_recall_7: 0.7991\n",
      "Epoch 6/14\n",
      "62/62 [==============================] - 6s 95ms/step - loss: 0.2034 - accuracy: 0.9335 - precision_7: 0.9388 - recall_7: 0.9209 - val_loss: 0.1705 - val_accuracy: 0.9598 - val_precision_7: 0.9729 - val_recall_7: 0.9598\n",
      "Epoch 7/14\n",
      "62/62 [==============================] - 6s 94ms/step - loss: 0.1519 - accuracy: 0.9486 - precision_7: 0.9495 - recall_7: 0.9486 - val_loss: 0.0655 - val_accuracy: 1.0000 - val_precision_7: 1.0000 - val_recall_7: 1.0000\n",
      "Epoch 8/14\n",
      "62/62 [==============================] - 6s 94ms/step - loss: 0.1127 - accuracy: 0.9647 - precision_7: 0.9652 - recall_7: 0.9647 - val_loss: 0.0189 - val_accuracy: 1.0000 - val_precision_7: 1.0000 - val_recall_7: 1.0000\n",
      "Epoch 9/14\n",
      "62/62 [==============================] - 6s 95ms/step - loss: 0.0743 - accuracy: 0.9763 - precision_7: 0.9763 - recall_7: 0.9763 - val_loss: 0.0746 - val_accuracy: 0.9688 - val_precision_7: 0.9688 - val_recall_7: 0.9688\n",
      "Epoch 10/14\n",
      "62/62 [==============================] - 6s 94ms/step - loss: 0.0527 - accuracy: 0.9819 - precision_7: 0.9819 - recall_7: 0.9819 - val_loss: 0.2418 - val_accuracy: 0.8884 - val_precision_7: 0.8884 - val_recall_7: 0.8884\n",
      "Epoch 11/14\n",
      "62/62 [==============================] - 6s 94ms/step - loss: 0.0796 - accuracy: 0.9743 - precision_7: 0.9743 - recall_7: 0.9743 - val_loss: 0.0190 - val_accuracy: 0.9911 - val_precision_7: 0.9911 - val_recall_7: 0.9911\n",
      "Epoch 12/14\n",
      "62/62 [==============================] - 6s 96ms/step - loss: 0.0549 - accuracy: 0.9798 - precision_7: 0.9798 - recall_7: 0.9798 - val_loss: 0.0444 - val_accuracy: 0.9955 - val_precision_7: 0.9955 - val_recall_7: 0.9955\n",
      "Epoch 13/14\n",
      "62/62 [==============================] - 6s 102ms/step - loss: 0.0360 - accuracy: 0.9884 - precision_7: 0.9884 - recall_7: 0.9884 - val_loss: 0.0269 - val_accuracy: 0.9866 - val_precision_7: 0.9866 - val_recall_7: 0.9866\n",
      "Epoch 14/14\n",
      "62/62 [==============================] - 6s 98ms/step - loss: 0.0390 - accuracy: 0.9879 - precision_7: 0.9879 - recall_7: 0.9879 - val_loss: 0.0581 - val_accuracy: 0.9866 - val_precision_7: 0.9866 - val_recall_7: 0.9866\n"
     ]
    },
    {
     "name": "stderr",
     "output_type": "stream",
     "text": [
      "100%|██████████████████████████████████████████████████████████████████████████████████| 62/62 [00:08<00:00,  7.34it/s]\n"
     ]
    },
    {
     "name": "stdout",
     "output_type": "stream",
     "text": [
      "epoch: 1/50, train_loss: 15.401331901550293, F1_train: 0.47328232592935915 F1_val: 0.26759649511978706\n"
     ]
    },
    {
     "name": "stderr",
     "output_type": "stream",
     "text": [
      "100%|██████████████████████████████████████████████████████████████████████████████████| 62/62 [00:08<00:00,  7.34it/s]\n"
     ]
    },
    {
     "name": "stdout",
     "output_type": "stream",
     "text": [
      "epoch: 2/50, train_loss: 15.378965377807617, F1_train: 0.5809948618991142 F1_val: 0.4040577973336233\n"
     ]
    },
    {
     "name": "stderr",
     "output_type": "stream",
     "text": [
      "100%|██████████████████████████████████████████████████████████████████████████████████| 62/62 [00:08<00:00,  7.35it/s]\n"
     ]
    },
    {
     "name": "stdout",
     "output_type": "stream",
     "text": [
      "epoch: 3/50, train_loss: 15.374783515930176, F1_train: 0.648726036885542 F1_val: 0.4866280730438894\n"
     ]
    },
    {
     "name": "stderr",
     "output_type": "stream",
     "text": [
      "100%|██████████████████████████████████████████████████████████████████████████████████| 62/62 [00:08<00:00,  7.34it/s]\n"
     ]
    },
    {
     "name": "stdout",
     "output_type": "stream",
     "text": [
      "epoch: 4/50, train_loss: 15.373117446899414, F1_train: 0.6855866905105962 F1_val: 0.5199657263765517\n"
     ]
    },
    {
     "name": "stderr",
     "output_type": "stream",
     "text": [
      "100%|██████████████████████████████████████████████████████████████████████████████████| 62/62 [00:08<00:00,  7.43it/s]\n"
     ]
    },
    {
     "name": "stdout",
     "output_type": "stream",
     "text": [
      "epoch: 5/50, train_loss: 15.411981582641602, F1_train: 0.7037246904237083 F1_val: 0.564216230398651\n"
     ]
    },
    {
     "name": "stderr",
     "output_type": "stream",
     "text": [
      "100%|██████████████████████████████████████████████████████████████████████████████████| 62/62 [00:08<00:00,  7.42it/s]\n"
     ]
    },
    {
     "name": "stdout",
     "output_type": "stream",
     "text": [
      "epoch: 6/50, train_loss: 15.366006851196289, F1_train: 0.7173083413109306 F1_val: 0.6053961505880096\n"
     ]
    },
    {
     "name": "stderr",
     "output_type": "stream",
     "text": [
      "100%|██████████████████████████████████████████████████████████████████████████████████| 62/62 [00:08<00:00,  7.39it/s]\n"
     ]
    },
    {
     "name": "stdout",
     "output_type": "stream",
     "text": [
      "epoch: 7/50, train_loss: 15.368725776672363, F1_train: 0.7301973455397116 F1_val: 0.6316937375915931\n"
     ]
    },
    {
     "name": "stderr",
     "output_type": "stream",
     "text": [
      "100%|██████████████████████████████████████████████████████████████████████████████████| 62/62 [00:08<00:00,  7.38it/s]\n"
     ]
    },
    {
     "name": "stdout",
     "output_type": "stream",
     "text": [
      "epoch: 8/50, train_loss: 15.362293243408203, F1_train: 0.738541304306394 F1_val: 0.6416829528872212\n"
     ]
    },
    {
     "name": "stderr",
     "output_type": "stream",
     "text": [
      "100%|██████████████████████████████████████████████████████████████████████████████████| 62/62 [00:08<00:00,  7.42it/s]\n"
     ]
    },
    {
     "name": "stdout",
     "output_type": "stream",
     "text": [
      "epoch: 9/50, train_loss: 15.384124755859375, F1_train: 0.7459015617939798 F1_val: 0.6641695192984309\n"
     ]
    },
    {
     "name": "stderr",
     "output_type": "stream",
     "text": [
      "100%|██████████████████████████████████████████████████████████████████████████████████| 62/62 [00:08<00:00,  7.43it/s]\n"
     ]
    },
    {
     "name": "stdout",
     "output_type": "stream",
     "text": [
      "epoch: 10/50, train_loss: 15.370051383972168, F1_train: 0.7556406789933477 F1_val: 0.6818967350284474\n"
     ]
    },
    {
     "name": "stderr",
     "output_type": "stream",
     "text": [
      "100%|██████████████████████████████████████████████████████████████████████████████████| 62/62 [00:08<00:00,  7.41it/s]\n"
     ]
    },
    {
     "name": "stdout",
     "output_type": "stream",
     "text": [
      "epoch: 11/50, train_loss: 15.4132719039917, F1_train: 0.7622319393764275 F1_val: 0.7065886563602509\n"
     ]
    },
    {
     "name": "stderr",
     "output_type": "stream",
     "text": [
      "100%|██████████████████████████████████████████████████████████████████████████████████| 62/62 [00:08<00:00,  7.43it/s]\n"
     ]
    },
    {
     "name": "stdout",
     "output_type": "stream",
     "text": [
      "epoch: 12/50, train_loss: 15.261612892150879, F1_train: 0.7696018175002831 F1_val: 0.7282346144077042\n"
     ]
    },
    {
     "name": "stderr",
     "output_type": "stream",
     "text": [
      "100%|██████████████████████████████████████████████████████████████████████████████████| 62/62 [00:08<00:00,  7.30it/s]\n"
     ]
    },
    {
     "name": "stdout",
     "output_type": "stream",
     "text": [
      "epoch: 13/50, train_loss: 15.36155891418457, F1_train: 0.7734629328992004 F1_val: 0.7333941224491903\n"
     ]
    },
    {
     "name": "stderr",
     "output_type": "stream",
     "text": [
      "100%|██████████████████████████████████████████████████████████████████████████████████| 62/62 [00:08<00:00,  7.41it/s]\n"
     ]
    },
    {
     "name": "stdout",
     "output_type": "stream",
     "text": [
      "epoch: 14/50, train_loss: 15.333009719848633, F1_train: 0.7780164995940969 F1_val: 0.7330722164293172\n"
     ]
    },
    {
     "name": "stderr",
     "output_type": "stream",
     "text": [
      "100%|██████████████████████████████████████████████████████████████████████████████████| 62/62 [00:08<00:00,  7.41it/s]\n"
     ]
    },
    {
     "name": "stdout",
     "output_type": "stream",
     "text": [
      "epoch: 15/50, train_loss: 15.40660285949707, F1_train: 0.7807482129331634 F1_val: 0.7249447278911564\n"
     ]
    },
    {
     "name": "stderr",
     "output_type": "stream",
     "text": [
      "100%|██████████████████████████████████████████████████████████████████████████████████| 62/62 [00:08<00:00,  7.42it/s]\n"
     ]
    },
    {
     "name": "stdout",
     "output_type": "stream",
     "text": [
      "epoch: 16/50, train_loss: 15.347530364990234, F1_train: 0.787995718539313 F1_val: 0.7296228107099889\n"
     ]
    },
    {
     "name": "stderr",
     "output_type": "stream",
     "text": [
      "100%|██████████████████████████████████████████████████████████████████████████████████| 62/62 [00:08<00:00,  7.42it/s]\n"
     ]
    },
    {
     "name": "stdout",
     "output_type": "stream",
     "text": [
      "epoch: 17/50, train_loss: 15.367637634277344, F1_train: 0.7896207541726572 F1_val: 0.7594143135514354\n"
     ]
    },
    {
     "name": "stderr",
     "output_type": "stream",
     "text": [
      "100%|██████████████████████████████████████████████████████████████████████████████████| 62/62 [00:08<00:00,  7.45it/s]\n"
     ]
    },
    {
     "name": "stdout",
     "output_type": "stream",
     "text": [
      "epoch: 18/50, train_loss: 15.36622428894043, F1_train: 0.79482827909578 F1_val: 0.7612750184517016\n"
     ]
    },
    {
     "name": "stderr",
     "output_type": "stream",
     "text": [
      "100%|██████████████████████████████████████████████████████████████████████████████████| 62/62 [00:08<00:00,  7.40it/s]\n"
     ]
    },
    {
     "name": "stdout",
     "output_type": "stream",
     "text": [
      "epoch: 19/50, train_loss: 15.418876647949219, F1_train: 0.7979892661890634 F1_val: 0.7673668690819847\n"
     ]
    },
    {
     "name": "stderr",
     "output_type": "stream",
     "text": [
      "100%|██████████████████████████████████████████████████████████████████████████████████| 62/62 [00:08<00:00,  7.44it/s]\n"
     ]
    },
    {
     "name": "stdout",
     "output_type": "stream",
     "text": [
      "epoch: 20/50, train_loss: 15.400623321533203, F1_train: 0.8009743208432544 F1_val: 0.7573899416730027\n"
     ]
    },
    {
     "name": "stderr",
     "output_type": "stream",
     "text": [
      "100%|██████████████████████████████████████████████████████████████████████████████████| 62/62 [00:08<00:00,  7.31it/s]\n"
     ]
    },
    {
     "name": "stdout",
     "output_type": "stream",
     "text": [
      "epoch: 21/50, train_loss: 15.365967750549316, F1_train: 0.8021544956271071 F1_val: 0.7528002969623466\n"
     ]
    },
    {
     "name": "stderr",
     "output_type": "stream",
     "text": [
      "100%|██████████████████████████████████████████████████████████████████████████████████| 62/62 [00:08<00:00,  7.19it/s]\n"
     ]
    },
    {
     "name": "stdout",
     "output_type": "stream",
     "text": [
      "epoch: 22/50, train_loss: 15.392633438110352, F1_train: 0.8060308799218765 F1_val: 0.7744847261340218\n"
     ]
    },
    {
     "name": "stderr",
     "output_type": "stream",
     "text": [
      "100%|██████████████████████████████████████████████████████████████████████████████████| 62/62 [00:08<00:00,  7.19it/s]\n"
     ]
    },
    {
     "name": "stdout",
     "output_type": "stream",
     "text": [
      "epoch: 23/50, train_loss: 15.398951530456543, F1_train: 0.8065021711999346 F1_val: 0.7564332925121616\n"
     ]
    },
    {
     "name": "stderr",
     "output_type": "stream",
     "text": [
      "100%|██████████████████████████████████████████████████████████████████████████████████| 62/62 [00:08<00:00,  7.19it/s]\n"
     ]
    },
    {
     "name": "stdout",
     "output_type": "stream",
     "text": [
      "epoch: 24/50, train_loss: 15.418896675109863, F1_train: 0.8066243749999826 F1_val: 0.7634164569105227\n"
     ]
    },
    {
     "name": "stderr",
     "output_type": "stream",
     "text": [
      "100%|██████████████████████████████████████████████████████████████████████████████████| 62/62 [00:08<00:00,  7.44it/s]\n"
     ]
    },
    {
     "name": "stdout",
     "output_type": "stream",
     "text": [
      "epoch: 25/50, train_loss: 15.373104095458984, F1_train: 0.8071225963833367 F1_val: 0.7613081025397984\n"
     ]
    },
    {
     "name": "stderr",
     "output_type": "stream",
     "text": [
      "100%|██████████████████████████████████████████████████████████████████████████████████| 62/62 [00:08<00:00,  7.47it/s]\n"
     ]
    },
    {
     "name": "stdout",
     "output_type": "stream",
     "text": [
      "epoch: 26/50, train_loss: 15.444339752197266, F1_train: 0.8086059115750813 F1_val: 0.7636104876066873\n"
     ]
    },
    {
     "name": "stderr",
     "output_type": "stream",
     "text": [
      "100%|██████████████████████████████████████████████████████████████████████████████████| 62/62 [00:08<00:00,  7.48it/s]\n"
     ]
    },
    {
     "name": "stdout",
     "output_type": "stream",
     "text": [
      "epoch: 27/50, train_loss: 15.41650676727295, F1_train: 0.8070064865734212 F1_val: 0.7779954002877746\n"
     ]
    },
    {
     "name": "stderr",
     "output_type": "stream",
     "text": [
      "100%|██████████████████████████████████████████████████████████████████████████████████| 62/62 [00:08<00:00,  7.49it/s]\n"
     ]
    },
    {
     "name": "stdout",
     "output_type": "stream",
     "text": [
      "epoch: 28/50, train_loss: 15.332464218139648, F1_train: 0.808260348481855 F1_val: 0.759776030695571\n"
     ]
    },
    {
     "name": "stderr",
     "output_type": "stream",
     "text": [
      "100%|██████████████████████████████████████████████████████████████████████████████████| 62/62 [00:08<00:00,  7.47it/s]\n"
     ]
    },
    {
     "name": "stdout",
     "output_type": "stream",
     "text": [
      "epoch: 29/50, train_loss: 15.377071380615234, F1_train: 0.8082569298325829 F1_val: 0.7644096922106092\n"
     ]
    },
    {
     "name": "stderr",
     "output_type": "stream",
     "text": [
      "100%|██████████████████████████████████████████████████████████████████████████████████| 62/62 [00:08<00:00,  7.46it/s]\n"
     ]
    },
    {
     "name": "stdout",
     "output_type": "stream",
     "text": [
      "epoch: 30/50, train_loss: 15.369736671447754, F1_train: 0.8083844771924044 F1_val: 0.7612038799529746\n"
     ]
    },
    {
     "name": "stderr",
     "output_type": "stream",
     "text": [
      "100%|██████████████████████████████████████████████████████████████████████████████████| 62/62 [00:08<00:00,  7.49it/s]\n"
     ]
    },
    {
     "name": "stdout",
     "output_type": "stream",
     "text": [
      "epoch: 31/50, train_loss: 15.349509239196777, F1_train: 0.8076650705247583 F1_val: 0.7536959874634664\n"
     ]
    },
    {
     "name": "stderr",
     "output_type": "stream",
     "text": [
      "100%|██████████████████████████████████████████████████████████████████████████████████| 62/62 [00:08<00:00,  7.50it/s]\n"
     ]
    },
    {
     "name": "stdout",
     "output_type": "stream",
     "text": [
      "epoch: 32/50, train_loss: 15.413382530212402, F1_train: 0.807749876745609 F1_val: 0.7780983307657822\n"
     ]
    },
    {
     "name": "stderr",
     "output_type": "stream",
     "text": [
      "100%|██████████████████████████████████████████████████████████████████████████████████| 62/62 [00:08<00:00,  7.10it/s]\n"
     ]
    },
    {
     "name": "stdout",
     "output_type": "stream",
     "text": [
      "epoch: 33/50, train_loss: 15.391674041748047, F1_train: 0.8081773834332899 F1_val: 0.7753243844102958\n"
     ]
    },
    {
     "name": "stderr",
     "output_type": "stream",
     "text": [
      "100%|██████████████████████████████████████████████████████████████████████████████████| 62/62 [00:08<00:00,  7.50it/s]\n"
     ]
    },
    {
     "name": "stdout",
     "output_type": "stream",
     "text": [
      "epoch: 34/50, train_loss: 15.37376880645752, F1_train: 0.8054600010450114 F1_val: 0.7746462972336593\n"
     ]
    },
    {
     "name": "stderr",
     "output_type": "stream",
     "text": [
      "100%|██████████████████████████████████████████████████████████████████████████████████| 62/62 [00:08<00:00,  7.51it/s]\n"
     ]
    },
    {
     "name": "stdout",
     "output_type": "stream",
     "text": [
      "epoch: 35/50, train_loss: 15.377516746520996, F1_train: 0.8070879129162606 F1_val: 0.7635519968268694\n"
     ]
    },
    {
     "name": "stderr",
     "output_type": "stream",
     "text": [
      "100%|██████████████████████████████████████████████████████████████████████████████████| 62/62 [00:08<00:00,  7.53it/s]\n"
     ]
    },
    {
     "name": "stdout",
     "output_type": "stream",
     "text": [
      "epoch: 36/50, train_loss: 15.403599739074707, F1_train: 0.806205662266341 F1_val: 0.7703615380751457\n"
     ]
    },
    {
     "name": "stderr",
     "output_type": "stream",
     "text": [
      "100%|██████████████████████████████████████████████████████████████████████████████████| 62/62 [00:08<00:00,  7.50it/s]\n"
     ]
    },
    {
     "name": "stdout",
     "output_type": "stream",
     "text": [
      "epoch: 37/50, train_loss: 15.438752174377441, F1_train: 0.8046922235391618 F1_val: 0.760564379597993\n"
     ]
    },
    {
     "name": "stderr",
     "output_type": "stream",
     "text": [
      "100%|██████████████████████████████████████████████████████████████████████████████████| 62/62 [00:08<00:00,  7.51it/s]\n"
     ]
    },
    {
     "name": "stdout",
     "output_type": "stream",
     "text": [
      "epoch: 38/50, train_loss: 15.398746490478516, F1_train: 0.803458462048963 F1_val: 0.7620947781992023\n"
     ]
    },
    {
     "data": {
      "image/png": "[encoded data removed]",
      "text/plain": [
       "<Figure size 1080x360 with 2 Axes>"
      ]
     },
     "metadata": {
      "needs_background": "light"
     },
     "output_type": "display_data"
    },
    {
     "name": "stdout",
     "output_type": "stream",
     "text": [
      "[[41  0  0  0  0  6]\n",
      " [ 0 49  0  0  0  0]\n",
      " [ 0  0 20  0  0 26]\n",
      " [ 0  0  0 11  0 35]\n",
      " [ 0  0  0  0 46  4]\n",
      " [ 0 11  0  0  0 39]]\n",
      "71.53\n",
      "f1_weighted: 0.7144977115534064, f1_macro: 0.7114599337166938, f1_micro: 0.7152777777777778, f_measure: {'Known': 75.6252, 'Open': 48.75, 'F1-score': 71.146}\n",
      "              precision    recall  f1-score   support\n",
      "\n",
      "           0       1.00      0.87      0.93        47\n",
      "           1       0.82      1.00      0.90        49\n",
      "           2       1.00      0.43      0.61        46\n",
      "           3       1.00      0.24      0.39        46\n",
      "           4       1.00      0.92      0.96        50\n",
      "           5       0.35      0.78      0.49        50\n",
      "\n",
      "    accuracy                           0.72       288\n",
      "   macro avg       0.86      0.71      0.71       288\n",
      "weighted avg       0.86      0.72      0.71       288\n",
      "\n"
     ]
    }
   ],
   "source": [
    "comment=\"lowering the LR a bit nadam optimizer with lower  and embeds-ze=2\"\n",
    "test_data, oset = oset_train(ablation=500,designated_ukc_cls=5,num_classes=5,embedding_size=2,\n",
    "                             lr_rate=1.5 , optimizer='nadam',\n",
    "pretrain_epochs=14,octrain_epochs=50, wait_patient=6, comment=comment)"
   ]
  },
  {
   "cell_type": "code",
   "execution_count": 23,
   "id": "9de0c83d-cb18-4ac5-adb5-cafbcd727ae0",
   "metadata": {},
   "outputs": [
    {
     "name": "stdout",
     "output_type": "stream",
     "text": [
      "padded_num_seq_df loaded from C:\\Users\\Bhujay_ROG\\MyDev\\OCLog\\oclog\\BGL\\data\\bgl_ukc.pkl\n",
      "trained tokenizer, tk, loaded from C:\\Users\\Bhujay_ROG\\MyDev\\OCLog\\oclog\\BGL\\data\\bgltkukc.pkl\n",
      "train_0:, 400\n",
      "val_0:, 50\n",
      "test_0:, 50\n",
      "train_1:, 400\n",
      "val_1:, 50\n",
      "test_1:, 50\n",
      "train_2:, 400\n",
      "val_2:, 50\n",
      "test_2:, 50\n",
      "train_3:, 400\n",
      "val_3:, 50\n",
      "test_3:, 50\n",
      "train_4:, 400\n",
      "val_4:, 50\n",
      "test_4:, 50\n",
      "class 5 is added as ukc\n",
      "ukc_5:, 50\n",
      "vocab_size: 50\n",
      "Epoch 1/14\n",
      "62/62 [==============================] - 7s 104ms/step - loss: 1.1837 - accuracy: 0.5585 - precision_9: 0.9676 - recall_9: 0.2858 - val_loss: 1.0390 - val_accuracy: 0.6250 - val_precision_9: 1.0000 - val_recall_9: 0.3839\n",
      "Epoch 2/14\n",
      "62/62 [==============================] - 6s 98ms/step - loss: 0.6789 - accuracy: 0.7505 - precision_9: 0.9445 - recall_9: 0.6008 - val_loss: 0.5300 - val_accuracy: 0.8527 - val_precision_9: 0.9563 - val_recall_9: 0.7812\n",
      "Epoch 3/14\n",
      "62/62 [==============================] - 6s 98ms/step - loss: 0.4606 - accuracy: 0.8735 - precision_9: 0.9428 - recall_9: 0.7555 - val_loss: 0.4238 - val_accuracy: 0.8348 - val_precision_9: 0.9389 - val_recall_9: 0.7545\n",
      "Epoch 4/14\n",
      "62/62 [==============================] - 6s 99ms/step - loss: 0.3701 - accuracy: 0.9168 - precision_9: 0.9487 - recall_9: 0.7732 - val_loss: 0.3190 - val_accuracy: 0.9152 - val_precision_9: 0.9777 - val_recall_9: 0.7812\n",
      "Epoch 5/14\n",
      "62/62 [==============================] - 6s 98ms/step - loss: 0.3092 - accuracy: 0.8810 - precision_9: 0.9242 - recall_9: 0.7989 - val_loss: 0.2210 - val_accuracy: 0.8527 - val_precision_9: 0.8524 - val_recall_9: 0.7991\n",
      "Epoch 6/14\n",
      "62/62 [==============================] - 6s 104ms/step - loss: 0.2034 - accuracy: 0.9335 - precision_9: 0.9388 - recall_9: 0.9209 - val_loss: 0.1705 - val_accuracy: 0.9598 - val_precision_9: 0.9729 - val_recall_9: 0.9598\n",
      "Epoch 7/14\n",
      "62/62 [==============================] - 6s 102ms/step - loss: 0.1519 - accuracy: 0.9486 - precision_9: 0.9495 - recall_9: 0.9486 - val_loss: 0.0655 - val_accuracy: 1.0000 - val_precision_9: 1.0000 - val_recall_9: 1.0000\n",
      "Epoch 8/14\n",
      "62/62 [==============================] - 6s 100ms/step - loss: 0.1127 - accuracy: 0.9647 - precision_9: 0.9652 - recall_9: 0.9647 - val_loss: 0.0189 - val_accuracy: 1.0000 - val_precision_9: 1.0000 - val_recall_9: 1.0000\n",
      "Epoch 9/14\n",
      "62/62 [==============================] - 6s 97ms/step - loss: 0.0743 - accuracy: 0.9763 - precision_9: 0.9763 - recall_9: 0.9763 - val_loss: 0.0746 - val_accuracy: 0.9688 - val_precision_9: 0.9688 - val_recall_9: 0.9688\n",
      "Epoch 10/14\n",
      "62/62 [==============================] - 6s 100ms/step - loss: 0.0527 - accuracy: 0.9819 - precision_9: 0.9819 - recall_9: 0.9819 - val_loss: 0.2418 - val_accuracy: 0.8884 - val_precision_9: 0.8884 - val_recall_9: 0.8884\n",
      "Epoch 11/14\n",
      "62/62 [==============================] - 6s 96ms/step - loss: 0.0796 - accuracy: 0.9743 - precision_9: 0.9743 - recall_9: 0.9743 - val_loss: 0.0190 - val_accuracy: 0.9911 - val_precision_9: 0.9911 - val_recall_9: 0.9911\n",
      "Epoch 12/14\n",
      "62/62 [==============================] - 6s 97ms/step - loss: 0.0549 - accuracy: 0.9798 - precision_9: 0.9798 - recall_9: 0.9798 - val_loss: 0.0444 - val_accuracy: 0.9955 - val_precision_9: 0.9955 - val_recall_9: 0.9955\n",
      "Epoch 13/14\n",
      "62/62 [==============================] - 6s 97ms/step - loss: 0.0360 - accuracy: 0.9884 - precision_9: 0.9884 - recall_9: 0.9884 - val_loss: 0.0269 - val_accuracy: 0.9866 - val_precision_9: 0.9866 - val_recall_9: 0.9866\n",
      "Epoch 14/14\n",
      "62/62 [==============================] - 6s 98ms/step - loss: 0.0390 - accuracy: 0.9879 - precision_9: 0.9879 - recall_9: 0.9879 - val_loss: 0.0581 - val_accuracy: 0.9866 - val_precision_9: 0.9866 - val_recall_9: 0.9866\n"
     ]
    },
    {
     "name": "stderr",
     "output_type": "stream",
     "text": [
      "100%|██████████████████████████████████████████████████████████████████████████████████| 62/62 [00:08<00:00,  6.95it/s]\n"
     ]
    },
    {
     "name": "stdout",
     "output_type": "stream",
     "text": [
      "epoch: 1/50, train_loss: 15.401331901550293, F1_train: 0.4538441396914607 F1_val: 0.2284631334417825\n"
     ]
    },
    {
     "name": "stderr",
     "output_type": "stream",
     "text": [
      "100%|██████████████████████████████████████████████████████████████████████████████████| 62/62 [00:08<00:00,  7.10it/s]\n"
     ]
    },
    {
     "name": "stdout",
     "output_type": "stream",
     "text": [
      "epoch: 2/50, train_loss: 15.378965377807617, F1_train: 0.4549482507990807 F1_val: 0.21795376121463078\n"
     ]
    },
    {
     "name": "stderr",
     "output_type": "stream",
     "text": [
      "100%|██████████████████████████████████████████████████████████████████████████████████| 62/62 [00:08<00:00,  7.12it/s]\n"
     ]
    },
    {
     "name": "stdout",
     "output_type": "stream",
     "text": [
      "epoch: 3/50, train_loss: 15.374783515930176, F1_train: 0.45315297967422785 F1_val: 0.23558415763845103\n"
     ]
    },
    {
     "name": "stderr",
     "output_type": "stream",
     "text": [
      "100%|██████████████████████████████████████████████████████████████████████████████████| 62/62 [00:08<00:00,  7.18it/s]\n"
     ]
    },
    {
     "name": "stdout",
     "output_type": "stream",
     "text": [
      "epoch: 4/50, train_loss: 15.373117446899414, F1_train: 0.45437296203453365 F1_val: 0.2332605720153674\n"
     ]
    },
    {
     "name": "stderr",
     "output_type": "stream",
     "text": [
      "100%|██████████████████████████████████████████████████████████████████████████████████| 62/62 [00:08<00:00,  7.18it/s]\n"
     ]
    },
    {
     "name": "stdout",
     "output_type": "stream",
     "text": [
      "epoch: 5/50, train_loss: 15.411981582641602, F1_train: 0.4551342966894515 F1_val: 0.23362959624595267\n"
     ]
    },
    {
     "name": "stderr",
     "output_type": "stream",
     "text": [
      "100%|██████████████████████████████████████████████████████████████████████████████████| 62/62 [00:08<00:00,  7.17it/s]\n"
     ]
    },
    {
     "name": "stdout",
     "output_type": "stream",
     "text": [
      "epoch: 6/50, train_loss: 15.366006851196289, F1_train: 0.4540920989606582 F1_val: 0.2250317495497017\n"
     ]
    },
    {
     "name": "stderr",
     "output_type": "stream",
     "text": [
      "100%|██████████████████████████████████████████████████████████████████████████████████| 62/62 [00:08<00:00,  7.13it/s]\n"
     ]
    },
    {
     "name": "stdout",
     "output_type": "stream",
     "text": [
      "epoch: 7/50, train_loss: 15.368725776672363, F1_train: 0.45368913580723824 F1_val: 0.22931644110104626\n"
     ]
    },
    {
     "name": "stderr",
     "output_type": "stream",
     "text": [
      "100%|██████████████████████████████████████████████████████████████████████████████████| 62/62 [00:09<00:00,  6.87it/s]\n"
     ]
    },
    {
     "name": "stdout",
     "output_type": "stream",
     "text": [
      "epoch: 8/50, train_loss: 15.362293243408203, F1_train: 0.45491157478859656 F1_val: 0.20897485666507407\n"
     ]
    },
    {
     "name": "stderr",
     "output_type": "stream",
     "text": [
      "100%|██████████████████████████████████████████████████████████████████████████████████| 62/62 [00:09<00:00,  6.24it/s]\n"
     ]
    },
    {
     "name": "stdout",
     "output_type": "stream",
     "text": [
      "epoch: 9/50, train_loss: 15.384124755859375, F1_train: 0.4549950308872586 F1_val: 0.23008071403397276\n"
     ]
    },
    {
     "data": {
      "image/png": "[encoded data removed]",
      "text/plain": [
       "<Figure size 1080x360 with 2 Axes>"
      ]
     },
     "metadata": {
      "needs_background": "light"
     },
     "output_type": "display_data"
    },
    {
     "name": "stdout",
     "output_type": "stream",
     "text": [
      "[[14  0  0  0  0 33]\n",
      " [ 0 36  0  0  0 13]\n",
      " [ 0  0  0  0  0 46]\n",
      " [ 0  0  0  2  0 44]\n",
      " [ 0  0  0  0 10 40]\n",
      " [ 0  1  0  0  0 49]]\n",
      "38.54\n",
      "f1_weighted: 0.3504000282081201, f1_macro: 0.34487599979975125, f1_micro: 0.38541666666666663, f_measure: {'Known': 34.2578, 'Open': 35.6364, 'F1-score': 34.4876}\n",
      "              precision    recall  f1-score   support\n",
      "\n",
      "           0       1.00      0.30      0.46        47\n",
      "           1       0.97      0.73      0.84        49\n",
      "           2       0.00      0.00      0.00        46\n",
      "           3       1.00      0.04      0.08        46\n",
      "           4       1.00      0.20      0.33        50\n",
      "           5       0.22      0.98      0.36        50\n",
      "\n",
      "    accuracy                           0.39       288\n",
      "   macro avg       0.70      0.38      0.34       288\n",
      "weighted avg       0.70      0.39      0.35       288\n",
      "\n"
     ]
    }
   ],
   "source": [
    "comment=\"rmsprop optimizer with  LR=2 and embeds-ze=2\"\n",
    "test_data, oset = oset_train(ablation=500,designated_ukc_cls=5,num_classes=5,embedding_size=2,\n",
    "                             lr_rate=2, optimizer='rmsprop',\n",
    "pretrain_epochs=14,octrain_epochs=50, wait_patient=6, comment=comment)"
   ]
  },
  {
   "cell_type": "code",
   "execution_count": 24,
   "id": "8495c553-e360-4d42-b107-3c01782946ce",
   "metadata": {},
   "outputs": [
    {
     "name": "stdout",
     "output_type": "stream",
     "text": [
      "padded_num_seq_df loaded from C:\\Users\\Bhujay_ROG\\MyDev\\OCLog\\oclog\\BGL\\data\\bgl_ukc.pkl\n",
      "trained tokenizer, tk, loaded from C:\\Users\\Bhujay_ROG\\MyDev\\OCLog\\oclog\\BGL\\data\\bgltkukc.pkl\n",
      "train_0:, 400\n",
      "val_0:, 50\n",
      "test_0:, 50\n",
      "train_1:, 400\n",
      "val_1:, 50\n",
      "test_1:, 50\n",
      "train_2:, 400\n",
      "val_2:, 50\n",
      "test_2:, 50\n",
      "train_3:, 400\n",
      "val_3:, 50\n",
      "test_3:, 50\n",
      "train_4:, 400\n",
      "val_4:, 50\n",
      "test_4:, 50\n",
      "class 5 is added as ukc\n",
      "ukc_5:, 50\n",
      "vocab_size: 50\n",
      "Epoch 1/14\n",
      "62/62 [==============================] - 7s 100ms/step - loss: 1.1837 - accuracy: 0.5585 - precision_10: 0.9676 - recall_10: 0.2858 - val_loss: 1.0390 - val_accuracy: 0.6250 - val_precision_10: 1.0000 - val_recall_10: 0.3839\n",
      "Epoch 2/14\n",
      "62/62 [==============================] - 6s 95ms/step - loss: 0.6789 - accuracy: 0.7505 - precision_10: 0.9445 - recall_10: 0.6008 - val_loss: 0.5300 - val_accuracy: 0.8527 - val_precision_10: 0.9563 - val_recall_10: 0.7812\n",
      "Epoch 3/14\n",
      "62/62 [==============================] - 6s 98ms/step - loss: 0.4606 - accuracy: 0.8735 - precision_10: 0.9428 - recall_10: 0.7555 - val_loss: 0.4238 - val_accuracy: 0.8348 - val_precision_10: 0.9389 - val_recall_10: 0.7545\n",
      "Epoch 4/14\n",
      "62/62 [==============================] - 6s 96ms/step - loss: 0.3701 - accuracy: 0.9168 - precision_10: 0.9487 - recall_10: 0.7732 - val_loss: 0.3190 - val_accuracy: 0.9152 - val_precision_10: 0.9777 - val_recall_10: 0.7812\n",
      "Epoch 5/14\n",
      "62/62 [==============================] - 6s 94ms/step - loss: 0.3092 - accuracy: 0.8810 - precision_10: 0.9242 - recall_10: 0.7989 - val_loss: 0.2210 - val_accuracy: 0.8527 - val_precision_10: 0.8524 - val_recall_10: 0.7991\n",
      "Epoch 6/14\n",
      "62/62 [==============================] - 6s 95ms/step - loss: 0.2034 - accuracy: 0.9335 - precision_10: 0.9388 - recall_10: 0.9209 - val_loss: 0.1705 - val_accuracy: 0.9598 - val_precision_10: 0.9729 - val_recall_10: 0.9598\n",
      "Epoch 7/14\n",
      "62/62 [==============================] - 6s 98ms/step - loss: 0.1519 - accuracy: 0.9486 - precision_10: 0.9495 - recall_10: 0.9486 - val_loss: 0.0655 - val_accuracy: 1.0000 - val_precision_10: 1.0000 - val_recall_10: 1.0000\n",
      "Epoch 8/14\n",
      "62/62 [==============================] - 6s 95ms/step - loss: 0.1127 - accuracy: 0.9647 - precision_10: 0.9652 - recall_10: 0.9647 - val_loss: 0.0189 - val_accuracy: 1.0000 - val_precision_10: 1.0000 - val_recall_10: 1.0000\n",
      "Epoch 9/14\n",
      "62/62 [==============================] - 6s 100ms/step - loss: 0.0743 - accuracy: 0.9763 - precision_10: 0.9763 - recall_10: 0.9763 - val_loss: 0.0746 - val_accuracy: 0.9688 - val_precision_10: 0.9688 - val_recall_10: 0.9688\n",
      "Epoch 10/14\n",
      "62/62 [==============================] - 6s 103ms/step - loss: 0.0527 - accuracy: 0.9819 - precision_10: 0.9819 - recall_10: 0.9819 - val_loss: 0.2418 - val_accuracy: 0.8884 - val_precision_10: 0.8884 - val_recall_10: 0.8884\n",
      "Epoch 11/14\n",
      "62/62 [==============================] - 6s 96ms/step - loss: 0.0796 - accuracy: 0.9743 - precision_10: 0.9743 - recall_10: 0.9743 - val_loss: 0.0190 - val_accuracy: 0.9911 - val_precision_10: 0.9911 - val_recall_10: 0.9911\n",
      "Epoch 12/14\n",
      "62/62 [==============================] - 6s 96ms/step - loss: 0.0549 - accuracy: 0.9798 - precision_10: 0.9798 - recall_10: 0.9798 - val_loss: 0.0444 - val_accuracy: 0.9955 - val_precision_10: 0.9955 - val_recall_10: 0.9955\n",
      "Epoch 13/14\n",
      "62/62 [==============================] - 6s 98ms/step - loss: 0.0360 - accuracy: 0.9884 - precision_10: 0.9884 - recall_10: 0.9884 - val_loss: 0.0269 - val_accuracy: 0.9866 - val_precision_10: 0.9866 - val_recall_10: 0.9866\n",
      "Epoch 14/14\n",
      "62/62 [==============================] - 6s 97ms/step - loss: 0.0390 - accuracy: 0.9879 - precision_10: 0.9879 - recall_10: 0.9879 - val_loss: 0.0581 - val_accuracy: 0.9866 - val_precision_10: 0.9866 - val_recall_10: 0.9866\n"
     ]
    },
    {
     "name": "stderr",
     "output_type": "stream",
     "text": [
      "100%|██████████████████████████████████████████████████████████████████████████████████| 62/62 [00:08<00:00,  7.02it/s]\n"
     ]
    },
    {
     "name": "stdout",
     "output_type": "stream",
     "text": [
      "epoch: 1/50, train_loss: 15.401331901550293, F1_train: 0.11183119205224276 F1_val: 0.0\n"
     ]
    },
    {
     "name": "stderr",
     "output_type": "stream",
     "text": [
      "100%|██████████████████████████████████████████████████████████████████████████████████| 62/62 [00:08<00:00,  7.14it/s]\n"
     ]
    },
    {
     "name": "stdout",
     "output_type": "stream",
     "text": [
      "epoch: 2/50, train_loss: 15.378965377807617, F1_train: 0.11241219883543592 F1_val: 0.0\n"
     ]
    },
    {
     "name": "stderr",
     "output_type": "stream",
     "text": [
      "100%|██████████████████████████████████████████████████████████████████████████████████| 62/62 [00:08<00:00,  7.20it/s]\n"
     ]
    },
    {
     "name": "stdout",
     "output_type": "stream",
     "text": [
      "epoch: 3/50, train_loss: 15.374783515930176, F1_train: 0.11373643628000234 F1_val: 0.0\n"
     ]
    },
    {
     "name": "stderr",
     "output_type": "stream",
     "text": [
      "100%|██████████████████████████████████████████████████████████████████████████████████| 62/62 [00:08<00:00,  7.23it/s]\n"
     ]
    },
    {
     "name": "stdout",
     "output_type": "stream",
     "text": [
      "epoch: 4/50, train_loss: 15.373117446899414, F1_train: 0.11319947833369569 F1_val: 0.0\n"
     ]
    },
    {
     "name": "stderr",
     "output_type": "stream",
     "text": [
      "100%|██████████████████████████████████████████████████████████████████████████████████| 62/62 [00:08<00:00,  7.17it/s]\n"
     ]
    },
    {
     "name": "stdout",
     "output_type": "stream",
     "text": [
      "epoch: 5/50, train_loss: 15.411981582641602, F1_train: 0.1153285633133469 F1_val: 0.0\n"
     ]
    },
    {
     "name": "stderr",
     "output_type": "stream",
     "text": [
      "100%|██████████████████████████████████████████████████████████████████████████████████| 62/62 [00:08<00:00,  7.25it/s]\n"
     ]
    },
    {
     "name": "stdout",
     "output_type": "stream",
     "text": [
      "epoch: 6/50, train_loss: 15.366006851196289, F1_train: 0.11068967286637937 F1_val: 0.0\n"
     ]
    },
    {
     "data": {
      "image/png": "[encoded data removed]",
      "text/plain": [
       "<Figure size 1080x360 with 2 Axes>"
      ]
     },
     "metadata": {
      "needs_background": "light"
     },
     "output_type": "display_data"
    },
    {
     "ename": "ValueError",
     "evalue": "Attempt to convert a value (None) with an unsupported type (<class 'NoneType'>) to a Tensor.",
     "output_type": "error",
     "traceback": [
      "\u001b[1;31m---------------------------------------------------------------------------\u001b[0m",
      "\u001b[1;31mValueError\u001b[0m                                Traceback (most recent call last)",
      "Input \u001b[1;32mIn [24]\u001b[0m, in \u001b[0;36m<cell line: 2>\u001b[1;34m()\u001b[0m\n\u001b[0;32m      1\u001b[0m comment\u001b[38;5;241m=\u001b[39m\u001b[38;5;124m\"\u001b[39m\u001b[38;5;124msgd optimizer with  LR=2 and embeds-ze=2\u001b[39m\u001b[38;5;124m\"\u001b[39m\n\u001b[1;32m----> 2\u001b[0m test_data, oset \u001b[38;5;241m=\u001b[39m \u001b[43moset_train\u001b[49m\u001b[43m(\u001b[49m\u001b[43mablation\u001b[49m\u001b[38;5;241;43m=\u001b[39;49m\u001b[38;5;241;43m500\u001b[39;49m\u001b[43m,\u001b[49m\u001b[43mdesignated_ukc_cls\u001b[49m\u001b[38;5;241;43m=\u001b[39;49m\u001b[38;5;241;43m5\u001b[39;49m\u001b[43m,\u001b[49m\u001b[43mnum_classes\u001b[49m\u001b[38;5;241;43m=\u001b[39;49m\u001b[38;5;241;43m5\u001b[39;49m\u001b[43m,\u001b[49m\u001b[43membedding_size\u001b[49m\u001b[38;5;241;43m=\u001b[39;49m\u001b[38;5;241;43m2\u001b[39;49m\u001b[43m,\u001b[49m\n\u001b[0;32m      3\u001b[0m \u001b[43m                             \u001b[49m\u001b[43mlr_rate\u001b[49m\u001b[38;5;241;43m=\u001b[39;49m\u001b[38;5;241;43m2\u001b[39;49m\u001b[43m,\u001b[49m\u001b[43m \u001b[49m\u001b[43moptimizer\u001b[49m\u001b[38;5;241;43m=\u001b[39;49m\u001b[38;5;124;43m'\u001b[39;49m\u001b[38;5;124;43msgd\u001b[39;49m\u001b[38;5;124;43m'\u001b[39;49m\u001b[43m,\u001b[49m\n\u001b[0;32m      4\u001b[0m \u001b[43mpretrain_epochs\u001b[49m\u001b[38;5;241;43m=\u001b[39;49m\u001b[38;5;241;43m14\u001b[39;49m\u001b[43m,\u001b[49m\u001b[43moctrain_epochs\u001b[49m\u001b[38;5;241;43m=\u001b[39;49m\u001b[38;5;241;43m50\u001b[39;49m\u001b[43m,\u001b[49m\u001b[43m \u001b[49m\u001b[43mwait_patient\u001b[49m\u001b[38;5;241;43m=\u001b[39;49m\u001b[38;5;241;43m6\u001b[39;49m\u001b[43m,\u001b[49m\u001b[43m \u001b[49m\u001b[43mcomment\u001b[49m\u001b[38;5;241;43m=\u001b[39;49m\u001b[43mcomment\u001b[49m\u001b[43m)\u001b[49m\n",
      "Input \u001b[1;32mIn [13]\u001b[0m, in \u001b[0;36moset_train\u001b[1;34m(ablation, designated_ukc_cls, num_classes, embedding_size, lr_rate, optimizer, pretrain_epochs, octrain_epochs, wait_patient, debug, tracker, comment)\u001b[0m\n\u001b[0;32m     29\u001b[0m oset \u001b[38;5;241m=\u001b[39m OpenSet(num_classes, ptmodel, embedding_size\u001b[38;5;241m=\u001b[39membedding_size)\n\u001b[0;32m     30\u001b[0m _, _ \u001b[38;5;241m=\u001b[39m oset\u001b[38;5;241m.\u001b[39mtrain(train_data,data_val\u001b[38;5;241m=\u001b[39mval_data, epochs\u001b[38;5;241m=\u001b[39moctrain_epochs, lr_rate\u001b[38;5;241m=\u001b[39mlr_rate, wait_patient\u001b[38;5;241m=\u001b[39mwait_patient, optimizer\u001b[38;5;241m=\u001b[39moptimizer)\n\u001b[1;32m---> 31\u001b[0m _, _, f1_weighted, f_measure \u001b[38;5;241m=\u001b[39m \u001b[43moset\u001b[49m\u001b[38;5;241;43m.\u001b[39;49m\u001b[43mevaluate\u001b[49m\u001b[43m(\u001b[49m\u001b[43mtest_data\u001b[49m\u001b[43m,\u001b[49m\u001b[43m \u001b[49m\u001b[43mukc_label\u001b[49m\u001b[38;5;241;43m=\u001b[39;49m\u001b[43mdesignated_ukc_cls\u001b[49m\u001b[43m)\u001b[49m\n\u001b[0;32m     32\u001b[0m lst \u001b[38;5;241m=\u001b[39m \u001b[38;5;28mlist\u001b[39m(tf\u001b[38;5;241m.\u001b[39mreshape(oset\u001b[38;5;241m.\u001b[39mradius, (\u001b[38;5;241m1\u001b[39m, num_classes))\u001b[38;5;241m.\u001b[39mnumpy()[\u001b[38;5;241m0\u001b[39m])\n\u001b[0;32m     33\u001b[0m lst \u001b[38;5;241m=\u001b[39m [\u001b[38;5;28mstr\u001b[39m(i) \u001b[38;5;28;01mfor\u001b[39;00m i \u001b[38;5;129;01min\u001b[39;00m lst]\n",
      "File \u001b[1;32m~\\MyDev\\OCLog\\oclog\\openset\\opensetv6.py:186\u001b[0m, in \u001b[0;36mOpenSet.evaluate\u001b[1;34m(self, data, debug, zero_div, ukc_label)\u001b[0m\n\u001b[0;32m    184\u001b[0m logseq_batch, label_batch \u001b[38;5;241m=\u001b[39m batch\n\u001b[0;32m    185\u001b[0m features_batch \u001b[38;5;241m=\u001b[39m \u001b[38;5;28mself\u001b[39m\u001b[38;5;241m.\u001b[39mget_pretrained_features(logseq_batch)\n\u001b[1;32m--> 186\u001b[0m preds_np \u001b[38;5;241m=\u001b[39m \u001b[38;5;28;43mself\u001b[39;49m\u001b[38;5;241;43m.\u001b[39;49m\u001b[43mopenpredict\u001b[49m\u001b[43m(\u001b[49m\u001b[43mfeatures_batch\u001b[49m\u001b[43m,\u001b[49m\u001b[43m \u001b[49m\u001b[43mdebug\u001b[49m\u001b[38;5;241;43m=\u001b[39;49m\u001b[38;5;28;43;01mFalse\u001b[39;49;00m\u001b[43m)\u001b[49m            \n\u001b[0;32m    187\u001b[0m label_indexs \u001b[38;5;241m=\u001b[39m tf\u001b[38;5;241m.\u001b[39mmath\u001b[38;5;241m.\u001b[39margmax(label_batch, axis\u001b[38;5;241m=\u001b[39m\u001b[38;5;241m1\u001b[39m)\n\u001b[0;32m    188\u001b[0m label_index_np \u001b[38;5;241m=\u001b[39m label_indexs\u001b[38;5;241m.\u001b[39mnumpy()\n",
      "File \u001b[1;32m~\\MyDev\\OCLog\\oclog\\openset\\opensetv6.py:154\u001b[0m, in \u001b[0;36mOpenSet.openpredict\u001b[1;34m(self, features, debug)\u001b[0m\n\u001b[0;32m    153\u001b[0m \u001b[38;5;28;01mdef\u001b[39;00m \u001b[38;5;21mopenpredict\u001b[39m(\u001b[38;5;28mself\u001b[39m, features, debug\u001b[38;5;241m=\u001b[39m\u001b[38;5;28;01mTrue\u001b[39;00m):\n\u001b[1;32m--> 154\u001b[0m     logits \u001b[38;5;241m=\u001b[39m \u001b[43meuclidean_metric\u001b[49m\u001b[43m(\u001b[49m\u001b[43mfeatures\u001b[49m\u001b[43m,\u001b[49m\u001b[43m \u001b[49m\u001b[38;5;28;43mself\u001b[39;49m\u001b[38;5;241;43m.\u001b[39;49m\u001b[43mcentroids\u001b[49m\u001b[43m)\u001b[49m\n\u001b[0;32m    155\u001b[0m     \u001b[38;5;66;03m####original line in pytorch ###probs, preds = F.softmax(logits.detach(), dim = 1).max(dim = 1)\u001b[39;00m\n\u001b[0;32m    156\u001b[0m     smax \u001b[38;5;241m=\u001b[39m tf\u001b[38;5;241m.\u001b[39mnn\u001b[38;5;241m.\u001b[39msoftmax(logits, )\n",
      "File \u001b[1;32m~\\MyDev\\OCLog\\oclog\\openset\\boundary_loss.py:20\u001b[0m, in \u001b[0;36meuclidean_metric\u001b[1;34m(a, b)\u001b[0m\n\u001b[0;32m     18\u001b[0m \u001b[38;5;28;01mdef\u001b[39;00m \u001b[38;5;21meuclidean_metric\u001b[39m(a, b):\n\u001b[0;32m     19\u001b[0m     a \u001b[38;5;241m=\u001b[39m tf\u001b[38;5;241m.\u001b[39mexpand_dims(a, \u001b[38;5;241m1\u001b[39m)\n\u001b[1;32m---> 20\u001b[0m     b \u001b[38;5;241m=\u001b[39m \u001b[43mtf\u001b[49m\u001b[38;5;241;43m.\u001b[39;49m\u001b[43mexpand_dims\u001b[49m\u001b[43m(\u001b[49m\u001b[43mb\u001b[49m\u001b[43m,\u001b[49m\u001b[43m \u001b[49m\u001b[38;5;241;43m0\u001b[39;49m\u001b[43m)\u001b[49m\n\u001b[0;32m     21\u001b[0m \u001b[38;5;66;03m#     logits = -((a - b)**2).sum(dim=2)\u001b[39;00m\n\u001b[0;32m     22\u001b[0m     logits \u001b[38;5;241m=\u001b[39m tf\u001b[38;5;241m.\u001b[39mmath\u001b[38;5;241m.\u001b[39mreduce_sum(\u001b[38;5;241m-\u001b[39mtf\u001b[38;5;241m.\u001b[39mmath\u001b[38;5;241m.\u001b[39msquare(a \u001b[38;5;241m-\u001b[39m b), axis\u001b[38;5;241m=\u001b[39m\u001b[38;5;241m2\u001b[39m)\n",
      "File \u001b[1;32m~\\venv1\\lib\\site-packages\\tensorflow\\python\\util\\traceback_utils.py:153\u001b[0m, in \u001b[0;36mfilter_traceback.<locals>.error_handler\u001b[1;34m(*args, **kwargs)\u001b[0m\n\u001b[0;32m    151\u001b[0m \u001b[38;5;28;01mexcept\u001b[39;00m \u001b[38;5;167;01mException\u001b[39;00m \u001b[38;5;28;01mas\u001b[39;00m e:\n\u001b[0;32m    152\u001b[0m   filtered_tb \u001b[38;5;241m=\u001b[39m _process_traceback_frames(e\u001b[38;5;241m.\u001b[39m__traceback__)\n\u001b[1;32m--> 153\u001b[0m   \u001b[38;5;28;01mraise\u001b[39;00m e\u001b[38;5;241m.\u001b[39mwith_traceback(filtered_tb) \u001b[38;5;28;01mfrom\u001b[39;00m \u001b[38;5;28mNone\u001b[39m\n\u001b[0;32m    154\u001b[0m \u001b[38;5;28;01mfinally\u001b[39;00m:\n\u001b[0;32m    155\u001b[0m   \u001b[38;5;28;01mdel\u001b[39;00m filtered_tb\n",
      "File \u001b[1;32m~\\venv1\\lib\\site-packages\\tensorflow\\python\\framework\\constant_op.py:102\u001b[0m, in \u001b[0;36mconvert_to_eager_tensor\u001b[1;34m(value, ctx, dtype)\u001b[0m\n\u001b[0;32m    100\u001b[0m     dtype \u001b[38;5;241m=\u001b[39m dtypes\u001b[38;5;241m.\u001b[39mas_dtype(dtype)\u001b[38;5;241m.\u001b[39mas_datatype_enum\n\u001b[0;32m    101\u001b[0m ctx\u001b[38;5;241m.\u001b[39mensure_initialized()\n\u001b[1;32m--> 102\u001b[0m \u001b[38;5;28;01mreturn\u001b[39;00m \u001b[43mops\u001b[49m\u001b[38;5;241;43m.\u001b[39;49m\u001b[43mEagerTensor\u001b[49m\u001b[43m(\u001b[49m\u001b[43mvalue\u001b[49m\u001b[43m,\u001b[49m\u001b[43m \u001b[49m\u001b[43mctx\u001b[49m\u001b[38;5;241;43m.\u001b[39;49m\u001b[43mdevice_name\u001b[49m\u001b[43m,\u001b[49m\u001b[43m \u001b[49m\u001b[43mdtype\u001b[49m\u001b[43m)\u001b[49m\n",
      "\u001b[1;31mValueError\u001b[0m: Attempt to convert a value (None) with an unsupported type (<class 'NoneType'>) to a Tensor."
     ]
    }
   ],
   "source": [
    "comment=\"sgd optimizer with  LR=2 and embeds-ze=2\"\n",
    "test_data, oset = oset_train(ablation=500,designated_ukc_cls=5,num_classes=5,embedding_size=2,\n",
    "                             lr_rate=2, optimizer='sgd',\n",
    "pretrain_epochs=14,octrain_epochs=50, wait_patient=6, comment=comment)"
   ]
  },
  {
   "cell_type": "code",
   "execution_count": null,
   "id": "9ce42015-dbe6-4026-acde-156903080ce1",
   "metadata": {},
   "outputs": [],
   "source": []
  },
  {
   "cell_type": "code",
   "execution_count": null,
   "id": "b4da138e-b959-4d1a-acb4-33ef92d92ae3",
   "metadata": {},
   "outputs": [],
   "source": []
  },
  {
   "cell_type": "code",
   "execution_count": null,
   "id": "6f794452-d89c-4144-b9ad-ee6e783bb17f",
   "metadata": {},
   "outputs": [],
   "source": []
  },
  {
   "cell_type": "code",
   "execution_count": null,
   "id": "c0a00bed-8bb3-4f05-b718-7869270cd956",
   "metadata": {},
   "outputs": [],
   "source": []
  },
  {
   "cell_type": "code",
   "execution_count": null,
   "id": "c30d63d1-68f5-49ab-a9bd-3dcdbc0a229e",
   "metadata": {},
   "outputs": [],
   "source": []
  },
  {
   "cell_type": "code",
   "execution_count": null,
   "id": "c299eaa8-3775-4051-a56f-2d3ffbd1b1a2",
   "metadata": {},
   "outputs": [],
   "source": []
  },
  {
   "cell_type": "code",
   "execution_count": null,
   "id": "1e82b2f3-dcdc-456f-bd59-d882221a39e3",
   "metadata": {},
   "outputs": [],
   "source": []
  },
  {
   "cell_type": "code",
   "execution_count": null,
   "id": "4e5762b7-846c-45b9-866a-06ceab80bffe",
   "metadata": {},
   "outputs": [],
   "source": []
  },
  {
   "cell_type": "code",
   "execution_count": null,
   "id": "83fae742-b014-4cb7-b786-b19d5689e8bc",
   "metadata": {},
   "outputs": [],
   "source": []
  },
  {
   "cell_type": "code",
   "execution_count": 7,
   "id": "192fdeb4-337a-40e8-9b4e-dcfb91de8a15",
   "metadata": {},
   "outputs": [
    {
     "name": "stdout",
     "output_type": "stream",
     "text": [
      "e (-2147352567, 'Exception occurred.', (0, 'Microsoft Excel', \"Sorry, we couldn't find tracker.xlsx. Is it possible it was moved, renamed or deleted?\", 'xlmain11.chm', 0, -2146827284), None)\n"
     ]
    }
   ],
   "source": [
    "import os\n",
    "from win32com import client\n",
    "cmd = os.system(\"start /wait cmd /c {command}\")\n",
    "try:\n",
    "    xl = client.Dispatch(\"Excel.Application\")\n",
    "    wb = xl.Workbooks.Open(Filename='tracker.xlsx')\n",
    "    # Do stuff\n",
    "    os_close = os.close()\n",
    "    try:\n",
    "        os_close\n",
    "        wb.close(SaveChanges=0)\n",
    "    except NameError:\n",
    "        print('NameError',NameError)\n",
    "\n",
    "except Exception as e:\n",
    "    print('e',e)"
   ]
  },
  {
   "cell_type": "code",
   "execution_count": 5,
   "id": "7338fd1a-d99e-48b6-909b-87037ad13e3f",
   "metadata": {},
   "outputs": [],
   "source": []
  }
 ],
 "metadata": {
  "kernelspec": {
   "display_name": "Python 3 (ipykernel)",
   "language": "python",
   "name": "python3"
  },
  "language_info": {
   "codemirror_mode": {
    "name": "ipython",
    "version": 3
   },
   "file_extension": ".py",
   "mimetype": "text/x-python",
   "name": "python",
   "nbconvert_exporter": "python",
   "pygments_lexer": "ipython3",
   "version": "3.9.12"
  }
 },
 "nbformat": 4,
 "nbformat_minor": 5
}
