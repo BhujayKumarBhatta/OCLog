{
 "cells": [
  {
   "cell_type": "code",
   "execution_count": 1,
   "id": "f8bd37c0-54f3-4edf-8517-10b7b8285fe1",
   "metadata": {},
   "outputs": [],
   "source": [
    "import os, sys\n",
    "cur_dir = os.getcwd()\n",
    "basename = os.path.basename(cur_dir)\n",
    "for _ in range(5):\n",
    "    if basename != 'OCLog':\n",
    "        cur_dir = os.path.dirname(cur_dir)\n",
    "        basename = os.path.basename(cur_dir)\n",
    "        #print(cur_dir, basename)\n",
    "    else:\n",
    "        if cur_dir not in sys.path:\n",
    "            sys.path.append(cur_dir)\n",
    "            #print(sys.path)\n",
    "import os\n",
    "from openpyxl import Workbook\n",
    "from openpyxl import load_workbook\n",
    "import pandas as pd\n",
    "import numpy as np\n",
    "import matplotlib.pyplot as plt\n",
    "import seaborn as sns\n",
    "import tensorflow as tf\n",
    "from tqdm import trange, tqdm, tnrange\n",
    "from oclog.BGL.bglogUKC import BGLog, get_embedding_layer\n",
    "from oclog.openset.boundary_loss import euclidean_metric, BoundaryLoss\n",
    "from oclog.openset.pretraining import LogLineEncoder, LogSeqEncoder, LogClassifier\n",
    "# from oclog.openset.openset import OpenSet\n",
    "from oclog.openset.opensetv6 import OpenSet\n",
    "from sklearn.metrics import confusion_matrix, f1_score, accuracy_score\n",
    "import sklearn.metrics as m\n",
    "import warnings\n",
    "warnings.filterwarnings('ignore')\n",
    "def update_tracker(file_name, data):\n",
    "    if os.path.exists(file_name):\n",
    "        wb = load_workbook(file_name)\n",
    "    else:\n",
    "        wb = Workbook()    \n",
    "    wb.save(file_name)\n",
    "    # wb.close(file_name)\n",
    "    orig_df = pd.read_excel(file_name,)\n",
    "    #print(orig_df.head())\n",
    "    new_df = pd.DataFrame(data, )\n",
    "    concat_df = pd.concat([orig_df, new_df], axis=0)\n",
    "    #print(concat_df.head())\n",
    "    concat_df.to_excel(file_name)\n",
    "    return concat_df\n",
    "\n",
    "def oset_train(ablation=5000,designated_ukc_cls=3,num_classes=2,embedding_size=128,lr_rate=3,optimizer='sgd',\n",
    "pretrain_epochs=3,octrain_epochs=50,wait_patient=3, debug=False, tracker='tracker.xlsx', comment=''):\n",
    "    tf.random.set_seed(1234)\n",
    "    np.random.seed(1234) \n",
    "    bglog = BGLog(save_padded_num_sequences=False, debug=debug,  load_from_pkl=True, )\n",
    "    train_test = bglog.get_tensor_train_val_test(ablation=ablation, designated_ukc_cls=designated_ukc_cls )\n",
    "    train_data, val_data, test_data = train_test\n",
    "    line_encoder = LogLineEncoder(bglog, chars_in_line=64)\n",
    "    logSeqencer =  LogSeqEncoder(line_in_seq=32, dense_neurons=embedding_size)\n",
    "    ptmodel = LogClassifier(line_encoder=line_encoder, seq_encoder=logSeqencer, num_classes=num_classes)\n",
    "    ptmodel.compile(optimizer='adam', loss='categorical_crossentropy',\n",
    "                  metrics=['accuracy', tf.keras.metrics.Precision(), tf.keras.metrics.Recall()])\n",
    "    hist = ptmodel.fit(train_data, validation_data=val_data, epochs=pretrain_epochs)    \n",
    "    oset = OpenSet(num_classes, ptmodel, embedding_size=embedding_size)\n",
    "    _, _ = oset.train(train_data,data_val=val_data, epochs=octrain_epochs, lr_rate=lr_rate, wait_patient=wait_patient, optimizer=optimizer)\n",
    "    _, _, f1_weighted, f_measure = oset.evaluate(test_data, ukc_label=designated_ukc_cls)\n",
    "    lst = list(tf.reshape(oset.radius, (1, num_classes)).numpy()[0])\n",
    "    lst = [str(i) for i in lst]\n",
    "    radius = ','.join(lst)\n",
    "    loss = oset.losses[len(oset.losses)-1].numpy()\n",
    "    tracker_data = {'ablation':[ablation],'designated_ukc_cls': [designated_ukc_cls],'num_classes': [num_classes],\n",
    "                   'embedding_size': [embedding_size], 'lr_rate': [lr_rate], 'optimizer': [optimizer],\n",
    "                    'pretrain_epochs': [pretrain_epochs],'octrain_epochs': [octrain_epochs], 'wait_patient': [wait_patient], \n",
    "                   'f1_weighted': [f1_weighted], 'f1_macro': f_measure.get('F1-score'), \n",
    "                   'F1Known': f_measure.get('Known'), 'F1Open': f_measure.get('Open'), 'loss':[loss], 'Radius': radius,\n",
    "                   'comment': comment}\n",
    "    update_tracker(tracker, tracker_data)\n",
    "    return test_data, oset"
   ]
  },
  {
   "cell_type": "code",
   "execution_count": 4,
   "id": "9961665e-610e-4e18-a4a9-a56b55130ce4",
   "metadata": {},
   "outputs": [
    {
     "name": "stdout",
     "output_type": "stream",
     "text": [
      "padded_num_seq_df loaded from C:\\Users\\Bhujay_ROG\\MyDev\\OCLog\\oclog\\BGL\\data\\bgl_ukc.pkl\n",
      "trained tokenizer, tk, loaded from C:\\Users\\Bhujay_ROG\\MyDev\\OCLog\\oclog\\BGL\\data\\bgltkukc.pkl\n",
      "train_0:, 400\n",
      "val_0:, 50\n",
      "test_0:, 50\n",
      "train_1:, 400\n",
      "val_1:, 50\n",
      "test_1:, 50\n",
      "train_2:, 400\n",
      "val_2:, 50\n",
      "test_2:, 50\n",
      "train_3:, 400\n",
      "val_3:, 50\n",
      "test_3:, 50\n",
      "train_4:, 400\n",
      "val_4:, 50\n",
      "test_4:, 50\n",
      "class 6 is added as ukc\n",
      "ukc_6:, 50\n",
      "vocab_size: 50\n",
      "Epoch 1/14\n",
      "62/62 [==============================] - 8s 99ms/step - loss: 1.1837 - accuracy: 0.5585 - precision_2: 0.9676 - recall_2: 0.2858 - val_loss: 1.0390 - val_accuracy: 0.6250 - val_precision_2: 1.0000 - val_recall_2: 0.3839\n",
      "Epoch 2/14\n",
      "62/62 [==============================] - 6s 99ms/step - loss: 0.6789 - accuracy: 0.7505 - precision_2: 0.9445 - recall_2: 0.6008 - val_loss: 0.5300 - val_accuracy: 0.8527 - val_precision_2: 0.9563 - val_recall_2: 0.7812\n",
      "Epoch 3/14\n",
      "62/62 [==============================] - 6s 96ms/step - loss: 0.4606 - accuracy: 0.8735 - precision_2: 0.9428 - recall_2: 0.7555 - val_loss: 0.4238 - val_accuracy: 0.8348 - val_precision_2: 0.9389 - val_recall_2: 0.7545\n",
      "Epoch 4/14\n",
      "62/62 [==============================] - 6s 94ms/step - loss: 0.3701 - accuracy: 0.9168 - precision_2: 0.9487 - recall_2: 0.7732 - val_loss: 0.3190 - val_accuracy: 0.9152 - val_precision_2: 0.9777 - val_recall_2: 0.7812\n",
      "Epoch 5/14\n",
      "62/62 [==============================] - 6s 95ms/step - loss: 0.3092 - accuracy: 0.8810 - precision_2: 0.9242 - recall_2: 0.7989 - val_loss: 0.2210 - val_accuracy: 0.8527 - val_precision_2: 0.8524 - val_recall_2: 0.7991\n",
      "Epoch 6/14\n",
      "62/62 [==============================] - 6s 95ms/step - loss: 0.2034 - accuracy: 0.9335 - precision_2: 0.9388 - recall_2: 0.9209 - val_loss: 0.1705 - val_accuracy: 0.9598 - val_precision_2: 0.9729 - val_recall_2: 0.9598\n",
      "Epoch 7/14\n",
      "62/62 [==============================] - 6s 95ms/step - loss: 0.1519 - accuracy: 0.9486 - precision_2: 0.9495 - recall_2: 0.9486 - val_loss: 0.0655 - val_accuracy: 1.0000 - val_precision_2: 1.0000 - val_recall_2: 1.0000\n",
      "Epoch 8/14\n",
      "62/62 [==============================] - 6s 97ms/step - loss: 0.1127 - accuracy: 0.9647 - precision_2: 0.9652 - recall_2: 0.9647 - val_loss: 0.0189 - val_accuracy: 1.0000 - val_precision_2: 1.0000 - val_recall_2: 1.0000\n",
      "Epoch 9/14\n",
      "62/62 [==============================] - 6s 96ms/step - loss: 0.0743 - accuracy: 0.9763 - precision_2: 0.9763 - recall_2: 0.9763 - val_loss: 0.0746 - val_accuracy: 0.9688 - val_precision_2: 0.9688 - val_recall_2: 0.9688\n",
      "Epoch 10/14\n",
      "62/62 [==============================] - 6s 97ms/step - loss: 0.0527 - accuracy: 0.9819 - precision_2: 0.9819 - recall_2: 0.9819 - val_loss: 0.2418 - val_accuracy: 0.8884 - val_precision_2: 0.8884 - val_recall_2: 0.8884\n",
      "Epoch 11/14\n",
      "62/62 [==============================] - 6s 99ms/step - loss: 0.0796 - accuracy: 0.9743 - precision_2: 0.9743 - recall_2: 0.9743 - val_loss: 0.0190 - val_accuracy: 0.9911 - val_precision_2: 0.9911 - val_recall_2: 0.9911\n",
      "Epoch 12/14\n",
      "62/62 [==============================] - 6s 96ms/step - loss: 0.0549 - accuracy: 0.9798 - precision_2: 0.9798 - recall_2: 0.9798 - val_loss: 0.0444 - val_accuracy: 0.9955 - val_precision_2: 0.9955 - val_recall_2: 0.9955\n",
      "Epoch 13/14\n",
      "62/62 [==============================] - 6s 105ms/step - loss: 0.0360 - accuracy: 0.9884 - precision_2: 0.9884 - recall_2: 0.9884 - val_loss: 0.0269 - val_accuracy: 0.9866 - val_precision_2: 0.9866 - val_recall_2: 0.9866\n",
      "Epoch 14/14\n",
      "62/62 [==============================] - 6s 99ms/step - loss: 0.0390 - accuracy: 0.9879 - precision_2: 0.9879 - recall_2: 0.9879 - val_loss: 0.0581 - val_accuracy: 0.9866 - val_precision_2: 0.9866 - val_recall_2: 0.9866\n"
     ]
    },
    {
     "name": "stderr",
     "output_type": "stream",
     "text": [
      "100%|██████████████████████████████████████████████████████████████████████████████████| 62/62 [00:08<00:00,  7.43it/s]\n"
     ]
    },
    {
     "name": "stdout",
     "output_type": "stream",
     "text": [
      "epoch: 1/50, train_loss: 15.401331901550293, F1_train: 0.5670769657912151 F1_val: 0.38378803237635833\n"
     ]
    },
    {
     "name": "stderr",
     "output_type": "stream",
     "text": [
      "100%|██████████████████████████████████████████████████████████████████████████████████| 62/62 [00:08<00:00,  7.10it/s]\n"
     ]
    },
    {
     "name": "stdout",
     "output_type": "stream",
     "text": [
      "epoch: 2/50, train_loss: 15.378965377807617, F1_train: 0.6811872947056258 F1_val: 0.513938053291492\n"
     ]
    },
    {
     "name": "stderr",
     "output_type": "stream",
     "text": [
      "100%|██████████████████████████████████████████████████████████████████████████████████| 62/62 [00:08<00:00,  7.17it/s]\n"
     ]
    },
    {
     "name": "stdout",
     "output_type": "stream",
     "text": [
      "epoch: 3/50, train_loss: 15.374783515930176, F1_train: 0.7155560865938567 F1_val: 0.5951806440015098\n"
     ]
    },
    {
     "name": "stderr",
     "output_type": "stream",
     "text": [
      "100%|██████████████████████████████████████████████████████████████████████████████████| 62/62 [00:08<00:00,  7.32it/s]\n"
     ]
    },
    {
     "name": "stdout",
     "output_type": "stream",
     "text": [
      "epoch: 4/50, train_loss: 15.373117446899414, F1_train: 0.7421545116184292 F1_val: 0.6617546419629753\n"
     ]
    },
    {
     "name": "stderr",
     "output_type": "stream",
     "text": [
      "100%|██████████████████████████████████████████████████████████████████████████████████| 62/62 [00:08<00:00,  7.34it/s]\n"
     ]
    },
    {
     "name": "stdout",
     "output_type": "stream",
     "text": [
      "epoch: 5/50, train_loss: 15.411981582641602, F1_train: 0.7687872107020708 F1_val: 0.7104710095693496\n"
     ]
    },
    {
     "name": "stderr",
     "output_type": "stream",
     "text": [
      "100%|██████████████████████████████████████████████████████████████████████████████████| 62/62 [00:09<00:00,  6.80it/s]\n"
     ]
    },
    {
     "name": "stdout",
     "output_type": "stream",
     "text": [
      "epoch: 6/50, train_loss: 15.366006851196289, F1_train: 0.7880662474031781 F1_val: 0.7379668617728712\n"
     ]
    },
    {
     "name": "stderr",
     "output_type": "stream",
     "text": [
      "100%|██████████████████████████████████████████████████████████████████████████████████| 62/62 [00:08<00:00,  7.37it/s]\n"
     ]
    },
    {
     "name": "stdout",
     "output_type": "stream",
     "text": [
      "epoch: 7/50, train_loss: 15.368725776672363, F1_train: 0.8076298927192748 F1_val: 0.7730650192769416\n"
     ]
    },
    {
     "name": "stderr",
     "output_type": "stream",
     "text": [
      "100%|██████████████████████████████████████████████████████████████████████████████████| 62/62 [00:08<00:00,  7.40it/s]\n"
     ]
    },
    {
     "name": "stdout",
     "output_type": "stream",
     "text": [
      "epoch: 8/50, train_loss: 15.362293243408203, F1_train: 0.8283090824518694 F1_val: 0.8110114832010655\n"
     ]
    },
    {
     "name": "stderr",
     "output_type": "stream",
     "text": [
      "100%|██████████████████████████████████████████████████████████████████████████████████| 62/62 [00:08<00:00,  7.45it/s]\n"
     ]
    },
    {
     "name": "stdout",
     "output_type": "stream",
     "text": [
      "epoch: 9/50, train_loss: 15.384124755859375, F1_train: 0.8445650505365812 F1_val: 0.8587975911457028\n"
     ]
    },
    {
     "name": "stderr",
     "output_type": "stream",
     "text": [
      "100%|██████████████████████████████████████████████████████████████████████████████████| 62/62 [00:08<00:00,  7.46it/s]\n"
     ]
    },
    {
     "name": "stdout",
     "output_type": "stream",
     "text": [
      "epoch: 10/50, train_loss: 15.370051383972168, F1_train: 0.8629159195453958 F1_val: 0.8731684788394152\n"
     ]
    },
    {
     "name": "stderr",
     "output_type": "stream",
     "text": [
      "100%|██████████████████████████████████████████████████████████████████████████████████| 62/62 [00:08<00:00,  7.49it/s]\n"
     ]
    },
    {
     "name": "stdout",
     "output_type": "stream",
     "text": [
      "epoch: 11/50, train_loss: 15.4132719039917, F1_train: 0.8791265073889696 F1_val: 0.9199757151569468\n"
     ]
    },
    {
     "name": "stderr",
     "output_type": "stream",
     "text": [
      "100%|██████████████████████████████████████████████████████████████████████████████████| 62/62 [00:08<00:00,  7.46it/s]\n"
     ]
    },
    {
     "name": "stdout",
     "output_type": "stream",
     "text": [
      "epoch: 12/50, train_loss: 15.261612892150879, F1_train: 0.8969073332899724 F1_val: 0.9236912886587036\n"
     ]
    },
    {
     "name": "stderr",
     "output_type": "stream",
     "text": [
      "100%|██████████████████████████████████████████████████████████████████████████████████| 62/62 [00:08<00:00,  7.46it/s]\n"
     ]
    },
    {
     "name": "stdout",
     "output_type": "stream",
     "text": [
      "epoch: 13/50, train_loss: 15.36155891418457, F1_train: 0.9079187552592771 F1_val: 0.9429304821483845\n"
     ]
    },
    {
     "name": "stderr",
     "output_type": "stream",
     "text": [
      "100%|██████████████████████████████████████████████████████████████████████████████████| 62/62 [00:08<00:00,  7.45it/s]\n"
     ]
    },
    {
     "name": "stdout",
     "output_type": "stream",
     "text": [
      "epoch: 14/50, train_loss: 15.333009719848633, F1_train: 0.9148541437025186 F1_val: 0.9429495355834642\n"
     ]
    },
    {
     "name": "stderr",
     "output_type": "stream",
     "text": [
      "100%|██████████████████████████████████████████████████████████████████████████████████| 62/62 [00:08<00:00,  7.45it/s]\n"
     ]
    },
    {
     "name": "stdout",
     "output_type": "stream",
     "text": [
      "epoch: 15/50, train_loss: 15.40660285949707, F1_train: 0.9204661142459724 F1_val: 0.9428981382500489\n"
     ]
    },
    {
     "name": "stderr",
     "output_type": "stream",
     "text": [
      "100%|██████████████████████████████████████████████████████████████████████████████████| 62/62 [00:08<00:00,  7.45it/s]\n"
     ]
    },
    {
     "name": "stdout",
     "output_type": "stream",
     "text": [
      "epoch: 16/50, train_loss: 15.347530364990234, F1_train: 0.9250063607700418 F1_val: 0.9513153974190366\n"
     ]
    },
    {
     "name": "stderr",
     "output_type": "stream",
     "text": [
      "100%|██████████████████████████████████████████████████████████████████████████████████| 62/62 [00:08<00:00,  7.45it/s]\n"
     ]
    },
    {
     "name": "stdout",
     "output_type": "stream",
     "text": [
      "epoch: 17/50, train_loss: 15.367637634277344, F1_train: 0.9287923173950601 F1_val: 0.9563741418877482\n"
     ]
    },
    {
     "name": "stderr",
     "output_type": "stream",
     "text": [
      "100%|██████████████████████████████████████████████████████████████████████████████████| 62/62 [00:08<00:00,  7.43it/s]\n"
     ]
    },
    {
     "name": "stdout",
     "output_type": "stream",
     "text": [
      "epoch: 18/50, train_loss: 15.36622428894043, F1_train: 0.9304016633550141 F1_val: 0.9562425777903452\n"
     ]
    },
    {
     "name": "stderr",
     "output_type": "stream",
     "text": [
      "100%|██████████████████████████████████████████████████████████████████████████████████| 62/62 [00:08<00:00,  7.49it/s]\n"
     ]
    },
    {
     "name": "stdout",
     "output_type": "stream",
     "text": [
      "epoch: 19/50, train_loss: 15.418876647949219, F1_train: 0.9310095655915205 F1_val: 0.9535792981341119\n"
     ]
    },
    {
     "name": "stderr",
     "output_type": "stream",
     "text": [
      "100%|██████████████████████████████████████████████████████████████████████████████████| 62/62 [00:08<00:00,  7.48it/s]\n"
     ]
    },
    {
     "name": "stdout",
     "output_type": "stream",
     "text": [
      "epoch: 20/50, train_loss: 15.400623321533203, F1_train: 0.9316469016804814 F1_val: 0.9592224058185196\n"
     ]
    },
    {
     "name": "stderr",
     "output_type": "stream",
     "text": [
      "100%|██████████████████████████████████████████████████████████████████████████████████| 62/62 [00:08<00:00,  7.50it/s]\n"
     ]
    },
    {
     "name": "stdout",
     "output_type": "stream",
     "text": [
      "epoch: 21/50, train_loss: 15.365967750549316, F1_train: 0.9315909930999736 F1_val: 0.9540613888587688\n"
     ]
    },
    {
     "name": "stderr",
     "output_type": "stream",
     "text": [
      "100%|██████████████████████████████████████████████████████████████████████████████████| 62/62 [00:08<00:00,  7.47it/s]\n"
     ]
    },
    {
     "name": "stdout",
     "output_type": "stream",
     "text": [
      "epoch: 22/50, train_loss: 15.392633438110352, F1_train: 0.9337984441225499 F1_val: 0.9566053026259962\n"
     ]
    },
    {
     "name": "stderr",
     "output_type": "stream",
     "text": [
      "100%|██████████████████████████████████████████████████████████████████████████████████| 62/62 [00:08<00:00,  7.51it/s]\n"
     ]
    },
    {
     "name": "stdout",
     "output_type": "stream",
     "text": [
      "epoch: 23/50, train_loss: 15.398951530456543, F1_train: 0.9340771565388029 F1_val: 0.9565372350154012\n"
     ]
    },
    {
     "name": "stderr",
     "output_type": "stream",
     "text": [
      "100%|██████████████████████████████████████████████████████████████████████████████████| 62/62 [00:08<00:00,  7.50it/s]\n"
     ]
    },
    {
     "name": "stdout",
     "output_type": "stream",
     "text": [
      "epoch: 24/50, train_loss: 15.418896675109863, F1_train: 0.9338253341943885 F1_val: 0.956585056647857\n"
     ]
    },
    {
     "name": "stderr",
     "output_type": "stream",
     "text": [
      "100%|██████████████████████████████████████████████████████████████████████████████████| 62/62 [00:08<00:00,  7.40it/s]\n"
     ]
    },
    {
     "name": "stdout",
     "output_type": "stream",
     "text": [
      "epoch: 25/50, train_loss: 15.373104095458984, F1_train: 0.9340307852369159 F1_val: 0.9566331475679528\n"
     ]
    },
    {
     "name": "stderr",
     "output_type": "stream",
     "text": [
      "100%|██████████████████████████████████████████████████████████████████████████████████| 62/62 [00:08<00:00,  7.33it/s]\n"
     ]
    },
    {
     "name": "stdout",
     "output_type": "stream",
     "text": [
      "epoch: 26/50, train_loss: 15.444339752197266, F1_train: 0.9346838043414831 F1_val: 0.9568402556764021\n"
     ]
    },
    {
     "data": {
      "image/png": "[encoded data removed]",
      "text/plain": [
       "<Figure size 1080x360 with 2 Axes>"
      ]
     },
     "metadata": {
      "needs_background": "light"
     },
     "output_type": "display_data"
    },
    {
     "name": "stdout",
     "output_type": "stream",
     "text": [
      "[[46  0  0  0  0  1]\n",
      " [ 0 49  0  0  0  0]\n",
      " [ 0  0 42  0  0  4]\n",
      " [ 0  0  0 33  0 13]\n",
      " [ 0  0  0  0 46  4]\n",
      " [ 0  2  0  0  0 48]]\n",
      "91.67\n",
      "f1_weighted: 0.9193429200642603, f1_macro: 0.919594856280238, f1_micro: 0.9166666666666666, f_measure: {'Known': 94.3514, 'Open': 80.0, 'F1-score': 91.9595}\n",
      "              precision    recall  f1-score   support\n",
      "\n",
      "           0       1.00      0.98      0.99        47\n",
      "           1       0.96      1.00      0.98        49\n",
      "           2       1.00      0.91      0.95        46\n",
      "           3       1.00      0.72      0.84        46\n",
      "           4       1.00      0.92      0.96        50\n",
      "           6       0.69      0.96      0.80        50\n",
      "\n",
      "    accuracy                           0.92       288\n",
      "   macro avg       0.94      0.91      0.92       288\n",
      "weighted avg       0.94      0.92      0.92       288\n",
      "\n"
     ]
    }
   ],
   "source": [
    "comment=\"changing the ukc class t0 6 with best setting of ablation 500\"\n",
    "test_data, oset = oset_train(ablation=500,designated_ukc_cls=6,num_classes=5,embedding_size=2,\n",
    "                             lr_rate=2, optimizer='nadam',\n",
    "pretrain_epochs=14,octrain_epochs=50, wait_patient=6, comment=comment)"
   ]
  },
  {
   "cell_type": "code",
   "execution_count": 5,
   "id": "ce10ae52-a2bf-4cd2-9b11-7d8544c60ba7",
   "metadata": {},
   "outputs": [
    {
     "name": "stdout",
     "output_type": "stream",
     "text": [
      "padded_num_seq_df loaded from C:\\Users\\Bhujay_ROG\\MyDev\\OCLog\\oclog\\BGL\\data\\bgl_ukc.pkl\n",
      "trained tokenizer, tk, loaded from C:\\Users\\Bhujay_ROG\\MyDev\\OCLog\\oclog\\BGL\\data\\bgltkukc.pkl\n",
      "train_0:, 480\n",
      "val_0:, 60\n",
      "test_0:, 60\n",
      "train_1:, 480\n",
      "val_1:, 60\n",
      "test_1:, 60\n",
      "train_2:, 480\n",
      "val_2:, 60\n",
      "test_2:, 60\n",
      "train_3:, 480\n",
      "val_3:, 60\n",
      "test_3:, 60\n",
      "train_4:, 480\n",
      "val_4:, 60\n",
      "test_4:, 60\n",
      "class 5 is added as ukc\n",
      "ukc_5:, 60\n",
      "vocab_size: 50\n",
      "Epoch 1/14\n",
      "75/75 [==============================] - 8s 95ms/step - loss: 1.3688 - accuracy: 0.3242 - precision_3: 0.8308 - recall_3: 0.1617 - val_loss: 1.0349 - val_accuracy: 0.4896 - val_precision_3: 0.9580 - val_recall_3: 0.3958\n",
      "Epoch 2/14\n",
      "75/75 [==============================] - 7s 92ms/step - loss: 0.8597 - accuracy: 0.6358 - precision_3: 0.8976 - recall_3: 0.4600 - val_loss: 0.6832 - val_accuracy: 0.7639 - val_precision_3: 0.9402 - val_recall_3: 0.6007\n",
      "Epoch 3/14\n",
      "75/75 [==============================] - 7s 96ms/step - loss: 0.7474 - accuracy: 0.7179 - precision_3: 0.9650 - recall_3: 0.5163 - val_loss: 0.6281 - val_accuracy: 0.8021 - val_precision_3: 0.9829 - val_recall_3: 0.5972\n",
      "Epoch 4/14\n",
      "75/75 [==============================] - 7s 94ms/step - loss: 0.7214 - accuracy: 0.7308 - precision_3: 0.9585 - recall_3: 0.5196 - val_loss: 0.6085 - val_accuracy: 0.7569 - val_precision_3: 0.8000 - val_recall_3: 0.5972\n",
      "Epoch 5/14\n",
      "75/75 [==============================] - 7s 95ms/step - loss: 0.6253 - accuracy: 0.7842 - precision_3: 0.9066 - recall_3: 0.5217 - val_loss: 0.5551 - val_accuracy: 0.8472 - val_precision_3: 0.8814 - val_recall_3: 0.5938\n",
      "Epoch 6/14\n",
      "75/75 [==============================] - 7s 99ms/step - loss: 0.5799 - accuracy: 0.8396 - precision_3: 0.9089 - recall_3: 0.5571 - val_loss: 0.7340 - val_accuracy: 0.8403 - val_precision_3: 0.8914 - val_recall_3: 0.6840\n",
      "Epoch 7/14\n",
      "75/75 [==============================] - 7s 99ms/step - loss: 0.5588 - accuracy: 0.8433 - precision_3: 0.8967 - recall_3: 0.6187 - val_loss: 0.4587 - val_accuracy: 0.9340 - val_precision_3: 0.9412 - val_recall_3: 0.7222\n",
      "Epoch 8/14\n",
      "75/75 [==============================] - 8s 104ms/step - loss: 0.4805 - accuracy: 0.9000 - precision_3: 0.9406 - recall_3: 0.6992 - val_loss: 0.4556 - val_accuracy: 0.9479 - val_precision_3: 0.9646 - val_recall_3: 0.7569\n",
      "Epoch 9/14\n",
      "75/75 [==============================] - 7s 98ms/step - loss: 0.3311 - accuracy: 0.9450 - precision_3: 0.9549 - recall_3: 0.7592 - val_loss: 0.3721 - val_accuracy: 0.9549 - val_precision_3: 0.9697 - val_recall_3: 0.7778\n",
      "Epoch 10/14\n",
      "75/75 [==============================] - 7s 97ms/step - loss: 0.2614 - accuracy: 0.9742 - precision_3: 0.9786 - recall_3: 0.7812 - val_loss: 0.3570 - val_accuracy: 0.9201 - val_precision_3: 0.9736 - val_recall_3: 0.7674\n",
      "Epoch 11/14\n",
      "75/75 [==============================] - 7s 97ms/step - loss: 0.2377 - accuracy: 0.9746 - precision_3: 0.9817 - recall_3: 0.7821 - val_loss: 0.3460 - val_accuracy: 0.9514 - val_precision_3: 0.9644 - val_recall_3: 0.7535\n",
      "Epoch 12/14\n",
      "75/75 [==============================] - 8s 103ms/step - loss: 0.2295 - accuracy: 0.9771 - precision_3: 0.9843 - recall_3: 0.7833 - val_loss: 0.3365 - val_accuracy: 0.9306 - val_precision_3: 0.9649 - val_recall_3: 0.7639\n",
      "Epoch 13/14\n",
      "75/75 [==============================] - 8s 102ms/step - loss: 0.2079 - accuracy: 0.9804 - precision_3: 0.9880 - recall_3: 0.7871 - val_loss: 0.3309 - val_accuracy: 0.9514 - val_precision_3: 0.9655 - val_recall_3: 0.7778\n",
      "Epoch 14/14\n",
      "75/75 [==============================] - 7s 99ms/step - loss: 0.2001 - accuracy: 0.9779 - precision_3: 0.9838 - recall_3: 0.7862 - val_loss: 0.3051 - val_accuracy: 0.9444 - val_precision_3: 0.9733 - val_recall_3: 0.7604\n"
     ]
    },
    {
     "name": "stderr",
     "output_type": "stream",
     "text": [
      "100%|██████████████████████████████████████████████████████████████████████████████████| 75/75 [00:10<00:00,  7.15it/s]\n"
     ]
    },
    {
     "name": "stdout",
     "output_type": "stream",
     "text": [
      "epoch: 1/50, train_loss: 6.592120170593262, F1_train: 0.8520650818882625 F1_val: 0.8203063703084401\n"
     ]
    },
    {
     "name": "stderr",
     "output_type": "stream",
     "text": [
      "100%|██████████████████████████████████████████████████████████████████████████████████| 75/75 [00:10<00:00,  7.17it/s]\n"
     ]
    },
    {
     "name": "stdout",
     "output_type": "stream",
     "text": [
      "epoch: 2/50, train_loss: 6.592284202575684, F1_train: 0.9242237873530278 F1_val: 0.897928461685145\n"
     ]
    },
    {
     "name": "stderr",
     "output_type": "stream",
     "text": [
      "100%|██████████████████████████████████████████████████████████████████████████████████| 75/75 [00:10<00:00,  7.14it/s]\n"
     ]
    },
    {
     "name": "stdout",
     "output_type": "stream",
     "text": [
      "epoch: 3/50, train_loss: 6.592180252075195, F1_train: 0.9515658962288799 F1_val: 0.9266843670955224\n"
     ]
    },
    {
     "name": "stderr",
     "output_type": "stream",
     "text": [
      "100%|██████████████████████████████████████████████████████████████████████████████████| 75/75 [00:10<00:00,  7.14it/s]\n"
     ]
    },
    {
     "name": "stdout",
     "output_type": "stream",
     "text": [
      "epoch: 4/50, train_loss: 6.591987133026123, F1_train: 0.9578715740490632 F1_val: 0.9451933327952058\n"
     ]
    },
    {
     "name": "stderr",
     "output_type": "stream",
     "text": [
      "100%|██████████████████████████████████████████████████████████████████████████████████| 75/75 [00:10<00:00,  7.13it/s]\n"
     ]
    },
    {
     "name": "stdout",
     "output_type": "stream",
     "text": [
      "epoch: 5/50, train_loss: 6.5920281410217285, F1_train: 0.959488373775185 F1_val: 0.9441352511886633\n"
     ]
    },
    {
     "name": "stderr",
     "output_type": "stream",
     "text": [
      "100%|██████████████████████████████████████████████████████████████████████████████████| 75/75 [00:10<00:00,  7.16it/s]\n"
     ]
    },
    {
     "name": "stdout",
     "output_type": "stream",
     "text": [
      "epoch: 6/50, train_loss: 6.591967582702637, F1_train: 0.9577141652917271 F1_val: 0.9303622744044886\n"
     ]
    },
    {
     "name": "stderr",
     "output_type": "stream",
     "text": [
      "100%|██████████████████████████████████████████████████████████████████████████████████| 75/75 [00:11<00:00,  6.54it/s]\n"
     ]
    },
    {
     "name": "stdout",
     "output_type": "stream",
     "text": [
      "epoch: 7/50, train_loss: 6.591949462890625, F1_train: 0.9575223570999188 F1_val: 0.9340997721885648\n"
     ]
    },
    {
     "name": "stderr",
     "output_type": "stream",
     "text": [
      "100%|██████████████████████████████████████████████████████████████████████████████████| 75/75 [00:10<00:00,  7.15it/s]\n"
     ]
    },
    {
     "name": "stdout",
     "output_type": "stream",
     "text": [
      "epoch: 8/50, train_loss: 6.592068195343018, F1_train: 0.9575223570999188 F1_val: 0.9319520069660298\n"
     ]
    },
    {
     "name": "stderr",
     "output_type": "stream",
     "text": [
      "100%|██████████████████████████████████████████████████████████████████████████████████| 75/75 [00:10<00:00,  7.17it/s]\n"
     ]
    },
    {
     "name": "stdout",
     "output_type": "stream",
     "text": [
      "epoch: 9/50, train_loss: 6.592153549194336, F1_train: 0.9579520175295794 F1_val: 0.9356701649958228\n"
     ]
    },
    {
     "name": "stderr",
     "output_type": "stream",
     "text": [
      "100%|██████████████████████████████████████████████████████████████████████████████████| 75/75 [00:10<00:00,  7.14it/s]\n"
     ]
    },
    {
     "name": "stdout",
     "output_type": "stream",
     "text": [
      "epoch: 10/50, train_loss: 6.5920090675354, F1_train: 0.9579520175295794 F1_val: 0.9429248621508933\n"
     ]
    },
    {
     "data": {
      "image/png": "[encoded data removed]",
      "text/plain": [
       "<Figure size 1080x360 with 2 Axes>"
      ]
     },
     "metadata": {
      "needs_background": "light"
     },
     "output_type": "display_data"
    },
    {
     "name": "stdout",
     "output_type": "stream",
     "text": [
      "[[58  0  0  0  0  0]\n",
      " [ 0 55  0  2  0  1]\n",
      " [ 5  0 25  3 23  4]\n",
      " [ 0  0  0 58  1  0]\n",
      " [ 0  0  0  0 54  3]\n",
      " [ 0 14  0 32  1 13]]\n",
      "74.72\n",
      "f1_weighted: 0.7105089985448705, f1_macro: 0.7135677944963482, f1_micro: 0.7471590909090909, f_measure: {'Known': 79.2084, 'Open': 32.0988, 'F1-score': 71.3568}\n",
      "              precision    recall  f1-score   support\n",
      "\n",
      "           0       0.92      1.00      0.96        58\n",
      "           1       0.80      0.95      0.87        58\n",
      "           2       1.00      0.42      0.59        60\n",
      "           3       0.61      0.98      0.75        59\n",
      "           4       0.68      0.95      0.79        57\n",
      "           5       0.62      0.22      0.32        60\n",
      "\n",
      "    accuracy                           0.75       352\n",
      "   macro avg       0.77      0.75      0.71       352\n",
      "weighted avg       0.77      0.75      0.71       352\n",
      "\n"
     ]
    }
   ],
   "source": [
    "comment=\"increasing the data with best setting of ablation 500\"\n",
    "test_data, oset = oset_train(ablation=600,designated_ukc_cls=5,num_classes=5,embedding_size=2,\n",
    "                             lr_rate=2, optimizer='nadam',\n",
    "pretrain_epochs=14,octrain_epochs=50, wait_patient=6, comment=comment)"
   ]
  },
  {
   "cell_type": "code",
   "execution_count": 6,
   "id": "177d14c7-0640-46d6-b8ac-df31a0f192f4",
   "metadata": {},
   "outputs": [
    {
     "name": "stdout",
     "output_type": "stream",
     "text": [
      "padded_num_seq_df loaded from C:\\Users\\Bhujay_ROG\\MyDev\\OCLog\\oclog\\BGL\\data\\bgl_ukc.pkl\n",
      "trained tokenizer, tk, loaded from C:\\Users\\Bhujay_ROG\\MyDev\\OCLog\\oclog\\BGL\\data\\bgltkukc.pkl\n",
      "train_0:, 480\n",
      "val_0:, 60\n",
      "test_0:, 60\n",
      "train_1:, 480\n",
      "val_1:, 60\n",
      "test_1:, 60\n",
      "train_2:, 480\n",
      "val_2:, 60\n",
      "test_2:, 60\n",
      "train_3:, 480\n",
      "val_3:, 60\n",
      "test_3:, 60\n",
      "train_4:, 480\n",
      "val_4:, 60\n",
      "test_4:, 60\n",
      "class 6 is added as ukc\n",
      "ukc_6:, 60\n",
      "vocab_size: 50\n",
      "Epoch 1/14\n",
      "75/75 [==============================] - 8s 106ms/step - loss: 1.3688 - accuracy: 0.3242 - precision_4: 0.8308 - recall_4: 0.1617 - val_loss: 1.0349 - val_accuracy: 0.4896 - val_precision_4: 0.9580 - val_recall_4: 0.3958\n",
      "Epoch 2/14\n",
      "75/75 [==============================] - 7s 99ms/step - loss: 0.8597 - accuracy: 0.6358 - precision_4: 0.8976 - recall_4: 0.4600 - val_loss: 0.6832 - val_accuracy: 0.7639 - val_precision_4: 0.9402 - val_recall_4: 0.6007\n",
      "Epoch 3/14\n",
      "75/75 [==============================] - 7s 100ms/step - loss: 0.7474 - accuracy: 0.7179 - precision_4: 0.9650 - recall_4: 0.5163 - val_loss: 0.6281 - val_accuracy: 0.8021 - val_precision_4: 0.9829 - val_recall_4: 0.5972\n",
      "Epoch 4/14\n",
      "75/75 [==============================] - 7s 98ms/step - loss: 0.7214 - accuracy: 0.7308 - precision_4: 0.9585 - recall_4: 0.5196 - val_loss: 0.6085 - val_accuracy: 0.7569 - val_precision_4: 0.8000 - val_recall_4: 0.5972\n",
      "Epoch 5/14\n",
      "75/75 [==============================] - 7s 98ms/step - loss: 0.6253 - accuracy: 0.7842 - precision_4: 0.9066 - recall_4: 0.5217 - val_loss: 0.5551 - val_accuracy: 0.8472 - val_precision_4: 0.8814 - val_recall_4: 0.5938\n",
      "Epoch 6/14\n",
      "75/75 [==============================] - 8s 101ms/step - loss: 0.5799 - accuracy: 0.8396 - precision_4: 0.9089 - recall_4: 0.5571 - val_loss: 0.7340 - val_accuracy: 0.8403 - val_precision_4: 0.8914 - val_recall_4: 0.6840\n",
      "Epoch 7/14\n",
      "75/75 [==============================] - 8s 103ms/step - loss: 0.5588 - accuracy: 0.8433 - precision_4: 0.8967 - recall_4: 0.6187 - val_loss: 0.4587 - val_accuracy: 0.9340 - val_precision_4: 0.9412 - val_recall_4: 0.7222\n",
      "Epoch 8/14\n",
      "75/75 [==============================] - 8s 101ms/step - loss: 0.4805 - accuracy: 0.9000 - precision_4: 0.9406 - recall_4: 0.6992 - val_loss: 0.4556 - val_accuracy: 0.9479 - val_precision_4: 0.9646 - val_recall_4: 0.7569\n",
      "Epoch 9/14\n",
      "75/75 [==============================] - 8s 101ms/step - loss: 0.3311 - accuracy: 0.9450 - precision_4: 0.9549 - recall_4: 0.7592 - val_loss: 0.3721 - val_accuracy: 0.9549 - val_precision_4: 0.9697 - val_recall_4: 0.7778\n",
      "Epoch 10/14\n",
      "75/75 [==============================] - 8s 109ms/step - loss: 0.2614 - accuracy: 0.9742 - precision_4: 0.9786 - recall_4: 0.7812 - val_loss: 0.3570 - val_accuracy: 0.9201 - val_precision_4: 0.9736 - val_recall_4: 0.7674\n",
      "Epoch 11/14\n",
      "75/75 [==============================] - 8s 101ms/step - loss: 0.2377 - accuracy: 0.9746 - precision_4: 0.9817 - recall_4: 0.7821 - val_loss: 0.3460 - val_accuracy: 0.9514 - val_precision_4: 0.9644 - val_recall_4: 0.7535\n",
      "Epoch 12/14\n",
      "75/75 [==============================] - 7s 99ms/step - loss: 0.2295 - accuracy: 0.9771 - precision_4: 0.9843 - recall_4: 0.7833 - val_loss: 0.3365 - val_accuracy: 0.9306 - val_precision_4: 0.9649 - val_recall_4: 0.7639\n",
      "Epoch 13/14\n",
      "75/75 [==============================] - 7s 99ms/step - loss: 0.2079 - accuracy: 0.9804 - precision_4: 0.9880 - recall_4: 0.7871 - val_loss: 0.3309 - val_accuracy: 0.9514 - val_precision_4: 0.9655 - val_recall_4: 0.7778\n",
      "Epoch 14/14\n",
      "75/75 [==============================] - 8s 113ms/step - loss: 0.2001 - accuracy: 0.9779 - precision_4: 0.9838 - recall_4: 0.7862 - val_loss: 0.3051 - val_accuracy: 0.9444 - val_precision_4: 0.9733 - val_recall_4: 0.7604\n"
     ]
    },
    {
     "name": "stderr",
     "output_type": "stream",
     "text": [
      "100%|██████████████████████████████████████████████████████████████████████████████████| 75/75 [00:11<00:00,  6.70it/s]\n"
     ]
    },
    {
     "name": "stdout",
     "output_type": "stream",
     "text": [
      "epoch: 1/50, train_loss: 6.592120170593262, F1_train: 0.8520650818882625 F1_val: 0.8203063703084401\n"
     ]
    },
    {
     "name": "stderr",
     "output_type": "stream",
     "text": [
      "100%|██████████████████████████████████████████████████████████████████████████████████| 75/75 [00:10<00:00,  6.86it/s]\n"
     ]
    },
    {
     "name": "stdout",
     "output_type": "stream",
     "text": [
      "epoch: 2/50, train_loss: 6.592284202575684, F1_train: 0.9242237873530278 F1_val: 0.897928461685145\n"
     ]
    },
    {
     "name": "stderr",
     "output_type": "stream",
     "text": [
      "100%|██████████████████████████████████████████████████████████████████████████████████| 75/75 [00:10<00:00,  7.05it/s]\n"
     ]
    },
    {
     "name": "stdout",
     "output_type": "stream",
     "text": [
      "epoch: 3/50, train_loss: 6.592180252075195, F1_train: 0.9515658962288799 F1_val: 0.9266843670955224\n"
     ]
    },
    {
     "name": "stderr",
     "output_type": "stream",
     "text": [
      "100%|██████████████████████████████████████████████████████████████████████████████████| 75/75 [00:10<00:00,  7.06it/s]\n"
     ]
    },
    {
     "name": "stdout",
     "output_type": "stream",
     "text": [
      "epoch: 4/50, train_loss: 6.591987133026123, F1_train: 0.9578715740490632 F1_val: 0.9451933327952058\n"
     ]
    },
    {
     "name": "stderr",
     "output_type": "stream",
     "text": [
      "100%|██████████████████████████████████████████████████████████████████████████████████| 75/75 [00:10<00:00,  7.07it/s]\n"
     ]
    },
    {
     "name": "stdout",
     "output_type": "stream",
     "text": [
      "epoch: 5/50, train_loss: 6.5920281410217285, F1_train: 0.959488373775185 F1_val: 0.9441352511886633\n"
     ]
    },
    {
     "name": "stderr",
     "output_type": "stream",
     "text": [
      "100%|██████████████████████████████████████████████████████████████████████████████████| 75/75 [00:11<00:00,  6.74it/s]\n"
     ]
    },
    {
     "name": "stdout",
     "output_type": "stream",
     "text": [
      "epoch: 6/50, train_loss: 6.591967582702637, F1_train: 0.9577141652917271 F1_val: 0.9303622744044886\n"
     ]
    },
    {
     "name": "stderr",
     "output_type": "stream",
     "text": [
      "100%|██████████████████████████████████████████████████████████████████████████████████| 75/75 [00:11<00:00,  6.78it/s]\n"
     ]
    },
    {
     "name": "stdout",
     "output_type": "stream",
     "text": [
      "epoch: 7/50, train_loss: 6.591949462890625, F1_train: 0.9575223570999188 F1_val: 0.9340997721885648\n"
     ]
    },
    {
     "name": "stderr",
     "output_type": "stream",
     "text": [
      "100%|██████████████████████████████████████████████████████████████████████████████████| 75/75 [00:10<00:00,  6.82it/s]\n"
     ]
    },
    {
     "name": "stdout",
     "output_type": "stream",
     "text": [
      "epoch: 8/50, train_loss: 6.592068195343018, F1_train: 0.9575223570999188 F1_val: 0.9319520069660298\n"
     ]
    },
    {
     "name": "stderr",
     "output_type": "stream",
     "text": [
      "100%|██████████████████████████████████████████████████████████████████████████████████| 75/75 [00:10<00:00,  6.88it/s]\n"
     ]
    },
    {
     "name": "stdout",
     "output_type": "stream",
     "text": [
      "epoch: 9/50, train_loss: 6.592153549194336, F1_train: 0.9579520175295794 F1_val: 0.9356701649958228\n"
     ]
    },
    {
     "name": "stderr",
     "output_type": "stream",
     "text": [
      "100%|██████████████████████████████████████████████████████████████████████████████████| 75/75 [00:10<00:00,  6.98it/s]\n"
     ]
    },
    {
     "name": "stdout",
     "output_type": "stream",
     "text": [
      "epoch: 10/50, train_loss: 6.5920090675354, F1_train: 0.9579520175295794 F1_val: 0.9429248621508933\n"
     ]
    },
    {
     "data": {
      "image/png": "[encoded data removed]",
      "text/plain": [
       "<Figure size 1080x360 with 2 Axes>"
      ]
     },
     "metadata": {
      "needs_background": "light"
     },
     "output_type": "display_data"
    },
    {
     "name": "stdout",
     "output_type": "stream",
     "text": [
      "[[58  0  0  0  0  0]\n",
      " [ 0 55  0  2  0  1]\n",
      " [ 5  0 25  3 23  4]\n",
      " [ 0  0  0 58  1  0]\n",
      " [ 0  0  0  0 54  3]\n",
      " [ 0  2  0 26 15 17]]\n",
      "75.85\n",
      "f1_weighted: 0.7319855896164523, f1_macro: 0.7345364171637132, f1_micro: 0.7585227272727274, f_measure: {'Known': 80.1444, 'Open': 40.0, 'F1-score': 73.4536}\n",
      "              precision    recall  f1-score   support\n",
      "\n",
      "           0       0.92      1.00      0.96        58\n",
      "           1       0.96      0.95      0.96        58\n",
      "           2       1.00      0.42      0.59        60\n",
      "           3       0.65      0.98      0.78        59\n",
      "           4       0.58      0.95      0.72        57\n",
      "           6       0.68      0.28      0.40        60\n",
      "\n",
      "    accuracy                           0.76       352\n",
      "   macro avg       0.80      0.76      0.73       352\n",
      "weighted avg       0.80      0.76      0.73       352\n",
      "\n"
     ]
    }
   ],
   "source": [
    "comment=\"changing class ukc=6\"\n",
    "test_data, oset = oset_train(ablation=600,designated_ukc_cls=6,num_classes=5,embedding_size=2,\n",
    "                             lr_rate=2, optimizer='nadam',\n",
    "pretrain_epochs=14,octrain_epochs=50, wait_patient=6, comment=comment)"
   ]
  },
  {
   "cell_type": "code",
   "execution_count": null,
   "id": "78f5845a-97ac-4fab-b4be-0d5609be6c4d",
   "metadata": {},
   "outputs": [],
   "source": [
    "def oset_train(ablation=5000,designated_ukc_cls=3,num_classes=2,embedding_size=128,lr_rate=3,optimizer='sgd',\n",
    "pretrain_epochs=3,octrain_epochs=50,wait_patient=3, debug=False, tracker='tracker.xlsx', comment=''):\n",
    "    tf.random.set_seed(1234)\n",
    "    np.random.seed(1234) \n",
    "    bglog = BGLog(save_padded_num_sequences=False, debug=debug,  load_from_pkl=True, )\n",
    "    train_test = bglog.get_tensor_train_val_test(ablation=ablation, designated_ukc_cls=designated_ukc_cls )\n",
    "    train_data, val_data, test_data = train_test\n",
    "    line_encoder = LogLineEncoder(bglog, chars_in_line=64)\n",
    "    logSeqencer =  LogSeqEncoder(line_in_seq=32, dense_neurons=embedding_size)\n",
    "    ptmodel = LogClassifier(line_encoder=line_encoder, seq_encoder=logSeqencer, num_classes=num_classes)\n",
    "    ptmodel.compile(optimizer='adam', loss='categorical_crossentropy',\n",
    "                  metrics=['accuracy', tf.keras.metrics.Precision(), tf.keras.metrics.Recall()])\n",
    "    hist = ptmodel.fit(train_data, validation_data=val_data, epochs=pretrain_epochs)    \n",
    "    oset = OpenSet(num_classes, ptmodel, embedding_size=embedding_size)\n",
    "    _, _ = oset.train(train_data,data_val=val_data, epochs=octrain_epochs, lr_rate=lr_rate, wait_patient=wait_patient, optimizer=optimizer)\n",
    "    _, _, f1_weighted, f_measure = oset.evaluate(test_data, ukc_label=designated_ukc_cls)\n",
    "    lst = list(tf.reshape(oset.radius, (1, num_classes)).numpy()[0])\n",
    "    lst = [str(i) for i in lst]\n",
    "    radius = ','.join(lst)\n",
    "    loss = oset.losses[len(oset.losses)-1].numpy()\n",
    "    tracker_data = {'ablation':[ablation],'designated_ukc_cls': [designated_ukc_cls],'num_classes': [num_classes],\n",
    "                   'embedding_size': [embedding_size], 'lr_rate': [lr_rate], 'optimizer': [optimizer],\n",
    "                    'pretrain_epochs': [pretrain_epochs],'octrain_epochs': [octrain_epochs], 'wait_patient': [wait_patient], \n",
    "                   'f1_weighted': [f1_weighted], 'f1_macro': f_measure.get('F1-score'), \n",
    "                   'F1Known': f_measure.get('Known'), 'F1Open': f_measure.get('Open'), 'loss':[loss], 'Radius': radius,\n",
    "                   'comment': comment}\n",
    "    update_tracker(tracker, tracker_data)\n",
    "    return test_data, oset, hist"
   ]
  },
  {
   "cell_type": "code",
   "execution_count": 11,
   "id": "b355cdd7-c9d4-4a1f-96a8-64c6032a8640",
   "metadata": {},
   "outputs": [
    {
     "name": "stdout",
     "output_type": "stream",
     "text": [
      "padded_num_seq_df loaded from C:\\Users\\Bhujay_ROG\\MyDev\\OCLog\\oclog\\BGL\\data\\bgl_ukc.pkl\n",
      "trained tokenizer, tk, loaded from C:\\Users\\Bhujay_ROG\\MyDev\\OCLog\\oclog\\BGL\\data\\bgltkukc.pkl\n",
      "train_0:, 640\n",
      "val_0:, 80\n",
      "test_0:, 80\n",
      "train_1:, 640\n",
      "val_1:, 80\n",
      "test_1:, 80\n",
      "train_2:, 640\n",
      "val_2:, 80\n",
      "test_2:, 80\n",
      "train_3:, 640\n",
      "val_3:, 80\n",
      "test_3:, 80\n",
      "class 4 is added as ukc\n",
      "ukc_4:, 80\n",
      "vocab_size: 50\n",
      "Epoch 1/14\n",
      "80/80 [==============================] - 9s 103ms/step - loss: 1.3870 - accuracy: 0.2414 - precision_8: 0.0000e+00 - recall_8: 0.0000e+00 - val_loss: 1.3863 - val_accuracy: 0.2500 - val_precision_8: 0.0000e+00 - val_recall_8: 0.0000e+00\n",
      "Epoch 2/14\n",
      "80/80 [==============================] - 8s 104ms/step - loss: 1.3864 - accuracy: 0.2500 - precision_8: 0.0000e+00 - recall_8: 0.0000e+00 - val_loss: 1.3863 - val_accuracy: 0.2500 - val_precision_8: 0.0000e+00 - val_recall_8: 0.0000e+00\n",
      "Epoch 3/14\n",
      "80/80 [==============================] - 8s 101ms/step - loss: 1.3864 - accuracy: 0.2398 - precision_8: 0.0000e+00 - recall_8: 0.0000e+00 - val_loss: 1.3863 - val_accuracy: 0.2500 - val_precision_8: 0.0000e+00 - val_recall_8: 0.0000e+00\n",
      "Epoch 4/14\n",
      "44/80 [===============>..............] - ETA: 3s - loss: 1.3863 - accuracy: 0.2621 - precision_8: 0.0000e+00 - recall_8: 0.0000e+00"
     ]
    },
    {
     "ename": "KeyboardInterrupt",
     "evalue": "",
     "output_type": "error",
     "traceback": [
      "\u001b[1;31m---------------------------------------------------------------------------\u001b[0m",
      "\u001b[1;31mKeyboardInterrupt\u001b[0m                         Traceback (most recent call last)",
      "Input \u001b[1;32mIn [11]\u001b[0m, in \u001b[0;36m<cell line: 2>\u001b[1;34m()\u001b[0m\n\u001b[0;32m      1\u001b[0m comment\u001b[38;5;241m=\u001b[39m\u001b[38;5;124m\"\u001b[39m\u001b[38;5;124m700 gave pretrained f1 23, so adding more data \u001b[39m\u001b[38;5;124m\"\u001b[39m\n\u001b[1;32m----> 2\u001b[0m test_data, oset, hist \u001b[38;5;241m=\u001b[39m \u001b[43moset_train\u001b[49m\u001b[43m(\u001b[49m\u001b[43mablation\u001b[49m\u001b[38;5;241;43m=\u001b[39;49m\u001b[38;5;241;43m800\u001b[39;49m\u001b[43m,\u001b[49m\u001b[43mdesignated_ukc_cls\u001b[49m\u001b[38;5;241;43m=\u001b[39;49m\u001b[38;5;241;43m4\u001b[39;49m\u001b[43m,\u001b[49m\u001b[43mnum_classes\u001b[49m\u001b[38;5;241;43m=\u001b[39;49m\u001b[38;5;241;43m4\u001b[39;49m\u001b[43m,\u001b[49m\u001b[43membedding_size\u001b[49m\u001b[38;5;241;43m=\u001b[39;49m\u001b[38;5;241;43m2\u001b[39;49m\u001b[43m,\u001b[49m\n\u001b[0;32m      3\u001b[0m \u001b[43m                             \u001b[49m\u001b[43mlr_rate\u001b[49m\u001b[38;5;241;43m=\u001b[39;49m\u001b[38;5;241;43m2\u001b[39;49m\u001b[43m,\u001b[49m\u001b[43m \u001b[49m\u001b[43moptimizer\u001b[49m\u001b[38;5;241;43m=\u001b[39;49m\u001b[38;5;124;43m'\u001b[39;49m\u001b[38;5;124;43mnadam\u001b[39;49m\u001b[38;5;124;43m'\u001b[39;49m\u001b[43m,\u001b[49m\n\u001b[0;32m      4\u001b[0m \u001b[43mpretrain_epochs\u001b[49m\u001b[38;5;241;43m=\u001b[39;49m\u001b[38;5;241;43m14\u001b[39;49m\u001b[43m,\u001b[49m\u001b[43moctrain_epochs\u001b[49m\u001b[38;5;241;43m=\u001b[39;49m\u001b[38;5;241;43m50\u001b[39;49m\u001b[43m,\u001b[49m\u001b[43m \u001b[49m\u001b[43mwait_patient\u001b[49m\u001b[38;5;241;43m=\u001b[39;49m\u001b[38;5;241;43m6\u001b[39;49m\u001b[43m,\u001b[49m\u001b[43m \u001b[49m\u001b[43mcomment\u001b[49m\u001b[38;5;241;43m=\u001b[39;49m\u001b[43mcomment\u001b[49m\u001b[43m)\u001b[49m\n",
      "Input \u001b[1;32mIn [1]\u001b[0m, in \u001b[0;36moset_train\u001b[1;34m(ablation, designated_ukc_cls, num_classes, embedding_size, lr_rate, optimizer, pretrain_epochs, octrain_epochs, wait_patient, debug, tracker, comment)\u001b[0m\n\u001b[0;32m     55\u001b[0m ptmodel \u001b[38;5;241m=\u001b[39m LogClassifier(line_encoder\u001b[38;5;241m=\u001b[39mline_encoder, seq_encoder\u001b[38;5;241m=\u001b[39mlogSeqencer, num_classes\u001b[38;5;241m=\u001b[39mnum_classes)\n\u001b[0;32m     56\u001b[0m ptmodel\u001b[38;5;241m.\u001b[39mcompile(optimizer\u001b[38;5;241m=\u001b[39m\u001b[38;5;124m'\u001b[39m\u001b[38;5;124madam\u001b[39m\u001b[38;5;124m'\u001b[39m, loss\u001b[38;5;241m=\u001b[39m\u001b[38;5;124m'\u001b[39m\u001b[38;5;124mcategorical_crossentropy\u001b[39m\u001b[38;5;124m'\u001b[39m,\n\u001b[0;32m     57\u001b[0m               metrics\u001b[38;5;241m=\u001b[39m[\u001b[38;5;124m'\u001b[39m\u001b[38;5;124maccuracy\u001b[39m\u001b[38;5;124m'\u001b[39m, tf\u001b[38;5;241m.\u001b[39mkeras\u001b[38;5;241m.\u001b[39mmetrics\u001b[38;5;241m.\u001b[39mPrecision(), tf\u001b[38;5;241m.\u001b[39mkeras\u001b[38;5;241m.\u001b[39mmetrics\u001b[38;5;241m.\u001b[39mRecall()])\n\u001b[1;32m---> 58\u001b[0m hist \u001b[38;5;241m=\u001b[39m \u001b[43mptmodel\u001b[49m\u001b[38;5;241;43m.\u001b[39;49m\u001b[43mfit\u001b[49m\u001b[43m(\u001b[49m\u001b[43mtrain_data\u001b[49m\u001b[43m,\u001b[49m\u001b[43m \u001b[49m\u001b[43mvalidation_data\u001b[49m\u001b[38;5;241;43m=\u001b[39;49m\u001b[43mval_data\u001b[49m\u001b[43m,\u001b[49m\u001b[43m \u001b[49m\u001b[43mepochs\u001b[49m\u001b[38;5;241;43m=\u001b[39;49m\u001b[43mpretrain_epochs\u001b[49m\u001b[43m)\u001b[49m    \n\u001b[0;32m     59\u001b[0m oset \u001b[38;5;241m=\u001b[39m OpenSet(num_classes, ptmodel, embedding_size\u001b[38;5;241m=\u001b[39membedding_size)\n\u001b[0;32m     60\u001b[0m _, _ \u001b[38;5;241m=\u001b[39m oset\u001b[38;5;241m.\u001b[39mtrain(train_data,data_val\u001b[38;5;241m=\u001b[39mval_data, epochs\u001b[38;5;241m=\u001b[39moctrain_epochs, lr_rate\u001b[38;5;241m=\u001b[39mlr_rate, wait_patient\u001b[38;5;241m=\u001b[39mwait_patient, optimizer\u001b[38;5;241m=\u001b[39moptimizer)\n",
      "File \u001b[1;32m~\\venv1\\lib\\site-packages\\keras\\utils\\traceback_utils.py:64\u001b[0m, in \u001b[0;36mfilter_traceback.<locals>.error_handler\u001b[1;34m(*args, **kwargs)\u001b[0m\n\u001b[0;32m     62\u001b[0m filtered_tb \u001b[38;5;241m=\u001b[39m \u001b[38;5;28;01mNone\u001b[39;00m\n\u001b[0;32m     63\u001b[0m \u001b[38;5;28;01mtry\u001b[39;00m:\n\u001b[1;32m---> 64\u001b[0m   \u001b[38;5;28;01mreturn\u001b[39;00m fn(\u001b[38;5;241m*\u001b[39margs, \u001b[38;5;241m*\u001b[39m\u001b[38;5;241m*\u001b[39mkwargs)\n\u001b[0;32m     65\u001b[0m \u001b[38;5;28;01mexcept\u001b[39;00m \u001b[38;5;167;01mException\u001b[39;00m \u001b[38;5;28;01mas\u001b[39;00m e:  \u001b[38;5;66;03m# pylint: disable=broad-except\u001b[39;00m\n\u001b[0;32m     66\u001b[0m   filtered_tb \u001b[38;5;241m=\u001b[39m _process_traceback_frames(e\u001b[38;5;241m.\u001b[39m__traceback__)\n",
      "File \u001b[1;32m~\\venv1\\lib\\site-packages\\keras\\engine\\training.py:1384\u001b[0m, in \u001b[0;36mModel.fit\u001b[1;34m(self, x, y, batch_size, epochs, verbose, callbacks, validation_split, validation_data, shuffle, class_weight, sample_weight, initial_epoch, steps_per_epoch, validation_steps, validation_batch_size, validation_freq, max_queue_size, workers, use_multiprocessing)\u001b[0m\n\u001b[0;32m   1377\u001b[0m \u001b[38;5;28;01mwith\u001b[39;00m tf\u001b[38;5;241m.\u001b[39mprofiler\u001b[38;5;241m.\u001b[39mexperimental\u001b[38;5;241m.\u001b[39mTrace(\n\u001b[0;32m   1378\u001b[0m     \u001b[38;5;124m'\u001b[39m\u001b[38;5;124mtrain\u001b[39m\u001b[38;5;124m'\u001b[39m,\n\u001b[0;32m   1379\u001b[0m     epoch_num\u001b[38;5;241m=\u001b[39mepoch,\n\u001b[0;32m   1380\u001b[0m     step_num\u001b[38;5;241m=\u001b[39mstep,\n\u001b[0;32m   1381\u001b[0m     batch_size\u001b[38;5;241m=\u001b[39mbatch_size,\n\u001b[0;32m   1382\u001b[0m     _r\u001b[38;5;241m=\u001b[39m\u001b[38;5;241m1\u001b[39m):\n\u001b[0;32m   1383\u001b[0m   callbacks\u001b[38;5;241m.\u001b[39mon_train_batch_begin(step)\n\u001b[1;32m-> 1384\u001b[0m   tmp_logs \u001b[38;5;241m=\u001b[39m \u001b[38;5;28;43mself\u001b[39;49m\u001b[38;5;241;43m.\u001b[39;49m\u001b[43mtrain_function\u001b[49m\u001b[43m(\u001b[49m\u001b[43miterator\u001b[49m\u001b[43m)\u001b[49m\n\u001b[0;32m   1385\u001b[0m   \u001b[38;5;28;01mif\u001b[39;00m data_handler\u001b[38;5;241m.\u001b[39mshould_sync:\n\u001b[0;32m   1386\u001b[0m     context\u001b[38;5;241m.\u001b[39masync_wait()\n",
      "File \u001b[1;32m~\\venv1\\lib\\site-packages\\tensorflow\\python\\util\\traceback_utils.py:150\u001b[0m, in \u001b[0;36mfilter_traceback.<locals>.error_handler\u001b[1;34m(*args, **kwargs)\u001b[0m\n\u001b[0;32m    148\u001b[0m filtered_tb \u001b[38;5;241m=\u001b[39m \u001b[38;5;28;01mNone\u001b[39;00m\n\u001b[0;32m    149\u001b[0m \u001b[38;5;28;01mtry\u001b[39;00m:\n\u001b[1;32m--> 150\u001b[0m   \u001b[38;5;28;01mreturn\u001b[39;00m fn(\u001b[38;5;241m*\u001b[39margs, \u001b[38;5;241m*\u001b[39m\u001b[38;5;241m*\u001b[39mkwargs)\n\u001b[0;32m    151\u001b[0m \u001b[38;5;28;01mexcept\u001b[39;00m \u001b[38;5;167;01mException\u001b[39;00m \u001b[38;5;28;01mas\u001b[39;00m e:\n\u001b[0;32m    152\u001b[0m   filtered_tb \u001b[38;5;241m=\u001b[39m _process_traceback_frames(e\u001b[38;5;241m.\u001b[39m__traceback__)\n",
      "File \u001b[1;32m~\\venv1\\lib\\site-packages\\tensorflow\\python\\eager\\def_function.py:915\u001b[0m, in \u001b[0;36mFunction.__call__\u001b[1;34m(self, *args, **kwds)\u001b[0m\n\u001b[0;32m    912\u001b[0m compiler \u001b[38;5;241m=\u001b[39m \u001b[38;5;124m\"\u001b[39m\u001b[38;5;124mxla\u001b[39m\u001b[38;5;124m\"\u001b[39m \u001b[38;5;28;01mif\u001b[39;00m \u001b[38;5;28mself\u001b[39m\u001b[38;5;241m.\u001b[39m_jit_compile \u001b[38;5;28;01melse\u001b[39;00m \u001b[38;5;124m\"\u001b[39m\u001b[38;5;124mnonXla\u001b[39m\u001b[38;5;124m\"\u001b[39m\n\u001b[0;32m    914\u001b[0m \u001b[38;5;28;01mwith\u001b[39;00m OptionalXlaContext(\u001b[38;5;28mself\u001b[39m\u001b[38;5;241m.\u001b[39m_jit_compile):\n\u001b[1;32m--> 915\u001b[0m   result \u001b[38;5;241m=\u001b[39m \u001b[38;5;28mself\u001b[39m\u001b[38;5;241m.\u001b[39m_call(\u001b[38;5;241m*\u001b[39margs, \u001b[38;5;241m*\u001b[39m\u001b[38;5;241m*\u001b[39mkwds)\n\u001b[0;32m    917\u001b[0m new_tracing_count \u001b[38;5;241m=\u001b[39m \u001b[38;5;28mself\u001b[39m\u001b[38;5;241m.\u001b[39mexperimental_get_tracing_count()\n\u001b[0;32m    918\u001b[0m without_tracing \u001b[38;5;241m=\u001b[39m (tracing_count \u001b[38;5;241m==\u001b[39m new_tracing_count)\n",
      "File \u001b[1;32m~\\venv1\\lib\\site-packages\\tensorflow\\python\\eager\\def_function.py:947\u001b[0m, in \u001b[0;36mFunction._call\u001b[1;34m(self, *args, **kwds)\u001b[0m\n\u001b[0;32m    944\u001b[0m   \u001b[38;5;28mself\u001b[39m\u001b[38;5;241m.\u001b[39m_lock\u001b[38;5;241m.\u001b[39mrelease()\n\u001b[0;32m    945\u001b[0m   \u001b[38;5;66;03m# In this case we have created variables on the first call, so we run the\u001b[39;00m\n\u001b[0;32m    946\u001b[0m   \u001b[38;5;66;03m# defunned version which is guaranteed to never create variables.\u001b[39;00m\n\u001b[1;32m--> 947\u001b[0m   \u001b[38;5;28;01mreturn\u001b[39;00m \u001b[38;5;28mself\u001b[39m\u001b[38;5;241m.\u001b[39m_stateless_fn(\u001b[38;5;241m*\u001b[39margs, \u001b[38;5;241m*\u001b[39m\u001b[38;5;241m*\u001b[39mkwds)  \u001b[38;5;66;03m# pylint: disable=not-callable\u001b[39;00m\n\u001b[0;32m    948\u001b[0m \u001b[38;5;28;01melif\u001b[39;00m \u001b[38;5;28mself\u001b[39m\u001b[38;5;241m.\u001b[39m_stateful_fn \u001b[38;5;129;01mis\u001b[39;00m \u001b[38;5;129;01mnot\u001b[39;00m \u001b[38;5;28;01mNone\u001b[39;00m:\n\u001b[0;32m    949\u001b[0m   \u001b[38;5;66;03m# Release the lock early so that multiple threads can perform the call\u001b[39;00m\n\u001b[0;32m    950\u001b[0m   \u001b[38;5;66;03m# in parallel.\u001b[39;00m\n\u001b[0;32m    951\u001b[0m   \u001b[38;5;28mself\u001b[39m\u001b[38;5;241m.\u001b[39m_lock\u001b[38;5;241m.\u001b[39mrelease()\n",
      "File \u001b[1;32m~\\venv1\\lib\\site-packages\\tensorflow\\python\\eager\\function.py:2956\u001b[0m, in \u001b[0;36mFunction.__call__\u001b[1;34m(self, *args, **kwargs)\u001b[0m\n\u001b[0;32m   2953\u001b[0m \u001b[38;5;28;01mwith\u001b[39;00m \u001b[38;5;28mself\u001b[39m\u001b[38;5;241m.\u001b[39m_lock:\n\u001b[0;32m   2954\u001b[0m   (graph_function,\n\u001b[0;32m   2955\u001b[0m    filtered_flat_args) \u001b[38;5;241m=\u001b[39m \u001b[38;5;28mself\u001b[39m\u001b[38;5;241m.\u001b[39m_maybe_define_function(args, kwargs)\n\u001b[1;32m-> 2956\u001b[0m \u001b[38;5;28;01mreturn\u001b[39;00m \u001b[43mgraph_function\u001b[49m\u001b[38;5;241;43m.\u001b[39;49m\u001b[43m_call_flat\u001b[49m\u001b[43m(\u001b[49m\n\u001b[0;32m   2957\u001b[0m \u001b[43m    \u001b[49m\u001b[43mfiltered_flat_args\u001b[49m\u001b[43m,\u001b[49m\u001b[43m \u001b[49m\u001b[43mcaptured_inputs\u001b[49m\u001b[38;5;241;43m=\u001b[39;49m\u001b[43mgraph_function\u001b[49m\u001b[38;5;241;43m.\u001b[39;49m\u001b[43mcaptured_inputs\u001b[49m\u001b[43m)\u001b[49m\n",
      "File \u001b[1;32m~\\venv1\\lib\\site-packages\\tensorflow\\python\\eager\\function.py:1853\u001b[0m, in \u001b[0;36mConcreteFunction._call_flat\u001b[1;34m(self, args, captured_inputs, cancellation_manager)\u001b[0m\n\u001b[0;32m   1849\u001b[0m possible_gradient_type \u001b[38;5;241m=\u001b[39m gradients_util\u001b[38;5;241m.\u001b[39mPossibleTapeGradientTypes(args)\n\u001b[0;32m   1850\u001b[0m \u001b[38;5;28;01mif\u001b[39;00m (possible_gradient_type \u001b[38;5;241m==\u001b[39m gradients_util\u001b[38;5;241m.\u001b[39mPOSSIBLE_GRADIENT_TYPES_NONE\n\u001b[0;32m   1851\u001b[0m     \u001b[38;5;129;01mand\u001b[39;00m executing_eagerly):\n\u001b[0;32m   1852\u001b[0m   \u001b[38;5;66;03m# No tape is watching; skip to running the function.\u001b[39;00m\n\u001b[1;32m-> 1853\u001b[0m   \u001b[38;5;28;01mreturn\u001b[39;00m \u001b[38;5;28mself\u001b[39m\u001b[38;5;241m.\u001b[39m_build_call_outputs(\u001b[38;5;28;43mself\u001b[39;49m\u001b[38;5;241;43m.\u001b[39;49m\u001b[43m_inference_function\u001b[49m\u001b[38;5;241;43m.\u001b[39;49m\u001b[43mcall\u001b[49m\u001b[43m(\u001b[49m\n\u001b[0;32m   1854\u001b[0m \u001b[43m      \u001b[49m\u001b[43mctx\u001b[49m\u001b[43m,\u001b[49m\u001b[43m \u001b[49m\u001b[43margs\u001b[49m\u001b[43m,\u001b[49m\u001b[43m \u001b[49m\u001b[43mcancellation_manager\u001b[49m\u001b[38;5;241;43m=\u001b[39;49m\u001b[43mcancellation_manager\u001b[49m\u001b[43m)\u001b[49m)\n\u001b[0;32m   1855\u001b[0m forward_backward \u001b[38;5;241m=\u001b[39m \u001b[38;5;28mself\u001b[39m\u001b[38;5;241m.\u001b[39m_select_forward_and_backward_functions(\n\u001b[0;32m   1856\u001b[0m     args,\n\u001b[0;32m   1857\u001b[0m     possible_gradient_type,\n\u001b[0;32m   1858\u001b[0m     executing_eagerly)\n\u001b[0;32m   1859\u001b[0m forward_function, args_with_tangents \u001b[38;5;241m=\u001b[39m forward_backward\u001b[38;5;241m.\u001b[39mforward()\n",
      "File \u001b[1;32m~\\venv1\\lib\\site-packages\\tensorflow\\python\\eager\\function.py:499\u001b[0m, in \u001b[0;36m_EagerDefinedFunction.call\u001b[1;34m(self, ctx, args, cancellation_manager)\u001b[0m\n\u001b[0;32m    497\u001b[0m \u001b[38;5;28;01mwith\u001b[39;00m _InterpolateFunctionError(\u001b[38;5;28mself\u001b[39m):\n\u001b[0;32m    498\u001b[0m   \u001b[38;5;28;01mif\u001b[39;00m cancellation_manager \u001b[38;5;129;01mis\u001b[39;00m \u001b[38;5;28;01mNone\u001b[39;00m:\n\u001b[1;32m--> 499\u001b[0m     outputs \u001b[38;5;241m=\u001b[39m \u001b[43mexecute\u001b[49m\u001b[38;5;241;43m.\u001b[39;49m\u001b[43mexecute\u001b[49m\u001b[43m(\u001b[49m\n\u001b[0;32m    500\u001b[0m \u001b[43m        \u001b[49m\u001b[38;5;28;43mstr\u001b[39;49m\u001b[43m(\u001b[49m\u001b[38;5;28;43mself\u001b[39;49m\u001b[38;5;241;43m.\u001b[39;49m\u001b[43msignature\u001b[49m\u001b[38;5;241;43m.\u001b[39;49m\u001b[43mname\u001b[49m\u001b[43m)\u001b[49m\u001b[43m,\u001b[49m\n\u001b[0;32m    501\u001b[0m \u001b[43m        \u001b[49m\u001b[43mnum_outputs\u001b[49m\u001b[38;5;241;43m=\u001b[39;49m\u001b[38;5;28;43mself\u001b[39;49m\u001b[38;5;241;43m.\u001b[39;49m\u001b[43m_num_outputs\u001b[49m\u001b[43m,\u001b[49m\n\u001b[0;32m    502\u001b[0m \u001b[43m        \u001b[49m\u001b[43minputs\u001b[49m\u001b[38;5;241;43m=\u001b[39;49m\u001b[43margs\u001b[49m\u001b[43m,\u001b[49m\n\u001b[0;32m    503\u001b[0m \u001b[43m        \u001b[49m\u001b[43mattrs\u001b[49m\u001b[38;5;241;43m=\u001b[39;49m\u001b[43mattrs\u001b[49m\u001b[43m,\u001b[49m\n\u001b[0;32m    504\u001b[0m \u001b[43m        \u001b[49m\u001b[43mctx\u001b[49m\u001b[38;5;241;43m=\u001b[39;49m\u001b[43mctx\u001b[49m\u001b[43m)\u001b[49m\n\u001b[0;32m    505\u001b[0m   \u001b[38;5;28;01melse\u001b[39;00m:\n\u001b[0;32m    506\u001b[0m     outputs \u001b[38;5;241m=\u001b[39m execute\u001b[38;5;241m.\u001b[39mexecute_with_cancellation(\n\u001b[0;32m    507\u001b[0m         \u001b[38;5;28mstr\u001b[39m(\u001b[38;5;28mself\u001b[39m\u001b[38;5;241m.\u001b[39msignature\u001b[38;5;241m.\u001b[39mname),\n\u001b[0;32m    508\u001b[0m         num_outputs\u001b[38;5;241m=\u001b[39m\u001b[38;5;28mself\u001b[39m\u001b[38;5;241m.\u001b[39m_num_outputs,\n\u001b[1;32m   (...)\u001b[0m\n\u001b[0;32m    511\u001b[0m         ctx\u001b[38;5;241m=\u001b[39mctx,\n\u001b[0;32m    512\u001b[0m         cancellation_manager\u001b[38;5;241m=\u001b[39mcancellation_manager)\n",
      "File \u001b[1;32m~\\venv1\\lib\\site-packages\\tensorflow\\python\\eager\\execute.py:54\u001b[0m, in \u001b[0;36mquick_execute\u001b[1;34m(op_name, num_outputs, inputs, attrs, ctx, name)\u001b[0m\n\u001b[0;32m     52\u001b[0m \u001b[38;5;28;01mtry\u001b[39;00m:\n\u001b[0;32m     53\u001b[0m   ctx\u001b[38;5;241m.\u001b[39mensure_initialized()\n\u001b[1;32m---> 54\u001b[0m   tensors \u001b[38;5;241m=\u001b[39m \u001b[43mpywrap_tfe\u001b[49m\u001b[38;5;241;43m.\u001b[39;49m\u001b[43mTFE_Py_Execute\u001b[49m\u001b[43m(\u001b[49m\u001b[43mctx\u001b[49m\u001b[38;5;241;43m.\u001b[39;49m\u001b[43m_handle\u001b[49m\u001b[43m,\u001b[49m\u001b[43m \u001b[49m\u001b[43mdevice_name\u001b[49m\u001b[43m,\u001b[49m\u001b[43m \u001b[49m\u001b[43mop_name\u001b[49m\u001b[43m,\u001b[49m\n\u001b[0;32m     55\u001b[0m \u001b[43m                                      \u001b[49m\u001b[43minputs\u001b[49m\u001b[43m,\u001b[49m\u001b[43m \u001b[49m\u001b[43mattrs\u001b[49m\u001b[43m,\u001b[49m\u001b[43m \u001b[49m\u001b[43mnum_outputs\u001b[49m\u001b[43m)\u001b[49m\n\u001b[0;32m     56\u001b[0m \u001b[38;5;28;01mexcept\u001b[39;00m core\u001b[38;5;241m.\u001b[39m_NotOkStatusException \u001b[38;5;28;01mas\u001b[39;00m e:\n\u001b[0;32m     57\u001b[0m   \u001b[38;5;28;01mif\u001b[39;00m name \u001b[38;5;129;01mis\u001b[39;00m \u001b[38;5;129;01mnot\u001b[39;00m \u001b[38;5;28;01mNone\u001b[39;00m:\n",
      "\u001b[1;31mKeyboardInterrupt\u001b[0m: "
     ]
    }
   ],
   "source": [
    "comment=\"700 gave pretrained f1 23, so adding more data \"\n",
    "test_data, oset, hist = oset_train(ablation=800,designated_ukc_cls=4,num_classes=4,embedding_size=2,\n",
    "                             lr_rate=2, optimizer='nadam',\n",
    "pretrain_epochs=14,octrain_epochs=50, wait_patient=6, comment=comment)"
   ]
  }
 ],
 "metadata": {
  "kernelspec": {
   "display_name": "Python 3 (ipykernel)",
   "language": "python",
   "name": "python3"
  },
  "language_info": {
   "codemirror_mode": {
    "name": "ipython",
    "version": 3
   },
   "file_extension": ".py",
   "mimetype": "text/x-python",
   "name": "python",
   "nbconvert_exporter": "python",
   "pygments_lexer": "ipython3",
   "version": "3.9.12"
  }
 },
 "nbformat": 4,
 "nbformat_minor": 5
}
