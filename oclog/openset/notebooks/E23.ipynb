{
 "cells": [
  {
   "cell_type": "code",
   "execution_count": 28,
   "id": "f8bd37c0-54f3-4edf-8517-10b7b8285fe1",
   "metadata": {},
   "outputs": [],
   "source": [
    "import os, sys\n",
    "cur_dir = os.getcwd()\n",
    "basename = os.path.basename(cur_dir)\n",
    "for _ in range(5):\n",
    "    if basename != 'OCLog':\n",
    "        cur_dir = os.path.dirname(cur_dir)\n",
    "        basename = os.path.basename(cur_dir)\n",
    "        #print(cur_dir, basename)\n",
    "    else:\n",
    "        if cur_dir not in sys.path:\n",
    "            sys.path.append(cur_dir)\n",
    "            #print(sys.path)\n",
    "import os\n",
    "from openpyxl import Workbook\n",
    "from openpyxl import load_workbook\n",
    "import pandas as pd\n",
    "import numpy as np\n",
    "import matplotlib.pyplot as plt\n",
    "import seaborn as sns\n",
    "import tensorflow as tf\n",
    "from tqdm import trange, tqdm, tnrange\n",
    "from oclog.BGL.bglogUKC import BGLog, get_embedding_layer\n",
    "from oclog.openset.boundary_loss import euclidean_metric, BoundaryLoss\n",
    "from oclog.openset.pretraining import LogLineEncoder, LogSeqEncoder, LogClassifier\n",
    "# from oclog.openset.openset import OpenSet\n",
    "from oclog.openset.opensetv6 import OpenSet\n",
    "from sklearn.metrics import confusion_matrix, f1_score, accuracy_score\n",
    "import sklearn.metrics as m\n",
    "import warnings\n",
    "warnings.filterwarnings('ignore')\n",
    "def update_tracker(file_name, data):\n",
    "    if os.path.exists(file_name):\n",
    "        wb = load_workbook(file_name)\n",
    "    else:\n",
    "        wb = Workbook()    \n",
    "    wb.save(file_name)\n",
    "    # wb.close(file_name)\n",
    "    orig_df = pd.read_excel(file_name,)\n",
    "    #print(orig_df.head())\n",
    "    new_df = pd.DataFrame(data, )\n",
    "    concat_df = pd.concat([orig_df, new_df], axis=0)\n",
    "    #print(concat_df.head())\n",
    "    concat_df.to_excel(file_name)\n",
    "    return concat_df\n",
    "\n",
    "def oset_train(ablation=5000,designated_ukc_cls=3,num_classes=2,embedding_size=128,lr_rate=3,optimizer='sgd',\n",
    "pretrain_epochs=3,octrain_epochs=50,wait_patient=3, debug=False, tracker='tracker.xlsx', comment=''):\n",
    "    tf.random.set_seed(1234)\n",
    "    np.random.seed(1234) \n",
    "    bglog = BGLog(save_padded_num_sequences=False, debug=debug,  load_from_pkl=True, )\n",
    "    train_test = bglog.get_tensor_train_val_test(ablation=ablation, designated_ukc_cls=designated_ukc_cls )\n",
    "    train_data, val_data, test_data = train_test\n",
    "    line_encoder = LogLineEncoder(bglog, chars_in_line=64)\n",
    "    logSeqencer =  LogSeqEncoder(line_in_seq=32, dense_neurons=embedding_size)\n",
    "    ptmodel = LogClassifier(line_encoder=line_encoder, seq_encoder=logSeqencer, num_classes=num_classes)\n",
    "    ptmodel.compile(optimizer='adam', loss='categorical_crossentropy',\n",
    "                  metrics=['accuracy', tf.keras.metrics.Precision(), tf.keras.metrics.Recall()])\n",
    "    hist = ptmodel.fit(train_data, validation_data=val_data, epochs=pretrain_epochs)    \n",
    "    pre_tr_acc = hist.history.get('accuracy')[len(hist.history.get('accuracy'))-1]\n",
    "    # print(round(pre_tr_acc, 4))\n",
    "    pre_val_acc = hist.history.get('val_accuracy')[len(hist.history.get('val_accuracy'))-1]\n",
    "    # print(round(pre_val_acc, 4))\n",
    "    oset = OpenSet(num_classes, ptmodel, embedding_size=embedding_size)\n",
    "    _, _ = oset.train(train_data,data_val=val_data, epochs=octrain_epochs, lr_rate=lr_rate, wait_patient=wait_patient, optimizer=optimizer)\n",
    "    _, _, f1_weighted, f_measure = oset.evaluate(test_data, ukc_label=designated_ukc_cls)\n",
    "    lst = list(tf.reshape(oset.radius, (1, num_classes)).numpy()[0])\n",
    "    lst = [str(i) for i in lst]\n",
    "    radius = ','.join(lst)    \n",
    "    loss = oset.losses[len(oset.losses)-1].numpy()\n",
    "    tracker_data = {'ablation':[ablation],'designated_ukc_cls': [designated_ukc_cls],'num_classes': [num_classes],\n",
    "                   'embedding_size': [embedding_size], 'lr_rate': [lr_rate], 'optimizer': [optimizer],\n",
    "                    'pretrain_epochs': [pretrain_epochs],'octrain_epochs': [octrain_epochs], 'wait_patient': [wait_patient], \n",
    "                   'f1_weighted': [f1_weighted], 'f1_macro': f_measure.get('F1-score'), \n",
    "                   'F1Known': f_measure.get('Known'), 'F1Open': f_measure.get('Open'), 'loss':[loss], 'Radius': radius,\n",
    "                   'pre_tr_acc': pre_tr_acc, 'pre_val_acc': pre_val_acc,'comment': comment}\n",
    "    \n",
    "    update_tracker(tracker, tracker_data)\n",
    "    return test_data, oset, hist"
   ]
  },
  {
   "cell_type": "code",
   "execution_count": 12,
   "id": "70ae55c2-51de-4e3d-8e27-a7616cecd457",
   "metadata": {},
   "outputs": [
    {
     "name": "stdout",
     "output_type": "stream",
     "text": [
      "padded_num_seq_df loaded from C:\\Users\\Bhujay_ROG\\MyDev\\OCLog\\oclog\\BGL\\data\\bgl_ukc.pkl\n",
      "trained tokenizer, tk, loaded from C:\\Users\\Bhujay_ROG\\MyDev\\OCLog\\oclog\\BGL\\data\\bgltkukc.pkl\n",
      "train_0:, 800\n",
      "val_0:, 100\n",
      "test_0:, 100\n",
      "train_1:, 800\n",
      "val_1:, 100\n",
      "test_1:, 100\n",
      "train_2:, 800\n",
      "val_2:, 100\n",
      "test_2:, 100\n",
      "train_3:, 800\n",
      "val_3:, 100\n",
      "test_3:, 2\n",
      "class 5 is added as ukc\n",
      "ukc_5:, 100\n",
      "vocab_size: 50\n",
      "Epoch 1/14\n",
      "100/100 [==============================] - 10s 96ms/step - loss: 1.0953 - accuracy: 0.4688 - precision_10: 0.7907 - recall_10: 0.1972 - val_loss: 0.9625 - val_accuracy: 0.5000 - val_precision_10: 0.5588 - val_recall_10: 0.2474\n",
      "Epoch 2/14\n",
      "100/100 [==============================] - 9s 95ms/step - loss: 0.9330 - accuracy: 0.5206 - precision_10: 0.6882 - recall_10: 0.2497 - val_loss: 0.8779 - val_accuracy: 0.5026 - val_precision_10: 0.5249 - val_recall_10: 0.2474\n",
      "Epoch 3/14\n",
      "100/100 [==============================] - 10s 99ms/step - loss: 0.8765 - accuracy: 0.5734 - precision_10: 0.6923 - recall_10: 0.2503 - val_loss: 0.8578 - val_accuracy: 0.6172 - val_precision_10: 0.8393 - val_recall_10: 0.2448\n",
      "Epoch 4/14\n",
      "100/100 [==============================] - 10s 96ms/step - loss: 0.8297 - accuracy: 0.6153 - precision_10: 0.7320 - recall_10: 0.2928 - val_loss: 0.7950 - val_accuracy: 0.6823 - val_precision_10: 0.9290 - val_recall_10: 0.4089\n",
      "Epoch 5/14\n",
      "100/100 [==============================] - 10s 95ms/step - loss: 0.8146 - accuracy: 0.6388 - precision_10: 0.8146 - recall_10: 0.3706 - val_loss: 0.7869 - val_accuracy: 0.5755 - val_precision_10: 0.6595 - val_recall_10: 0.3177\n",
      "Epoch 6/14\n",
      "100/100 [==============================] - 9s 95ms/step - loss: 0.7642 - accuracy: 0.6841 - precision_10: 0.8891 - recall_10: 0.4234 - val_loss: 0.7184 - val_accuracy: 0.7188 - val_precision_10: 0.9514 - val_recall_10: 0.4583\n",
      "Epoch 7/14\n",
      "100/100 [==============================] - 10s 95ms/step - loss: 0.7557 - accuracy: 0.6762 - precision_10: 0.8862 - recall_10: 0.4159 - val_loss: 0.7100 - val_accuracy: 0.6901 - val_precision_10: 0.9293 - val_recall_10: 0.4453\n",
      "Epoch 8/14\n",
      "100/100 [==============================] - 10s 95ms/step - loss: 0.7093 - accuracy: 0.7181 - precision_10: 0.9580 - recall_10: 0.4638 - val_loss: 0.6925 - val_accuracy: 0.7083 - val_precision_10: 0.9722 - val_recall_10: 0.4557\n",
      "Epoch 9/14\n",
      "100/100 [==============================] - 10s 96ms/step - loss: 0.6837 - accuracy: 0.7266 - precision_10: 0.9686 - recall_10: 0.4719 - val_loss: 0.6605 - val_accuracy: 0.7135 - val_precision_10: 0.9672 - val_recall_10: 0.4609\n",
      "Epoch 10/14\n",
      "100/100 [==============================] - 10s 95ms/step - loss: 0.6597 - accuracy: 0.7319 - precision_10: 0.9826 - recall_10: 0.4756 - val_loss: 0.6659 - val_accuracy: 0.7083 - val_precision_10: 0.9459 - val_recall_10: 0.4557\n",
      "Epoch 11/14\n",
      "100/100 [==============================] - 10s 96ms/step - loss: 0.6236 - accuracy: 0.7703 - precision_10: 0.9744 - recall_10: 0.4884 - val_loss: 0.6525 - val_accuracy: 0.7109 - val_precision_10: 0.9669 - val_recall_10: 0.4557\n",
      "Epoch 12/14\n",
      "100/100 [==============================] - 10s 95ms/step - loss: 0.6398 - accuracy: 0.7228 - precision_10: 0.9807 - recall_10: 0.4769 - val_loss: 0.7282 - val_accuracy: 0.6719 - val_precision_10: 0.8696 - val_recall_10: 0.4167\n",
      "Epoch 13/14\n",
      "100/100 [==============================] - 11s 106ms/step - loss: 0.5323 - accuracy: 0.7953 - precision_10: 0.9733 - recall_10: 0.5462 - val_loss: 0.3005 - val_accuracy: 0.9792 - val_precision_10: 0.9931 - val_recall_10: 0.7448\n",
      "Epoch 14/14\n",
      "100/100 [==============================] - 11s 107ms/step - loss: 0.2984 - accuracy: 0.9647 - precision_10: 0.9884 - recall_10: 0.7178 - val_loss: 0.3214 - val_accuracy: 0.9661 - val_precision_10: 0.9752 - val_recall_10: 0.7161\n"
     ]
    },
    {
     "name": "stderr",
     "output_type": "stream",
     "text": [
      "100%|████████████████████████████████████████████████████████████████████████████████| 100/100 [00:13<00:00,  7.22it/s]\n"
     ]
    },
    {
     "name": "stdout",
     "output_type": "stream",
     "text": [
      "epoch: 1/50, train_loss: 14.165757179260254, F1_train: 0.7046779003072088 F1_val: 0.6827613254983254\n"
     ]
    },
    {
     "name": "stderr",
     "output_type": "stream",
     "text": [
      "100%|████████████████████████████████████████████████████████████████████████████████| 100/100 [00:14<00:00,  7.13it/s]\n"
     ]
    },
    {
     "name": "stdout",
     "output_type": "stream",
     "text": [
      "epoch: 2/50, train_loss: 14.165838241577148, F1_train: 0.7059725593384739 F1_val: 0.6858410429176557\n"
     ]
    },
    {
     "name": "stderr",
     "output_type": "stream",
     "text": [
      "100%|████████████████████████████████████████████████████████████████████████████████| 100/100 [00:13<00:00,  7.21it/s]\n"
     ]
    },
    {
     "name": "stdout",
     "output_type": "stream",
     "text": [
      "epoch: 3/50, train_loss: 14.166088104248047, F1_train: 0.7063452206794599 F1_val: 0.7005797765525089\n"
     ]
    },
    {
     "name": "stderr",
     "output_type": "stream",
     "text": [
      "100%|████████████████████████████████████████████████████████████████████████████████| 100/100 [00:13<00:00,  7.23it/s]\n"
     ]
    },
    {
     "name": "stdout",
     "output_type": "stream",
     "text": [
      "epoch: 4/50, train_loss: 14.165762901306152, F1_train: 0.7062245092635883 F1_val: 0.682228234973997\n"
     ]
    },
    {
     "name": "stderr",
     "output_type": "stream",
     "text": [
      "100%|████████████████████████████████████████████████████████████████████████████████| 100/100 [00:13<00:00,  7.27it/s]\n"
     ]
    },
    {
     "name": "stdout",
     "output_type": "stream",
     "text": [
      "epoch: 5/50, train_loss: 14.165938377380371, F1_train: 0.7059516452884099 F1_val: 0.6953506353199175\n"
     ]
    },
    {
     "name": "stderr",
     "output_type": "stream",
     "text": [
      "100%|████████████████████████████████████████████████████████████████████████████████| 100/100 [00:13<00:00,  7.26it/s]\n"
     ]
    },
    {
     "name": "stdout",
     "output_type": "stream",
     "text": [
      "epoch: 6/50, train_loss: 14.16569709777832, F1_train: 0.705644711660085 F1_val: 0.6899750422662035\n"
     ]
    },
    {
     "name": "stderr",
     "output_type": "stream",
     "text": [
      "100%|████████████████████████████████████████████████████████████████████████████████| 100/100 [00:13<00:00,  7.22it/s]\n"
     ]
    },
    {
     "name": "stdout",
     "output_type": "stream",
     "text": [
      "epoch: 7/50, train_loss: 14.165853500366211, F1_train: 0.7056778513349036 F1_val: 0.6899750422662035\n"
     ]
    },
    {
     "name": "stderr",
     "output_type": "stream",
     "text": [
      "100%|████████████████████████████████████████████████████████████████████████████████| 100/100 [00:13<00:00,  7.21it/s]\n"
     ]
    },
    {
     "name": "stdout",
     "output_type": "stream",
     "text": [
      "epoch: 8/50, train_loss: 14.166082382202148, F1_train: 0.7055257565574677 F1_val: 0.6874359911427321\n"
     ]
    },
    {
     "name": "stderr",
     "output_type": "stream",
     "text": [
      "100%|████████████████████████████████████████████████████████████████████████████████| 100/100 [00:13<00:00,  7.28it/s]\n"
     ]
    },
    {
     "name": "stdout",
     "output_type": "stream",
     "text": [
      "epoch: 9/50, train_loss: 14.16580581665039, F1_train: 0.7839155446692536 F1_val: 0.9455729293643623\n"
     ]
    },
    {
     "name": "stderr",
     "output_type": "stream",
     "text": [
      "100%|████████████████████████████████████████████████████████████████████████████████| 100/100 [00:14<00:00,  7.02it/s]\n"
     ]
    },
    {
     "name": "stdout",
     "output_type": "stream",
     "text": [
      "epoch: 10/50, train_loss: 14.165660858154297, F1_train: 0.7836134233790577 F1_val: 0.9453514407322886\n"
     ]
    },
    {
     "name": "stderr",
     "output_type": "stream",
     "text": [
      "100%|████████████████████████████████████████████████████████████████████████████████| 100/100 [00:13<00:00,  7.18it/s]\n"
     ]
    },
    {
     "name": "stdout",
     "output_type": "stream",
     "text": [
      "epoch: 11/50, train_loss: 14.165657043457031, F1_train: 0.7834626429948969 F1_val: 0.9506591187535299\n"
     ]
    },
    {
     "name": "stderr",
     "output_type": "stream",
     "text": [
      "100%|████████████████████████████████████████████████████████████████████████████████| 100/100 [00:13<00:00,  7.19it/s]\n"
     ]
    },
    {
     "name": "stdout",
     "output_type": "stream",
     "text": [
      "epoch: 12/50, train_loss: 14.165936470031738, F1_train: 0.7834626429948969 F1_val: 0.9452550841881524\n"
     ]
    },
    {
     "name": "stderr",
     "output_type": "stream",
     "text": [
      "100%|████████████████████████████████████████████████████████████████████████████████| 100/100 [00:14<00:00,  7.12it/s]\n"
     ]
    },
    {
     "name": "stdout",
     "output_type": "stream",
     "text": [
      "epoch: 13/50, train_loss: 14.165802955627441, F1_train: 0.7833083715435553 F1_val: 0.9452331203793922\n"
     ]
    },
    {
     "name": "stderr",
     "output_type": "stream",
     "text": [
      "100%|████████████████████████████████████████████████████████████████████████████████| 100/100 [00:13<00:00,  7.16it/s]\n"
     ]
    },
    {
     "name": "stdout",
     "output_type": "stream",
     "text": [
      "epoch: 14/50, train_loss: 14.165842056274414, F1_train: 0.7833083715435553 F1_val: 0.9424682890450476\n"
     ]
    },
    {
     "name": "stderr",
     "output_type": "stream",
     "text": [
      "100%|████████████████████████████████████████████████████████████████████████████████| 100/100 [00:14<00:00,  7.01it/s]\n"
     ]
    },
    {
     "name": "stdout",
     "output_type": "stream",
     "text": [
      "epoch: 15/50, train_loss: 14.165970802307129, F1_train: 0.7833083715435553 F1_val: 0.9452342279462894\n"
     ]
    },
    {
     "name": "stderr",
     "output_type": "stream",
     "text": [
      "100%|████████████████████████████████████████████████████████████████████████████████| 100/100 [00:13<00:00,  7.16it/s]\n"
     ]
    },
    {
     "name": "stdout",
     "output_type": "stream",
     "text": [
      "epoch: 16/50, train_loss: 14.165902137756348, F1_train: 0.7833083715435553 F1_val: 0.9424962945354397\n"
     ]
    },
    {
     "name": "stderr",
     "output_type": "stream",
     "text": [
      "100%|████████████████████████████████████████████████████████████████████████████████| 100/100 [00:13<00:00,  7.22it/s]\n"
     ]
    },
    {
     "name": "stdout",
     "output_type": "stream",
     "text": [
      "epoch: 17/50, train_loss: 14.165745735168457, F1_train: 0.783157777538114 F1_val: 0.9452910808575017\n"
     ]
    },
    {
     "data": {
      "image/png": "[encoded data removed]",
      "text/plain": [
       "<Figure size 1080x360 with 2 Axes>"
      ]
     },
     "metadata": {
      "needs_background": "light"
     },
     "output_type": "display_data"
    },
    {
     "name": "stdout",
     "output_type": "stream",
     "text": [
      "[[98  0  0  0  0]\n",
      " [ 0 92  0  0  0]\n",
      " [ 0  0 97  0  0]\n",
      " [ 0  0  0  2  0]\n",
      " [52  0 35  2  6]]\n",
      "76.82\n",
      "f1_weighted: 0.688142571454462, f1_macro: 0.6845925401104697, f1_micro: 0.7682291666666666, f_measure: {'Known': 82.6038, 'Open': 11.8812, 'F1-score': 68.4593}\n",
      "              precision    recall  f1-score   support\n",
      "\n",
      "           0       0.65      1.00      0.79        98\n",
      "           1       1.00      1.00      1.00        92\n",
      "           2       0.73      1.00      0.85        97\n",
      "           3       0.50      1.00      0.67         2\n",
      "           5       1.00      0.06      0.12        95\n",
      "\n",
      "    accuracy                           0.77       384\n",
      "   macro avg       0.78      0.81      0.68       384\n",
      "weighted avg       0.84      0.77      0.69       384\n",
      "\n"
     ]
    }
   ],
   "source": [
    "comment=\"700-950 , num_class=4, gave pretrained f1 23, so adding more data \"\n",
    "test_data, oset, hist = oset_train(ablation=1000,designated_ukc_cls=5,num_classes=4,embedding_size=2,\n",
    "                             lr_rate=2, optimizer='nadam',\n",
    "pretrain_epochs=14,octrain_epochs=50, wait_patient=6, comment=comment)"
   ]
  },
  {
   "cell_type": "code",
   "execution_count": 25,
   "id": "edcb2153-cdd8-487c-a855-5b36d93dcc3a",
   "metadata": {},
   "outputs": [
    {
     "data": {
      "text/plain": [
       "{'loss': [1.095260739326477,\n",
       "  0.9330243468284607,\n",
       "  0.8765450119972229,\n",
       "  0.8297002911567688,\n",
       "  0.8145577907562256,\n",
       "  0.7642148733139038,\n",
       "  0.7557262182235718,\n",
       "  0.7092770338058472,\n",
       "  0.6836777329444885,\n",
       "  0.6597353219985962,\n",
       "  0.6235506534576416,\n",
       "  0.6397823095321655,\n",
       "  0.5323417782783508,\n",
       "  0.2983563542366028],\n",
       " 'accuracy': [0.46875,\n",
       "  0.5206249952316284,\n",
       "  0.573437511920929,\n",
       "  0.6153125166893005,\n",
       "  0.6387500166893005,\n",
       "  0.6840624809265137,\n",
       "  0.6762499809265137,\n",
       "  0.7181249856948853,\n",
       "  0.7265625,\n",
       "  0.7318750023841858,\n",
       "  0.770312488079071,\n",
       "  0.7228124737739563,\n",
       "  0.7953125238418579,\n",
       "  0.9646875262260437],\n",
       " 'precision_10': [0.7907268404960632,\n",
       "  0.6881998181343079,\n",
       "  0.692307710647583,\n",
       "  0.7320312261581421,\n",
       "  0.8145604133605957,\n",
       "  0.8891075849533081,\n",
       "  0.8861517906188965,\n",
       "  0.9580374360084534,\n",
       "  0.9685695767402649,\n",
       "  0.9825693964958191,\n",
       "  0.9744389057159424,\n",
       "  0.980719804763794,\n",
       "  0.9732739329338074,\n",
       "  0.98838210105896],\n",
       " 'recall_10': [0.19718749821186066,\n",
       "  0.24968749284744263,\n",
       "  0.2503125071525574,\n",
       "  0.2928124964237213,\n",
       "  0.37062498927116394,\n",
       "  0.4234375059604645,\n",
       "  0.41593751311302185,\n",
       "  0.4637500047683716,\n",
       "  0.47187501192092896,\n",
       "  0.47562500834465027,\n",
       "  0.4884375035762787,\n",
       "  0.4768750071525574,\n",
       "  0.5462499856948853,\n",
       "  0.7178124785423279],\n",
       " 'val_loss': [0.9625452160835266,\n",
       "  0.8778719305992126,\n",
       "  0.8578366637229919,\n",
       "  0.7949792742729187,\n",
       "  0.7868836522102356,\n",
       "  0.7184324264526367,\n",
       "  0.7099709510803223,\n",
       "  0.6925188899040222,\n",
       "  0.6605127453804016,\n",
       "  0.6659082770347595,\n",
       "  0.6525062918663025,\n",
       "  0.728201150894165,\n",
       "  0.300462931394577,\n",
       "  0.32144102454185486],\n",
       " 'val_accuracy': [0.5,\n",
       "  0.5026041865348816,\n",
       "  0.6171875,\n",
       "  0.6822916865348816,\n",
       "  0.5755208134651184,\n",
       "  0.71875,\n",
       "  0.6901041865348816,\n",
       "  0.7083333134651184,\n",
       "  0.7135416865348816,\n",
       "  0.7083333134651184,\n",
       "  0.7109375,\n",
       "  0.671875,\n",
       "  0.9791666865348816,\n",
       "  0.9661458134651184],\n",
       " 'val_precision_10': [0.5588235259056091,\n",
       "  0.5248618721961975,\n",
       "  0.8392857313156128,\n",
       "  0.9289940595626831,\n",
       "  0.6594594717025757,\n",
       "  0.9513513445854187,\n",
       "  0.929347813129425,\n",
       "  0.9722222089767456,\n",
       "  0.9672130942344666,\n",
       "  0.9459459185600281,\n",
       "  0.9668508172035217,\n",
       "  0.8695651888847351,\n",
       "  0.9930555820465088,\n",
       "  0.9751772880554199],\n",
       " 'val_recall_10': [0.2473958283662796,\n",
       "  0.2473958283662796,\n",
       "  0.2447916716337204,\n",
       "  0.4088541567325592,\n",
       "  0.3177083432674408,\n",
       "  0.4583333432674408,\n",
       "  0.4453125,\n",
       "  0.4557291567325592,\n",
       "  0.4609375,\n",
       "  0.4557291567325592,\n",
       "  0.4557291567325592,\n",
       "  0.4166666567325592,\n",
       "  0.7447916865348816,\n",
       "  0.7161458134651184]}"
      ]
     },
     "execution_count": 25,
     "metadata": {},
     "output_type": "execute_result"
    }
   ],
   "source": [
    "hist.history"
   ]
  },
  {
   "cell_type": "code",
   "execution_count": 31,
   "id": "7be4aacc-87d3-4276-ab7c-47b022e8322a",
   "metadata": {},
   "outputs": [
    {
     "name": "stdout",
     "output_type": "stream",
     "text": [
      "0.9647\n",
      "0.9661\n",
      "CPU times: total: 0 ns\n",
      "Wall time: 0 ns\n"
     ]
    }
   ],
   "source": [
    "%%time\n",
    "pre_tr_acc = hist.history.get('accuracy')[len(hist.history.get('accuracy'))-1]\n",
    "print(round(pre_tr_acc, 4))\n",
    "pre_val_acc = hist.history.get('val_accuracy')[len(hist.history.get('val_accuracy'))-1]\n",
    "print(round(pre_val_acc, 4))"
   ]
  },
  {
   "cell_type": "code",
   "execution_count": 3,
   "id": "6f81a8f0-d20c-4157-9b8f-1507a1179e81",
   "metadata": {},
   "outputs": [],
   "source": [
    "# import ipynbname\n",
    "# nb_name = ipynbname.name()"
   ]
  },
  {
   "cell_type": "code",
   "execution_count": 1,
   "id": "7cd9c453-f0ef-4965-8918-636077edaff1",
   "metadata": {},
   "outputs": [
    {
     "data": {
      "application/javascript": [
       "\n",
       "console.log('Starting front end url_querystring_target comm target');\n",
       "const comm = Jupyter.notebook.kernel.comm_manager.new_comm('url_querystring_target', {'init': 1});\n",
       "comm.send({'ipyparams_browser_url': window.location.href});\n",
       "console.log('Sent window.location.href on url_querystring_target comm target');\n",
       "\n",
       "comm.on_msg(function(msg) {\n",
       "    console.log(msg.content.data);\n",
       "});\n"
      ],
      "text/plain": [
       "<IPython.core.display.Javascript object>"
      ]
     },
     "metadata": {},
     "output_type": "display_data"
    },
    {
     "name": "stdout",
     "output_type": "stream",
     "text": [
      "\n"
     ]
    }
   ],
   "source": [
    "import ipyparams\n",
    "currentNotebook = ipyparams.notebook_name\n",
    "print(currentNotebook)"
   ]
  },
  {
   "cell_type": "code",
   "execution_count": 40,
   "id": "0a63ebe2-641c-42d7-a68d-4512fa7abb14",
   "metadata": {},
   "outputs": [
    {
     "data": {
      "text/plain": [
       "['Javascript',\n",
       " '__builtins__',\n",
       " '__cached__',\n",
       " '__doc__',\n",
       " '__file__',\n",
       " '__loader__',\n",
       " '__name__',\n",
       " '__package__',\n",
       " '__path__',\n",
       " '__spec__',\n",
       " '_ipython_support',\n",
       " 'basename',\n",
       " 'defaultdict',\n",
       " 'display',\n",
       " 'get_ipython',\n",
       " 'notebook_name',\n",
       " 'params',\n",
       " 'parse_qs',\n",
       " 'raw_params',\n",
       " 'raw_url',\n",
       " 'sleep',\n",
       " 'target_func',\n",
       " 'update_params',\n",
       " 'urlparse']"
      ]
     },
     "execution_count": 40,
     "metadata": {},
     "output_type": "execute_result"
    }
   ],
   "source": [
    "dir(ipyparams)"
   ]
  }
 ],
 "metadata": {
  "kernelspec": {
   "display_name": "Python 3 (ipykernel)",
   "language": "python",
   "name": "python3"
  },
  "language_info": {
   "codemirror_mode": {
    "name": "ipython",
    "version": 3
   },
   "file_extension": ".py",
   "mimetype": "text/x-python",
   "name": "python",
   "nbconvert_exporter": "python",
   "pygments_lexer": "ipython3",
   "version": "3.9.12"
  }
 },
 "nbformat": 4,
 "nbformat_minor": 5
}
