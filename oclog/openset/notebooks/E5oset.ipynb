{
 "cells": [
  {
   "cell_type": "code",
   "execution_count": 1,
   "id": "c4aefd92",
   "metadata": {},
   "outputs": [],
   "source": [
    "import os, sys\n",
    "cur_dir = os.getcwd()\n",
    "basename = os.path.basename(cur_dir)\n",
    "for _ in range(5):\n",
    "    if basename != 'OCLog':\n",
    "        cur_dir = os.path.dirname(cur_dir)\n",
    "        basename = os.path.basename(cur_dir)\n",
    "        #print(cur_dir, basename)\n",
    "    else:\n",
    "        if cur_dir not in sys.path:\n",
    "            sys.path.append(cur_dir)\n",
    "            #print(sys.path)"
   ]
  },
  {
   "cell_type": "code",
   "execution_count": 2,
   "id": "619d8a33",
   "metadata": {},
   "outputs": [],
   "source": [
    "import numpy as np\n",
    "import matplotlib.pyplot as plt\n",
    "import seaborn as sns\n",
    "import tensorflow as tf\n",
    "from tqdm import trange, tqdm, tnrange\n",
    "from oclog.BGL.bglog import BGLog, get_embedding_layer\n",
    "from oclog.openset.boundary_loss import euclidean_metric, BoundaryLoss\n",
    "from oclog.openset.pretraining import LogLineEncoder, LogSeqEncoder, LogClassifier\n",
    "from oclog.openset.openset import OpenSet\n",
    "from oclog.openset.opensetv2 import OpenSet as osetv2"
   ]
  },
  {
   "cell_type": "code",
   "execution_count": 3,
   "id": "d96f419a",
   "metadata": {},
   "outputs": [
    {
     "name": "stdout",
     "output_type": "stream",
     "text": [
      "padded_num_seq_df loaded from C:\\Users\\Bhujay_ROG\\MyDev\\OCLog\\oclog\\BGL\\data\\bgl_padded_num_seq_df.pkl\n",
      "trained tokenizer, tk, loaded from C:\\Users\\Bhujay_ROG\\MyDev\\OCLog\\oclog\\BGL\\data\\bgltk.pkl\n",
      "train_0:, 800\n",
      "test_0:, 200\n",
      "train_1:, 800\n",
      "test_1:, 200\n",
      "train_2:, 800\n",
      "test_2:, 200\n",
      "train_3:, 800\n",
      "test_3:, 102\n",
      "4 class does not have 800 records, it has only 628 records\n",
      "test_4:, 0\n",
      "5 class does not have 800 records, it has only 165 records\n",
      "5 class does not have 200 records, it has only 165 records\n",
      "6 class does not have 800 records, it has only 75 records\n",
      "6 class does not have 200 records, it has only 75 records\n",
      "[[1. 0. 0. 0.]\n",
      " [1. 0. 0. 0.]]\n",
      "<BatchDataset element_spec=(TensorSpec(shape=(32, 32, 64), dtype=tf.int32, name=None), TensorSpec(shape=(32, 4), dtype=tf.float32, name=None))>\n",
      "<BatchDataset element_spec=(TensorSpec(shape=(32, 32, 64), dtype=tf.int32, name=None), TensorSpec(shape=(32, 4), dtype=tf.float32, name=None))>\n"
     ]
    }
   ],
   "source": [
    "bglog = BGLog(save_padded_num_sequences=False, load_from_pkl=True, )\n",
    "train_test = bglog.get_tensor_train_test(ablation=1000)\n",
    "train_data, test_data = train_test"
   ]
  },
  {
   "cell_type": "code",
   "execution_count": 4,
   "id": "16e3ddf2",
   "metadata": {},
   "outputs": [
    {
     "name": "stdout",
     "output_type": "stream",
     "text": [
      "vocab_size: 50\n",
      "Epoch 1/5\n",
      "100/100 [==============================] - 11s 99ms/step - loss: 0.4636 - accuracy: 0.8128 - precision: 0.8919 - recall: 0.7347 - val_loss: 0.0431 - val_accuracy: 0.9866 - val_precision: 0.9896 - val_recall: 0.9866\n",
      "Epoch 2/5\n",
      "100/100 [==============================] - 10s 96ms/step - loss: 0.0713 - accuracy: 0.9787 - precision: 0.9787 - recall: 0.9772 - val_loss: 0.0142 - val_accuracy: 0.9955 - val_precision: 0.9970 - val_recall: 0.9940\n",
      "Epoch 3/5\n",
      "100/100 [==============================] - 10s 96ms/step - loss: 0.0291 - accuracy: 0.9884 - precision: 0.9884 - recall: 0.9881 - val_loss: 0.0034 - val_accuracy: 1.0000 - val_precision: 1.0000 - val_recall: 1.0000\n",
      "Epoch 4/5\n",
      "100/100 [==============================] - 10s 96ms/step - loss: 0.0234 - accuracy: 0.9922 - precision: 0.9922 - recall: 0.9912 - val_loss: 0.0047 - val_accuracy: 0.9985 - val_precision: 0.9985 - val_recall: 0.9985\n",
      "Epoch 5/5\n",
      "100/100 [==============================] - 10s 96ms/step - loss: 0.0085 - accuracy: 0.9975 - precision: 0.9975 - recall: 0.9975 - val_loss: 0.0065 - val_accuracy: 0.9985 - val_precision: 0.9985 - val_recall: 0.9985\n"
     ]
    }
   ],
   "source": [
    "line_encoder = LogLineEncoder(bglog, chars_in_line=64)\n",
    "logSeqencer =  LogSeqEncoder(line_in_seq=32)\n",
    "ptmodel = LogClassifier(line_encoder=line_encoder, seq_encoder=logSeqencer, num_classes=4)\n",
    "ptmodel.compile(optimizer='adam', loss='categorical_crossentropy',\n",
    "              metrics=['accuracy', tf.keras.metrics.Precision(), tf.keras.metrics.Recall()])\n",
    "hist = ptmodel.fit(train_data, validation_data=test_data, epochs=5) "
   ]
  },
  {
   "cell_type": "code",
   "execution_count": 5,
   "id": "9e5e2d33",
   "metadata": {},
   "outputs": [
    {
     "name": "stderr",
     "output_type": "stream",
     "text": [
      "100%|████████████████████████████████████████████████████████████████████████████████| 100/100 [00:13<00:00,  7.49it/s]\n"
     ]
    },
    {
     "name": "stdout",
     "output_type": "stream",
     "text": [
      "epoch: 1/50, train_loss: 5.844631195068359\n"
     ]
    },
    {
     "name": "stderr",
     "output_type": "stream",
     "text": [
      "100%|████████████████████████████████████████████████████████████████████████████████| 100/100 [00:13<00:00,  7.45it/s]\n"
     ]
    },
    {
     "name": "stdout",
     "output_type": "stream",
     "text": [
      "epoch: 2/50, train_loss: 5.844644546508789\n"
     ]
    },
    {
     "name": "stderr",
     "output_type": "stream",
     "text": [
      "100%|████████████████████████████████████████████████████████████████████████████████| 100/100 [00:13<00:00,  7.47it/s]\n"
     ]
    },
    {
     "name": "stdout",
     "output_type": "stream",
     "text": [
      "epoch: 3/50, train_loss: 5.844634532928467\n"
     ]
    },
    {
     "name": "stderr",
     "output_type": "stream",
     "text": [
      "100%|████████████████████████████████████████████████████████████████████████████████| 100/100 [00:13<00:00,  7.46it/s]\n"
     ]
    },
    {
     "name": "stdout",
     "output_type": "stream",
     "text": [
      "epoch: 4/50, train_loss: 5.844609260559082\n"
     ]
    },
    {
     "name": "stderr",
     "output_type": "stream",
     "text": [
      "100%|████████████████████████████████████████████████████████████████████████████████| 100/100 [00:13<00:00,  7.45it/s]\n"
     ]
    },
    {
     "name": "stdout",
     "output_type": "stream",
     "text": [
      "epoch: 5/50, train_loss: 5.844616889953613\n"
     ]
    },
    {
     "name": "stderr",
     "output_type": "stream",
     "text": [
      "100%|████████████████████████████████████████████████████████████████████████████████| 100/100 [00:13<00:00,  7.46it/s]\n"
     ]
    },
    {
     "name": "stdout",
     "output_type": "stream",
     "text": [
      "epoch: 6/50, train_loss: 5.844614028930664\n"
     ]
    },
    {
     "name": "stderr",
     "output_type": "stream",
     "text": [
      "100%|████████████████████████████████████████████████████████████████████████████████| 100/100 [00:13<00:00,  7.47it/s]\n"
     ]
    },
    {
     "name": "stdout",
     "output_type": "stream",
     "text": [
      "epoch: 7/50, train_loss: 5.844615936279297\n"
     ]
    },
    {
     "name": "stderr",
     "output_type": "stream",
     "text": [
      "100%|████████████████████████████████████████████████████████████████████████████████| 100/100 [00:13<00:00,  7.46it/s]\n"
     ]
    },
    {
     "name": "stdout",
     "output_type": "stream",
     "text": [
      "epoch: 8/50, train_loss: 5.844618320465088\n"
     ]
    },
    {
     "name": "stderr",
     "output_type": "stream",
     "text": [
      "100%|████████████████████████████████████████████████████████████████████████████████| 100/100 [00:13<00:00,  7.45it/s]\n"
     ]
    },
    {
     "name": "stdout",
     "output_type": "stream",
     "text": [
      "epoch: 9/50, train_loss: 5.844632148742676\n"
     ]
    },
    {
     "name": "stderr",
     "output_type": "stream",
     "text": [
      "100%|████████████████████████████████████████████████████████████████████████████████| 100/100 [00:13<00:00,  7.47it/s]\n"
     ]
    },
    {
     "name": "stdout",
     "output_type": "stream",
     "text": [
      "epoch: 10/50, train_loss: 5.844623565673828\n"
     ]
    },
    {
     "name": "stderr",
     "output_type": "stream",
     "text": [
      "100%|████████████████████████████████████████████████████████████████████████████████| 100/100 [00:13<00:00,  7.34it/s]\n"
     ]
    },
    {
     "name": "stdout",
     "output_type": "stream",
     "text": [
      "epoch: 11/50, train_loss: 5.844614028930664\n"
     ]
    },
    {
     "name": "stderr",
     "output_type": "stream",
     "text": [
      "100%|████████████████████████████████████████████████████████████████████████████████| 100/100 [00:13<00:00,  7.47it/s]\n"
     ]
    },
    {
     "name": "stdout",
     "output_type": "stream",
     "text": [
      "epoch: 12/50, train_loss: 5.8446149826049805\n"
     ]
    },
    {
     "name": "stderr",
     "output_type": "stream",
     "text": [
      "100%|████████████████████████████████████████████████████████████████████████████████| 100/100 [00:13<00:00,  7.46it/s]\n"
     ]
    },
    {
     "name": "stdout",
     "output_type": "stream",
     "text": [
      "epoch: 13/50, train_loss: 5.844630718231201\n"
     ]
    },
    {
     "name": "stderr",
     "output_type": "stream",
     "text": [
      "100%|████████████████████████████████████████████████████████████████████████████████| 100/100 [00:13<00:00,  7.45it/s]\n"
     ]
    },
    {
     "name": "stdout",
     "output_type": "stream",
     "text": [
      "epoch: 14/50, train_loss: 5.844623565673828\n"
     ]
    },
    {
     "name": "stderr",
     "output_type": "stream",
     "text": [
      "100%|████████████████████████████████████████████████████████████████████████████████| 100/100 [00:13<00:00,  7.26it/s]\n"
     ]
    },
    {
     "name": "stdout",
     "output_type": "stream",
     "text": [
      "epoch: 15/50, train_loss: 5.844608306884766\n"
     ]
    },
    {
     "name": "stderr",
     "output_type": "stream",
     "text": [
      "100%|████████████████████████████████████████████████████████████████████████████████| 100/100 [00:13<00:00,  7.20it/s]\n"
     ]
    },
    {
     "name": "stdout",
     "output_type": "stream",
     "text": [
      "epoch: 16/50, train_loss: 5.8446044921875\n"
     ]
    },
    {
     "name": "stderr",
     "output_type": "stream",
     "text": [
      "100%|████████████████████████████████████████████████████████████████████████████████| 100/100 [00:13<00:00,  7.24it/s]\n"
     ]
    },
    {
     "name": "stdout",
     "output_type": "stream",
     "text": [
      "epoch: 17/50, train_loss: 5.844630241394043\n"
     ]
    },
    {
     "name": "stderr",
     "output_type": "stream",
     "text": [
      "100%|████████████████████████████████████████████████████████████████████████████████| 100/100 [00:13<00:00,  7.44it/s]\n"
     ]
    },
    {
     "name": "stdout",
     "output_type": "stream",
     "text": [
      "epoch: 18/50, train_loss: 5.844622611999512\n"
     ]
    },
    {
     "name": "stderr",
     "output_type": "stream",
     "text": [
      "100%|████████████████████████████████████████████████████████████████████████████████| 100/100 [00:13<00:00,  7.42it/s]\n"
     ]
    },
    {
     "name": "stdout",
     "output_type": "stream",
     "text": [
      "epoch: 19/50, train_loss: 5.844620227813721\n"
     ]
    },
    {
     "name": "stderr",
     "output_type": "stream",
     "text": [
      "100%|████████████████████████████████████████████████████████████████████████████████| 100/100 [00:13<00:00,  7.42it/s]\n"
     ]
    },
    {
     "name": "stdout",
     "output_type": "stream",
     "text": [
      "epoch: 20/50, train_loss: 5.844625473022461\n"
     ]
    },
    {
     "name": "stderr",
     "output_type": "stream",
     "text": [
      "100%|████████████████████████████████████████████████████████████████████████████████| 100/100 [00:13<00:00,  7.39it/s]\n"
     ]
    },
    {
     "name": "stdout",
     "output_type": "stream",
     "text": [
      "epoch: 21/50, train_loss: 5.8446245193481445\n"
     ]
    },
    {
     "name": "stderr",
     "output_type": "stream",
     "text": [
      "100%|████████████████████████████████████████████████████████████████████████████████| 100/100 [00:13<00:00,  7.41it/s]\n"
     ]
    },
    {
     "name": "stdout",
     "output_type": "stream",
     "text": [
      "epoch: 22/50, train_loss: 5.844609260559082\n"
     ]
    },
    {
     "name": "stderr",
     "output_type": "stream",
     "text": [
      "100%|████████████████████████████████████████████████████████████████████████████████| 100/100 [00:13<00:00,  7.41it/s]\n"
     ]
    },
    {
     "name": "stdout",
     "output_type": "stream",
     "text": [
      "epoch: 23/50, train_loss: 5.844626426696777\n"
     ]
    },
    {
     "name": "stderr",
     "output_type": "stream",
     "text": [
      "100%|████████████████████████████████████████████████████████████████████████████████| 100/100 [00:13<00:00,  7.42it/s]\n"
     ]
    },
    {
     "name": "stdout",
     "output_type": "stream",
     "text": [
      "epoch: 24/50, train_loss: 5.844618320465088\n"
     ]
    },
    {
     "name": "stderr",
     "output_type": "stream",
     "text": [
      "100%|████████████████████████████████████████████████████████████████████████████████| 100/100 [00:13<00:00,  7.43it/s]\n"
     ]
    },
    {
     "name": "stdout",
     "output_type": "stream",
     "text": [
      "epoch: 25/50, train_loss: 5.844629287719727\n"
     ]
    },
    {
     "name": "stderr",
     "output_type": "stream",
     "text": [
      "100%|████████████████████████████████████████████████████████████████████████████████| 100/100 [00:13<00:00,  7.46it/s]\n"
     ]
    },
    {
     "name": "stdout",
     "output_type": "stream",
     "text": [
      "epoch: 26/50, train_loss: 5.844630718231201\n"
     ]
    },
    {
     "name": "stderr",
     "output_type": "stream",
     "text": [
      "100%|████████████████████████████████████████████████████████████████████████████████| 100/100 [00:13<00:00,  7.45it/s]\n"
     ]
    },
    {
     "name": "stdout",
     "output_type": "stream",
     "text": [
      "epoch: 27/50, train_loss: 5.844624042510986\n"
     ]
    },
    {
     "name": "stderr",
     "output_type": "stream",
     "text": [
      "100%|████████████████████████████████████████████████████████████████████████████████| 100/100 [00:13<00:00,  7.45it/s]\n"
     ]
    },
    {
     "name": "stdout",
     "output_type": "stream",
     "text": [
      "epoch: 28/50, train_loss: 5.844613075256348\n"
     ]
    },
    {
     "name": "stderr",
     "output_type": "stream",
     "text": [
      "100%|████████████████████████████████████████████████████████████████████████████████| 100/100 [00:13<00:00,  7.46it/s]\n"
     ]
    },
    {
     "name": "stdout",
     "output_type": "stream",
     "text": [
      "epoch: 29/50, train_loss: 5.844629287719727\n"
     ]
    },
    {
     "name": "stderr",
     "output_type": "stream",
     "text": [
      "100%|████████████████████████████████████████████████████████████████████████████████| 100/100 [00:13<00:00,  7.46it/s]\n"
     ]
    },
    {
     "name": "stdout",
     "output_type": "stream",
     "text": [
      "epoch: 30/50, train_loss: 5.844613075256348\n"
     ]
    },
    {
     "name": "stderr",
     "output_type": "stream",
     "text": [
      "100%|████████████████████████████████████████████████████████████████████████████████| 100/100 [00:13<00:00,  7.45it/s]\n"
     ]
    },
    {
     "name": "stdout",
     "output_type": "stream",
     "text": [
      "epoch: 31/50, train_loss: 5.844626426696777\n"
     ]
    },
    {
     "name": "stderr",
     "output_type": "stream",
     "text": [
      "100%|████████████████████████████████████████████████████████████████████████████████| 100/100 [00:13<00:00,  7.43it/s]\n"
     ]
    },
    {
     "name": "stdout",
     "output_type": "stream",
     "text": [
      "epoch: 32/50, train_loss: 5.844615936279297\n"
     ]
    },
    {
     "name": "stderr",
     "output_type": "stream",
     "text": [
      "100%|████████████████████████████████████████████████████████████████████████████████| 100/100 [00:13<00:00,  7.44it/s]\n"
     ]
    },
    {
     "name": "stdout",
     "output_type": "stream",
     "text": [
      "epoch: 33/50, train_loss: 5.844625473022461\n"
     ]
    },
    {
     "name": "stderr",
     "output_type": "stream",
     "text": [
      "100%|████████████████████████████████████████████████████████████████████████████████| 100/100 [00:13<00:00,  7.45it/s]\n"
     ]
    },
    {
     "name": "stdout",
     "output_type": "stream",
     "text": [
      "epoch: 34/50, train_loss: 5.844611167907715\n"
     ]
    },
    {
     "name": "stderr",
     "output_type": "stream",
     "text": [
      "100%|████████████████████████████████████████████████████████████████████████████████| 100/100 [00:13<00:00,  7.46it/s]\n"
     ]
    },
    {
     "name": "stdout",
     "output_type": "stream",
     "text": [
      "epoch: 35/50, train_loss: 5.844624042510986\n"
     ]
    },
    {
     "name": "stderr",
     "output_type": "stream",
     "text": [
      "100%|████████████████████████████████████████████████████████████████████████████████| 100/100 [00:13<00:00,  7.47it/s]\n"
     ]
    },
    {
     "name": "stdout",
     "output_type": "stream",
     "text": [
      "epoch: 36/50, train_loss: 5.844618320465088\n"
     ]
    },
    {
     "name": "stderr",
     "output_type": "stream",
     "text": [
      "100%|████████████████████████████████████████████████████████████████████████████████| 100/100 [00:13<00:00,  7.46it/s]\n"
     ]
    },
    {
     "name": "stdout",
     "output_type": "stream",
     "text": [
      "epoch: 37/50, train_loss: 5.844634532928467\n"
     ]
    },
    {
     "name": "stderr",
     "output_type": "stream",
     "text": [
      "100%|████████████████████████████████████████████████████████████████████████████████| 100/100 [00:13<00:00,  7.31it/s]\n"
     ]
    },
    {
     "name": "stdout",
     "output_type": "stream",
     "text": [
      "epoch: 38/50, train_loss: 5.844625473022461\n"
     ]
    },
    {
     "name": "stderr",
     "output_type": "stream",
     "text": [
      "100%|████████████████████████████████████████████████████████████████████████████████| 100/100 [00:13<00:00,  7.40it/s]\n"
     ]
    },
    {
     "name": "stdout",
     "output_type": "stream",
     "text": [
      "epoch: 39/50, train_loss: 5.844630241394043\n"
     ]
    },
    {
     "name": "stderr",
     "output_type": "stream",
     "text": [
      "100%|████████████████████████████████████████████████████████████████████████████████| 100/100 [00:13<00:00,  7.47it/s]\n"
     ]
    },
    {
     "name": "stdout",
     "output_type": "stream",
     "text": [
      "epoch: 40/50, train_loss: 5.844616889953613\n"
     ]
    },
    {
     "name": "stderr",
     "output_type": "stream",
     "text": [
      "100%|████████████████████████████████████████████████████████████████████████████████| 100/100 [00:13<00:00,  7.45it/s]\n"
     ]
    },
    {
     "name": "stdout",
     "output_type": "stream",
     "text": [
      "epoch: 41/50, train_loss: 5.84463357925415\n"
     ]
    },
    {
     "name": "stderr",
     "output_type": "stream",
     "text": [
      "100%|████████████████████████████████████████████████████████████████████████████████| 100/100 [00:13<00:00,  7.57it/s]\n"
     ]
    },
    {
     "name": "stdout",
     "output_type": "stream",
     "text": [
      "epoch: 42/50, train_loss: 5.8446245193481445\n"
     ]
    },
    {
     "name": "stderr",
     "output_type": "stream",
     "text": [
      "100%|████████████████████████████████████████████████████████████████████████████████| 100/100 [00:13<00:00,  7.60it/s]\n"
     ]
    },
    {
     "name": "stdout",
     "output_type": "stream",
     "text": [
      "epoch: 43/50, train_loss: 5.8446269035339355\n"
     ]
    },
    {
     "name": "stderr",
     "output_type": "stream",
     "text": [
      "100%|████████████████████████████████████████████████████████████████████████████████| 100/100 [00:13<00:00,  7.58it/s]\n"
     ]
    },
    {
     "name": "stdout",
     "output_type": "stream",
     "text": [
      "epoch: 44/50, train_loss: 5.8446245193481445\n"
     ]
    },
    {
     "name": "stderr",
     "output_type": "stream",
     "text": [
      "100%|████████████████████████████████████████████████████████████████████████████████| 100/100 [00:13<00:00,  7.59it/s]\n"
     ]
    },
    {
     "name": "stdout",
     "output_type": "stream",
     "text": [
      "epoch: 45/50, train_loss: 5.844615459442139\n"
     ]
    },
    {
     "name": "stderr",
     "output_type": "stream",
     "text": [
      "100%|████████████████████████████████████████████████████████████████████████████████| 100/100 [00:13<00:00,  7.56it/s]\n"
     ]
    },
    {
     "name": "stdout",
     "output_type": "stream",
     "text": [
      "epoch: 46/50, train_loss: 5.844634532928467\n"
     ]
    },
    {
     "name": "stderr",
     "output_type": "stream",
     "text": [
      "100%|████████████████████████████████████████████████████████████████████████████████| 100/100 [00:13<00:00,  7.57it/s]\n"
     ]
    },
    {
     "name": "stdout",
     "output_type": "stream",
     "text": [
      "epoch: 47/50, train_loss: 5.844621181488037\n"
     ]
    },
    {
     "name": "stderr",
     "output_type": "stream",
     "text": [
      "100%|████████████████████████████████████████████████████████████████████████████████| 100/100 [00:13<00:00,  7.57it/s]\n"
     ]
    },
    {
     "name": "stdout",
     "output_type": "stream",
     "text": [
      "epoch: 48/50, train_loss: 5.844627857208252\n"
     ]
    },
    {
     "name": "stderr",
     "output_type": "stream",
     "text": [
      "100%|████████████████████████████████████████████████████████████████████████████████| 100/100 [00:13<00:00,  7.57it/s]\n"
     ]
    },
    {
     "name": "stdout",
     "output_type": "stream",
     "text": [
      "epoch: 49/50, train_loss: 5.844632148742676\n"
     ]
    },
    {
     "name": "stderr",
     "output_type": "stream",
     "text": [
      "100%|████████████████████████████████████████████████████████████████████████████████| 100/100 [00:13<00:00,  7.57it/s]\n"
     ]
    },
    {
     "name": "stdout",
     "output_type": "stream",
     "text": [
      "epoch: 50/50, train_loss: 5.8446173667907715\n"
     ]
    },
    {
     "data": {
      "image/png": "[encoded data removed]",
      "text/plain": [
       "<Figure size 1080x360 with 2 Axes>"
      ]
     },
     "metadata": {
      "needs_background": "light"
     },
     "output_type": "display_data"
    },
    {
     "data": {
      "text/plain": [
       "([<tf.Tensor: shape=(), dtype=float32, numpy=584.46313>,\n",
       "  <tf.Tensor: shape=(), dtype=float32, numpy=584.4645>,\n",
       "  <tf.Tensor: shape=(), dtype=float32, numpy=584.46344>,\n",
       "  <tf.Tensor: shape=(), dtype=float32, numpy=584.46094>,\n",
       "  <tf.Tensor: shape=(), dtype=float32, numpy=584.4617>,\n",
       "  <tf.Tensor: shape=(), dtype=float32, numpy=584.4614>,\n",
       "  <tf.Tensor: shape=(), dtype=float32, numpy=584.4616>,\n",
       "  <tf.Tensor: shape=(), dtype=float32, numpy=584.46185>,\n",
       "  <tf.Tensor: shape=(), dtype=float32, numpy=584.4632>,\n",
       "  <tf.Tensor: shape=(), dtype=float32, numpy=584.46234>,\n",
       "  <tf.Tensor: shape=(), dtype=float32, numpy=584.4614>,\n",
       "  <tf.Tensor: shape=(), dtype=float32, numpy=584.4615>,\n",
       "  <tf.Tensor: shape=(), dtype=float32, numpy=584.4631>,\n",
       "  <tf.Tensor: shape=(), dtype=float32, numpy=584.46234>,\n",
       "  <tf.Tensor: shape=(), dtype=float32, numpy=584.4608>,\n",
       "  <tf.Tensor: shape=(), dtype=float32, numpy=584.46045>,\n",
       "  <tf.Tensor: shape=(), dtype=float32, numpy=584.463>,\n",
       "  <tf.Tensor: shape=(), dtype=float32, numpy=584.4623>,\n",
       "  <tf.Tensor: shape=(), dtype=float32, numpy=584.46204>,\n",
       "  <tf.Tensor: shape=(), dtype=float32, numpy=584.4625>,\n",
       "  <tf.Tensor: shape=(), dtype=float32, numpy=584.46246>,\n",
       "  <tf.Tensor: shape=(), dtype=float32, numpy=584.46094>,\n",
       "  <tf.Tensor: shape=(), dtype=float32, numpy=584.46265>,\n",
       "  <tf.Tensor: shape=(), dtype=float32, numpy=584.46185>,\n",
       "  <tf.Tensor: shape=(), dtype=float32, numpy=584.46295>,\n",
       "  <tf.Tensor: shape=(), dtype=float32, numpy=584.4631>,\n",
       "  <tf.Tensor: shape=(), dtype=float32, numpy=584.4624>,\n",
       "  <tf.Tensor: shape=(), dtype=float32, numpy=584.4613>,\n",
       "  <tf.Tensor: shape=(), dtype=float32, numpy=584.46295>,\n",
       "  <tf.Tensor: shape=(), dtype=float32, numpy=584.4613>,\n",
       "  <tf.Tensor: shape=(), dtype=float32, numpy=584.46265>,\n",
       "  <tf.Tensor: shape=(), dtype=float32, numpy=584.4616>,\n",
       "  <tf.Tensor: shape=(), dtype=float32, numpy=584.4625>,\n",
       "  <tf.Tensor: shape=(), dtype=float32, numpy=584.4611>,\n",
       "  <tf.Tensor: shape=(), dtype=float32, numpy=584.4624>,\n",
       "  <tf.Tensor: shape=(), dtype=float32, numpy=584.46185>,\n",
       "  <tf.Tensor: shape=(), dtype=float32, numpy=584.46344>,\n",
       "  <tf.Tensor: shape=(), dtype=float32, numpy=584.4625>,\n",
       "  <tf.Tensor: shape=(), dtype=float32, numpy=584.463>,\n",
       "  <tf.Tensor: shape=(), dtype=float32, numpy=584.4617>,\n",
       "  <tf.Tensor: shape=(), dtype=float32, numpy=584.4634>,\n",
       "  <tf.Tensor: shape=(), dtype=float32, numpy=584.46246>,\n",
       "  <tf.Tensor: shape=(), dtype=float32, numpy=584.4627>,\n",
       "  <tf.Tensor: shape=(), dtype=float32, numpy=584.46246>,\n",
       "  <tf.Tensor: shape=(), dtype=float32, numpy=584.46155>,\n",
       "  <tf.Tensor: shape=(), dtype=float32, numpy=584.46344>,\n",
       "  <tf.Tensor: shape=(), dtype=float32, numpy=584.4621>,\n",
       "  <tf.Tensor: shape=(), dtype=float32, numpy=584.46277>,\n",
       "  <tf.Tensor: shape=(), dtype=float32, numpy=584.4632>,\n",
       "  <tf.Tensor: shape=(), dtype=float32, numpy=584.46173>],\n",
       " [<tf.Variable 'boundary_loss/Variable:0' shape=(4, 1) dtype=float32, numpy=\n",
       "  array([[1.6401937],\n",
       "         [1.6608899],\n",
       "         [1.6794803],\n",
       "         [1.6225598]], dtype=float32)>,\n",
       "  <tf.Variable 'boundary_loss/Variable:0' shape=(4, 1) dtype=float32, numpy=\n",
       "  array([[2.0110943],\n",
       "         [2.0317671],\n",
       "         [2.0503702],\n",
       "         [1.9934553]], dtype=float32)>,\n",
       "  <tf.Variable 'boundary_loss/Variable:0' shape=(4, 1) dtype=float32, numpy=\n",
       "  array([[2.2746847],\n",
       "         [2.2953694],\n",
       "         [2.3139515],\n",
       "         [2.257042 ]], dtype=float32)>,\n",
       "  <tf.Variable 'boundary_loss/Variable:0' shape=(4, 1) dtype=float32, numpy=\n",
       "  array([[2.480498 ],\n",
       "         [2.5011773],\n",
       "         [2.5197694],\n",
       "         [2.4628668]], dtype=float32)>,\n",
       "  <tf.Variable 'boundary_loss/Variable:0' shape=(4, 1) dtype=float32, numpy=\n",
       "  array([[2.6484017],\n",
       "         [2.6691084],\n",
       "         [2.687671 ],\n",
       "         [2.6307683]], dtype=float32)>,\n",
       "  <tf.Variable 'boundary_loss/Variable:0' shape=(4, 1) dtype=float32, numpy=\n",
       "  array([[2.7889187],\n",
       "         [2.8096209],\n",
       "         [2.8281946],\n",
       "         [2.7712908]], dtype=float32)>,\n",
       "  <tf.Variable 'boundary_loss/Variable:0' shape=(4, 1) dtype=float32, numpy=\n",
       "  array([[2.908496 ],\n",
       "         [2.9291759],\n",
       "         [2.9477782],\n",
       "         [2.8908515]], dtype=float32)>,\n",
       "  <tf.Variable 'boundary_loss/Variable:0' shape=(4, 1) dtype=float32, numpy=\n",
       "  array([[3.0114362],\n",
       "         [3.0321305],\n",
       "         [3.0507197],\n",
       "         [2.9937959]], dtype=float32)>,\n",
       "  <tf.Variable 'boundary_loss/Variable:0' shape=(4, 1) dtype=float32, numpy=\n",
       "  array([[3.1008408],\n",
       "         [3.1215334],\n",
       "         [3.140113 ],\n",
       "         [3.0831742]], dtype=float32)>,\n",
       "  <tf.Variable 'boundary_loss/Variable:0' shape=(4, 1) dtype=float32, numpy=\n",
       "  array([[3.1789663],\n",
       "         [3.199686 ],\n",
       "         [3.218265 ],\n",
       "         [3.1613302]], dtype=float32)>,\n",
       "  <tf.Variable 'boundary_loss/Variable:0' shape=(4, 1) dtype=float32, numpy=\n",
       "  array([[3.2476375],\n",
       "         [3.2683473],\n",
       "         [3.2869422],\n",
       "         [3.230013 ]], dtype=float32)>,\n",
       "  <tf.Variable 'boundary_loss/Variable:0' shape=(4, 1) dtype=float32, numpy=\n",
       "  array([[3.3082578],\n",
       "         [3.3289104],\n",
       "         [3.3475366],\n",
       "         [3.2906132]], dtype=float32)>,\n",
       "  <tf.Variable 'boundary_loss/Variable:0' shape=(4, 1) dtype=float32, numpy=\n",
       "  array([[3.3619041],\n",
       "         [3.382599 ],\n",
       "         [3.4011917],\n",
       "         [3.3442597]], dtype=float32)>,\n",
       "  <tf.Variable 'boundary_loss/Variable:0' shape=(4, 1) dtype=float32, numpy=\n",
       "  array([[3.4095562],\n",
       "         [3.4302304],\n",
       "         [3.448828 ],\n",
       "         [3.3919115]], dtype=float32)>,\n",
       "  <tf.Variable 'boundary_loss/Variable:0' shape=(4, 1) dtype=float32, numpy=\n",
       "  array([[3.4519455],\n",
       "         [3.4726474],\n",
       "         [3.4912417],\n",
       "         [3.434308 ]], dtype=float32)>,\n",
       "  <tf.Variable 'boundary_loss/Variable:0' shape=(4, 1) dtype=float32, numpy=\n",
       "  array([[3.4897773],\n",
       "         [3.510462 ],\n",
       "         [3.529048 ],\n",
       "         [3.4721403]], dtype=float32)>,\n",
       "  <tf.Variable 'boundary_loss/Variable:0' shape=(4, 1) dtype=float32, numpy=\n",
       "  array([[3.5235698],\n",
       "         [3.5442598],\n",
       "         [3.5628293],\n",
       "         [3.5059214]], dtype=float32)>,\n",
       "  <tf.Variable 'boundary_loss/Variable:0' shape=(4, 1) dtype=float32, numpy=\n",
       "  array([[3.5537908],\n",
       "         [3.5744905],\n",
       "         [3.5930722],\n",
       "         [3.536152 ]], dtype=float32)>,\n",
       "  <tf.Variable 'boundary_loss/Variable:0' shape=(4, 1) dtype=float32, numpy=\n",
       "  array([[3.580879 ],\n",
       "         [3.6015763],\n",
       "         [3.6201327],\n",
       "         [3.5632386]], dtype=float32)>,\n",
       "  <tf.Variable 'boundary_loss/Variable:0' shape=(4, 1) dtype=float32, numpy=\n",
       "  array([[3.605168 ],\n",
       "         [3.6258624],\n",
       "         [3.6444564],\n",
       "         [3.5874615]], dtype=float32)>,\n",
       "  <tf.Variable 'boundary_loss/Variable:0' shape=(4, 1) dtype=float32, numpy=\n",
       "  array([[3.6269608],\n",
       "         [3.6476734],\n",
       "         [3.6662536],\n",
       "         [3.6093163]], dtype=float32)>,\n",
       "  <tf.Variable 'boundary_loss/Variable:0' shape=(4, 1) dtype=float32, numpy=\n",
       "  array([[3.6465726],\n",
       "         [3.6672654],\n",
       "         [3.6858182],\n",
       "         [3.6289077]], dtype=float32)>,\n",
       "  <tf.Variable 'boundary_loss/Variable:0' shape=(4, 1) dtype=float32, numpy=\n",
       "  array([[3.6641858],\n",
       "         [3.6848583],\n",
       "         [3.703457 ],\n",
       "         [3.646541 ]], dtype=float32)>,\n",
       "  <tf.Variable 'boundary_loss/Variable:0' shape=(4, 1) dtype=float32, numpy=\n",
       "  array([[3.6800187],\n",
       "         [3.700726 ],\n",
       "         [3.719302 ],\n",
       "         [3.662395 ]], dtype=float32)>,\n",
       "  <tf.Variable 'boundary_loss/Variable:0' shape=(4, 1) dtype=float32, numpy=\n",
       "  array([[3.6943033],\n",
       "         [3.7149832],\n",
       "         [3.7335746],\n",
       "         [3.6766543]], dtype=float32)>,\n",
       "  <tf.Variable 'boundary_loss/Variable:0' shape=(4, 1) dtype=float32, numpy=\n",
       "  array([[3.7071593],\n",
       "         [3.727839 ],\n",
       "         [3.7464352],\n",
       "         [3.6895046]], dtype=float32)>,\n",
       "  <tf.Variable 'boundary_loss/Variable:0' shape=(4, 1) dtype=float32, numpy=\n",
       "  array([[3.7186995],\n",
       "         [3.7394283],\n",
       "         [3.7580142],\n",
       "         [3.7011065]], dtype=float32)>,\n",
       "  <tf.Variable 'boundary_loss/Variable:0' shape=(4, 1) dtype=float32, numpy=\n",
       "  array([[3.729142 ],\n",
       "         [3.7498786],\n",
       "         [3.768457 ],\n",
       "         [3.711544 ]], dtype=float32)>,\n",
       "  <tf.Variable 'boundary_loss/Variable:0' shape=(4, 1) dtype=float32, numpy=\n",
       "  array([[3.7386138],\n",
       "         [3.7592995],\n",
       "         [3.77781  ],\n",
       "         [3.720931 ]], dtype=float32)>,\n",
       "  <tf.Variable 'boundary_loss/Variable:0' shape=(4, 1) dtype=float32, numpy=\n",
       "  array([[3.7471104],\n",
       "         [3.7677617],\n",
       "         [3.7863758],\n",
       "         [3.7294273]], dtype=float32)>,\n",
       "  <tf.Variable 'boundary_loss/Variable:0' shape=(4, 1) dtype=float32, numpy=\n",
       "  array([[3.7547672],\n",
       "         [3.7754571],\n",
       "         [3.794015 ],\n",
       "         [3.7371225]], dtype=float32)>,\n",
       "  <tf.Variable 'boundary_loss/Variable:0' shape=(4, 1) dtype=float32, numpy=\n",
       "  array([[3.761678 ],\n",
       "         [3.7823818],\n",
       "         [3.8009598],\n",
       "         [3.7440333]], dtype=float32)>,\n",
       "  <tf.Variable 'boundary_loss/Variable:0' shape=(4, 1) dtype=float32, numpy=\n",
       "  array([[3.7679405],\n",
       "         [3.7886093],\n",
       "         [3.8071692],\n",
       "         [3.7503014]], dtype=float32)>,\n",
       "  <tf.Variable 'boundary_loss/Variable:0' shape=(4, 1) dtype=float32, numpy=\n",
       "  array([[3.7735837],\n",
       "         [3.7942736],\n",
       "         [3.8128278],\n",
       "         [3.7559257]], dtype=float32)>,\n",
       "  <tf.Variable 'boundary_loss/Variable:0' shape=(4, 1) dtype=float32, numpy=\n",
       "  array([[3.778649 ],\n",
       "         [3.7993674],\n",
       "         [3.817962 ],\n",
       "         [3.761015 ]], dtype=float32)>,\n",
       "  <tf.Variable 'boundary_loss/Variable:0' shape=(4, 1) dtype=float32, numpy=\n",
       "  array([[3.7832775],\n",
       "         [3.8039277],\n",
       "         [3.822561 ],\n",
       "         [3.7656407]], dtype=float32)>,\n",
       "  <tf.Variable 'boundary_loss/Variable:0' shape=(4, 1) dtype=float32, numpy=\n",
       "  array([[3.7874455],\n",
       "         [3.8081036],\n",
       "         [3.8267076],\n",
       "         [3.7698011]], dtype=float32)>,\n",
       "  <tf.Variable 'boundary_loss/Variable:0' shape=(4, 1) dtype=float32, numpy=\n",
       "  array([[3.7912016],\n",
       "         [3.811887 ],\n",
       "         [3.8304672],\n",
       "         [3.7735524]], dtype=float32)>,\n",
       "  <tf.Variable 'boundary_loss/Variable:0' shape=(4, 1) dtype=float32, numpy=\n",
       "  array([[3.7945948],\n",
       "         [3.8152847],\n",
       "         [3.8338752],\n",
       "         [3.7769442]], dtype=float32)>,\n",
       "  <tf.Variable 'boundary_loss/Variable:0' shape=(4, 1) dtype=float32, numpy=\n",
       "  array([[3.7976418],\n",
       "         [3.8183665],\n",
       "         [3.8369017],\n",
       "         [3.780034 ]], dtype=float32)>,\n",
       "  <tf.Variable 'boundary_loss/Variable:0' shape=(4, 1) dtype=float32, numpy=\n",
       "  array([[3.800402 ],\n",
       "         [3.8211317],\n",
       "         [3.8397288],\n",
       "         [3.782802 ]], dtype=float32)>,\n",
       "  <tf.Variable 'boundary_loss/Variable:0' shape=(4, 1) dtype=float32, numpy=\n",
       "  array([[3.802938],\n",
       "         [3.823646],\n",
       "         [3.842232],\n",
       "         [3.785307]], dtype=float32)>,\n",
       "  <tf.Variable 'boundary_loss/Variable:0' shape=(4, 1) dtype=float32, numpy=\n",
       "  array([[3.8052146],\n",
       "         [3.8259256],\n",
       "         [3.844483 ],\n",
       "         [3.7875624]], dtype=float32)>,\n",
       "  <tf.Variable 'boundary_loss/Variable:0' shape=(4, 1) dtype=float32, numpy=\n",
       "  array([[3.807272 ],\n",
       "         [3.827975 ],\n",
       "         [3.8465078],\n",
       "         [3.7896276]], dtype=float32)>,\n",
       "  <tf.Variable 'boundary_loss/Variable:0' shape=(4, 1) dtype=float32, numpy=\n",
       "  array([[3.8091211],\n",
       "         [3.8298213],\n",
       "         [3.8483896],\n",
       "         [3.7914906]], dtype=float32)>,\n",
       "  <tf.Variable 'boundary_loss/Variable:0' shape=(4, 1) dtype=float32, numpy=\n",
       "  array([[3.8108125],\n",
       "         [3.8315024],\n",
       "         [3.8500671],\n",
       "         [3.7931466]], dtype=float32)>,\n",
       "  <tf.Variable 'boundary_loss/Variable:0' shape=(4, 1) dtype=float32, numpy=\n",
       "  array([[3.8123157],\n",
       "         [3.8330162],\n",
       "         [3.8516085],\n",
       "         [3.794653 ]], dtype=float32)>,\n",
       "  <tf.Variable 'boundary_loss/Variable:0' shape=(4, 1) dtype=float32, numpy=\n",
       "  array([[3.813698 ],\n",
       "         [3.8343966],\n",
       "         [3.852929 ],\n",
       "         [3.796043 ]], dtype=float32)>,\n",
       "  <tf.Variable 'boundary_loss/Variable:0' shape=(4, 1) dtype=float32, numpy=\n",
       "  array([[3.8149343],\n",
       "         [3.8356001],\n",
       "         [3.8542254],\n",
       "         [3.7972765]], dtype=float32)>,\n",
       "  <tf.Variable 'boundary_loss/Variable:0' shape=(4, 1) dtype=float32, numpy=\n",
       "  array([[3.8160396],\n",
       "         [3.8367524],\n",
       "         [3.8553295],\n",
       "         [3.798409 ]], dtype=float32)>])"
      ]
     },
     "execution_count": 5,
     "metadata": {},
     "output_type": "execute_result"
    }
   ],
   "source": [
    "# oset = OpenSet(4, ptmodel) \n",
    "oset = osetv2(4, ptmodel)\n",
    "oset.train(train_data, epochs=50, lr_rate = 1)\n",
    "# print(oset.radius_changes[0], oset.radius_changes[len(oset.radius_changes)-1])\n",
    "# print(oset.openpredict(oset.features))"
   ]
  },
  {
   "cell_type": "code",
   "execution_count": 6,
   "id": "12f2dff1",
   "metadata": {},
   "outputs": [
    {
     "data": {
      "image/png": "[encoded data removed]",
      "text/plain": [
       "<Figure size 1080x360 with 2 Axes>"
      ]
     },
     "metadata": {
      "needs_background": "light"
     },
     "output_type": "display_data"
    },
    {
     "name": "stdout",
     "output_type": "stream",
     "text": [
      "<tf.Variable 'boundary_loss/Variable:0' shape=(4, 1) dtype=float32, numpy=\n",
      "array([[1.6401937],\n",
      "       [1.6608899],\n",
      "       [1.6794803],\n",
      "       [1.6225598]], dtype=float32)> <tf.Variable 'boundary_loss/Variable:0' shape=(4, 1) dtype=float32, numpy=\n",
      "array([[3.8160396],\n",
      "       [3.8367524],\n",
      "       [3.8553295],\n",
      "       [3.798409 ]], dtype=float32)>\n",
      "euc_dis: tf.Tensor(\n",
      "[13.799753    7.7045937  11.938675   12.855525    2.1357417   8.0044\n",
      " 12.512034    2.6646109   9.54055     0.62612736  4.7268424   3.0176616\n",
      "  7.142834    1.743036    2.251812    2.7918844  11.609283    9.7233\n",
      "  7.2805996   8.950837   12.108105    2.7918844  11.618418    3.066754\n",
      " 11.056401    7.011066   23.07774     3.3440876   5.4137926   4.83005\n",
      "  4.8647842   7.2263985 ], shape=(32,), dtype=float32)\n",
      "pred_radius: tf.Tensor(\n",
      "[3.8367524 3.798409  3.8367524 3.8367524 3.798409  3.798409  3.798409\n",
      " 3.8160396 3.8367524 3.8553295 3.798409  3.8160396 3.798409  3.798409\n",
      " 3.8553295 3.8553295 3.8367524 3.8367524 3.8553295 3.8553295 3.8367524\n",
      " 3.8553295 3.8367524 3.8160396 3.8160396 3.8367524 3.8367524 3.8160396\n",
      " 3.8160396 3.8553295 3.8553295 3.798409 ], shape=(32,), dtype=float32)\n",
      "predictions with unknown-9999: [9999 9999 9999 9999    3 9999 9999    0 9999    2 9999    0 9999    3\n",
      "    2    2 9999 9999 9999 9999 9999    2 9999    0 9999 9999 9999    0\n",
      " 9999 9999 9999 9999]\n"
     ]
    }
   ],
   "source": [
    "oset.plot_radius_chages()\n",
    "print(oset.radius_changes[0], oset.radius_changes[len(oset.radius_changes)-1])\n",
    "preds = oset.openpredict(oset.features)"
   ]
  },
  {
   "cell_type": "code",
   "execution_count": 9,
   "id": "2b7fcbca",
   "metadata": {},
   "outputs": [
    {
     "name": "stderr",
     "output_type": "stream",
     "text": [
      "  0%|                                                                                          | 0/100 [00:00<?, ?it/s]\n"
     ]
    },
    {
     "ename": "NameError",
     "evalue": "name 'features' is not defined",
     "output_type": "error",
     "traceback": [
      "\u001b[1;31m---------------------------------------------------------------------------\u001b[0m",
      "\u001b[1;31mNameError\u001b[0m                                 Traceback (most recent call last)",
      "Input \u001b[1;32mIn [9]\u001b[0m, in \u001b[0;36m<cell line: 1>\u001b[1;34m()\u001b[0m\n\u001b[1;32m----> 1\u001b[0m \u001b[43moset\u001b[49m\u001b[38;5;241;43m.\u001b[39;49m\u001b[43mevaluate\u001b[49m\u001b[43m(\u001b[49m\u001b[43mtrain_data\u001b[49m\u001b[43m)\u001b[49m\n",
      "File \u001b[1;32m~\\MyDev\\OCLog\\oclog\\openset\\opensetv2.py:136\u001b[0m, in \u001b[0;36mOpenSet.evaluate\u001b[1;34m(self, data)\u001b[0m\n\u001b[0;32m    134\u001b[0m logseq_batch, label_batch \u001b[38;5;241m=\u001b[39m batch\n\u001b[0;32m    135\u001b[0m features_batch \u001b[38;5;241m=\u001b[39m \u001b[38;5;28mself\u001b[39m\u001b[38;5;241m.\u001b[39mget_pretrained_features(logseq_batch)\n\u001b[1;32m--> 136\u001b[0m preds_np \u001b[38;5;241m=\u001b[39m \u001b[38;5;28mself\u001b[39m\u001b[38;5;241m.\u001b[39mopenpredict(\u001b[43mfeatures\u001b[49m)            \n\u001b[0;32m    137\u001b[0m label_indexs \u001b[38;5;241m=\u001b[39m tf\u001b[38;5;241m.\u001b[39mmath\u001b[38;5;241m.\u001b[39margmax(labels, axis\u001b[38;5;241m=\u001b[39m\u001b[38;5;241m1\u001b[39m)\n\u001b[0;32m    138\u001b[0m label_index_np \u001b[38;5;241m=\u001b[39m label_index\u001b[38;5;241m.\u001b[39mnumpy()\n",
      "\u001b[1;31mNameError\u001b[0m: name 'features' is not defined"
     ]
    }
   ],
   "source": [
    "oset.evaluate(train_data)"
   ]
  },
  {
   "cell_type": "code",
   "execution_count": null,
   "id": "0c92f5f3-7aaa-4c66-b8a6-2a34b5ae6437",
   "metadata": {},
   "outputs": [],
   "source": [
    "\n"
   ]
  },
  {
   "cell_type": "code",
   "execution_count": null,
   "id": "e9fcbaee-7694-481c-a9d1-787625e3958a",
   "metadata": {},
   "outputs": [],
   "source": []
  },
  {
   "cell_type": "code",
   "execution_count": null,
   "id": "908f8d51-8f3e-463c-8384-5f67ae0e62b8",
   "metadata": {},
   "outputs": [],
   "source": []
  },
  {
   "cell_type": "code",
   "execution_count": null,
   "id": "65ad5265-b60e-4c61-a627-86d0af8a048a",
   "metadata": {},
   "outputs": [],
   "source": []
  },
  {
   "cell_type": "code",
   "execution_count": null,
   "id": "b71ca5ec-6e26-4d45-875f-f226bad348ae",
   "metadata": {},
   "outputs": [],
   "source": []
  },
  {
   "cell_type": "code",
   "execution_count": null,
   "id": "fe78bfa0-ba46-4ae7-ab60-837df3b63201",
   "metadata": {},
   "outputs": [],
   "source": []
  },
  {
   "cell_type": "code",
   "execution_count": null,
   "id": "eb968686-35e4-4aba-a756-4d59b90c8089",
   "metadata": {},
   "outputs": [],
   "source": []
  }
 ],
 "metadata": {
  "kernelspec": {
   "display_name": "Python 3 (ipykernel)",
   "language": "python",
   "name": "python3"
  },
  "language_info": {
   "codemirror_mode": {
    "name": "ipython",
    "version": 3
   },
   "file_extension": ".py",
   "mimetype": "text/x-python",
   "name": "python",
   "nbconvert_exporter": "python",
   "pygments_lexer": "ipython3",
   "version": "3.9.12"
  }
 },
 "nbformat": 4,
 "nbformat_minor": 5
}
