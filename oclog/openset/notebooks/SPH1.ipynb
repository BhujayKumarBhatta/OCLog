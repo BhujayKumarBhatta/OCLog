{
 "cells": [
  {
   "cell_type": "code",
   "execution_count": 1,
   "id": "c24d54f7-c6b1-43de-b23e-05e3907ccef7",
   "metadata": {},
   "outputs": [],
   "source": [
    "import os, sys\n",
    "cur_dir = os.getcwd()\n",
    "basename = os.path.basename(cur_dir)\n",
    "for _ in range(5):\n",
    "    if basename != 'OCLog':\n",
    "        cur_dir = os.path.dirname(cur_dir)\n",
    "        basename = os.path.basename(cur_dir)\n",
    "        #print(cur_dir, basename)\n",
    "    else:\n",
    "        if cur_dir not in sys.path:\n",
    "            sys.path.append(cur_dir)\n",
    "            #print(sys.path)\n",
    "import os\n",
    "from openpyxl import Workbook\n",
    "from openpyxl import load_workbook\n",
    "import pandas as pd\n",
    "import numpy as np\n",
    "import matplotlib.pyplot as plt\n",
    "import seaborn as sns\n",
    "import tensorflow as tf\n",
    "from tqdm import trange, tqdm, tnrange\n",
    "from oclog.BGL.bglv1 import BGLog\n",
    "from oclog.openset.opensetv12 import OpenSet\n",
    "from sklearn.metrics import confusion_matrix, f1_score, accuracy_score\n",
    "import sklearn.metrics as m\n",
    "import warnings\n",
    "warnings.filterwarnings('ignore')\n",
    "from sklearn.preprocessing import MinMaxScaler, StandardScaler\n",
    "from sklearn.manifold import TSNE\n",
    "tf.random.set_seed(1234)\n",
    "np.random.seed(1234) "
   ]
  },
  {
   "cell_type": "code",
   "execution_count": 2,
   "id": "21b96066-4d1b-46e9-a982-d3157a51d29d",
   "metadata": {},
   "outputs": [
    {
     "name": "stdout",
     "output_type": "stream",
     "text": [
      "padded_num_seq_df loaded from C:\\Users\\Bhujay_ROG\\MyDev\\OCLog\\oclog\\BGL\\data\\bgl_ukc.pkl\n",
      "trained tokenizer, tk, loaded from C:\\Users\\Bhujay_ROG\\MyDev\\OCLog\\oclog\\BGL\\data\\bgl_tk.pkl\n",
      "train_0:, 1200, val_0:, 150, test_0:, 150, train_1:, 1200, val_1:, 150, test_1:, 150, train_2:, 1200, val_2:, 150, test_2:, 150, class 5 is added as ukc\n",
      "ukc_5:, 150\n",
      "length of train_data - (num_seq_per_cls * num_class)// batch size: 112\n",
      "get_bgdata  num_classses: 3 and self.num_classes: 3\n"
     ]
    }
   ],
   "source": [
    "oset = OpenSet()\n",
    "train_data, val_data,  test_data, bglog  = oset.get_bgdata(bg_class_obj=BGLog, save_padded_num_sequences=False, \n",
    "                                                           load_from_pkl=True, ablation=1500,\n",
    "                                                           debug=False,\n",
    "                                                          designated_ukc_cls=5)"
   ]
  },
  {
   "cell_type": "code",
   "execution_count": 3,
   "id": "993dded3-1251-4cc3-bd89-a09efa86b2d7",
   "metadata": {},
   "outputs": [
    {
     "name": "stdout",
     "output_type": "stream",
     "text": [
      "vocab_size: 50\n",
      "got all the dataset\n",
      "loss: [1.2799761 1.3398964 1.3521857 1.4265149 1.3572799 1.3562543 1.2690895\n",
      " 1.3341209 1.3407269 1.2763172 1.3259056 1.2603484 1.3003973 1.3231531\n",
      " 1.389713  1.3446199 1.2879142 1.2876616 1.3654255 1.2721219 1.2939057\n",
      " 1.2755779 1.356875  1.2814263 1.3155698 1.2934991 1.3276114 1.265164\n",
      " 1.2777026 1.3536916 1.304317  1.329071 ]\n",
      "loss: [1.1606569 1.1693041 1.1724691 1.1701186 1.1428137 1.1574706 1.1765723\n",
      " 1.1734037 1.1790743 1.1482738 1.1662012 1.1741014 1.1481463 1.1834581\n",
      " 1.1884683 1.1586206 1.1750721 1.1581643 1.1847237 1.1432705 1.1542174\n",
      " 1.1621509 1.154452  1.1328397 1.1457326 1.1638219 1.1544133 1.181154\n",
      " 1.1421932 1.1583493 1.1496449 1.1974946]\n"
     ]
    }
   ],
   "source": [
    "res = oset.ptmodel_custom_train(train_data=train_data, val_data=val_data,\n",
    "                 test_data=test_data, bglog=bglog, \n",
    "                 manual_color_map=True, centroid_black=True,                               \n",
    "                 tsne_n_iter=2000, tsne_perplexity=8,\n",
    "                 embedding_size=12, oc_lr=2.5, pt_epochs=2, oc_epochs=2,\n",
    "                save_ptmodel=False, save_ocmodel=False, oc_centroid_plot=False)"
   ]
  }
 ],
 "metadata": {
  "kernelspec": {
   "display_name": "Python 3 (ipykernel)",
   "language": "python",
   "name": "python3"
  },
  "language_info": {
   "codemirror_mode": {
    "name": "ipython",
    "version": 3
   },
   "file_extension": ".py",
   "mimetype": "text/x-python",
   "name": "python",
   "nbconvert_exporter": "python",
   "pygments_lexer": "ipython3",
   "version": "3.9.12"
  }
 },
 "nbformat": 4,
 "nbformat_minor": 5
}
