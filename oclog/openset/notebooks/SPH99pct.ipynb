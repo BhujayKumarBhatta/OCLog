{
 "cells": [
  {
   "cell_type": "code",
   "execution_count": 1,
   "id": "c24d54f7-c6b1-43de-b23e-05e3907ccef7",
   "metadata": {},
   "outputs": [],
   "source": [
    "import os, sys\n",
    "cur_dir = os.getcwd()\n",
    "basename = os.path.basename(cur_dir)\n",
    "for _ in range(5):\n",
    "    if basename != 'OCLog':\n",
    "        cur_dir = os.path.dirname(cur_dir)\n",
    "        basename = os.path.basename(cur_dir)\n",
    "        #print(cur_dir, basename)\n",
    "    else:\n",
    "        if cur_dir not in sys.path:\n",
    "            sys.path.append(cur_dir)\n",
    "            #print(sys.path)\n",
    "import os\n",
    "from openpyxl import Workbook\n",
    "from openpyxl import load_workbook\n",
    "import pandas as pd\n",
    "import numpy as np\n",
    "import matplotlib.pyplot as plt\n",
    "import seaborn as sns\n",
    "import tensorflow as tf\n",
    "from tqdm import trange, tqdm, tnrange\n",
    "from oclog.BGL.bglv1 import BGLog\n",
    "from oclog.openset.opensetv12 import OpenSet\n",
    "from sklearn.metrics import confusion_matrix, f1_score, accuracy_score\n",
    "import sklearn.metrics as m\n",
    "import warnings\n",
    "warnings.filterwarnings('ignore')\n",
    "from sklearn.preprocessing import MinMaxScaler, StandardScaler\n",
    "from sklearn.manifold import TSNE\n",
    "tf.random.set_seed(1234)\n",
    "np.random.seed(1234) "
   ]
  },
  {
   "cell_type": "code",
   "execution_count": 2,
   "id": "21b96066-4d1b-46e9-a982-d3157a51d29d",
   "metadata": {},
   "outputs": [
    {
     "name": "stdout",
     "output_type": "stream",
     "text": [
      "padded_num_seq_df loaded from C:\\Users\\Bhujay_ROG\\MyDev\\OCLog\\oclog\\BGL\\data\\bgl_ukc.pkl\n",
      "trained tokenizer, tk, loaded from C:\\Users\\Bhujay_ROG\\MyDev\\OCLog\\oclog\\BGL\\data\\bgl_tk.pkl\n",
      "train_0:, 1200, val_0:, 150, test_0:, 150, train_1:, 1200, val_1:, 150, test_1:, 150, train_2:, 1200, val_2:, 150, test_2:, 150, class 5 is added as ukc\n",
      "ukc_5:, 150\n",
      "length of train_data - (num_seq_per_cls * num_class)// batch size: 112\n",
      "get_bgdata  num_classses: 3 and self.num_classes: 3\n"
     ]
    }
   ],
   "source": [
    "oset = OpenSet()\n",
    "train_data, val_data,  test_data, bglog  = oset.get_bgdata(bg_class_obj=BGLog, save_padded_num_sequences=False, \n",
    "                                                           load_from_pkl=True, ablation=1500,\n",
    "                                                           debug=False,\n",
    "                                                          designated_ukc_cls=5)"
   ]
  },
  {
   "cell_type": "code",
   "execution_count": 3,
   "id": "993dded3-1251-4cc3-bd89-a09efa86b2d7",
   "metadata": {},
   "outputs": [
    {
     "name": "stdout",
     "output_type": "stream",
     "text": [
      "vocab_size: 50\n",
      "got all the dataset\n",
      "epoch: 1/20, train_loss: 0.9776414036750793, train_acc: 33.23, F1_train: 0.18051049671602076 train_loss: 0.9776414036750793, val_acc: 33.48,, F1_val: 0.17082725947521868\n",
      "epoch: 2/20, train_loss: 0.8817093968391418, train_acc: 56.53, F1_train: 0.5668077414654041 train_loss: 0.8817093968391418, val_acc: 68.3,, F1_val: 0.6269892794820102\n",
      "epoch: 3/20, train_loss: 0.8790831565856934, train_acc: 48.63, F1_train: 0.3980758071800234 train_loss: 0.8790831565856934, val_acc: 66.52,, F1_val: 0.5540719090326715\n",
      "epoch: 4/20, train_loss: 0.8620439171791077, train_acc: 60.66, F1_train: 0.4843610860070492 train_loss: 0.8620439171791077, val_acc: 65.18,, F1_val: 0.5266448818046513\n",
      "epoch: 5/20, train_loss: 0.8404675126075745, train_acc: 63.56, F1_train: 0.5123075664842169 train_loss: 0.8404675126075745, val_acc: 64.29,, F1_val: 0.5378411626478101\n",
      "epoch: 6/20, train_loss: 0.8167582154273987, train_acc: 59.6, F1_train: 0.4754552973219104 train_loss: 0.8167582154273987, val_acc: 66.52,, F1_val: 0.5327404987144835\n",
      "epoch: 7/20, train_loss: 0.7800192832946777, train_acc: 54.24, F1_train: 0.45452571660780333 train_loss: 0.7800192832946777, val_acc: 66.74,, F1_val: 0.556547619047619\n",
      "epoch: 8/20, train_loss: 0.745062530040741, train_acc: 49.05, F1_train: 0.40225759095593944 train_loss: 0.745062530040741, val_acc: 66.52,, F1_val: 0.5535714285714286\n",
      "epoch: 9/20, train_loss: 0.7213961482048035, train_acc: 58.65, F1_train: 0.4676906246974731 train_loss: 0.7213961482048035, val_acc: 66.96,, F1_val: 0.5499200639070504\n",
      "epoch: 10/20, train_loss: 0.6686501502990723, train_acc: 60.8, F1_train: 0.487274718220229 train_loss: 0.6686501502990723, val_acc: 66.52,, F1_val: 0.5523507588857691\n",
      "epoch: 11/20, train_loss: 0.6417620778083801, train_acc: 61.5, F1_train: 0.4977494630853611 train_loss: 0.6417620778083801, val_acc: 66.74,, F1_val: 0.5559323994223824\n",
      "epoch: 12/20, train_loss: 0.6102318167686462, train_acc: 61.52, F1_train: 0.49788199013383055 train_loss: 0.6102318167686462, val_acc: 66.74,, F1_val: 0.5559323994223824\n",
      "epoch: 13/20, train_loss: 0.5742438435554504, train_acc: 61.38, F1_train: 0.49656963074746235 train_loss: 0.5742438435554504, val_acc: 66.96,, F1_val: 0.5578202756765701\n",
      "epoch: 14/20, train_loss: 0.5382665395736694, train_acc: 65.62, F1_train: 0.579778559779451 train_loss: 0.5382665395736694, val_acc: 69.87,, F1_val: 0.6212059723435884\n",
      "epoch: 15/20, train_loss: 0.5080609321594238, train_acc: 85.07, F1_train: 0.8490487013690391 train_loss: 0.5080609321594238, val_acc: 98.88,, F1_val: 0.9887929552487135\n",
      "epoch: 16/20, train_loss: 0.4852323830127716, train_acc: 89.93, F1_train: 0.8988418776670838 train_loss: 0.4852323830127716, val_acc: 98.44,, F1_val: 0.984325102748068\n",
      "epoch: 17/20, train_loss: 0.45785507559776306, train_acc: 87.95, F1_train: 0.8760835169569212 train_loss: 0.45785507559776306, val_acc: 94.87,, F1_val: 0.9483530566007202\n",
      "epoch: 18/20, train_loss: 0.43881756067276, train_acc: 66.57, F1_train: 0.5594961788459571 train_loss: 0.43881756067276, val_acc: 66.74,, F1_val: 0.556547619047619\n",
      "epoch: 19/20, train_loss: 0.4268881678581238, train_acc: 93.72, F1_train: 0.9368311903482979 train_loss: 0.4268881678581238, val_acc: 97.99,, F1_val: 0.9798923736959816\n",
      "epoch: 20/20, train_loss: 0.4053707718849182, train_acc: 93.3, F1_train: 0.9325522822005864 train_loss: 0.4053707718849182, val_acc: 97.1,, F1_val: 0.9709314265467776\n"
     ]
    }
   ],
   "source": [
    "tf.random.set_seed(1234)\n",
    "np.random.seed(1234) \n",
    "res = oset.ptmodel_custom_train(train_data=train_data, val_data=val_data,\n",
    "                 test_data=test_data, bglog=bglog, \n",
    "                 manual_color_map=True, centroid_black=True,                               \n",
    "                 tsne_n_iter=2000, tsne_perplexity=8,\n",
    "                 embedding_size=12, oc_lr=2.5, pt_epochs=20, oc_epochs=2,\n",
    "                save_ptmodel=False, save_ocmodel=False, oc_centroid_plot=False,\n",
    "                               halpha=0.8, hbeta=0.01, hepsilon=0.0000000000001)"
   ]
  },
  {
   "cell_type": "code",
   "execution_count": 4,
   "id": "97087563-d26f-4263-9136-76c28a8616f4",
   "metadata": {},
   "outputs": [
    {
     "name": "stdout",
     "output_type": "stream",
     "text": [
      "vocab_size: 50\n",
      "got all the dataset\n",
      "epoch: 1/20, train_loss: 0.9868729710578918, train_acc: 33.87, F1_train: 0.18048674594171904 train_loss: 0.9868729710578918, val_acc: 33.04,, F1_val: 0.16406999041227227\n",
      "epoch: 2/20, train_loss: 0.8870971202850342, train_acc: 49.47, F1_train: 0.40697635386570347 train_loss: 0.8870971202850342, val_acc: 66.52,, F1_val: 0.5538205516581634\n",
      "epoch: 3/20, train_loss: 0.870803713798523, train_acc: 74.97, F1_train: 0.738956114092894 train_loss: 0.870803713798523, val_acc: 94.87,, F1_val: 0.948495193597106\n",
      "epoch: 4/20, train_loss: 0.8792366981506348, train_acc: 48.86, F1_train: 0.4017127938248611 train_loss: 0.8792366981506348, val_acc: 66.74,, F1_val: 0.556547619047619\n",
      "epoch: 5/20, train_loss: 0.8683741688728333, train_acc: 48.72, F1_train: 0.3988325758997317 train_loss: 0.8683741688728333, val_acc: 66.52,, F1_val: 0.5538205516581634\n",
      "epoch: 6/20, train_loss: 0.8351990580558777, train_acc: 48.72, F1_train: 0.39881200621106977 train_loss: 0.8351990580558777, val_acc: 66.52,, F1_val: 0.5540719090326715\n",
      "epoch: 7/20, train_loss: 0.8048209547996521, train_acc: 51.2, F1_train: 0.42530365455006874 train_loss: 0.8048209547996521, val_acc: 66.96,, F1_val: 0.5584214331901014\n",
      "epoch: 8/20, train_loss: 0.774815559387207, train_acc: 58.84, F1_train: 0.4718560513561476 train_loss: 0.774815559387207, val_acc: 67.41,, F1_val: 0.560274314170767\n",
      "epoch: 9/20, train_loss: 0.7416021823883057, train_acc: 58.84, F1_train: 0.47013555400856266 train_loss: 0.7416021823883057, val_acc: 66.52,, F1_val: 0.5514084700239501\n",
      "epoch: 10/20, train_loss: 0.7103881239891052, train_acc: 60.8, F1_train: 0.4921580534230775 train_loss: 0.7103881239891052, val_acc: 66.52,, F1_val: 0.5532031374422679\n",
      "epoch: 11/20, train_loss: 0.6852470636367798, train_acc: 62.14, F1_train: 0.5110207504786247 train_loss: 0.6852470636367798, val_acc: 66.52,, F1_val: 0.5535714285714286\n",
      "epoch: 12/20, train_loss: 0.6628142595291138, train_acc: 62.33, F1_train: 0.5140111993612012 train_loss: 0.6628142595291138, val_acc: 66.96,, F1_val: 0.5590322066326531\n",
      "epoch: 13/20, train_loss: 0.6377423405647278, train_acc: 62.44, F1_train: 0.5161166268742241 train_loss: 0.6377423405647278, val_acc: 66.52,, F1_val: 0.5538205516581634\n",
      "epoch: 14/20, train_loss: 0.6218032836914062, train_acc: 66.16, F1_train: 0.5508652650365484 train_loss: 0.6218032836914062, val_acc: 66.52,, F1_val: 0.5540719090326715\n",
      "epoch: 15/20, train_loss: 0.6073044538497925, train_acc: 66.21, F1_train: 0.551484407956005 train_loss: 0.6073044538497925, val_acc: 66.74,, F1_val: 0.556547619047619\n",
      "epoch: 16/20, train_loss: 0.5761867165565491, train_acc: 89.79, F1_train: 0.8958926180983554 train_loss: 0.5761867165565491, val_acc: 96.21,, F1_val: 0.9619149884267671\n",
      "epoch: 17/20, train_loss: 0.5442434549331665, train_acc: 93.69, F1_train: 0.9365848267666272 train_loss: 0.5442434549331665, val_acc: 99.11,, F1_val: 0.9910698196023916\n",
      "epoch: 18/20, train_loss: 0.5157292485237122, train_acc: 97.35, F1_train: 0.9734448250748201 train_loss: 0.5157292485237122, val_acc: 99.78,, F1_val: 0.9977678320069625\n",
      "epoch: 19/20, train_loss: 0.4889962375164032, train_acc: 90.01, F1_train: 0.8973843273840897 train_loss: 0.4889962375164032, val_acc: 100.0,, F1_val: 1.0\n",
      "epoch: 20/20, train_loss: 0.46698763966560364, train_acc: 96.43, F1_train: 0.9640858457851424 train_loss: 0.46698763966560364, val_acc: 100.0,, F1_val: 1.0\n"
     ]
    }
   ],
   "source": [
    "tf.random.set_seed(1234)\n",
    "np.random.seed(1234) \n",
    "res = oset.ptmodel_custom_train(train_data=train_data, val_data=val_data,\n",
    "                 test_data=test_data, bglog=bglog, \n",
    "                 manual_color_map=True, centroid_black=True,                               \n",
    "                 tsne_n_iter=2000, tsne_perplexity=8,\n",
    "                 embedding_size=12, oc_lr=2.5, pt_epochs=20, oc_epochs=2,\n",
    "                save_ptmodel=False, save_ocmodel=False, oc_centroid_plot=False,\n",
    "                               halpha=0.8, hbeta=0.1, hepsilon=0.0000000000001)"
   ]
  },
  {
   "cell_type": "code",
   "execution_count": 6,
   "id": "04998317-7d43-42b5-b06e-21610e5b7bbd",
   "metadata": {},
   "outputs": [
    {
     "name": "stdout",
     "output_type": "stream",
     "text": [
      "vocab_size: 50\n",
      "got all the dataset\n",
      "epoch: 1/25, train_loss: 0.9954214096069336, train_acc: 33.31, F1_train: 0.16650393544818515 train_loss: 0.9954214096069336, val_acc: 33.26,, F1_val: 0.1660160923665949\n",
      "epoch: 2/25, train_loss: 0.8959760665893555, train_acc: 33.31, F1_train: 0.16650393544818515 train_loss: 0.8959760665893555, val_acc: 33.48,, F1_val: 0.16797061634018154\n",
      "epoch: 3/25, train_loss: 0.8746090531349182, train_acc: 33.43, F1_train: 0.16748119809404313 train_loss: 0.8746090531349182, val_acc: 33.04,, F1_val: 0.16406999041227227\n",
      "epoch: 4/25, train_loss: 0.8763474225997925, train_acc: 33.34, F1_train: 0.16674805417301883 train_loss: 0.8763474225997925, val_acc: 33.26,, F1_val: 0.1660160923665949\n",
      "epoch: 5/25, train_loss: 0.8734277486801147, train_acc: 33.26, F1_train: 0.1660160923665949 train_loss: 0.8734277486801147, val_acc: 33.04,, F1_val: 0.16406999041227227\n",
      "epoch: 6/25, train_loss: 0.8756347298622131, train_acc: 33.48, F1_train: 0.16797061634018154 train_loss: 0.8756347298622131, val_acc: 33.48,, F1_val: 0.16797061634018154\n",
      "epoch: 7/25, train_loss: 0.8521444201469421, train_acc: 33.4, F1_train: 0.16723668557833088 train_loss: 0.8521444201469421, val_acc: 33.48,, F1_val: 0.16797061634018154\n",
      "epoch: 8/25, train_loss: 0.8276301026344299, train_acc: 56.95, F1_train: 0.4535355755139076 train_loss: 0.8276301026344299, val_acc: 65.85,, F1_val: 0.5485158806519314\n",
      "epoch: 9/25, train_loss: 0.808874785900116, train_acc: 65.6, F1_train: 0.5329039324575261 train_loss: 0.808874785900116, val_acc: 66.52,, F1_val: 0.5540719090326715\n",
      "epoch: 10/25, train_loss: 0.8047505021095276, train_acc: 65.96, F1_train: 0.5418862593302612 train_loss: 0.8047505021095276, val_acc: 65.85,, F1_val: 0.5477672485081465\n",
      "epoch: 11/25, train_loss: 0.7995678782463074, train_acc: 66.63, F1_train: 0.547766418868205 train_loss: 0.7995678782463074, val_acc: 66.96,, F1_val: 0.5590322066326531\n",
      "epoch: 12/25, train_loss: 0.7788422703742981, train_acc: 65.6, F1_train: 0.5329120134711415 train_loss: 0.7788422703742981, val_acc: 66.74,, F1_val: 0.556547619047619\n",
      "epoch: 13/25, train_loss: 0.75151526927948, train_acc: 33.31, F1_train: 0.16650393544818515 train_loss: 0.75151526927948, val_acc: 33.26,, F1_val: 0.1660160923665949\n",
      "epoch: 14/25, train_loss: nan, train_acc: 33.31, F1_train: 0.16650393544818515 train_loss: nan, val_acc: 33.48,, F1_val: 0.16797061634018154\n",
      "epoch: 15/25, train_loss: nan, train_acc: 33.37, F1_train: 0.16699230424387326 train_loss: nan, val_acc: 33.26,, F1_val: 0.1660160923665949\n",
      "epoch: 16/25, train_loss: nan, train_acc: 33.31, F1_train: 0.16650393544818515 train_loss: nan, val_acc: 33.26,, F1_val: 0.1660160923665949\n",
      "epoch: 17/25, train_loss: nan, train_acc: 33.37, F1_train: 0.16699230424387326 train_loss: nan, val_acc: 33.26,, F1_val: 0.1660160923665949\n",
      "epoch: 18/25, train_loss: nan, train_acc: 33.31, F1_train: 0.16650393544818515 train_loss: nan, val_acc: 33.48,, F1_val: 0.16797061634018154\n",
      "epoch: 19/25, train_loss: nan, train_acc: 33.34, F1_train: 0.16674805417301883 train_loss: nan, val_acc: 33.26,, F1_val: 0.1660160923665949\n",
      "epoch: 20/25, train_loss: nan, train_acc: 33.34, F1_train: 0.16674805417301883 train_loss: nan, val_acc: 33.26,, F1_val: 0.1660160923665949\n",
      "epoch: 21/25, train_loss: nan, train_acc: 33.31, F1_train: 0.16650393544818515 train_loss: nan, val_acc: 33.26,, F1_val: 0.1660160923665949\n",
      "epoch: 22/25, train_loss: nan, train_acc: 33.4, F1_train: 0.16723668557833088 train_loss: nan, val_acc: 33.26,, F1_val: 0.1660160923665949\n",
      "epoch: 23/25, train_loss: nan, train_acc: 33.29, F1_train: 0.16625994815185857 train_loss: nan, val_acc: 33.26,, F1_val: 0.1660160923665949\n",
      "epoch: 24/25, train_loss: nan, train_acc: 33.31, F1_train: 0.16650393544818515 train_loss: nan, val_acc: 33.26,, F1_val: 0.1660160923665949\n",
      "epoch: 25/25, train_loss: nan, train_acc: 33.29, F1_train: 0.16625994815185857 train_loss: nan, val_acc: 33.26,, F1_val: 0.1660160923665949\n"
     ]
    }
   ],
   "source": [
    "tf.random.set_seed(1234)\n",
    "np.random.seed(1234) \n",
    "res = oset.ptmodel_custom_train(train_data=train_data, val_data=val_data,\n",
    "                 test_data=test_data, bglog=bglog, \n",
    "                 manual_color_map=True, centroid_black=True,                               \n",
    "                 tsne_n_iter=2000, tsne_perplexity=8,\n",
    "                 embedding_size=12, oc_lr=2.5, pt_epochs=25, oc_epochs=2,\n",
    "                save_ptmodel=False, save_ocmodel=False, oc_centroid_plot=False,\n",
    "                               halpha=0.8, hbeta=0.2, hepsilon=0.0000000000001)"
   ]
  },
  {
   "cell_type": "code",
   "execution_count": 7,
   "id": "3ad5f459-1807-4201-8eb0-cee838d15afa",
   "metadata": {},
   "outputs": [
    {
     "name": "stdout",
     "output_type": "stream",
     "text": [
      "vocab_size: 50\n",
      "got all the dataset\n",
      "epoch: 1/25, train_loss: 1.1077970266342163, train_acc: 33.29, F1_train: 0.16625994815185857 train_loss: 1.1077970266342163, val_acc: 33.48,, F1_val: 0.16797061634018154\n",
      "epoch: 2/25, train_loss: 1.0227382183074951, train_acc: 58.29, F1_train: 0.47069895858611016 train_loss: 1.0227382183074951, val_acc: 66.07,, F1_val: 0.5502044252044251\n",
      "epoch: 3/25, train_loss: 0.974442720413208, train_acc: 65.37, F1_train: 0.526827193250717 train_loss: 0.974442720413208, val_acc: 66.74,, F1_val: 0.5556877250273019\n",
      "epoch: 4/25, train_loss: 0.9504179954528809, train_acc: 64.79, F1_train: 0.5263884955252138 train_loss: 0.9504179954528809, val_acc: 66.52,, F1_val: 0.5538205516581634\n",
      "epoch: 5/25, train_loss: 0.9332300424575806, train_acc: 77.18, F1_train: 0.7767703877476498 train_loss: 0.9332300424575806, val_acc: 96.21,, F1_val: 0.9624171442760818\n",
      "epoch: 6/25, train_loss: 0.9125379323959351, train_acc: 74.16, F1_train: 0.7496756277326889 train_loss: 0.9125379323959351, val_acc: 94.87,, F1_val: 0.9488715347932297\n",
      "epoch: 7/25, train_loss: 0.877902626991272, train_acc: 87.42, F1_train: 0.8744612034815796 train_loss: 0.877902626991272, val_acc: 96.88,, F1_val: 0.9690765454839282\n",
      "epoch: 8/25, train_loss: 0.828044056892395, train_acc: 64.37, F1_train: 0.5221698590013677 train_loss: 0.828044056892395, val_acc: 66.74,, F1_val: 0.556547619047619\n",
      "epoch: 9/25, train_loss: 0.7914444804191589, train_acc: 61.77, F1_train: 0.49582317502611317 train_loss: 0.7914444804191589, val_acc: 66.74,, F1_val: 0.556547619047619\n",
      "epoch: 10/25, train_loss: 0.7738440036773682, train_acc: 62.08, F1_train: 0.5026325528241079 train_loss: 0.7738440036773682, val_acc: 66.52,, F1_val: 0.5538205516581634\n",
      "epoch: 11/25, train_loss: 0.740307092666626, train_acc: 64.56, F1_train: 0.5342756798158529 train_loss: 0.740307092666626, val_acc: 66.96,, F1_val: 0.5590322066326531\n",
      "epoch: 12/25, train_loss: 0.6918973326683044, train_acc: 66.6, F1_train: 0.5549662835852225 train_loss: 0.6918973326683044, val_acc: 66.74,, F1_val: 0.5563007079223671\n",
      "epoch: 13/25, train_loss: 0.6338307857513428, train_acc: 66.46, F1_train: 0.5540814948434859 train_loss: 0.6338307857513428, val_acc: 66.52,, F1_val: 0.5540719090326715\n",
      "epoch: 14/25, train_loss: 0.597626268863678, train_acc: 94.14, F1_train: 0.9411623245871658 train_loss: 0.597626268863678, val_acc: 99.11,, F1_val: 0.9910690145741066\n",
      "epoch: 15/25, train_loss: 0.5637668371200562, train_acc: 89.4, F1_train: 0.8921102598563156 train_loss: 0.5637668371200562, val_acc: 100.0,, F1_val: 1.0\n",
      "epoch: 16/25, train_loss: 0.5480700731277466, train_acc: 89.06, F1_train: 0.8877815728016388 train_loss: 0.5480700731277466, val_acc: 100.0,, F1_val: 1.0\n",
      "epoch: 17/25, train_loss: 0.507793128490448, train_acc: 87.11, F1_train: 0.8659636640505434 train_loss: 0.507793128490448, val_acc: 100.0,, F1_val: 1.0\n",
      "epoch: 18/25, train_loss: 0.46829158067703247, train_acc: 88.78, F1_train: 0.8840574589252382 train_loss: 0.46829158067703247, val_acc: 100.0,, F1_val: 1.0\n",
      "epoch: 19/25, train_loss: 0.4200506806373596, train_acc: 88.36, F1_train: 0.878945739086965 train_loss: 0.4200506806373596, val_acc: 100.0,, F1_val: 1.0\n",
      "epoch: 20/25, train_loss: 0.3788816034793854, train_acc: 93.5, F1_train: 0.9346132156560145 train_loss: 0.3788816034793854, val_acc: 99.33,, F1_val: 0.9933031219887533\n",
      "epoch: 21/25, train_loss: 0.37391287088394165, train_acc: 93.95, F1_train: 0.9390704157258816 train_loss: 0.37391287088394165, val_acc: 99.33,, F1_val: 0.9933028926982698\n",
      "epoch: 22/25, train_loss: 0.365561842918396, train_acc: 94.25, F1_train: 0.9421687147683413 train_loss: 0.365561842918396, val_acc: 99.33,, F1_val: 0.9933026724282598\n",
      "epoch: 23/25, train_loss: 0.33861786127090454, train_acc: 96.32, F1_train: 0.9631220206159927 train_loss: 0.33861786127090454, val_acc: 100.0,, F1_val: 1.0\n",
      "epoch: 24/25, train_loss: 0.2951419949531555, train_acc: 90.43, F1_train: 0.9023625108828538 train_loss: 0.2951419949531555, val_acc: 100.0,, F1_val: 1.0\n",
      "epoch: 25/25, train_loss: 0.2906968891620636, train_acc: 88.31, F1_train: 0.879456798628652 train_loss: 0.2906968891620636, val_acc: 100.0,, F1_val: 1.0\n"
     ]
    }
   ],
   "source": [
    "tf.random.set_seed(1234)\n",
    "np.random.seed(1234) \n",
    "res = oset.ptmodel_custom_train(train_data=train_data, val_data=val_data,\n",
    "                 test_data=test_data, bglog=bglog, \n",
    "                 manual_color_map=True, centroid_black=True,                               \n",
    "                 tsne_n_iter=2000, tsne_perplexity=8,\n",
    "                 embedding_size=12, oc_lr=2.5, pt_epochs=25, oc_epochs=2,\n",
    "                save_ptmodel=False, save_ocmodel=False, oc_centroid_plot=False,\n",
    "                               halpha=0.9, hbeta=0.1, hepsilon=0.0000000000001)"
   ]
  },
  {
   "cell_type": "code",
   "execution_count": 10,
   "id": "cf7d6a0f-b8d1-479d-891c-ccff70251453",
   "metadata": {},
   "outputs": [
    {
     "name": "stdout",
     "output_type": "stream",
     "text": [
      "vocab_size: 50\n",
      "got all the dataset\n",
      "epoch: 1/25, train_loss: 1.1699625253677368, train_acc: 33.37, F1_train: 0.16699230424387326 train_loss: 1.1699625253677368, val_acc: 33.48,, F1_val: 0.16797061634018154\n",
      "epoch: 2/25, train_loss: 1.0535789728164673, train_acc: 33.34, F1_train: 0.1671312294530783 train_loss: 1.0535789728164673, val_acc: 33.04,, F1_val: 0.16406999041227227\n",
      "epoch: 3/25, train_loss: 1.051919937133789, train_acc: 33.26, F1_train: 0.1660160923665949 train_loss: 1.051919937133789, val_acc: 33.48,, F1_val: 0.16797061634018154\n",
      "epoch: 4/25, train_loss: nan, train_acc: 33.37, F1_train: 0.16699230424387326 train_loss: nan, val_acc: 33.26,, F1_val: 0.1660160923665949\n",
      "epoch: 5/25, train_loss: nan, train_acc: 33.37, F1_train: 0.16699230424387326 train_loss: nan, val_acc: 33.04,, F1_val: 0.16406999041227227\n",
      "epoch: 6/25, train_loss: nan, train_acc: 33.34, F1_train: 0.16674805417301883 train_loss: nan, val_acc: 33.48,, F1_val: 0.16797061634018154\n",
      "epoch: 7/25, train_loss: nan, train_acc: 33.34, F1_train: 0.16674805417301883 train_loss: nan, val_acc: 33.48,, F1_val: 0.16797061634018154\n",
      "epoch: 8/25, train_loss: nan, train_acc: 33.43, F1_train: 0.16748119809404313 train_loss: nan, val_acc: 33.48,, F1_val: 0.16797061634018154\n",
      "epoch: 9/25, train_loss: nan, train_acc: 33.34, F1_train: 0.16674805417301883 train_loss: nan, val_acc: 33.04,, F1_val: 0.16406999041227227\n",
      "epoch: 10/25, train_loss: nan, train_acc: 33.4, F1_train: 0.16723668557833088 train_loss: nan, val_acc: 33.48,, F1_val: 0.16797061634018154\n",
      "epoch: 11/25, train_loss: nan, train_acc: 33.31, F1_train: 0.16650393544818515 train_loss: nan, val_acc: 33.48,, F1_val: 0.16797061634018154\n",
      "epoch: 12/25, train_loss: nan, train_acc: 33.31, F1_train: 0.16650393544818515 train_loss: nan, val_acc: 33.48,, F1_val: 0.16797061634018154\n",
      "epoch: 13/25, train_loss: nan, train_acc: 33.31, F1_train: 0.16650393544818515 train_loss: nan, val_acc: 33.26,, F1_val: 0.1660160923665949\n",
      "epoch: 14/25, train_loss: nan, train_acc: 33.31, F1_train: 0.16650393544818515 train_loss: nan, val_acc: 33.48,, F1_val: 0.16797061634018154\n",
      "epoch: 15/25, train_loss: nan, train_acc: 33.43, F1_train: 0.16748119809404313 train_loss: nan, val_acc: 33.04,, F1_val: 0.16406999041227227\n",
      "epoch: 16/25, train_loss: nan, train_acc: 33.4, F1_train: 0.16723668557833088 train_loss: nan, val_acc: 33.26,, F1_val: 0.1660160923665949\n",
      "epoch: 17/25, train_loss: nan, train_acc: 33.37, F1_train: 0.16699230424387326 train_loss: nan, val_acc: 33.04,, F1_val: 0.16406999041227227\n",
      "epoch: 18/25, train_loss: nan, train_acc: 33.31, F1_train: 0.16650393544818515 train_loss: nan, val_acc: 33.26,, F1_val: 0.1660160923665949\n",
      "epoch: 19/25, train_loss: nan, train_acc: 33.31, F1_train: 0.16650393544818515 train_loss: nan, val_acc: 33.26,, F1_val: 0.1660160923665949\n",
      "epoch: 20/25, train_loss: nan, train_acc: 33.31, F1_train: 0.16650393544818515 train_loss: nan, val_acc: 33.48,, F1_val: 0.16797061634018154\n",
      "epoch: 21/25, train_loss: nan, train_acc: 33.37, F1_train: 0.16699230424387326 train_loss: nan, val_acc: 33.48,, F1_val: 0.16797061634018154\n",
      "epoch: 22/25, train_loss: nan, train_acc: 33.37, F1_train: 0.16699230424387326 train_loss: nan, val_acc: 33.48,, F1_val: 0.16797061634018154\n",
      "epoch: 23/25, train_loss: nan, train_acc: 33.31, F1_train: 0.16650393544818515 train_loss: nan, val_acc: 33.26,, F1_val: 0.1660160923665949\n",
      "epoch: 24/25, train_loss: nan, train_acc: 33.31, F1_train: 0.16650393544818515 train_loss: nan, val_acc: 33.26,, F1_val: 0.1660160923665949\n",
      "epoch: 25/25, train_loss: nan, train_acc: 33.34, F1_train: 0.16674805417301883 train_loss: nan, val_acc: 33.48,, F1_val: 0.16797061634018154\n"
     ]
    }
   ],
   "source": [
    "tf.random.set_seed(1234)\n",
    "np.random.seed(1234) \n",
    "res = oset.ptmodel_custom_train(train_data=train_data, val_data=val_data,\n",
    "                 test_data=test_data, bglog=bglog, \n",
    "                 manual_color_map=True, centroid_black=True,                               \n",
    "                 tsne_n_iter=2000, tsne_perplexity=8,\n",
    "                 embedding_size=12, oc_lr=2.5, pt_epochs=25, oc_epochs=2,\n",
    "                save_ptmodel=False, save_ocmodel=False, oc_centroid_plot=False,\n",
    "                               halpha=0.95, hbeta=0.1, hepsilon=0.0000000000001)"
   ]
  },
  {
   "cell_type": "code",
   "execution_count": 8,
   "id": "8b25f750-7184-41f1-b054-538612ee7207",
   "metadata": {},
   "outputs": [
    {
     "name": "stdout",
     "output_type": "stream",
     "text": [
      "vocab_size: 50\n",
      "got all the dataset\n",
      "epoch: 1/25, train_loss: 1.2083356380462646, train_acc: 33.43, F1_train: 0.16748119809404313 train_loss: 1.2083356380462646, val_acc: 33.48,, F1_val: 0.16797061634018154\n",
      "epoch: 2/25, train_loss: 1.0816460847854614, train_acc: 33.37, F1_train: 0.16699230424387326 train_loss: 1.0816460847854614, val_acc: 33.48,, F1_val: 0.16797061634018154\n",
      "epoch: 3/25, train_loss: 1.0655224323272705, train_acc: 65.6, F1_train: 0.6518397215726922 train_loss: 1.0655224323272705, val_acc: 82.37,, F1_val: 0.8274551294061193\n",
      "epoch: 4/25, train_loss: 1.0559197664260864, train_acc: 77.62, F1_train: 0.7663688301030925 train_loss: 1.0559197664260864, val_acc: 98.21,, F1_val: 0.982126752216038\n",
      "epoch: 5/25, train_loss: 1.0559241771697998, train_acc: 50.36, F1_train: 0.4346839237244251 train_loss: 1.0559241771697998, val_acc: 69.87,, F1_val: 0.6190823593305389\n",
      "epoch: 6/25, train_loss: 1.0514402389526367, train_acc: 50.03, F1_train: 0.4253219413618967 train_loss: 1.0514402389526367, val_acc: 67.63,, F1_val: 0.5776808367420908\n",
      "epoch: 7/25, train_loss: 1.044901728630066, train_acc: 78.4, F1_train: 0.7657050207855904 train_loss: 1.044901728630066, val_acc: 96.88,, F1_val: 0.9686817959110952\n",
      "epoch: 8/25, train_loss: 1.0389007329940796, train_acc: 81.84, F1_train: 0.7997044206491556 train_loss: 1.0389007329940796, val_acc: 100.0,, F1_val: 1.0\n",
      "epoch: 9/25, train_loss: 1.0404402017593384, train_acc: 33.29, F1_train: 0.16625994815185857 train_loss: 1.0404402017593384, val_acc: 33.26,, F1_val: 0.1660160923665949\n",
      "epoch: 10/25, train_loss: nan, train_acc: 33.34, F1_train: 0.16674805417301883 train_loss: nan, val_acc: 33.48,, F1_val: 0.16797061634018154\n",
      "epoch: 11/25, train_loss: nan, train_acc: 33.29, F1_train: 0.16625994815185857 train_loss: nan, val_acc: 33.26,, F1_val: 0.1660160923665949\n",
      "epoch: 12/25, train_loss: nan, train_acc: 33.31, F1_train: 0.16650393544818515 train_loss: nan, val_acc: 33.48,, F1_val: 0.16797061634018154\n",
      "epoch: 13/25, train_loss: nan, train_acc: 33.4, F1_train: 0.16723668557833088 train_loss: nan, val_acc: 33.26,, F1_val: 0.1660160923665949\n",
      "epoch: 14/25, train_loss: nan, train_acc: 33.37, F1_train: 0.16699230424387326 train_loss: nan, val_acc: 33.26,, F1_val: 0.1660160923665949\n",
      "epoch: 15/25, train_loss: nan, train_acc: 33.31, F1_train: 0.16650393544818515 train_loss: nan, val_acc: 33.26,, F1_val: 0.1660160923665949\n",
      "epoch: 16/25, train_loss: nan, train_acc: 33.43, F1_train: 0.16748119809404313 train_loss: nan, val_acc: 33.26,, F1_val: 0.1660160923665949\n",
      "epoch: 17/25, train_loss: nan, train_acc: 33.26, F1_train: 0.1660160923665949 train_loss: nan, val_acc: 33.48,, F1_val: 0.16797061634018154\n",
      "epoch: 18/25, train_loss: nan, train_acc: 33.2, F1_train: 0.16552877565982405 train_loss: nan, val_acc: 33.48,, F1_val: 0.16797061634018154\n",
      "epoch: 19/25, train_loss: nan, train_acc: 33.34, F1_train: 0.16674805417301883 train_loss: nan, val_acc: 33.04,, F1_val: 0.16406999041227227\n",
      "epoch: 20/25, train_loss: nan, train_acc: 33.29, F1_train: 0.16625994815185857 train_loss: nan, val_acc: 33.26,, F1_val: 0.1660160923665949\n",
      "epoch: 21/25, train_loss: nan, train_acc: 33.31, F1_train: 0.16650393544818515 train_loss: nan, val_acc: 33.26,, F1_val: 0.1660160923665949\n",
      "epoch: 22/25, train_loss: nan, train_acc: 33.34, F1_train: 0.16674805417301883 train_loss: nan, val_acc: 33.26,, F1_val: 0.1660160923665949\n",
      "epoch: 23/25, train_loss: nan, train_acc: 33.37, F1_train: 0.16699230424387326 train_loss: nan, val_acc: 33.48,, F1_val: 0.16797061634018154\n",
      "epoch: 24/25, train_loss: nan, train_acc: 33.31, F1_train: 0.16650393544818515 train_loss: nan, val_acc: 33.26,, F1_val: 0.1660160923665949\n",
      "epoch: 25/25, train_loss: nan, train_acc: 33.43, F1_train: 0.16748119809404313 train_loss: nan, val_acc: 33.48,, F1_val: 0.16797061634018154\n"
     ]
    }
   ],
   "source": [
    "tf.random.set_seed(1234)\n",
    "np.random.seed(1234) \n",
    "res = oset.ptmodel_custom_train(train_data=train_data, val_data=val_data,\n",
    "                 test_data=test_data, bglog=bglog, \n",
    "                 manual_color_map=True, centroid_black=True,                               \n",
    "                 tsne_n_iter=2000, tsne_perplexity=8,\n",
    "                 embedding_size=12, oc_lr=2.5, pt_epochs=25, oc_epochs=2,\n",
    "                save_ptmodel=False, save_ocmodel=False, oc_centroid_plot=False,\n",
    "                               halpha=0.95, hbeta=0.5, hepsilon=0.0000000000001)"
   ]
  },
  {
   "cell_type": "code",
   "execution_count": 9,
   "id": "1d5df017-a7a9-4446-ba71-69e7611d0173",
   "metadata": {},
   "outputs": [
    {
     "name": "stdout",
     "output_type": "stream",
     "text": [
      "vocab_size: 50\n",
      "got all the dataset\n",
      "epoch: 1/25, train_loss: 1.1640301942825317, train_acc: 49.78, F1_train: 0.4107142857142857 train_loss: 1.1640301942825317, val_acc: 66.52,, F1_val: 0.5538205516581634\n",
      "epoch: 2/25, train_loss: 1.0444421768188477, train_acc: 33.31, F1_train: 0.16650393544818515 train_loss: 1.0444421768188477, val_acc: 33.26,, F1_val: 0.1660160923665949\n",
      "epoch: 3/25, train_loss: 1.01893150806427, train_acc: 33.31, F1_train: 0.16650393544818515 train_loss: 1.01893150806427, val_acc: 33.26,, F1_val: 0.1660160923665949\n",
      "epoch: 4/25, train_loss: 1.0111163854599, train_acc: 33.37, F1_train: 0.16699230424387326 train_loss: 1.0111163854599, val_acc: 33.26,, F1_val: 0.1660160923665949\n",
      "epoch: 5/25, train_loss: 0.9636972546577454, train_acc: 33.31, F1_train: 0.16650393544818515 train_loss: 0.9636972546577454, val_acc: 33.48,, F1_val: 0.16797061634018154\n",
      "epoch: 6/25, train_loss: 0.9328553080558777, train_acc: 33.29, F1_train: 0.16625994815185857 train_loss: 0.9328553080558777, val_acc: 33.26,, F1_val: 0.1660160923665949\n",
      "epoch: 7/25, train_loss: 0.8892796039581299, train_acc: 51.12, F1_train: 0.40683032618506243 train_loss: 0.8892796039581299, val_acc: 66.74,, F1_val: 0.5378158939014203\n",
      "epoch: 8/25, train_loss: 0.8463903665542603, train_acc: 58.68, F1_train: 0.46890438493036235 train_loss: 0.8463903665542603, val_acc: 66.52,, F1_val: 0.5522416116168211\n",
      "epoch: 9/25, train_loss: 0.8048305511474609, train_acc: 60.55, F1_train: 0.4961851677903932 train_loss: 0.8048305511474609, val_acc: 66.74,, F1_val: 0.5559323994223824\n",
      "epoch: 10/25, train_loss: 0.7826843857765198, train_acc: 61.36, F1_train: 0.5038908231561664 train_loss: 0.7826843857765198, val_acc: 66.52,, F1_val: 0.5540719090326715\n",
      "epoch: 11/25, train_loss: 0.7572582960128784, train_acc: 61.13, F1_train: 0.5021436611465457 train_loss: 0.7572582960128784, val_acc: 66.52,, F1_val: 0.5535714285714286\n",
      "epoch: 12/25, train_loss: 0.7340942025184631, train_acc: 62.22, F1_train: 0.5141372115502423 train_loss: 0.7340942025184631, val_acc: 66.52,, F1_val: 0.5538205516581634\n",
      "epoch: 13/25, train_loss: 0.7169517278671265, train_acc: 62.25, F1_train: 0.5145561045778783 train_loss: 0.7169517278671265, val_acc: 66.52,, F1_val: 0.5535714285714286\n",
      "epoch: 14/25, train_loss: 0.7002149224281311, train_acc: 62.33, F1_train: 0.515331620498462 train_loss: 0.7002149224281311, val_acc: 66.74,, F1_val: 0.5563007079223671\n",
      "epoch: 15/25, train_loss: 0.6837819814682007, train_acc: 62.22, F1_train: 0.5139518648592221 train_loss: 0.6837819814682007, val_acc: 66.52,, F1_val: 0.5540719090326715\n",
      "epoch: 16/25, train_loss: 0.6612366437911987, train_acc: 64.17, F1_train: 0.5324051444891366 train_loss: 0.6612366437911987, val_acc: 66.96,, F1_val: 0.5590322066326531\n",
      "epoch: 17/25, train_loss: 0.6386877298355103, train_acc: 65.9, F1_train: 0.5485492725712998 train_loss: 0.6386877298355103, val_acc: 66.52,, F1_val: 0.5540719090326715\n",
      "epoch: 18/25, train_loss: 0.6152358651161194, train_acc: 90.93, F1_train: 0.907918518628228 train_loss: 0.6152358651161194, val_acc: 98.21,, F1_val: 0.982129978428153\n",
      "epoch: 19/25, train_loss: 0.6017865538597107, train_acc: 93.55, F1_train: 0.9350339025198614 train_loss: 0.6017865538597107, val_acc: 98.88,, F1_val: 0.9888361428780615\n",
      "epoch: 20/25, train_loss: 0.5856506824493408, train_acc: 89.54, F1_train: 0.8928689885710884 train_loss: 0.5856506824493408, val_acc: 97.54,, F1_val: 0.975410116893593\n",
      "epoch: 21/25, train_loss: 0.5643520355224609, train_acc: 66.57, F1_train: 0.5558424764098429 train_loss: 0.5643520355224609, val_acc: 66.74,, F1_val: 0.5563007079223671\n",
      "epoch: 22/25, train_loss: 0.552103579044342, train_acc: 66.63, F1_train: 0.555446838968112 train_loss: 0.552103579044342, val_acc: 66.96,, F1_val: 0.5590322066326531\n",
      "epoch: 23/25, train_loss: 0.5444419384002686, train_acc: 66.66, F1_train: 0.5557878609301474 train_loss: 0.5444419384002686, val_acc: 66.74,, F1_val: 0.556547619047619\n",
      "epoch: 24/25, train_loss: 0.5316390991210938, train_acc: 95.76, F1_train: 0.9574682236812887 train_loss: 0.5316390991210938, val_acc: 93.97,, F1_val: 0.9392552982731553\n",
      "epoch: 25/25, train_loss: 0.5088326930999756, train_acc: 98.49, F1_train: 0.9849381084143702 train_loss: 0.5088326930999756, val_acc: 99.11,, F1_val: 0.9910706241956241\n"
     ]
    }
   ],
   "source": [
    "tf.random.set_seed(1234)\n",
    "np.random.seed(1234) \n",
    "res = oset.ptmodel_custom_train(train_data=train_data, val_data=val_data,\n",
    "                 test_data=test_data, bglog=bglog, \n",
    "                 manual_color_map=True, centroid_black=True,                               \n",
    "                 tsne_n_iter=2000, tsne_perplexity=8,\n",
    "                 embedding_size=12, oc_lr=2.5, pt_epochs=25, oc_epochs=2,\n",
    "                save_ptmodel=False, save_ocmodel=False, oc_centroid_plot=False,\n",
    "                               halpha=0.95, hbeta=0.05, hepsilon=0.0000000000001)"
   ]
  },
  {
   "cell_type": "code",
   "execution_count": 11,
   "id": "0f9b5d07-4d2c-4789-9149-9edad5440563",
   "metadata": {},
   "outputs": [
    {
     "name": "stdout",
     "output_type": "stream",
     "text": [
      "vocab_size: 50\n",
      "got all the dataset\n",
      "epoch: 1/25, train_loss: 0.9856659770011902, train_acc: 28.93, F1_train: 0.21411832492970398 train_loss: 0.9856659770011902, val_acc: 35.27,, F1_val: 0.22989528396521455\n",
      "epoch: 2/25, train_loss: 0.8875799179077148, train_acc: 33.31, F1_train: 0.16650393544818515 train_loss: 0.8875799179077148, val_acc: 33.48,, F1_val: 0.16797061634018154\n",
      "epoch: 3/25, train_loss: 0.8754376173019409, train_acc: 33.4, F1_train: 0.16723668557833088 train_loss: 0.8754376173019409, val_acc: 33.48,, F1_val: 0.16797061634018154\n",
      "epoch: 4/25, train_loss: 0.877459704875946, train_acc: 33.29, F1_train: 0.16625994815185857 train_loss: 0.877459704875946, val_acc: 33.26,, F1_val: 0.1660160923665949\n",
      "epoch: 5/25, train_loss: 0.872608482837677, train_acc: 33.34, F1_train: 0.16674805417301883 train_loss: 0.872608482837677, val_acc: 33.26,, F1_val: 0.1660160923665949\n",
      "epoch: 6/25, train_loss: 0.8536291718482971, train_acc: 33.37, F1_train: 0.16699230424387326 train_loss: 0.8536291718482971, val_acc: 33.26,, F1_val: 0.1660160923665949\n",
      "epoch: 7/25, train_loss: 0.8255839347839355, train_acc: 36.05, F1_train: 0.22560122235297728 train_loss: 0.8255839347839355, val_acc: 33.26,, F1_val: 0.1832007525745973\n",
      "epoch: 8/25, train_loss: 0.7950285077095032, train_acc: 59.18, F1_train: 0.4741470685523031 train_loss: 0.7950285077095032, val_acc: 66.52,, F1_val: 0.5529562514529107\n",
      "epoch: 9/25, train_loss: 0.7698554396629333, train_acc: 61.33, F1_train: 0.5036590016764215 train_loss: 0.7698554396629333, val_acc: 66.52,, F1_val: 0.5538205516581634\n",
      "epoch: 10/25, train_loss: 0.745078444480896, train_acc: 61.77, F1_train: 0.5080755202395253 train_loss: 0.745078444480896, val_acc: 66.74,, F1_val: 0.5563007079223671\n",
      "epoch: 11/25, train_loss: 0.7197000980377197, train_acc: 63.23, F1_train: 0.5222959195133928 train_loss: 0.7197000980377197, val_acc: 66.74,, F1_val: 0.5563007079223671\n",
      "epoch: 12/25, train_loss: 0.6965678334236145, train_acc: 65.71, F1_train: 0.5455148245747112 train_loss: 0.6965678334236145, val_acc: 66.74,, F1_val: 0.556547619047619\n",
      "epoch: 13/25, train_loss: 0.6710776090621948, train_acc: 65.93, F1_train: 0.5479256438488436 train_loss: 0.6710776090621948, val_acc: 66.74,, F1_val: 0.556547619047619\n",
      "epoch: 14/25, train_loss: 0.6381638050079346, train_acc: 65.9, F1_train: 0.5473617636325268 train_loss: 0.6381638050079346, val_acc: 66.52,, F1_val: 0.5535714285714286\n",
      "epoch: 15/25, train_loss: 0.6014865636825562, train_acc: 65.99, F1_train: 0.548755883518047 train_loss: 0.6014865636825562, val_acc: 66.52,, F1_val: 0.5540719090326715\n",
      "epoch: 16/25, train_loss: 0.5548095107078552, train_acc: 66.1, F1_train: 0.5501849016061213 train_loss: 0.5548095107078552, val_acc: 66.74,, F1_val: 0.556547619047619\n",
      "epoch: 17/25, train_loss: 0.5096378922462463, train_acc: 93.67, F1_train: 0.9363161380679804 train_loss: 0.5096378922462463, val_acc: 99.11,, F1_val: 0.9910698196023916\n",
      "epoch: 18/25, train_loss: 0.465171217918396, train_acc: 89.23, F1_train: 0.8898897290285241 train_loss: 0.465171217918396, val_acc: 99.78,, F1_val: 0.9977677817283792\n",
      "epoch: 19/25, train_loss: 0.44689416885375977, train_acc: 87.86, F1_train: 0.873751428961443 train_loss: 0.44689416885375977, val_acc: 100.0,, F1_val: 1.0\n",
      "epoch: 20/25, train_loss: 0.4315176010131836, train_acc: 88.03, F1_train: 0.875930721181714 train_loss: 0.4315176010131836, val_acc: 100.0,, F1_val: 1.0\n",
      "epoch: 21/25, train_loss: 0.407221257686615, train_acc: 90.62, F1_train: 0.9044065401602754 train_loss: 0.407221257686615, val_acc: 100.0,, F1_val: 1.0\n",
      "epoch: 22/25, train_loss: 0.3769538700580597, train_acc: 98.83, F1_train: 0.9882875617105312 train_loss: 0.3769538700580597, val_acc: 99.78,, F1_val: 0.9977678323409942\n",
      "epoch: 23/25, train_loss: 0.34605929255485535, train_acc: 98.41, F1_train: 0.9841066931168346 train_loss: 0.34605929255485535, val_acc: 99.11,, F1_val: 0.9910690145741066\n",
      "epoch: 24/25, train_loss: 0.3465917110443115, train_acc: 93.97, F1_train: 0.9393363836671708 train_loss: 0.3465917110443115, val_acc: 98.21,, F1_val: 0.9821301496937505\n",
      "epoch: 25/25, train_loss: 0.3417259156703949, train_acc: 75.89, F1_train: 0.7231353125328098 train_loss: 0.3417259156703949, val_acc: 72.32,, F1_val: 0.665254690697982\n"
     ]
    }
   ],
   "source": [
    "tf.random.set_seed(1234)\n",
    "np.random.seed(1234) \n",
    "res = oset.ptmodel_custom_train(train_data=train_data, val_data=val_data,\n",
    "                 test_data=test_data, bglog=bglog, \n",
    "                 manual_color_map=True, centroid_black=True,                               \n",
    "                 tsne_n_iter=2000, tsne_perplexity=8,\n",
    "                 embedding_size=12, oc_lr=2.5, pt_epochs=25, oc_epochs=2,\n",
    "                save_ptmodel=False, save_ocmodel=False, oc_centroid_plot=False,\n",
    "                               halpha=0.8, hbeta=0.1, hepsilon=0.0000000000001)"
   ]
  },
  {
   "cell_type": "code",
   "execution_count": 12,
   "id": "311dbcfa-2caf-42b1-9d86-fa3053df66b7",
   "metadata": {},
   "outputs": [
    {
     "name": "stdout",
     "output_type": "stream",
     "text": [
      "vocab_size: 50\n",
      "got all the dataset\n",
      "epoch: 1/25, train_loss: 1.05135178565979, train_acc: 43.5, F1_train: 0.3468708588850032 train_loss: 1.05135178565979, val_acc: 40.62,, F1_val: 0.28758916761148906\n",
      "epoch: 2/25, train_loss: 0.9442892670631409, train_acc: 49.97, F1_train: 0.4104506348693398 train_loss: 0.9442892670631409, val_acc: 37.72,, F1_val: 0.2503895644058062\n",
      "epoch: 3/25, train_loss: 0.9197424054145813, train_acc: 48.83, F1_train: 0.39652308188502255 train_loss: 0.9197424054145813, val_acc: 36.38,, F1_val: 0.227078394219141\n",
      "epoch: 4/25, train_loss: 0.9145616292953491, train_acc: 48.66, F1_train: 0.3983660304378361 train_loss: 0.9145616292953491, val_acc: 66.52,, F1_val: 0.5538205516581634\n",
      "epoch: 5/25, train_loss: 0.8874992728233337, train_acc: 53.68, F1_train: 0.43933187252782624 train_loss: 0.8874992728233337, val_acc: 66.96,, F1_val: 0.5499200639070504\n",
      "epoch: 6/25, train_loss: 0.8560217022895813, train_acc: 60.57, F1_train: 0.48935922146921784 train_loss: 0.8560217022895813, val_acc: 66.52,, F1_val: 0.5532031374422679\n",
      "epoch: 7/25, train_loss: 0.8336511850357056, train_acc: 67.3, F1_train: 0.6244579683665273 train_loss: 0.8336511850357056, val_acc: 68.08,, F1_val: 0.5859954705751692\n",
      "epoch: 8/25, train_loss: 0.8112995028495789, train_acc: 58.71, F1_train: 0.46813482944179324 train_loss: 0.8112995028495789, val_acc: 66.74,, F1_val: 0.5455735777593912\n",
      "epoch: 9/25, train_loss: 0.7797727584838867, train_acc: 58.65, F1_train: 0.46850374353753316 train_loss: 0.7797727584838867, val_acc: 66.74,, F1_val: 0.5529991758608206\n",
      "epoch: 10/25, train_loss: 0.7639731764793396, train_acc: 59.24, F1_train: 0.4781275995743445 train_loss: 0.7639731764793396, val_acc: 66.52,, F1_val: 0.5525953582105488\n",
      "epoch: 11/25, train_loss: 0.7363210916519165, train_acc: 61.61, F1_train: 0.5066986977289333 train_loss: 0.7363210916519165, val_acc: 66.52,, F1_val: 0.5535714285714286\n",
      "epoch: 12/25, train_loss: 0.7084764242172241, train_acc: 63.62, F1_train: 0.5271517546701611 train_loss: 0.7084764242172241, val_acc: 66.96,, F1_val: 0.5590322066326531\n",
      "epoch: 13/25, train_loss: 0.6879565119743347, train_acc: 62.05, F1_train: 0.5127446460723087 train_loss: 0.6879565119743347, val_acc: 66.52,, F1_val: 0.5538205516581634\n",
      "epoch: 14/25, train_loss: 0.6637881398200989, train_acc: 63.36, F1_train: 0.524688479262285 train_loss: 0.6637881398200989, val_acc: 66.74,, F1_val: 0.5563007079223671\n",
      "epoch: 15/25, train_loss: 0.6436280012130737, train_acc: 65.85, F1_train: 0.5479014649969706 train_loss: 0.6436280012130737, val_acc: 66.74,, F1_val: 0.556547619047619\n",
      "epoch: 16/25, train_loss: 0.6246808171272278, train_acc: 65.74, F1_train: 0.5465104316436479 train_loss: 0.6246808171272278, val_acc: 66.96,, F1_val: 0.5590322066326531\n",
      "epoch: 17/25, train_loss: 0.6053932309150696, train_acc: 68.25, F1_train: 0.598279192975372 train_loss: 0.6053932309150696, val_acc: 68.3,, F1_val: 0.5896914054083171\n",
      "epoch: 18/25, train_loss: 0.5868126749992371, train_acc: 93.14, F1_train: 0.9308517358544642 train_loss: 0.5868126749992371, val_acc: 98.21,, F1_val: 0.982129978428153\n",
      "epoch: 19/25, train_loss: 0.5716744065284729, train_acc: 97.38, F1_train: 0.9737432419421822 train_loss: 0.5716744065284729, val_acc: 98.21,, F1_val: 0.982129978428153\n",
      "epoch: 20/25, train_loss: 0.5563163757324219, train_acc: 67.33, F1_train: 0.5768185025194227 train_loss: 0.5563163757324219, val_acc: 67.86,, F1_val: 0.5784393415972363\n",
      "epoch: 21/25, train_loss: 0.5444385409355164, train_acc: 85.49, F1_train: 0.8484571286264873 train_loss: 0.5444385409355164, val_acc: 83.04,, F1_val: 0.8181999516441006\n",
      "epoch: 22/25, train_loss: 0.5314067006111145, train_acc: 66.32, F1_train: 0.5530019749098204 train_loss: 0.5314067006111145, val_acc: 66.74,, F1_val: 0.5563007079223671\n",
      "epoch: 23/25, train_loss: 0.5191912055015564, train_acc: 97.71, F1_train: 0.9770772403692443 train_loss: 0.5191912055015564, val_acc: 98.21,, F1_val: 0.9821284626703345\n",
      "epoch: 24/25, train_loss: 0.509484589099884, train_acc: 98.19, F1_train: 0.9818403541221239 train_loss: 0.509484589099884, val_acc: 98.21,, F1_val: 0.982129978428153\n",
      "epoch: 25/25, train_loss: 0.49848228693008423, train_acc: 33.31, F1_train: 0.16650393544818515 train_loss: 0.49848228693008423, val_acc: 33.26,, F1_val: 0.1660160923665949\n"
     ]
    }
   ],
   "source": [
    "tf.random.set_seed(1234)\n",
    "np.random.seed(1234) \n",
    "res = oset.ptmodel_custom_train(train_data=train_data, val_data=val_data,\n",
    "                 test_data=test_data, bglog=bglog, \n",
    "                 manual_color_map=True, centroid_black=True,                               \n",
    "                 tsne_n_iter=2000, tsne_perplexity=8,\n",
    "                 embedding_size=12, oc_lr=2.5, pt_epochs=25, oc_epochs=2,\n",
    "                save_ptmodel=False, save_ocmodel=False, oc_centroid_plot=False,\n",
    "                               halpha=0.85, hbeta=0.15, hepsilon=0.0000000000001)"
   ]
  }
 ],
 "metadata": {
  "kernelspec": {
   "display_name": "Python 3 (ipykernel)",
   "language": "python",
   "name": "python3"
  },
  "language_info": {
   "codemirror_mode": {
    "name": "ipython",
    "version": 3
   },
   "file_extension": ".py",
   "mimetype": "text/x-python",
   "name": "python",
   "nbconvert_exporter": "python",
   "pygments_lexer": "ipython3",
   "version": "3.9.12"
  }
 },
 "nbformat": 4,
 "nbformat_minor": 5
}
