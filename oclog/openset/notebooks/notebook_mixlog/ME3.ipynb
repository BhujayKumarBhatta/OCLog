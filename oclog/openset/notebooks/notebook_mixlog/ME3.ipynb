{
 "cells": [
  {
   "cell_type": "code",
   "execution_count": 4,
   "id": "11c9e750-b1f8-4e1b-9d3b-fdcc37972778",
   "metadata": {},
   "outputs": [],
   "source": [
    "import os, sys\n",
    "cur_dir = os.getcwd()\n",
    "basename = os.path.basename(cur_dir)\n",
    "for _ in range(5):\n",
    "    if basename != 'OCLog':\n",
    "        cur_dir = os.path.dirname(cur_dir)\n",
    "        basename = os.path.basename(cur_dir)\n",
    "        #print(cur_dir, basename)\n",
    "    else:\n",
    "        if cur_dir not in sys.path:\n",
    "            sys.path.append(cur_dir)\n",
    "            #print(sys.path)\n",
    "sys.path.append('C:\\\\Users\\\\Bhujay_ROG\\\\MyDev\\\\OCLog\\\\oclog\\hdfs')\n",
    "##### appending the static path to aavoid the error \n",
    "# ModuleNotFoundError                       Traceback (most recent call last)\n",
    "# Input In [9], in <cell line: 3>()\n",
    "#       2 hdfs_obj_full_name_path = 'C:\\\\Users\\\\Bhujay_ROG\\\\MyDev\\\\OCLog\\\\oclog\\\\hdfs\\\\data\\\\hdfsobj_32_64_no_meta.pkl'\n",
    "#       3 with open(hdfs_obj_full_name_path, 'rb') as f:\n",
    "# ----> 4             hdfslogs = pickle.load(f)\n",
    "\n",
    "# ModuleNotFoundError: No module named 'hdflogv3'\n",
    "from oclog.BGL.multilogv1 import MixedLog, get_embedding_layer\n",
    "from oclog.BGL.bglv1 import BGLog\n",
    "from oclog.hdfs.hdflogv3 import HDFSLogv3\n",
    "import numpy as np\n",
    "import pandas as pd\n",
    "from oclog.openset.opensetv12 import OpenSet\n",
    "from tensorflow.keras.utils import to_categorical\n",
    "from sklearn import preprocessing"
   ]
  },
  {
   "cell_type": "code",
   "execution_count": null,
   "id": "ffa48ea8-ef70-4437-b97f-4087bd1b9554",
   "metadata": {},
   "outputs": [],
   "source": []
  },
  {
   "cell_type": "code",
   "execution_count": null,
   "id": "6a20573c-375a-413b-be18-7eb560b05ef7",
   "metadata": {},
   "outputs": [],
   "source": []
  },
  {
   "cell_type": "code",
   "execution_count": null,
   "id": "0a8b9d83-6b2e-4153-be40-0a428aa8ef4b",
   "metadata": {},
   "outputs": [],
   "source": []
  },
  {
   "cell_type": "code",
   "execution_count": null,
   "id": "71ff8ec2-8363-48a0-82e8-7f3daeb086d7",
   "metadata": {},
   "outputs": [],
   "source": []
  },
  {
   "cell_type": "code",
   "execution_count": null,
   "id": "81bd89b9-ca77-40d0-8d7b-6039472f1df0",
   "metadata": {},
   "outputs": [],
   "source": []
  },
  {
   "cell_type": "code",
   "execution_count": null,
   "id": "3a5055e1-6643-4d65-ab0e-b31b618a9b0f",
   "metadata": {},
   "outputs": [],
   "source": []
  }
 ],
 "metadata": {
  "kernelspec": {
   "display_name": "Python 3 (ipykernel)",
   "language": "python",
   "name": "python3"
  },
  "language_info": {
   "codemirror_mode": {
    "name": "ipython",
    "version": 3
   },
   "file_extension": ".py",
   "mimetype": "text/x-python",
   "name": "python",
   "nbconvert_exporter": "python",
   "pygments_lexer": "ipython3",
   "version": "3.9.12"
  }
 },
 "nbformat": 4,
 "nbformat_minor": 5
}
