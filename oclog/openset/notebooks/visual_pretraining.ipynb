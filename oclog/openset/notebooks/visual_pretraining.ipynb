{
 "cells": [
  {
   "cell_type": "code",
   "execution_count": 1,
   "id": "bb35b3e0-5c25-4415-ae96-a15858ece018",
   "metadata": {},
   "outputs": [],
   "source": [
    "import os, sys\n",
    "cur_dir = os.getcwd()\n",
    "basename = os.path.basename(cur_dir)\n",
    "for _ in range(5):\n",
    "    if basename != 'OCLog':\n",
    "        cur_dir = os.path.dirname(cur_dir)\n",
    "        basename = os.path.basename(cur_dir)\n",
    "        #print(cur_dir, basename)\n",
    "    else:\n",
    "        if cur_dir not in sys.path:\n",
    "            sys.path.append(cur_dir)\n",
    "            #print(sys.path)\n",
    "import os\n",
    "from openpyxl import Workbook\n",
    "from openpyxl import load_workbook\n",
    "import pandas as pd\n",
    "import numpy as np\n",
    "import matplotlib.pyplot as plt\n",
    "import seaborn as sns\n",
    "import tensorflow as tf\n",
    "from tqdm import trange, tqdm, tnrange\n",
    "from oclog.BGL.bgUKCNum import BGLog, get_embedding_layer\n",
    "from oclog.openset.boundary_loss import euclidean_metric, BoundaryLoss\n",
    "from oclog.openset.pretraining import LogLineEncoder, LogSeqEncoder, LogClassifier\n",
    "# from oclog.openset.openset import OpenSet\n",
    "from oclog.openset.opensetv7 import OpenSet\n",
    "from sklearn.metrics import confusion_matrix, f1_score, accuracy_score\n",
    "import sklearn.metrics as m\n",
    "import warnings\n",
    "warnings.filterwarnings('ignore')"
   ]
  },
  {
   "cell_type": "code",
   "execution_count": 6,
   "id": "4cc38025-ba79-46ad-b4d6-833786253666",
   "metadata": {},
   "outputs": [
    {
     "name": "stdout",
     "output_type": "stream",
     "text": [
      "padded_num_seq_df loaded from C:\\Users\\Bhujay_ROG\\MyDev\\OCLog\\oclog\\BGL\\data\\bgl_ukc.pkl\n",
      "C:\\Users\\Bhujay_ROG\\MyDev\\OCLog\\oclog\\BGL\\data\\bgl_tk.pkl not found\n",
      "train_0:, 1600\n",
      "val_0:, 200\n",
      "test_0:, 200\n",
      "train_1:, 1600\n",
      "val_1:, 200\n",
      "test_1:, 200\n",
      "train_2:, 1600\n",
      "val_2:, 200\n",
      "test_2:, 200\n",
      "class 5 is added as ukc\n",
      "ukc_5:, 165\n",
      "length of train_data: 150\n",
      "length of val_data: 18\n"
     ]
    }
   ],
   "source": [
    "designated_ukc_cls = 5\n",
    "embedding_size = 4\n",
    "num_classes= 4\n",
    "pretrain_epochs = 2\n",
    "bglog = BGLog(save_padded_num_sequences=False, load_from_pkl=True, )\n",
    "train_test = bglog.get_tensor_train_val_test(ablation=2000, designated_ukc_cls=designated_ukc_cls)\n",
    "train_data, val_data,  test_data = train_test\n",
    "print('length of train_data:', len(train_data))\n",
    "print('length of val_data:',len(val_data))\n",
    "# line_encoder = LogLineEncoder(bglog, chars_in_line=64)\n",
    "# logSeqencer =  LogSeqEncoder(line_in_seq=32, dense_neurons=embedding_size)\n",
    "# ptmodel = LogClassifier(line_encoder=line_encoder, seq_encoder=logSeqencer, num_classes=num_classes)\n",
    "# ptmodel.compile(optimizer='adam', loss='categorical_crossentropy',\n",
    "#               metrics=['accuracy', tf.keras.metrics.Precision(), tf.keras.metrics.Recall()])\n",
    "# hist = ptmodel.fit(train_data, validation_data=val_data, epochs=pretrain_epochs)    \n",
    "\n",
    "# octrain_epochs = 10\n",
    "# lr_rate = 3\n",
    "# wait_patience = 2\n",
    "# optimizer = 'adam'\n",
    "\n",
    "# oset = OpenSet(num_classes, ptmodel, embedding_size=embedding_size)\n",
    "# _, _ = oset.train(train_data,data_val=val_data, epochs=octrain_epochs, \n",
    "#                   lr_rate=lr_rate, wait_patience=wait_patience, optimizer=optimizer,\n",
    "#                  pretrain_hist=hist)"
   ]
  },
  {
   "cell_type": "code",
   "execution_count": 5,
   "id": "cbcb4d70-c0fb-4bf0-9eb9-6d088437b344",
   "metadata": {},
   "outputs": [
    {
     "data": {
      "text/plain": [
       "32"
      ]
     },
     "execution_count": 5,
     "metadata": {},
     "output_type": "execute_result"
    }
   ],
   "source": [
    "bglog.batch_size"
   ]
  },
  {
   "cell_type": "code",
   "execution_count": 3,
   "id": "6c8fd2d2-c5c5-4201-ba93-e7c6fe2420fa",
   "metadata": {},
   "outputs": [
    {
     "ename": "NameError",
     "evalue": "name 'oset' is not defined",
     "output_type": "error",
     "traceback": [
      "\u001b[1;31m---------------------------------------------------------------------------\u001b[0m",
      "\u001b[1;31mNameError\u001b[0m                                 Traceback (most recent call last)",
      "Input \u001b[1;32mIn [3]\u001b[0m, in \u001b[0;36m<cell line: 1>\u001b[1;34m()\u001b[0m\n\u001b[1;32m----> 1\u001b[0m a \u001b[38;5;241m=\u001b[39m np\u001b[38;5;241m.\u001b[39marray(\u001b[43moset\u001b[49m\u001b[38;5;241m.\u001b[39mtotal_features)\n\u001b[0;32m      2\u001b[0m \u001b[38;5;28mprint\u001b[39m(a\u001b[38;5;241m.\u001b[39mshape)\n",
      "\u001b[1;31mNameError\u001b[0m: name 'oset' is not defined"
     ]
    }
   ],
   "source": [
    "a = np.array(oset.total_features)\n",
    "print(a.shape)\n"
   ]
  },
  {
   "cell_type": "code",
   "execution_count": null,
   "id": "8476a075-926e-440d-be63-6775968c67a8",
   "metadata": {},
   "outputs": [],
   "source": [
    "p = np.array(oset.total_preds)\n",
    "print(p.shape)"
   ]
  },
  {
   "cell_type": "code",
   "execution_count": 4,
   "id": "9238a9e3-f871-4dbd-ac5e-4a56b07eba90",
   "metadata": {},
   "outputs": [
    {
     "data": {
      "text/html": [
       "<div>\n",
       "<style scoped>\n",
       "    .dataframe tbody tr th:only-of-type {\n",
       "        vertical-align: middle;\n",
       "    }\n",
       "\n",
       "    .dataframe tbody tr th {\n",
       "        vertical-align: top;\n",
       "    }\n",
       "\n",
       "    .dataframe thead th {\n",
       "        text-align: right;\n",
       "    }\n",
       "</style>\n",
       "<table border=\"1\" class=\"dataframe\">\n",
       "  <thead>\n",
       "    <tr style=\"text-align: right;\">\n",
       "      <th></th>\n",
       "      <th>seq</th>\n",
       "      <th>label</th>\n",
       "    </tr>\n",
       "  </thead>\n",
       "  <tbody>\n",
       "    <tr>\n",
       "      <th>0</th>\n",
       "      <td>[[18, 2, 4, 3, 2, 9, 5, 3, 13, 6, 5, 3, 12, 7,...</td>\n",
       "      <td>0</td>\n",
       "    </tr>\n",
       "    <tr>\n",
       "      <th>1</th>\n",
       "      <td>[[18, 2, 4, 3, 2, 9, 5, 3, 13, 6, 5, 3, 12, 7,...</td>\n",
       "      <td>0</td>\n",
       "    </tr>\n",
       "    <tr>\n",
       "      <th>2</th>\n",
       "      <td>[[18, 2, 4, 3, 2, 9, 5, 3, 13, 6, 5, 3, 12, 7,...</td>\n",
       "      <td>0</td>\n",
       "    </tr>\n",
       "    <tr>\n",
       "      <th>3</th>\n",
       "      <td>[[18, 2, 4, 3, 2, 9, 5, 3, 13, 6, 5, 3, 12, 7,...</td>\n",
       "      <td>0</td>\n",
       "    </tr>\n",
       "    <tr>\n",
       "      <th>4</th>\n",
       "      <td>[[18, 2, 4, 3, 2, 9, 5, 3, 13, 6, 5, 3, 12, 7,...</td>\n",
       "      <td>0</td>\n",
       "    </tr>\n",
       "    <tr>\n",
       "      <th>...</th>\n",
       "      <td>...</td>\n",
       "      <td>...</td>\n",
       "    </tr>\n",
       "    <tr>\n",
       "      <th>113135</th>\n",
       "      <td>[[18, 2, 4, 3, 2, 9, 5, 3, 13, 6, 14, 8, 7, 8,...</td>\n",
       "      <td>3</td>\n",
       "    </tr>\n",
       "    <tr>\n",
       "      <th>113202</th>\n",
       "      <td>[[18, 2, 4, 3, 2, 9, 13, 8, 7, 8, 9, 4, 2, 15,...</td>\n",
       "      <td>3</td>\n",
       "    </tr>\n",
       "    <tr>\n",
       "      <th>113204</th>\n",
       "      <td>[[12, 3, 6, 7, 6, 18, 17, 16, 15, 6, 6, 14, 2,...</td>\n",
       "      <td>3</td>\n",
       "    </tr>\n",
       "    <tr>\n",
       "      <th>113929</th>\n",
       "      <td>[[18, 2, 4, 3, 2, 9, 5, 3, 13, 6, 10, 2, 12, 3...</td>\n",
       "      <td>3</td>\n",
       "    </tr>\n",
       "    <tr>\n",
       "      <th>113931</th>\n",
       "      <td>[[12, 3, 6, 7, 6, 18, 17, 16, 15, 6, 6, 14, 2,...</td>\n",
       "      <td>3</td>\n",
       "    </tr>\n",
       "  </tbody>\n",
       "</table>\n",
       "<p>3200 rows × 2 columns</p>\n",
       "</div>"
      ],
      "text/plain": [
       "                                                      seq label\n",
       "0       [[18, 2, 4, 3, 2, 9, 5, 3, 13, 6, 5, 3, 12, 7,...     0\n",
       "1       [[18, 2, 4, 3, 2, 9, 5, 3, 13, 6, 5, 3, 12, 7,...     0\n",
       "2       [[18, 2, 4, 3, 2, 9, 5, 3, 13, 6, 5, 3, 12, 7,...     0\n",
       "3       [[18, 2, 4, 3, 2, 9, 5, 3, 13, 6, 5, 3, 12, 7,...     0\n",
       "4       [[18, 2, 4, 3, 2, 9, 5, 3, 13, 6, 5, 3, 12, 7,...     0\n",
       "...                                                   ...   ...\n",
       "113135  [[18, 2, 4, 3, 2, 9, 5, 3, 13, 6, 14, 8, 7, 8,...     3\n",
       "113202  [[18, 2, 4, 3, 2, 9, 13, 8, 7, 8, 9, 4, 2, 15,...     3\n",
       "113204  [[12, 3, 6, 7, 6, 18, 17, 16, 15, 6, 6, 14, 2,...     3\n",
       "113929  [[18, 2, 4, 3, 2, 9, 5, 3, 13, 6, 10, 2, 12, 3...     3\n",
       "113931  [[12, 3, 6, 7, 6, 18, 17, 16, 15, 6, 6, 14, 2,...     3\n",
       "\n",
       "[3200 rows x 2 columns]"
      ]
     },
     "execution_count": 4,
     "metadata": {},
     "output_type": "execute_result"
    }
   ],
   "source": [
    "bglog.train_df"
   ]
  },
  {
   "cell_type": "code",
   "execution_count": null,
   "id": "6007aa5e-672b-49d7-97ab-04b618e8ac7b",
   "metadata": {},
   "outputs": [],
   "source": []
  },
  {
   "cell_type": "code",
   "execution_count": null,
   "id": "538e6237-a987-43cd-98f3-9a6c0381c6ea",
   "metadata": {},
   "outputs": [],
   "source": []
  },
  {
   "cell_type": "code",
   "execution_count": null,
   "id": "7233e9ce-6aaa-45ea-976d-b1b2a019f088",
   "metadata": {},
   "outputs": [],
   "source": []
  },
  {
   "cell_type": "code",
   "execution_count": null,
   "id": "8914e254-727a-4c3a-b4f4-f19ecac1cc89",
   "metadata": {},
   "outputs": [],
   "source": [
    "f1 = [0, 1, 0, 0, 0]\n",
    "f2 = [0, 0, 2, 0, 0]\n",
    "f3 = [0, 0, 3, 0, 0]\n",
    "f4 = [0, 0, 4, 0, 0]\n",
    "b1 = [f1, f2]\n",
    "b2 = [f2, f3]\n",
    "\n",
    "a = np.array([b1, b2])\n",
    "print(a.shape)\n",
    "print(a)\n",
    "b = np.reshape(a, (4, 5))\n",
    "print(b.shape)\n",
    "print(b)"
   ]
  },
  {
   "cell_type": "code",
   "execution_count": null,
   "id": "133fea49-ef92-43b9-b465-f80f923da9e5",
   "metadata": {},
   "outputs": [],
   "source": [
    "len(train_data)"
   ]
  },
  {
   "cell_type": "raw",
   "id": "5f41ad36-8896-41b1-8b4f-b41bd7966dd0",
   "metadata": {},
   "source": [
    "train_data.shape"
   ]
  }
 ],
 "metadata": {
  "kernelspec": {
   "display_name": "Python 3 (ipykernel)",
   "language": "python",
   "name": "python3"
  },
  "language_info": {
   "codemirror_mode": {
    "name": "ipython",
    "version": 3
   },
   "file_extension": ".py",
   "mimetype": "text/x-python",
   "name": "python",
   "nbconvert_exporter": "python",
   "pygments_lexer": "ipython3",
   "version": "3.9.12"
  }
 },
 "nbformat": 4,
 "nbformat_minor": 5
}
