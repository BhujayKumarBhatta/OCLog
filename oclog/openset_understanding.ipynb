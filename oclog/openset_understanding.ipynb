{
 "cells": [
  {
   "cell_type": "code",
   "execution_count": 1,
   "id": "01de313b",
   "metadata": {},
   "outputs": [],
   "source": [
    "from bglog import BGLog, get_embedding_layer\n",
    "import numpy as np\n",
    "import tensorflow as tf\n",
    "tf.random.set_seed(123)\n",
    "from pretraining import LogLineEncoder, LogSeqEncoder, LogClassifier\n",
    "from boundary_loss import euclidean_metric, BoundaryLoss"
   ]
  },
  {
   "cell_type": "code",
   "execution_count": 2,
   "id": "b4bdb8f5",
   "metadata": {},
   "outputs": [],
   "source": [
    "bglog = BGLog(save_padded_num_sequences=False, load_from_pkl=True)"
   ]
  },
  {
   "cell_type": "code",
   "execution_count": 3,
   "id": "a5553c38",
   "metadata": {},
   "outputs": [
    {
     "name": "stdout",
     "output_type": "stream",
     "text": [
      "padded_num_seq_df loaded from data\\bgl_padded_num_seq_df.pkl\n",
      "trained tokenizer, tk, loaded from data\\bgltk.pkl\n",
      "train_0:, 800\n",
      "test_0:, 200\n",
      "train_1:, 800\n",
      "test_1:, 200\n",
      "train_2:, 800\n",
      "test_2:, 200\n",
      "train_3:, 800\n",
      "test_3:, 102\n",
      "4 class does not have 800 records, it has only 628 records\n",
      "test_4:, 0\n",
      "5 class does not have 800 records, it has only 165 records\n",
      "5 class does not have 200 records, it has only 165 records\n",
      "6 class does not have 800 records, it has only 75 records\n",
      "6 class does not have 200 records, it has only 75 records\n",
      "[[1. 0. 0. 0.]\n",
      " [1. 0. 0. 0.]]\n",
      "<BatchDataset shapes: ((32, 32, 64), (32, 4)), types: (tf.int32, tf.float32)>\n",
      "<BatchDataset shapes: ((32, 32, 64), (32, 4)), types: (tf.int32, tf.float32)>\n"
     ]
    }
   ],
   "source": [
    "train_test = bglog.get_tensor_train_test(ablation=1000)\n",
    "train_data, test_data = train_test"
   ]
  },
  {
   "cell_type": "code",
   "execution_count": 4,
   "id": "c69ee13d",
   "metadata": {},
   "outputs": [
    {
     "name": "stdout",
     "output_type": "stream",
     "text": [
      "vocab_size: 50\n",
      "sample_x_train.shape: (32, 32, 64)\n",
      "loglineEmbedding.shape: (32, 32, 64)\n"
     ]
    }
   ],
   "source": [
    "line_encoder =   LogLineEncoder(bglog, chars_in_line=64)\n",
    "# the model doesn't have a state unless it is called at least once\n",
    "# in order to initialize the model we need a sample data \n",
    "sample_train_data = next(iter(train_data))\n",
    "sample_x_train = sample_train_data[0]\n",
    "print('sample_x_train.shape:', sample_x_train.shape)\n",
    "# now we will initialize the model with the sample data\n",
    "loglineEmbedding = line_encoder(sample_x_train)\n",
    "print('loglineEmbedding.shape:', loglineEmbedding.shape)\n",
    "# Now the model have a state and can be inspected        \n",
    "# line_encoder.summary()"
   ]
  },
  {
   "cell_type": "code",
   "execution_count": 5,
   "id": "dbf51c88",
   "metadata": {},
   "outputs": [
    {
     "name": "stdout",
     "output_type": "stream",
     "text": [
      "logSeqEmbedding.shape: (32, 16)\n"
     ]
    }
   ],
   "source": [
    "logSeqencer =   LogSeqEncoder(line_in_seq=32)\n",
    "# the model doesn't have a state unless it is called at least once\n",
    "logSeqEmbedding = logSeqencer(loglineEmbedding)\n",
    "print('logSeqEmbedding.shape:', logSeqEmbedding.shape)\n",
    "# Now the model have a state and can be inspected        \n",
    "# logSeqencer.summary()"
   ]
  },
  {
   "cell_type": "code",
   "execution_count": 11,
   "id": "0ad753c8",
   "metadata": {},
   "outputs": [],
   "source": [
    "log_classifier = LogClassifier(line_encoder=line_encoder, seq_encoder=logSeqencer, num_classes=4)\n",
    "# log_classifier(sample_x_train)  "
   ]
  },
  {
   "cell_type": "code",
   "execution_count": null,
   "id": "a6a20086",
   "metadata": {},
   "outputs": [],
   "source": [
    "# log_classifier.summary()"
   ]
  },
  {
   "cell_type": "code",
   "execution_count": 8,
   "id": "32c64981",
   "metadata": {},
   "outputs": [
    {
     "name": "stdout",
     "output_type": "stream",
     "text": [
      "WARNING:tensorflow:AutoGraph could not transform <bound method LogLineEncoder.call of <pretraining.LogLineEncoder object at 0x00000238D5291B80>> and will run it as-is.\n",
      "Please report this to the TensorFlow team. When filing the bug, set the verbosity to 10 (on Linux, `export AUTOGRAPH_VERBOSITY=10`) and attach the full output.\n",
      "Cause: module 'gast' has no attribute 'Index'\n",
      "To silence this warning, decorate the function with @tf.autograph.experimental.do_not_convert\n",
      "WARNING: AutoGraph could not transform <bound method LogLineEncoder.call of <pretraining.LogLineEncoder object at 0x00000238D5291B80>> and will run it as-is.\n",
      "Please report this to the TensorFlow team. When filing the bug, set the verbosity to 10 (on Linux, `export AUTOGRAPH_VERBOSITY=10`) and attach the full output.\n",
      "Cause: module 'gast' has no attribute 'Index'\n",
      "To silence this warning, decorate the function with @tf.autograph.experimental.do_not_convert\n",
      "WARNING:tensorflow:AutoGraph could not transform <bound method LogSeqEncoder.call of <pretraining.LogSeqEncoder object at 0x00000238D52910A0>> and will run it as-is.\n",
      "Please report this to the TensorFlow team. When filing the bug, set the verbosity to 10 (on Linux, `export AUTOGRAPH_VERBOSITY=10`) and attach the full output.\n",
      "Cause: module 'gast' has no attribute 'Index'\n",
      "To silence this warning, decorate the function with @tf.autograph.experimental.do_not_convert\n",
      "WARNING: AutoGraph could not transform <bound method LogSeqEncoder.call of <pretraining.LogSeqEncoder object at 0x00000238D52910A0>> and will run it as-is.\n",
      "Please report this to the TensorFlow team. When filing the bug, set the verbosity to 10 (on Linux, `export AUTOGRAPH_VERBOSITY=10`) and attach the full output.\n",
      "Cause: module 'gast' has no attribute 'Index'\n",
      "To silence this warning, decorate the function with @tf.autograph.experimental.do_not_convert\n",
      "WARNING:tensorflow:Gradients do not exist for variables ['log_seq_encoder/conv1d_3/kernel:0', 'log_seq_encoder/conv1d_3/bias:0', 'log_seq_encoder/conv1d_4/kernel:0', 'log_seq_encoder/conv1d_4/bias:0'] when minimizing the loss.\n",
      "WARNING:tensorflow:Gradients do not exist for variables ['log_seq_encoder/conv1d_3/kernel:0', 'log_seq_encoder/conv1d_3/bias:0', 'log_seq_encoder/conv1d_4/kernel:0', 'log_seq_encoder/conv1d_4/bias:0'] when minimizing the loss.\n",
      "WARNING:tensorflow:Gradients do not exist for variables ['log_seq_encoder/conv1d_3/kernel:0', 'log_seq_encoder/conv1d_3/bias:0', 'log_seq_encoder/conv1d_4/kernel:0', 'log_seq_encoder/conv1d_4/bias:0'] when minimizing the loss.\n",
      "WARNING:tensorflow:Gradients do not exist for variables ['log_seq_encoder/conv1d_3/kernel:0', 'log_seq_encoder/conv1d_3/bias:0', 'log_seq_encoder/conv1d_4/kernel:0', 'log_seq_encoder/conv1d_4/bias:0'] when minimizing the loss.\n",
      "100/100 [==============================] - 9s 88ms/step - loss: 0.3961 - accuracy: 0.8656 - precision: 0.9614 - recall: 0.7619 - val_loss: 0.0231 - val_accuracy: 0.9985 - val_precision: 0.9985 - val_recall: 0.9940\n"
     ]
    }
   ],
   "source": [
    "log_classifier.compile(optimizer='adam', \n",
    "                  loss='categorical_crossentropy',\n",
    "              metrics=['accuracy', tf.keras.metrics.Precision(), tf.keras.metrics.Recall()])\n",
    "hist = log_classifier.fit(train_data, validation_data=test_data, epochs=1) "
   ]
  },
  {
   "cell_type": "code",
   "execution_count": 10,
   "id": "3b44c3bd",
   "metadata": {},
   "outputs": [],
   "source": [
    "# log_classifier(sample_x_train)   "
   ]
  },
  {
   "cell_type": "code",
   "execution_count": 16,
   "id": "a5fc220d",
   "metadata": {},
   "outputs": [],
   "source": []
  },
  {
   "cell_type": "code",
   "execution_count": 21,
   "id": "c80042db",
   "metadata": {},
   "outputs": [],
   "source": [
    "class OpenSet:\n",
    "    ''' \n",
    "    self.num_labels = number of classes\n",
    "    self.embedding_size = number of neurons in the logits layers of the pretrained model'''\n",
    "    def __init__(self, num_labels, pretrained_model, embedding_size,\n",
    "                lr_boundary):\n",
    "#         super().__init__():\n",
    "        self.model = pretrained_model        \n",
    "        self.centroids = None\n",
    "        self.num_labels = num_labels\n",
    "        self.embedding_size = embedding_size\n",
    "        self.delta = None\n",
    "        self.lr_boundary = lr_boundary\n",
    "        \n",
    "    \n",
    "    def train(self, data):\n",
    "        criterion_boundary = BoundaryLoss(num_labels=self.num_labels)\n",
    "        # delta is getting calculated inside the  BoundaryLoss class as well\n",
    "        # however that calculated delta is used for calculating the loss \n",
    "        # that delta is not updating the criterion_boundary.delta which is \n",
    "        # a randomly initialized parameter. \n",
    "        # Hence the following softplus is on randomly initialized trainable parameters\n",
    "        # and not softplus on softplus\n",
    "        self.delta = tf.nn.softplus(criterion_boundary.delta)\n",
    "        self.centroids = self.centroids_cal(data)\n",
    "        optimizer = tf.keras.optimizers.Adam(learning_rate=self.lr_boundary) # does it take criterion_boundary.parameters() ??\n",
    "        wait = 0\n",
    "        best_delta, best_centroids = None, None\n",
    "        \n",
    "        \n",
    "        \n",
    "        \n",
    "    def centroids_cal(self, data):\n",
    "        centroids = np.zeros(self.num_labels)\n",
    "        total_labels = np.empty(self.num_labels)\n",
    "        for batch in data:\n",
    "            logseq_batch, label_batch = batch\n",
    "            ## (32, 32, 64), (32, 4)\n",
    "            features = self.model(logseq_batch, extract_feature=True)\n",
    "            ## (32, 16) features - 32 sequence of line each haaving 64 characrers\n",
    "            ## produces a feaure vector of dimension 16. \n",
    "            for i in range(len(label_batch)): # (32, 4) --> here length is 32\n",
    "                label = label_batch[i] # label looks like [0 0 0 1]\n",
    "                numeric_label = np.argmax(label) # index position of the label = 3 , so it is actually class =3\n",
    "                ##total_labels = [0 0 0 0] each col representing a class \n",
    "                ## count the number for each class\n",
    "                total_labels[numeric_label] += 1 \n",
    "                centroids[numeric_label] += features[i] \n",
    "                # each row index in the centroid array is a class\n",
    "                # we add first identify the feature belonging to which class by the numeric_label\n",
    "                # Then add all the features belonging to the class in the corresponding row of the centroid arr\n",
    "        ### shape of centroids is (4, 16) whereas shape of total_labels is (1, 4)\n",
    "        ### reshape the total_labels as 4,1 ==> [[0], [0], [0], [0]]==> 4 rows \n",
    "        ## so that we can divide the centroids array by the total_labels\n",
    "        total_label_reshaped = np.reshape(total_labels, (self.num_labels, 1))\n",
    "        centroids /= total_label_reshaped\n",
    "        return centroids\n",
    "\n",
    "    \n",
    "\n",
    "    \n",
    "        \n",
    "        \n",
    "        "
   ]
  },
  {
   "cell_type": "code",
   "execution_count": 22,
   "id": "ec80e511",
   "metadata": {},
   "outputs": [],
   "source": [
    "oset = OpenSet(4, log_classifier, 16, 0.05)"
   ]
  },
  {
   "cell_type": "code",
   "execution_count": 23,
   "id": "63da2496",
   "metadata": {},
   "outputs": [
    {
     "ename": "ValueError",
     "evalue": "setting an array element with a sequence.",
     "output_type": "error",
     "traceback": [
      "\u001b[1;31m---------------------------------------------------------------------------\u001b[0m",
      "\u001b[1;31mTypeError\u001b[0m                                 Traceback (most recent call last)",
      "\u001b[1;32m~\\anaconda3\\envs\\env3\\lib\\site-packages\\tensorflow\\python\\framework\\ops.py\u001b[0m in \u001b[0;36m__float__\u001b[1;34m(self)\u001b[0m\n\u001b[0;32m    977\u001b[0m   \u001b[1;32mdef\u001b[0m \u001b[0m__float__\u001b[0m\u001b[1;33m(\u001b[0m\u001b[0mself\u001b[0m\u001b[1;33m)\u001b[0m\u001b[1;33m:\u001b[0m\u001b[1;33m\u001b[0m\u001b[1;33m\u001b[0m\u001b[0m\n\u001b[1;32m--> 978\u001b[1;33m     \u001b[1;32mreturn\u001b[0m \u001b[0mfloat\u001b[0m\u001b[1;33m(\u001b[0m\u001b[0mself\u001b[0m\u001b[1;33m.\u001b[0m\u001b[0m_numpy\u001b[0m\u001b[1;33m(\u001b[0m\u001b[1;33m)\u001b[0m\u001b[1;33m)\u001b[0m\u001b[1;33m\u001b[0m\u001b[1;33m\u001b[0m\u001b[0m\n\u001b[0m\u001b[0;32m    979\u001b[0m \u001b[1;33m\u001b[0m\u001b[0m\n",
      "\u001b[1;31mTypeError\u001b[0m: only size-1 arrays can be converted to Python scalars",
      "\nThe above exception was the direct cause of the following exception:\n",
      "\u001b[1;31mValueError\u001b[0m                                Traceback (most recent call last)",
      "\u001b[1;32mC:\\Users\\BHUJAY~1\\AppData\\Local\\Temp/ipykernel_24932/2131960519.py\u001b[0m in \u001b[0;36m<module>\u001b[1;34m\u001b[0m\n\u001b[1;32m----> 1\u001b[1;33m \u001b[0moset\u001b[0m\u001b[1;33m.\u001b[0m\u001b[0mtrain\u001b[0m\u001b[1;33m(\u001b[0m\u001b[0mtrain_data\u001b[0m\u001b[1;33m)\u001b[0m\u001b[1;33m\u001b[0m\u001b[1;33m\u001b[0m\u001b[0m\n\u001b[0m",
      "\u001b[1;32mC:\\Users\\BHUJAY~1\\AppData\\Local\\Temp/ipykernel_24932/2452645238.py\u001b[0m in \u001b[0;36mtrain\u001b[1;34m(self, data)\u001b[0m\n\u001b[0;32m     23\u001b[0m         \u001b[1;31m# and not softplus on softplus\u001b[0m\u001b[1;33m\u001b[0m\u001b[1;33m\u001b[0m\u001b[1;33m\u001b[0m\u001b[0m\n\u001b[0;32m     24\u001b[0m         \u001b[0mself\u001b[0m\u001b[1;33m.\u001b[0m\u001b[0mdelta\u001b[0m \u001b[1;33m=\u001b[0m \u001b[0mtf\u001b[0m\u001b[1;33m.\u001b[0m\u001b[0mnn\u001b[0m\u001b[1;33m.\u001b[0m\u001b[0msoftplus\u001b[0m\u001b[1;33m(\u001b[0m\u001b[0mcriterion_boundary\u001b[0m\u001b[1;33m.\u001b[0m\u001b[0mdelta\u001b[0m\u001b[1;33m)\u001b[0m\u001b[1;33m\u001b[0m\u001b[1;33m\u001b[0m\u001b[0m\n\u001b[1;32m---> 25\u001b[1;33m         \u001b[0mself\u001b[0m\u001b[1;33m.\u001b[0m\u001b[0mcentroids\u001b[0m \u001b[1;33m=\u001b[0m \u001b[0mself\u001b[0m\u001b[1;33m.\u001b[0m\u001b[0mcentroids_cal\u001b[0m\u001b[1;33m(\u001b[0m\u001b[0mdata\u001b[0m\u001b[1;33m)\u001b[0m\u001b[1;33m\u001b[0m\u001b[1;33m\u001b[0m\u001b[0m\n\u001b[0m\u001b[0;32m     26\u001b[0m         \u001b[0moptimizer\u001b[0m \u001b[1;33m=\u001b[0m \u001b[0mtf\u001b[0m\u001b[1;33m.\u001b[0m\u001b[0mkeras\u001b[0m\u001b[1;33m.\u001b[0m\u001b[0moptimizers\u001b[0m\u001b[1;33m.\u001b[0m\u001b[0mAdam\u001b[0m\u001b[1;33m(\u001b[0m\u001b[0mlearning_rate\u001b[0m\u001b[1;33m=\u001b[0m\u001b[0mself\u001b[0m\u001b[1;33m.\u001b[0m\u001b[0mlr_boundary\u001b[0m\u001b[1;33m)\u001b[0m \u001b[1;31m# does it take criterion_boundary.parameters() ??\u001b[0m\u001b[1;33m\u001b[0m\u001b[1;33m\u001b[0m\u001b[0m\n\u001b[0;32m     27\u001b[0m         \u001b[0mwait\u001b[0m \u001b[1;33m=\u001b[0m \u001b[1;36m0\u001b[0m\u001b[1;33m\u001b[0m\u001b[1;33m\u001b[0m\u001b[0m\n",
      "\u001b[1;32mC:\\Users\\BHUJAY~1\\AppData\\Local\\Temp/ipykernel_24932/2452645238.py\u001b[0m in \u001b[0;36mcentroids_cal\u001b[1;34m(self, data)\u001b[0m\n\u001b[0;32m     46\u001b[0m                 \u001b[1;31m## count the number for each class\u001b[0m\u001b[1;33m\u001b[0m\u001b[1;33m\u001b[0m\u001b[1;33m\u001b[0m\u001b[0m\n\u001b[0;32m     47\u001b[0m                 \u001b[0mtotal_labels\u001b[0m\u001b[1;33m[\u001b[0m\u001b[0mnumeric_label\u001b[0m\u001b[1;33m]\u001b[0m \u001b[1;33m+=\u001b[0m \u001b[1;36m1\u001b[0m\u001b[1;33m\u001b[0m\u001b[1;33m\u001b[0m\u001b[0m\n\u001b[1;32m---> 48\u001b[1;33m                 \u001b[0mcentroids\u001b[0m\u001b[1;33m[\u001b[0m\u001b[0mnumeric_label\u001b[0m\u001b[1;33m]\u001b[0m \u001b[1;33m+=\u001b[0m \u001b[0mfeatures\u001b[0m\u001b[1;33m[\u001b[0m\u001b[0mi\u001b[0m\u001b[1;33m]\u001b[0m\u001b[1;33m\u001b[0m\u001b[1;33m\u001b[0m\u001b[0m\n\u001b[0m\u001b[0;32m     49\u001b[0m                 \u001b[1;31m# each row index in the centroid array is a class\u001b[0m\u001b[1;33m\u001b[0m\u001b[1;33m\u001b[0m\u001b[1;33m\u001b[0m\u001b[0m\n\u001b[0;32m     50\u001b[0m                 \u001b[1;31m# we add first identify the feature belonging to which class by the numeric_label\u001b[0m\u001b[1;33m\u001b[0m\u001b[1;33m\u001b[0m\u001b[1;33m\u001b[0m\u001b[0m\n",
      "\u001b[1;31mValueError\u001b[0m: setting an array element with a sequence."
     ]
    }
   ],
   "source": [
    "oset.train(train_data)"
   ]
  },
  {
   "cell_type": "code",
   "execution_count": null,
   "id": "e5d9a696",
   "metadata": {},
   "outputs": [],
   "source": []
  },
  {
   "cell_type": "code",
   "execution_count": 12,
   "id": "405b57cc",
   "metadata": {},
   "outputs": [
    {
     "data": {
      "text/plain": [
       "9.9"
      ]
     },
     "execution_count": 12,
     "metadata": {},
     "output_type": "execute_result"
    }
   ],
   "source": [
    "opt = tf.keras.optimizers.Adam(learning_rate=0.1)\n",
    "var1 = tf.Variable(10.0)\n",
    "loss = lambda: (var1 ** 2)/2.0       # d(loss)/d(var1) == var1\n",
    "step_count = opt.minimize(loss, [var1]).numpy()\n",
    "# The first step is `-learning_rate*sign(grad)`\n",
    "var1.numpy()\n"
   ]
  },
  {
   "cell_type": "code",
   "execution_count": null,
   "id": "714ac774",
   "metadata": {},
   "outputs": [],
   "source": []
  }
 ],
 "metadata": {
  "kernelspec": {
   "display_name": "Python 3 (ipykernel)",
   "language": "python",
   "name": "python3"
  },
  "language_info": {
   "codemirror_mode": {
    "name": "ipython",
    "version": 3
   },
   "file_extension": ".py",
   "mimetype": "text/x-python",
   "name": "python",
   "nbconvert_exporter": "python",
   "pygments_lexer": "ipython3",
   "version": "3.8.12"
  }
 },
 "nbformat": 4,
 "nbformat_minor": 5
}
